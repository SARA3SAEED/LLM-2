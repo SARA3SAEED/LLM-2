{
  "cells": [
    {
      "cell_type": "markdown",
      "metadata": {
        "id": "view-in-github",
        "colab_type": "text"
      },
      "source": [
        "<a href=\"https://colab.research.google.com/github/SARA3SAEED/LLM-2/blob/main/40_Building_Advanced_LLM_Applications_Module_5_Agentic_RAG.ipynb\" target=\"_parent\"><img src=\"https://colab.research.google.com/assets/colab-badge.svg\" alt=\"Open In Colab\"/></a>"
      ]
    },
    {
      "cell_type": "markdown",
      "metadata": {
        "id": "Iambj21L-3C_"
      },
      "source": [
        "# Deep Dive Agentic Retrieval Augmented Generation\n",
        "**Credits: Sai Panyam**\n",
        "\n",
        "An AI Agent is required when we use reasoning to determine which action(s) to take and in which order to take them. Essentially we use agents instead of a LLM directly to accomplish a set of tasks which requires planning, multi step reasoning, tool use and/or learning over time. Agents give us agency!!!\n",
        "\n",
        "Agency : The ability to take action or to choose what action to take\n",
        "\n",
        "In the context of RAG, we can plug in agents to enhance the reasoning prior to selection of RAG pipelines, within a RAG pipeline for retrieval or reranking and finally for synthesising before we send out the response. This improves RAG to a large extent by automating complex workflows and decisions that are required for a non trivial RAG use case.\n",
        "\n",
        "This notebook brings together the implementations of various techniques for Agentic RAG using LlamaIndex V 0.10.5\n"
      ]
    },
    {
      "cell_type": "code",
      "execution_count": null,
      "metadata": {
        "colab": {
          "base_uri": "https://localhost:8080/"
        },
        "collapsed": true,
        "id": "eb4uvwBG-MsC",
        "outputId": "c31bcdbe-d9bf-45bf-ef96-98bc24a6d492"
      },
      "outputs": [
        {
          "name": "stdout",
          "output_type": "stream",
          "text": [
            "\u001b[2K   \u001b[90m━━━━━━━━━━━━━━━━━━━━━━━━━━━━━━━━━━━━━━━━\u001b[0m \u001b[32m15.5/15.5 MB\u001b[0m \u001b[31m77.5 MB/s\u001b[0m eta \u001b[36m0:00:00\u001b[0m\n",
            "\u001b[2K   \u001b[90m━━━━━━━━━━━━━━━━━━━━━━━━━━━━━━━━━━━━━━━━\u001b[0m \u001b[32m2.0/2.0 MB\u001b[0m \u001b[31m60.3 MB/s\u001b[0m eta \u001b[36m0:00:00\u001b[0m\n",
            "\u001b[2K   \u001b[90m━━━━━━━━━━━━━━━━━━━━━━━━━━━━━━━━━━━━━━━━\u001b[0m \u001b[32m169.4/169.4 kB\u001b[0m \u001b[31m11.8 MB/s\u001b[0m eta \u001b[36m0:00:00\u001b[0m\n",
            "\u001b[2K   \u001b[90m━━━━━━━━━━━━━━━━━━━━━━━━━━━━━━━━━━━━━━━━\u001b[0m \u001b[32m75.6/75.6 kB\u001b[0m \u001b[31m3.4 MB/s\u001b[0m eta \u001b[36m0:00:00\u001b[0m\n",
            "\u001b[2K   \u001b[90m━━━━━━━━━━━━━━━━━━━━━━━━━━━━━━━━━━━━━━━━\u001b[0m \u001b[32m77.9/77.9 kB\u001b[0m \u001b[31m4.3 MB/s\u001b[0m eta \u001b[36m0:00:00\u001b[0m\n",
            "\u001b[2K   \u001b[90m━━━━━━━━━━━━━━━━━━━━━━━━━━━━━━━━━━━━━━━━\u001b[0m \u001b[32m360.7/360.7 kB\u001b[0m \u001b[31m19.4 MB/s\u001b[0m eta \u001b[36m0:00:00\u001b[0m\n",
            "\u001b[2K   \u001b[90m━━━━━━━━━━━━━━━━━━━━━━━━━━━━━━━━━━━━━━━━\u001b[0m \u001b[32m295.8/295.8 kB\u001b[0m \u001b[31m16.1 MB/s\u001b[0m eta \u001b[36m0:00:00\u001b[0m\n",
            "\u001b[2K   \u001b[90m━━━━━━━━━━━━━━━━━━━━━━━━━━━━━━━━━━━━━━━━\u001b[0m \u001b[32m1.1/1.1 MB\u001b[0m \u001b[31m38.6 MB/s\u001b[0m eta \u001b[36m0:00:00\u001b[0m\n",
            "\u001b[2K   \u001b[90m━━━━━━━━━━━━━━━━━━━━━━━━━━━━━━━━━━━━━━━━\u001b[0m \u001b[32m318.9/318.9 kB\u001b[0m \u001b[31m15.1 MB/s\u001b[0m eta \u001b[36m0:00:00\u001b[0m\n",
            "\u001b[2K   \u001b[90m━━━━━━━━━━━━━━━━━━━━━━━━━━━━━━━━━━━━━━━━\u001b[0m \u001b[32m49.2/49.2 kB\u001b[0m \u001b[31m2.7 MB/s\u001b[0m eta \u001b[36m0:00:00\u001b[0m\n",
            "\u001b[2K   \u001b[90m━━━━━━━━━━━━━━━━━━━━━━━━━━━━━━━━━━━━━━━━\u001b[0m \u001b[32m58.3/58.3 kB\u001b[0m \u001b[31m3.1 MB/s\u001b[0m eta \u001b[36m0:00:00\u001b[0m\n",
            "\u001b[2K     \u001b[90m━━━━━━━━━━━━━━━━━━━━━━━━━━━━━━━━━━━━━━━━\u001b[0m \u001b[32m50.4/50.4 kB\u001b[0m \u001b[31m2.6 MB/s\u001b[0m eta \u001b[36m0:00:00\u001b[0m\n",
            "\u001b[2K   \u001b[90m━━━━━━━━━━━━━━━━━━━━━━━━━━━━━━━━━━━━━━━━\u001b[0m \u001b[32m990.6/990.6 kB\u001b[0m \u001b[31m20.4 MB/s\u001b[0m eta \u001b[36m0:00:00\u001b[0m\n",
            "\u001b[2K   \u001b[90m━━━━━━━━━━━━━━━━━━━━━━━━━━━━━━━━━━━━━━━━\u001b[0m \u001b[32m384.0/384.0 kB\u001b[0m \u001b[31m21.4 MB/s\u001b[0m eta \u001b[36m0:00:00\u001b[0m\n",
            "\u001b[2K   \u001b[90m━━━━━━━━━━━━━━━━━━━━━━━━━━━━━━━━━━━━━━━━\u001b[0m \u001b[32m140.2/140.2 kB\u001b[0m \u001b[31m8.2 MB/s\u001b[0m eta \u001b[36m0:00:00\u001b[0m\n",
            "\u001b[2K   \u001b[90m━━━━━━━━━━━━━━━━━━━━━━━━━━━━━━━━━━━━━━━━\u001b[0m \u001b[32m141.9/141.9 kB\u001b[0m \u001b[31m8.6 MB/s\u001b[0m eta \u001b[36m0:00:00\u001b[0m\n",
            "\u001b[2K   \u001b[90m━━━━━━━━━━━━━━━━━━━━━━━━━━━━━━━━━━━━━━━━\u001b[0m \u001b[32m204.3/204.3 kB\u001b[0m \u001b[31m4.5 MB/s\u001b[0m eta \u001b[36m0:00:00\u001b[0m\n",
            "\u001b[2K   \u001b[90m━━━━━━━━━━━━━━━━━━━━━━━━━━━━━━━━━━━━━━━━\u001b[0m \u001b[32m2.3/2.3 MB\u001b[0m \u001b[31m47.0 MB/s\u001b[0m eta \u001b[36m0:00:00\u001b[0m\n",
            "\u001b[?25h"
          ]
        }
      ],
      "source": [
        "!pip install llama-index -q\n",
        "!pip install llama-index-tools-wolfram-alpha -q\n",
        "!pip install langchain -q\n",
        "!pip install langchain_experimental -q"
      ]
    },
    {
      "cell_type": "markdown",
      "metadata": {
        "id": "OJ1wzbEehAhc"
      },
      "source": [
        "## Setup LLM\n",
        "For now let us use OpenAI"
      ]
    },
    {
      "cell_type": "code",
      "execution_count": null,
      "metadata": {
        "colab": {
          "base_uri": "https://localhost:8080/"
        },
        "id": "zlIheUm5hHIk",
        "outputId": "bf0aaca3-d3ae-407b-d6cf-68d779da0d14"
      },
      "outputs": [
        {
          "output_type": "stream",
          "name": "stdout",
          "text": [
            "sk-YOUR-OPENAI-API-KEY\n"
          ]
        }
      ],
      "source": [
        "import os\n",
        "import nest_asyncio\n",
        "\n",
        "# This is needed for jupyter notebook to do asynchronous rendering\n",
        "nest_asyncio.apply()\n",
        "\n",
        "# Set the OpenAI API key as an environment variable\n",
        "os.environ[\"OPENAI_API_KEY\"] = \"sk-YOUR-OPENAI-API-KEY\"\n",
        "\n",
        "# Verify that the key is set (optional)\n",
        "print(os.getenv(\"OPENAI_API_KEY\"))"
      ]
    },
    {
      "cell_type": "code",
      "execution_count": null,
      "metadata": {
        "id": "h9eIsPDaicOy"
      },
      "outputs": [],
      "source": [
        "from llama_index.llms.openai import OpenAI\n",
        "from llama_index.embeddings.openai import OpenAIEmbedding\n",
        "from llama_index.core import Settings\n",
        "# Setup OpenAI Model and Embeddings used for indexing the documents\n",
        "Settings.llm = OpenAI(model='gpt-4-0125-preview', temperature=0.2)\n",
        "Settings.embed_model = OpenAIEmbedding(model='text-embedding-3-small')\n",
        "Settings.chunk_size = 1024"
      ]
    },
    {
      "cell_type": "markdown",
      "metadata": {
        "id": "1oaL_WwokohP"
      },
      "source": [
        "## Load Data"
      ]
    },
    {
      "cell_type": "code",
      "execution_count": null,
      "metadata": {
        "colab": {
          "base_uri": "https://localhost:8080/"
        },
        "id": "NhBdEH0cyN_M",
        "outputId": "eed85702-d2db-4010-f866-32f171038631"
      },
      "outputs": [
        {
          "name": "stdout",
          "output_type": "stream",
          "text": [
            "Mounted at /content/drive\n"
          ]
        }
      ],
      "source": [
        "from google.colab import drive\n",
        "drive.mount('/content/drive')"
      ]
    },
    {
      "cell_type": "code",
      "execution_count": null,
      "metadata": {
        "colab": {
          "base_uri": "https://localhost:8080/"
        },
        "id": "32Vy2QYNeNUH",
        "outputId": "f38d4db0-9c66-4ca4-df54-26c30c29ff9f"
      },
      "outputs": [
        {
          "name": "stdout",
          "output_type": "stream",
          "text": [
            "--2024-08-10 14:08:14--  https://raw.githubusercontent.com/run-llama/llama_index/main/docs/docs/examples/data/paul_graham/paul_graham_essay.txt\n",
            "Resolving raw.githubusercontent.com (raw.githubusercontent.com)... 185.199.108.133, 185.199.109.133, 185.199.110.133, ...\n",
            "Connecting to raw.githubusercontent.com (raw.githubusercontent.com)|185.199.108.133|:443... connected.\n",
            "HTTP request sent, awaiting response... 200 OK\n",
            "Length: 75042 (73K) [text/plain]\n",
            "Saving to: ‘/content/drive/MyDrive/RAG/data/paul_graham/paul_graham_essay.txt’\n",
            "\n",
            "/content/drive/MyDr 100%[===================>]  73.28K  --.-KB/s    in 0.01s   \n",
            "\n",
            "2024-08-10 14:08:14 (6.01 MB/s) - ‘/content/drive/MyDrive/RAG/data/paul_graham/paul_graham_essay.txt’ saved [75042/75042]\n",
            "\n"
          ]
        }
      ],
      "source": [
        "# Download Data\n",
        "data_dir = '/content/drive/MyDrive' # Input a data dir path from your mounted Google Drive\n",
        "\n",
        "os.makedirs(f'{data_dir}/RAG/data/paul_graham/', exist_ok=True)\n",
        "os.makedirs(f'{data_dir}/RAG/data/10k/', exist_ok=True)\n",
        "\n",
        "!wget 'https://raw.githubusercontent.com/run-llama/llama_index/main/docs/docs/examples/data/paul_graham/paul_graham_essay.txt' -O '{data_dir}/RAG/data/paul_graham/paul_graham_essay.txt'"
      ]
    },
    {
      "cell_type": "markdown",
      "metadata": {
        "id": "mlfWEAJ_llad"
      },
      "source": [
        "## Data Source\n",
        "Expedia Group 10k 2023\n",
        "https://d18rn0p25nwr6d.cloudfront.net/CIK-0001324424/1d1b7ef4-fd87-4efa-a8fd-f728746142d1.pdf\n",
        "\n",
        "Booking.com 10k 2023\n",
        "https://d18rn0p25nwr6d.cloudfront.net/CIK-0001075531/31c876e5-f44f-4645-8757-e2b828c23357.pdf\n",
        "\n",
        "Uber 10k 2023\n",
        "https://d18rn0p25nwr6d.cloudfront.net/CIK-0001543151/6fabd79a-baa9-4b08-84fe-deab4ef8415f.pdf\n",
        "\n",
        "Lyft 10k 2023\n",
        "https://d18rn0p25nwr6d.cloudfront.net/CIK-0001759509/d576a7f4-780c-4f39-86a6-aa54b03fa2ec.pdf\n"
      ]
    },
    {
      "cell_type": "markdown",
      "metadata": {
        "id": "TQUbcN3m0dF7"
      },
      "source": [
        "**Saved the above documents to 10k folder using these names: expedia_10k_2023.pdf, booking_10k_2023.pdf, uber_10k_2023.pdf, and lyft_10k_2023.pdf. **"
      ]
    },
    {
      "cell_type": "code",
      "execution_count": null,
      "metadata": {
        "id": "o_mnvlCkuou5"
      },
      "outputs": [],
      "source": [
        "from llama_index.core import SimpleDirectoryReader\n",
        "from llama_index.core import StorageContext, load_index_from_storage\n",
        "\n",
        "# In order to avoid repeated calls to LLMs we can store the documents index and load it if present else create it\n",
        "PERSIST_INDEX_DIR = f\"/{data_dir}/RAG/storage/\"\n",
        "def get_index(index_name, doc_file_path):\n",
        "  index = None\n",
        "  if not os.path.exists(f\"{PERSIST_INDEX_DIR}{index_name}/\"):\n",
        "    # Load the documents\n",
        "    documents = SimpleDirectoryReader(input_files=[doc_file_path]).load_data()\n",
        "    index = VectorStoreIndex.from_documents(documents)\n",
        "    # Store the index to disk\n",
        "    index.storage_context.persist(f\"{PERSIST_INDEX_DIR}{index_name}/\")\n",
        "  else: # Load index from disk\n",
        "    storage_context = StorageContext.from_defaults(persist_dir=f\"{PERSIST_INDEX_DIR}{index_name}/\")\n",
        "    index = load_index_from_storage(storage_context)\n",
        "\n",
        "  return index\n"
      ]
    },
    {
      "cell_type": "code",
      "execution_count": null,
      "metadata": {
        "id": "69AmSkbqkniY"
      },
      "outputs": [],
      "source": [
        "# Load Paul Graham Documents\n",
        "docs_paul_graham = SimpleDirectoryReader(f\"{data_dir}/RAG/data/paul_graham/\").load_data()"
      ]
    },
    {
      "cell_type": "markdown",
      "metadata": {
        "id": "4Bc_STiPeFPA"
      },
      "source": [
        "## Indexing Data"
      ]
    },
    {
      "cell_type": "code",
      "execution_count": null,
      "metadata": {
        "id": "Mh6HhK1UgjYH"
      },
      "outputs": [],
      "source": [
        "from llama_index.core import VectorStoreIndex, SummaryIndex\n",
        "# For paul graham we initialise a storage context and use that for both Vector Index and Summary Index\n",
        "pg_nodes = Settings.node_parser.get_nodes_from_documents(docs_paul_graham)\n",
        "pg_storage_context = StorageContext.from_defaults()\n",
        "pg_storage_context.docstore.add_documents(pg_nodes)\n",
        "\n",
        "# Setup Paul Graham Vector and Summary Index from Storage Context\n",
        "pg_summary_index = SummaryIndex(pg_nodes, storage_context=pg_storage_context)\n",
        "pg_vector_index = VectorStoreIndex(pg_nodes, storage_context=pg_storage_context)\n",
        "\n",
        "# Setup Uber and Lyft Vector Indices\n",
        "uber_index = get_index(\"uber_10k\",f\"{data_dir}/RAG/data/10k/uber_10k_2023.pdf\")\n",
        "lyft_index = get_index(\"lyft_10k\",f\"{data_dir}/RAG/data/10k/lyft_10k_2023.pdf\")\n",
        "expedia_index = get_index(\"expedia_10k\", f\"{data_dir}/RAG/data/10k/expedia_10k_2023.pdf\")\n",
        "booking_index = get_index(\"booking_10k\", f\"{data_dir}/RAG/data/10k/booking_10k_2023.pdf\")"
      ]
    },
    {
      "cell_type": "markdown",
      "metadata": {
        "id": "ymaR5TR0vY64"
      },
      "source": [
        "## Usage Patterns\n",
        "Usage patterns for Agents in a RAG context comprises of the following:\n",
        "\n",
        "-- Use an existing RAG pipeline as a tool by an agent\n",
        "\n",
        "-- Use an agent itself as a RAG tool\n",
        "\n",
        "-- Use an agent to retrieve tools from a RAG (Vector index) at query time using a provided context.\n",
        "\n",
        "-- Use an agent to do query planning over a set of existing tools\n",
        "\n",
        "-- Use an agent to select a tool from candidate tools which have been retrieved from a pool of tools using RAG.(This is especially useful when we have a large set of tools to select from)\n",
        "\n",
        "One can also mix and match the above usage patterns to realise a complex RAG application.\n",
        "\n",
        "RAG Agents can be further classified based on function. They can be used for routing, one-shot query planning, tool use, reason + act (ReAct) and dynamic planning and execution. These range from simple, low cost and low latency to complex, high cost and high latency.\n",
        "\n"
      ]
    },
    {
      "cell_type": "markdown",
      "metadata": {
        "id": "T_H7FKE1a14Q"
      },
      "source": [
        "## Routers\n",
        "Routing agent essentially uses an LLM to pick what downstream RAG pipeline to pick. This is agentic reasoning as it uses an LLM to reason about what RAG pipeline to pick based on the input query. This is the simplest form of agentic reasoning.\n",
        "\n",
        "\n",
        "Another class of routing is to select between Summarization and Question Answering RAG pipelines. Based on the input query the agent reasons about routing to the Summary query engine or the Vector Query Engine that are configured as tools."
      ]
    },
    {
      "cell_type": "markdown",
      "metadata": {
        "id": "m2hR8hqsmjwA"
      },
      "source": [
        "### Use Case: Query Engine Routing\n",
        "Use a selector to selct between different query engines (data sources)"
      ]
    },
    {
      "cell_type": "code",
      "execution_count": null,
      "metadata": {
        "id": "Dfy4njS8pGBO"
      },
      "outputs": [],
      "source": [
        "from llama_index.core.tools import QueryEngineTool, ToolMetadata\n",
        "from llama_index.core.query_engine import RouterQueryEngine\n",
        "from llama_index.core.selectors import LLMSingleSelector\n",
        "# Create the query engines\n",
        "expedia_engine = expedia_index.as_query_engine(similarity_top_k=3)\n",
        "booking_engine = booking_index.as_query_engine(similarity_top_k=3)\n",
        "\n",
        "uber_engine = uber_index.as_query_engine(similarity_top_k=3)\n",
        "lyft_engine = lyft_index.as_query_engine(similarity_top_k=3)\n",
        "\n",
        "expedia_query_tool = QueryEngineTool(\n",
        "                      query_engine=expedia_engine,\n",
        "                      metadata=ToolMetadata(\n",
        "                          name=\"expedia_10k\",\n",
        "                          description=\"Provides information about Expedia group's 10k filing for year 2023\"\n",
        "                      )\n",
        "                    )\n",
        "\n",
        "booking_query_tool = QueryEngineTool(\n",
        "                      query_engine=booking_engine,\n",
        "                      metadata=ToolMetadata(\n",
        "                          name=\"booking_10k\",\n",
        "                          description=\"Provides information about Booking 10k filing for year 2023\"\n",
        "                      )\n",
        "                    )\n",
        "uber_query_tool = QueryEngineTool(\n",
        "                      query_engine=uber_engine,\n",
        "                      metadata=ToolMetadata(\n",
        "                          name=\"uber_10k\",\n",
        "                          description=\"Provides information about Uber's 10k filing for year 2023\"\n",
        "                      )\n",
        "                    )\n",
        "lyft_query_tool = QueryEngineTool(\n",
        "                      query_engine=lyft_engine,\n",
        "                      metadata=ToolMetadata(\n",
        "                          name=\"lyft_10k\",\n",
        "                          description=\"Provides information about Lyft's 10k filing for year 2023\"\n",
        "                      )\n",
        "                    )\n",
        "\n",
        "tools = [expedia_query_tool, booking_query_tool, uber_query_tool, lyft_query_tool]\n",
        "\n",
        "filing_10k_engine = RouterQueryEngine(\n",
        "                      selector= LLMSingleSelector.from_defaults(),\n",
        "                      query_engine_tools=tools\n",
        "                      )"
      ]
    },
    {
      "cell_type": "code",
      "execution_count": null,
      "metadata": {
        "id": "cSORLWTmwAPz"
      },
      "outputs": [],
      "source": [
        "expedia_query = \"What is the income statement of Expedia for year 2023?\"\n",
        "booking_query = \"What is the income statement of booking.com for year 2023?\"\n",
        "uber_query = \"What is the income statement of Uber for year 2023?\"\n",
        "lyft_query = \"What is the income statement of Lyft for year 2023?\""
      ]
    },
    {
      "cell_type": "code",
      "execution_count": null,
      "metadata": {
        "colab": {
          "base_uri": "https://localhost:8080/"
        },
        "id": "PxkznSXx-jyj",
        "outputId": "30d13727-1a54-4757-d5ea-387f4d449ccd"
      },
      "outputs": [
        {
          "name": "stdout",
          "output_type": "stream",
          "text": [
            "The income statement of Expedia for the year 2023 is as follows:\n",
            "\n",
            "- Revenue: $12,839 million\n",
            "- Costs and expenses:\n",
            "  - Cost of revenue (exclusive of depreciation and amortization shown separately below): $1,573 million\n",
            "  - Selling and marketing - direct: $6,107 million\n",
            "  - Selling and marketing - indirect: $756 million\n",
            "  - Technology and content: $1,358 million\n",
            "  - General and administrative: $771 million\n",
            "  - Depreciation and amortization: $807 million\n",
            "  - Impairment of goodwill: $297 million\n",
            "  - Intangible and other long-term asset impairment: $129 million\n",
            "  - Legal reserves, occupancy tax, and other: $8 million\n",
            "- Operating income: $1,033 million\n",
            "- Other income (expense):\n",
            "  - Interest income: $207 million\n",
            "  - Interest expense: $(245) million\n",
            "  - Gain on sale of business, net: $25 million\n",
            "  - Other, net: $(2) million\n",
            "- Total other expense, net: $(15) million\n",
            "- Income before income taxes: $1,018 million\n",
            "- Provision for income taxes: $(330) million\n",
            "- Net income: $688 million\n",
            "- Net income attributable to Expedia Group, Inc.: $797 million\n",
            "- Earnings per share attributable to Expedia Group, Inc. available to common stockholders:\n",
            "  - Basic: $5.50\n",
            "  - Diluted: $5.31\n",
            "- Shares used in computing earnings per share (000's):\n",
            "  - Basic: 144,967\n",
            "  - Dilated: 150,228\n",
            "\n",
            ".------------------.\n",
            "\n",
            "The income statement for Booking Holdings Inc. for the year 2023 is as follows:\n",
            "\n",
            "- Revenues: $0 million\n",
            "- Operating expenses: $299 million\n",
            "- Operating loss: $(299) million\n",
            "- Interest expense: $(495) million\n",
            "- Other income (expense), net: $0 million\n",
            "- Equity in earnings (losses) of subsidiaries, net of tax: $5,074 million\n",
            "- Income before income taxes: $4,280 million\n",
            "- Income tax benefit: $(9) million\n",
            "- Net income: $4,289 million\n",
            "\n",
            ".------------------.\n",
            "\n"
          ]
        }
      ],
      "source": [
        "# Test individual query engines for output\n",
        "# Expedia and Booking.com\n",
        "response = expedia_engine.query(expedia_query)\n",
        "print (response)\n",
        "print(\"\\n.------------------.\\n\")\n",
        "response = booking_engine.query(booking_query)\n",
        "print (response)\n",
        "print(\"\\n.------------------.\\n\")\n"
      ]
    },
    {
      "cell_type": "code",
      "execution_count": null,
      "metadata": {
        "colab": {
          "base_uri": "https://localhost:8080/"
        },
        "id": "hQnnx2DXGaVJ",
        "outputId": "03350427-8959-442e-c520-3e1d90b9818b"
      },
      "outputs": [
        {
          "name": "stdout",
          "output_type": "stream",
          "text": [
            "The income statement of Uber for the year 2023 is as follows:\n",
            "\n",
            "- Revenue: $37,281 million\n",
            "- Costs and expenses:\n",
            "  - Cost of revenue, exclusive of depreciation and amortization: $22,457 million\n",
            "  - Operations and support: $2,689 million\n",
            "  - Sales and marketing: $4,356 million\n",
            "  - Research and development: $3,164 million\n",
            "  - General and administrative: $2,682 million\n",
            "  - Depreciation and amortization: $823 million\n",
            "  - Total costs and expenses: $36,171 million\n",
            "- Income from operations: $1,110 million\n",
            "- Interest expense: $(633) million\n",
            "- Other income (expense), net: $1,844 million\n",
            "- Income before income taxes and income from equity method investments: $2,321 million\n",
            "- Provision for (benefit from) income taxes: $213 million\n",
            "- Income from equity method investments: $48 million\n",
            "- Net income including non-controlling interests: $2,156 million\n",
            "- Less: net income attributable to non-controlling interests, net of tax: $269 million\n",
            "- Net income attributable to Uber Technologies, Inc.: $1,887 million\n",
            "\n",
            ".------------------.\n",
            "\n",
            "The income statement of Lyft for the year 2023 is as follows:\n",
            "\n",
            "- Revenue: $4,403,589,000\n",
            "- Costs and expenses:\n",
            "  - Cost of revenue: $2,543,954,000\n",
            "  - Operations and support: $427,239,000\n",
            "  - Research and development: $555,916,000\n",
            "  - Sales and marketing: $481,004,000\n",
            "  - General and administrative: $871,080,000\n",
            "  - Total costs and expenses: $4,879,193,000\n",
            "- Loss from operations: $(475,604,000)\n",
            "- Interest expense: $(26,223,000)\n",
            "- Other income (expense), net: $170,123,000\n",
            "- Loss before income taxes: $(331,704,000)\n",
            "- Provision for (benefit from) income taxes: $8,616,000\n",
            "- Net loss: $(340,320,000)\n",
            "- Net loss per share, basic and diluted: $(0.88)\n",
            "- Weighted-average number of shares outstanding used to compute net loss per share, basic and diluted: 385,335,000\n"
          ]
        }
      ],
      "source": [
        "# Uber and Lyft\n",
        "response = uber_engine.query(uber_query)\n",
        "print (response)\n",
        "print(\"\\n.------------------.\\n\")\n",
        "response = lyft_engine.query(lyft_query)\n",
        "print (response)"
      ]
    },
    {
      "cell_type": "code",
      "execution_count": null,
      "metadata": {
        "colab": {
          "base_uri": "https://localhost:8080/"
        },
        "id": "-fykQhs2F-cb",
        "outputId": "6030c3df-eda7-4930-95e7-713436993cc0"
      },
      "outputs": [
        {
          "name": "stdout",
          "output_type": "stream",
          "text": [
            "The income statement of Expedia for the year ended December 31, 2023, is as follows:\n",
            "\n",
            "- Revenue: $12,839 million\n",
            "- Costs and expenses:\n",
            "  - Cost of revenue (exclusive of depreciation and amortization shown separately below): $1,573 million\n",
            "  - Selling and marketing - direct: $6,107 million\n",
            "  - Selling and marketing - indirect: $756 million\n",
            "  - Technology and content: $1,358 million\n",
            "  - General and administrative: $771 million\n",
            "  - Depreciation and amortization: $807 million\n",
            "  - Impairment of goodwill: $297 million\n",
            "  - Intangible and other long-term asset impairment: $129 million\n",
            "  - Legal reserves, occupancy tax, and other: $8 million\n",
            "- Operating income: $1,033 million\n",
            "- Other income (expense):\n",
            "  - Interest income: $207 million\n",
            "  - Interest expense: $(245) million\n",
            "  - Gain on sale of business, net: $25 million\n",
            "  - Other, net: $(2) million\n",
            "  - Total other expense, net: $(15) million\n",
            "- Income before income taxes: $1,018 million\n",
            "- Provision for income taxes: $(330) million\n",
            "- Net income: $688 million\n",
            "- Net income attributable to Expedia Group, Inc.: $797 million\n",
            "- Earnings per share attributable to Expedia Group, Inc. available to common stockholders:\n",
            "  - Basic: $5.50\n",
            "  - Diluted: $5.31\n",
            "- Shares used in computing earnings per share (000's):\n",
            "  - Basic: 144,967\n",
            "  - Dilated: 150,228\n",
            "\n",
            ".------------------.\n",
            "\n",
            "The income statement of Booking Holdings Inc. for the year 2023 is as follows:\n",
            "\n",
            "- Revenues: $0\n",
            "- Operating expenses: $299 million\n",
            "- Operating loss: $(299) million\n",
            "- Interest expense: $(495) million\n",
            "- Other income (expense), net: $0\n",
            "- Equity in earnings (losses) of subsidiaries, net of tax: $5,074 million\n",
            "- Income before income taxes: $4,280 million\n",
            "- Income tax benefit: $(9) million\n",
            "- Net income: $4,289 million\n",
            "\n",
            ".------------------.\n",
            "\n"
          ]
        }
      ],
      "source": [
        "# Now use the Router Qery engine to route to specific query engines\n",
        "response = filing_10k_engine.query(expedia_query)\n",
        "print (response)\n",
        "print(\"\\n.------------------.\\n\")\n",
        "response = filing_10k_engine.query(booking_query)\n",
        "print (response)\n",
        "print(\"\\n.------------------.\\n\")\n"
      ]
    },
    {
      "cell_type": "code",
      "execution_count": null,
      "metadata": {
        "colab": {
          "base_uri": "https://localhost:8080/"
        },
        "id": "YpC-HuwtG7Eq",
        "outputId": "adb4576c-2a51-4d7a-c219-938a35b5c5b0"
      },
      "outputs": [
        {
          "name": "stdout",
          "output_type": "stream",
          "text": [
            "The income statement of Uber for the year 2023 is as follows:\n",
            "\n",
            "- Revenue: $37,281 million\n",
            "- Costs and expenses:\n",
            "  - Cost of revenue, exclusive of depreciation and amortization: $22,457 million\n",
            "  - Operations and support: $2,689 million\n",
            "  - Sales and marketing: $4,356 million\n",
            "  - Research and development: $3,164 million\n",
            "  - General and administrative: $2,682 million\n",
            "  - Depreciation and amortization: $823 million\n",
            "  - Total costs and expenses: $36,171 million\n",
            "- Income from operations: $1,110 million\n",
            "- Interest expense: ($633 million)\n",
            "- Other income (expense), net: $1,844 million\n",
            "- Income before income taxes and income from equity method investments: $2,321 million\n",
            "- Provision for income taxes: $213 million\n",
            "- Income from equity method investments: $48 million\n",
            "- Net income including non-controlling interests: $2,156 million\n",
            "- Less: net income attributable to non-controlling interests, net of tax: $269 million\n",
            "- Net income attributable to Uber Technologies, Inc.: $1,887 million\n",
            "\n",
            ".------------------.\n",
            "\n",
            "The income statement of Lyft for the year 2023 is as follows:\n",
            "\n",
            "- Revenue: $4,403,589,000\n",
            "- Costs and expenses:\n",
            "  - Cost of revenue: $2,543,954,000\n",
            "  - Operations and support: $427,239,000\n",
            "  - Research and development: $555,916,000\n",
            "  - Sales and marketing: $481,004,000\n",
            "  - General and administrative: $871,080,000\n",
            "  - Total costs and expenses: $4,879,193,000\n",
            "- Loss from operations: $(475,604,000)\n",
            "- Interest expense: $(26,223,000)\n",
            "- Other income (expense), net: $170,123,000\n",
            "- Loss before income taxes: $(331,704,000)\n",
            "- Provision for (benefit from) income taxes: $8,616,000\n",
            "- Net loss: $(340,320,000)\n",
            "- Net loss per share, basic and diluted: $(0.88)\n",
            "- Weighted-average number of shares outstanding used to compute net loss per share, basic and diluted: 385,335,000\n"
          ]
        }
      ],
      "source": [
        "response = filing_10k_engine.query(uber_query)\n",
        "print (response)\n",
        "print(\"\\n.------------------.\\n\")\n",
        "response = filing_10k_engine.query(lyft_query)\n",
        "print (response)"
      ]
    },
    {
      "cell_type": "markdown",
      "metadata": {
        "id": "Oy9qLGTLdkju"
      },
      "source": [
        "### Use Case : Joint QA & Summarization Router\n",
        "\n",
        "Deciding whether to do summarization using summary index query engine or semantic search using vector index query engine"
      ]
    },
    {
      "cell_type": "code",
      "execution_count": null,
      "metadata": {
        "id": "RmAl9a3k_zHW"
      },
      "outputs": [],
      "source": [
        "# Define the Summary and Vector query engines for Paul Graham text corpa\n",
        "\n",
        "summary_query_engine = pg_summary_index.as_query_engine(response_mode= \"tree_summarize\")\n",
        "vector_query_engine = pg_vector_index.as_query_engine()\n",
        "\n",
        "# Now Create the query engine tools from the above query engines\n",
        "summary_tool = QueryEngineTool(\n",
        "                query_engine=summary_query_engine,\n",
        "                metadata=ToolMetadata(\n",
        "                    name=\"Paul_Graham_Summary\",\n",
        "                    description=\"Summarizes the paul graham essay\"\n",
        "                    )\n",
        "                )\n",
        "vector_tool = QueryEngineTool(\n",
        "                query_engine=vector_query_engine,\n",
        "                metadata = ToolMetadata(\n",
        "                    name=\"Paul_Graham_QA\",\n",
        "                    description=\"Retrieves answers for questions from paul graham essay\"\n",
        "                    )\n",
        "                )\n",
        "pg_tools = [summary_tool, vector_tool]\n",
        "# Now define the Router Query Engine\n",
        "paul_graham_engine = RouterQueryEngine(\n",
        "                      selector= LLMSingleSelector.from_defaults(),\n",
        "                      query_engine_tools=pg_tools\n",
        "                      )"
      ]
    },
    {
      "cell_type": "code",
      "execution_count": null,
      "metadata": {
        "colab": {
          "base_uri": "https://localhost:8080/"
        },
        "id": "qILhFGMDSV28",
        "outputId": "8660aa61-3501-4991-c19a-7779cc878cf6"
      },
      "outputs": [
        {
          "name": "stdout",
          "output_type": "stream",
          "text": [
            "The essay by Paul Graham provides a comprehensive and personal account of his journey through various phases of his career, highlighting his experiences, insights, and the evolution of his work and interests. It begins with his early interests in writing and programming, leading to his exploration of Lisp and the creation of Viaweb, which was later acquired by Yahoo. Graham discusses the founding of Y Combinator (YC), a pioneering startup accelerator, and its impact on the startup ecosystem, including the introduction of the batch model and the focus on founder-friendly practices. He also touches on the development of Hacker News as a community platform and his return to programming with the creation of a new Lisp dialect called Bel. Throughout the essay, Graham reflects on the themes of discovery, the importance of working on what genuinely interests you, and the value of pursuing less prestigious or conventional paths to find real innovation and fulfillment. The narrative is interspersed with personal anecdotes, including his move to England and his decision to focus on painting, providing a nuanced view of his philosophy on work, creativity, and life.\n"
          ]
        }
      ],
      "source": [
        "# Summarization routing\n",
        "response = paul_graham_engine.query(\"Summarize the information contained in the paul graham essay\")\n",
        "print (response)"
      ]
    },
    {
      "cell_type": "code",
      "execution_count": null,
      "metadata": {
        "colab": {
          "base_uri": "https://localhost:8080/"
        },
        "id": "P-BIFny7S0yk",
        "outputId": "1db9597f-41a6-42e0-d366-56823e30a718"
      },
      "outputs": [
        {
          "name": "stdout",
          "output_type": "stream",
          "text": [
            "selections=[SingleSelection(index=0, reason='This option directly requests a summary of the content in the Paul Graham essay, which aligns with the task of summarizing the information contained within it.')]\n"
          ]
        }
      ],
      "source": [
        "# Confirm that the Summary Engine was used\n",
        "print (response.metadata[\"selector_result\"])"
      ]
    },
    {
      "cell_type": "code",
      "execution_count": null,
      "metadata": {
        "colab": {
          "base_uri": "https://localhost:8080/"
        },
        "id": "7BEsf_tNS_zE",
        "outputId": "5a2242cb-5d02-4c9c-b055-7b6e6504b3ba"
      },
      "outputs": [
        {
          "name": "stdout",
          "output_type": "stream",
          "text": [
            "Paul Graham co-founded Y Combinator (YC), initially funding it with his own money. He was instrumental in conceptualizing and implementing the unique batch model of funding startups, where a group of startups would be funded all at once, twice a year, and then intensely mentored over three months. This model was a departure from traditional venture capital practices and was designed to provide startups with the early-stage support and resources they needed, much like the support Graham himself had received from Julian. Graham also played a key role in the operational aspects of YC, using his own building in Cambridge as the headquarters and organizing weekly dinners where experts on startups were brought in to give talks. Additionally, he was responsible for the creation of the Summer Founders Program, aimed at encouraging undergraduates to start their own companies over the summer, which led to YC receiving a significant number of applications and ultimately broadening its scope beyond just undergraduates. Graham's vision and actions were central to establishing Y Combinator's innovative approach to startup funding and mentoring.\n"
          ]
        }
      ],
      "source": [
        "# Now route to a Question Answer engine\n",
        "response = paul_graham_engine.query(\"What did paul graham do at Y Combinator from the paul graham essay\")\n",
        "print (response)"
      ]
    },
    {
      "cell_type": "code",
      "execution_count": null,
      "metadata": {
        "colab": {
          "base_uri": "https://localhost:8080/"
        },
        "id": "_Z26L7eeTZ6P",
        "outputId": "8efc18ba-2705-49b2-eb85-1bec74359853"
      },
      "outputs": [
        {
          "name": "stdout",
          "output_type": "stream",
          "text": [
            "selections=[SingleSelection(index=1, reason='This choice directly involves retrieving specific information or answers from a Paul Graham essay, which aligns with the request for details about what Paul Graham did at Y Combinator.')]\n"
          ]
        }
      ],
      "source": [
        "# Confirm that Vector Engine was used.\n",
        "print (response.metadata[\"selector_result\"])"
      ]
    },
    {
      "cell_type": "markdown",
      "metadata": {
        "id": "GeCg37QpIT1q"
      },
      "source": [
        "### Agentic Router RAG\n",
        "--We will use LlamaIndex inbuilt OpenAI Agent which uses the query engines as tools\n",
        "\n",
        "-- We will also use the new OpenAIAssistant to do the same thing"
      ]
    },
    {
      "cell_type": "code",
      "execution_count": null,
      "metadata": {
        "colab": {
          "base_uri": "https://localhost:8080/"
        },
        "id": "Brg3YelQIQ3N",
        "outputId": "d254655c-aab6-4f7c-de59-9635e2ff13d9"
      },
      "outputs": [
        {
          "name": "stdout",
          "output_type": "stream",
          "text": [
            "Added user message to memory: What is the revenue growth of expedia in 2023?\n",
            "=== Calling Function ===\n",
            "Calling function: expedia_10k with args: {\"input\":\"revenue growth\"}\n",
            "Got output: The revenue growth for the year ended December 31, 2023, compared to 2022, was 10%.\n",
            "========================\n",
            "\n",
            "The revenue growth of Expedia in 2023 compared to 2022 was 10%.\n"
          ]
        }
      ],
      "source": [
        "from llama_index.agent.openai import OpenAIAgent\n",
        "agent = OpenAIAgent.from_tools(tools=tools, verbose=True)\n",
        "# Uncomment and use the below call for interactive session\n",
        "# agent.chat_repl()\n",
        "response = agent.chat(\"What is the revenue growth of expedia in 2023?\")\n",
        "print (response)"
      ]
    },
    {
      "cell_type": "code",
      "execution_count": null,
      "metadata": {
        "colab": {
          "base_uri": "https://localhost:8080/"
        },
        "id": "z5izZJUxLm-7",
        "outputId": "ee07cf58-8f55-465d-c8b8-992012c60b4f"
      },
      "outputs": [
        {
          "name": "stdout",
          "output_type": "stream",
          "text": [
            "=== Calling Function ===\n",
            "Calling function: booking_10k with args: {\"input\":\"revenue growth\"}\n",
            "Got output: The company expects year-over-year growth in revenues to be between 11% and 13% for the first quarter of 2024. For the full year, the anticipated growth in revenues is projected to be similar to the growth in gross bookings, which is expected to be slightly higher than 7%.\n",
            "========================\n",
            "The revenue growth of Booking for the year 2023 is expected to be similar to the growth in gross bookings, which is anticipated to be slightly higher than 7%. Additionally, for the first quarter of 2024, the year-over-year growth in revenues is expected to be between 11% and 13%.\n"
          ]
        }
      ],
      "source": [
        "from llama_index.agent.openai import OpenAIAssistantAgent\n",
        "agent = OpenAIAssistantAgent.from_new(\n",
        "          name = \"10K Filing QA Assistant\",\n",
        "          instructions= \"You are an assistant that provides answers to questions from 10k Filings\",\n",
        "          tools=tools,\n",
        "          verbose=True,\n",
        "          run_retrieve_sleep_time=1.0\n",
        "        )\n",
        "response = agent.chat(\"What is the revenue growth of booking in 2023?\")\n",
        "print (response)"
      ]
    },
    {
      "cell_type": "code",
      "execution_count": null,
      "metadata": {
        "colab": {
          "base_uri": "https://localhost:8080/"
        },
        "id": "5WMHaf8pY3AG",
        "outputId": "f79cf249-0c3b-4c51-e94b-1ef12e34447e"
      },
      "outputs": [
        {
          "name": "stdout",
          "output_type": "stream",
          "text": [
            "=== Calling Function ===\n",
            "Calling function: Paul_Graham_Summary with args: {\"input\":\"What I worked on\"}\n",
            "Got output: Before college, the focus was primarily on writing and programming, with an initial attempt at writing short stories and programming on an IBM 1401 using punch cards. This early exposure to programming, despite the limitations of technology at the time, laid the groundwork for a future in technology. The transition to microcomputers, specifically a TRS-80, marked a significant shift, allowing for more direct interaction with computing processes and the development of simple games, a model rocket prediction program, and a word processor.\n",
            "\n",
            "College years brought a pivot towards philosophy, but a growing interest in AI, influenced by literature and documentaries, eventually led to a switch in focus. Self-teaching in Lisp and an undergraduate thesis on reverse-engineering SHRDLU were pivotal moments, highlighting a deepening engagement with programming and AI. Post-college years included a move towards painting and a brief stint at a document creation software company, which, despite not being a perfect fit, offered valuable lessons and financial stability.\n",
            "\n",
            "The founding of Viaweb, an early web application company, represented a significant professional milestone. It was a venture that combined technical innovation with entrepreneurial spirit, leading to its acquisition by Yahoo. Post-acquisition, a period of reflection and a desire for change led to a return to painting and writing, exploring the intersections of technology, art, and entrepreneurship.\n",
            "\n",
            "The establishment of Y Combinator (YC), a pioneering startup accelerator, marked a return to the tech industry, offering a new model for startup funding and mentorship. YC's success and growth, alongside personal projects like the development of the programming language Bel and the management of Hacker News, underscored a career characterized by innovation, education, and a continuous search for new challenges. Personal life events and reflections on past work and future directions prompted a reevaluation of priorities, leading to a renewed focus on writing, programming, and exploring new intellectual territories.\n",
            "========================\n",
            "The essay \"What I worked on\" by Paul Graham outlines his professional journey, beginning with a focus on writing and programming in his pre-college years, including working with an IBM 1401 and developing simple programs on a TRS-80. During college, his interest in philosophy led to a growing curiosity in artificial intelligence (AI), eventually culminating in a thesis on reverse-engineering the AI program SHRDLU.\n",
            "\n",
            "After college, Graham ventured into painting and briefly worked at a software company before co-founding Viaweb, which was later acquired by Yahoo. Post-acquisition, he returned to painting and writing while contemplating the intersection of technology, art, and entrepreneurship.\n",
            "\n",
            "The founding of Y Combinator (YC), an innovative startup accelerator, brought Graham back to the tech industry. YC's success, along with his personal projects like the Bel programming language and managing Hacker News, highlighted his passion for innovation and education.\n",
            "\n",
            "Personal life events led Graham to reassess his priorities, ultimately deciding to refocus on writing, programming, and intellectual exploration.\n",
            "\n",
            ".------------------.\n",
            "\n",
            "=== Calling Function ===\n",
            "Calling function: Paul_Graham_QA with args: {\"input\":\"What are some personal anecdotes from the essay?\"}\n",
            "Got output: The essay shares several personal anecdotes that highlight the author's experiences and reflections. One anecdote is about the realization that the author did not want to run a big company, leading to the decision to work on a new dialect of Lisp named Arc. Another significant moment was the unexpected success of a talk about Lisp, which, after being shared online, garnered 30,000 page views in one day due to being posted on Slashdot. This incident revealed to the author the power of the internet to reach a wide audience without traditional gatekeepers.\n",
            "\n",
            "The author also recounts the process of starting to publish essays online, marking a turning point in focusing on writing as a key activity. This decision was influenced by the realization that the internet allowed for a new generation of essays to be published outside the narrow channels of the print era.\n",
            "\n",
            "Another personal story shared is the author's venture into angel investing and the founding of Y Combinator, spurred by a talk given at the Harvard Computer Society. This moment was pivotal, as it led to the realization that the author could contribute to the startup ecosystem in a meaningful way.\n",
            "\n",
            "Additionally, the essay mentions the author's social life, including hosting dinners for friends every Thursday night, which taught him how to cook for groups. A significant personal encounter occurred at one of these dinners, leading to meeting Jessica Livingston, who would become a significant figure in the author's life and in the startup world.\n",
            "\n",
            "Lastly, the essay touches on the author's broader reflections on working on unprestigious projects and the insights gained from those experiences, emphasizing the value of pursuing work that is genuinely interesting over work that is merely prestigious.\n",
            "========================\n",
            "The essay contains several personal anecdotes that illustrate Paul Graham's journey and insights:\n",
            "\n",
            "1. Graham shares the realization that he did not want to run a large company, which led him to work on a new dialect of Lisp named Arc.\n",
            "2. He describes the surprise at the success of his talk on Lisp, which got 30,000-page views in one day after being posted on Slashdot, highlighting the power of the internet to reach wide audiences.\n",
            "3. The transition to publishing essays online was a turning point for Graham, as he saw the internet as a new platform for essayists.\n",
            "4. The founding of Y Combinator stemmed from an inspirational talk he gave at the Harvard Computer Society, leading him to become more involved in the startup ecosystem.\n",
            "5. He recalls his social life, including hosting dinner parties that improved his cooking skills and at one of which he met Jessica Livingston, who later became an influential partner in life and in the startup world.\n",
            "6. The essay also dwells on the importance of working on genuinely interesting projects rather than seeking prestige, as Graham reflects on the valuable insights gained from taking on \"unprestigious\" work.\n"
          ]
        }
      ],
      "source": [
        "# Paul Graham Joint QA and Summarization Agent\n",
        "agent = OpenAIAssistantAgent.from_new(\n",
        "          name = \"Paul Graham Assistant\",\n",
        "          instructions= \"You are an assistant that provides answers to questions and also summary of Paul Graham essay\",\n",
        "          tools=pg_tools,\n",
        "          verbose=True,\n",
        "          run_retrieve_sleep_time=1.0\n",
        "        )\n",
        "response = agent.chat(\"Summarize the information contained in the paul graham What I worked on essay.\")\n",
        "print (response)\n",
        "print(\"\\n.------------------.\\n\")\n",
        "response = agent.chat(\"What are some personal anecdotes from paul graham essay\")\n",
        "print (response)"
      ]
    },
    {
      "cell_type": "code",
      "execution_count": null,
      "metadata": {
        "colab": {
          "base_uri": "https://localhost:8080/"
        },
        "id": "crYRiW7EAtCC",
        "outputId": "1eda6ce0-217d-4aa2-d83e-464421759432"
      },
      "outputs": [
        {
          "name": "stdout",
          "output_type": "stream",
          "text": [
            "=== Calling Function ===\n",
            "Calling function: Filing_10k with args: {\"input\":\"expedia revenue growth 2023\"}\n",
            "Got output: Expedia's total revenue grew by 10% in 2023 compared to 2022.\n",
            "========================\n",
            "Expedia's revenue growth in 2023 was 10% compared to 2022.\n",
            "\n",
            "---------------------------\n",
            "\n",
            "=== Calling Function ===\n",
            "Calling function: Filing_10k with args: {\"input\":\"booking.com revenue growth 2023\"}\n",
            "Got output: Booking.com's revenue growth in 2023 was 25.0%, with total revenues increasing to $21,365 million from $17,090 million in 2022.\n",
            "========================\n",
            "Booking.com experienced a revenue growth of 25.0% in 2023, with total revenues increasing to $21,365 million from $17,090 million in 2022.\n"
          ]
        }
      ],
      "source": [
        "# Alternatively we can also define a Query Engine tool that uses the filling_10k_engine\n",
        "# Which will internally route to specific query engines based on the query\n",
        "filing_10k_tool = QueryEngineTool(\n",
        "                    query_engine=filing_10k_engine,\n",
        "                    metadata=ToolMetadata(\n",
        "                        name=\"Filing_10k\",\n",
        "                        description=\"Selects the appropriate company filing query engine based on the query and executes it\"\n",
        "                    )\n",
        "                  )\n",
        "agent = OpenAIAssistantAgent.from_new(\n",
        "          name = \"10K Filing Assistant\",\n",
        "          instructions= \"You are an assistant that provides answers to questions from 10k Filings\",\n",
        "          tools=[filing_10k_tool],\n",
        "          verbose=True,\n",
        "          run_retrieve_sleep_time=1.0\n",
        "        )\n",
        "response = agent.chat(\"What is the revenue growth of expedia in 2023?\")\n",
        "print (response)\n",
        "print (\"\\n---------------------------\\n\")\n",
        "response = agent.chat(\"What is the revenue growth of booking.com in 2023?\")\n",
        "print (response)"
      ]
    },
    {
      "cell_type": "markdown",
      "metadata": {
        "id": "FJnKaRSJHS-5"
      },
      "source": [
        "## One shot Query Planning\n",
        "Query Planning agent breaks down a complex query in to parallelizable sub queries.\n",
        "Each sub query can then possibly executed against a set of RAG piplines based on different data sources.\n",
        "The resulting responses from each RAG pipeline is then synthesised in to the final response."
      ]
    },
    {
      "cell_type": "code",
      "execution_count": null,
      "metadata": {
        "colab": {
          "base_uri": "https://localhost:8080/"
        },
        "id": "jCOvxPYb6UhN",
        "outputId": "f5327c0d-d8be-4a69-c710-c6f379ad8f4c"
      },
      "outputs": [
        {
          "name": "stdout",
          "output_type": "stream",
          "text": [
            "Generated 8 sub questions.\n",
            "\u001b[1;3;38;2;237;90;200m[expedia_10k] Q: What is the total revenue of Expedia for 2023?\n",
            "\u001b[0m\u001b[1;3;38;2;90;149;237m[booking_10k] Q: What is the total revenue of Booking.com for 2023?\n",
            "\u001b[0m\u001b[1;3;38;2;11;159;203m[expedia_10k] Q: What are the major expenses for Expedia in 2023?\n",
            "\u001b[0m\u001b[1;3;38;2;155;135;227m[booking_10k] Q: What are the major expenses for Booking.com in 2023?\n",
            "\u001b[0m\u001b[1;3;38;2;237;90;200m[expedia_10k] Q: How does Expedia's revenue growth in 2023 compare to previous years?\n",
            "\u001b[0m\u001b[1;3;38;2;90;149;237m[booking_10k] Q: How does Booking.com's revenue growth in 2023 compare to previous years?\n",
            "\u001b[0m\u001b[1;3;38;2;11;159;203m[expedia_10k] Q: What is the net income of Expedia for 2023?\n",
            "\u001b[0m\u001b[1;3;38;2;155;135;227m[booking_10k] Q: What is the net income of Booking.com for 2023?\n",
            "\u001b[0m\u001b[1;3;38;2;90;149;237m[booking_10k] A: The total revenue of Booking.com for 2023 is $21,365 million.\n",
            "\u001b[0m\u001b[1;3;38;2;11;159;203m[expedia_10k] A: The net income of Expedia for 2023 is $688 million.\n",
            "\u001b[0m\u001b[1;3;38;2;155;135;227m[booking_10k] A: The net income of Booking.com for 2023 is not explicitly provided in the provided context information.\n",
            "\u001b[0m\u001b[1;3;38;2;237;90;200m[expedia_10k] A: The total revenue of Expedia for 2023 is $12,839 million.\n",
            "\u001b[0m\u001b[1;3;38;2;237;90;200m[expedia_10k] A: Expedia's revenue growth in 2023 showed a 10% increase over 2022, with total revenue rising to $12,839 million from $11,667 million. This follows a 36% growth in revenue from 2021 to 2022, indicating a slowdown in the rate of revenue growth in 2023 compared to the previous year.\n",
            "\u001b[0m\u001b[1;3;38;2;11;159;203m[expedia_10k] A: The major expenses for Expedia in 2023 include direct costs to support customer operations, which encompass customer support and telesales, fees to air ticket fulfillment vendors, credit card processing (including merchant fees, fraud, and chargebacks), and other costs such as data center and cloud costs to support websites, supplier operations, destination supply, certain transactional level taxes, as well as related personnel and overhead costs, including stock-based compensation. Additionally, personnel and overhead costs also represent a significant expense, with an increase noted in these areas compared to the previous year.\n",
            "\u001b[0m\u001b[1;3;38;2;90;149;237m[booking_10k] A: Booking.com's revenue growth in 2023 showed a significant increase compared to previous years. Total revenues for the year ended December 31, 2023, were $21,365 million, marking a 25.0% increase from $17,090 million in 2022. This growth is attributed to the continued improvement in travel demand, with merchant, agency, and advertising and other revenues all experiencing increases. Specifically, merchant revenues saw a substantial rise of 52.0%, from $7,193 million in 2022 to $10,936 million in 2023, reflecting the ongoing shift from agency revenues to merchant revenues at Booking.com.\n",
            "\u001b[0m\u001b[1;3;38;2;155;135;227m[booking_10k] A: The major expenses for Booking.com in 2023 included marketing expenses, sales and other expenses, personnel expenses, payment processing, chargebacks, and other transaction-related expenses. Marketing expenses amounted to $6.8 billion, reflecting a 13% increase from the previous year, and were primarily composed of search engine keyword purchases, affiliate programs, referrals from meta-search websites, online and offline brand marketing, and other performance-based marketing. Sales and other expenses totaled $2.744 billion, marking a 38.2% increase from 2022, and consisted mainly of credit card and other payment processing fees, fees paid to third parties for call center and other customer services, digital services taxes, chargeback provisions, fraud prevention expenses, provisions for expected credit losses, and customer relations costs. Personnel expenses and other transaction-related costs were also significant, contributing to the overall increase in operating expenses.\n",
            "\u001b[0mIn 2023, both Expedia and Booking.com experienced growth in their revenues, albeit at different rates and scales. Expedia's total revenue for the year was $12,839 million, marking a 10% increase from the previous year. This growth, however, represented a slowdown compared to the 36% revenue growth from 2021 to 2022. In contrast, Booking.com's revenue for 2023 was significantly higher at $21,365 million, with a 25% increase from the previous year, indicating a robust growth trajectory. This growth was partly attributed to a substantial rise in merchant revenues, which increased by 52% from the previous year, showcasing a strategic shift towards merchant revenues at Booking.com.\n",
            "\n",
            "The expense structures of the two companies reveal distinct strategic focuses and operational challenges. Expedia's major expenses in 2023 were primarily related to direct costs supporting customer operations, including customer support, telesales, air ticket fulfillment vendor fees, credit card processing, and data center and cloud costs. Personnel and overhead costs also represented a significant portion of Expedia's expenses, with an increase noted in these areas compared to the previous year.\n",
            "\n",
            "Booking.com's expenses for the same period were heavily skewed towards marketing, which amounted to $6.8 billion, reflecting a 13% increase from the previous year. This was a strategic investment to capture market share and drive revenue growth. Other significant expenses included sales and other expenses totaling $2.744 billion, a 38.2% increase from the previous year, and were mainly composed of payment processing fees, customer service fees, digital services taxes, and fraud prevention expenses. Personnel expenses and other transaction-related costs also contributed to the overall increase in operating expenses.\n",
            "\n",
            "In summary, while both companies achieved revenue growth in 2023, Booking.com's revenue and growth rate were significantly higher than Expedia's. The expense analysis reveals Booking.com's aggressive investment in marketing to fuel its growth, whereas Expedia's expenses were more diversified across operational support and customer service functions. This strategic difference in expense allocation reflects the companies' differing approaches to growth and market capture.\n"
          ]
        }
      ],
      "source": [
        "from llama_index.core.query_engine import SubQuestionQueryEngine\n",
        "sub_question_query = \"Compare and contrasts the revenue and expenses of expedia and booking.com for 2023 and provide an in depth analysis\"\n",
        "query_planning_engine = SubQuestionQueryEngine.from_defaults(\n",
        "                          query_engine_tools=tools,\n",
        "                          use_async=True\n",
        "                        )\n",
        "response = query_planning_engine.query(sub_question_query)\n",
        "print (response)"
      ]
    },
    {
      "cell_type": "markdown",
      "metadata": {
        "id": "DqYYpnWSPK7T"
      },
      "source": [
        "### Agentic Query Planning RAG"
      ]
    },
    {
      "cell_type": "code",
      "execution_count": null,
      "metadata": {
        "colab": {
          "base_uri": "https://localhost:8080/"
        },
        "id": "lmZAXkEmPP2t",
        "outputId": "25ae0f18-ff05-4fcf-b7bb-1c231ddd5556"
      },
      "outputs": [
        {
          "name": "stdout",
          "output_type": "stream",
          "text": [
            "=== Calling Function ===\n",
            "Calling function: Filing_10k_query_planner with args: {\"input\": \"Expedia 2023 revenue and expenses\"}\n",
            "Generated 2 sub questions.\n",
            "\u001b[1;3;38;2;237;90;200m[expedia_10k] Q: What is the total revenue of Expedia in 2023?\n",
            "\u001b[0m\u001b[1;3;38;2;90;149;237m[expedia_10k] Q: What are the total expenses of Expedia in 2023?\n",
            "\u001b[0m\u001b[1;3;38;2;237;90;200m[expedia_10k] A: The total revenue of Expedia in 2023 is $12,839 million.\n",
            "\u001b[0m\u001b[1;3;38;2;90;149;237m[expedia_10k] A: The total expenses of Expedia in 2023 were $11,806 million. This figure is derived by adding the costs and expenses listed in the consolidated statements of operations for the year ended December 31, 2023, which include cost of revenue ($1,573 million), selling and marketing - direct ($6,107 million), selling and marketing - indirect ($756 million), technology and content ($1,358 million), general and administrative ($771 million), depreciation and amortization ($807 million), impairment of goodwill ($297 million), intangible and other long-term asset impairment ($129 million), and legal reserves, occupancy tax, and other ($8 million).\n",
            "\u001b[0mGot output: Expedia's total revenue in 2023 was $12,839 million, and its total expenses amounted to $11,806 million.\n",
            "========================\n",
            "=== Calling Function ===\n",
            "Calling function: Filing_10k_query_planner with args: {\"input\": \"Booking.com 2023 revenue and expenses\"}\n",
            "Generated 2 sub questions.\n",
            "\u001b[1;3;38;2;237;90;200m[booking_10k] Q: What is the total revenue of Booking.com for the year 2023?\n",
            "\u001b[0m\u001b[1;3;38;2;90;149;237m[booking_10k] Q: What are the total expenses of Booking.com for the year 2023?\n",
            "\u001b[0m\u001b[1;3;38;2;237;90;200m[booking_10k] A: The total revenue of Booking.com for the year 2023 is $21,365 million.\n",
            "\u001b[0m\u001b[1;3;38;2;90;149;237m[booking_10k] A: The total expenses for Booking.com in 2023 can be calculated by adding the reported expenses from the provided information. The expenses mentioned include marketing expenses, sales and other expenses, personnel expenses, and general and administrative expenses. However, the provided context only gives specific figures for marketing expenses ($6,773 million) and sales and other expenses ($2,744 million) for the year 2023. The context does not provide specific figures for personnel expenses and general and administrative expenses for 2023, making it impossible to calculate the total expenses for 2023 accurately with the provided information.\n",
            "\u001b[0mGot output: The total revenue of Booking.com for the year 2023 is $21,365 million. However, it is not possible to accurately calculate the total expenses for 2023 with the information provided, as specific figures for personnel expenses and general and administrative expenses are not given. Only the marketing expenses ($6,773 million) and sales and other expenses ($2,744 million) are specified.\n",
            "========================\n",
            "Based on the data provided, we can initiate a comparison between Expedia and Booking.com for the fiscal year 2023.\n",
            "\n",
            "### Expedia:\n",
            "- **Revenue**: Expedia reported a total revenue of $12,839 million.\n",
            "- **Expenses**: The company's total expenses amounted to $11,806 million.\n",
            "\n",
            "### Booking.com:\n",
            "- **Revenue**: Booking.com generated a higher total revenue than Expedia, with $21,365 million.\n",
            "- **Expenses**: We have incomplete information regarding Booking.com's total expenses. However, we do have data on specific categories of expenses:\n",
            "  - **Marketing Expenses**: $6,773 million\n",
            "  - **Sales and Other Expenses**: $2,744 million\n",
            "- **Note**: We lack information on personnel expenses and general and administrative expenses, which are necessary to calculate Booking.com's total expenses.\n",
            "\n",
            "### In-Depth Analysis:\n",
            "- **Revenue Insights**: Booking.com outperformed Expedia in terms of revenue by a significant margin, which could indicate a larger market share, higher pricing power, or a broader product offering.\n",
            "- **Expense Proportionality**: Without the full expense data for Booking.com, it's challenging to compare overall efficiency. However, we can infer from the available data that Booking.com's marketing spend is substantially high. This suggests an aggressive investment in customer acquisition and brand visibility.\n",
            "- **Marketing Strategy**: The high marketing expenses for Booking.com, which we can compare to Expedia's total expenses, suggest a stark difference in strategy. Booking.com seems to invest heavily in marketing - a strategy that could be yielding a higher revenue, as reflected in the figures reported.\n",
            "- **Profitability**: Even without the total expense figure for Booking.com, considering that Expedia's total expenses are less than Booking.com's reported revenue, it's likely that Booking.com is operating at a profit. Expedia's total revenue and expenses are much closer, indicating a narrower profit margin.\n",
            "- **Operational Efficiency**: To fully evaluate operational efficiency, data on Booking.com's complete expenses is needed. However, if Booking.com's unspecified expenses are managed efficiently, the company may have a better operational leverage than Expedia.\n",
            "- **Potential Red Flags**: It's worth noting that without full expense data, any calculations of profit margins or efficiency ratios for Booking.com are speculative. Investors should be cautious of evaluating performance based on incomplete data and should seek the full financial statements for a comprehensive analysis.\n",
            "\n",
            "To gather a more complete understanding of each company's financial health, one would need to delve deeper into their 10-K filings, focusing on segments such as operational costs breakdown, geographical revenue distribution, and cash flow situations. It is also important to analyze non-financial indicators such as customer satisfaction, technological investments, and market trends that impact the travel industry. \n",
            "\n",
            "The data we have paints a picture of two industry giants with potentially different strategic approaches to market presence and growth. Booking.com appears to be more aggressive in revenue generation and marketing, while Expedia operates with tighter revenue-expense margins.\n"
          ]
        }
      ],
      "source": [
        "filing_10k_query_planning_tool = QueryEngineTool(\n",
        "                                  query_engine=query_planning_engine,\n",
        "                                  metadata=ToolMetadata(\n",
        "                                      name=\"Filing_10k_query_planner\",\n",
        "                                      description=\"\"\"It first breaks down the complex query into sub questions for each relevant data source,\n",
        "                                                  then gather all the intermediate reponses and synthesizes a final response\"\"\"\n",
        "                                  )\n",
        "\n",
        ")\n",
        "#\n",
        "\"\"\"You are an assistant that tackle the problem of answering a complex query using multiple 10k Filings data sources.\"\"\"\n",
        "agent = OpenAIAssistantAgent.from_new(\n",
        "          name = \"10K Filing Query Planner\",\n",
        "          instructions= \"\"\"You are a veteran stock market investor who is an expert analysing companies's annual 10k filings.\n",
        "          You will answer questions in the persona of a veteran stock market investor.\"\"\",\n",
        "          tools=[filing_10k_query_planning_tool],\n",
        "          verbose=True,\n",
        "          run_retrieve_sleep_time=1.0\n",
        "        )\n",
        "response = agent.chat(sub_question_query)\n",
        "print (response)"
      ]
    },
    {
      "cell_type": "markdown",
      "metadata": {
        "id": "Vp5J4UqmViZg"
      },
      "source": [
        "## Tool Use\n",
        "Normal RAG a query is just passed in to get the top k documents semantically matching the query. However there are times when we need to get data from an external API, a SQL Database or an application that exposes an API, which can then be used as aditional context to the input query before sending it to the LLM. In such scenarios the agent can use a RAG toolspec."
      ]
    },
    {
      "cell_type": "code",
      "execution_count": null,
      "metadata": {
        "colab": {
          "base_uri": "https://localhost:8080/"
        },
        "id": "SacQp6G7VpKp",
        "outputId": "372abda9-2b34-49dc-df4f-baa29299a899"
      },
      "outputs": [
        {
          "name": "stdout",
          "output_type": "stream",
          "text": [
            "Added user message to memory: What is the value of pi to 6 decimal places\n",
            "=== Calling Function ===\n",
            "Calling function: wolfram_alpha_query with args: {\"query\":\"value of pi to 6 decimal places\"}\n",
            "Got output: 3.141593\n",
            "========================\n",
            "\n",
            "The value of pi to 6 decimal places is 3.141593.\n"
          ]
        }
      ],
      "source": [
        "from llama_index.tools.wolfram_alpha  import WolframAlphaToolSpec\n",
        "from llama_index.core.tools.tool_spec.load_and_search import LoadAndSearchToolSpec\n",
        "\n",
        "# V8289A-7LJ3YW4KVX\n",
        "wolfram_alpha_spec = WolframAlphaToolSpec(app_id=\"V8289A-7LJ3YW4KVX\")\n",
        "tools = wolfram_alpha_spec.to_tool_list()\n",
        "# Create the Agent with our tools\n",
        "agent = OpenAIAgent.from_tools(tools, verbose=True)\n",
        "\n",
        "response = agent.query(\"What is the value of pi to 6 decimal places\")\n",
        "print (response)"
      ]
    },
    {
      "cell_type": "markdown",
      "metadata": {
        "id": "FpKuPRiRVw0q"
      },
      "source": [
        "## ReAct : Reason and Act\n",
        "The next step up is to add some sort of reasoning and actions which are executed in a loop over a complex query. Essentially it is a superset of Routing, Query Planning and Tool Use all rolled in to one. A ReAct agent can handle sequential multi part query and keep state (in memory).\n"
      ]
    },
    {
      "cell_type": "code",
      "execution_count": null,
      "metadata": {
        "colab": {
          "base_uri": "https://localhost:8080/"
        },
        "id": "xSF533o3V5Ug",
        "outputId": "664fa0f6-fa22-42e1-a2e2-372b232c62ae"
      },
      "outputs": [
        {
          "name": "stderr",
          "output_type": "stream",
          "text": [
            "WARNING:llama_index.core.agent.react.formatter:ReActChatFormatter.from_context is deprecated, please use `from_defaults` instead.\n"
          ]
        },
        {
          "name": "stdout",
          "output_type": "stream",
          "text": [
            "> Running step c85e7720-d3bb-4b7e-94f5-3644eba6a68a. Step input: Compare and contrast the revenue and expenses of expedia and booking holdings for 2023 and provide an in depth analysis\n",
            "\u001b[1;3;38;5;200mThought: The current language of the user is English. I need to use tools to gather the revenue and expenses information for Expedia and Booking Holdings for the year 2023 to perform an in-depth analysis.\n",
            "Action: expedia_10k\n",
            "Action Input: {'input': 'revenue and expenses'}\n",
            "\u001b[0m\u001b[1;3;34mObservation: Revenue and expenses are recognized and managed in various ways across different segments and models within the company. Revenue is generated through multiple streams, including transaction-based services, subscription-based services, and advertising. For transaction-based services, revenue is recognized upon the transfer of control of the promised services, reflecting the consideration expected in exchange for those services. The company operates under both the merchant and agency models for booking services, where revenue is recognized differently based on the model and the timing of the service provided. For example, in the merchant model for hotel bookings, revenue is recognized at the time of the stay, net of amounts paid to suppliers. In the agency model, revenue is recognized when the service is provided to the traveler, with allowances made for cancellations based on historical experience.\n",
            "\n",
            "Expenses are allocated based on transaction volumes and other usage metrics, with certain shared expenses not allocated to reportable segments but included in Corporate and Eliminations. These unallocated expenses include accounting, human resources, certain information technology, and legal expenses. Additionally, Corporate and Eliminations account for amortization of intangible assets, stock-based compensation expense, restructuring charges, legal reserves, and other items not allocated to segments. The company also accounts for expected credit losses in its accounts receivable, considering various risk characteristics and economic conditions.\n",
            "\n",
            "Intersegment revenues, such as those from advertising and media services provided by one segment to another, are recorded at amounts approximating fair value as if the transactions were between third parties. However, these revenues and corresponding expenses are eliminated in consolidation and included within Corporate and Eliminations. \n",
            "\n",
            "Overall, the company's approach to recognizing revenue and managing expenses involves a detailed methodology that considers the nature of each revenue stream, the business model under which it operates, and the timing of service provision, along with a strategic allocation of expenses to accurately reflect segment performance and corporate functions.\n",
            "\u001b[0m> Running step 9198158f-df25-458b-8da5-297f4ca7ff90. Step input: None\n",
            "\u001b[1;3;38;5;200mThought: Now that I have the information on revenue and expenses for Expedia, I need to gather the same information for Booking Holdings to perform a comparison and in-depth analysis.\n",
            "Action: booking_10k\n",
            "Action Input: {'input': 'revenue and expenses'}\n",
            "\u001b[0m\u001b[1;3;34mObservation: Revenue is primarily generated from online travel reservation services, which include merchant and agency revenues. Merchant revenues come from transactions where payments from travelers for services provided are facilitated, including travel reservation commissions, transaction net revenues, credit card processing rebates, customer processing fees, and ancillary fees such as travel-related insurance revenues. Agency revenues are derived from commissions on travel-related transactions where payments from travelers are not facilitated. Advertising and other revenues are mainly recognized by KAYAK and OpenTable, with KAYAK earning from referrals and advertising placements, and OpenTable from reservation and subscription fees for restaurant management services.\n",
            "\n",
            "Expenses include personnel expenses, with significant contributions to the defined contribution 401(k) savings plan and other defined contribution plans, as well as an accrual related to the Netherlands pension fund matter. Marketing expenses and personnel expenses are major components of accrued expenses and other current liabilities. Additionally, the company has reclassified certain indirect taxes between \"General and administrative\" expenses and \"Sales and other expenses,\" affecting the presentation of these expenses in the financial statements.\n",
            "\u001b[0m> Running step 37d2224d-d571-47ca-9d94-0960bd47aac8. Step input: None\n",
            "\u001b[1;3;38;5;200mThought: I can answer without using any more tools. I'll use the user's language to answer.\n",
            "Answer: The revenue and expenses of Expedia and Booking Holdings for 2023 reveal distinct operational and financial strategies within the online travel industry.\n",
            "\n",
            "**Revenue Streams:**\n",
            "- **Expedia** generates revenue through transaction-based services, subscription-based services, and advertising. It operates under both merchant and agency models, recognizing revenue at the time of the stay (merchant model) or when the service is provided (agency model), with adjustments for cancellations.\n",
            "- **Booking Holdings** primarily earns from online travel reservation services, including merchant revenues (commissions, transaction net revenues, processing rebates, and ancillary fees) and agency revenues (commissions on transactions without facilitating payments). KAYAK and OpenTable contribute to advertising and other revenues through referrals, advertising placements, and subscription fees for restaurant management services.\n",
            "\n",
            "**Expenses:**\n",
            "- **Expedia** allocates expenses based on transaction volumes and other metrics, with unallocated expenses including accounting, HR, IT, legal expenses, amortization of intangible assets, stock-based compensation, restructuring charges, and legal reserves. It also accounts for expected credit losses in accounts receivable.\n",
            "- **Booking Holdings** lists personnel expenses, including contributions to savings plans and the Netherlands pension fund matter, as significant. Marketing and personnel expenses are major components of accrued expenses. The company has reclassified certain indirect taxes affecting the presentation of \"General and administrative\" and \"Sales and other expenses.\"\n",
            "\n",
            "**Analysis:**\n",
            "- **Revenue Recognition:** Both companies utilize merchant and agency models but differ in their ancillary revenue streams, with Expedia focusing on a broader mix including subscription services, and Booking Holdings leveraging its subsidiaries like KAYAK and OpenTable for advertising and subscription fees.\n",
            "- **Expense Management:** Expedia's detailed expense allocation strategy, including unallocated corporate expenses and credit loss accounting, contrasts with Booking Holdings' focus on personnel and marketing expenses, and the specific reclassification of indirect taxes.\n",
            "\n",
            "In conclusion, while both companies operate in the online travel booking space, their revenue generation and expense management strategies reflect different operational focuses and market approaches. Expedia's diversified revenue streams and detailed expense allocation suggest a broad operational scope, whereas Booking Holdings' streamlined revenue sources and significant personnel and marketing expenses indicate a focused investment in brand and market presence.\n",
            "\u001b[0mThe revenue and expenses of Expedia and Booking Holdings for 2023 reveal distinct operational and financial strategies within the online travel industry.\n",
            "\n",
            "**Revenue Streams:**\n",
            "- **Expedia** generates revenue through transaction-based services, subscription-based services, and advertising. It operates under both merchant and agency models, recognizing revenue at the time of the stay (merchant model) or when the service is provided (agency model), with adjustments for cancellations.\n",
            "- **Booking Holdings** primarily earns from online travel reservation services, including merchant revenues (commissions, transaction net revenues, processing rebates, and ancillary fees) and agency revenues (commissions on transactions without facilitating payments). KAYAK and OpenTable contribute to advertising and other revenues through referrals, advertising placements, and subscription fees for restaurant management services.\n",
            "\n",
            "**Expenses:**\n",
            "- **Expedia** allocates expenses based on transaction volumes and other metrics, with unallocated expenses including accounting, HR, IT, legal expenses, amortization of intangible assets, stock-based compensation, restructuring charges, and legal reserves. It also accounts for expected credit losses in accounts receivable.\n",
            "- **Booking Holdings** lists personnel expenses, including contributions to savings plans and the Netherlands pension fund matter, as significant. Marketing and personnel expenses are major components of accrued expenses. The company has reclassified certain indirect taxes affecting the presentation of \"General and administrative\" and \"Sales and other expenses.\"\n",
            "\n",
            "**Analysis:**\n",
            "- **Revenue Recognition:** Both companies utilize merchant and agency models but differ in their ancillary revenue streams, with Expedia focusing on a broader mix including subscription services, and Booking Holdings leveraging its subsidiaries like KAYAK and OpenTable for advertising and subscription fees.\n",
            "- **Expense Management:** Expedia's detailed expense allocation strategy, including unallocated corporate expenses and credit loss accounting, contrasts with Booking Holdings' focus on personnel and marketing expenses, and the specific reclassification of indirect taxes.\n",
            "\n",
            "In conclusion, while both companies operate in the online travel booking space, their revenue generation and expense management strategies reflect different operational focuses and market approaches. Expedia's diversified revenue streams and detailed expense allocation suggest a broad operational scope, whereas Booking Holdings' streamlined revenue sources and significant personnel and marketing expenses indicate a focused investment in brand and market presence.\n"
          ]
        }
      ],
      "source": [
        "from llama_index.core.agent import ReActAgent\n",
        "filing_10k_query_engine_tools = [expedia_query_tool, booking_query_tool, uber_query_tool, lyft_query_tool]\n",
        "agent = ReActAgent.from_tools(\n",
        "            tools= filing_10k_query_engine_tools,\n",
        "            verbose=True,\n",
        "            context=\"\"\"You are a veteran stock market investor who is an expert analysing companies's annual 10k filings.\n",
        "          You will answer questions in the persona of a veteran stock market investor.\"\"\"\n",
        "          )\n",
        "response = agent.query(\"Compare and contrast the revenue and expenses of expedia and booking holdings for 2023 and provide an in depth analysis\")\n",
        "print (response)"
      ]
    },
    {
      "cell_type": "markdown",
      "metadata": {
        "id": "XOTbcObNV7TT"
      },
      "source": [
        "## Dynamic Planning & Execution\n",
        "ReAct is by far the most popular agent so far. However there is a need for handling user intent that is more complex. Also more and more agents are deployed in production settings that require higher reliability, observability, parallelization, control and separation of concerns. Essentially we need long term planning, execution insight, efficiency, optimization and reduce latency.\n",
        "\n",
        "Two papers have been published in the recent past that address this:\n",
        "\n",
        "Plan and Solve\n",
        "\n",
        "LLMCompiler\n",
        "\n",
        "At a high level these attempt to separate the higher level planning from short term execution. The logic for such agents is:\n",
        "\n",
        "Given an input query plan the steps that are required to complete. (Essentially the whole computational graph/DAG)\n",
        "\n",
        "For each step in the plan determine what tools to use if any and execute it with the required inputs.\n",
        "\n",
        "So we would need a planner and a executor. The planner most likely will be using an LLM to take the user query and generate a step by step plan. The executor can then take each step and figure out which tools if any are required to complete the task defined in the step. This process continues until the whole plan is executed and the final response is shown.\n",
        "\n",
        "Langchain has a Plan and Execute agent (still experimental). Llama Index has a Llama pack for LLMCompiler"
      ]
    },
    {
      "cell_type": "markdown",
      "metadata": {
        "id": "PwinhZvCZXiA"
      },
      "source": [
        "#### Plan And Execute\n",
        "Using Langchain's PlanAndExecute agent with LlamaIndex query engines as tools by converting them to Langchain tools using LlamaIndex Langchain helpers"
      ]
    },
    {
      "cell_type": "code",
      "execution_count": null,
      "metadata": {
        "colab": {
          "background_save": true,
          "base_uri": "https://localhost:8080/"
        },
        "id": "6zdDnSdtWQ4P",
        "outputId": "a2eec711-ba3e-4524-812c-6c528aca3e14"
      },
      "outputs": [
        {
          "name": "stderr",
          "output_type": "stream",
          "text": [
            "/usr/local/lib/python3.10/dist-packages/langchain_core/_api/deprecation.py:139: LangChainDeprecationWarning: The class `ChatOpenAI` was deprecated in LangChain 0.0.10 and will be removed in 0.3.0. An updated version of the class exists in the langchain-openai package and should be used instead. To use it run `pip install -U langchain-openai` and import as `from langchain_openai import ChatOpenAI`.\n",
            "  warn_deprecated(\n",
            "/usr/local/lib/python3.10/dist-packages/langchain_core/_api/deprecation.py:139: LangChainDeprecationWarning: The method `Chain.run` was deprecated in langchain 0.1.0 and will be removed in 0.3.0. Use invoke instead.\n",
            "  warn_deprecated(\n"
          ]
        },
        {
          "name": "stdout",
          "output_type": "stream",
          "text": [
            "\n",
            "\n",
            "\u001b[1m> Entering new PlanAndExecute chain...\u001b[0m\n",
            "steps=[Step(value='Research the latest financial reports or earnings releases from Expedia and Booking Holdings for the fiscal year 2023 to gather data on their revenue and expenses.'), Step(value='Compare the revenue figures for both companies, analyzing any growth, decline, or trends observed within the 2023 fiscal year.'), Step(value='Contrast the expense structures of both companies, identifying key areas of spending, differences in cost management strategies, and any notable changes from previous years.'), Step(value='Analyze the impact of the revenue and expense figures on the overall financial health and performance of both companies, considering factors such as profit margins, earnings growth, and market share.'), Step(value='Given the above steps taken, provide an in-depth analysis comparing and contrasting the revenue and expenses of Expedia and Booking Holdings for 2023.\\n\\n')]\n",
            "\n",
            "\u001b[1m> Entering new AgentExecutor chain...\u001b[0m\n",
            "\u001b[32;1m\u001b[1;3mAction:\n",
            "```\n",
            "{\n",
            "  \"action\": \"Filing_10k\",\n",
            "  \"action_input\": {\n",
            "    \"input\": \"Expedia financial report 2023\"\n",
            "  }\n",
            "}\n",
            "```\u001b[0m\n",
            "Observation: \u001b[36;1m\u001b[1;3mThe financial report for Expedia Group, Inc. for the year ended December 31, 2023, highlights significant financial data and performance metrics. The company reported a revenue of $12,839 million, an increase from the previous years, with $11,667 million in 2022 and $8,598 million in 2021. The net income for 2023 was reported at $688 million, a substantial rise from $343 million in 2022 and $15 million in 2021. The net income attributable to Expedia Group, Inc. common stockholders for 2023 was $797 million, compared to $352 million in 2022 and a loss of $269 million in 2021. Basic earnings per share for 2023 were $5.50, and diluted earnings per share were $5.31. The report also includes a certification by Julie Whalen, the Chief Financial Officer, ensuring compliance with the Sarbanes-Oxley Act of 2002, and affirming the fair presentation of the financial condition and results of operations in all material respects.\u001b[0m\n",
            "\u001b[32;1m\u001b[1;3m\u001b[0m\n",
            "\n",
            "\u001b[1m> Finished chain.\u001b[0m\n",
            "*****\n",
            "\n",
            "Step: Research the latest financial reports or earnings releases from Expedia and Booking Holdings for the fiscal year 2023 to gather data on their revenue and expenses.\n",
            "\n",
            "Response: The financial report for Expedia Group, Inc. for the year ended December 31, 2023, highlights significant financial data and performance metrics. The company reported a revenue of $12,839 million, an increase from the previous years, with $11,667 million in 2022 and $8,598 million in 2021. The net income for 2023 was reported at $688 million, a substantial rise from $343 million in 2022 and $15 million in 2021. The net income attributable to Expedia Group, Inc. common stockholders for 2023 was $797 million, compared to $352 million in 2022 and a loss of $269 million in 2021. Basic earnings per share for 2023 were $5.50, and diluted earnings per share were $5.31. The report also includes a certification by Julie Whalen, the Chief Financial Officer, ensuring compliance with the Sarbanes-Oxley Act of 2002, and affirming the fair presentation of the financial condition and results of operations in all material respects.\n",
            "\n",
            "\u001b[1m> Entering new AgentExecutor chain...\u001b[0m\n",
            "\u001b[32;1m\u001b[1;3m{\n",
            "  \"action\": \"Filing_10k\",\n",
            "  \"action_input\": {\n",
            "    \"input\": \"Booking Holdings financial report for fiscal year 2023\"\n",
            "  }\n",
            "}\u001b[0m\n",
            "\n",
            "\u001b[1m> Finished chain.\u001b[0m\n",
            "*****\n",
            "\n",
            "Step: Compare the revenue figures for both companies, analyzing any growth, decline, or trends observed within the 2023 fiscal year.\n",
            "\n",
            "Response: {\n",
            "  \"action\": \"Filing_10k\",\n",
            "  \"action_input\": {\n",
            "    \"input\": \"Booking Holdings financial report for fiscal year 2023\"\n",
            "  }\n",
            "}\n",
            "\n",
            "\u001b[1m> Entering new AgentExecutor chain...\u001b[0m\n",
            "\u001b[32;1m\u001b[1;3m{\n",
            "  \"action\": \"Filing_10k\",\n",
            "  \"action_input\": {\n",
            "    \"input\": \"Booking Holdings financial report for fiscal year 2023\"\n",
            "  }\n",
            "}\u001b[0m\n",
            "\n",
            "\u001b[1m> Finished chain.\u001b[0m\n",
            "*****\n",
            "\n",
            "Step: Contrast the expense structures of both companies, identifying key areas of spending, differences in cost management strategies, and any notable changes from previous years.\n",
            "\n",
            "Response: {\n",
            "  \"action\": \"Filing_10k\",\n",
            "  \"action_input\": {\n",
            "    \"input\": \"Booking Holdings financial report for fiscal year 2023\"\n",
            "  }\n",
            "}\n",
            "\n",
            "\u001b[1m> Entering new AgentExecutor chain...\u001b[0m\n",
            "\u001b[32;1m\u001b[1;3m{\n",
            "  \"action\": \"Filing_10k\",\n",
            "  \"action_input\": {\n",
            "    \"input\": \"Booking Holdings financial report for fiscal year 2023\"\n",
            "  }\n",
            "}\u001b[0m\n",
            "\n",
            "\u001b[1m> Finished chain.\u001b[0m\n",
            "*****\n",
            "\n",
            "Step: Analyze the impact of the revenue and expense figures on the overall financial health and performance of both companies, considering factors such as profit margins, earnings growth, and market share.\n",
            "\n",
            "Response: {\n",
            "  \"action\": \"Filing_10k\",\n",
            "  \"action_input\": {\n",
            "    \"input\": \"Booking Holdings financial report for fiscal year 2023\"\n",
            "  }\n",
            "}\n",
            "\n",
            "\u001b[1m> Entering new AgentExecutor chain...\u001b[0m\n",
            "\u001b[32;1m\u001b[1;3m{\n",
            "  \"action\": \"Filing_10k\",\n",
            "  \"action_input\": {\n",
            "    \"input\": \"Booking Holdings financial report for fiscal year 2023\"\n",
            "  }\n",
            "}\u001b[0m\n",
            "\n",
            "\u001b[1m> Finished chain.\u001b[0m\n",
            "*****\n",
            "\n",
            "Step: Given the above steps taken, provide an in-depth analysis comparing and contrasting the revenue and expenses of Expedia and Booking Holdings for 2023.\n",
            "\n",
            "\n",
            "\n",
            "Response: {\n",
            "  \"action\": \"Filing_10k\",\n",
            "  \"action_input\": {\n",
            "    \"input\": \"Booking Holdings financial report for fiscal year 2023\"\n",
            "  }\n",
            "}\n",
            "\u001b[1m> Finished chain.\u001b[0m\n",
            "{\n",
            "  \"action\": \"Filing_10k\",\n",
            "  \"action_input\": {\n",
            "    \"input\": \"Booking Holdings financial report for fiscal year 2023\"\n",
            "  }\n",
            "}\n"
          ]
        }
      ],
      "source": [
        "from langchain.llms import OpenAI\n",
        "from langchain.chat_models import ChatOpenAI\n",
        "from langchain_experimental.plan_and_execute import PlanAndExecute, load_chat_planner, load_agent_executor\n",
        "# Use the LlamaIndex converter of query engine to Lang chain tool\n",
        "from llama_index.core.langchain_helpers.agents import IndexToolConfig, LlamaIndexTool\n",
        "\n",
        "expedia_tool_config = IndexToolConfig(\n",
        "                        query_engine=expedia_engine,\n",
        "                        name=\"expedia_10k\",\n",
        "                        description=\"Provides information about Expedia group's 10k filing for year 2023\",\n",
        "                        tool_kwargs={\"return_direct\": True}\n",
        "                      )\n",
        "booking_tool_config = IndexToolConfig(\n",
        "                        query_engine=booking_engine,\n",
        "                        name=\"booking_10k\",\n",
        "                        description=\"Provides information about Booking 10k filing for year 2023\",\n",
        "                        tool_kwargs={\"return_direct\": True}\n",
        "                      )\n",
        "# Do similarly for Uber and Lyft ....\n",
        "\n",
        "# lc_expedia_tool = LlamaIndexTool.from_tool_config(expedia_tool_config)\n",
        "\n",
        "# lc_booking_tool = LlamaIndexTool.from_tool_config(booking_tool_config)\n",
        "\n",
        "# Use the LlamaIndex Router Query Engine instead as the individual query engines are not showing correct output\n",
        "\n",
        "filing_10k_tool_config = IndexToolConfig(\n",
        "                      query_engine=filing_10k_engine,\n",
        "                      name=\"Filing_10k\",\n",
        "                      description=\"Selects the appropriate company filing query engine based on the query and executes it\",\n",
        "                      tool_kwargs={\"return_direct\": True}\n",
        "                     )\n",
        "lc_filing_10k_tool = LlamaIndexTool.from_tool_config(filing_10k_tool_config)\n",
        "\n",
        "lc_agent_tools = [lc_filing_10k_tool]\n",
        "\n",
        "# Now that we wrapped LlamaIndex query engines as langchain agent tools we can now define the PlanAndExecute Langchain agent\n",
        "model = ChatOpenAI(model='gpt-4-0125-preview', temperature=0)\n",
        "# Implement the Planner\n",
        "# This method takes in the intermediate steps taken by the agent and user inputs as arguments.\n",
        "# It should analyze the current state and decide what action or tool to use next.\n",
        "# The plan method should return a list of AgentAction objects specifying the tools to use.\n",
        "planner = load_chat_planner(model)\n",
        "\n",
        "# Instantiate the AgentExecutor\n",
        "# Finally, create an instance of the agent executor class, passing in the agent and tools as arguments.\n",
        "# The agent executor handles the execution of the agent’s actions and tools.\n",
        "executor = load_agent_executor(model, lc_agent_tools, verbose=True)\n",
        "\n",
        "agent = PlanAndExecute(planner=planner, executor=executor, verbose=True)\n",
        "# Now run the agent\n",
        "response = agent.run(\"Compare and contrast the revenue and expenses of Expedia and booking holdings for 2023 and provide an in depth analysis\")\n",
        "\n",
        "print (response)"
      ]
    },
    {
      "cell_type": "code",
      "execution_count": null,
      "metadata": {
        "id": "lzVMbFnDVqav"
      },
      "outputs": [],
      "source": [
        "# Do similarly for Uber and Lyft ....\n",
        "# Now run the agent\n",
        "response = agent.run(\"Compare and contrast the revenue and expenses of Uber and Lyft for 2023 and provide an in depth analysis\")\n",
        "\n",
        "print (response)"
      ]
    },
    {
      "cell_type": "markdown",
      "metadata": {
        "id": "cJXZqi3KZ3r8"
      },
      "source": [
        "#### LLMCompiler\n",
        "Use LlamaIndex LLMCompiler Llama Pack"
      ]
    },
    {
      "cell_type": "code",
      "execution_count": null,
      "metadata": {
        "id": "AiK6LKEOW6Ua"
      },
      "outputs": [],
      "source": [
        "!pip install llama_index-packs-agents-llm-compiler -q"
      ]
    },
    {
      "cell_type": "code",
      "execution_count": null,
      "metadata": {
        "colab": {
          "base_uri": "https://localhost:8080/"
        },
        "id": "T-AeByHH3EyP",
        "outputId": "66334617-6b24-4cf1-bb55-225ebd9eb745"
      },
      "outputs": [
        {
          "name": "stdout",
          "output_type": "stream",
          "text": [
            "> Running step d60d65e8-c0f8-4d2e-bfeb-0ba7c08b708b for task c24a9728-1adb-4326-a91a-198d11976e62.\n",
            "> Step count: 0\n",
            "\u001b[1;3;38;5;200m> Plan: 1. Filing_10k({\"input\": \"expedia 2023 revenue\"})\n",
            "2. Filing_10k({\"input\": \"expedia 2023 expenses\"})\n",
            "3. Filing_10k({\"input\": \"booking holdings 2023 revenue\"})\n",
            "4. Filing_10k({\"input\": \"booking holdings 2023 expenses\"})\n",
            "5. join()<END_OF_PLAN>\n",
            "\u001b[0m\u001b[1;3;34mRan task: Filing_10k. Observation: Booking Holdings Inc. reported revenues of $0 for the year ended December 31, 2023.\n",
            "\u001b[0m\u001b[1;3;34mRan task: Filing_10k. Observation: Expedia Group, Inc. reported a revenue of $12,839 million for the year ended December 31, 2023.\n",
            "\u001b[0m\u001b[1;3;34mRan task: Filing_10k. Observation: Booking Holdings Inc. reported operating expenses of $299 million for the year ended December 31, 2023.\n",
            "\u001b[0m\u001b[1;3;34mRan task: Filing_10k. Observation: Expedia's expenses for the year ended December 31, 2023, are detailed as follows (in millions):\n",
            "\n",
            "- Cost of revenue (exclusive of depreciation and amortization): $1,573\n",
            "- Selling and marketing - direct: $6,107\n",
            "- Selling and marketing - indirect: $756\n",
            "- Technology and content: $1,358\n",
            "- General and administrative: $771\n",
            "- Depreciation and amortization: $807\n",
            "- Impairment of goodwill: $297\n",
            "- Intangible and other long-term asset impairment: $129\n",
            "- Legal reserves, occupancy tax, and other: $8\n",
            "\n",
            "These expenses total to $11,806 million before considering other income and expenses, such as interest income, interest expense, gain or loss on debt extinguishment, gain on sale of business, and other net expenses.\n",
            "\u001b[0m\u001b[1;3;34mRan task: join. Observation: None\n",
            "\u001b[0m\u001b[1;3;38;5;200m> Thought: Expedia reported a revenue of $12,839 million for 2023, while Booking Holdings reported no revenue for the same year. Expedia's expenses totaled $11,806 million, while Booking Holdings' operating expenses were $299 million.\n",
            "\u001b[0m\u001b[1;3;38;5;200m> Answer: Expedia had higher revenue and expenses compared to Booking Holdings in 2023. Expedia's revenue was $12,839 million, while Booking Holdings reported no revenue. Expedia's expenses totaled $11,806 million, while Booking Holdings' operating expenses were $299 million.\n",
            "\u001b[0mExpedia had higher revenue and expenses compared to Booking Holdings in 2023. Expedia's revenue was $12,839 million, while Booking Holdings reported no revenue. Expedia's expenses totaled $11,806 million, while Booking Holdings' operating expenses were $299 million.\n"
          ]
        }
      ],
      "source": [
        "from llama_index.packs.agents_llm_compiler.step import LLMCompilerAgentWorker\n",
        "from llama_index.core.agent import AgentRunner\n",
        "# Instantiate Agent Worker\n",
        "#filing_10k_tools = [expedia_query_tool, booking_query_tool, uber_query_tool, lyft_query_tool]\n",
        "# Let us try with the RouterQueryEngine tool instead of the individual query tool\n",
        "filing_10k_tools = [filing_10k_tool]\n",
        "filing_10k_agent_worker = LLMCompilerAgentWorker.from_tools(\n",
        "                tools = filing_10k_tools,\n",
        "                verbose=True\n",
        "              )\n",
        "filing_10k_agent = AgentRunner(agent_worker=filing_10k_agent_worker)\n",
        "\n",
        "response = filing_10k_agent.chat(\"Compare and contrast the revenue and expenses of expedia and booking holdings for 2023 and provide an in depth analysis\")\n",
        "\n",
        "print (response)\n"
      ]
    }
  ],
  "metadata": {
    "colab": {
      "provenance": [],
      "include_colab_link": true
    },
    "kernelspec": {
      "display_name": "Python 3",
      "name": "python3"
    },
    "language_info": {
      "name": "python"
    }
  },
  "nbformat": 4,
  "nbformat_minor": 0
}