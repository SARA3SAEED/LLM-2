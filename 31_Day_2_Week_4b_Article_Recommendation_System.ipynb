{
  "cells": [
    {
      "cell_type": "markdown",
      "metadata": {
        "id": "view-in-github",
        "colab_type": "text"
      },
      "source": [
        "<a href=\"https://colab.research.google.com/github/SARA3SAEED/LLM-2/blob/main/31_Day_2_Week_4b_Article_Recommendation_System.ipynb\" target=\"_parent\"><img src=\"https://colab.research.google.com/assets/colab-badge.svg\" alt=\"Open In Colab\"/></a>"
      ]
    },
    {
      "cell_type": "markdown",
      "metadata": {
        "id": "7pdEXm5TZczi"
      },
      "source": [
        "# Qdrant & Text Data"
      ]
    },
    {
      "cell_type": "markdown",
      "metadata": {
        "id": "psOOlvW3Zczk"
      },
      "source": [
        "![qdrant](https://github.com/qdrant/examples/blob/master/qdrant_101_text_data/img/crab_nlp.png?raw=1)"
      ]
    },
    {
      "cell_type": "markdown",
      "metadata": {
        "id": "KEfUYnoiZczk"
      },
      "source": [
        "This tutorial will show you how to use Qdrant to develop a semantic search service. At its core, this service will harness Natural Language Processing (NLP) methods and use Qdrant's API to store, search, and manage vectors with an additional payload."
      ]
    },
    {
      "cell_type": "markdown",
      "metadata": {
        "id": "0LKmNIdhZczl"
      },
      "source": [
        "## Table of Contents"
      ]
    },
    {
      "cell_type": "markdown",
      "metadata": {
        "id": "l1mRybGeZczl"
      },
      "source": [
        "1. Learning Outcomes\n",
        "2. Overview\n",
        "3. Prerequisites\n",
        "4. Basic concepts\n",
        "    - Initial setup\n",
        "    - Examine the dataset\n",
        "    - Tokenize and embed data\n",
        "5. Semantic Search with Qdrant\n",
        "6. Recommendations API\n",
        "7. Conclusion\n",
        "8. Resources"
      ]
    },
    {
      "cell_type": "markdown",
      "metadata": {
        "id": "cbUL6f_bZczl"
      },
      "source": [
        "## 1. Learning outcomes"
      ]
    },
    {
      "cell_type": "markdown",
      "metadata": {
        "id": "4kl58PN8Zczl"
      },
      "source": [
        "By the end of this tutorial, you will be able to\n",
        "- Generate embeddings from text data.\n",
        "- Create collections of vectors using Qdrant.\n",
        "- Conduct semantic search over a corpus of documents using Qdrant.\n",
        "- Provide recommendations with Qdrant."
      ]
    },
    {
      "cell_type": "markdown",
      "metadata": {
        "id": "ywG25FCNZczm"
      },
      "source": [
        "## 2. Overview"
      ]
    },
    {
      "cell_type": "markdown",
      "metadata": {
        "id": "0vdwZwjcZczm"
      },
      "source": [
        "Natural Language Processing (NLP) is a branch of artificial intelligence that focuses on the interaction between computers and human language. It involves teaching computers to understand, interpret, and generate human language in a way that is both meaningful and useful. NLP techniques can help us with tasks such as text classification, named entity recognition, sentiment analysis, and language generation.\n",
        "\n",
        "Vector databases specialize in storing and querying high-dimensional vectors. In the context of NLP, vectors are numerical representations of words, sentences, or documents that capture their semantic meaning. These vector representations, often referred to as word embeddings or document embeddings, transform textual data into a numerical format that machines can easily process and analyze.\n",
        "\n",
        "Vector databases serve as efficient storage systems for these vector representations, allowing for fast and accurate similarity searches. They enable users to find similar words, sentences, or documents based on their semantic meaning rather than relying solely on exact matches or keywords. By organizing vectors in a way that facilitates quick retrieval and comparison, Vector databases are instrumental in powering various NLP applications, including information retrieval, recommendation systems, semantic search, and content clustering.\n",
        "\n",
        "NLP and vector databases are connected through vector representations in NLP tasks. Vector representations enable NLP algorithms to understand the contextual relationships and semantic meaning of textual data. By leveraging Vector Databases, NLP systems can efficiently store and retrieve these vector representations, making it easier to process and analyze large volumes of textual data.\n",
        "\n",
        "Throughout this tutorial, we will delve deeper into the fundamentals of NLP and Vector Databases. You will learn how to create embeddings for a sample dataset of newspaper articles via transformers. After that, you will use Qdrant to store, search and recommend best matches for a chosen newspaper article."
      ]
    },
    {
      "cell_type": "markdown",
      "metadata": {
        "id": "OeEsqX-wZczm"
      },
      "source": [
        "## 3. Prerequisites"
      ]
    },
    {
      "cell_type": "markdown",
      "metadata": {
        "id": "rEUcAxyrZczn"
      },
      "source": [
        "To get started, use the latest Qdrant Docker image: `docker pull qdrant/qdrant`.\n",
        "\n",
        "Next, initialize Qdrant with:\n",
        "\n",
        "```sh\n",
        "docker run -p 6333:6333 \\\n",
        "    -v $(pwd)/qdrant_storage:/qdrant/storage \\\n",
        "    qdrant/qdrant\n",
        "```"
      ]
    },
    {
      "cell_type": "code",
      "source": [
        "!docker run -p 6333:6333 -v $(pwd)/qdrant_storage:/qdrant/storage qdrant/qdrant"
      ],
      "metadata": {
        "colab": {
          "base_uri": "https://localhost:8080/"
        },
        "id": "Aaa9S4V4spl0",
        "outputId": "44c66fe0-034c-4be4-b330-ae1ec58f99c8"
      },
      "execution_count": null,
      "outputs": [
        {
          "output_type": "stream",
          "name": "stdout",
          "text": [
            "/bin/bash: line 1: docker: command not found\n"
          ]
        }
      ]
    },
    {
      "cell_type": "code",
      "execution_count": null,
      "metadata": {
        "id": "h9hi_R7GZikD",
        "colab": {
          "base_uri": "https://localhost:8080/",
          "height": 1000
        },
        "outputId": "758cf50d-1388-4d49-e017-0c1b35ad5a7d"
      },
      "outputs": [
        {
          "output_type": "stream",
          "name": "stdout",
          "text": [
            "Collecting qdrant-client\n",
            "  Downloading qdrant_client-1.11.0-py3-none-any.whl.metadata (10 kB)\n",
            "Requirement already satisfied: transformers in /usr/local/lib/python3.10/dist-packages (4.42.4)\n",
            "Collecting datasets\n",
            "  Downloading datasets-2.21.0-py3-none-any.whl.metadata (21 kB)\n",
            "Requirement already satisfied: torch in /usr/local/lib/python3.10/dist-packages (2.3.1+cu121)\n",
            "Collecting fastembed\n",
            "  Downloading fastembed-0.3.4-py3-none-any.whl.metadata (7.8 kB)\n",
            "Requirement already satisfied: matplotlib in /usr/local/lib/python3.10/dist-packages (3.7.1)\n",
            "Requirement already satisfied: grpcio>=1.41.0 in /usr/local/lib/python3.10/dist-packages (from qdrant-client) (1.64.1)\n",
            "Collecting grpcio-tools>=1.41.0 (from qdrant-client)\n",
            "  Downloading grpcio_tools-1.65.5-cp310-cp310-manylinux_2_17_x86_64.manylinux2014_x86_64.whl.metadata (5.3 kB)\n",
            "Collecting httpx>=0.20.0 (from httpx[http2]>=0.20.0->qdrant-client)\n",
            "  Downloading httpx-0.27.0-py3-none-any.whl.metadata (7.2 kB)\n",
            "Requirement already satisfied: numpy>=1.21 in /usr/local/lib/python3.10/dist-packages (from qdrant-client) (1.25.2)\n",
            "Collecting portalocker<3.0.0,>=2.7.0 (from qdrant-client)\n",
            "  Downloading portalocker-2.10.1-py3-none-any.whl.metadata (8.5 kB)\n",
            "Requirement already satisfied: pydantic>=1.10.8 in /usr/local/lib/python3.10/dist-packages (from qdrant-client) (2.8.2)\n",
            "Requirement already satisfied: urllib3<3,>=1.26.14 in /usr/local/lib/python3.10/dist-packages (from qdrant-client) (2.0.7)\n",
            "Requirement already satisfied: filelock in /usr/local/lib/python3.10/dist-packages (from transformers) (3.15.4)\n",
            "Requirement already satisfied: huggingface-hub<1.0,>=0.23.2 in /usr/local/lib/python3.10/dist-packages (from transformers) (0.23.5)\n",
            "Requirement already satisfied: packaging>=20.0 in /usr/local/lib/python3.10/dist-packages (from transformers) (24.1)\n",
            "Requirement already satisfied: pyyaml>=5.1 in /usr/local/lib/python3.10/dist-packages (from transformers) (6.0.1)\n",
            "Requirement already satisfied: regex!=2019.12.17 in /usr/local/lib/python3.10/dist-packages (from transformers) (2024.5.15)\n",
            "Requirement already satisfied: requests in /usr/local/lib/python3.10/dist-packages (from transformers) (2.31.0)\n",
            "Requirement already satisfied: safetensors>=0.4.1 in /usr/local/lib/python3.10/dist-packages (from transformers) (0.4.3)\n",
            "Requirement already satisfied: tokenizers<0.20,>=0.19 in /usr/local/lib/python3.10/dist-packages (from transformers) (0.19.1)\n",
            "Requirement already satisfied: tqdm>=4.27 in /usr/local/lib/python3.10/dist-packages (from transformers) (4.66.4)\n",
            "Collecting pyarrow>=15.0.0 (from datasets)\n",
            "  Downloading pyarrow-17.0.0-cp310-cp310-manylinux_2_28_x86_64.whl.metadata (3.3 kB)\n",
            "Collecting dill<0.3.9,>=0.3.0 (from datasets)\n",
            "  Downloading dill-0.3.8-py3-none-any.whl.metadata (10 kB)\n",
            "Requirement already satisfied: pandas in /usr/local/lib/python3.10/dist-packages (from datasets) (2.0.3)\n",
            "Collecting requests (from transformers)\n",
            "  Downloading requests-2.32.3-py3-none-any.whl.metadata (4.6 kB)\n",
            "Collecting xxhash (from datasets)\n",
            "  Downloading xxhash-3.5.0-cp310-cp310-manylinux_2_17_x86_64.manylinux2014_x86_64.whl.metadata (12 kB)\n",
            "Collecting multiprocess (from datasets)\n",
            "  Downloading multiprocess-0.70.16-py310-none-any.whl.metadata (7.2 kB)\n",
            "Requirement already satisfied: fsspec<=2024.6.1,>=2023.1.0 in /usr/local/lib/python3.10/dist-packages (from fsspec[http]<=2024.6.1,>=2023.1.0->datasets) (2023.6.0)\n",
            "Requirement already satisfied: aiohttp in /usr/local/lib/python3.10/dist-packages (from datasets) (3.9.5)\n",
            "Requirement already satisfied: typing-extensions>=4.8.0 in /usr/local/lib/python3.10/dist-packages (from torch) (4.12.2)\n",
            "Requirement already satisfied: sympy in /usr/local/lib/python3.10/dist-packages (from torch) (1.13.1)\n",
            "Requirement already satisfied: networkx in /usr/local/lib/python3.10/dist-packages (from torch) (3.3)\n",
            "Requirement already satisfied: jinja2 in /usr/local/lib/python3.10/dist-packages (from torch) (3.1.4)\n",
            "Collecting nvidia-cuda-nvrtc-cu12==12.1.105 (from torch)\n",
            "  Using cached nvidia_cuda_nvrtc_cu12-12.1.105-py3-none-manylinux1_x86_64.whl.metadata (1.5 kB)\n",
            "Collecting nvidia-cuda-runtime-cu12==12.1.105 (from torch)\n",
            "  Using cached nvidia_cuda_runtime_cu12-12.1.105-py3-none-manylinux1_x86_64.whl.metadata (1.5 kB)\n",
            "Collecting nvidia-cuda-cupti-cu12==12.1.105 (from torch)\n",
            "  Using cached nvidia_cuda_cupti_cu12-12.1.105-py3-none-manylinux1_x86_64.whl.metadata (1.6 kB)\n",
            "Collecting nvidia-cudnn-cu12==8.9.2.26 (from torch)\n",
            "  Using cached nvidia_cudnn_cu12-8.9.2.26-py3-none-manylinux1_x86_64.whl.metadata (1.6 kB)\n",
            "Collecting nvidia-cublas-cu12==12.1.3.1 (from torch)\n",
            "  Using cached nvidia_cublas_cu12-12.1.3.1-py3-none-manylinux1_x86_64.whl.metadata (1.5 kB)\n",
            "Collecting nvidia-cufft-cu12==11.0.2.54 (from torch)\n",
            "  Using cached nvidia_cufft_cu12-11.0.2.54-py3-none-manylinux1_x86_64.whl.metadata (1.5 kB)\n",
            "Collecting nvidia-curand-cu12==10.3.2.106 (from torch)\n",
            "  Using cached nvidia_curand_cu12-10.3.2.106-py3-none-manylinux1_x86_64.whl.metadata (1.5 kB)\n",
            "Collecting nvidia-cusolver-cu12==11.4.5.107 (from torch)\n",
            "  Using cached nvidia_cusolver_cu12-11.4.5.107-py3-none-manylinux1_x86_64.whl.metadata (1.6 kB)\n",
            "Collecting nvidia-cusparse-cu12==12.1.0.106 (from torch)\n",
            "  Using cached nvidia_cusparse_cu12-12.1.0.106-py3-none-manylinux1_x86_64.whl.metadata (1.6 kB)\n",
            "Collecting nvidia-nccl-cu12==2.20.5 (from torch)\n",
            "  Using cached nvidia_nccl_cu12-2.20.5-py3-none-manylinux2014_x86_64.whl.metadata (1.8 kB)\n",
            "Collecting nvidia-nvtx-cu12==12.1.105 (from torch)\n",
            "  Using cached nvidia_nvtx_cu12-12.1.105-py3-none-manylinux1_x86_64.whl.metadata (1.7 kB)\n",
            "Requirement already satisfied: triton==2.3.1 in /usr/local/lib/python3.10/dist-packages (from torch) (2.3.1)\n",
            "Collecting nvidia-nvjitlink-cu12 (from nvidia-cusolver-cu12==11.4.5.107->torch)\n",
            "  Downloading nvidia_nvjitlink_cu12-12.6.20-py3-none-manylinux2014_x86_64.whl.metadata (1.5 kB)\n",
            "Collecting PyStemmer<3.0.0,>=2.2.0 (from fastembed)\n",
            "  Downloading PyStemmer-2.2.0.1.tar.gz (303 kB)\n",
            "\u001b[2K     \u001b[90m━━━━━━━━━━━━━━━━━━━━━━━━━━━━━━━━━━━━━━━━\u001b[0m \u001b[32m303.0/303.0 kB\u001b[0m \u001b[31m11.0 MB/s\u001b[0m eta \u001b[36m0:00:00\u001b[0m\n",
            "\u001b[?25h  Preparing metadata (setup.py) ... \u001b[?25l\u001b[?25hdone\n",
            "Collecting loguru<0.8.0,>=0.7.2 (from fastembed)\n",
            "  Downloading loguru-0.7.2-py3-none-any.whl.metadata (23 kB)\n",
            "Collecting mmh3<5.0,>=4.0 (from fastembed)\n",
            "  Downloading mmh3-4.1.0-cp310-cp310-manylinux_2_5_x86_64.manylinux1_x86_64.manylinux_2_17_x86_64.manylinux2014_x86_64.whl.metadata (13 kB)\n",
            "Collecting onnx<2.0.0,>=1.15.0 (from fastembed)\n",
            "  Downloading onnx-1.16.2-cp310-cp310-manylinux_2_17_x86_64.manylinux2014_x86_64.whl.metadata (16 kB)\n",
            "Collecting onnxruntime<2.0.0,>=1.17.0 (from fastembed)\n",
            "  Downloading onnxruntime-1.19.0-cp310-cp310-manylinux_2_27_x86_64.manylinux_2_28_x86_64.whl.metadata (4.3 kB)\n",
            "Collecting pillow<11.0.0,>=10.3.0 (from fastembed)\n",
            "  Downloading pillow-10.4.0-cp310-cp310-manylinux_2_28_x86_64.whl.metadata (9.2 kB)\n",
            "Requirement already satisfied: snowballstemmer<3.0.0,>=2.2.0 in /usr/local/lib/python3.10/dist-packages (from fastembed) (2.2.0)\n",
            "Requirement already satisfied: contourpy>=1.0.1 in /usr/local/lib/python3.10/dist-packages (from matplotlib) (1.2.1)\n",
            "Requirement already satisfied: cycler>=0.10 in /usr/local/lib/python3.10/dist-packages (from matplotlib) (0.12.1)\n",
            "Requirement already satisfied: fonttools>=4.22.0 in /usr/local/lib/python3.10/dist-packages (from matplotlib) (4.53.1)\n",
            "Requirement already satisfied: kiwisolver>=1.0.1 in /usr/local/lib/python3.10/dist-packages (from matplotlib) (1.4.5)\n",
            "Requirement already satisfied: pyparsing>=2.3.1 in /usr/local/lib/python3.10/dist-packages (from matplotlib) (3.1.2)\n",
            "Requirement already satisfied: python-dateutil>=2.7 in /usr/local/lib/python3.10/dist-packages (from matplotlib) (2.8.2)\n",
            "Requirement already satisfied: aiosignal>=1.1.2 in /usr/local/lib/python3.10/dist-packages (from aiohttp->datasets) (1.3.1)\n",
            "Requirement already satisfied: attrs>=17.3.0 in /usr/local/lib/python3.10/dist-packages (from aiohttp->datasets) (23.2.0)\n",
            "Requirement already satisfied: frozenlist>=1.1.1 in /usr/local/lib/python3.10/dist-packages (from aiohttp->datasets) (1.4.1)\n",
            "Requirement already satisfied: multidict<7.0,>=4.5 in /usr/local/lib/python3.10/dist-packages (from aiohttp->datasets) (6.0.5)\n",
            "Requirement already satisfied: yarl<2.0,>=1.0 in /usr/local/lib/python3.10/dist-packages (from aiohttp->datasets) (1.9.4)\n",
            "Requirement already satisfied: async-timeout<5.0,>=4.0 in /usr/local/lib/python3.10/dist-packages (from aiohttp->datasets) (4.0.3)\n",
            "Collecting protobuf<6.0dev,>=5.26.1 (from grpcio-tools>=1.41.0->qdrant-client)\n",
            "  Downloading protobuf-5.27.3-cp38-abi3-manylinux2014_x86_64.whl.metadata (592 bytes)\n",
            "Collecting grpcio>=1.41.0 (from qdrant-client)\n",
            "  Downloading grpcio-1.65.5-cp310-cp310-manylinux_2_17_x86_64.manylinux2014_x86_64.whl.metadata (3.3 kB)\n",
            "Requirement already satisfied: setuptools in /usr/local/lib/python3.10/dist-packages (from grpcio-tools>=1.41.0->qdrant-client) (71.0.4)\n",
            "Requirement already satisfied: anyio in /usr/local/lib/python3.10/dist-packages (from httpx>=0.20.0->httpx[http2]>=0.20.0->qdrant-client) (3.7.1)\n",
            "Requirement already satisfied: certifi in /usr/local/lib/python3.10/dist-packages (from httpx>=0.20.0->httpx[http2]>=0.20.0->qdrant-client) (2024.7.4)\n",
            "Collecting httpcore==1.* (from httpx>=0.20.0->httpx[http2]>=0.20.0->qdrant-client)\n",
            "  Downloading httpcore-1.0.5-py3-none-any.whl.metadata (20 kB)\n",
            "Requirement already satisfied: idna in /usr/local/lib/python3.10/dist-packages (from httpx>=0.20.0->httpx[http2]>=0.20.0->qdrant-client) (3.7)\n",
            "Requirement already satisfied: sniffio in /usr/local/lib/python3.10/dist-packages (from httpx>=0.20.0->httpx[http2]>=0.20.0->qdrant-client) (1.3.1)\n",
            "Collecting h11<0.15,>=0.13 (from httpcore==1.*->httpx>=0.20.0->httpx[http2]>=0.20.0->qdrant-client)\n",
            "  Downloading h11-0.14.0-py3-none-any.whl.metadata (8.2 kB)\n",
            "Collecting h2<5,>=3 (from httpx[http2]>=0.20.0->qdrant-client)\n",
            "  Downloading h2-4.1.0-py3-none-any.whl.metadata (3.6 kB)\n",
            "Collecting coloredlogs (from onnxruntime<2.0.0,>=1.17.0->fastembed)\n",
            "  Downloading coloredlogs-15.0.1-py2.py3-none-any.whl.metadata (12 kB)\n",
            "Requirement already satisfied: flatbuffers in /usr/local/lib/python3.10/dist-packages (from onnxruntime<2.0.0,>=1.17.0->fastembed) (24.3.25)\n",
            "Requirement already satisfied: annotated-types>=0.4.0 in /usr/local/lib/python3.10/dist-packages (from pydantic>=1.10.8->qdrant-client) (0.7.0)\n",
            "Requirement already satisfied: pydantic-core==2.20.1 in /usr/local/lib/python3.10/dist-packages (from pydantic>=1.10.8->qdrant-client) (2.20.1)\n",
            "Requirement already satisfied: six>=1.5 in /usr/local/lib/python3.10/dist-packages (from python-dateutil>=2.7->matplotlib) (1.16.0)\n",
            "Requirement already satisfied: charset-normalizer<4,>=2 in /usr/local/lib/python3.10/dist-packages (from requests->transformers) (3.3.2)\n",
            "Requirement already satisfied: MarkupSafe>=2.0 in /usr/local/lib/python3.10/dist-packages (from jinja2->torch) (2.1.5)\n",
            "Requirement already satisfied: pytz>=2020.1 in /usr/local/lib/python3.10/dist-packages (from pandas->datasets) (2023.4)\n",
            "Requirement already satisfied: tzdata>=2022.1 in /usr/local/lib/python3.10/dist-packages (from pandas->datasets) (2024.1)\n",
            "Requirement already satisfied: mpmath<1.4,>=1.1.0 in /usr/local/lib/python3.10/dist-packages (from sympy->torch) (1.3.0)\n",
            "Collecting hyperframe<7,>=6.0 (from h2<5,>=3->httpx[http2]>=0.20.0->qdrant-client)\n",
            "  Downloading hyperframe-6.0.1-py3-none-any.whl.metadata (2.7 kB)\n",
            "Collecting hpack<5,>=4.0 (from h2<5,>=3->httpx[http2]>=0.20.0->qdrant-client)\n",
            "  Downloading hpack-4.0.0-py3-none-any.whl.metadata (2.5 kB)\n",
            "Requirement already satisfied: exceptiongroup in /usr/local/lib/python3.10/dist-packages (from anyio->httpx>=0.20.0->httpx[http2]>=0.20.0->qdrant-client) (1.2.2)\n",
            "Collecting humanfriendly>=9.1 (from coloredlogs->onnxruntime<2.0.0,>=1.17.0->fastembed)\n",
            "  Downloading humanfriendly-10.0-py2.py3-none-any.whl.metadata (9.2 kB)\n",
            "Downloading qdrant_client-1.11.0-py3-none-any.whl (258 kB)\n",
            "\u001b[2K   \u001b[90m━━━━━━━━━━━━━━━━━━━━━━━━━━━━━━━━━━━━━━━━\u001b[0m \u001b[32m258.9/258.9 kB\u001b[0m \u001b[31m18.8 MB/s\u001b[0m eta \u001b[36m0:00:00\u001b[0m\n",
            "\u001b[?25hDownloading datasets-2.21.0-py3-none-any.whl (527 kB)\n",
            "\u001b[2K   \u001b[90m━━━━━━━━━━━━━━━━━━━━━━━━━━━━━━━━━━━━━━━━\u001b[0m \u001b[32m527.3/527.3 kB\u001b[0m \u001b[31m30.3 MB/s\u001b[0m eta \u001b[36m0:00:00\u001b[0m\n",
            "\u001b[?25hUsing cached nvidia_cublas_cu12-12.1.3.1-py3-none-manylinux1_x86_64.whl (410.6 MB)\n",
            "Using cached nvidia_cuda_cupti_cu12-12.1.105-py3-none-manylinux1_x86_64.whl (14.1 MB)\n",
            "Using cached nvidia_cuda_nvrtc_cu12-12.1.105-py3-none-manylinux1_x86_64.whl (23.7 MB)\n",
            "Using cached nvidia_cuda_runtime_cu12-12.1.105-py3-none-manylinux1_x86_64.whl (823 kB)\n",
            "Using cached nvidia_cudnn_cu12-8.9.2.26-py3-none-manylinux1_x86_64.whl (731.7 MB)\n",
            "Using cached nvidia_cufft_cu12-11.0.2.54-py3-none-manylinux1_x86_64.whl (121.6 MB)\n",
            "Using cached nvidia_curand_cu12-10.3.2.106-py3-none-manylinux1_x86_64.whl (56.5 MB)\n",
            "Using cached nvidia_cusolver_cu12-11.4.5.107-py3-none-manylinux1_x86_64.whl (124.2 MB)\n",
            "Using cached nvidia_cusparse_cu12-12.1.0.106-py3-none-manylinux1_x86_64.whl (196.0 MB)\n",
            "Using cached nvidia_nccl_cu12-2.20.5-py3-none-manylinux2014_x86_64.whl (176.2 MB)\n",
            "Using cached nvidia_nvtx_cu12-12.1.105-py3-none-manylinux1_x86_64.whl (99 kB)\n",
            "Downloading fastembed-0.3.4-py3-none-any.whl (55 kB)\n",
            "\u001b[2K   \u001b[90m━━━━━━━━━━━━━━━━━━━━━━━━━━━━━━━━━━━━━━━━\u001b[0m \u001b[32m55.0/55.0 kB\u001b[0m \u001b[31m106.5 kB/s\u001b[0m eta \u001b[36m0:00:00\u001b[0m\n",
            "\u001b[?25hDownloading dill-0.3.8-py3-none-any.whl (116 kB)\n",
            "\u001b[2K   \u001b[90m━━━━━━━━━━━━━━━━━━━━━━━━━━━━━━━━━━━━━━━━\u001b[0m \u001b[32m116.3/116.3 kB\u001b[0m \u001b[31m5.2 MB/s\u001b[0m eta \u001b[36m0:00:00\u001b[0m\n",
            "\u001b[?25hDownloading grpcio_tools-1.65.5-cp310-cp310-manylinux_2_17_x86_64.manylinux2014_x86_64.whl (2.3 MB)\n",
            "\u001b[2K   \u001b[90m━━━━━━━━━━━━━━━━━━━━━━━━━━━━━━━━━━━━━━━━\u001b[0m \u001b[32m2.3/2.3 MB\u001b[0m \u001b[31m49.6 MB/s\u001b[0m eta \u001b[36m0:00:00\u001b[0m\n",
            "\u001b[?25hDownloading grpcio-1.65.5-cp310-cp310-manylinux_2_17_x86_64.manylinux2014_x86_64.whl (5.7 MB)\n",
            "\u001b[2K   \u001b[90m━━━━━━━━━━━━━━━━━━━━━━━━━━━━━━━━━━━━━━━━\u001b[0m \u001b[32m5.7/5.7 MB\u001b[0m \u001b[31m48.5 MB/s\u001b[0m eta \u001b[36m0:00:00\u001b[0m\n",
            "\u001b[?25hDownloading httpx-0.27.0-py3-none-any.whl (75 kB)\n",
            "\u001b[2K   \u001b[90m━━━━━━━━━━━━━━━━━━━━━━━━━━━━━━━━━━━━━━━━\u001b[0m \u001b[32m75.6/75.6 kB\u001b[0m \u001b[31m5.1 MB/s\u001b[0m eta \u001b[36m0:00:00\u001b[0m\n",
            "\u001b[?25hDownloading httpcore-1.0.5-py3-none-any.whl (77 kB)\n",
            "\u001b[2K   \u001b[90m━━━━━━━━━━━━━━━━━━━━━━━━━━━━━━━━━━━━━━━━\u001b[0m \u001b[32m77.9/77.9 kB\u001b[0m \u001b[31m4.6 MB/s\u001b[0m eta \u001b[36m0:00:00\u001b[0m\n",
            "\u001b[?25hDownloading loguru-0.7.2-py3-none-any.whl (62 kB)\n",
            "\u001b[2K   \u001b[90m━━━━━━━━━━━━━━━━━━━━━━━━━━━━━━━━━━━━━━━━\u001b[0m \u001b[32m62.5/62.5 kB\u001b[0m \u001b[31m3.8 MB/s\u001b[0m eta \u001b[36m0:00:00\u001b[0m\n",
            "\u001b[?25hDownloading mmh3-4.1.0-cp310-cp310-manylinux_2_5_x86_64.manylinux1_x86_64.manylinux_2_17_x86_64.manylinux2014_x86_64.whl (67 kB)\n",
            "\u001b[2K   \u001b[90m━━━━━━━━━━━━━━━━━━━━━━━━━━━━━━━━━━━━━━━━\u001b[0m \u001b[32m67.6/67.6 kB\u001b[0m \u001b[31m4.8 MB/s\u001b[0m eta \u001b[36m0:00:00\u001b[0m\n",
            "\u001b[?25hDownloading onnx-1.16.2-cp310-cp310-manylinux_2_17_x86_64.manylinux2014_x86_64.whl (15.9 MB)\n",
            "\u001b[2K   \u001b[90m━━━━━━━━━━━━━━━━━━━━━━━━━━━━━━━━━━━━━━━━\u001b[0m \u001b[32m15.9/15.9 MB\u001b[0m \u001b[31m56.2 MB/s\u001b[0m eta \u001b[36m0:00:00\u001b[0m\n",
            "\u001b[?25hDownloading onnxruntime-1.19.0-cp310-cp310-manylinux_2_27_x86_64.manylinux_2_28_x86_64.whl (13.2 MB)\n",
            "\u001b[2K   \u001b[90m━━━━━━━━━━━━━━━━━━━━━━━━━━━━━━━━━━━━━━━━\u001b[0m \u001b[32m13.2/13.2 MB\u001b[0m \u001b[31m62.2 MB/s\u001b[0m eta \u001b[36m0:00:00\u001b[0m\n",
            "\u001b[?25hDownloading pillow-10.4.0-cp310-cp310-manylinux_2_28_x86_64.whl (4.5 MB)\n",
            "\u001b[2K   \u001b[90m━━━━━━━━━━━━━━━━━━━━━━━━━━━━━━━━━━━━━━━━\u001b[0m \u001b[32m4.5/4.5 MB\u001b[0m \u001b[31m64.1 MB/s\u001b[0m eta \u001b[36m0:00:00\u001b[0m\n",
            "\u001b[?25hDownloading portalocker-2.10.1-py3-none-any.whl (18 kB)\n",
            "Downloading pyarrow-17.0.0-cp310-cp310-manylinux_2_28_x86_64.whl (39.9 MB)\n",
            "\u001b[2K   \u001b[90m━━━━━━━━━━━━━━━━━━━━━━━━━━━━━━━━━━━━━━━━\u001b[0m \u001b[32m39.9/39.9 MB\u001b[0m \u001b[31m15.0 MB/s\u001b[0m eta \u001b[36m0:00:00\u001b[0m\n",
            "\u001b[?25hDownloading requests-2.32.3-py3-none-any.whl (64 kB)\n",
            "\u001b[2K   \u001b[90m━━━━━━━━━━━━━━━━━━━━━━━━━━━━━━━━━━━━━━━━\u001b[0m \u001b[32m64.9/64.9 kB\u001b[0m \u001b[31m4.0 MB/s\u001b[0m eta \u001b[36m0:00:00\u001b[0m\n",
            "\u001b[?25hDownloading multiprocess-0.70.16-py310-none-any.whl (134 kB)\n",
            "\u001b[2K   \u001b[90m━━━━━━━━━━━━━━━━━━━━━━━━━━━━━━━━━━━━━━━━\u001b[0m \u001b[32m134.8/134.8 kB\u001b[0m \u001b[31m9.4 MB/s\u001b[0m eta \u001b[36m0:00:00\u001b[0m\n",
            "\u001b[?25hDownloading xxhash-3.5.0-cp310-cp310-manylinux_2_17_x86_64.manylinux2014_x86_64.whl (194 kB)\n",
            "\u001b[2K   \u001b[90m━━━━━━━━━━━━━━━━━━━━━━━━━━━━━━━━━━━━━━━━\u001b[0m \u001b[32m194.1/194.1 kB\u001b[0m \u001b[31m12.4 MB/s\u001b[0m eta \u001b[36m0:00:00\u001b[0m\n",
            "\u001b[?25hDownloading h2-4.1.0-py3-none-any.whl (57 kB)\n",
            "\u001b[2K   \u001b[90m━━━━━━━━━━━━━━━━━━━━━━━━━━━━━━━━━━━━━━━━\u001b[0m \u001b[32m57.5/57.5 kB\u001b[0m \u001b[31m3.6 MB/s\u001b[0m eta \u001b[36m0:00:00\u001b[0m\n",
            "\u001b[?25hDownloading protobuf-5.27.3-cp38-abi3-manylinux2014_x86_64.whl (309 kB)\n",
            "\u001b[2K   \u001b[90m━━━━━━━━━━━━━━━━━━━━━━━━━━━━━━━━━━━━━━━━\u001b[0m \u001b[32m309.3/309.3 kB\u001b[0m \u001b[31m18.6 MB/s\u001b[0m eta \u001b[36m0:00:00\u001b[0m\n",
            "\u001b[?25hDownloading coloredlogs-15.0.1-py2.py3-none-any.whl (46 kB)\n",
            "\u001b[2K   \u001b[90m━━━━━━━━━━━━━━━━━━━━━━━━━━━━━━━━━━━━━━━━\u001b[0m \u001b[32m46.0/46.0 kB\u001b[0m \u001b[31m3.0 MB/s\u001b[0m eta \u001b[36m0:00:00\u001b[0m\n",
            "\u001b[?25hDownloading nvidia_nvjitlink_cu12-12.6.20-py3-none-manylinux2014_x86_64.whl (19.7 MB)\n",
            "\u001b[2K   \u001b[90m━━━━━━━━━━━━━━━━━━━━━━━━━━━━━━━━━━━━━━━━\u001b[0m \u001b[32m19.7/19.7 MB\u001b[0m \u001b[31m61.9 MB/s\u001b[0m eta \u001b[36m0:00:00\u001b[0m\n",
            "\u001b[?25hDownloading h11-0.14.0-py3-none-any.whl (58 kB)\n",
            "\u001b[2K   \u001b[90m━━━━━━━━━━━━━━━━━━━━━━━━━━━━━━━━━━━━━━━━\u001b[0m \u001b[32m58.3/58.3 kB\u001b[0m \u001b[31m3.6 MB/s\u001b[0m eta \u001b[36m0:00:00\u001b[0m\n",
            "\u001b[?25hDownloading hpack-4.0.0-py3-none-any.whl (32 kB)\n",
            "Downloading humanfriendly-10.0-py2.py3-none-any.whl (86 kB)\n",
            "\u001b[2K   \u001b[90m━━━━━━━━━━━━━━━━━━━━━━━━━━━━━━━━━━━━━━━━\u001b[0m \u001b[32m86.8/86.8 kB\u001b[0m \u001b[31m6.1 MB/s\u001b[0m eta \u001b[36m0:00:00\u001b[0m\n",
            "\u001b[?25hDownloading hyperframe-6.0.1-py3-none-any.whl (12 kB)\n",
            "Building wheels for collected packages: PyStemmer\n",
            "  Building wheel for PyStemmer (setup.py) ... \u001b[?25l\u001b[?25hdone\n",
            "  Created wheel for PyStemmer: filename=PyStemmer-2.2.0.1-cp310-cp310-linux_x86_64.whl size=579702 sha256=27b1c89925cf927e342ee9f273995b7c95cc6d3f7ad0cde36432337689d45268\n",
            "  Stored in directory: /root/.cache/pip/wheels/45/7d/2c/a7ebb8319e01acc5306fa1f8558bf24063d6cec2c02de330c9\n",
            "Successfully built PyStemmer\n",
            "Installing collected packages: PyStemmer, mmh3, xxhash, requests, pyarrow, protobuf, portalocker, pillow, nvidia-nvtx-cu12, nvidia-nvjitlink-cu12, nvidia-nccl-cu12, nvidia-curand-cu12, nvidia-cufft-cu12, nvidia-cuda-runtime-cu12, nvidia-cuda-nvrtc-cu12, nvidia-cuda-cupti-cu12, nvidia-cublas-cu12, loguru, hyperframe, humanfriendly, hpack, h11, grpcio, dill, onnx, nvidia-cusparse-cu12, nvidia-cudnn-cu12, multiprocess, httpcore, h2, grpcio-tools, coloredlogs, onnxruntime, nvidia-cusolver-cu12, httpx, fastembed, datasets, qdrant-client\n",
            "  Attempting uninstall: requests\n",
            "    Found existing installation: requests 2.31.0\n",
            "    Uninstalling requests-2.31.0:\n",
            "      Successfully uninstalled requests-2.31.0\n",
            "  Attempting uninstall: pyarrow\n",
            "    Found existing installation: pyarrow 14.0.2\n",
            "    Uninstalling pyarrow-14.0.2:\n",
            "      Successfully uninstalled pyarrow-14.0.2\n",
            "  Attempting uninstall: protobuf\n",
            "    Found existing installation: protobuf 3.20.3\n",
            "    Uninstalling protobuf-3.20.3:\n",
            "      Successfully uninstalled protobuf-3.20.3\n",
            "  Attempting uninstall: pillow\n",
            "    Found existing installation: Pillow 9.4.0\n",
            "    Uninstalling Pillow-9.4.0:\n",
            "      Successfully uninstalled Pillow-9.4.0\n",
            "  Attempting uninstall: grpcio\n",
            "    Found existing installation: grpcio 1.64.1\n",
            "    Uninstalling grpcio-1.64.1:\n",
            "      Successfully uninstalled grpcio-1.64.1\n",
            "\u001b[31mERROR: pip's dependency resolver does not currently take into account all the packages that are installed. This behaviour is the source of the following dependency conflicts.\n",
            "cudf-cu12 24.4.1 requires protobuf<5,>=3.20, but you have protobuf 5.27.3 which is incompatible.\n",
            "cudf-cu12 24.4.1 requires pyarrow<15.0.0a0,>=14.0.1, but you have pyarrow 17.0.0 which is incompatible.\n",
            "google-ai-generativelanguage 0.6.6 requires protobuf!=3.20.0,!=3.20.1,!=4.21.0,!=4.21.1,!=4.21.2,!=4.21.3,!=4.21.4,!=4.21.5,<5.0.0dev,>=3.19.5, but you have protobuf 5.27.3 which is incompatible.\n",
            "google-cloud-aiplatform 1.59.0 requires protobuf!=3.20.0,!=3.20.1,!=4.21.0,!=4.21.1,!=4.21.2,!=4.21.3,!=4.21.4,!=4.21.5,<5.0.0dev,>=3.19.5, but you have protobuf 5.27.3 which is incompatible.\n",
            "google-cloud-bigquery-storage 2.25.0 requires protobuf!=3.20.0,!=3.20.1,!=4.21.0,!=4.21.1,!=4.21.2,!=4.21.3,!=4.21.4,!=4.21.5,<5.0.0dev,>=3.19.5, but you have protobuf 5.27.3 which is incompatible.\n",
            "google-cloud-bigtable 2.24.0 requires protobuf!=3.20.0,!=3.20.1,!=4.21.0,!=4.21.1,!=4.21.2,!=4.21.3,!=4.21.4,!=4.21.5,<5.0.0dev,>=3.19.5, but you have protobuf 5.27.3 which is incompatible.\n",
            "google-cloud-datastore 2.19.0 requires protobuf!=3.20.0,!=3.20.1,!=4.21.0,!=4.21.1,!=4.21.2,!=4.21.3,!=4.21.4,!=4.21.5,<5.0.0dev,>=3.19.5, but you have protobuf 5.27.3 which is incompatible.\n",
            "google-cloud-firestore 2.16.1 requires protobuf!=3.20.0,!=3.20.1,!=4.21.0,!=4.21.1,!=4.21.2,!=4.21.3,!=4.21.4,!=4.21.5,<5.0.0dev,>=3.19.5, but you have protobuf 5.27.3 which is incompatible.\n",
            "google-colab 1.0.0 requires requests==2.31.0, but you have requests 2.32.3 which is incompatible.\n",
            "ibis-framework 8.0.0 requires pyarrow<16,>=2, but you have pyarrow 17.0.0 which is incompatible.\n",
            "imageio 2.31.6 requires pillow<10.1.0,>=8.3.2, but you have pillow 10.4.0 which is incompatible.\n",
            "tensorflow 2.15.0 requires protobuf!=4.21.0,!=4.21.1,!=4.21.2,!=4.21.3,!=4.21.4,!=4.21.5,<5.0.0dev,>=3.20.3, but you have protobuf 5.27.3 which is incompatible.\n",
            "tensorflow-metadata 1.15.0 requires protobuf<4.21,>=3.20.3; python_version < \"3.11\", but you have protobuf 5.27.3 which is incompatible.\u001b[0m\u001b[31m\n",
            "\u001b[0mSuccessfully installed PyStemmer-2.2.0.1 coloredlogs-15.0.1 datasets-2.21.0 dill-0.3.8 fastembed-0.3.4 grpcio-1.65.5 grpcio-tools-1.65.5 h11-0.14.0 h2-4.1.0 hpack-4.0.0 httpcore-1.0.5 httpx-0.27.0 humanfriendly-10.0 hyperframe-6.0.1 loguru-0.7.2 mmh3-4.1.0 multiprocess-0.70.16 nvidia-cublas-cu12-12.1.3.1 nvidia-cuda-cupti-cu12-12.1.105 nvidia-cuda-nvrtc-cu12-12.1.105 nvidia-cuda-runtime-cu12-12.1.105 nvidia-cudnn-cu12-8.9.2.26 nvidia-cufft-cu12-11.0.2.54 nvidia-curand-cu12-10.3.2.106 nvidia-cusolver-cu12-11.4.5.107 nvidia-cusparse-cu12-12.1.0.106 nvidia-nccl-cu12-2.20.5 nvidia-nvjitlink-cu12-12.6.20 nvidia-nvtx-cu12-12.1.105 onnx-1.16.2 onnxruntime-1.19.0 pillow-10.4.0 portalocker-2.10.1 protobuf-5.27.3 pyarrow-17.0.0 qdrant-client-1.11.0 requests-2.32.3 xxhash-3.5.0\n"
          ]
        },
        {
          "output_type": "display_data",
          "data": {
            "application/vnd.colab-display-data+json": {
              "pip_warning": {
                "packages": [
                  "PIL"
                ]
              },
              "id": "8de185ff46da4fcda78d72a4db901148"
            }
          },
          "metadata": {}
        }
      ],
      "source": [
        "# install packages\n",
        "%pip install qdrant-client transformers datasets torch fastembed matplotlib"
      ]
    },
    {
      "cell_type": "markdown",
      "metadata": {
        "id": "2UAZwFzsZczn"
      },
      "source": [
        "## 4. Basic concepts"
      ]
    },
    {
      "cell_type": "markdown",
      "metadata": {
        "id": "7xQUPZ8TZczn"
      },
      "source": [
        "You might have heard of models like [GPT-4](https://openai.com/product/gpt-4), [Codex](https://openai.com/blog/openai-codex), and [PaLM-2](https://ai.google/discover/palm2) which are powering incredible tools such as [ChatGPT](https://openai.com/blog/chatgpt), [GitHub Copilot](https://github.com/features/copilot), and [Bard](https://bard.google.com/?hl=en), respectively. These three models are part of a family of deep learning architectures called [transformers](https://arxiv.org/abs/1706.03762). Transformers are known for their ability to learn long-range dependencies between words in a sentence. This ability to learn from text makes them well-suited for tasks such as machine translation, text summarization, and question answering. The transformers architecture has been incredibly influential in the field of machine learning, and one of the tools at the heart of this is the [`transformers`](https://huggingface.co/docs/transformers/index) library.\n",
        "\n",
        "Transformer models work by using a technique called attention, which allows them to focus on different parts of a sentence when making predictions. For example, if you are trying to translate a sentence from English to Spanish, the transformer model will use attention to focus on the words in the English sentence that are most important for the translation into Spanish.\n",
        "\n",
        "One analogy that can be used to explain transformer models is to think of them as a group of people who are trying to solve a puzzle. Each person in the group is given a different piece of the puzzle, and they need to work together to figure out how the pieces fit together. The transformer model is like the group of people, and the attention mechanism is like the way that the people in the group communicate with each other.\n",
        "\n",
        "Transformers are essential to this tutorial. Your initial task is to 1) load sample data, 2) transform it and 3) create embeddings. You will then store the embeddings 4) in the Qdrant vector database and 5) retrieve the data using a recommendation system."
      ]
    },
    {
      "cell_type": "markdown",
      "metadata": {
        "id": "97PlpD6TZczn"
      },
      "source": [
        "### 4.1 Initial setup"
      ]
    },
    {
      "cell_type": "markdown",
      "metadata": {
        "id": "KQcKOAVPZczn"
      },
      "source": [
        "In this tutorial, you will create a newspaper article recommendation system. When the user chooses an article, the system will suggest other articles that are similar.\n",
        "\n",
        "You will use the **AG News** [sample data set from HuggingFace](https://huggingface.co/datasets/ag_news):\n",
        "\n",
        "> \"AG is a collection of more than 1 million news articles. News articles have been gathered from more than 2000 news sources by ComeToMyHead in more than 1 year of activity. ComeToMyHead is an academic news search engine which has been running since July, 2004. The dataset is provided by the academic comunity for research purposes in data mining (clustering, classification, etc), information retrieval (ranking, search, etc), xml, data compression, data streaming, and any other non-commercial activity. For more information, please refer to the link http://www.di.unipi.it/~gulli/AG_corpus_of_news_articles.html\""
      ]
    },
    {
      "cell_type": "markdown",
      "metadata": {
        "id": "G2eDEqVuZczn"
      },
      "source": [
        "### 4.2 Load sample dataset"
      ]
    },
    {
      "cell_type": "markdown",
      "metadata": {
        "id": "zTqJuZxTZczn"
      },
      "source": [
        "Use HuggingFace's [`datasets`](https://huggingface.co/docs/datasets/index) library to download the dataset and load it into your session. This library is quick, efficient and will allow you to manipulate unstructured data in other ways.\n",
        "\n",
        "The `load_dataset` function directly downloads the dataset from the [HuggingFace Data Hub](https://huggingface.co/datasets) to your local machine."
      ]
    },
    {
      "cell_type": "code",
      "execution_count": null,
      "metadata": {
        "id": "6SvDifhmZczn"
      },
      "outputs": [],
      "source": [
        "from datasets import load_dataset"
      ]
    },
    {
      "cell_type": "markdown",
      "metadata": {
        "id": "TDFa_PAUZczo"
      },
      "source": [
        "Indicate that you want to **split** the dataset into a `train` set only. This avoids creating partitions."
      ]
    },
    {
      "cell_type": "code",
      "execution_count": null,
      "metadata": {
        "colab": {
          "base_uri": "https://localhost:8080/",
          "height": 371,
          "referenced_widgets": [
            "5d856b16fc0441c0a1d17e6a2b17cfe4",
            "cc3dfa06ec464db38395476f226df798",
            "47b9943c69fb41799af9e05081acf118",
            "c294841ca5464c73b58149283eb4ffbb",
            "882531a9537d4899a0aef0795e75530e",
            "ab5994bcc50d427b946340577fb5a608",
            "f81e3c6075324a7dabb51d4692817530",
            "42b9af454b444514ba05d41f781f4a4d",
            "1aa8e8a08c7e4b3a9dc64da1aeb207f9",
            "a8c146635d82431ab2828c8529db5eac",
            "f8c6fc1b067e4e3ab973425281eed7be",
            "ab10e43c60cf4bddb9306c7e721b4ae5",
            "616c930268d84fa6b92a18d4d1096668",
            "a48a8ff9ef664559ad790d72b901cca7",
            "2bd351f737fa4aafad2fb9a9fc5e85c9",
            "6599782a42384d0392b9266507790e72",
            "1256b3183b344bb99d0b5a0219f0fb1b",
            "a6adbcfdb72b499b88122d322ad551fa",
            "446e794087fd41eb869c412ed4d3e92d",
            "7d59c0ccab244a36a889f3c80c8fd688",
            "f8ff864a36274f9c9bcc4cf3f603434b",
            "e708276cc99d471ba658c6b0e9831d03",
            "2b5f21565a724cdd81945fabb37c8292",
            "6d09c28b0cf84d59b9a47df9b25a158d",
            "daa2fb9cbaeb4076ac8bb8d6768c3a86",
            "7be8848179f144749d1f49fa096b8259",
            "aa6f59a19fc448cbacefb3396790cd10",
            "ca927c1ac59f4218816146803aeaccd4",
            "87dd2139c64d412c805da4d994245de5",
            "be683cac191347c785d35140dcdeb968",
            "78e35ccd8d724e26a35915737948ec32",
            "0036a1841ff443b1bf1dfae8d9f83395",
            "a287ecf5da6147099f8e2cbb7e0138f0",
            "1134edb852644755bab555d6674bf72f",
            "ce93055515354bf0bdbb494b9818ded3",
            "d24866983c514dc3a1ac67d92f28a8c4",
            "d3e1a4275edb4acdb73847c628882c2f",
            "bc4a8e51dca9460db2ed89f61b4884e3",
            "80e3e1ff4c614d5c8fd90b0ecb0a6752",
            "d2248ef074ce4d11b25638acba9a26a3",
            "fae70a11ea7547bda521fce8e8f4d5bd",
            "275873ab1a374c2bbb0c8c87397431fd",
            "b9740c91c09142ed8103569d89dd00ca",
            "e1f79aa11d404563a3026c183488a756",
            "b6b07035788845dfaefaf255295a702b",
            "7c3e83f3853840dc921e1997b4a424ff",
            "a5042c4d206f4ac3a726bc30b73ebf7f",
            "63bb15e16c5044b9b9dcec2b9339fda5",
            "7eae54c22cfc40f78301c1b1c621e4bf",
            "231f0b02cab541a1a6bf2e6a4dda8fff",
            "9612974c41f0490dae42597634743895",
            "0e894539812f4116a428cc4a65f6c5f4",
            "bb43c5a3f1624b7195c751af3a51e2c0",
            "68e308a1ebc84327a85202b3d19b2974",
            "7d872eb79460428cb11636f3d2f6033a"
          ]
        },
        "id": "DkGwLShwZczo",
        "outputId": "beb7f8b0-6873-4317-b162-d2e96a40d7c5"
      },
      "outputs": [
        {
          "output_type": "stream",
          "name": "stderr",
          "text": [
            "/usr/local/lib/python3.10/dist-packages/huggingface_hub/utils/_token.py:89: UserWarning: \n",
            "The secret `HF_TOKEN` does not exist in your Colab secrets.\n",
            "To authenticate with the Hugging Face Hub, create a token in your settings tab (https://huggingface.co/settings/tokens), set it as secret in your Google Colab and restart your session.\n",
            "You will be able to reuse this secret in all of your notebooks.\n",
            "Please note that authentication is recommended but still optional to access public models or datasets.\n",
            "  warnings.warn(\n"
          ]
        },
        {
          "output_type": "display_data",
          "data": {
            "text/plain": [
              "Downloading readme:   0%|          | 0.00/8.07k [00:00<?, ?B/s]"
            ],
            "application/vnd.jupyter.widget-view+json": {
              "version_major": 2,
              "version_minor": 0,
              "model_id": "5d856b16fc0441c0a1d17e6a2b17cfe4"
            }
          },
          "metadata": {}
        },
        {
          "output_type": "display_data",
          "data": {
            "text/plain": [
              "Downloading data:   0%|          | 0.00/18.6M [00:00<?, ?B/s]"
            ],
            "application/vnd.jupyter.widget-view+json": {
              "version_major": 2,
              "version_minor": 0,
              "model_id": "ab10e43c60cf4bddb9306c7e721b4ae5"
            }
          },
          "metadata": {}
        },
        {
          "output_type": "display_data",
          "data": {
            "text/plain": [
              "Downloading data:   0%|          | 0.00/1.23M [00:00<?, ?B/s]"
            ],
            "application/vnd.jupyter.widget-view+json": {
              "version_major": 2,
              "version_minor": 0,
              "model_id": "2b5f21565a724cdd81945fabb37c8292"
            }
          },
          "metadata": {}
        },
        {
          "output_type": "display_data",
          "data": {
            "text/plain": [
              "Generating train split:   0%|          | 0/120000 [00:00<?, ? examples/s]"
            ],
            "application/vnd.jupyter.widget-view+json": {
              "version_major": 2,
              "version_minor": 0,
              "model_id": "1134edb852644755bab555d6674bf72f"
            }
          },
          "metadata": {}
        },
        {
          "output_type": "display_data",
          "data": {
            "text/plain": [
              "Generating test split:   0%|          | 0/7600 [00:00<?, ? examples/s]"
            ],
            "application/vnd.jupyter.widget-view+json": {
              "version_major": 2,
              "version_minor": 0,
              "model_id": "b6b07035788845dfaefaf255295a702b"
            }
          },
          "metadata": {}
        },
        {
          "output_type": "execute_result",
          "data": {
            "text/plain": [
              "Dataset({\n",
              "    features: ['text', 'label'],\n",
              "    num_rows: 120000\n",
              "})"
            ]
          },
          "metadata": {},
          "execution_count": 4
        }
      ],
      "source": [
        "dataset = load_dataset(\"ag_news\", split=\"train\")\n",
        "dataset"
      ]
    },
    {
      "cell_type": "markdown",
      "metadata": {
        "id": "YfWKdBptZczp"
      },
      "source": [
        "### 4.3 Examine the dataset"
      ]
    },
    {
      "cell_type": "markdown",
      "metadata": {
        "id": "jECgML8-Zczp"
      },
      "source": [
        "Now that we have loaded the dataset, let's look at some sample articles:"
      ]
    },
    {
      "cell_type": "code",
      "source": [
        "dataset"
      ],
      "metadata": {
        "colab": {
          "base_uri": "https://localhost:8080/"
        },
        "id": "V12P1IPQrM_H",
        "outputId": "ddda8d08-d7c5-4b69-9fc5-47ef54b850ad"
      },
      "execution_count": null,
      "outputs": [
        {
          "output_type": "execute_result",
          "data": {
            "text/plain": [
              "Dataset({\n",
              "    features: ['text', 'label', 'length_of_text'],\n",
              "    num_rows: 120000\n",
              "})"
            ]
          },
          "metadata": {},
          "execution_count": 31
        }
      ]
    },
    {
      "cell_type": "code",
      "execution_count": null,
      "metadata": {
        "colab": {
          "base_uri": "https://localhost:8080/"
        },
        "id": "JA3hE7HPZczp",
        "outputId": "8a825368-7fc1-4efc-831e-68375a819ea4"
      },
      "outputs": [
        {
          "output_type": "stream",
          "name": "stdout",
          "text": [
            "Sample 1\n",
            "======================================================================\n",
            "13 Palestinians killed in Gaza strike GAZA CITY, Gaza Strip -- Israeli helicopters attacked a Hamas training field yesterday morning, killing at least 13 Palestinians and wounding 25 in the bloodiest strike in Gaza in months, officials from both sides said. Most of the casualties allegedly were members of the anti-Israeli militant group.\n",
            "\n",
            "Sample 2\n",
            "======================================================================\n",
            "Ferrari on Top in Practice for Brazil GP Rubens Barrichello set the pace Friday in his native city, just ahead of Ferrari teammate Michael Schumacher, as the two took the top times in practice for the Brazilian Grand Prix.\n",
            "\n",
            "Sample 3\n",
            "======================================================================\n",
            "Zenden brace invigorates vibrant Middlesbrough IT HAS taken 128 years but after all the pain and pessimism, plus the passion, persistence and pockets of Steve Gibson, the chairman, Middlesbrough were finally allowed to play with the big boys last night.\n",
            "\n",
            "Sample 4\n",
            "======================================================================\n",
            "France advises its citizens against travelling to Saudi Arabia  quot;Given the increase in attacks since April and in the context of an elevated terrorist threat, travelers planning to go to the kingdom are advised to delay their trip for the moment except for imperative professional reasons, quot; the French Foreign Ministry \n",
            "\n",
            "Sample 5\n",
            "======================================================================\n",
            "Airlines Ordered to Turn Over Passenger Data The Transportation Security Administration announced on Tuesday that it will order domestic airlines to turn over personal information about passengers to test a system that will compare their names to those on terrorist watch lists.\n",
            "\n"
          ]
        }
      ],
      "source": [
        "from random import choice\n",
        "\n",
        "for i in range(5):\n",
        "    random_sample = choice(range(len(dataset)))\n",
        "    print(f\"Sample {i+1}\")\n",
        "    print(\"=\" * 70)\n",
        "    print(dataset[random_sample]['text'])\n",
        "    print()"
      ]
    },
    {
      "cell_type": "markdown",
      "metadata": {
        "id": "0Z6z-hPBZczp"
      },
      "source": [
        "You can switch to a pandas dataframe by using the method `.to_pandas()`. This can come in handy when you want to manipulate and plot the data.\n",
        "\n",
        "Here you will extract the class names of news articles and plot the frequency with which they appear:"
      ]
    },
    {
      "cell_type": "code",
      "execution_count": null,
      "metadata": {
        "id": "9hI1sUPRZczp"
      },
      "outputs": [],
      "source": [
        "id2label = {str(i): label for i, label in enumerate(dataset.features[\"label\"].names)}"
      ]
    },
    {
      "cell_type": "code",
      "execution_count": null,
      "metadata": {
        "colab": {
          "base_uri": "https://localhost:8080/",
          "height": 452
        },
        "id": "XbyDXXr9Zczp",
        "outputId": "1a4fa792-dc80-4516-b3a9-bc2a5be8b3d5"
      },
      "outputs": [
        {
          "output_type": "display_data",
          "data": {
            "text/plain": [
              "<Figure size 640x480 with 1 Axes>"
            ],
            "image/png": "[encoded data removed]"
          },
          "metadata": {}
        }
      ],
      "source": [
        "(\n",
        "    dataset.select_columns('label')\n",
        "           .to_pandas()\n",
        "           .astype(str)['label']\n",
        "           .map(id2label)\n",
        "           .value_counts()\n",
        "           .plot(kind=\"barh\", title=\"Frequency with which each label appears\")\n",
        ");"
      ]
    },
    {
      "cell_type": "markdown",
      "metadata": {
        "id": "EfyKTO1MZczq"
      },
      "source": [
        "As you can see, the dataset is well balanced.\n",
        "\n",
        "What if you want to know the average length of text per each class label?\n",
        "\n",
        "Write a function for this and map to all of the elements in the dataset.\n",
        "`'length_of_text'` will be the new column in the dataset."
      ]
    },
    {
      "cell_type": "code",
      "execution_count": null,
      "metadata": {
        "colab": {
          "base_uri": "https://localhost:8080/",
          "height": 66,
          "referenced_widgets": [
            "5272ab348a39405fb78e8e57125d3269",
            "bc6ecafb225345309215c587d0553934",
            "84017cc6f8224313a1bc0f92e9b82b6d",
            "58e16dfb8c9844468743db5ad4d9084a",
            "37b144b39e4f4e8f85e86f3cdceca50c",
            "4330cb5c0d2740f8828062d3650a13d1",
            "b0bed90dea6d43ae9101d1f063c1c2b9",
            "70e2440962b54d8aaf060d09fc8594e0",
            "4d709a8eed0a4e62994a5401bd3b8517",
            "079ea6b587d74ff8afa43cc939a6265c",
            "b12b8223649746098ae0322468de7370"
          ]
        },
        "id": "OuLCb8nCZczq",
        "outputId": "dfdf5413-60cc-4773-a0d7-ccd0e6ec8022"
      },
      "outputs": [
        {
          "output_type": "display_data",
          "data": {
            "text/plain": [
              "Map:   0%|          | 0/120000 [00:00<?, ? examples/s]"
            ],
            "application/vnd.jupyter.widget-view+json": {
              "version_major": 2,
              "version_minor": 0,
              "model_id": "5272ab348a39405fb78e8e57125d3269"
            }
          },
          "metadata": {}
        },
        {
          "output_type": "execute_result",
          "data": {
            "text/plain": [
              "[144, 266, 232, 256, 234, 239, 215, 252, 414, 147]"
            ]
          },
          "metadata": {},
          "execution_count": 32
        }
      ],
      "source": [
        "def get_length_of_text(example):\n",
        "    example['length_of_text'] = len(example['text'])\n",
        "    return example\n",
        "\n",
        "dataset = dataset.map(get_length_of_text)\n",
        "dataset[:10]['length_of_text']"
      ]
    },
    {
      "cell_type": "code",
      "execution_count": null,
      "metadata": {
        "colab": {
          "base_uri": "https://localhost:8080/",
          "height": 452
        },
        "id": "e8pQlPmDZczq",
        "outputId": "f2b1720d-2046-4ddc-fb24-b168bcc1cee1"
      },
      "outputs": [
        {
          "output_type": "display_data",
          "data": {
            "text/plain": [
              "<Figure size 640x480 with 1 Axes>"
            ],
            "image/png": "[encoded data removed]"
          },
          "metadata": {}
        }
      ],
      "source": [
        "(\n",
        "    dataset.select_columns([\"label\", \"length_of_text\"])\n",
        "           .to_pandas()\n",
        "           .pivot(columns='label', values='length_of_text')\n",
        "           .plot.hist(bins=100, alpha=0.5, title=\"Distribution of the Length of News\")\n",
        ");"
      ]
    },
    {
      "cell_type": "markdown",
      "metadata": {
        "id": "q9cp3ruzZczq"
      },
      "source": [
        "The length of characters in the news articles seem to be quite similar for all the labels, and that's okay as very large documents might need to be broken apart before we get to feed them to our model."
      ]
    },
    {
      "cell_type": "markdown",
      "metadata": {
        "id": "ZuYXS28wZczq"
      },
      "source": [
        "### Tokenize and embed data using GPT-2"
      ]
    },
    {
      "cell_type": "markdown",
      "metadata": {
        "id": "i6RAHRccZczq"
      },
      "source": [
        "Your next step is to use a pre-trained model to tokenize the data and create an embedding layer based on it.\n",
        "\n",
        "Tokenizing is breaking down a sentence into smaller pieces called \"tokens\". These tokens can be words, numbers, curly brackets, or even punctuation marks. This process helps computers understand and analyze text more easily because they can treat each token as a separate unit and work with them individually.\n",
        "\n",
        "The model you will use to tokenize our news articles and extract the embeddings is [GPT-2](https://huggingface.co/gpt2). GPT-2 is a powerful language model created by OpenAI, which has been trained on vast amounts of text from the Internet. You can think of it as an AI that can generate human-like text and answer questions based on what it has learned. GPT-2 can be used for a variety of things, like writing articles, creating chatbots, generating story ideas, or even helping with language translation.\n",
        "\n",
        "The example below takes inspiration from an example available on Chapter 9 of [Natural Language Processing with Transformers](https://transformersbook.com/) by Lewis Tunstall, Leandro von Werra, and Thomas Wolf. If you would like to use a different model to follow along, you can find all of the models available at [Hugging Face's model hub](https://huggingface.co/models)"
      ]
    },
    {
      "cell_type": "markdown",
      "metadata": {
        "id": "Zrd0Tm64Zczq"
      },
      "source": [
        "In order to tokenize your dataset, use two classes from the `transformers` library, AutoTokenizer and AutoModel. These will make use of the version of GPT-2 provided."
      ]
    },
    {
      "cell_type": "code",
      "execution_count": null,
      "metadata": {
        "id": "FGT4tu2uZczq"
      },
      "outputs": [],
      "source": [
        "from transformers import AutoModel, AutoTokenizer\n",
        "import torch"
      ]
    },
    {
      "cell_type": "code",
      "execution_count": null,
      "metadata": {
        "id": "o3zBulEnZczq",
        "colab": {
          "base_uri": "https://localhost:8080/",
          "height": 209,
          "referenced_widgets": [
            "9a30e0a33f9741de9bc3bb867b2e7881",
            "0d350135d67549889ef3bf4291f08ce0",
            "6b0d2c33bc2e4f45963a270b9511467c",
            "73e6874321564ae1933d383af641d422",
            "7189bf7176884ffbab37e2b27d646a3a",
            "4ace206454bc41b6a203152b53bf05c6",
            "d7c1c8cd9d3c4b35afd1d658790ad66f",
            "2237c02d9f1f424e914c681eb36257cc",
            "ade0d8fdd5684092b190c85735511161",
            "a9438c1c0ace4bf194de142a99550309",
            "8a27faa7e6eb44a09668a2468f071f20",
            "d8d0f2b6ea2948b780e6fd73b5d97281",
            "101722a6f96a46e782e69420e2e89580",
            "4236f3ec92464d2e9a8775bd2ec957d8",
            "8e407a4752ab42be87860413d5e818ae",
            "e645035773454dfd85e13056cc8c2bf2",
            "6c35a60c657849f6806f4550ed10005c",
            "bfe66b1589d641de910e9d6180f736ba",
            "9931619edfc2463b9783bc99ab9cf345",
            "29c4c830b26c447f87d3f9f99cfa8df1",
            "e33de216c49b4e1f927b915105314ae3",
            "04128a426b224c2ab2658c2b8db24e84",
            "2cabd1cdef0047e9b282832cf66d4d51",
            "cb02e9657bd24bfb9e63b8115a7c5db3",
            "b21ed82a3b99435588d1790116308fd0",
            "daae8a5226614fba93506433d286493b",
            "623c0eec4ecf4f56820a24011055bca3",
            "61751f9776af4f86979cc64aec5bdf77",
            "03816b33087a469a8806386749ab56dd",
            "842737e99fd1419d8a89d1de9b71adec",
            "98d8f78a72f34a2e9515a8375bee1ba6",
            "b6d510b0fa034d27b08828a11ac16e44",
            "09f632a74fbb42db9a6b7d6d792cd3ee",
            "228d2fd8021f4a899d8f07491da0e775",
            "e83acc5cc9284f6099943500541086ed",
            "d404d47905ff43dd8da7639a3cab223c",
            "d429dffce55f4065a30328ef2f551fcd",
            "cdcbe71fb74b456ab5514e972b3bef12",
            "a1fc23f983b74f999295e8597292c698",
            "97b2a0cb4b5246a9bc018e4d31c8b61a",
            "d6ab270f892c4d5384f5a94a5fd313fa",
            "1964db91401b4f978f9242b87db59a8a",
            "7be534bd8b9347cdb377f8d9e478ec68",
            "4089944b284d42fbbe8a2942ad479918",
            "b2fae1afc7f44536a6570609258eeb47",
            "41df1df66b384521ac921cd25bb9a168",
            "03f7d4161e384c6e886c3971024350dc",
            "bd4ec5c161af4a098bf96b8f0cc7bd9e",
            "55daced5bef14f95b025cbe5651b2c23",
            "442972d779bb44d49143a476be426eb3",
            "987fc3b6e28f486daa4e50db4424920a",
            "57dc0ecbeda74ca4bab24d3c70027718",
            "3100948f5fa1408e852bd9bed26b4b6f",
            "d8ccbf5cdd2744728bbef296950fc3fc",
            "80ed453af46949ee9083c89e084dfbfb",
            "120054dbf9364889bf8f58330f105cdd",
            "0f6ce6defb9043538b471e767d75b6a4",
            "e4acb9c9d8114b0282e228ffb5cb7c6f",
            "bda60626ba8d48f5958cbd58d4be9fb5",
            "4a7c51f7fd304a7fadc0a0354dd05f9a",
            "c92a8d14b2d4492ab46d792cd0931240",
            "b3d3253d27064057bc17b0e26504bb68",
            "2b60d697326d498cb0337d2893b00c65",
            "0fbf25a6194044b4a3fd5fa23c283498",
            "6da6f872913b4a88a1e8b058217c5238",
            "f233785304d842168f513d0e77c24a94"
          ]
        },
        "outputId": "f049ffef-ce84-4c5d-c202-8b7d7ee03bc0"
      },
      "outputs": [
        {
          "output_type": "display_data",
          "data": {
            "text/plain": [
              "tokenizer_config.json:   0%|          | 0.00/26.0 [00:00<?, ?B/s]"
            ],
            "application/vnd.jupyter.widget-view+json": {
              "version_major": 2,
              "version_minor": 0,
              "model_id": "9a30e0a33f9741de9bc3bb867b2e7881"
            }
          },
          "metadata": {}
        },
        {
          "output_type": "display_data",
          "data": {
            "text/plain": [
              "config.json:   0%|          | 0.00/665 [00:00<?, ?B/s]"
            ],
            "application/vnd.jupyter.widget-view+json": {
              "version_major": 2,
              "version_minor": 0,
              "model_id": "d8d0f2b6ea2948b780e6fd73b5d97281"
            }
          },
          "metadata": {}
        },
        {
          "output_type": "display_data",
          "data": {
            "text/plain": [
              "vocab.json:   0%|          | 0.00/1.04M [00:00<?, ?B/s]"
            ],
            "application/vnd.jupyter.widget-view+json": {
              "version_major": 2,
              "version_minor": 0,
              "model_id": "2cabd1cdef0047e9b282832cf66d4d51"
            }
          },
          "metadata": {}
        },
        {
          "output_type": "display_data",
          "data": {
            "text/plain": [
              "merges.txt:   0%|          | 0.00/456k [00:00<?, ?B/s]"
            ],
            "application/vnd.jupyter.widget-view+json": {
              "version_major": 2,
              "version_minor": 0,
              "model_id": "228d2fd8021f4a899d8f07491da0e775"
            }
          },
          "metadata": {}
        },
        {
          "output_type": "display_data",
          "data": {
            "text/plain": [
              "tokenizer.json:   0%|          | 0.00/1.36M [00:00<?, ?B/s]"
            ],
            "application/vnd.jupyter.widget-view+json": {
              "version_major": 2,
              "version_minor": 0,
              "model_id": "b2fae1afc7f44536a6570609258eeb47"
            }
          },
          "metadata": {}
        },
        {
          "output_type": "display_data",
          "data": {
            "text/plain": [
              "model.safetensors:   0%|          | 0.00/548M [00:00<?, ?B/s]"
            ],
            "application/vnd.jupyter.widget-view+json": {
              "version_major": 2,
              "version_minor": 0,
              "model_id": "120054dbf9364889bf8f58330f105cdd"
            }
          },
          "metadata": {}
        }
      ],
      "source": [
        "device = torch.device(\"cuda\" if torch.cuda.is_available() else \"cpu\")\n",
        "tokenizer = AutoTokenizer.from_pretrained('gpt2')\n",
        "model = AutoModel.from_pretrained('gpt2').to(device)"
      ]
    },
    {
      "cell_type": "markdown",
      "metadata": {
        "id": "kyd9BeUVZczq"
      },
      "source": [
        "First, you will need to set a padding token for GPT-2. In natural language processing (NLP), padding refers to adding extra tokens to make all input sequences the same length. When processing text data, it's common for sentences or documents to have different lengths. However, many machine learning models require fixed-size inputs. Padding solves this issue by adding special tokens (such as zeros) to the shorter sequences, making them equal in length to the longest sequence in the dataset. For example, say you have a set of sentences and you want to process them using a model that requires fixed-length input, you may pad the sequences to match the length of the longest sentence, let's say five tokens. The padded sentences would look like this:\n",
        "\n",
        "1. \"I love cats\" -> \"I love cats [PAD] [PAD]\"\n",
        "2. \"Dogs are friendly\" -> \"Dogs are friendly [PAD]\"\n",
        "3. \"Birds can fly\" -> \"Birds can fly [PAD] [PAD]\"\n",
        "\n",
        "By padding the sequences, you ensure that all inputs have the same size, allowing the model to process them uniformly. Because GPT-2 does not have a padding token, we will use the \"end of text\" token instead."
      ]
    },
    {
      "cell_type": "code",
      "execution_count": null,
      "metadata": {
        "colab": {
          "base_uri": "https://localhost:8080/",
          "height": 35
        },
        "id": "CjUH6dOCZczq",
        "outputId": "d29434e8-4735-4ca8-f041-71121c88f4f6"
      },
      "outputs": [
        {
          "output_type": "execute_result",
          "data": {
            "text/plain": [
              "'<|endoftext|>'"
            ],
            "application/vnd.google.colaboratory.intrinsic+json": {
              "type": "string"
            }
          },
          "metadata": {},
          "execution_count": 10
        }
      ],
      "source": [
        "tokenizer.eos_token"
      ]
    },
    {
      "cell_type": "code",
      "execution_count": null,
      "metadata": {
        "id": "yIc8Gr7OZczr",
        "colab": {
          "base_uri": "https://localhost:8080/",
          "height": 35
        },
        "outputId": "5fe68014-1358-4c05-9fa6-ad393f98f83e"
      },
      "outputs": [
        {
          "output_type": "execute_result",
          "data": {
            "text/plain": [
              "'<|endoftext|>'"
            ],
            "application/vnd.google.colaboratory.intrinsic+json": {
              "type": "string"
            }
          },
          "metadata": {},
          "execution_count": 13
        }
      ],
      "source": [
        "tokenizer.pad_token"
      ]
    },
    {
      "cell_type": "code",
      "execution_count": null,
      "metadata": {
        "id": "B-ZWYMPiZczr"
      },
      "outputs": [],
      "source": [
        "tokenizer.pad_token = tokenizer.eos_token #, you ensure that padding tokens are also recognized as a valid end to a sequence. This can be useful in models that treat padding as a signal to stop processing further tokens."
      ]
    },
    {
      "cell_type": "code",
      "source": [],
      "metadata": {
        "id": "e5lXLLSYfSvd"
      },
      "execution_count": null,
      "outputs": []
    },
    {
      "cell_type": "markdown",
      "metadata": {
        "id": "JxZK4s7bZczv"
      },
      "source": [
        "Let's go through a quick example:"
      ]
    },
    {
      "cell_type": "code",
      "execution_count": null,
      "metadata": {
        "colab": {
          "base_uri": "https://localhost:8080/"
        },
        "id": "Y6UpbyB_Zczw",
        "outputId": "9d86b489-aabb-41c2-c31a-0a1f2afd0805"
      },
      "outputs": [
        {
          "output_type": "execute_result",
          "data": {
            "text/plain": [
              "{'input_ids': tensor([[ 2061,   857,   257,  9875,   779,   284,   466, 10688,    30,   317,\n",
              "          9875,    12,  3129,  1352,    13]]), 'attention_mask': tensor([[1, 1, 1, 1, 1, 1, 1, 1, 1, 1, 1, 1, 1, 1, 1]])}"
            ]
          },
          "metadata": {},
          "execution_count": 14
        }
      ],
      "source": [
        "text = \"What does a cow use to do math? A cow-culator.\"\n",
        "inputs = tokenizer(text, padding=True, truncation=True, max_length=128, return_tensors=\"pt\")#.to(device)\n",
        "inputs"
      ]
    },
    {
      "cell_type": "markdown",
      "metadata": {
        "id": "12FYlBfSZczw"
      },
      "source": [
        "The tokenizer will return an input IDs and an attention mask for every word in the sentence. These IDs are represented internally in the vocabulary of the model. To view your tokens, do the following:"
      ]
    },
    {
      "cell_type": "code",
      "execution_count": null,
      "metadata": {
        "colab": {
          "base_uri": "https://localhost:8080/"
        },
        "id": "QnAe43g_Zczw",
        "outputId": "9ab84ab6-0d6f-445b-f1b3-54199d25cbce"
      },
      "outputs": [
        {
          "output_type": "execute_result",
          "data": {
            "text/plain": [
              "['What',\n",
              " 'Ġdoes',\n",
              " 'Ġa',\n",
              " 'Ġcow',\n",
              " 'Ġuse',\n",
              " 'Ġto',\n",
              " 'Ġdo',\n",
              " 'Ġmath',\n",
              " '?',\n",
              " 'ĠA',\n",
              " 'Ġcow',\n",
              " '-',\n",
              " 'cul',\n",
              " 'ator',\n",
              " '.']"
            ]
          },
          "metadata": {},
          "execution_count": 33
        }
      ],
      "source": [
        "toks = tokenizer.convert_ids_to_tokens(inputs.input_ids[0])\n",
        "toks"
      ]
    },
    {
      "cell_type": "markdown",
      "metadata": {
        "id": "oCXM2YvOZczw"
      },
      "source": [
        "You can always go back to a sentence as well."
      ]
    },
    {
      "cell_type": "code",
      "execution_count": null,
      "metadata": {
        "colab": {
          "base_uri": "https://localhost:8080/",
          "height": 35
        },
        "id": "WGG3aHriZczw",
        "outputId": "49ddc8d9-ba50-433a-fc19-88aeb50aa643"
      },
      "outputs": [
        {
          "output_type": "execute_result",
          "data": {
            "text/plain": [
              "'What does a cow use to do math? A cow-culator.'"
            ],
            "application/vnd.google.colaboratory.intrinsic+json": {
              "type": "string"
            }
          },
          "metadata": {},
          "execution_count": 34
        }
      ],
      "source": [
        "tokenizer.convert_tokens_to_string(toks)"
      ]
    },
    {
      "cell_type": "markdown",
      "metadata": {
        "id": "ZVF0DB81Zczw"
      },
      "source": [
        "If you are curious about how large is the vocabulary in your model, you can always access it with the method `.vocab_size`."
      ]
    },
    {
      "cell_type": "code",
      "execution_count": null,
      "metadata": {
        "colab": {
          "base_uri": "https://localhost:8080/"
        },
        "id": "pod_QrAHZczw",
        "outputId": "60f51710-b285-4ea2-87a2-acf84fa7003c"
      },
      "outputs": [
        {
          "output_type": "execute_result",
          "data": {
            "text/plain": [
              "50257"
            ]
          },
          "metadata": {},
          "execution_count": 35
        }
      ],
      "source": [
        "tokenizer.vocab_size"
      ]
    },
    {
      "cell_type": "markdown",
      "metadata": {
        "id": "iPy4LDbbZczw"
      },
      "source": [
        "Now pass the inputs from the tokenizer to your model and check out the response:"
      ]
    },
    {
      "cell_type": "code",
      "execution_count": null,
      "metadata": {
        "colab": {
          "base_uri": "https://localhost:8080/"
        },
        "id": "hNZnojPSZczw",
        "outputId": "dc9c4d0c-5d15-42f5-ddb3-f331e54864fb"
      },
      "outputs": [
        {
          "output_type": "execute_result",
          "data": {
            "text/plain": [
              "(torch.Size([1, 15, 768]),\n",
              " tensor([[[-0.1643,  0.0957, -0.2844,  ..., -0.1632, -0.0774, -0.2154],\n",
              "          [ 0.0472,  0.2181,  0.0754,  ...,  0.0281,  0.2386, -0.0731],\n",
              "          [-0.1410,  0.1957,  0.5674,  ..., -0.4050,  0.1199, -0.0043],\n",
              "          ...,\n",
              "          [ 0.0686,  0.2000,  0.2881,  ...,  0.2151, -0.5111, -0.2907],\n",
              "          [-0.0662,  0.3934, -0.8001,  ...,  0.2597, -0.1465, -0.1695],\n",
              "          [-0.1900, -0.2704, -0.3135,  ...,  0.3318, -0.4120, -0.0153]]]))"
            ]
          },
          "metadata": {},
          "execution_count": 36
        }
      ],
      "source": [
        "with torch.no_grad():\n",
        "    embs = model(**inputs)\n",
        "\n",
        "embs.last_hidden_state.size(), embs[0]"
      ]
    },
    {
      "cell_type": "markdown",
      "metadata": {
        "id": "tewHvlATZczw"
      },
      "source": [
        "Notice that you got a tensor of shape `[batch_size, inputs, dimensions]`. The inputs are your tokens and these dimensions are the embedding representation that you want for your sentence rather than each token. So what can you do to get one rather than 15? The answer is **mean pooling**.\n",
        "\n",
        "You are going to take the average of all 15 vectors while paying attention to the most important parts of it. The details of how this is happening are outside of the scope of this tutorial, but please refer to the Natural Language Processing with Transformers book mentioned earlier for a richer discussion on the concepts touched on in this section (including the borrowed functions we are about to use)."
      ]
    },
    {
      "cell_type": "code",
      "execution_count": null,
      "metadata": {
        "id": "SNogynwAZczw"
      },
      "outputs": [],
      "source": [
        "def mean_pooling(model_output, attention_mask):\n",
        "\n",
        "    token_embeddings = model_output[0]\n",
        "    input_mask_expanded = (attention_mask.unsqueeze(-1).expand(token_embeddings.size()).float())\n",
        "    sum_embeddings = torch.sum(token_embeddings * input_mask_expanded, 1)\n",
        "    sum_mask = torch.clamp(input_mask_expanded.sum(1), min=1e-9)\n",
        "    return sum_embeddings / sum_mask"
      ]
    },
    {
      "cell_type": "code",
      "source": [
        "def mean_pooling_simplified(model_output, attention_mask):\n",
        "    token_embeddings = model_output[0]\n",
        "    return torch.mean(token_embeddings * attention_mask.unsqueeze(-1), dim=1)"
      ],
      "metadata": {
        "id": "f7iWgu05u720"
      },
      "execution_count": null,
      "outputs": []
    },
    {
      "cell_type": "code",
      "execution_count": null,
      "metadata": {
        "colab": {
          "base_uri": "https://localhost:8080/"
        },
        "id": "WC-Q_Dv_Zczw",
        "outputId": "7b80bf17-a71f-4127-c952-dc099e2c753a"
      },
      "outputs": [
        {
          "output_type": "execute_result",
          "data": {
            "text/plain": [
              "(torch.Size([1, 768]),\n",
              " tensor([-0.2175, -0.0280, -0.4393, -0.0739, -0.1338,  0.3550,  3.4335,  0.1762,\n",
              "         -0.1412,  0.1184]))"
            ]
          },
          "metadata": {},
          "execution_count": 38
        }
      ],
      "source": [
        "\n",
        "embedding = mean_pooling_simplified(embs, inputs[\"attention_mask\"])\n",
        "embedding.shape, embedding[0, :10]"
      ]
    },
    {
      "cell_type": "markdown",
      "metadata": {
        "id": "c7NLsoQaZczw"
      },
      "source": [
        "Now you have everything you need to extract the embedding layers from our corpus of news. The last piece of the puzzle is to create a function that we can map to every news article and extract the embedding layers with. Use your tokenizer and model from earlier and apply it to a smaller subset of the data (since the dataset is quite large)."
      ]
    },
    {
      "cell_type": "code",
      "execution_count": null,
      "metadata": {
        "id": "Tv9tk260Zczx"
      },
      "outputs": [],
      "source": [
        "def embed_text(examples):\n",
        "    inputs = tokenizer(\n",
        "        examples[\"text\"], padding=True, truncation=True, return_tensors=\"pt\"\n",
        "    )#.to(device)\n",
        "    with torch.no_grad():\n",
        "        model_output = model(**inputs)\n",
        "    pooled_embeds = mean_pooling(model_output, inputs[\"attention_mask\"])\n",
        "    return {\"embedding\": pooled_embeds.cpu().numpy()}"
      ]
    },
    {
      "cell_type": "code",
      "execution_count": null,
      "metadata": {
        "colab": {
          "base_uri": "https://localhost:8080/",
          "height": 49,
          "referenced_widgets": [
            "4fa8bff254a44578a4758a36536847a1",
            "1b1c26a2451f4fd293a6f82fd4232813",
            "109aa60455cc429586680f9d6f23204f",
            "68ce75aa5b294d04ad91a402b1795df2",
            "be69e1b9a3c9461aa4c13fe302239b02",
            "463f2c0b704a48339f11b5b6c49bcb21",
            "01988524a03c43c0b8fe84857d6ea64c",
            "2c177afd29a24f45b94a1019e7427cff",
            "c8722dd0e03247898a9cfcbab1f31171",
            "813db8bb2c134b7bb5d9f611ad58396c",
            "c2f6dbe4dfcb424bbcc9905259e92290"
          ]
        },
        "id": "PfAGn3QaZczx",
        "outputId": "082251f7-441b-4406-c0af-ecaf7a97f121"
      },
      "outputs": [
        {
          "output_type": "display_data",
          "data": {
            "text/plain": [
              "Map:   0%|          | 0/100 [00:00<?, ? examples/s]"
            ],
            "application/vnd.jupyter.widget-view+json": {
              "version_major": 2,
              "version_minor": 0,
              "model_id": "4fa8bff254a44578a4758a36536847a1"
            }
          },
          "metadata": {}
        }
      ],
      "source": [
        "small_set = (\n",
        "    dataset.shuffle(42) # randomly shuffles the data, 42 is the seed\n",
        "           .select(range(100)) # we'll take 100 rows\n",
        "           .map(embed_text, batched=True, batch_size=128) # and apply our function above to 128 articles at a time\n",
        ")"
      ]
    },
    {
      "cell_type": "code",
      "execution_count": null,
      "metadata": {
        "colab": {
          "base_uri": "https://localhost:8080/"
        },
        "id": "xwKULinfZczx",
        "outputId": "d673c88f-4af9-4501-f0b6-48ce79008bb5"
      },
      "outputs": [
        {
          "output_type": "execute_result",
          "data": {
            "text/plain": [
              "Dataset({\n",
              "    features: ['text', 'label', 'length_of_text', 'embedding'],\n",
              "    num_rows: 100\n",
              "})"
            ]
          },
          "metadata": {},
          "execution_count": 26
        }
      ],
      "source": [
        "small_set"
      ]
    },
    {
      "cell_type": "markdown",
      "metadata": {
        "id": "BzulsJFOZczx"
      },
      "source": [
        "As you can see, there is an extra column with the embeddings for your data. You we can use these vector representations to semantically search for other news articles or to recommend similar articles to our users by taking advantage of Qdrant.\n",
        "\n",
        "Before we add our news articles to Qdrant, let's create a list of ids for our dataset and a column with the labels to allow our users to get recommendations in a more precise fashion, i.e. by context."
      ]
    },
    {
      "cell_type": "code",
      "execution_count": null,
      "metadata": {
        "colab": {
          "base_uri": "https://localhost:8080/"
        },
        "id": "Oh1_62K7Zczx",
        "outputId": "005990c1-db89-4485-bb44-5b13a888bf27"
      },
      "outputs": [
        {
          "output_type": "execute_result",
          "data": {
            "text/plain": [
              "Dataset({\n",
              "    features: ['text', 'label', 'length_of_text', 'embedding', 'idx'],\n",
              "    num_rows: 100\n",
              "})"
            ]
          },
          "metadata": {},
          "execution_count": 27
        }
      ],
      "source": [
        "n_rows = range(len(small_set))\n",
        "small_set = small_set.add_column(\"idx\", n_rows)\n",
        "small_set"
      ]
    },
    {
      "cell_type": "code",
      "execution_count": null,
      "metadata": {
        "colab": {
          "base_uri": "https://localhost:8080/"
        },
        "id": "XJ7WkGioZczx",
        "outputId": "d1405bd4-e6ad-4a71-dcef-55c5f50d6875"
      },
      "outputs": [
        {
          "output_type": "execute_result",
          "data": {
            "text/plain": [
              "[90, 91, 92, 93, 94, 95, 96, 97, 98, 99]"
            ]
          },
          "metadata": {},
          "execution_count": 29
        }
      ],
      "source": [
        "small_set['idx'][-10:]"
      ]
    },
    {
      "cell_type": "code",
      "source": [
        "small_set"
      ],
      "metadata": {
        "colab": {
          "base_uri": "https://localhost:8080/"
        },
        "id": "2el48zCin1XX",
        "outputId": "3f83e5ef-901d-4e66-e84f-4a9a75f8fb40"
      },
      "execution_count": null,
      "outputs": [
        {
          "output_type": "execute_result",
          "data": {
            "text/plain": [
              "Dataset({\n",
              "    features: ['text', 'label', 'length_of_text', 'embedding', 'idx', 'label_names'],\n",
              "    num_rows: 100\n",
              "})"
            ]
          },
          "metadata": {},
          "execution_count": 30
        }
      ]
    },
    {
      "cell_type": "code",
      "execution_count": null,
      "metadata": {
        "colab": {
          "base_uri": "https://localhost:8080/"
        },
        "id": "Puez_hYzZczx",
        "outputId": "f09b48ab-360b-4151-d6dd-ca7b5f15d12d"
      },
      "outputs": [
        {
          "output_type": "execute_result",
          "data": {
            "text/plain": [
              "Dataset({\n",
              "    features: ['text', 'label', 'length_of_text', 'embedding', 'idx', 'label_names'],\n",
              "    num_rows: 100\n",
              "})"
            ]
          },
          "metadata": {},
          "execution_count": 28
        }
      ],
      "source": [
        "def get_names(label_num):\n",
        "    return id2label[str(label_num)]\n",
        "\n",
        "label_names = list(map(get_names, small_set['label']))\n",
        "small_set = small_set.add_column(\"label_names\", label_names)\n",
        "small_set"
      ]
    },
    {
      "cell_type": "markdown",
      "metadata": {
        "id": "vFIpupSPZczx"
      },
      "source": [
        "We will also need the amount of dimensions of our embeddings."
      ]
    },
    {
      "cell_type": "code",
      "execution_count": null,
      "metadata": {
        "colab": {
          "base_uri": "https://localhost:8080/"
        },
        "id": "WLcVRFTHZczx",
        "outputId": "52b9a294-a51f-4d6e-8923-02177f237eb7"
      },
      "outputs": [
        {
          "output_type": "execute_result",
          "data": {
            "text/plain": [
              "768"
            ]
          },
          "metadata": {},
          "execution_count": 26
        }
      ],
      "source": [
        "dim_size = len(small_set[0][\"embedding\"]) # we'll need the dimensions of our embeddings\n",
        "dim_size"
      ]
    },
    {
      "cell_type": "markdown",
      "metadata": {
        "id": "ykdjsgYLZczx"
      },
      "source": [
        "## 5. Semantic Search with Qdrant"
      ]
    },
    {
      "cell_type": "markdown",
      "metadata": {
        "id": "Lw5C5jdkZczx"
      },
      "source": [
        "The two modules we'll use the most are the `QdrantClient` and the `models` one. The former allows us to connect to our container running Qdrant, and the latter will give us the rest of the utilities we'll need to manage our collections.\n",
        "\n",
        "As a quick reminder, [collections](https://qdrant.tech/documentation/collections/) are named sets of points among which you can search; [points](https://qdrant.tech/documentation/points/) consist of a vector, an optional id and an optional payload; an id a unique identifier for your vectors, and a [payload](https://qdrant.tech/documentation/payload/) is a JSON object with additional data you can add to your points. Each collection needs a distance metric such as Euclidean Distance, Dot Product, or Cosine Similarity."
      ]
    },
    {
      "cell_type": "code",
      "execution_count": null,
      "metadata": {
        "id": "T51jtwBvZczx"
      },
      "outputs": [],
      "source": [
        "from qdrant_client import QdrantClient\n",
        "from qdrant_client import models\n",
        "from qdrant_client.models import CollectionStatus"
      ]
    },
    {
      "cell_type": "code",
      "execution_count": null,
      "metadata": {
        "colab": {
          "base_uri": "https://localhost:8080/"
        },
        "id": "6-qjy-5sZczx",
        "outputId": "0e84ec13-1ec5-47b2-d61c-8967c2ee88e9"
      },
      "outputs": [
        {
          "output_type": "execute_result",
          "data": {
            "text/plain": [
              "<qdrant_client.qdrant_client.QdrantClient at 0x7c2f9b7abf70>"
            ]
          },
          "metadata": {},
          "execution_count": 28
        }
      ],
      "source": [
        "client = QdrantClient(location=\":memory:\")\n",
        "client"
      ]
    },
    {
      "cell_type": "code",
      "execution_count": null,
      "metadata": {
        "colab": {
          "base_uri": "https://localhost:8080/"
        },
        "id": "drRm9EXRZczx",
        "outputId": "4cb12425-4cce-4a41-a0e5-fb81d11484bc"
      },
      "outputs": [
        {
          "output_type": "stream",
          "name": "stderr",
          "text": [
            "<ipython-input-29-3d7e6fc551bd>:2: DeprecationWarning: `recreate_collection` method is deprecated and will be removed in the future. Use `collection_exists` to check collection existence and `create_collection` instead.\n",
            "  client.recreate_collection(\n"
          ]
        },
        {
          "output_type": "execute_result",
          "data": {
            "text/plain": [
              "True"
            ]
          },
          "metadata": {},
          "execution_count": 29
        }
      ],
      "source": [
        "my_collection = \"news_embeddings\"\n",
        "client.recreate_collection(\n",
        "    collection_name=my_collection,\n",
        "    vectors_config=models.VectorParams(size=dim_size, distance=models.Distance.COSINE)\n",
        ")"
      ]
    },
    {
      "cell_type": "markdown",
      "metadata": {
        "id": "3RlowDy2Zczx"
      },
      "source": [
        "Before you fill in your new collection, create a payload that contains the news domain the article belongs to, plus the article itself. Note that this payload is a list of JSON objects where the key is the name of the column and the value is the label or text of that same column."
      ]
    },
    {
      "cell_type": "code",
      "execution_count": null,
      "metadata": {
        "colab": {
          "base_uri": "https://localhost:8080/"
        },
        "id": "iLeWmqT8Zczx",
        "outputId": "1ed7ebbb-3639-40f6-9067-3ba3ea6b3d24"
      },
      "outputs": [
        {
          "output_type": "execute_result",
          "data": {
            "text/plain": [
              "[{'label_names': 'World',\n",
              "  'text': 'Bangladesh paralysed by strikes Opposition activists have brought many towns and cities in Bangladesh to a halt, the day after 18 people died in explosions at a political rally.'},\n",
              " {'label_names': 'Sports',\n",
              "  'text': 'Desiring Stability Redskins coach Joe Gibbs expects few major personnel changes in the offseason and wants to instill a culture of stability in Washington.'},\n",
              " {'label_names': 'World',\n",
              "  'text': 'Will Putin #39;s Power Play Make Russia Safer? Outwardly, Russia has not changed since the barrage of terrorist attacks that culminated in the school massacre in Beslan on Sept.'}]"
            ]
          },
          "metadata": {},
          "execution_count": 30
        }
      ],
      "source": [
        "payloads = small_set.select_columns([\"label_names\", \"text\"]).to_pandas().to_dict(orient=\"records\")\n",
        "payloads[:3]"
      ]
    },
    {
      "cell_type": "code",
      "execution_count": null,
      "metadata": {
        "colab": {
          "base_uri": "https://localhost:8080/"
        },
        "id": "j--uRVxuZczy",
        "outputId": "3a92bd50-5ab4-408f-c90d-890928cef9a5"
      },
      "outputs": [
        {
          "output_type": "execute_result",
          "data": {
            "text/plain": [
              "UpdateResult(operation_id=0, status=<UpdateStatus.COMPLETED: 'completed'>)"
            ]
          },
          "metadata": {},
          "execution_count": 31
        }
      ],
      "source": [
        "client.upsert(\n",
        "    collection_name=my_collection,\n",
        "    points=models.Batch(\n",
        "        ids=small_set[\"idx\"],\n",
        "        vectors=small_set[\"embedding\"],\n",
        "        payloads=payloads\n",
        "    )\n",
        ")"
      ]
    },
    {
      "cell_type": "markdown",
      "metadata": {
        "id": "_CheaAI_Zczy"
      },
      "source": [
        "Verify that the collection has been created by scrolling through the points with the following command:"
      ]
    },
    {
      "cell_type": "code",
      "execution_count": null,
      "metadata": {
        "colab": {
          "base_uri": "https://localhost:8080/"
        },
        "id": "dVlRvH9VZczy",
        "outputId": "f8506959-c50e-488a-b9ff-a6ec231eda53"
      },
      "outputs": [
        {
          "output_type": "execute_result",
          "data": {
            "text/plain": [
              "([Record(id=0, payload=None, vector=None, shard_key=None, order_value=None),\n",
              "  Record(id=1, payload=None, vector=None, shard_key=None, order_value=None),\n",
              "  Record(id=2, payload=None, vector=None, shard_key=None, order_value=None),\n",
              "  Record(id=3, payload=None, vector=None, shard_key=None, order_value=None),\n",
              "  Record(id=4, payload=None, vector=None, shard_key=None, order_value=None),\n",
              "  Record(id=5, payload=None, vector=None, shard_key=None, order_value=None),\n",
              "  Record(id=6, payload=None, vector=None, shard_key=None, order_value=None),\n",
              "  Record(id=7, payload=None, vector=None, shard_key=None, order_value=None),\n",
              "  Record(id=8, payload=None, vector=None, shard_key=None, order_value=None),\n",
              "  Record(id=9, payload=None, vector=None, shard_key=None, order_value=None)],\n",
              " 10)"
            ]
          },
          "metadata": {},
          "execution_count": 32
        }
      ],
      "source": [
        "client.scroll(\n",
        "    collection_name=my_collection,\n",
        "    limit=10,\n",
        "    with_payload=False, # change to True to see the payload\n",
        "    with_vectors=False  # change to True to see the vectors\n",
        ")"
      ]
    },
    {
      "cell_type": "markdown",
      "metadata": {
        "id": "rEHM1rILZczy"
      },
      "source": [
        "Now that we have our collection ready, let's start querying the data and see what we get."
      ]
    },
    {
      "cell_type": "code",
      "execution_count": null,
      "metadata": {
        "colab": {
          "base_uri": "https://localhost:8080/"
        },
        "id": "fsMZ60tfZczy",
        "outputId": "d5003354-70c8-4905-d9a6-1eaf7768874c"
      },
      "outputs": [
        {
          "output_type": "execute_result",
          "data": {
            "text/plain": [
              "(\"Busch's ambience set it apart from others ST. LOUIS -- Even a cookie-cutter stadium -- which is the pejorative term that came to describe the multipurpose bowls that seemed to spring up simultaneously in Pittsburgh, Cincinnati, Atlanta, Queens, Philadelphia, and St. Louis in the late 1960s and early '70s -- can have their quirks.\",\n",
              " [0.14240384101867676,\n",
              "  -0.051233451813459396,\n",
              "  -0.27102720737457275,\n",
              "  0.07963505387306213,\n",
              "  0.15858301520347595,\n",
              "  -0.3550574481487274,\n",
              "  3.133955240249634])"
            ]
          },
          "metadata": {},
          "execution_count": 33
        }
      ],
      "source": [
        "query1 = small_set[99]['embedding']\n",
        "small_set[99]['text'], query1[:7]"
      ]
    },
    {
      "cell_type": "markdown",
      "metadata": {
        "id": "6rFUihE_Zczy"
      },
      "source": [
        "As you can see the text above is talking about stocks so let's have a look at what kinds of articles we can find with Qdrant."
      ]
    },
    {
      "cell_type": "code",
      "execution_count": null,
      "metadata": {
        "colab": {
          "base_uri": "https://localhost:8080/"
        },
        "id": "dGguEG3fZczy",
        "outputId": "81373d82-6e11-4c33-c267-1a2ee66f8f23"
      },
      "outputs": [
        {
          "output_type": "execute_result",
          "data": {
            "text/plain": [
              "[ScoredPoint(id=99, version=0, score=1.000000010131947, payload={'label_names': 'Sports', 'text': \"Busch's ambience set it apart from others ST. LOUIS -- Even a cookie-cutter stadium -- which is the pejorative term that came to describe the multipurpose bowls that seemed to spring up simultaneously in Pittsburgh, Cincinnati, Atlanta, Queens, Philadelphia, and St. Louis in the late 1960s and early '70s -- can have their quirks.\"}, vector=None, shard_key=None, order_value=None),\n",
              " ScoredPoint(id=3, version=0, score=0.9993274605997932, payload={'label_names': 'Sci/Tech', 'text': 'U2 pitches for Apple New iTunes ads airing during baseball games Tuesday will feature the advertising-shy Irish rockers.'}, vector=None, shard_key=None, order_value=None),\n",
              " ScoredPoint(id=68, version=0, score=0.9992285209293268, payload={'label_names': 'Sports', 'text': 'Mistakes hinder Knicks in loss It will be labeled a learning experience, but that won #39;t remove any of the sting. Momentum was lost again Wednesday night as the Knicks blew a lead and lost 94-93 to the Detroit Pistons at Madison Square Garden.'}, vector=None, shard_key=None, order_value=None)]"
            ]
          },
          "metadata": {},
          "execution_count": 34
        }
      ],
      "source": [
        "client.query_points(\n",
        "    collection_name=my_collection,\n",
        "    query=query1,\n",
        "    limit=3\n",
        ").points"
      ]
    },
    {
      "cell_type": "markdown",
      "metadata": {
        "id": "Ktqn20YOZczy"
      },
      "source": [
        "Of course, the first article is going to be the same one we used to query the data as there is no distance between the same vector. The other interesting thing we can see here is that even though we have different labels, we still get semantically similar articles with the label `World` as we do with the label `Business`.\n",
        "\n",
        "The nice thing about what we have done is that we are getting decent results and we haven't even fine-tuned the model to our use case. To fine-tune a model means to take a pre-trained model that has learned general knowledge from (usually large amounts of) data and adapt it to a specific task or domain. It's like giving a smart assistant some additional training to make them better at a particular job. When we do this, we should expect even better results from our search.\n",
        "\n",
        "Let's pick a random sample from the larger dataset and see what we get back from Qdrant. Note that because our function was created to be applied on a dictionary object, we'll represent the random text in the same way."
      ]
    },
    {
      "cell_type": "code",
      "execution_count": null,
      "metadata": {
        "colab": {
          "base_uri": "https://localhost:8080/"
        },
        "id": "XLsL8qc3Zczy",
        "outputId": "427f9e27-3992-4cb7-e38c-cc695d220da1"
      },
      "outputs": [
        {
          "output_type": "execute_result",
          "data": {
            "text/plain": [
              "{'text': 'Calif. passes cell phone recycling bill Gov. Arnold Schwarzenegger makes recycling of discarded mobile phones mandatory for handset makers.'}"
            ]
          },
          "metadata": {},
          "execution_count": 35
        }
      ],
      "source": [
        "# Step 1 - Select Random Sample\n",
        "query2 = {\"text\": dataset[choice(range(len(dataset)))]['text']}\n",
        "query2"
      ]
    },
    {
      "cell_type": "code",
      "execution_count": null,
      "metadata": {
        "colab": {
          "base_uri": "https://localhost:8080/"
        },
        "id": "1HohggKKZczy",
        "outputId": "80f85eed-d2ce-4649-9b94-05804c10e531"
      },
      "outputs": [
        {
          "output_type": "execute_result",
          "data": {
            "text/plain": [
              "((768,),\n",
              " array([ 0.27754655,  0.02874633, -0.06292942, -0.0122485 ,  0.06813765,\n",
              "        -0.09206534,  2.8943202 , -0.10680573, -0.10754218, -0.30084684,\n",
              "         0.4322686 , -0.17882659,  0.00918289,  0.27785113, -0.73751414,\n",
              "         0.11794879, -0.23664169, -0.28829822,  0.19359994, -0.9228929 ],\n",
              "       dtype=float32))"
            ]
          },
          "metadata": {},
          "execution_count": 36
        }
      ],
      "source": [
        "# Step 2 - Create a Vector\n",
        "query2 = embed_text(query2)['embedding'][0, :]\n",
        "query2.shape, query2[:20]"
      ]
    },
    {
      "cell_type": "code",
      "execution_count": null,
      "metadata": {
        "colab": {
          "base_uri": "https://localhost:8080/"
        },
        "id": "p_ujdZPWZczy",
        "outputId": "ae2aeda9-f404-48e0-f4f3-a9a48157fb7c"
      },
      "outputs": [
        {
          "output_type": "execute_result",
          "data": {
            "text/plain": [
              "[0.27754655480384827,\n",
              " 0.02874632552266121,\n",
              " -0.0629294216632843,\n",
              " -0.012248502112925053,\n",
              " 0.06813765317201614,\n",
              " -0.09206534177064896,\n",
              " 2.894320249557495,\n",
              " -0.10680573433637619,\n",
              " -0.10754217952489853,\n",
              " -0.3008468449115753,\n",
              " 0.43226858973503113,\n",
              " -0.17882658541202545,\n",
              " 0.009182891808450222,\n",
              " 0.2778511345386505,\n",
              " -0.7375141382217407,\n",
              " 0.11794879287481308,\n",
              " -0.23664169013500214,\n",
              " -0.28829821944236755,\n",
              " 0.19359993934631348,\n",
              " -0.9228929281234741]"
            ]
          },
          "metadata": {},
          "execution_count": 37
        }
      ],
      "source": [
        "query2.tolist()[:20]"
      ]
    },
    {
      "cell_type": "code",
      "execution_count": null,
      "metadata": {
        "colab": {
          "base_uri": "https://localhost:8080/"
        },
        "id": "VOnTDAb3Zczy",
        "outputId": "ee17a9bf-ae80-4ba7-af62-8047a13f4e53"
      },
      "outputs": [
        {
          "output_type": "execute_result",
          "data": {
            "text/plain": [
              "[ScoredPoint(id=54, version=0, score=0.9990511795838088, payload={'label_names': 'Sports', 'text': 'Chelsea lay down the law on drugs as Mutu is shown door CHELSEA enforced a zero tolerance policy against drugs yesterday when they dismissed Adrian Mutu, the Romania striker, for gross misconduct after his positive test for cocaine.'}, vector=None, shard_key=None, order_value=None),\n",
              " ScoredPoint(id=65, version=0, score=0.9988574390077452, payload={'label_names': 'Sci/Tech', 'text': 'Hillary Rosen Loves Larry Lessig (and other improbable tales) In Wired, Hillary Rosen, the former head of the Recording Industry Ass. of America, writes of her love affair with... no way dude. Yep. Larry Lessig, her long time foe who started the Creative Commons.'}, vector=None, shard_key=None, order_value=None),\n",
              " ScoredPoint(id=40, version=0, score=0.9987903638590275, payload={'label_names': 'World', 'text': 'Sharon death threats spark probe Israeli police examine death threats against Prime Minister Ariel Sharon, amid mounting opposition to his Gaza pullout plan.'}, vector=None, shard_key=None, order_value=None),\n",
              " ScoredPoint(id=30, version=0, score=0.9987626625341035, payload={'label_names': 'Sci/Tech', 'text': 'Web site pictures Photo iPod for holidays A Mac news site says iPods that display digital photos may be under Christmas trees this year.'}, vector=None, shard_key=None, order_value=None),\n",
              " ScoredPoint(id=62, version=0, score=0.9986491354593806, payload={'label_names': 'World', 'text': \"American Deserters Find a Mixed Reception in Canada Despite Canada's opposition to the Iraq war, the government also is opposing the U.S. deserters' refugee applications, saying the soldiers are not persecuted. It is resisting the argument that the Iraq war is illegal.\"}, vector=None, shard_key=None, order_value=None)]"
            ]
          },
          "metadata": {},
          "execution_count": 38
        }
      ],
      "source": [
        "# Step 3 - Search for similar articles. Don't forget to convert the vector to a list.\n",
        "client.query_points(\n",
        "    collection_name=my_collection,\n",
        "    query=query2.tolist(),\n",
        "    limit=5\n",
        ").points"
      ]
    },
    {
      "cell_type": "markdown",
      "metadata": {
        "id": "QnqpfpNQZczy"
      },
      "source": [
        "Because we selected a random sample, you will see something different everytime you go through this part of the tutorial so make sure you read some of the articles that come back and evaluate the similarity of these articles to the one you randomly got from the larger dataset. Have some fun with it. 🙂\n",
        "\n",
        "Let's make things more interesting and pick the most similar results from a Business context. We'll do so by creating a field condition with `models.FieldCondition()` with the `key=` parameter set to `label_names` and the `match=` parameter set to `\"Business\"` via the `models.MatchValue()` function."
      ]
    },
    {
      "cell_type": "code",
      "execution_count": null,
      "metadata": {
        "id": "KEMSN6K2Zczz"
      },
      "outputs": [],
      "source": [
        "business = models.Filter(\n",
        "    must=[models.FieldCondition(key=\"label_names\", match=models.MatchValue(value=\"Business\"))]\n",
        ")"
      ]
    },
    {
      "cell_type": "markdown",
      "metadata": {
        "id": "832zLZaJZczz"
      },
      "source": [
        "We will add our `business` variable as a query filter to our `client.search()` call and see what we get."
      ]
    },
    {
      "cell_type": "code",
      "execution_count": null,
      "metadata": {
        "colab": {
          "base_uri": "https://localhost:8080/"
        },
        "id": "WB0Ijod5Zczz",
        "outputId": "dec17b89-f751-4e3b-c7e8-d90906d5d4e7"
      },
      "outputs": [
        {
          "output_type": "execute_result",
          "data": {
            "text/plain": [
              "[ScoredPoint(id=94, version=0, score=0.9983723628215246, payload={'label_names': 'Business', 'text': 'Microsoft braces for EU anti-trust appeal US software giant Microsoft said it will abide by whatever ruling is handed down by a European appeal court hearing due to start this week against an EU condemnation for abusing its market dominance.'}, vector=None, shard_key=None, order_value=None),\n",
              " ScoredPoint(id=50, version=0, score=0.998124273266432, payload={'label_names': 'Business', 'text': 'Canceled checks, float soon to disappear Every night, millions of cashed checks fly around the country, headed for their home bank. Starting in October, technology will start to ground many of those flights.'}, vector=None, shard_key=None, order_value=None),\n",
              " ScoredPoint(id=44, version=0, score=0.9978350122685172, payload={'label_names': 'Business', 'text': 'Online bidding firms seek bounce from insurance industry scandal Customers in search of a cheap airfare, antiques or a stock trade can scan the Web for good deals. But when it comes time for companies to buy group insurance policies, they #39;ve largely '}, vector=None, shard_key=None, order_value=None),\n",
              " ScoredPoint(id=39, version=0, score=0.9976950071001582, payload={'label_names': 'Business', 'text': \"Next to digital IDs, passwords look lame How big is your key ring? There are the house keys, of course, and the car keys and the little fob for unlocking the doors from 30 feet away. And now there's this new blue thingamajig for logging onto the America Online Internet service. You don't have to use it, but it's not a bad idea, if you want to ...\"}, vector=None, shard_key=None, order_value=None),\n",
              " ScoredPoint(id=11, version=0, score=0.997687661621369, payload={'label_names': 'Business', 'text': 'RBC Centura CEO steps down RALEIGH, NC - The head of RBC Centura Bank has stepped down, and his successor will run the bank out of Raleigh rather than Rocky Mount, where the bank is based.'}, vector=None, shard_key=None, order_value=None)]"
            ]
          },
          "metadata": {},
          "execution_count": 40
        }
      ],
      "source": [
        "client.query_points(\n",
        "    collection_name=my_collection,\n",
        "    query=query2.tolist(),\n",
        "    query_filter=business,\n",
        "    limit=5\n",
        ").points"
      ]
    },
    {
      "cell_type": "markdown",
      "metadata": {
        "id": "yLzfgo3FZczz"
      },
      "source": [
        "## 6. Recommendations API"
      ]
    },
    {
      "cell_type": "markdown",
      "metadata": {
        "id": "SXhCqHZUZczz"
      },
      "source": [
        "You might notice that even though the similarity score we are getting seem quite high, the results seem to be a bit all over the place. To solve this, we could fine-tune our model and create a new embedding layer, but that would take some time and, most-likely, a GPU.\n",
        "\n",
        "What we can do instead is to pick a model that works better off the bat and test the quality of the embeddings while we explore the recommendations API of Qdrant.\n",
        "\n",
        "Let's do just that by using the package [`fastembed`](https://github.com/qdrant/fastembed) with the model `sentence-transformers/all-MiniLM-L6-v2`."
      ]
    },
    {
      "cell_type": "code",
      "execution_count": null,
      "metadata": {
        "id": "RODfInnjZczz"
      },
      "outputs": [],
      "source": [
        "from fastembed import TextEmbedding"
      ]
    },
    {
      "cell_type": "code",
      "execution_count": null,
      "metadata": {
        "id": "URoToXhTZczz",
        "colab": {
          "base_uri": "https://localhost:8080/",
          "height": 209,
          "referenced_widgets": [
            "085a5f4a6a8940519eedb9df85697c85",
            "b00eafa4e4884e4c94d92a7e6da89564",
            "e7567219f7204e7ca1ec94b1f68d60ff",
            "6f1bfba4778b40ebbe0f9059a1d18b92",
            "7fad50b6ca8f4bf89f065836d4a31077",
            "a7e92da0ac6843489f45e745af789a2b",
            "e686e503e705432c9ffad746340b3ef0",
            "b11f6ec45e7c4681831037da3a908089",
            "566fe1c02bc546f0814e89d47af95607",
            "2cba35db0e2d467ca7b95d2995304716",
            "2258505d1fdd443a8e6caf6b334e6288",
            "388203b642fa412984cde71677476ce0",
            "897a7bae20734a3fa9c9757f6d826070",
            "81b0ef5dc3a74dc5bc832cd7c4d830a1",
            "3728d20c85e04d90a0b403420f1c0d2d",
            "e7d355a8c94f43a2b057e0876ff56101",
            "255b30f9d40b448194ed6e4fe56c1dad",
            "1ed1e4f50c384395add092bdc57d5762",
            "dc18b6698353403ab4121e7aab9ec96c",
            "2da1af552a8e4095b056d798642888ea",
            "db78476889274479806dd3c3be180876",
            "35f47d866d37437980e3e93cb0d71c7b",
            "1a34495cdb6d42399b2ad88673912a79",
            "c7ca78b8007d48078eea60f52f2fc603",
            "cd58db908bca46e4b93f25792f2c4429",
            "c8d39a1a024c4fb494d99dd8f795932c",
            "d32d991875ff449991977ad1f91b3c6a",
            "22711df993154fa1b4ec863d6f411d5f",
            "4d44864ebb1a40e88045c8937d0b3637",
            "b701fc8806894a6f9c38565e19c0fa15",
            "b5283c545d0c4e7999af2ceb86925035",
            "ee932bbd7c864077a2720fad36307822",
            "b3d7633bfb534c0dbc5cdcd1e2d48c4e",
            "256f63e0470e4c3e91fd5d41444e5836",
            "b93994fd90ae4a399541e8c0e57dfb4e",
            "72c2e211f68a4473b70b69290e2dbf3b",
            "819e3e776d4c4d20b65a8a84807dda06",
            "67144097720a47bab357b384882697a8",
            "219c36f3ac9c4291b7e70ff1bd7be810",
            "b05686fe5a98486690cfac9ed3b4280f",
            "d2608c4c8d874eed9687213fd1ec2677",
            "f9d4ce29adfe4ec9b91956e8c6b498c0",
            "887307bb81ce45e9920ac9d269fad1d9",
            "8c77d739c83b4273bd4bb2e8a6b8980f",
            "bfbd65e22bcf46c5bf832efb61ecf41c",
            "a6ffd528bc2a4e32a2588d2efff58e1d",
            "328e8a263cae48a483a704ee198e5df7",
            "48d379f6395f45ffaff53e7a2262b004",
            "06b29cd7dea04971959821a149cbc90a",
            "706c038e31fa4344a71f979de2bcfd6e",
            "b4b2a069b0f24255b24052bd306a93cd",
            "7d7801ca68074935890319dc8346052a",
            "19c13d8aaffc4761b787a39be9f78b0b",
            "aeddab2cb339467cabc64f11d5085076",
            "885ce6679aec46158e471461140386a3",
            "8640a6ca330544d083d216cefa7ee096",
            "301e9befa49b45e1854babe5b9a0dc14",
            "087ba8cbd83b47e8877d11bf442d8c9f",
            "e2ffba35de504d7c9e5bc4ebcc9c187c",
            "917d8c810942456d89692503cbddb209",
            "d863567a5fe7462499e565c9936e9089",
            "564b3b9a7f884e0b9c7a9c321385f56e",
            "e47d1d55b3a54f36ab35874b5c127bdc",
            "bbe8f282fd6b40a7bd9f63e05a4569bd",
            "760dde76f9984cccab2626b45fd41ac6",
            "fd2bd15eb6ec48199d7e09d58fe65d69"
          ]
        },
        "outputId": "1dfd1be0-7257-48d4-ea10-2e174bfd74b4"
      },
      "outputs": [
        {
          "output_type": "display_data",
          "data": {
            "text/plain": [
              "Fetching 5 files:   0%|          | 0/5 [00:00<?, ?it/s]"
            ],
            "application/vnd.jupyter.widget-view+json": {
              "version_major": 2,
              "version_minor": 0,
              "model_id": "085a5f4a6a8940519eedb9df85697c85"
            }
          },
          "metadata": {}
        },
        {
          "output_type": "display_data",
          "data": {
            "text/plain": [
              "special_tokens_map.json:   0%|          | 0.00/695 [00:00<?, ?B/s]"
            ],
            "application/vnd.jupyter.widget-view+json": {
              "version_major": 2,
              "version_minor": 0,
              "model_id": "388203b642fa412984cde71677476ce0"
            }
          },
          "metadata": {}
        },
        {
          "output_type": "display_data",
          "data": {
            "text/plain": [
              "model.onnx:   0%|          | 0.00/90.4M [00:00<?, ?B/s]"
            ],
            "application/vnd.jupyter.widget-view+json": {
              "version_major": 2,
              "version_minor": 0,
              "model_id": "1a34495cdb6d42399b2ad88673912a79"
            }
          },
          "metadata": {}
        },
        {
          "output_type": "display_data",
          "data": {
            "text/plain": [
              "tokenizer.json:   0%|          | 0.00/712k [00:00<?, ?B/s]"
            ],
            "application/vnd.jupyter.widget-view+json": {
              "version_major": 2,
              "version_minor": 0,
              "model_id": "256f63e0470e4c3e91fd5d41444e5836"
            }
          },
          "metadata": {}
        },
        {
          "output_type": "display_data",
          "data": {
            "text/plain": [
              "tokenizer_config.json:   0%|          | 0.00/1.43k [00:00<?, ?B/s]"
            ],
            "application/vnd.jupyter.widget-view+json": {
              "version_major": 2,
              "version_minor": 0,
              "model_id": "bfbd65e22bcf46c5bf832efb61ecf41c"
            }
          },
          "metadata": {}
        },
        {
          "output_type": "display_data",
          "data": {
            "text/plain": [
              "config.json:   0%|          | 0.00/650 [00:00<?, ?B/s]"
            ],
            "application/vnd.jupyter.widget-view+json": {
              "version_major": 2,
              "version_minor": 0,
              "model_id": "8640a6ca330544d083d216cefa7ee096"
            }
          },
          "metadata": {}
        }
      ],
      "source": [
        "model = TextEmbedding(model_name=\"sentence-transformers/all-MiniLM-L6-v2\")"
      ]
    },
    {
      "cell_type": "markdown",
      "metadata": {
        "id": "uoSvMClNZczz"
      },
      "source": [
        "We will call the second embedding feature `embedding_2` and extract it from our articles in the same way as before."
      ]
    },
    {
      "cell_type": "code",
      "execution_count": null,
      "metadata": {
        "colab": {
          "base_uri": "https://localhost:8080/",
          "height": 104,
          "referenced_widgets": [
            "39614ce243224775bac9d506ec803f69",
            "d1f78642a4f44e81b0fffbf24898cf5c",
            "e42907d8aa3f4d788a851b3c27dd7b23",
            "c3eb608da04948958f9ba164a3b9c040",
            "553ffbdb604141489544ba841a506681",
            "668c79460d654efe888640135d5697c5",
            "1ee5e0521d21439ebd644d67468c719a",
            "ab4e9cb5bed44519ac84dd6e684e8f59",
            "d5dbb472f12a465fb6517716a59c3273",
            "1f4f949aac64499394b1d850aac323d7",
            "db4b72d361674c338c1c92baf3715339"
          ]
        },
        "id": "DJesCKzdZczz",
        "outputId": "5728d9f1-3274-4c5f-9acb-07eaecccd629"
      },
      "outputs": [
        {
          "output_type": "stream",
          "name": "stderr",
          "text": [
            "Parameter 'function'=<function get_st_embedding at 0x7c2f9b5ffac0> of the transform datasets.arrow_dataset.Dataset._map_single couldn't be hashed properly, a random hash was used instead. Make sure your transforms and parameters are serializable with pickle or dill for the dataset fingerprinting and caching to work. If you reuse this transform, the caching mechanism will consider it to be different from the previous calls and recompute everything. This warning is only showed once. Subsequent hashing failures won't be showed.\n",
            "WARNING:datasets.fingerprint:Parameter 'function'=<function get_st_embedding at 0x7c2f9b5ffac0> of the transform datasets.arrow_dataset.Dataset._map_single couldn't be hashed properly, a random hash was used instead. Make sure your transforms and parameters are serializable with pickle or dill for the dataset fingerprinting and caching to work. If you reuse this transform, the caching mechanism will consider it to be different from the previous calls and recompute everything. This warning is only showed once. Subsequent hashing failures won't be showed.\n"
          ]
        },
        {
          "output_type": "display_data",
          "data": {
            "text/plain": [
              "Map:   0%|          | 0/100 [00:00<?, ? examples/s]"
            ],
            "application/vnd.jupyter.widget-view+json": {
              "version_major": 2,
              "version_minor": 0,
              "model_id": "39614ce243224775bac9d506ec803f69"
            }
          },
          "metadata": {}
        }
      ],
      "source": [
        "def get_st_embedding(example):\n",
        "    example['embedding_2'] = list(model.embed(example['text']))[0]\n",
        "    return example\n",
        "\n",
        "small_set = small_set.map(get_st_embedding)"
      ]
    },
    {
      "cell_type": "code",
      "execution_count": null,
      "metadata": {
        "colab": {
          "base_uri": "https://localhost:8080/"
        },
        "id": "zBaCTaWHZczz",
        "outputId": "fbc2c910-3e1b-4ed5-9bca-4d1716263d21"
      },
      "outputs": [
        {
          "output_type": "execute_result",
          "data": {
            "text/plain": [
              "Dataset({\n",
              "    features: ['text', 'label', 'length_of_text', 'embedding', 'idx', 'label_names', 'embedding_2'],\n",
              "    num_rows: 100\n",
              "})"
            ]
          },
          "metadata": {},
          "execution_count": 44
        }
      ],
      "source": [
        "small_set"
      ]
    },
    {
      "cell_type": "markdown",
      "metadata": {
        "id": "DV6hRRVgZczz"
      },
      "source": [
        "Now that we have the new embedding layer, let's create a new collection with the same `small_set`, `ids`, and `payload`, and call this collection `better_news`."
      ]
    },
    {
      "cell_type": "code",
      "execution_count": null,
      "metadata": {
        "colab": {
          "base_uri": "https://localhost:8080/"
        },
        "id": "b0UzUgINZczz",
        "outputId": "ef93f96e-f859-46a4-f4aa-2650e72384a3"
      },
      "outputs": [
        {
          "output_type": "stream",
          "name": "stderr",
          "text": [
            "<ipython-input-45-a351c201cc39>:2: DeprecationWarning: `recreate_collection` method is deprecated and will be removed in the future. Use `collection_exists` to check collection existence and `create_collection` instead.\n",
            "  client.recreate_collection(\n"
          ]
        },
        {
          "output_type": "execute_result",
          "data": {
            "text/plain": [
              "True"
            ]
          },
          "metadata": {},
          "execution_count": 45
        }
      ],
      "source": [
        "second_collection = \"better_news\"\n",
        "client.recreate_collection(\n",
        "    collection_name=second_collection,\n",
        "    vectors_config=models.VectorParams(\n",
        "        size=len(small_set[0]['embedding_2']),\n",
        "        distance=models.Distance.COSINE\n",
        "    )\n",
        ")"
      ]
    },
    {
      "cell_type": "code",
      "execution_count": null,
      "metadata": {
        "colab": {
          "base_uri": "https://localhost:8080/"
        },
        "id": "eBezRqhaZczz",
        "outputId": "b9bb1cc8-6cb3-4e6b-a18f-77d2ddecd3bb"
      },
      "outputs": [
        {
          "output_type": "execute_result",
          "data": {
            "text/plain": [
              "UpdateResult(operation_id=0, status=<UpdateStatus.COMPLETED: 'completed'>)"
            ]
          },
          "metadata": {},
          "execution_count": 46
        }
      ],
      "source": [
        "client.upsert(\n",
        "    collection_name=second_collection,\n",
        "    points=models.Batch(\n",
        "        ids=small_set['idx'],\n",
        "        vectors=small_set['embedding_2'],\n",
        "        payloads=payloads\n",
        "    )\n",
        ")"
      ]
    },
    {
      "cell_type": "markdown",
      "metadata": {
        "id": "Vh2LcW2fZczz"
      },
      "source": [
        "Let's pick a random news article."
      ]
    },
    {
      "cell_type": "code",
      "execution_count": null,
      "metadata": {
        "colab": {
          "base_uri": "https://localhost:8080/"
        },
        "id": "6xQMOFvBZczz",
        "outputId": "756d281d-5fd7-4d43-9cd0-9e5bc6a889f0"
      },
      "outputs": [
        {
          "output_type": "execute_result",
          "data": {
            "text/plain": [
              "(87,\n",
              " '1,600 internet cafes closed in China The Chinese local governments have closed 1600 Internet cafes and fined operators a total of 100m yuan (\\\\$12m) between February and August this year.')"
            ]
          },
          "metadata": {},
          "execution_count": 47
        }
      ],
      "source": [
        "some_txt = small_set[87]\n",
        "some_txt['idx'], some_txt['text']"
      ]
    },
    {
      "cell_type": "markdown",
      "metadata": {
        "id": "IRWsBBFZZczz"
      },
      "source": []
    },
    {
      "cell_type": "markdown",
      "metadata": {
        "id": "9xvXGuWYZczz"
      },
      "source": [
        "They key thing about the recommendation API of Qdrant is that we need at least 1 id for an article\n",
        "that a user liked, or gave us a 👍 for, but the number of negative articles is optional."
      ]
    },
    {
      "cell_type": "code",
      "execution_count": null,
      "metadata": {
        "colab": {
          "base_uri": "https://localhost:8080/"
        },
        "id": "a8CXituaZczz",
        "outputId": "097a497f-33e7-4788-f9f0-1542f5e70b6e"
      },
      "outputs": [
        {
          "output_type": "execute_result",
          "data": {
            "text/plain": [
              "(21,\n",
              " 'Icahn pushes harder to stop Mylan #39;s King acquisition PITTSBURGH Carl Icahn, the largest shareholder of Mylan Laboratories, is now threatening to push for new company directors to stop the generic drug maker #39;s four (B) billion-dollar takeover bid of King Pharmaceuticals.')"
            ]
          },
          "metadata": {},
          "execution_count": 48
        }
      ],
      "source": [
        "article_we_liked = small_set[21]\n",
        "article_we_liked['idx'], article_we_liked['text']"
      ]
    },
    {
      "cell_type": "code",
      "execution_count": null,
      "metadata": {
        "colab": {
          "base_uri": "https://localhost:8080/"
        },
        "id": "5IAekWrlZcz0",
        "outputId": "a7710781-89c9-48ca-9dd0-edbdfd6eca24"
      },
      "outputs": [
        {
          "output_type": "execute_result",
          "data": {
            "text/plain": [
              "[ScoredPoint(id=93, version=0, score=0.4016504396936016, payload={'label_names': 'Sci/Tech', 'text': 'Feds go after  #39;Spam King #39; Federal attorneys are trying to shut down an allegedly illicit Internet business operated out of a dance club in Rochester that is deluging computers with unwanted pop-up ads by hijacking their browsers.'}, vector=None, shard_key=None, order_value=None),\n",
              " ScoredPoint(id=56, version=0, score=0.3821894452008371, payload={'label_names': 'Business', 'text': \"Amazon moves into China US internet giant Amazon.com is buying China's largest web retailer Joyo.com, in a deal worth \\\\$75m (41m).\"}, vector=None, shard_key=None, order_value=None),\n",
              " ScoredPoint(id=73, version=0, score=0.36303007487200234, payload={'label_names': 'Sci/Tech', 'text': 'China  #39;blocks Google news site #39; China has been accused of blocking access to Google News by the media watchdog, Reporters Without Borders. The Paris-based pressure group said the English-language news site had been unavailable for the past 10 days.'}, vector=None, shard_key=None, order_value=None),\n",
              " ScoredPoint(id=14, version=0, score=0.3339852217199736, payload={'label_names': 'Business', 'text': 'Oracle acquisition of PeopleSoft leads flurry of deals NEW YORK (CBS.MW) -- US stocks closed higher Monday, with the Dow Jones Industrial Average ending at its best level in more than nine months amid better-than-expected economic data and merger-related optimism.'}, vector=None, shard_key=None, order_value=None),\n",
              " ScoredPoint(id=20, version=0, score=0.3047674328733027, payload={'label_names': 'Sci/Tech', 'text': 'Cisco switch products target small business Company aggressively addresses smaller businesses with products that reduce the cost and complexity of operating a Cisco network.'}, vector=None, shard_key=None, order_value=None)]"
            ]
          },
          "metadata": {},
          "execution_count": 49
        }
      ],
      "source": [
        "client.query_points(\n",
        "    collection_name=second_collection,\n",
        "    query=models.RecommendQuery(recommend=models.RecommendInput(\n",
        "        positive=[some_txt['idx'], article_we_liked['idx']]\n",
        "    )),\n",
        "    limit=5\n",
        ").points"
      ]
    },
    {
      "cell_type": "markdown",
      "metadata": {
        "id": "CjwV34-QZcz0"
      },
      "source": [
        "Not surprisingly, we get a lot of tech news with decent degrees of similarity."
      ]
    },
    {
      "cell_type": "code",
      "execution_count": null,
      "metadata": {
        "colab": {
          "base_uri": "https://localhost:8080/"
        },
        "id": "J5flAcx7Zcz0",
        "outputId": "547f46cf-5ede-46a2-efd5-ad83f13ede83"
      },
      "outputs": [
        {
          "output_type": "execute_result",
          "data": {
            "text/plain": [
              "(70,\n",
              " 'Cranes rain down as peace gesture Millions of origami paper cranes yesterday rained down upon Thailand #39;s three violence-torn southern provinces in an extravagant government-sponsored gesture aimed at bringing peace to the predominantly Muslim region.')"
            ]
          },
          "metadata": {},
          "execution_count": 50
        }
      ],
      "source": [
        "another_article_we_liked = small_set[70]\n",
        "another_article_we_liked['idx'], another_article_we_liked['text']"
      ]
    },
    {
      "cell_type": "code",
      "execution_count": null,
      "metadata": {
        "colab": {
          "base_uri": "https://localhost:8080/"
        },
        "id": "RU25YajEZcz0",
        "outputId": "5985e768-6b4c-475e-b848-6876fcdf1c26"
      },
      "outputs": [
        {
          "output_type": "execute_result",
          "data": {
            "text/plain": [
              "(14,\n",
              " 'Oracle acquisition of PeopleSoft leads flurry of deals NEW YORK (CBS.MW) -- US stocks closed higher Monday, with the Dow Jones Industrial Average ending at its best level in more than nine months amid better-than-expected economic data and merger-related optimism.')"
            ]
          },
          "metadata": {},
          "execution_count": 51
        }
      ],
      "source": [
        "article_we_dont_like = small_set[14]\n",
        "article_we_dont_like['idx'], article_we_dont_like['text']"
      ]
    },
    {
      "cell_type": "code",
      "execution_count": null,
      "metadata": {
        "id": "eeg5A94fZcz0",
        "colab": {
          "base_uri": "https://localhost:8080/"
        },
        "outputId": "aef30cbb-f856-4837-c721-30f359adda2c"
      },
      "outputs": [
        {
          "output_type": "execute_result",
          "data": {
            "text/plain": [
              "{'text': 'Pitt Locks Up BCS Bid Tyler Palko tosses a career-high 411 yards and five touchdowns to push No. 19 Pittsburgh over South Florida, 43-14, on Satudray.',\n",
              " 'label': 1,\n",
              " 'length_of_text': 150,\n",
              " 'embedding': [0.2001083493232727,\n",
              "  0.10426570475101471,\n",
              "  0.2682616412639618,\n",
              "  0.06095672771334648,\n",
              "  0.4883860945701599,\n",
              "  -0.21226543188095093,\n",
              "  6.782810211181641,\n",
              "  -0.42500993609428406,\n",
              "  0.13552601635456085,\n",
              "  -0.09787515550851822,\n",
              "  0.06081604212522507,\n",
              "  -0.040480758994817734,\n",
              "  -0.017010381445288658,\n",
              "  0.012440914288163185,\n",
              "  -0.4399667978286743,\n",
              "  0.25990918278694153,\n",
              "  -0.20918236672878265,\n",
              "  -0.006183019373565912,\n",
              "  -0.03013763763010502,\n",
              "  -1.1443390846252441,\n",
              "  0.28185218572616577,\n",
              "  0.16344189643859863,\n",
              "  -0.34813302755355835,\n",
              "  -0.019022541120648384,\n",
              "  0.2664821743965149,\n",
              "  0.11982279270887375,\n",
              "  0.019297843798995018,\n",
              "  0.1706046611070633,\n",
              "  0.02687125653028488,\n",
              "  -0.3083641231060028,\n",
              "  -0.08854793012142181,\n",
              "  0.19920514523983002,\n",
              "  0.13639236986637115,\n",
              "  -0.027262065559625626,\n",
              "  -0.16284413635730743,\n",
              "  0.3900046944618225,\n",
              "  76.92118072509766,\n",
              "  -0.2259550839662552,\n",
              "  -0.11779481917619705,\n",
              "  -0.19412587583065033,\n",
              "  0.03485606983304024,\n",
              "  0.19852811098098755,\n",
              "  0.18403634428977966,\n",
              "  -0.2935221493244171,\n",
              "  0.22837182879447937,\n",
              "  -0.5629920959472656,\n",
              "  0.33687809109687805,\n",
              "  0.07003739476203918,\n",
              "  0.2223309725522995,\n",
              "  -0.14712609350681305,\n",
              "  0.05265651270747185,\n",
              "  -0.006103505380451679,\n",
              "  -0.0611378438770771,\n",
              "  -0.18668365478515625,\n",
              "  -0.06983089447021484,\n",
              "  0.9379709959030151,\n",
              "  -0.12141760438680649,\n",
              "  -0.23966611921787262,\n",
              "  -0.11459847539663315,\n",
              "  -0.49814164638519287,\n",
              "  -0.1095796450972557,\n",
              "  -0.5050238370895386,\n",
              "  0.06964633613824844,\n",
              "  -0.5141197443008423,\n",
              "  -1.1008026599884033,\n",
              "  0.1386788934469223,\n",
              "  -0.3739326000213623,\n",
              "  0.18591158092021942,\n",
              "  -1.0365480184555054,\n",
              "  -0.1464383900165558,\n",
              "  0.053940556943416595,\n",
              "  0.24719735980033875,\n",
              "  -0.20285899937152863,\n",
              "  0.1370367407798767,\n",
              "  0.022288881242275238,\n",
              "  0.20438812673091888,\n",
              "  0.04443011432886124,\n",
              "  -1.5431771278381348,\n",
              "  0.12242035567760468,\n",
              "  -0.3146847188472748,\n",
              "  -0.12424201518297195,\n",
              "  0.25531476736068726,\n",
              "  0.06221616640686989,\n",
              "  -0.25155508518218994,\n",
              "  -0.005617971066385508,\n",
              "  -0.11228787899017334,\n",
              "  0.503000795841217,\n",
              "  -1.0218427181243896,\n",
              "  0.15625402331352234,\n",
              "  0.009254717268049717,\n",
              "  -0.0927518755197525,\n",
              "  -0.15390969812870026,\n",
              "  -0.32955577969551086,\n",
              "  0.2000306248664856,\n",
              "  0.05092092230916023,\n",
              "  -0.11354689300060272,\n",
              "  0.03948111832141876,\n",
              "  0.09164600074291229,\n",
              "  0.15433421730995178,\n",
              "  0.19070035219192505,\n",
              "  0.1307165026664734,\n",
              "  0.06375302374362946,\n",
              "  0.5268598198890686,\n",
              "  -0.02479044906795025,\n",
              "  0.1266196370124817,\n",
              "  0.04842199385166168,\n",
              "  0.24272741377353668,\n",
              "  2.074704170227051,\n",
              "  -0.18093623220920563,\n",
              "  -0.092758409678936,\n",
              "  0.03325066715478897,\n",
              "  -0.16774138808250427,\n",
              "  0.07553358376026154,\n",
              "  -0.10791459679603577,\n",
              "  0.026072479784488678,\n",
              "  -0.2972869873046875,\n",
              "  0.11199051886796951,\n",
              "  0.23214958608150482,\n",
              "  -0.12463146448135376,\n",
              "  -0.0555582270026207,\n",
              "  0.1419326663017273,\n",
              "  0.20454499125480652,\n",
              "  0.245552197098732,\n",
              "  0.3659064471721649,\n",
              "  0.09468463808298111,\n",
              "  -0.1476239711046219,\n",
              "  0.12187241017818451,\n",
              "  0.17115212976932526,\n",
              "  0.2431124448776245,\n",
              "  -0.187479630112648,\n",
              "  0.03248589113354683,\n",
              "  0.28236424922943115,\n",
              "  -0.3444245755672455,\n",
              "  -0.006783351767808199,\n",
              "  -0.06222548708319664,\n",
              "  -0.14549528062343597,\n",
              "  -0.013638775795698166,\n",
              "  -0.6540550589561462,\n",
              "  0.5502159595489502,\n",
              "  -0.11261826008558273,\n",
              "  -0.1501057893037796,\n",
              "  0.2778078615665436,\n",
              "  -1.025776743888855,\n",
              "  -0.06396982073783875,\n",
              "  -0.0883055254817009,\n",
              "  0.7941758632659912,\n",
              "  -0.06757870316505432,\n",
              "  0.24366872012615204,\n",
              "  0.024564985185861588,\n",
              "  0.0698174238204956,\n",
              "  -0.2974850833415985,\n",
              "  0.20809629559516907,\n",
              "  0.1290135532617569,\n",
              "  0.10360601544380188,\n",
              "  -0.13885042071342468,\n",
              "  -0.1312718689441681,\n",
              "  -0.14705538749694824,\n",
              "  -0.12618020176887512,\n",
              "  -0.04746601730585098,\n",
              "  0.23703095316886902,\n",
              "  0.01659928262233734,\n",
              "  0.3249679207801819,\n",
              "  0.30874696373939514,\n",
              "  0.2752271890640259,\n",
              "  0.2911490797996521,\n",
              "  -0.35883378982543945,\n",
              "  0.22984135150909424,\n",
              "  -2.416396141052246,\n",
              "  -0.18798379600048065,\n",
              "  -0.028652040287852287,\n",
              "  0.295961856842041,\n",
              "  0.17778654396533966,\n",
              "  0.02133101038634777,\n",
              "  -0.05257243663072586,\n",
              "  0.11172442138195038,\n",
              "  -0.24875938892364502,\n",
              "  0.021695660427212715,\n",
              "  0.015394032001495361,\n",
              "  -0.1577742099761963,\n",
              "  -0.3160685896873474,\n",
              "  -0.05267490819096565,\n",
              "  -0.015055916272103786,\n",
              "  0.15897917747497559,\n",
              "  0.22896616160869598,\n",
              "  0.4389486610889435,\n",
              "  -0.15256910026073456,\n",
              "  -0.06119254231452942,\n",
              "  0.0767117366194725,\n",
              "  0.5010777711868286,\n",
              "  0.18078500032424927,\n",
              "  -0.020069997757673264,\n",
              "  -0.2886807322502136,\n",
              "  0.19109459221363068,\n",
              "  0.06402368098497391,\n",
              "  0.06870914995670319,\n",
              "  -0.2098435014486313,\n",
              "  0.024007730185985565,\n",
              "  -0.036308567970991135,\n",
              "  0.1709892749786377,\n",
              "  -0.037315670400857925,\n",
              "  0.3679991364479065,\n",
              "  0.2868295907974243,\n",
              "  -0.061794862151145935,\n",
              "  0.11471591144800186,\n",
              "  0.18246953189373016,\n",
              "  -0.19641664624214172,\n",
              "  0.026347117498517036,\n",
              "  0.023968955501914024,\n",
              "  -0.09676912426948547,\n",
              "  -0.24743089079856873,\n",
              "  0.006773192901164293,\n",
              "  -0.2725302278995514,\n",
              "  -0.024257997050881386,\n",
              "  -0.05844501033425331,\n",
              "  -0.1930234432220459,\n",
              "  -0.22588004171848297,\n",
              "  -0.10532831400632858,\n",
              "  -0.28386667370796204,\n",
              "  -0.6295710802078247,\n",
              "  -0.3008844256401062,\n",
              "  0.13494181632995605,\n",
              "  -0.06512167304754257,\n",
              "  0.18512214720249176,\n",
              "  0.21842128038406372,\n",
              "  0.40206122398376465,\n",
              "  -0.047320883721113205,\n",
              "  -0.1237696185708046,\n",
              "  -0.32833796739578247,\n",
              "  0.40496599674224854,\n",
              "  0.0017396908951923251,\n",
              "  0.18226493895053864,\n",
              "  -0.37222135066986084,\n",
              "  2.750786304473877,\n",
              "  -0.11447332799434662,\n",
              "  -0.002433245535939932,\n",
              "  -0.17257513105869293,\n",
              "  -0.0002989361819345504,\n",
              "  -0.109219491481781,\n",
              "  0.4670504033565521,\n",
              "  0.08550480753183365,\n",
              "  -0.3540545105934143,\n",
              "  0.956388533115387,\n",
              "  0.3384402096271515,\n",
              "  -0.24019362032413483,\n",
              "  0.11704069375991821,\n",
              "  0.47242307662963867,\n",
              "  -0.09863799810409546,\n",
              "  -0.1419115513563156,\n",
              "  0.20672598481178284,\n",
              "  -0.4766250252723694,\n",
              "  -0.5869779586791992,\n",
              "  0.209821417927742,\n",
              "  -0.033498648554086685,\n",
              "  0.11366317421197891,\n",
              "  0.18119671940803528,\n",
              "  -0.2932625412940979,\n",
              "  -0.3197827637195587,\n",
              "  0.06038636714220047,\n",
              "  0.4126829206943512,\n",
              "  0.04670536145567894,\n",
              "  0.19616347551345825,\n",
              "  -0.15879356861114502,\n",
              "  0.14433468878269196,\n",
              "  0.08100045472383499,\n",
              "  -0.22475828230381012,\n",
              "  -0.17533116042613983,\n",
              "  -1.012933611869812,\n",
              "  0.27483752369880676,\n",
              "  -0.04766878858208656,\n",
              "  0.43748000264167786,\n",
              "  -0.2309291660785675,\n",
              "  2.6758854389190674,\n",
              "  0.10515789687633514,\n",
              "  -0.2216084897518158,\n",
              "  0.11988121271133423,\n",
              "  -0.4570213854312897,\n",
              "  0.23035190999507904,\n",
              "  -0.20349976420402527,\n",
              "  -0.0268268883228302,\n",
              "  0.05628086254000664,\n",
              "  0.1968088150024414,\n",
              "  0.2547810673713684,\n",
              "  0.04798213392496109,\n",
              "  -0.24057379364967346,\n",
              "  -0.20253774523735046,\n",
              "  -0.28387245535850525,\n",
              "  -0.020065300166606903,\n",
              "  -0.0796143040060997,\n",
              "  0.6707561016082764,\n",
              "  -0.13914857804775238,\n",
              "  -0.3365546762943268,\n",
              "  0.2622109055519104,\n",
              "  -0.16386982798576355,\n",
              "  -0.03102918714284897,\n",
              "  -0.11724160611629486,\n",
              "  -0.017565881833434105,\n",
              "  -0.13283170759677887,\n",
              "  0.1287897229194641,\n",
              "  0.30118948221206665,\n",
              "  0.17374520003795624,\n",
              "  -0.023578623309731483,\n",
              "  -0.04432867094874382,\n",
              "  0.12157995998859406,\n",
              "  0.11660068482160568,\n",
              "  0.08245819061994553,\n",
              "  0.1312124878168106,\n",
              "  0.09314816445112228,\n",
              "  -0.1330515295267105,\n",
              "  0.06215880438685417,\n",
              "  0.10197535157203674,\n",
              "  0.0020389179699122906,\n",
              "  0.06642255187034607,\n",
              "  0.08657825738191605,\n",
              "  -0.043281190097332,\n",
              "  -33.25529861450195,\n",
              "  -0.00803507212549448,\n",
              "  -0.045907873660326004,\n",
              "  -0.2856627106666565,\n",
              "  0.24651233851909637,\n",
              "  0.40307915210723877,\n",
              "  -0.3815613389015198,\n",
              "  -0.23721225559711456,\n",
              "  -0.1649543195962906,\n",
              "  -0.08611492812633514,\n",
              "  -0.16628201305866241,\n",
              "  0.2883876860141754,\n",
              "  0.32337287068367004,\n",
              "  -0.11528807133436203,\n",
              "  0.31814342737197876,\n",
              "  0.17999199032783508,\n",
              "  0.17592766880989075,\n",
              "  -0.15429870784282684,\n",
              "  -0.07496991753578186,\n",
              "  -0.20925958454608917,\n",
              "  -0.25862249732017517,\n",
              "  -0.292000949382782,\n",
              "  -0.3862132430076599,\n",
              "  -0.00527865719050169,\n",
              "  -0.03481639549136162,\n",
              "  0.20482249557971954,\n",
              "  0.12370246648788452,\n",
              "  0.1264101266860962,\n",
              "  0.05748405680060387,\n",
              "  -0.16770781576633453,\n",
              "  0.2596180737018585,\n",
              "  -0.05312507972121239,\n",
              "  0.06595411896705627,\n",
              "  -0.32821205258369446,\n",
              "  -0.22071592509746552,\n",
              "  0.035902123898267746,\n",
              "  -0.10479284077882767,\n",
              "  -0.01747976243495941,\n",
              "  -0.07977794110774994,\n",
              "  -0.5718564391136169,\n",
              "  -0.18067008256912231,\n",
              "  0.0774940773844719,\n",
              "  0.014895841479301453,\n",
              "  0.11070995777845383,\n",
              "  -0.008510778658092022,\n",
              "  0.31037166714668274,\n",
              "  0.11251432448625565,\n",
              "  -0.16322435438632965,\n",
              "  0.3378138542175293,\n",
              "  -0.03284251689910889,\n",
              "  -0.1462244838476181,\n",
              "  -1.8166195154190063,\n",
              "  -0.22294819355010986,\n",
              "  -0.08685863018035889,\n",
              "  0.13668292760849,\n",
              "  0.17982274293899536,\n",
              "  -0.32496950030326843,\n",
              "  0.176382914185524,\n",
              "  -0.13165351748466492,\n",
              "  -1.1275110244750977,\n",
              "  -12.546581268310547,\n",
              "  -0.002861491171643138,\n",
              "  -0.28725239634513855,\n",
              "  -0.16945017874240875,\n",
              "  -0.2859564423561096,\n",
              "  0.1499297022819519,\n",
              "  -0.12403425574302673,\n",
              "  0.3379274010658264,\n",
              "  -0.11307402700185776,\n",
              "  0.5476109385490417,\n",
              "  -0.0757504403591156,\n",
              "  -0.08531137555837631,\n",
              "  0.27696162462234497,\n",
              "  -0.10358072072267532,\n",
              "  -0.31572186946868896,\n",
              "  -0.9174871444702148,\n",
              "  -0.0581924170255661,\n",
              "  0.06791378557682037,\n",
              "  0.043150048702955246,\n",
              "  -0.15545320510864258,\n",
              "  0.15469972789287567,\n",
              "  0.029274893924593925,\n",
              "  -0.37382209300994873,\n",
              "  0.17778249084949493,\n",
              "  -0.22777366638183594,\n",
              "  0.08763778209686279,\n",
              "  -0.012411413714289665,\n",
              "  -0.22444701194763184,\n",
              "  0.8616301417350769,\n",
              "  -0.13957449793815613,\n",
              "  -0.06147189810872078,\n",
              "  0.19093342125415802,\n",
              "  -0.0454169325530529,\n",
              "  -0.11064273864030838,\n",
              "  3.9034385681152344,\n",
              "  -0.0987342894077301,\n",
              "  0.11308514326810837,\n",
              "  0.07421816885471344,\n",
              "  0.10421086847782135,\n",
              "  -0.024897433817386627,\n",
              "  -0.3426104187965393,\n",
              "  0.0892079696059227,\n",
              "  0.08147977292537689,\n",
              "  -0.0031557860784232616,\n",
              "  -0.17543943226337433,\n",
              "  0.02267724648118019,\n",
              "  -0.6102254986763,\n",
              "  -0.43065303564071655,\n",
              "  -0.017393572255969048,\n",
              "  -0.1933801919221878,\n",
              "  -0.006005336530506611,\n",
              "  0.24456529319286346,\n",
              "  0.02842484787106514,\n",
              "  0.05734395980834961,\n",
              "  -0.2543013393878937,\n",
              "  0.14405997097492218,\n",
              "  102.29781341552734,\n",
              "  -0.03364364802837372,\n",
              "  0.05764394253492355,\n",
              "  0.2691815495491028,\n",
              "  0.003368918551132083,\n",
              "  -0.031193790957331657,\n",
              "  -0.11774197965860367,\n",
              "  -0.18355229496955872,\n",
              "  0.230848491191864,\n",
              "  0.27155882120132446,\n",
              "  0.14485038816928864,\n",
              "  0.0219612754881382,\n",
              "  8.014381408691406,\n",
              "  -0.5156480669975281,\n",
              "  0.25082242488861084,\n",
              "  0.00582025246694684,\n",
              "  -0.14528903365135193,\n",
              "  1.0663671493530273,\n",
              "  0.1213318407535553,\n",
              "  -0.10384827107191086,\n",
              "  -0.11190082132816315,\n",
              "  -0.07199455052614212,\n",
              "  -0.3394220769405365,\n",
              "  -0.8023439645767212,\n",
              "  0.4553470015525818,\n",
              "  -0.07107672095298767,\n",
              "  -0.5888526439666748,\n",
              "  -0.21056611835956573,\n",
              "  0.04195178300142288,\n",
              "  -0.4698964059352875,\n",
              "  0.3958794176578522,\n",
              "  0.004688220098614693,\n",
              "  0.09290561079978943,\n",
              "  0.14863452315330505,\n",
              "  -0.1257600486278534,\n",
              "  -0.4239422082901001,\n",
              "  0.05660972371697426,\n",
              "  -0.08018030971288681,\n",
              "  0.40158480405807495,\n",
              "  0.3547918200492859,\n",
              "  0.1721171885728836,\n",
              "  -0.10766664147377014,\n",
              "  0.0071734217926859856,\n",
              "  -0.0688645988702774,\n",
              "  -0.29441970586776733,\n",
              "  -0.19291308522224426,\n",
              "  -0.06497173756361008,\n",
              "  -0.1884402334690094,\n",
              "  0.4170653223991394,\n",
              "  -2.4632818698883057,\n",
              "  -0.8910871148109436,\n",
              "  1.130066156387329,\n",
              "  -0.12211305648088455,\n",
              "  -0.2876392602920532,\n",
              "  0.12418108433485031,\n",
              "  0.15346282720565796,\n",
              "  -0.2773628830909729,\n",
              "  0.37422147393226624,\n",
              "  -0.08847599476575851,\n",
              "  -0.5259329676628113,\n",
              "  -0.05460353195667267,\n",
              "  0.17483378946781158,\n",
              "  0.031687431037425995,\n",
              "  0.16622294485569,\n",
              "  -0.12615551054477692,\n",
              "  0.12895934283733368,\n",
              "  183.2413330078125,\n",
              "  -0.5991142392158508,\n",
              "  -0.15550294518470764,\n",
              "  -0.15031886100769043,\n",
              "  0.37579843401908875,\n",
              "  -0.13565151393413544,\n",
              "  -0.01952631026506424,\n",
              "  -2.0436270236968994,\n",
              "  0.05259063094854355,\n",
              "  0.027409404516220093,\n",
              "  -0.0032423590309917927,\n",
              "  -0.10443880409002304,\n",
              "  0.15375542640686035,\n",
              "  -0.1635454148054123,\n",
              "  -0.10623633861541748,\n",
              "  -0.11249944567680359,\n",
              "  0.1372997760772705,\n",
              "  0.05036752298474312,\n",
              "  -0.23360174894332886,\n",
              "  -0.6458210945129395,\n",
              "  -0.19167248904705048,\n",
              "  -0.3565409779548645,\n",
              "  -0.40237775444984436,\n",
              "  0.348506361246109,\n",
              "  -0.0036499935667961836,\n",
              "  -0.3549777865409851,\n",
              "  0.05118938162922859,\n",
              "  -0.09213519841432571,\n",
              "  -0.011172797530889511,\n",
              "  0.03339352831244469,\n",
              "  -0.25753313302993774,\n",
              "  -0.5701850056648254,\n",
              "  -0.2023070752620697,\n",
              "  0.04969634488224983,\n",
              "  0.2912907302379608,\n",
              "  0.03657366707921028,\n",
              "  0.08248353004455566,\n",
              "  0.1521601527929306,\n",
              "  -0.11018526554107666,\n",
              "  0.04221191257238388,\n",
              "  0.06425119936466217,\n",
              "  -0.15225547552108765,\n",
              "  -0.172965407371521,\n",
              "  -0.4507608711719513,\n",
              "  0.6993029713630676,\n",
              "  0.0901874303817749,\n",
              "  0.07597090303897858,\n",
              "  0.3265201151371002,\n",
              "  -0.06584012508392334,\n",
              "  0.017209259793162346,\n",
              "  -0.014445105567574501,\n",
              "  0.34261569380760193,\n",
              "  0.10536488890647888,\n",
              "  -0.10149873048067093,\n",
              "  0.23914407193660736,\n",
              "  0.3667280077934265,\n",
              "  0.09658576548099518,\n",
              "  -0.22736653685569763,\n",
              "  -0.056149307638406754,\n",
              "  0.3973683714866638,\n",
              "  -0.2406325489282608,\n",
              "  -0.08863922208547592,\n",
              "  0.08124540746212006,\n",
              "  0.30783045291900635,\n",
              "  -0.18564645946025848,\n",
              "  0.07313917577266693,\n",
              "  0.01177250873297453,\n",
              "  -0.17239293456077576,\n",
              "  0.020366957411170006,\n",
              "  -0.39353132247924805,\n",
              "  0.1893334686756134,\n",
              "  -0.20616745948791504,\n",
              "  -0.1915775090456009,\n",
              "  -0.3304315507411957,\n",
              "  0.1877095252275467,\n",
              "  -0.14970023930072784,\n",
              "  0.0516626201570034,\n",
              "  0.038507118821144104,\n",
              "  -0.17187142372131348,\n",
              "  -0.09324856847524643,\n",
              "  -0.03854477033019066,\n",
              "  -0.0932759940624237,\n",
              "  -0.6475975513458252,\n",
              "  -0.1629158854484558,\n",
              "  -0.3473338484764099,\n",
              "  -0.34005656838417053,\n",
              "  -0.015687061473727226,\n",
              "  -0.1854787915945053,\n",
              "  0.19666962325572968,\n",
              "  0.16890989243984222,\n",
              "  -0.014302701689302921,\n",
              "  0.20134088397026062,\n",
              "  -0.05849716067314148,\n",
              "  0.07306268811225891,\n",
              "  -0.01837654784321785,\n",
              "  -0.2107268124818802,\n",
              "  -0.06477819383144379,\n",
              "  0.0637989491224289,\n",
              "  -0.129109188914299,\n",
              "  0.008196312934160233,\n",
              "  0.19077575206756592,\n",
              "  -0.024085048586130142,\n",
              "  0.3349364697933197,\n",
              "  0.06745108217000961,\n",
              "  -0.14690707623958588,\n",
              "  -0.19920113682746887,\n",
              "  -0.05231573432683945,\n",
              "  0.3524320721626282,\n",
              "  0.1259542852640152,\n",
              "  0.014142199419438839,\n",
              "  -0.23099683225154877,\n",
              "  0.13392971456050873,\n",
              "  0.3717055320739746,\n",
              "  -0.1110202744603157,\n",
              "  0.39925187826156616,\n",
              "  0.08149678260087967,\n",
              "  0.08989962935447693,\n",
              "  0.13051606714725494,\n",
              "  -0.10793878138065338,\n",
              "  -0.17934611439704895,\n",
              "  0.21315662562847137,\n",
              "  -0.30429375171661377,\n",
              "  0.055870421230793,\n",
              "  -0.08704183250665665,\n",
              "  0.07109078764915466,\n",
              "  -0.027168646454811096,\n",
              "  0.016362739726901054,\n",
              "  -0.21304917335510254,\n",
              "  -0.4402000606060028,\n",
              "  0.0007420232868753374,\n",
              "  -0.04352937266230583,\n",
              "  -0.19824141263961792,\n",
              "  -0.08762901276350021,\n",
              "  -0.04382989928126335,\n",
              "  0.02066001109778881,\n",
              "  0.13049791753292084,\n",
              "  0.11203759163618088,\n",
              "  -0.1737758070230484,\n",
              "  -0.015545042231678963,\n",
              "  -1.120721459388733,\n",
              "  0.2661530077457428,\n",
              "  -0.12955541908740997,\n",
              "  0.08545897156000137,\n",
              "  -0.41609907150268555,\n",
              "  0.187047079205513,\n",
              "  -0.32732564210891724,\n",
              "  -0.19006599485874176,\n",
              "  -0.6593489646911621,\n",
              "  -0.3762556314468384,\n",
              "  -0.14158041775226593,\n",
              "  0.01406871434301138,\n",
              "  -0.04096703231334686,\n",
              "  0.30915361642837524,\n",
              "  -0.21053414046764374,\n",
              "  0.26802995800971985,\n",
              "  0.22042858600616455,\n",
              "  0.07652172446250916,\n",
              "  -0.07417786121368408,\n",
              "  -0.2727815806865692,\n",
              "  0.23970924317836761,\n",
              "  0.02372034825384617,\n",
              "  0.29773232340812683,\n",
              "  -0.09782286733388901,\n",
              "  1.0829473733901978,\n",
              "  -0.025837749242782593,\n",
              "  -0.23805776238441467,\n",
              "  0.1035042256116867,\n",
              "  0.057215068489313126,\n",
              "  0.026198329403996468,\n",
              "  0.08744720369577408,\n",
              "  0.3569984436035156,\n",
              "  -0.2846910059452057,\n",
              "  0.4796290993690491,\n",
              "  -0.14910469949245453,\n",
              "  -0.1462341547012329,\n",
              "  -0.4225449860095978,\n",
              "  -0.20634691417217255,\n",
              "  0.0027919397689402103,\n",
              "  0.02592458948493004,\n",
              "  0.020656203851103783,\n",
              "  0.1811022013425827,\n",
              "  0.06791389733552933,\n",
              "  0.10528118908405304,\n",
              "  -0.08385812491178513,\n",
              "  -0.7309895157814026,\n",
              "  -0.12282906472682953,\n",
              "  0.1906256377696991,\n",
              "  -0.08300834894180298,\n",
              "  -0.3004574179649353,\n",
              "  -0.029186062514781952,\n",
              "  0.23501479625701904,\n",
              "  0.11870556324720383,\n",
              "  -0.12389695644378662,\n",
              "  -0.18325696885585785,\n",
              "  -0.020281268283724785,\n",
              "  -0.04667864367365837,\n",
              "  -0.2271868735551834,\n",
              "  -0.1636108011007309,\n",
              "  0.03889733552932739,\n",
              "  0.08015342056751251,\n",
              "  -0.09098070114850998,\n",
              "  0.045315008610486984,\n",
              "  0.026134641841053963,\n",
              "  -0.01263814140111208,\n",
              "  0.00874552596360445,\n",
              "  -0.07623536139726639,\n",
              "  0.3634897470474243,\n",
              "  -4.887932777404785,\n",
              "  -0.10176150500774384,\n",
              "  0.14557747542858124,\n",
              "  -0.6566655039787292,\n",
              "  -0.1408374309539795,\n",
              "  -0.09102549403905869,\n",
              "  -0.3913344442844391,\n",
              "  -0.10237600654363632,\n",
              "  0.051988862454891205,\n",
              "  -0.2003454566001892,\n",
              "  0.2674363851547241,\n",
              "  -0.20563165843486786,\n",
              "  0.16578467190265656,\n",
              "  -0.1165878027677536,\n",
              "  -0.13118630647659302,\n",
              "  -0.05957195162773132,\n",
              "  0.08592995256185532,\n",
              "  -0.35484230518341064,\n",
              "  -0.08053524047136307,\n",
              "  -0.040507957339286804,\n",
              "  -0.2594175636768341,\n",
              "  0.11525516957044601,\n",
              "  -0.39011672139167786,\n",
              "  -0.0957353264093399,\n",
              "  0.03219892457127571,\n",
              "  -0.37607070803642273,\n",
              "  0.19716116786003113,\n",
              "  0.10480847209692001,\n",
              "  0.08615932613611221,\n",
              "  -0.24953316152095795,\n",
              "  0.15094764530658722,\n",
              "  -0.041118089109659195,\n",
              "  0.09299919009208679,\n",
              "  0.34757524728775024,\n",
              "  -0.16812875866889954,\n",
              "  -0.31166818737983704,\n",
              "  -0.23125481605529785,\n",
              "  -0.23652346432209015,\n",
              "  0.09474354237318039,\n",
              "  -0.33495479822158813,\n",
              "  -0.21597927808761597,\n",
              "  0.182681143283844,\n",
              "  -0.5423972606658936,\n",
              "  -0.19567476212978363,\n",
              "  0.1715678572654724,\n",
              "  -0.054919347167015076,\n",
              "  0.19821511209011078,\n",
              "  0.02546538971364498,\n",
              "  0.08514966815710068,\n",
              "  0.1825934201478958,\n",
              "  -0.11035189032554626,\n",
              "  -0.004550315905362368,\n",
              "  -0.25139087438583374,\n",
              "  -0.4459843039512634,\n",
              "  -0.30741941928863525,\n",
              "  -0.019194448366761208,\n",
              "  -0.3568992614746094,\n",
              "  0.05399337783455849,\n",
              "  0.42711126804351807,\n",
              "  0.12191198021173477,\n",
              "  -0.001169949071481824,\n",
              "  -0.08256690949201584,\n",
              "  -0.11833756417036057,\n",
              "  -0.04219817370176315,\n",
              "  0.019659265875816345],\n",
              " 'idx': 88,\n",
              " 'label_names': 'Sports',\n",
              " 'embedding_2': [-0.03697792813181877,\n",
              "  0.01662793941795826,\n",
              "  0.012098089791834354,\n",
              "  -0.031399719417095184,\n",
              "  -0.06540010869503021,\n",
              "  0.0334092453122139,\n",
              "  0.035890016704797745,\n",
              "  -0.01993759721517563,\n",
              "  0.05919092893600464,\n",
              "  0.01772397942841053,\n",
              "  -0.07346231490373611,\n",
              "  -0.004918261431157589,\n",
              "  -0.04745570942759514,\n",
              "  0.0033140904270112514,\n",
              "  -0.04491695016622543,\n",
              "  -0.024964364245533943,\n",
              "  -0.02421974390745163,\n",
              "  0.008500603027641773,\n",
              "  -0.022776400670409203,\n",
              "  0.0037319278344511986,\n",
              "  0.03197657689452171,\n",
              "  0.03306998312473297,\n",
              "  0.008900398388504982,\n",
              "  -0.023130711168050766,\n",
              "  0.02599465101957321,\n",
              "  -0.022931497544050217,\n",
              "  0.008677661418914795,\n",
              "  -0.02217119000852108,\n",
              "  -0.021931732073426247,\n",
              "  -0.06064334139227867,\n",
              "  -0.02119475230574608,\n",
              "  -0.036371998488903046,\n",
              "  -0.036571286618709564,\n",
              "  -0.09037918597459793,\n",
              "  -0.011395935900509357,\n",
              "  0.006965729407966137,\n",
              "  0.04884863272309303,\n",
              "  -0.029357314109802246,\n",
              "  0.0021742647513747215,\n",
              "  0.04224206134676933,\n",
              "  -0.05858680233359337,\n",
              "  -0.05210981145501137,\n",
              "  -0.043134525418281555,\n",
              "  0.01949503645300865,\n",
              "  0.0596550777554512,\n",
              "  0.049283262342214584,\n",
              "  -0.07810088992118835,\n",
              "  0.039539895951747894,\n",
              "  0.07782270759344101,\n",
              "  -0.06148240342736244,\n",
              "  -0.05173107236623764,\n",
              "  0.06768089532852173,\n",
              "  0.04491589963436127,\n",
              "  0.04946621507406235,\n",
              "  0.022353239357471466,\n",
              "  0.057820290327072144,\n",
              "  0.0708395317196846,\n",
              "  0.05069122463464737,\n",
              "  0.040460117161273956,\n",
              "  -0.01091060135513544,\n",
              "  -0.035221442580223083,\n",
              "  -0.0028069540858268738,\n",
              "  0.004717681091278791,\n",
              "  0.02263273298740387,\n",
              "  0.0026393202133476734,\n",
              "  0.05616104602813721,\n",
              "  -0.12259997427463531,\n",
              "  0.0002609231451060623,\n",
              "  -0.031264759600162506,\n",
              "  0.07553835958242416,\n",
              "  0.02235383912920952,\n",
              "  -0.02810310386121273,\n",
              "  -0.05175799876451492,\n",
              "  -0.0755767673254013,\n",
              "  0.04223630204796791,\n",
              "  0.08128765225410461,\n",
              "  -0.03582640737295151,\n",
              "  -0.021369583904743195,\n",
              "  -0.035157378762960434,\n",
              "  -0.013232785277068615,\n",
              "  -0.025875188410282135,\n",
              "  -0.10385842621326447,\n",
              "  -0.03394443169236183,\n",
              "  0.05217530205845833,\n",
              "  -0.032389432191848755,\n",
              "  0.03156401216983795,\n",
              "  0.0017082981066778302,\n",
              "  0.010039308108389378,\n",
              "  -0.030468815937638283,\n",
              "  0.029089244082570076,\n",
              "  -0.008852261118590832,\n",
              "  -0.09970234334468842,\n",
              "  0.03382238373160362,\n",
              "  0.02014649473130703,\n",
              "  -0.01557846087962389,\n",
              "  -0.02338397316634655,\n",
              "  0.020638540387153625,\n",
              "  -0.046612195670604706,\n",
              "  -0.03472026064991951,\n",
              "  0.04299991950392723,\n",
              "  -0.023318912833929062,\n",
              "  0.06604576855897903,\n",
              "  -0.03680170327425003,\n",
              "  -0.0715857446193695,\n",
              "  0.07012750208377838,\n",
              "  0.07306280732154846,\n",
              "  0.03111088089644909,\n",
              "  -0.003168470226228237,\n",
              "  0.058959148824214935,\n",
              "  -0.0037582204677164555,\n",
              "  -0.023963401094079018,\n",
              "  0.0823371559381485,\n",
              "  -0.06264474242925644,\n",
              "  0.06301378458738327,\n",
              "  -0.09694665670394897,\n",
              "  -0.043656907975673676,\n",
              "  -0.12030427902936935,\n",
              "  0.0048616016283631325,\n",
              "  0.015301087871193886,\n",
              "  -0.0161232091486454,\n",
              "  0.0180512722581625,\n",
              "  -0.00911182351410389,\n",
              "  -0.0710117295384407,\n",
              "  0.014841197058558464,\n",
              "  -0.0967942476272583,\n",
              "  -0.017165686935186386,\n",
              "  -0.03200885280966759,\n",
              "  3.47918960865542e-33,\n",
              "  0.10776472091674805,\n",
              "  -0.006715902127325535,\n",
              "  0.012560265138745308,\n",
              "  0.006822972558438778,\n",
              "  -0.023847335949540138,\n",
              "  -0.008747582323849201,\n",
              "  0.02688697539269924,\n",
              "  -0.03328419849276543,\n",
              "  -0.11054018884897232,\n",
              "  0.018110670149326324,\n",
              "  -0.05602341890335083,\n",
              "  -0.03124481625854969,\n",
              "  0.018431449308991432,\n",
              "  -0.10047661513090134,\n",
              "  0.0696512758731842,\n",
              "  -0.059347957372665405,\n",
              "  -0.04844469204545021,\n",
              "  0.08188358694314957,\n",
              "  -0.02856481820344925,\n",
              "  0.009601199068129063,\n",
              "  0.08737598359584808,\n",
              "  0.029942132532596588,\n",
              "  -0.035425830632448196,\n",
              "  -0.04390856996178627,\n",
              "  -0.021810002624988556,\n",
              "  -0.050982266664505005,\n",
              "  -0.06413084268569946,\n",
              "  0.06526058167219162,\n",
              "  -0.04079843685030937,\n",
              "  0.01555725373327732,\n",
              "  -0.002140635624527931,\n",
              "  0.0022011995315551758,\n",
              "  -0.008816229179501534,\n",
              "  0.07543329149484634,\n",
              "  -0.018301676958799362,\n",
              "  -0.10727839916944504,\n",
              "  0.027585508301854134,\n",
              "  -0.020417338237166405,\n",
              "  0.044135838747024536,\n",
              "  0.036219675093889236,\n",
              "  -0.04872393235564232,\n",
              "  -0.0021299871150404215,\n",
              "  0.01858123578131199,\n",
              "  -0.02196170948445797,\n",
              "  0.014858435839414597,\n",
              "  -0.05407051369547844,\n",
              "  -0.027781369164586067,\n",
              "  -0.09421690553426743,\n",
              "  -0.029828239232301712,\n",
              "  -0.011457928456366062,\n",
              "  0.03176179900765419,\n",
              "  -0.0003351838677190244,\n",
              "  0.009622646495699883,\n",
              "  0.01914454624056816,\n",
              "  0.00013531777949538082,\n",
              "  -0.07124979794025421,\n",
              "  0.06208757683634758,\n",
              "  -0.029094092547893524,\n",
              "  -0.0720396339893341,\n",
              "  0.038757868111133575,\n",
              "  0.07720218598842621,\n",
              "  -0.04337995499372482,\n",
              "  -0.04224913567304611,\n",
              "  -0.09362643957138062,\n",
              "  -0.11681320518255234,\n",
              "  -0.0019125522812828422,\n",
              "  0.05545548349618912,\n",
              "  0.09686097502708435,\n",
              "  -0.06812708079814911,\n",
              "  -0.007031549699604511,\n",
              "  -0.033520858734846115,\n",
              "  0.06837335228919983,\n",
              "  0.02102351188659668,\n",
              "  -0.05787348002195358,\n",
              "  0.09347736090421677,\n",
              "  0.025517478585243225,\n",
              "  0.02621411345899105,\n",
              "  0.08223078399896622,\n",
              "  0.010737767443060875,\n",
              "  0.020635589957237244,\n",
              "  0.07295557111501694,\n",
              "  -0.13063839077949524,\n",
              "  -0.036512572318315506,\n",
              "  -0.005621921271085739,\n",
              "  0.07618990540504456,\n",
              "  0.013726145029067993,\n",
              "  -0.08039539307355881,\n",
              "  0.06794305145740509,\n",
              "  -0.07271935790777206,\n",
              "  -0.04018981382250786,\n",
              "  0.023675959557294846,\n",
              "  -0.06765469163656235,\n",
              "  -0.08435854315757751,\n",
              "  -0.03526308387517929,\n",
              "  -0.09297233074903488,\n",
              "  -3.3097659752133885e-33,\n",
              "  -0.06545939296483994,\n",
              "  0.05815349146723747,\n",
              "  0.022165490314364433,\n",
              "  0.02790248394012451,\n",
              "  0.0018344655400142074,\n",
              "  0.003484969027340412,\n",
              "  0.056090373545885086,\n",
              "  0.006290955003350973,\n",
              "  0.005946241784840822,\n",
              "  -0.06865376979112625,\n",
              "  0.018021851778030396,\n",
              "  -0.01673928089439869,\n",
              "  0.05001261085271835,\n",
              "  0.0017475823406130075,\n",
              "  -0.07037775963544846,\n",
              "  0.05114153027534485,\n",
              "  0.04810536652803421,\n",
              "  -0.025010140612721443,\n",
              "  -0.09777382761240005,\n",
              "  -0.04560567066073418,\n",
              "  0.023306749761104584,\n",
              "  -0.04035573452711105,\n",
              "  -0.03497070074081421,\n",
              "  0.010045304894447327,\n",
              "  0.0025553060695528984,\n",
              "  0.03169791027903557,\n",
              "  -0.02225743979215622,\n",
              "  0.08577949553728104,\n",
              "  0.0013986305566504598,\n",
              "  0.05823896452784538,\n",
              "  0.01705808937549591,\n",
              "  -0.029682766646146774,\n",
              "  -0.018311891704797745,\n",
              "  0.10530896484851837,\n",
              "  0.007501137908548117,\n",
              "  -0.034853510558605194,\n",
              "  0.011008420027792454,\n",
              "  0.10503312945365906,\n",
              "  0.030126940459012985,\n",
              "  -0.007306307088583708,\n",
              "  -0.009665554389357567,\n",
              "  -0.007924782112240791,\n",
              "  -0.08013418316841125,\n",
              "  0.08145155757665634,\n",
              "  0.08359050005674362,\n",
              "  0.055312227457761765,\n",
              "  -0.08205384016036987,\n",
              "  -0.022175272926688194,\n",
              "  0.02127837762236595,\n",
              "  0.10112568736076355,\n",
              "  -0.005633137188851833,\n",
              "  0.11433546245098114,\n",
              "  0.026165703311562538,\n",
              "  0.07728792726993561,\n",
              "  -0.018917901441454887,\n",
              "  -0.012268041260540485,\n",
              "  0.0018035637913271785,\n",
              "  0.06376322358846664,\n",
              "  0.006697814911603928,\n",
              "  0.052311163395643234,\n",
              "  0.05476830527186394,\n",
              "  0.0020018196664750576,\n",
              "  0.08327960968017578,\n",
              "  0.03738219663500786,\n",
              "  0.0453227274119854,\n",
              "  0.1556423157453537,\n",
              "  -0.060896892100572586,\n",
              "  -0.010080652311444283,\n",
              "  -0.06695126742124557,\n",
              "  0.043549876660108566,\n",
              "  -0.08501100540161133,\n",
              "  0.014261804521083832,\n",
              "  0.1005416139960289,\n",
              "  0.0001267511397600174,\n",
              "  -0.028282981365919113,\n",
              "  0.09950274974107742,\n",
              "  -0.06746295094490051,\n",
              "  -0.02469048462808132,\n",
              "  0.0072426022961735725,\n",
              "  0.04030957445502281,\n",
              "  -0.028425071388483047,\n",
              "  -0.055414631962776184,\n",
              "  -0.05876963958144188,\n",
              "  0.024626826867461205,\n",
              "  0.025338519364595413,\n",
              "  0.041334133595228195,\n",
              "  0.02634517289698124,\n",
              "  -0.10726786404848099,\n",
              "  0.03506523743271828,\n",
              "  -0.001907072146423161,\n",
              "  -0.034175701439380646,\n",
              "  0.040569279342889786,\n",
              "  0.020908847451210022,\n",
              "  -0.04292180761694908,\n",
              "  0.023379342630505562,\n",
              "  -3.0729900402093335e-08,\n",
              "  0.00882574263960123,\n",
              "  0.02239866741001606,\n",
              "  -0.06204664707183838,\n",
              "  0.049727294594049454,\n",
              "  0.015451538376510143,\n",
              "  0.10882093757390976,\n",
              "  -0.007644161116331816,\n",
              "  -0.06439708918333054,\n",
              "  0.044848740100860596,\n",
              "  -0.026225104928016663,\n",
              "  0.002142176032066345,\n",
              "  -0.018704431131482124,\n",
              "  -0.016604682430624962,\n",
              "  0.013886643573641777,\n",
              "  -0.004472734872251749,\n",
              "  -0.05699628219008446,\n",
              "  0.02459392324090004,\n",
              "  -0.054714739322662354,\n",
              "  0.08069652318954468,\n",
              "  -0.01857987977564335,\n",
              "  0.04281310737133026,\n",
              "  0.010029999539256096,\n",
              "  0.052465666085481644,\n",
              "  0.06296008080244064,\n",
              "  0.033107221126556396,\n",
              "  -0.05298604443669319,\n",
              "  0.002263060538098216,\n",
              "  0.07741009443998337,\n",
              "  0.0074930014088749886,\n",
              "  -0.0026236760895699263,\n",
              "  0.019106395542621613,\n",
              "  -0.03927648440003395,\n",
              "  -0.09548451751470566,\n",
              "  0.07876142859458923,\n",
              "  0.04887637123465538,\n",
              "  0.04648229107260704,\n",
              "  -0.1646576225757599,\n",
              "  -0.026484493166208267,\n",
              "  0.03839123621582985,\n",
              "  0.04330866038799286,\n",
              "  0.023448307067155838,\n",
              "  -0.01566614769399166,\n",
              "  -0.012191347777843475,\n",
              "  0.0610947348177433,\n",
              "  0.10957114398479462,\n",
              "  0.019565043970942497,\n",
              "  0.019223110750317574,\n",
              "  0.07334160804748535,\n",
              "  0.0006032166420482099,\n",
              "  -0.08113183081150055,\n",
              "  0.05410976707935333,\n",
              "  0.025285711511969566,\n",
              "  -0.009188137017190456,\n",
              "  0.013250244781374931,\n",
              "  0.07111656665802002,\n",
              "  0.1019669622182846,\n",
              "  -0.019779475405812263,\n",
              "  -0.002141151111572981,\n",
              "  0.0006329459138214588,\n",
              "  0.06234210357069969,\n",
              "  -0.04640093818306923,\n",
              "  -0.022322790697216988,\n",
              "  -0.05560807138681412,\n",
              "  0.02698678895831108]}"
            ]
          },
          "metadata": {},
          "execution_count": 52
        }
      ],
      "source": [
        "some_other_txt = small_set[88]\n",
        "some_other_txt"
      ]
    },
    {
      "cell_type": "code",
      "execution_count": null,
      "metadata": {
        "id": "NADUWA41Zcz0"
      },
      "outputs": [],
      "source": [
        "query4 = model.embed(some_other_txt)"
      ]
    },
    {
      "cell_type": "code",
      "execution_count": null,
      "metadata": {
        "colab": {
          "base_uri": "https://localhost:8080/"
        },
        "id": "6rdIXJzZZcz0",
        "outputId": "c4b27964-3039-446a-b384-c69ee5391d99"
      },
      "outputs": [
        {
          "output_type": "execute_result",
          "data": {
            "text/plain": [
              "[ScoredPoint(id=51, version=0, score=0.24471137171309448, payload={'label_names': 'Sports', 'text': 'Panthers #39; defense leads to another win Carl Krauser scored all but two of his 17 points at the free throw line to lead No. 11 Pittsburgh to a 70-51 victory over Memphis on Tuesday night in the Jimmy V Classic.'}, vector=None, shard_key=None, order_value=None),\n",
              " ScoredPoint(id=97, version=0, score=0.19922778690129536, payload={'label_names': 'Sports', 'text': 'MOTOR RACING: IT #39;S TWO IN A ROW FOR DARIO DARIO FRANCHITTI scored a scorching second Indy Racing League race of 2004 on a triumphant return to Pikes Peak. The Scot finished fourth at the Colorado track last year but this time he led the race four '}, vector=None, shard_key=None, order_value=None),\n",
              " ScoredPoint(id=31, version=0, score=0.17695470336249536, payload={'label_names': 'Sports', 'text': 'Shanahan says he intends to honour his deal with Broncos Trying to defuse rumours he might be leaving soon, Denver Broncos coach Mike Shanahan said Thursday night he intends to honour the final four years of his contract.'}, vector=None, shard_key=None, order_value=None),\n",
              " ScoredPoint(id=15, version=0, score=0.1717026114353396, payload={'label_names': 'Sports', 'text': 'They #146;re in the wrong ATHENS -- Matt Emmons was focusing on staying calm. He should have been focusing on the right target.'}, vector=None, shard_key=None, order_value=None),\n",
              " ScoredPoint(id=0, version=0, score=0.1483026164014209, payload={'label_names': 'World', 'text': 'Bangladesh paralysed by strikes Opposition activists have brought many towns and cities in Bangladesh to a halt, the day after 18 people died in explosions at a political rally.'}, vector=None, shard_key=None, order_value=None),\n",
              " ScoredPoint(id=28, version=0, score=0.1449231068065809, payload={'label_names': 'Sports', 'text': 'TEXANS STAT CENTER After finally winning consecutive games, the Texans are a team in search of a challenge.  quot;I knew that was going to come up, quot; Texans coach Dom Capers said with a laugh.'}, vector=None, shard_key=None, order_value=None),\n",
              " ScoredPoint(id=29, version=0, score=0.1420310979104362, payload={'label_names': 'Sports', 'text': 'About-face for Heels Rashad McCants wasn #39;t thinking about last year at Kentucky. Jawad Williams said last year was last year. And Sean May was thinking more about his last game than North Carolina #39;s Jan. 3 defeat at Rupp Arena.'}, vector=None, shard_key=None, order_value=None),\n",
              " ScoredPoint(id=16, version=0, score=0.12745592734318728, payload={'label_names': 'Sports', 'text': \"Mularkey Sticking With Bledsoe As Bills QB (AP) AP - Mike Mularkey has a message to those clamoring for rookie quarterback J.P. Losman to replace Drew Bledsoe as Buffalo's starter. Not yet.\"}, vector=None, shard_key=None, order_value=None)]"
            ]
          },
          "metadata": {},
          "execution_count": 54
        }
      ],
      "source": [
        "client.query_points(\n",
        "    collection_name=second_collection,\n",
        "    query=models.RecommendQuery(\n",
        "        recommend=models.RecommendInput(\n",
        "            positive=[\n",
        "                some_other_txt[\"idx\"],\n",
        "                article_we_liked[\"idx\"],\n",
        "                another_article_we_liked[\"idx\"],\n",
        "            ],\n",
        "            negative=[article_we_dont_like[\"idx\"]],\n",
        "        )\n",
        "    ),\n",
        "    limit=8,\n",
        ").points\n"
      ]
    },
    {
      "cell_type": "code",
      "execution_count": null,
      "metadata": {
        "id": "KgGS5ohTgtZN"
      },
      "outputs": [],
      "source": []
    },
    {
      "cell_type": "markdown",
      "metadata": {
        "id": "_JAGWbKDZcz0"
      },
      "source": [
        "The results seem palatable given the search criteria. Also, this time we want to see only articles that\n",
        "pass a certain similarity threshold to make sure we only get very relevant results back."
      ]
    },
    {
      "cell_type": "code",
      "execution_count": null,
      "metadata": {
        "colab": {
          "base_uri": "https://localhost:8080/"
        },
        "id": "WLlgfuEqZcz0",
        "outputId": "22809438-a7e0-4afc-c78d-e7b141dd9708"
      },
      "outputs": [
        {
          "output_type": "execute_result",
          "data": {
            "text/plain": [
              "[ScoredPoint(id=51, version=0, score=0.23785189832536346, payload={'label_names': 'Sports', 'text': 'Panthers #39; defense leads to another win Carl Krauser scored all but two of his 17 points at the free throw line to lead No. 11 Pittsburgh to a 70-51 victory over Memphis on Tuesday night in the Jimmy V Classic.'}, vector=None, shard_key=None, order_value=None),\n",
              " ScoredPoint(id=0, version=0, score=0.18078775221574517, payload={'label_names': 'World', 'text': 'Bangladesh paralysed by strikes Opposition activists have brought many towns and cities in Bangladesh to a halt, the day after 18 people died in explosions at a political rally.'}, vector=None, shard_key=None, order_value=None),\n",
              " ScoredPoint(id=29, version=0, score=0.17748755408403227, payload={'label_names': 'Sports', 'text': 'About-face for Heels Rashad McCants wasn #39;t thinking about last year at Kentucky. Jawad Williams said last year was last year. And Sean May was thinking more about his last game than North Carolina #39;s Jan. 3 defeat at Rupp Arena.'}, vector=None, shard_key=None, order_value=None),\n",
              " ScoredPoint(id=97, version=0, score=0.1674243469182695, payload={'label_names': 'Sports', 'text': 'MOTOR RACING: IT #39;S TWO IN A ROW FOR DARIO DARIO FRANCHITTI scored a scorching second Indy Racing League race of 2004 on a triumphant return to Pikes Peak. The Scot finished fourth at the Colorado track last year but this time he led the race four '}, vector=None, shard_key=None, order_value=None),\n",
              " ScoredPoint(id=55, version=0, score=0.1637850459446354, payload={'label_names': 'Sports', 'text': 'Bama offense faces tough test Like most Alabama fans, injured quarterback Brodie Croyle will sweat out tonight #39;s LSU game at home. If, somehow, the Crimson Tide can knock off the 17th-ranked Tigers, Croyle '}, vector=None, shard_key=None, order_value=None),\n",
              " ScoredPoint(id=13, version=0, score=0.16075136088038366, payload={'label_names': 'World', 'text': 'Paris Marks Liberation Mindful of Collaboration With solemn commemorations, a ceremonial flag-raising at the Eiffel Tower and columns of 1940s-era tanks and army jeeps, Parisians on Wednesday marked the 60th anniversary '}, vector=None, shard_key=None, order_value=None),\n",
              " ScoredPoint(id=75, version=0, score=0.15894294239969053, payload={'label_names': 'Sports', 'text': 'Orton Engineers Purdue Victory Over Illinois The Illinois rushing offense and the Purdue passing offense dueled in the Big Ten opener for both schools on Saturday at Memorial Stadium in Champaign.'}, vector=None, shard_key=None, order_value=None),\n",
              " ScoredPoint(id=15, version=0, score=0.15206416175919799, payload={'label_names': 'Sports', 'text': 'They #146;re in the wrong ATHENS -- Matt Emmons was focusing on staying calm. He should have been focusing on the right target.'}, vector=None, shard_key=None, order_value=None)]"
            ]
          },
          "metadata": {},
          "execution_count": 55
        }
      ],
      "source": [
        "client.query_points(\n",
        "    collection_name=second_collection,\n",
        "    query=models.RecommendQuery(\n",
        "        recommend=models.RecommendInput(\n",
        "            positive=[some_other_txt['idx'], another_article_we_liked['idx']],\n",
        "            negative=[article_we_dont_like[\"idx\"]],\n",
        "        )\n",
        "    ),\n",
        "    score_threshold=0.10,\n",
        "    limit=8,\n",
        ").points\n"
      ]
    },
    {
      "cell_type": "markdown",
      "metadata": {
        "id": "G9s0YDHbZcz0"
      },
      "source": [
        "That's it! To see all of the collections that you have created in this tutorial, use `client.get_collections`."
      ]
    },
    {
      "cell_type": "code",
      "execution_count": null,
      "metadata": {
        "colab": {
          "base_uri": "https://localhost:8080/"
        },
        "id": "IUfMb8WBZcz0",
        "outputId": "2f018571-3208-463a-87a1-22fcee8eb595"
      },
      "outputs": [
        {
          "output_type": "execute_result",
          "data": {
            "text/plain": [
              "CollectionsResponse(collections=[CollectionDescription(name='news_embeddings'), CollectionDescription(name='better_news')])"
            ]
          },
          "metadata": {},
          "execution_count": 56
        }
      ],
      "source": [
        "client.get_collections()"
      ]
    },
    {
      "cell_type": "markdown",
      "metadata": {
        "id": "zs3JvPhjZcz0"
      },
      "source": [
        "## 5. Conclusion"
      ]
    },
    {
      "cell_type": "markdown",
      "metadata": {
        "id": "c4wvEtWhZcz0"
      },
      "source": [
        "In this tutorial you have learned that (1) vector databases provide efficient storage and retrieval of high-dimensional vectors, making them ideal for similarity-based search tasks. (2) Natural language processing enables us to understand and process human language, opening up possibilities for different kinds of useful applications for digital technologies. (3) Transformers, with their attention mechanism, capture long-range dependencies in language and achieve incredible results in different tasks. Finally, embeddings encode words or sentences into dense vectors, capturing semantic relationships and enabling powerful language understanding.\n",
        "\n",
        "By combining these technologies, you can unlock new levels of language understanding, information retrieval, and intelligent systems that continue to push the boundaries of what's possible in the realm of AI."
      ]
    },
    {
      "cell_type": "markdown",
      "metadata": {
        "id": "0imsd3S6Zcz0"
      },
      "source": [
        "## 6. Resources"
      ]
    },
    {
      "cell_type": "markdown",
      "metadata": {
        "id": "tka1CD1HZcz0"
      },
      "source": [
        "Here is a list with some resources that we found useful, and that helped with the development of this tutorial.\n",
        "\n",
        "1. Books\n",
        "    - [Natural Language Processing with Transformers](https://transformersbook.com/) by Lewis Tunstall, Leandro von Werra, and Thomas Wolf\n",
        "    - [Natural Language Processing in Action, Second Edition](https://www.manning.com/books/natural-language-processing-in-action-second-edition) by Hobson Lane and Maria Dyshel\n",
        "2. Articles\n",
        "    - [Fine Tuning Similar Cars Search](https://qdrant.tech/articles/cars-recognition/)\n",
        "    - [Q&A with Similarity Learning](https://qdrant.tech/articles/faq-question-answering/)\n",
        "    - [Question Answering with LangChain and Qdrant without boilerplate](https://qdrant.tech/articles/langchain-integration/)\n",
        "    - [Extending ChatGPT with a Qdrant-based knowledge base](https://qdrant.tech/articles/chatgpt-plugin/)\n",
        "3. Videos\n",
        "    - [Word Embedding and Word2Vec, Clearly Explained!!!](https://www.youtube.com/watch?v=viZrOnJclY0&ab_channel=StatQuestwithJoshStarmer) by StatQuest with Josh Starmer\n",
        "    - [Word Embeddings, Bias in ML, Why You Don't Like Math, & Why AI Needs You](https://www.youtube.com/watch?v=25nC0n9ERq4&ab_channel=RachelThomas) by Rachel Thomas\n",
        "4. Courses\n",
        "    - [fast.ai Code-First Intro to Natural Language Processing](https://www.youtube.com/playlist?list=PLtmWHNX-gukKocXQOkQjuVxglSDYWsSh9)\n",
        "    - [NLP Course by Hugging Face](https://huggingface.co/learn/nlp-course/chapter1/1)"
      ]
    }
  ],
  "metadata": {
    "colab": {
      "provenance": [],
      "include_colab_link": true
    },
    "kernelspec": {
      "display_name": "Python 3 (ipykernel)",
      "language": "python",
      "name": "python3"
    },
    "language_info": {
      "codemirror_mode": {
        "name": "ipython",
        "version": 3
      },
      "file_extension": ".py",
      "mimetype": "text/x-python",
      "name": "python",
      "nbconvert_exporter": "python",
      "pygments_lexer": "ipython3",
      "version": "3.11.3"
    },
    "widgets": {
      "application/vnd.jupyter.widget-state+json": {
        "085a5f4a6a8940519eedb9df85697c85": {
          "model_module": "@jupyter-widgets/controls",
          "model_name": "HBoxModel",
          "model_module_version": "1.5.0",
          "state": {
            "_dom_classes": [],
            "_model_module": "@jupyter-widgets/controls",
            "_model_module_version": "1.5.0",
            "_model_name": "HBoxModel",
            "_view_count": null,
            "_view_module": "@jupyter-widgets/controls",
            "_view_module_version": "1.5.0",
            "_view_name": "HBoxView",
            "box_style": "",
            "children": [
              "IPY_MODEL_b00eafa4e4884e4c94d92a7e6da89564",
              "IPY_MODEL_e7567219f7204e7ca1ec94b1f68d60ff",
              "IPY_MODEL_6f1bfba4778b40ebbe0f9059a1d18b92"
            ],
            "layout": "IPY_MODEL_7fad50b6ca8f4bf89f065836d4a31077"
          }
        },
        "b00eafa4e4884e4c94d92a7e6da89564": {
          "model_module": "@jupyter-widgets/controls",
          "model_name": "HTMLModel",
          "model_module_version": "1.5.0",
          "state": {
            "_dom_classes": [],
            "_model_module": "@jupyter-widgets/controls",
            "_model_module_version": "1.5.0",
            "_model_name": "HTMLModel",
            "_view_count": null,
            "_view_module": "@jupyter-widgets/controls",
            "_view_module_version": "1.5.0",
            "_view_name": "HTMLView",
            "description": "",
            "description_tooltip": null,
            "layout": "IPY_MODEL_a7e92da0ac6843489f45e745af789a2b",
            "placeholder": "​",
            "style": "IPY_MODEL_e686e503e705432c9ffad746340b3ef0",
            "value": "Fetching 5 files: 100%"
          }
        },
        "e7567219f7204e7ca1ec94b1f68d60ff": {
          "model_module": "@jupyter-widgets/controls",
          "model_name": "FloatProgressModel",
          "model_module_version": "1.5.0",
          "state": {
            "_dom_classes": [],
            "_model_module": "@jupyter-widgets/controls",
            "_model_module_version": "1.5.0",
            "_model_name": "FloatProgressModel",
            "_view_count": null,
            "_view_module": "@jupyter-widgets/controls",
            "_view_module_version": "1.5.0",
            "_view_name": "ProgressView",
            "bar_style": "success",
            "description": "",
            "description_tooltip": null,
            "layout": "IPY_MODEL_b11f6ec45e7c4681831037da3a908089",
            "max": 5,
            "min": 0,
            "orientation": "horizontal",
            "style": "IPY_MODEL_566fe1c02bc546f0814e89d47af95607",
            "value": 5
          }
        },
        "6f1bfba4778b40ebbe0f9059a1d18b92": {
          "model_module": "@jupyter-widgets/controls",
          "model_name": "HTMLModel",
          "model_module_version": "1.5.0",
          "state": {
            "_dom_classes": [],
            "_model_module": "@jupyter-widgets/controls",
            "_model_module_version": "1.5.0",
            "_model_name": "HTMLModel",
            "_view_count": null,
            "_view_module": "@jupyter-widgets/controls",
            "_view_module_version": "1.5.0",
            "_view_name": "HTMLView",
            "description": "",
            "description_tooltip": null,
            "layout": "IPY_MODEL_2cba35db0e2d467ca7b95d2995304716",
            "placeholder": "​",
            "style": "IPY_MODEL_2258505d1fdd443a8e6caf6b334e6288",
            "value": " 5/5 [00:01&lt;00:00,  1.84it/s]"
          }
        },
        "7fad50b6ca8f4bf89f065836d4a31077": {
          "model_module": "@jupyter-widgets/base",
          "model_name": "LayoutModel",
          "model_module_version": "1.2.0",
          "state": {
            "_model_module": "@jupyter-widgets/base",
            "_model_module_version": "1.2.0",
            "_model_name": "LayoutModel",
            "_view_count": null,
            "_view_module": "@jupyter-widgets/base",
            "_view_module_version": "1.2.0",
            "_view_name": "LayoutView",
            "align_content": null,
            "align_items": null,
            "align_self": null,
            "border": null,
            "bottom": null,
            "display": null,
            "flex": null,
            "flex_flow": null,
            "grid_area": null,
            "grid_auto_columns": null,
            "grid_auto_flow": null,
            "grid_auto_rows": null,
            "grid_column": null,
            "grid_gap": null,
            "grid_row": null,
            "grid_template_areas": null,
            "grid_template_columns": null,
            "grid_template_rows": null,
            "height": null,
            "justify_content": null,
            "justify_items": null,
            "left": null,
            "margin": null,
            "max_height": null,
            "max_width": null,
            "min_height": null,
            "min_width": null,
            "object_fit": null,
            "object_position": null,
            "order": null,
            "overflow": null,
            "overflow_x": null,
            "overflow_y": null,
            "padding": null,
            "right": null,
            "top": null,
            "visibility": null,
            "width": null
          }
        },
        "a7e92da0ac6843489f45e745af789a2b": {
          "model_module": "@jupyter-widgets/base",
          "model_name": "LayoutModel",
          "model_module_version": "1.2.0",
          "state": {
            "_model_module": "@jupyter-widgets/base",
            "_model_module_version": "1.2.0",
            "_model_name": "LayoutModel",
            "_view_count": null,
            "_view_module": "@jupyter-widgets/base",
            "_view_module_version": "1.2.0",
            "_view_name": "LayoutView",
            "align_content": null,
            "align_items": null,
            "align_self": null,
            "border": null,
            "bottom": null,
            "display": null,
            "flex": null,
            "flex_flow": null,
            "grid_area": null,
            "grid_auto_columns": null,
            "grid_auto_flow": null,
            "grid_auto_rows": null,
            "grid_column": null,
            "grid_gap": null,
            "grid_row": null,
            "grid_template_areas": null,
            "grid_template_columns": null,
            "grid_template_rows": null,
            "height": null,
            "justify_content": null,
            "justify_items": null,
            "left": null,
            "margin": null,
            "max_height": null,
            "max_width": null,
            "min_height": null,
            "min_width": null,
            "object_fit": null,
            "object_position": null,
            "order": null,
            "overflow": null,
            "overflow_x": null,
            "overflow_y": null,
            "padding": null,
            "right": null,
            "top": null,
            "visibility": null,
            "width": null
          }
        },
        "e686e503e705432c9ffad746340b3ef0": {
          "model_module": "@jupyter-widgets/controls",
          "model_name": "DescriptionStyleModel",
          "model_module_version": "1.5.0",
          "state": {
            "_model_module": "@jupyter-widgets/controls",
            "_model_module_version": "1.5.0",
            "_model_name": "DescriptionStyleModel",
            "_view_count": null,
            "_view_module": "@jupyter-widgets/base",
            "_view_module_version": "1.2.0",
            "_view_name": "StyleView",
            "description_width": ""
          }
        },
        "b11f6ec45e7c4681831037da3a908089": {
          "model_module": "@jupyter-widgets/base",
          "model_name": "LayoutModel",
          "model_module_version": "1.2.0",
          "state": {
            "_model_module": "@jupyter-widgets/base",
            "_model_module_version": "1.2.0",
            "_model_name": "LayoutModel",
            "_view_count": null,
            "_view_module": "@jupyter-widgets/base",
            "_view_module_version": "1.2.0",
            "_view_name": "LayoutView",
            "align_content": null,
            "align_items": null,
            "align_self": null,
            "border": null,
            "bottom": null,
            "display": null,
            "flex": null,
            "flex_flow": null,
            "grid_area": null,
            "grid_auto_columns": null,
            "grid_auto_flow": null,
            "grid_auto_rows": null,
            "grid_column": null,
            "grid_gap": null,
            "grid_row": null,
            "grid_template_areas": null,
            "grid_template_columns": null,
            "grid_template_rows": null,
            "height": null,
            "justify_content": null,
            "justify_items": null,
            "left": null,
            "margin": null,
            "max_height": null,
            "max_width": null,
            "min_height": null,
            "min_width": null,
            "object_fit": null,
            "object_position": null,
            "order": null,
            "overflow": null,
            "overflow_x": null,
            "overflow_y": null,
            "padding": null,
            "right": null,
            "top": null,
            "visibility": null,
            "width": null
          }
        },
        "566fe1c02bc546f0814e89d47af95607": {
          "model_module": "@jupyter-widgets/controls",
          "model_name": "ProgressStyleModel",
          "model_module_version": "1.5.0",
          "state": {
            "_model_module": "@jupyter-widgets/controls",
            "_model_module_version": "1.5.0",
            "_model_name": "ProgressStyleModel",
            "_view_count": null,
            "_view_module": "@jupyter-widgets/base",
            "_view_module_version": "1.2.0",
            "_view_name": "StyleView",
            "bar_color": null,
            "description_width": ""
          }
        },
        "2cba35db0e2d467ca7b95d2995304716": {
          "model_module": "@jupyter-widgets/base",
          "model_name": "LayoutModel",
          "model_module_version": "1.2.0",
          "state": {
            "_model_module": "@jupyter-widgets/base",
            "_model_module_version": "1.2.0",
            "_model_name": "LayoutModel",
            "_view_count": null,
            "_view_module": "@jupyter-widgets/base",
            "_view_module_version": "1.2.0",
            "_view_name": "LayoutView",
            "align_content": null,
            "align_items": null,
            "align_self": null,
            "border": null,
            "bottom": null,
            "display": null,
            "flex": null,
            "flex_flow": null,
            "grid_area": null,
            "grid_auto_columns": null,
            "grid_auto_flow": null,
            "grid_auto_rows": null,
            "grid_column": null,
            "grid_gap": null,
            "grid_row": null,
            "grid_template_areas": null,
            "grid_template_columns": null,
            "grid_template_rows": null,
            "height": null,
            "justify_content": null,
            "justify_items": null,
            "left": null,
            "margin": null,
            "max_height": null,
            "max_width": null,
            "min_height": null,
            "min_width": null,
            "object_fit": null,
            "object_position": null,
            "order": null,
            "overflow": null,
            "overflow_x": null,
            "overflow_y": null,
            "padding": null,
            "right": null,
            "top": null,
            "visibility": null,
            "width": null
          }
        },
        "2258505d1fdd443a8e6caf6b334e6288": {
          "model_module": "@jupyter-widgets/controls",
          "model_name": "DescriptionStyleModel",
          "model_module_version": "1.5.0",
          "state": {
            "_model_module": "@jupyter-widgets/controls",
            "_model_module_version": "1.5.0",
            "_model_name": "DescriptionStyleModel",
            "_view_count": null,
            "_view_module": "@jupyter-widgets/base",
            "_view_module_version": "1.2.0",
            "_view_name": "StyleView",
            "description_width": ""
          }
        },
        "388203b642fa412984cde71677476ce0": {
          "model_module": "@jupyter-widgets/controls",
          "model_name": "HBoxModel",
          "model_module_version": "1.5.0",
          "state": {
            "_dom_classes": [],
            "_model_module": "@jupyter-widgets/controls",
            "_model_module_version": "1.5.0",
            "_model_name": "HBoxModel",
            "_view_count": null,
            "_view_module": "@jupyter-widgets/controls",
            "_view_module_version": "1.5.0",
            "_view_name": "HBoxView",
            "box_style": "",
            "children": [
              "IPY_MODEL_897a7bae20734a3fa9c9757f6d826070",
              "IPY_MODEL_81b0ef5dc3a74dc5bc832cd7c4d830a1",
              "IPY_MODEL_3728d20c85e04d90a0b403420f1c0d2d"
            ],
            "layout": "IPY_MODEL_e7d355a8c94f43a2b057e0876ff56101"
          }
        },
        "897a7bae20734a3fa9c9757f6d826070": {
          "model_module": "@jupyter-widgets/controls",
          "model_name": "HTMLModel",
          "model_module_version": "1.5.0",
          "state": {
            "_dom_classes": [],
            "_model_module": "@jupyter-widgets/controls",
            "_model_module_version": "1.5.0",
            "_model_name": "HTMLModel",
            "_view_count": null,
            "_view_module": "@jupyter-widgets/controls",
            "_view_module_version": "1.5.0",
            "_view_name": "HTMLView",
            "description": "",
            "description_tooltip": null,
            "layout": "IPY_MODEL_255b30f9d40b448194ed6e4fe56c1dad",
            "placeholder": "​",
            "style": "IPY_MODEL_1ed1e4f50c384395add092bdc57d5762",
            "value": "special_tokens_map.json: 100%"
          }
        },
        "81b0ef5dc3a74dc5bc832cd7c4d830a1": {
          "model_module": "@jupyter-widgets/controls",
          "model_name": "FloatProgressModel",
          "model_module_version": "1.5.0",
          "state": {
            "_dom_classes": [],
            "_model_module": "@jupyter-widgets/controls",
            "_model_module_version": "1.5.0",
            "_model_name": "FloatProgressModel",
            "_view_count": null,
            "_view_module": "@jupyter-widgets/controls",
            "_view_module_version": "1.5.0",
            "_view_name": "ProgressView",
            "bar_style": "success",
            "description": "",
            "description_tooltip": null,
            "layout": "IPY_MODEL_dc18b6698353403ab4121e7aab9ec96c",
            "max": 695,
            "min": 0,
            "orientation": "horizontal",
            "style": "IPY_MODEL_2da1af552a8e4095b056d798642888ea",
            "value": 695
          }
        },
        "3728d20c85e04d90a0b403420f1c0d2d": {
          "model_module": "@jupyter-widgets/controls",
          "model_name": "HTMLModel",
          "model_module_version": "1.5.0",
          "state": {
            "_dom_classes": [],
            "_model_module": "@jupyter-widgets/controls",
            "_model_module_version": "1.5.0",
            "_model_name": "HTMLModel",
            "_view_count": null,
            "_view_module": "@jupyter-widgets/controls",
            "_view_module_version": "1.5.0",
            "_view_name": "HTMLView",
            "description": "",
            "description_tooltip": null,
            "layout": "IPY_MODEL_db78476889274479806dd3c3be180876",
            "placeholder": "​",
            "style": "IPY_MODEL_35f47d866d37437980e3e93cb0d71c7b",
            "value": " 695/695 [00:00&lt;00:00, 15.0kB/s]"
          }
        },
        "e7d355a8c94f43a2b057e0876ff56101": {
          "model_module": "@jupyter-widgets/base",
          "model_name": "LayoutModel",
          "model_module_version": "1.2.0",
          "state": {
            "_model_module": "@jupyter-widgets/base",
            "_model_module_version": "1.2.0",
            "_model_name": "LayoutModel",
            "_view_count": null,
            "_view_module": "@jupyter-widgets/base",
            "_view_module_version": "1.2.0",
            "_view_name": "LayoutView",
            "align_content": null,
            "align_items": null,
            "align_self": null,
            "border": null,
            "bottom": null,
            "display": null,
            "flex": null,
            "flex_flow": null,
            "grid_area": null,
            "grid_auto_columns": null,
            "grid_auto_flow": null,
            "grid_auto_rows": null,
            "grid_column": null,
            "grid_gap": null,
            "grid_row": null,
            "grid_template_areas": null,
            "grid_template_columns": null,
            "grid_template_rows": null,
            "height": null,
            "justify_content": null,
            "justify_items": null,
            "left": null,
            "margin": null,
            "max_height": null,
            "max_width": null,
            "min_height": null,
            "min_width": null,
            "object_fit": null,
            "object_position": null,
            "order": null,
            "overflow": null,
            "overflow_x": null,
            "overflow_y": null,
            "padding": null,
            "right": null,
            "top": null,
            "visibility": null,
            "width": null
          }
        },
        "255b30f9d40b448194ed6e4fe56c1dad": {
          "model_module": "@jupyter-widgets/base",
          "model_name": "LayoutModel",
          "model_module_version": "1.2.0",
          "state": {
            "_model_module": "@jupyter-widgets/base",
            "_model_module_version": "1.2.0",
            "_model_name": "LayoutModel",
            "_view_count": null,
            "_view_module": "@jupyter-widgets/base",
            "_view_module_version": "1.2.0",
            "_view_name": "LayoutView",
            "align_content": null,
            "align_items": null,
            "align_self": null,
            "border": null,
            "bottom": null,
            "display": null,
            "flex": null,
            "flex_flow": null,
            "grid_area": null,
            "grid_auto_columns": null,
            "grid_auto_flow": null,
            "grid_auto_rows": null,
            "grid_column": null,
            "grid_gap": null,
            "grid_row": null,
            "grid_template_areas": null,
            "grid_template_columns": null,
            "grid_template_rows": null,
            "height": null,
            "justify_content": null,
            "justify_items": null,
            "left": null,
            "margin": null,
            "max_height": null,
            "max_width": null,
            "min_height": null,
            "min_width": null,
            "object_fit": null,
            "object_position": null,
            "order": null,
            "overflow": null,
            "overflow_x": null,
            "overflow_y": null,
            "padding": null,
            "right": null,
            "top": null,
            "visibility": null,
            "width": null
          }
        },
        "1ed1e4f50c384395add092bdc57d5762": {
          "model_module": "@jupyter-widgets/controls",
          "model_name": "DescriptionStyleModel",
          "model_module_version": "1.5.0",
          "state": {
            "_model_module": "@jupyter-widgets/controls",
            "_model_module_version": "1.5.0",
            "_model_name": "DescriptionStyleModel",
            "_view_count": null,
            "_view_module": "@jupyter-widgets/base",
            "_view_module_version": "1.2.0",
            "_view_name": "StyleView",
            "description_width": ""
          }
        },
        "dc18b6698353403ab4121e7aab9ec96c": {
          "model_module": "@jupyter-widgets/base",
          "model_name": "LayoutModel",
          "model_module_version": "1.2.0",
          "state": {
            "_model_module": "@jupyter-widgets/base",
            "_model_module_version": "1.2.0",
            "_model_name": "LayoutModel",
            "_view_count": null,
            "_view_module": "@jupyter-widgets/base",
            "_view_module_version": "1.2.0",
            "_view_name": "LayoutView",
            "align_content": null,
            "align_items": null,
            "align_self": null,
            "border": null,
            "bottom": null,
            "display": null,
            "flex": null,
            "flex_flow": null,
            "grid_area": null,
            "grid_auto_columns": null,
            "grid_auto_flow": null,
            "grid_auto_rows": null,
            "grid_column": null,
            "grid_gap": null,
            "grid_row": null,
            "grid_template_areas": null,
            "grid_template_columns": null,
            "grid_template_rows": null,
            "height": null,
            "justify_content": null,
            "justify_items": null,
            "left": null,
            "margin": null,
            "max_height": null,
            "max_width": null,
            "min_height": null,
            "min_width": null,
            "object_fit": null,
            "object_position": null,
            "order": null,
            "overflow": null,
            "overflow_x": null,
            "overflow_y": null,
            "padding": null,
            "right": null,
            "top": null,
            "visibility": null,
            "width": null
          }
        },
        "2da1af552a8e4095b056d798642888ea": {
          "model_module": "@jupyter-widgets/controls",
          "model_name": "ProgressStyleModel",
          "model_module_version": "1.5.0",
          "state": {
            "_model_module": "@jupyter-widgets/controls",
            "_model_module_version": "1.5.0",
            "_model_name": "ProgressStyleModel",
            "_view_count": null,
            "_view_module": "@jupyter-widgets/base",
            "_view_module_version": "1.2.0",
            "_view_name": "StyleView",
            "bar_color": null,
            "description_width": ""
          }
        },
        "db78476889274479806dd3c3be180876": {
          "model_module": "@jupyter-widgets/base",
          "model_name": "LayoutModel",
          "model_module_version": "1.2.0",
          "state": {
            "_model_module": "@jupyter-widgets/base",
            "_model_module_version": "1.2.0",
            "_model_name": "LayoutModel",
            "_view_count": null,
            "_view_module": "@jupyter-widgets/base",
            "_view_module_version": "1.2.0",
            "_view_name": "LayoutView",
            "align_content": null,
            "align_items": null,
            "align_self": null,
            "border": null,
            "bottom": null,
            "display": null,
            "flex": null,
            "flex_flow": null,
            "grid_area": null,
            "grid_auto_columns": null,
            "grid_auto_flow": null,
            "grid_auto_rows": null,
            "grid_column": null,
            "grid_gap": null,
            "grid_row": null,
            "grid_template_areas": null,
            "grid_template_columns": null,
            "grid_template_rows": null,
            "height": null,
            "justify_content": null,
            "justify_items": null,
            "left": null,
            "margin": null,
            "max_height": null,
            "max_width": null,
            "min_height": null,
            "min_width": null,
            "object_fit": null,
            "object_position": null,
            "order": null,
            "overflow": null,
            "overflow_x": null,
            "overflow_y": null,
            "padding": null,
            "right": null,
            "top": null,
            "visibility": null,
            "width": null
          }
        },
        "35f47d866d37437980e3e93cb0d71c7b": {
          "model_module": "@jupyter-widgets/controls",
          "model_name": "DescriptionStyleModel",
          "model_module_version": "1.5.0",
          "state": {
            "_model_module": "@jupyter-widgets/controls",
            "_model_module_version": "1.5.0",
            "_model_name": "DescriptionStyleModel",
            "_view_count": null,
            "_view_module": "@jupyter-widgets/base",
            "_view_module_version": "1.2.0",
            "_view_name": "StyleView",
            "description_width": ""
          }
        },
        "1a34495cdb6d42399b2ad88673912a79": {
          "model_module": "@jupyter-widgets/controls",
          "model_name": "HBoxModel",
          "model_module_version": "1.5.0",
          "state": {
            "_dom_classes": [],
            "_model_module": "@jupyter-widgets/controls",
            "_model_module_version": "1.5.0",
            "_model_name": "HBoxModel",
            "_view_count": null,
            "_view_module": "@jupyter-widgets/controls",
            "_view_module_version": "1.5.0",
            "_view_name": "HBoxView",
            "box_style": "",
            "children": [
              "IPY_MODEL_c7ca78b8007d48078eea60f52f2fc603",
              "IPY_MODEL_cd58db908bca46e4b93f25792f2c4429",
              "IPY_MODEL_c8d39a1a024c4fb494d99dd8f795932c"
            ],
            "layout": "IPY_MODEL_d32d991875ff449991977ad1f91b3c6a"
          }
        },
        "c7ca78b8007d48078eea60f52f2fc603": {
          "model_module": "@jupyter-widgets/controls",
          "model_name": "HTMLModel",
          "model_module_version": "1.5.0",
          "state": {
            "_dom_classes": [],
            "_model_module": "@jupyter-widgets/controls",
            "_model_module_version": "1.5.0",
            "_model_name": "HTMLModel",
            "_view_count": null,
            "_view_module": "@jupyter-widgets/controls",
            "_view_module_version": "1.5.0",
            "_view_name": "HTMLView",
            "description": "",
            "description_tooltip": null,
            "layout": "IPY_MODEL_22711df993154fa1b4ec863d6f411d5f",
            "placeholder": "​",
            "style": "IPY_MODEL_4d44864ebb1a40e88045c8937d0b3637",
            "value": "model.onnx: 100%"
          }
        },
        "cd58db908bca46e4b93f25792f2c4429": {
          "model_module": "@jupyter-widgets/controls",
          "model_name": "FloatProgressModel",
          "model_module_version": "1.5.0",
          "state": {
            "_dom_classes": [],
            "_model_module": "@jupyter-widgets/controls",
            "_model_module_version": "1.5.0",
            "_model_name": "FloatProgressModel",
            "_view_count": null,
            "_view_module": "@jupyter-widgets/controls",
            "_view_module_version": "1.5.0",
            "_view_name": "ProgressView",
            "bar_style": "success",
            "description": "",
            "description_tooltip": null,
            "layout": "IPY_MODEL_b701fc8806894a6f9c38565e19c0fa15",
            "max": 90387630,
            "min": 0,
            "orientation": "horizontal",
            "style": "IPY_MODEL_b5283c545d0c4e7999af2ceb86925035",
            "value": 90387630
          }
        },
        "c8d39a1a024c4fb494d99dd8f795932c": {
          "model_module": "@jupyter-widgets/controls",
          "model_name": "HTMLModel",
          "model_module_version": "1.5.0",
          "state": {
            "_dom_classes": [],
            "_model_module": "@jupyter-widgets/controls",
            "_model_module_version": "1.5.0",
            "_model_name": "HTMLModel",
            "_view_count": null,
            "_view_module": "@jupyter-widgets/controls",
            "_view_module_version": "1.5.0",
            "_view_name": "HTMLView",
            "description": "",
            "description_tooltip": null,
            "layout": "IPY_MODEL_ee932bbd7c864077a2720fad36307822",
            "placeholder": "​",
            "style": "IPY_MODEL_b3d7633bfb534c0dbc5cdcd1e2d48c4e",
            "value": " 90.4M/90.4M [00:00&lt;00:00, 164MB/s]"
          }
        },
        "d32d991875ff449991977ad1f91b3c6a": {
          "model_module": "@jupyter-widgets/base",
          "model_name": "LayoutModel",
          "model_module_version": "1.2.0",
          "state": {
            "_model_module": "@jupyter-widgets/base",
            "_model_module_version": "1.2.0",
            "_model_name": "LayoutModel",
            "_view_count": null,
            "_view_module": "@jupyter-widgets/base",
            "_view_module_version": "1.2.0",
            "_view_name": "LayoutView",
            "align_content": null,
            "align_items": null,
            "align_self": null,
            "border": null,
            "bottom": null,
            "display": null,
            "flex": null,
            "flex_flow": null,
            "grid_area": null,
            "grid_auto_columns": null,
            "grid_auto_flow": null,
            "grid_auto_rows": null,
            "grid_column": null,
            "grid_gap": null,
            "grid_row": null,
            "grid_template_areas": null,
            "grid_template_columns": null,
            "grid_template_rows": null,
            "height": null,
            "justify_content": null,
            "justify_items": null,
            "left": null,
            "margin": null,
            "max_height": null,
            "max_width": null,
            "min_height": null,
            "min_width": null,
            "object_fit": null,
            "object_position": null,
            "order": null,
            "overflow": null,
            "overflow_x": null,
            "overflow_y": null,
            "padding": null,
            "right": null,
            "top": null,
            "visibility": null,
            "width": null
          }
        },
        "22711df993154fa1b4ec863d6f411d5f": {
          "model_module": "@jupyter-widgets/base",
          "model_name": "LayoutModel",
          "model_module_version": "1.2.0",
          "state": {
            "_model_module": "@jupyter-widgets/base",
            "_model_module_version": "1.2.0",
            "_model_name": "LayoutModel",
            "_view_count": null,
            "_view_module": "@jupyter-widgets/base",
            "_view_module_version": "1.2.0",
            "_view_name": "LayoutView",
            "align_content": null,
            "align_items": null,
            "align_self": null,
            "border": null,
            "bottom": null,
            "display": null,
            "flex": null,
            "flex_flow": null,
            "grid_area": null,
            "grid_auto_columns": null,
            "grid_auto_flow": null,
            "grid_auto_rows": null,
            "grid_column": null,
            "grid_gap": null,
            "grid_row": null,
            "grid_template_areas": null,
            "grid_template_columns": null,
            "grid_template_rows": null,
            "height": null,
            "justify_content": null,
            "justify_items": null,
            "left": null,
            "margin": null,
            "max_height": null,
            "max_width": null,
            "min_height": null,
            "min_width": null,
            "object_fit": null,
            "object_position": null,
            "order": null,
            "overflow": null,
            "overflow_x": null,
            "overflow_y": null,
            "padding": null,
            "right": null,
            "top": null,
            "visibility": null,
            "width": null
          }
        },
        "4d44864ebb1a40e88045c8937d0b3637": {
          "model_module": "@jupyter-widgets/controls",
          "model_name": "DescriptionStyleModel",
          "model_module_version": "1.5.0",
          "state": {
            "_model_module": "@jupyter-widgets/controls",
            "_model_module_version": "1.5.0",
            "_model_name": "DescriptionStyleModel",
            "_view_count": null,
            "_view_module": "@jupyter-widgets/base",
            "_view_module_version": "1.2.0",
            "_view_name": "StyleView",
            "description_width": ""
          }
        },
        "b701fc8806894a6f9c38565e19c0fa15": {
          "model_module": "@jupyter-widgets/base",
          "model_name": "LayoutModel",
          "model_module_version": "1.2.0",
          "state": {
            "_model_module": "@jupyter-widgets/base",
            "_model_module_version": "1.2.0",
            "_model_name": "LayoutModel",
            "_view_count": null,
            "_view_module": "@jupyter-widgets/base",
            "_view_module_version": "1.2.0",
            "_view_name": "LayoutView",
            "align_content": null,
            "align_items": null,
            "align_self": null,
            "border": null,
            "bottom": null,
            "display": null,
            "flex": null,
            "flex_flow": null,
            "grid_area": null,
            "grid_auto_columns": null,
            "grid_auto_flow": null,
            "grid_auto_rows": null,
            "grid_column": null,
            "grid_gap": null,
            "grid_row": null,
            "grid_template_areas": null,
            "grid_template_columns": null,
            "grid_template_rows": null,
            "height": null,
            "justify_content": null,
            "justify_items": null,
            "left": null,
            "margin": null,
            "max_height": null,
            "max_width": null,
            "min_height": null,
            "min_width": null,
            "object_fit": null,
            "object_position": null,
            "order": null,
            "overflow": null,
            "overflow_x": null,
            "overflow_y": null,
            "padding": null,
            "right": null,
            "top": null,
            "visibility": null,
            "width": null
          }
        },
        "b5283c545d0c4e7999af2ceb86925035": {
          "model_module": "@jupyter-widgets/controls",
          "model_name": "ProgressStyleModel",
          "model_module_version": "1.5.0",
          "state": {
            "_model_module": "@jupyter-widgets/controls",
            "_model_module_version": "1.5.0",
            "_model_name": "ProgressStyleModel",
            "_view_count": null,
            "_view_module": "@jupyter-widgets/base",
            "_view_module_version": "1.2.0",
            "_view_name": "StyleView",
            "bar_color": null,
            "description_width": ""
          }
        },
        "ee932bbd7c864077a2720fad36307822": {
          "model_module": "@jupyter-widgets/base",
          "model_name": "LayoutModel",
          "model_module_version": "1.2.0",
          "state": {
            "_model_module": "@jupyter-widgets/base",
            "_model_module_version": "1.2.0",
            "_model_name": "LayoutModel",
            "_view_count": null,
            "_view_module": "@jupyter-widgets/base",
            "_view_module_version": "1.2.0",
            "_view_name": "LayoutView",
            "align_content": null,
            "align_items": null,
            "align_self": null,
            "border": null,
            "bottom": null,
            "display": null,
            "flex": null,
            "flex_flow": null,
            "grid_area": null,
            "grid_auto_columns": null,
            "grid_auto_flow": null,
            "grid_auto_rows": null,
            "grid_column": null,
            "grid_gap": null,
            "grid_row": null,
            "grid_template_areas": null,
            "grid_template_columns": null,
            "grid_template_rows": null,
            "height": null,
            "justify_content": null,
            "justify_items": null,
            "left": null,
            "margin": null,
            "max_height": null,
            "max_width": null,
            "min_height": null,
            "min_width": null,
            "object_fit": null,
            "object_position": null,
            "order": null,
            "overflow": null,
            "overflow_x": null,
            "overflow_y": null,
            "padding": null,
            "right": null,
            "top": null,
            "visibility": null,
            "width": null
          }
        },
        "b3d7633bfb534c0dbc5cdcd1e2d48c4e": {
          "model_module": "@jupyter-widgets/controls",
          "model_name": "DescriptionStyleModel",
          "model_module_version": "1.5.0",
          "state": {
            "_model_module": "@jupyter-widgets/controls",
            "_model_module_version": "1.5.0",
            "_model_name": "DescriptionStyleModel",
            "_view_count": null,
            "_view_module": "@jupyter-widgets/base",
            "_view_module_version": "1.2.0",
            "_view_name": "StyleView",
            "description_width": ""
          }
        },
        "256f63e0470e4c3e91fd5d41444e5836": {
          "model_module": "@jupyter-widgets/controls",
          "model_name": "HBoxModel",
          "model_module_version": "1.5.0",
          "state": {
            "_dom_classes": [],
            "_model_module": "@jupyter-widgets/controls",
            "_model_module_version": "1.5.0",
            "_model_name": "HBoxModel",
            "_view_count": null,
            "_view_module": "@jupyter-widgets/controls",
            "_view_module_version": "1.5.0",
            "_view_name": "HBoxView",
            "box_style": "",
            "children": [
              "IPY_MODEL_b93994fd90ae4a399541e8c0e57dfb4e",
              "IPY_MODEL_72c2e211f68a4473b70b69290e2dbf3b",
              "IPY_MODEL_819e3e776d4c4d20b65a8a84807dda06"
            ],
            "layout": "IPY_MODEL_67144097720a47bab357b384882697a8"
          }
        },
        "b93994fd90ae4a399541e8c0e57dfb4e": {
          "model_module": "@jupyter-widgets/controls",
          "model_name": "HTMLModel",
          "model_module_version": "1.5.0",
          "state": {
            "_dom_classes": [],
            "_model_module": "@jupyter-widgets/controls",
            "_model_module_version": "1.5.0",
            "_model_name": "HTMLModel",
            "_view_count": null,
            "_view_module": "@jupyter-widgets/controls",
            "_view_module_version": "1.5.0",
            "_view_name": "HTMLView",
            "description": "",
            "description_tooltip": null,
            "layout": "IPY_MODEL_219c36f3ac9c4291b7e70ff1bd7be810",
            "placeholder": "​",
            "style": "IPY_MODEL_b05686fe5a98486690cfac9ed3b4280f",
            "value": "tokenizer.json: 100%"
          }
        },
        "72c2e211f68a4473b70b69290e2dbf3b": {
          "model_module": "@jupyter-widgets/controls",
          "model_name": "FloatProgressModel",
          "model_module_version": "1.5.0",
          "state": {
            "_dom_classes": [],
            "_model_module": "@jupyter-widgets/controls",
            "_model_module_version": "1.5.0",
            "_model_name": "FloatProgressModel",
            "_view_count": null,
            "_view_module": "@jupyter-widgets/controls",
            "_view_module_version": "1.5.0",
            "_view_name": "ProgressView",
            "bar_style": "success",
            "description": "",
            "description_tooltip": null,
            "layout": "IPY_MODEL_d2608c4c8d874eed9687213fd1ec2677",
            "max": 711661,
            "min": 0,
            "orientation": "horizontal",
            "style": "IPY_MODEL_f9d4ce29adfe4ec9b91956e8c6b498c0",
            "value": 711661
          }
        },
        "819e3e776d4c4d20b65a8a84807dda06": {
          "model_module": "@jupyter-widgets/controls",
          "model_name": "HTMLModel",
          "model_module_version": "1.5.0",
          "state": {
            "_dom_classes": [],
            "_model_module": "@jupyter-widgets/controls",
            "_model_module_version": "1.5.0",
            "_model_name": "HTMLModel",
            "_view_count": null,
            "_view_module": "@jupyter-widgets/controls",
            "_view_module_version": "1.5.0",
            "_view_name": "HTMLView",
            "description": "",
            "description_tooltip": null,
            "layout": "IPY_MODEL_887307bb81ce45e9920ac9d269fad1d9",
            "placeholder": "​",
            "style": "IPY_MODEL_8c77d739c83b4273bd4bb2e8a6b8980f",
            "value": " 712k/712k [00:00&lt;00:00, 3.49MB/s]"
          }
        },
        "67144097720a47bab357b384882697a8": {
          "model_module": "@jupyter-widgets/base",
          "model_name": "LayoutModel",
          "model_module_version": "1.2.0",
          "state": {
            "_model_module": "@jupyter-widgets/base",
            "_model_module_version": "1.2.0",
            "_model_name": "LayoutModel",
            "_view_count": null,
            "_view_module": "@jupyter-widgets/base",
            "_view_module_version": "1.2.0",
            "_view_name": "LayoutView",
            "align_content": null,
            "align_items": null,
            "align_self": null,
            "border": null,
            "bottom": null,
            "display": null,
            "flex": null,
            "flex_flow": null,
            "grid_area": null,
            "grid_auto_columns": null,
            "grid_auto_flow": null,
            "grid_auto_rows": null,
            "grid_column": null,
            "grid_gap": null,
            "grid_row": null,
            "grid_template_areas": null,
            "grid_template_columns": null,
            "grid_template_rows": null,
            "height": null,
            "justify_content": null,
            "justify_items": null,
            "left": null,
            "margin": null,
            "max_height": null,
            "max_width": null,
            "min_height": null,
            "min_width": null,
            "object_fit": null,
            "object_position": null,
            "order": null,
            "overflow": null,
            "overflow_x": null,
            "overflow_y": null,
            "padding": null,
            "right": null,
            "top": null,
            "visibility": null,
            "width": null
          }
        },
        "219c36f3ac9c4291b7e70ff1bd7be810": {
          "model_module": "@jupyter-widgets/base",
          "model_name": "LayoutModel",
          "model_module_version": "1.2.0",
          "state": {
            "_model_module": "@jupyter-widgets/base",
            "_model_module_version": "1.2.0",
            "_model_name": "LayoutModel",
            "_view_count": null,
            "_view_module": "@jupyter-widgets/base",
            "_view_module_version": "1.2.0",
            "_view_name": "LayoutView",
            "align_content": null,
            "align_items": null,
            "align_self": null,
            "border": null,
            "bottom": null,
            "display": null,
            "flex": null,
            "flex_flow": null,
            "grid_area": null,
            "grid_auto_columns": null,
            "grid_auto_flow": null,
            "grid_auto_rows": null,
            "grid_column": null,
            "grid_gap": null,
            "grid_row": null,
            "grid_template_areas": null,
            "grid_template_columns": null,
            "grid_template_rows": null,
            "height": null,
            "justify_content": null,
            "justify_items": null,
            "left": null,
            "margin": null,
            "max_height": null,
            "max_width": null,
            "min_height": null,
            "min_width": null,
            "object_fit": null,
            "object_position": null,
            "order": null,
            "overflow": null,
            "overflow_x": null,
            "overflow_y": null,
            "padding": null,
            "right": null,
            "top": null,
            "visibility": null,
            "width": null
          }
        },
        "b05686fe5a98486690cfac9ed3b4280f": {
          "model_module": "@jupyter-widgets/controls",
          "model_name": "DescriptionStyleModel",
          "model_module_version": "1.5.0",
          "state": {
            "_model_module": "@jupyter-widgets/controls",
            "_model_module_version": "1.5.0",
            "_model_name": "DescriptionStyleModel",
            "_view_count": null,
            "_view_module": "@jupyter-widgets/base",
            "_view_module_version": "1.2.0",
            "_view_name": "StyleView",
            "description_width": ""
          }
        },
        "d2608c4c8d874eed9687213fd1ec2677": {
          "model_module": "@jupyter-widgets/base",
          "model_name": "LayoutModel",
          "model_module_version": "1.2.0",
          "state": {
            "_model_module": "@jupyter-widgets/base",
            "_model_module_version": "1.2.0",
            "_model_name": "LayoutModel",
            "_view_count": null,
            "_view_module": "@jupyter-widgets/base",
            "_view_module_version": "1.2.0",
            "_view_name": "LayoutView",
            "align_content": null,
            "align_items": null,
            "align_self": null,
            "border": null,
            "bottom": null,
            "display": null,
            "flex": null,
            "flex_flow": null,
            "grid_area": null,
            "grid_auto_columns": null,
            "grid_auto_flow": null,
            "grid_auto_rows": null,
            "grid_column": null,
            "grid_gap": null,
            "grid_row": null,
            "grid_template_areas": null,
            "grid_template_columns": null,
            "grid_template_rows": null,
            "height": null,
            "justify_content": null,
            "justify_items": null,
            "left": null,
            "margin": null,
            "max_height": null,
            "max_width": null,
            "min_height": null,
            "min_width": null,
            "object_fit": null,
            "object_position": null,
            "order": null,
            "overflow": null,
            "overflow_x": null,
            "overflow_y": null,
            "padding": null,
            "right": null,
            "top": null,
            "visibility": null,
            "width": null
          }
        },
        "f9d4ce29adfe4ec9b91956e8c6b498c0": {
          "model_module": "@jupyter-widgets/controls",
          "model_name": "ProgressStyleModel",
          "model_module_version": "1.5.0",
          "state": {
            "_model_module": "@jupyter-widgets/controls",
            "_model_module_version": "1.5.0",
            "_model_name": "ProgressStyleModel",
            "_view_count": null,
            "_view_module": "@jupyter-widgets/base",
            "_view_module_version": "1.2.0",
            "_view_name": "StyleView",
            "bar_color": null,
            "description_width": ""
          }
        },
        "887307bb81ce45e9920ac9d269fad1d9": {
          "model_module": "@jupyter-widgets/base",
          "model_name": "LayoutModel",
          "model_module_version": "1.2.0",
          "state": {
            "_model_module": "@jupyter-widgets/base",
            "_model_module_version": "1.2.0",
            "_model_name": "LayoutModel",
            "_view_count": null,
            "_view_module": "@jupyter-widgets/base",
            "_view_module_version": "1.2.0",
            "_view_name": "LayoutView",
            "align_content": null,
            "align_items": null,
            "align_self": null,
            "border": null,
            "bottom": null,
            "display": null,
            "flex": null,
            "flex_flow": null,
            "grid_area": null,
            "grid_auto_columns": null,
            "grid_auto_flow": null,
            "grid_auto_rows": null,
            "grid_column": null,
            "grid_gap": null,
            "grid_row": null,
            "grid_template_areas": null,
            "grid_template_columns": null,
            "grid_template_rows": null,
            "height": null,
            "justify_content": null,
            "justify_items": null,
            "left": null,
            "margin": null,
            "max_height": null,
            "max_width": null,
            "min_height": null,
            "min_width": null,
            "object_fit": null,
            "object_position": null,
            "order": null,
            "overflow": null,
            "overflow_x": null,
            "overflow_y": null,
            "padding": null,
            "right": null,
            "top": null,
            "visibility": null,
            "width": null
          }
        },
        "8c77d739c83b4273bd4bb2e8a6b8980f": {
          "model_module": "@jupyter-widgets/controls",
          "model_name": "DescriptionStyleModel",
          "model_module_version": "1.5.0",
          "state": {
            "_model_module": "@jupyter-widgets/controls",
            "_model_module_version": "1.5.0",
            "_model_name": "DescriptionStyleModel",
            "_view_count": null,
            "_view_module": "@jupyter-widgets/base",
            "_view_module_version": "1.2.0",
            "_view_name": "StyleView",
            "description_width": ""
          }
        },
        "bfbd65e22bcf46c5bf832efb61ecf41c": {
          "model_module": "@jupyter-widgets/controls",
          "model_name": "HBoxModel",
          "model_module_version": "1.5.0",
          "state": {
            "_dom_classes": [],
            "_model_module": "@jupyter-widgets/controls",
            "_model_module_version": "1.5.0",
            "_model_name": "HBoxModel",
            "_view_count": null,
            "_view_module": "@jupyter-widgets/controls",
            "_view_module_version": "1.5.0",
            "_view_name": "HBoxView",
            "box_style": "",
            "children": [
              "IPY_MODEL_a6ffd528bc2a4e32a2588d2efff58e1d",
              "IPY_MODEL_328e8a263cae48a483a704ee198e5df7",
              "IPY_MODEL_48d379f6395f45ffaff53e7a2262b004"
            ],
            "layout": "IPY_MODEL_06b29cd7dea04971959821a149cbc90a"
          }
        },
        "a6ffd528bc2a4e32a2588d2efff58e1d": {
          "model_module": "@jupyter-widgets/controls",
          "model_name": "HTMLModel",
          "model_module_version": "1.5.0",
          "state": {
            "_dom_classes": [],
            "_model_module": "@jupyter-widgets/controls",
            "_model_module_version": "1.5.0",
            "_model_name": "HTMLModel",
            "_view_count": null,
            "_view_module": "@jupyter-widgets/controls",
            "_view_module_version": "1.5.0",
            "_view_name": "HTMLView",
            "description": "",
            "description_tooltip": null,
            "layout": "IPY_MODEL_706c038e31fa4344a71f979de2bcfd6e",
            "placeholder": "​",
            "style": "IPY_MODEL_b4b2a069b0f24255b24052bd306a93cd",
            "value": "tokenizer_config.json: 100%"
          }
        },
        "328e8a263cae48a483a704ee198e5df7": {
          "model_module": "@jupyter-widgets/controls",
          "model_name": "FloatProgressModel",
          "model_module_version": "1.5.0",
          "state": {
            "_dom_classes": [],
            "_model_module": "@jupyter-widgets/controls",
            "_model_module_version": "1.5.0",
            "_model_name": "FloatProgressModel",
            "_view_count": null,
            "_view_module": "@jupyter-widgets/controls",
            "_view_module_version": "1.5.0",
            "_view_name": "ProgressView",
            "bar_style": "success",
            "description": "",
            "description_tooltip": null,
            "layout": "IPY_MODEL_7d7801ca68074935890319dc8346052a",
            "max": 1433,
            "min": 0,
            "orientation": "horizontal",
            "style": "IPY_MODEL_19c13d8aaffc4761b787a39be9f78b0b",
            "value": 1433
          }
        },
        "48d379f6395f45ffaff53e7a2262b004": {
          "model_module": "@jupyter-widgets/controls",
          "model_name": "HTMLModel",
          "model_module_version": "1.5.0",
          "state": {
            "_dom_classes": [],
            "_model_module": "@jupyter-widgets/controls",
            "_model_module_version": "1.5.0",
            "_model_name": "HTMLModel",
            "_view_count": null,
            "_view_module": "@jupyter-widgets/controls",
            "_view_module_version": "1.5.0",
            "_view_name": "HTMLView",
            "description": "",
            "description_tooltip": null,
            "layout": "IPY_MODEL_aeddab2cb339467cabc64f11d5085076",
            "placeholder": "​",
            "style": "IPY_MODEL_885ce6679aec46158e471461140386a3",
            "value": " 1.43k/1.43k [00:00&lt;00:00, 22.6kB/s]"
          }
        },
        "06b29cd7dea04971959821a149cbc90a": {
          "model_module": "@jupyter-widgets/base",
          "model_name": "LayoutModel",
          "model_module_version": "1.2.0",
          "state": {
            "_model_module": "@jupyter-widgets/base",
            "_model_module_version": "1.2.0",
            "_model_name": "LayoutModel",
            "_view_count": null,
            "_view_module": "@jupyter-widgets/base",
            "_view_module_version": "1.2.0",
            "_view_name": "LayoutView",
            "align_content": null,
            "align_items": null,
            "align_self": null,
            "border": null,
            "bottom": null,
            "display": null,
            "flex": null,
            "flex_flow": null,
            "grid_area": null,
            "grid_auto_columns": null,
            "grid_auto_flow": null,
            "grid_auto_rows": null,
            "grid_column": null,
            "grid_gap": null,
            "grid_row": null,
            "grid_template_areas": null,
            "grid_template_columns": null,
            "grid_template_rows": null,
            "height": null,
            "justify_content": null,
            "justify_items": null,
            "left": null,
            "margin": null,
            "max_height": null,
            "max_width": null,
            "min_height": null,
            "min_width": null,
            "object_fit": null,
            "object_position": null,
            "order": null,
            "overflow": null,
            "overflow_x": null,
            "overflow_y": null,
            "padding": null,
            "right": null,
            "top": null,
            "visibility": null,
            "width": null
          }
        },
        "706c038e31fa4344a71f979de2bcfd6e": {
          "model_module": "@jupyter-widgets/base",
          "model_name": "LayoutModel",
          "model_module_version": "1.2.0",
          "state": {
            "_model_module": "@jupyter-widgets/base",
            "_model_module_version": "1.2.0",
            "_model_name": "LayoutModel",
            "_view_count": null,
            "_view_module": "@jupyter-widgets/base",
            "_view_module_version": "1.2.0",
            "_view_name": "LayoutView",
            "align_content": null,
            "align_items": null,
            "align_self": null,
            "border": null,
            "bottom": null,
            "display": null,
            "flex": null,
            "flex_flow": null,
            "grid_area": null,
            "grid_auto_columns": null,
            "grid_auto_flow": null,
            "grid_auto_rows": null,
            "grid_column": null,
            "grid_gap": null,
            "grid_row": null,
            "grid_template_areas": null,
            "grid_template_columns": null,
            "grid_template_rows": null,
            "height": null,
            "justify_content": null,
            "justify_items": null,
            "left": null,
            "margin": null,
            "max_height": null,
            "max_width": null,
            "min_height": null,
            "min_width": null,
            "object_fit": null,
            "object_position": null,
            "order": null,
            "overflow": null,
            "overflow_x": null,
            "overflow_y": null,
            "padding": null,
            "right": null,
            "top": null,
            "visibility": null,
            "width": null
          }
        },
        "b4b2a069b0f24255b24052bd306a93cd": {
          "model_module": "@jupyter-widgets/controls",
          "model_name": "DescriptionStyleModel",
          "model_module_version": "1.5.0",
          "state": {
            "_model_module": "@jupyter-widgets/controls",
            "_model_module_version": "1.5.0",
            "_model_name": "DescriptionStyleModel",
            "_view_count": null,
            "_view_module": "@jupyter-widgets/base",
            "_view_module_version": "1.2.0",
            "_view_name": "StyleView",
            "description_width": ""
          }
        },
        "7d7801ca68074935890319dc8346052a": {
          "model_module": "@jupyter-widgets/base",
          "model_name": "LayoutModel",
          "model_module_version": "1.2.0",
          "state": {
            "_model_module": "@jupyter-widgets/base",
            "_model_module_version": "1.2.0",
            "_model_name": "LayoutModel",
            "_view_count": null,
            "_view_module": "@jupyter-widgets/base",
            "_view_module_version": "1.2.0",
            "_view_name": "LayoutView",
            "align_content": null,
            "align_items": null,
            "align_self": null,
            "border": null,
            "bottom": null,
            "display": null,
            "flex": null,
            "flex_flow": null,
            "grid_area": null,
            "grid_auto_columns": null,
            "grid_auto_flow": null,
            "grid_auto_rows": null,
            "grid_column": null,
            "grid_gap": null,
            "grid_row": null,
            "grid_template_areas": null,
            "grid_template_columns": null,
            "grid_template_rows": null,
            "height": null,
            "justify_content": null,
            "justify_items": null,
            "left": null,
            "margin": null,
            "max_height": null,
            "max_width": null,
            "min_height": null,
            "min_width": null,
            "object_fit": null,
            "object_position": null,
            "order": null,
            "overflow": null,
            "overflow_x": null,
            "overflow_y": null,
            "padding": null,
            "right": null,
            "top": null,
            "visibility": null,
            "width": null
          }
        },
        "19c13d8aaffc4761b787a39be9f78b0b": {
          "model_module": "@jupyter-widgets/controls",
          "model_name": "ProgressStyleModel",
          "model_module_version": "1.5.0",
          "state": {
            "_model_module": "@jupyter-widgets/controls",
            "_model_module_version": "1.5.0",
            "_model_name": "ProgressStyleModel",
            "_view_count": null,
            "_view_module": "@jupyter-widgets/base",
            "_view_module_version": "1.2.0",
            "_view_name": "StyleView",
            "bar_color": null,
            "description_width": ""
          }
        },
        "aeddab2cb339467cabc64f11d5085076": {
          "model_module": "@jupyter-widgets/base",
          "model_name": "LayoutModel",
          "model_module_version": "1.2.0",
          "state": {
            "_model_module": "@jupyter-widgets/base",
            "_model_module_version": "1.2.0",
            "_model_name": "LayoutModel",
            "_view_count": null,
            "_view_module": "@jupyter-widgets/base",
            "_view_module_version": "1.2.0",
            "_view_name": "LayoutView",
            "align_content": null,
            "align_items": null,
            "align_self": null,
            "border": null,
            "bottom": null,
            "display": null,
            "flex": null,
            "flex_flow": null,
            "grid_area": null,
            "grid_auto_columns": null,
            "grid_auto_flow": null,
            "grid_auto_rows": null,
            "grid_column": null,
            "grid_gap": null,
            "grid_row": null,
            "grid_template_areas": null,
            "grid_template_columns": null,
            "grid_template_rows": null,
            "height": null,
            "justify_content": null,
            "justify_items": null,
            "left": null,
            "margin": null,
            "max_height": null,
            "max_width": null,
            "min_height": null,
            "min_width": null,
            "object_fit": null,
            "object_position": null,
            "order": null,
            "overflow": null,
            "overflow_x": null,
            "overflow_y": null,
            "padding": null,
            "right": null,
            "top": null,
            "visibility": null,
            "width": null
          }
        },
        "885ce6679aec46158e471461140386a3": {
          "model_module": "@jupyter-widgets/controls",
          "model_name": "DescriptionStyleModel",
          "model_module_version": "1.5.0",
          "state": {
            "_model_module": "@jupyter-widgets/controls",
            "_model_module_version": "1.5.0",
            "_model_name": "DescriptionStyleModel",
            "_view_count": null,
            "_view_module": "@jupyter-widgets/base",
            "_view_module_version": "1.2.0",
            "_view_name": "StyleView",
            "description_width": ""
          }
        },
        "8640a6ca330544d083d216cefa7ee096": {
          "model_module": "@jupyter-widgets/controls",
          "model_name": "HBoxModel",
          "model_module_version": "1.5.0",
          "state": {
            "_dom_classes": [],
            "_model_module": "@jupyter-widgets/controls",
            "_model_module_version": "1.5.0",
            "_model_name": "HBoxModel",
            "_view_count": null,
            "_view_module": "@jupyter-widgets/controls",
            "_view_module_version": "1.5.0",
            "_view_name": "HBoxView",
            "box_style": "",
            "children": [
              "IPY_MODEL_301e9befa49b45e1854babe5b9a0dc14",
              "IPY_MODEL_087ba8cbd83b47e8877d11bf442d8c9f",
              "IPY_MODEL_e2ffba35de504d7c9e5bc4ebcc9c187c"
            ],
            "layout": "IPY_MODEL_917d8c810942456d89692503cbddb209"
          }
        },
        "301e9befa49b45e1854babe5b9a0dc14": {
          "model_module": "@jupyter-widgets/controls",
          "model_name": "HTMLModel",
          "model_module_version": "1.5.0",
          "state": {
            "_dom_classes": [],
            "_model_module": "@jupyter-widgets/controls",
            "_model_module_version": "1.5.0",
            "_model_name": "HTMLModel",
            "_view_count": null,
            "_view_module": "@jupyter-widgets/controls",
            "_view_module_version": "1.5.0",
            "_view_name": "HTMLView",
            "description": "",
            "description_tooltip": null,
            "layout": "IPY_MODEL_d863567a5fe7462499e565c9936e9089",
            "placeholder": "​",
            "style": "IPY_MODEL_564b3b9a7f884e0b9c7a9c321385f56e",
            "value": "config.json: 100%"
          }
        },
        "087ba8cbd83b47e8877d11bf442d8c9f": {
          "model_module": "@jupyter-widgets/controls",
          "model_name": "FloatProgressModel",
          "model_module_version": "1.5.0",
          "state": {
            "_dom_classes": [],
            "_model_module": "@jupyter-widgets/controls",
            "_model_module_version": "1.5.0",
            "_model_name": "FloatProgressModel",
            "_view_count": null,
            "_view_module": "@jupyter-widgets/controls",
            "_view_module_version": "1.5.0",
            "_view_name": "ProgressView",
            "bar_style": "success",
            "description": "",
            "description_tooltip": null,
            "layout": "IPY_MODEL_e47d1d55b3a54f36ab35874b5c127bdc",
            "max": 650,
            "min": 0,
            "orientation": "horizontal",
            "style": "IPY_MODEL_bbe8f282fd6b40a7bd9f63e05a4569bd",
            "value": 650
          }
        },
        "e2ffba35de504d7c9e5bc4ebcc9c187c": {
          "model_module": "@jupyter-widgets/controls",
          "model_name": "HTMLModel",
          "model_module_version": "1.5.0",
          "state": {
            "_dom_classes": [],
            "_model_module": "@jupyter-widgets/controls",
            "_model_module_version": "1.5.0",
            "_model_name": "HTMLModel",
            "_view_count": null,
            "_view_module": "@jupyter-widgets/controls",
            "_view_module_version": "1.5.0",
            "_view_name": "HTMLView",
            "description": "",
            "description_tooltip": null,
            "layout": "IPY_MODEL_760dde76f9984cccab2626b45fd41ac6",
            "placeholder": "​",
            "style": "IPY_MODEL_fd2bd15eb6ec48199d7e09d58fe65d69",
            "value": " 650/650 [00:00&lt;00:00, 17.3kB/s]"
          }
        },
        "917d8c810942456d89692503cbddb209": {
          "model_module": "@jupyter-widgets/base",
          "model_name": "LayoutModel",
          "model_module_version": "1.2.0",
          "state": {
            "_model_module": "@jupyter-widgets/base",
            "_model_module_version": "1.2.0",
            "_model_name": "LayoutModel",
            "_view_count": null,
            "_view_module": "@jupyter-widgets/base",
            "_view_module_version": "1.2.0",
            "_view_name": "LayoutView",
            "align_content": null,
            "align_items": null,
            "align_self": null,
            "border": null,
            "bottom": null,
            "display": null,
            "flex": null,
            "flex_flow": null,
            "grid_area": null,
            "grid_auto_columns": null,
            "grid_auto_flow": null,
            "grid_auto_rows": null,
            "grid_column": null,
            "grid_gap": null,
            "grid_row": null,
            "grid_template_areas": null,
            "grid_template_columns": null,
            "grid_template_rows": null,
            "height": null,
            "justify_content": null,
            "justify_items": null,
            "left": null,
            "margin": null,
            "max_height": null,
            "max_width": null,
            "min_height": null,
            "min_width": null,
            "object_fit": null,
            "object_position": null,
            "order": null,
            "overflow": null,
            "overflow_x": null,
            "overflow_y": null,
            "padding": null,
            "right": null,
            "top": null,
            "visibility": null,
            "width": null
          }
        },
        "d863567a5fe7462499e565c9936e9089": {
          "model_module": "@jupyter-widgets/base",
          "model_name": "LayoutModel",
          "model_module_version": "1.2.0",
          "state": {
            "_model_module": "@jupyter-widgets/base",
            "_model_module_version": "1.2.0",
            "_model_name": "LayoutModel",
            "_view_count": null,
            "_view_module": "@jupyter-widgets/base",
            "_view_module_version": "1.2.0",
            "_view_name": "LayoutView",
            "align_content": null,
            "align_items": null,
            "align_self": null,
            "border": null,
            "bottom": null,
            "display": null,
            "flex": null,
            "flex_flow": null,
            "grid_area": null,
            "grid_auto_columns": null,
            "grid_auto_flow": null,
            "grid_auto_rows": null,
            "grid_column": null,
            "grid_gap": null,
            "grid_row": null,
            "grid_template_areas": null,
            "grid_template_columns": null,
            "grid_template_rows": null,
            "height": null,
            "justify_content": null,
            "justify_items": null,
            "left": null,
            "margin": null,
            "max_height": null,
            "max_width": null,
            "min_height": null,
            "min_width": null,
            "object_fit": null,
            "object_position": null,
            "order": null,
            "overflow": null,
            "overflow_x": null,
            "overflow_y": null,
            "padding": null,
            "right": null,
            "top": null,
            "visibility": null,
            "width": null
          }
        },
        "564b3b9a7f884e0b9c7a9c321385f56e": {
          "model_module": "@jupyter-widgets/controls",
          "model_name": "DescriptionStyleModel",
          "model_module_version": "1.5.0",
          "state": {
            "_model_module": "@jupyter-widgets/controls",
            "_model_module_version": "1.5.0",
            "_model_name": "DescriptionStyleModel",
            "_view_count": null,
            "_view_module": "@jupyter-widgets/base",
            "_view_module_version": "1.2.0",
            "_view_name": "StyleView",
            "description_width": ""
          }
        },
        "e47d1d55b3a54f36ab35874b5c127bdc": {
          "model_module": "@jupyter-widgets/base",
          "model_name": "LayoutModel",
          "model_module_version": "1.2.0",
          "state": {
            "_model_module": "@jupyter-widgets/base",
            "_model_module_version": "1.2.0",
            "_model_name": "LayoutModel",
            "_view_count": null,
            "_view_module": "@jupyter-widgets/base",
            "_view_module_version": "1.2.0",
            "_view_name": "LayoutView",
            "align_content": null,
            "align_items": null,
            "align_self": null,
            "border": null,
            "bottom": null,
            "display": null,
            "flex": null,
            "flex_flow": null,
            "grid_area": null,
            "grid_auto_columns": null,
            "grid_auto_flow": null,
            "grid_auto_rows": null,
            "grid_column": null,
            "grid_gap": null,
            "grid_row": null,
            "grid_template_areas": null,
            "grid_template_columns": null,
            "grid_template_rows": null,
            "height": null,
            "justify_content": null,
            "justify_items": null,
            "left": null,
            "margin": null,
            "max_height": null,
            "max_width": null,
            "min_height": null,
            "min_width": null,
            "object_fit": null,
            "object_position": null,
            "order": null,
            "overflow": null,
            "overflow_x": null,
            "overflow_y": null,
            "padding": null,
            "right": null,
            "top": null,
            "visibility": null,
            "width": null
          }
        },
        "bbe8f282fd6b40a7bd9f63e05a4569bd": {
          "model_module": "@jupyter-widgets/controls",
          "model_name": "ProgressStyleModel",
          "model_module_version": "1.5.0",
          "state": {
            "_model_module": "@jupyter-widgets/controls",
            "_model_module_version": "1.5.0",
            "_model_name": "ProgressStyleModel",
            "_view_count": null,
            "_view_module": "@jupyter-widgets/base",
            "_view_module_version": "1.2.0",
            "_view_name": "StyleView",
            "bar_color": null,
            "description_width": ""
          }
        },
        "760dde76f9984cccab2626b45fd41ac6": {
          "model_module": "@jupyter-widgets/base",
          "model_name": "LayoutModel",
          "model_module_version": "1.2.0",
          "state": {
            "_model_module": "@jupyter-widgets/base",
            "_model_module_version": "1.2.0",
            "_model_name": "LayoutModel",
            "_view_count": null,
            "_view_module": "@jupyter-widgets/base",
            "_view_module_version": "1.2.0",
            "_view_name": "LayoutView",
            "align_content": null,
            "align_items": null,
            "align_self": null,
            "border": null,
            "bottom": null,
            "display": null,
            "flex": null,
            "flex_flow": null,
            "grid_area": null,
            "grid_auto_columns": null,
            "grid_auto_flow": null,
            "grid_auto_rows": null,
            "grid_column": null,
            "grid_gap": null,
            "grid_row": null,
            "grid_template_areas": null,
            "grid_template_columns": null,
            "grid_template_rows": null,
            "height": null,
            "justify_content": null,
            "justify_items": null,
            "left": null,
            "margin": null,
            "max_height": null,
            "max_width": null,
            "min_height": null,
            "min_width": null,
            "object_fit": null,
            "object_position": null,
            "order": null,
            "overflow": null,
            "overflow_x": null,
            "overflow_y": null,
            "padding": null,
            "right": null,
            "top": null,
            "visibility": null,
            "width": null
          }
        },
        "fd2bd15eb6ec48199d7e09d58fe65d69": {
          "model_module": "@jupyter-widgets/controls",
          "model_name": "DescriptionStyleModel",
          "model_module_version": "1.5.0",
          "state": {
            "_model_module": "@jupyter-widgets/controls",
            "_model_module_version": "1.5.0",
            "_model_name": "DescriptionStyleModel",
            "_view_count": null,
            "_view_module": "@jupyter-widgets/base",
            "_view_module_version": "1.2.0",
            "_view_name": "StyleView",
            "description_width": ""
          }
        },
        "39614ce243224775bac9d506ec803f69": {
          "model_module": "@jupyter-widgets/controls",
          "model_name": "HBoxModel",
          "model_module_version": "1.5.0",
          "state": {
            "_dom_classes": [],
            "_model_module": "@jupyter-widgets/controls",
            "_model_module_version": "1.5.0",
            "_model_name": "HBoxModel",
            "_view_count": null,
            "_view_module": "@jupyter-widgets/controls",
            "_view_module_version": "1.5.0",
            "_view_name": "HBoxView",
            "box_style": "",
            "children": [
              "IPY_MODEL_d1f78642a4f44e81b0fffbf24898cf5c",
              "IPY_MODEL_e42907d8aa3f4d788a851b3c27dd7b23",
              "IPY_MODEL_c3eb608da04948958f9ba164a3b9c040"
            ],
            "layout": "IPY_MODEL_553ffbdb604141489544ba841a506681"
          }
        },
        "d1f78642a4f44e81b0fffbf24898cf5c": {
          "model_module": "@jupyter-widgets/controls",
          "model_name": "HTMLModel",
          "model_module_version": "1.5.0",
          "state": {
            "_dom_classes": [],
            "_model_module": "@jupyter-widgets/controls",
            "_model_module_version": "1.5.0",
            "_model_name": "HTMLModel",
            "_view_count": null,
            "_view_module": "@jupyter-widgets/controls",
            "_view_module_version": "1.5.0",
            "_view_name": "HTMLView",
            "description": "",
            "description_tooltip": null,
            "layout": "IPY_MODEL_668c79460d654efe888640135d5697c5",
            "placeholder": "​",
            "style": "IPY_MODEL_1ee5e0521d21439ebd644d67468c719a",
            "value": "Map: 100%"
          }
        },
        "e42907d8aa3f4d788a851b3c27dd7b23": {
          "model_module": "@jupyter-widgets/controls",
          "model_name": "FloatProgressModel",
          "model_module_version": "1.5.0",
          "state": {
            "_dom_classes": [],
            "_model_module": "@jupyter-widgets/controls",
            "_model_module_version": "1.5.0",
            "_model_name": "FloatProgressModel",
            "_view_count": null,
            "_view_module": "@jupyter-widgets/controls",
            "_view_module_version": "1.5.0",
            "_view_name": "ProgressView",
            "bar_style": "success",
            "description": "",
            "description_tooltip": null,
            "layout": "IPY_MODEL_ab4e9cb5bed44519ac84dd6e684e8f59",
            "max": 100,
            "min": 0,
            "orientation": "horizontal",
            "style": "IPY_MODEL_d5dbb472f12a465fb6517716a59c3273",
            "value": 100
          }
        },
        "c3eb608da04948958f9ba164a3b9c040": {
          "model_module": "@jupyter-widgets/controls",
          "model_name": "HTMLModel",
          "model_module_version": "1.5.0",
          "state": {
            "_dom_classes": [],
            "_model_module": "@jupyter-widgets/controls",
            "_model_module_version": "1.5.0",
            "_model_name": "HTMLModel",
            "_view_count": null,
            "_view_module": "@jupyter-widgets/controls",
            "_view_module_version": "1.5.0",
            "_view_name": "HTMLView",
            "description": "",
            "description_tooltip": null,
            "layout": "IPY_MODEL_1f4f949aac64499394b1d850aac323d7",
            "placeholder": "​",
            "style": "IPY_MODEL_db4b72d361674c338c1c92baf3715339",
            "value": " 100/100 [00:02&lt;00:00, 24.66 examples/s]"
          }
        },
        "553ffbdb604141489544ba841a506681": {
          "model_module": "@jupyter-widgets/base",
          "model_name": "LayoutModel",
          "model_module_version": "1.2.0",
          "state": {
            "_model_module": "@jupyter-widgets/base",
            "_model_module_version": "1.2.0",
            "_model_name": "LayoutModel",
            "_view_count": null,
            "_view_module": "@jupyter-widgets/base",
            "_view_module_version": "1.2.0",
            "_view_name": "LayoutView",
            "align_content": null,
            "align_items": null,
            "align_self": null,
            "border": null,
            "bottom": null,
            "display": null,
            "flex": null,
            "flex_flow": null,
            "grid_area": null,
            "grid_auto_columns": null,
            "grid_auto_flow": null,
            "grid_auto_rows": null,
            "grid_column": null,
            "grid_gap": null,
            "grid_row": null,
            "grid_template_areas": null,
            "grid_template_columns": null,
            "grid_template_rows": null,
            "height": null,
            "justify_content": null,
            "justify_items": null,
            "left": null,
            "margin": null,
            "max_height": null,
            "max_width": null,
            "min_height": null,
            "min_width": null,
            "object_fit": null,
            "object_position": null,
            "order": null,
            "overflow": null,
            "overflow_x": null,
            "overflow_y": null,
            "padding": null,
            "right": null,
            "top": null,
            "visibility": null,
            "width": null
          }
        },
        "668c79460d654efe888640135d5697c5": {
          "model_module": "@jupyter-widgets/base",
          "model_name": "LayoutModel",
          "model_module_version": "1.2.0",
          "state": {
            "_model_module": "@jupyter-widgets/base",
            "_model_module_version": "1.2.0",
            "_model_name": "LayoutModel",
            "_view_count": null,
            "_view_module": "@jupyter-widgets/base",
            "_view_module_version": "1.2.0",
            "_view_name": "LayoutView",
            "align_content": null,
            "align_items": null,
            "align_self": null,
            "border": null,
            "bottom": null,
            "display": null,
            "flex": null,
            "flex_flow": null,
            "grid_area": null,
            "grid_auto_columns": null,
            "grid_auto_flow": null,
            "grid_auto_rows": null,
            "grid_column": null,
            "grid_gap": null,
            "grid_row": null,
            "grid_template_areas": null,
            "grid_template_columns": null,
            "grid_template_rows": null,
            "height": null,
            "justify_content": null,
            "justify_items": null,
            "left": null,
            "margin": null,
            "max_height": null,
            "max_width": null,
            "min_height": null,
            "min_width": null,
            "object_fit": null,
            "object_position": null,
            "order": null,
            "overflow": null,
            "overflow_x": null,
            "overflow_y": null,
            "padding": null,
            "right": null,
            "top": null,
            "visibility": null,
            "width": null
          }
        },
        "1ee5e0521d21439ebd644d67468c719a": {
          "model_module": "@jupyter-widgets/controls",
          "model_name": "DescriptionStyleModel",
          "model_module_version": "1.5.0",
          "state": {
            "_model_module": "@jupyter-widgets/controls",
            "_model_module_version": "1.5.0",
            "_model_name": "DescriptionStyleModel",
            "_view_count": null,
            "_view_module": "@jupyter-widgets/base",
            "_view_module_version": "1.2.0",
            "_view_name": "StyleView",
            "description_width": ""
          }
        },
        "ab4e9cb5bed44519ac84dd6e684e8f59": {
          "model_module": "@jupyter-widgets/base",
          "model_name": "LayoutModel",
          "model_module_version": "1.2.0",
          "state": {
            "_model_module": "@jupyter-widgets/base",
            "_model_module_version": "1.2.0",
            "_model_name": "LayoutModel",
            "_view_count": null,
            "_view_module": "@jupyter-widgets/base",
            "_view_module_version": "1.2.0",
            "_view_name": "LayoutView",
            "align_content": null,
            "align_items": null,
            "align_self": null,
            "border": null,
            "bottom": null,
            "display": null,
            "flex": null,
            "flex_flow": null,
            "grid_area": null,
            "grid_auto_columns": null,
            "grid_auto_flow": null,
            "grid_auto_rows": null,
            "grid_column": null,
            "grid_gap": null,
            "grid_row": null,
            "grid_template_areas": null,
            "grid_template_columns": null,
            "grid_template_rows": null,
            "height": null,
            "justify_content": null,
            "justify_items": null,
            "left": null,
            "margin": null,
            "max_height": null,
            "max_width": null,
            "min_height": null,
            "min_width": null,
            "object_fit": null,
            "object_position": null,
            "order": null,
            "overflow": null,
            "overflow_x": null,
            "overflow_y": null,
            "padding": null,
            "right": null,
            "top": null,
            "visibility": null,
            "width": null
          }
        },
        "d5dbb472f12a465fb6517716a59c3273": {
          "model_module": "@jupyter-widgets/controls",
          "model_name": "ProgressStyleModel",
          "model_module_version": "1.5.0",
          "state": {
            "_model_module": "@jupyter-widgets/controls",
            "_model_module_version": "1.5.0",
            "_model_name": "ProgressStyleModel",
            "_view_count": null,
            "_view_module": "@jupyter-widgets/base",
            "_view_module_version": "1.2.0",
            "_view_name": "StyleView",
            "bar_color": null,
            "description_width": ""
          }
        },
        "1f4f949aac64499394b1d850aac323d7": {
          "model_module": "@jupyter-widgets/base",
          "model_name": "LayoutModel",
          "model_module_version": "1.2.0",
          "state": {
            "_model_module": "@jupyter-widgets/base",
            "_model_module_version": "1.2.0",
            "_model_name": "LayoutModel",
            "_view_count": null,
            "_view_module": "@jupyter-widgets/base",
            "_view_module_version": "1.2.0",
            "_view_name": "LayoutView",
            "align_content": null,
            "align_items": null,
            "align_self": null,
            "border": null,
            "bottom": null,
            "display": null,
            "flex": null,
            "flex_flow": null,
            "grid_area": null,
            "grid_auto_columns": null,
            "grid_auto_flow": null,
            "grid_auto_rows": null,
            "grid_column": null,
            "grid_gap": null,
            "grid_row": null,
            "grid_template_areas": null,
            "grid_template_columns": null,
            "grid_template_rows": null,
            "height": null,
            "justify_content": null,
            "justify_items": null,
            "left": null,
            "margin": null,
            "max_height": null,
            "max_width": null,
            "min_height": null,
            "min_width": null,
            "object_fit": null,
            "object_position": null,
            "order": null,
            "overflow": null,
            "overflow_x": null,
            "overflow_y": null,
            "padding": null,
            "right": null,
            "top": null,
            "visibility": null,
            "width": null
          }
        },
        "db4b72d361674c338c1c92baf3715339": {
          "model_module": "@jupyter-widgets/controls",
          "model_name": "DescriptionStyleModel",
          "model_module_version": "1.5.0",
          "state": {
            "_model_module": "@jupyter-widgets/controls",
            "_model_module_version": "1.5.0",
            "_model_name": "DescriptionStyleModel",
            "_view_count": null,
            "_view_module": "@jupyter-widgets/base",
            "_view_module_version": "1.2.0",
            "_view_name": "StyleView",
            "description_width": ""
          }
        },
        "5d856b16fc0441c0a1d17e6a2b17cfe4": {
          "model_module": "@jupyter-widgets/controls",
          "model_name": "HBoxModel",
          "model_module_version": "1.5.0",
          "state": {
            "_dom_classes": [],
            "_model_module": "@jupyter-widgets/controls",
            "_model_module_version": "1.5.0",
            "_model_name": "HBoxModel",
            "_view_count": null,
            "_view_module": "@jupyter-widgets/controls",
            "_view_module_version": "1.5.0",
            "_view_name": "HBoxView",
            "box_style": "",
            "children": [
              "IPY_MODEL_cc3dfa06ec464db38395476f226df798",
              "IPY_MODEL_47b9943c69fb41799af9e05081acf118",
              "IPY_MODEL_c294841ca5464c73b58149283eb4ffbb"
            ],
            "layout": "IPY_MODEL_882531a9537d4899a0aef0795e75530e"
          }
        },
        "cc3dfa06ec464db38395476f226df798": {
          "model_module": "@jupyter-widgets/controls",
          "model_name": "HTMLModel",
          "model_module_version": "1.5.0",
          "state": {
            "_dom_classes": [],
            "_model_module": "@jupyter-widgets/controls",
            "_model_module_version": "1.5.0",
            "_model_name": "HTMLModel",
            "_view_count": null,
            "_view_module": "@jupyter-widgets/controls",
            "_view_module_version": "1.5.0",
            "_view_name": "HTMLView",
            "description": "",
            "description_tooltip": null,
            "layout": "IPY_MODEL_ab5994bcc50d427b946340577fb5a608",
            "placeholder": "​",
            "style": "IPY_MODEL_f81e3c6075324a7dabb51d4692817530",
            "value": "Downloading readme: 100%"
          }
        },
        "47b9943c69fb41799af9e05081acf118": {
          "model_module": "@jupyter-widgets/controls",
          "model_name": "FloatProgressModel",
          "model_module_version": "1.5.0",
          "state": {
            "_dom_classes": [],
            "_model_module": "@jupyter-widgets/controls",
            "_model_module_version": "1.5.0",
            "_model_name": "FloatProgressModel",
            "_view_count": null,
            "_view_module": "@jupyter-widgets/controls",
            "_view_module_version": "1.5.0",
            "_view_name": "ProgressView",
            "bar_style": "success",
            "description": "",
            "description_tooltip": null,
            "layout": "IPY_MODEL_42b9af454b444514ba05d41f781f4a4d",
            "max": 8070,
            "min": 0,
            "orientation": "horizontal",
            "style": "IPY_MODEL_1aa8e8a08c7e4b3a9dc64da1aeb207f9",
            "value": 8070
          }
        },
        "c294841ca5464c73b58149283eb4ffbb": {
          "model_module": "@jupyter-widgets/controls",
          "model_name": "HTMLModel",
          "model_module_version": "1.5.0",
          "state": {
            "_dom_classes": [],
            "_model_module": "@jupyter-widgets/controls",
            "_model_module_version": "1.5.0",
            "_model_name": "HTMLModel",
            "_view_count": null,
            "_view_module": "@jupyter-widgets/controls",
            "_view_module_version": "1.5.0",
            "_view_name": "HTMLView",
            "description": "",
            "description_tooltip": null,
            "layout": "IPY_MODEL_a8c146635d82431ab2828c8529db5eac",
            "placeholder": "​",
            "style": "IPY_MODEL_f8c6fc1b067e4e3ab973425281eed7be",
            "value": " 8.07k/8.07k [00:00&lt;00:00, 31.2kB/s]"
          }
        },
        "882531a9537d4899a0aef0795e75530e": {
          "model_module": "@jupyter-widgets/base",
          "model_name": "LayoutModel",
          "model_module_version": "1.2.0",
          "state": {
            "_model_module": "@jupyter-widgets/base",
            "_model_module_version": "1.2.0",
            "_model_name": "LayoutModel",
            "_view_count": null,
            "_view_module": "@jupyter-widgets/base",
            "_view_module_version": "1.2.0",
            "_view_name": "LayoutView",
            "align_content": null,
            "align_items": null,
            "align_self": null,
            "border": null,
            "bottom": null,
            "display": null,
            "flex": null,
            "flex_flow": null,
            "grid_area": null,
            "grid_auto_columns": null,
            "grid_auto_flow": null,
            "grid_auto_rows": null,
            "grid_column": null,
            "grid_gap": null,
            "grid_row": null,
            "grid_template_areas": null,
            "grid_template_columns": null,
            "grid_template_rows": null,
            "height": null,
            "justify_content": null,
            "justify_items": null,
            "left": null,
            "margin": null,
            "max_height": null,
            "max_width": null,
            "min_height": null,
            "min_width": null,
            "object_fit": null,
            "object_position": null,
            "order": null,
            "overflow": null,
            "overflow_x": null,
            "overflow_y": null,
            "padding": null,
            "right": null,
            "top": null,
            "visibility": null,
            "width": null
          }
        },
        "ab5994bcc50d427b946340577fb5a608": {
          "model_module": "@jupyter-widgets/base",
          "model_name": "LayoutModel",
          "model_module_version": "1.2.0",
          "state": {
            "_model_module": "@jupyter-widgets/base",
            "_model_module_version": "1.2.0",
            "_model_name": "LayoutModel",
            "_view_count": null,
            "_view_module": "@jupyter-widgets/base",
            "_view_module_version": "1.2.0",
            "_view_name": "LayoutView",
            "align_content": null,
            "align_items": null,
            "align_self": null,
            "border": null,
            "bottom": null,
            "display": null,
            "flex": null,
            "flex_flow": null,
            "grid_area": null,
            "grid_auto_columns": null,
            "grid_auto_flow": null,
            "grid_auto_rows": null,
            "grid_column": null,
            "grid_gap": null,
            "grid_row": null,
            "grid_template_areas": null,
            "grid_template_columns": null,
            "grid_template_rows": null,
            "height": null,
            "justify_content": null,
            "justify_items": null,
            "left": null,
            "margin": null,
            "max_height": null,
            "max_width": null,
            "min_height": null,
            "min_width": null,
            "object_fit": null,
            "object_position": null,
            "order": null,
            "overflow": null,
            "overflow_x": null,
            "overflow_y": null,
            "padding": null,
            "right": null,
            "top": null,
            "visibility": null,
            "width": null
          }
        },
        "f81e3c6075324a7dabb51d4692817530": {
          "model_module": "@jupyter-widgets/controls",
          "model_name": "DescriptionStyleModel",
          "model_module_version": "1.5.0",
          "state": {
            "_model_module": "@jupyter-widgets/controls",
            "_model_module_version": "1.5.0",
            "_model_name": "DescriptionStyleModel",
            "_view_count": null,
            "_view_module": "@jupyter-widgets/base",
            "_view_module_version": "1.2.0",
            "_view_name": "StyleView",
            "description_width": ""
          }
        },
        "42b9af454b444514ba05d41f781f4a4d": {
          "model_module": "@jupyter-widgets/base",
          "model_name": "LayoutModel",
          "model_module_version": "1.2.0",
          "state": {
            "_model_module": "@jupyter-widgets/base",
            "_model_module_version": "1.2.0",
            "_model_name": "LayoutModel",
            "_view_count": null,
            "_view_module": "@jupyter-widgets/base",
            "_view_module_version": "1.2.0",
            "_view_name": "LayoutView",
            "align_content": null,
            "align_items": null,
            "align_self": null,
            "border": null,
            "bottom": null,
            "display": null,
            "flex": null,
            "flex_flow": null,
            "grid_area": null,
            "grid_auto_columns": null,
            "grid_auto_flow": null,
            "grid_auto_rows": null,
            "grid_column": null,
            "grid_gap": null,
            "grid_row": null,
            "grid_template_areas": null,
            "grid_template_columns": null,
            "grid_template_rows": null,
            "height": null,
            "justify_content": null,
            "justify_items": null,
            "left": null,
            "margin": null,
            "max_height": null,
            "max_width": null,
            "min_height": null,
            "min_width": null,
            "object_fit": null,
            "object_position": null,
            "order": null,
            "overflow": null,
            "overflow_x": null,
            "overflow_y": null,
            "padding": null,
            "right": null,
            "top": null,
            "visibility": null,
            "width": null
          }
        },
        "1aa8e8a08c7e4b3a9dc64da1aeb207f9": {
          "model_module": "@jupyter-widgets/controls",
          "model_name": "ProgressStyleModel",
          "model_module_version": "1.5.0",
          "state": {
            "_model_module": "@jupyter-widgets/controls",
            "_model_module_version": "1.5.0",
            "_model_name": "ProgressStyleModel",
            "_view_count": null,
            "_view_module": "@jupyter-widgets/base",
            "_view_module_version": "1.2.0",
            "_view_name": "StyleView",
            "bar_color": null,
            "description_width": ""
          }
        },
        "a8c146635d82431ab2828c8529db5eac": {
          "model_module": "@jupyter-widgets/base",
          "model_name": "LayoutModel",
          "model_module_version": "1.2.0",
          "state": {
            "_model_module": "@jupyter-widgets/base",
            "_model_module_version": "1.2.0",
            "_model_name": "LayoutModel",
            "_view_count": null,
            "_view_module": "@jupyter-widgets/base",
            "_view_module_version": "1.2.0",
            "_view_name": "LayoutView",
            "align_content": null,
            "align_items": null,
            "align_self": null,
            "border": null,
            "bottom": null,
            "display": null,
            "flex": null,
            "flex_flow": null,
            "grid_area": null,
            "grid_auto_columns": null,
            "grid_auto_flow": null,
            "grid_auto_rows": null,
            "grid_column": null,
            "grid_gap": null,
            "grid_row": null,
            "grid_template_areas": null,
            "grid_template_columns": null,
            "grid_template_rows": null,
            "height": null,
            "justify_content": null,
            "justify_items": null,
            "left": null,
            "margin": null,
            "max_height": null,
            "max_width": null,
            "min_height": null,
            "min_width": null,
            "object_fit": null,
            "object_position": null,
            "order": null,
            "overflow": null,
            "overflow_x": null,
            "overflow_y": null,
            "padding": null,
            "right": null,
            "top": null,
            "visibility": null,
            "width": null
          }
        },
        "f8c6fc1b067e4e3ab973425281eed7be": {
          "model_module": "@jupyter-widgets/controls",
          "model_name": "DescriptionStyleModel",
          "model_module_version": "1.5.0",
          "state": {
            "_model_module": "@jupyter-widgets/controls",
            "_model_module_version": "1.5.0",
            "_model_name": "DescriptionStyleModel",
            "_view_count": null,
            "_view_module": "@jupyter-widgets/base",
            "_view_module_version": "1.2.0",
            "_view_name": "StyleView",
            "description_width": ""
          }
        },
        "ab10e43c60cf4bddb9306c7e721b4ae5": {
          "model_module": "@jupyter-widgets/controls",
          "model_name": "HBoxModel",
          "model_module_version": "1.5.0",
          "state": {
            "_dom_classes": [],
            "_model_module": "@jupyter-widgets/controls",
            "_model_module_version": "1.5.0",
            "_model_name": "HBoxModel",
            "_view_count": null,
            "_view_module": "@jupyter-widgets/controls",
            "_view_module_version": "1.5.0",
            "_view_name": "HBoxView",
            "box_style": "",
            "children": [
              "IPY_MODEL_616c930268d84fa6b92a18d4d1096668",
              "IPY_MODEL_a48a8ff9ef664559ad790d72b901cca7",
              "IPY_MODEL_2bd351f737fa4aafad2fb9a9fc5e85c9"
            ],
            "layout": "IPY_MODEL_6599782a42384d0392b9266507790e72"
          }
        },
        "616c930268d84fa6b92a18d4d1096668": {
          "model_module": "@jupyter-widgets/controls",
          "model_name": "HTMLModel",
          "model_module_version": "1.5.0",
          "state": {
            "_dom_classes": [],
            "_model_module": "@jupyter-widgets/controls",
            "_model_module_version": "1.5.0",
            "_model_name": "HTMLModel",
            "_view_count": null,
            "_view_module": "@jupyter-widgets/controls",
            "_view_module_version": "1.5.0",
            "_view_name": "HTMLView",
            "description": "",
            "description_tooltip": null,
            "layout": "IPY_MODEL_1256b3183b344bb99d0b5a0219f0fb1b",
            "placeholder": "​",
            "style": "IPY_MODEL_a6adbcfdb72b499b88122d322ad551fa",
            "value": "Downloading data: 100%"
          }
        },
        "a48a8ff9ef664559ad790d72b901cca7": {
          "model_module": "@jupyter-widgets/controls",
          "model_name": "FloatProgressModel",
          "model_module_version": "1.5.0",
          "state": {
            "_dom_classes": [],
            "_model_module": "@jupyter-widgets/controls",
            "_model_module_version": "1.5.0",
            "_model_name": "FloatProgressModel",
            "_view_count": null,
            "_view_module": "@jupyter-widgets/controls",
            "_view_module_version": "1.5.0",
            "_view_name": "ProgressView",
            "bar_style": "success",
            "description": "",
            "description_tooltip": null,
            "layout": "IPY_MODEL_446e794087fd41eb869c412ed4d3e92d",
            "max": 18585438,
            "min": 0,
            "orientation": "horizontal",
            "style": "IPY_MODEL_7d59c0ccab244a36a889f3c80c8fd688",
            "value": 18585438
          }
        },
        "2bd351f737fa4aafad2fb9a9fc5e85c9": {
          "model_module": "@jupyter-widgets/controls",
          "model_name": "HTMLModel",
          "model_module_version": "1.5.0",
          "state": {
            "_dom_classes": [],
            "_model_module": "@jupyter-widgets/controls",
            "_model_module_version": "1.5.0",
            "_model_name": "HTMLModel",
            "_view_count": null,
            "_view_module": "@jupyter-widgets/controls",
            "_view_module_version": "1.5.0",
            "_view_name": "HTMLView",
            "description": "",
            "description_tooltip": null,
            "layout": "IPY_MODEL_f8ff864a36274f9c9bcc4cf3f603434b",
            "placeholder": "​",
            "style": "IPY_MODEL_e708276cc99d471ba658c6b0e9831d03",
            "value": " 18.6M/18.6M [00:00&lt;00:00, 25.2MB/s]"
          }
        },
        "6599782a42384d0392b9266507790e72": {
          "model_module": "@jupyter-widgets/base",
          "model_name": "LayoutModel",
          "model_module_version": "1.2.0",
          "state": {
            "_model_module": "@jupyter-widgets/base",
            "_model_module_version": "1.2.0",
            "_model_name": "LayoutModel",
            "_view_count": null,
            "_view_module": "@jupyter-widgets/base",
            "_view_module_version": "1.2.0",
            "_view_name": "LayoutView",
            "align_content": null,
            "align_items": null,
            "align_self": null,
            "border": null,
            "bottom": null,
            "display": null,
            "flex": null,
            "flex_flow": null,
            "grid_area": null,
            "grid_auto_columns": null,
            "grid_auto_flow": null,
            "grid_auto_rows": null,
            "grid_column": null,
            "grid_gap": null,
            "grid_row": null,
            "grid_template_areas": null,
            "grid_template_columns": null,
            "grid_template_rows": null,
            "height": null,
            "justify_content": null,
            "justify_items": null,
            "left": null,
            "margin": null,
            "max_height": null,
            "max_width": null,
            "min_height": null,
            "min_width": null,
            "object_fit": null,
            "object_position": null,
            "order": null,
            "overflow": null,
            "overflow_x": null,
            "overflow_y": null,
            "padding": null,
            "right": null,
            "top": null,
            "visibility": null,
            "width": null
          }
        },
        "1256b3183b344bb99d0b5a0219f0fb1b": {
          "model_module": "@jupyter-widgets/base",
          "model_name": "LayoutModel",
          "model_module_version": "1.2.0",
          "state": {
            "_model_module": "@jupyter-widgets/base",
            "_model_module_version": "1.2.0",
            "_model_name": "LayoutModel",
            "_view_count": null,
            "_view_module": "@jupyter-widgets/base",
            "_view_module_version": "1.2.0",
            "_view_name": "LayoutView",
            "align_content": null,
            "align_items": null,
            "align_self": null,
            "border": null,
            "bottom": null,
            "display": null,
            "flex": null,
            "flex_flow": null,
            "grid_area": null,
            "grid_auto_columns": null,
            "grid_auto_flow": null,
            "grid_auto_rows": null,
            "grid_column": null,
            "grid_gap": null,
            "grid_row": null,
            "grid_template_areas": null,
            "grid_template_columns": null,
            "grid_template_rows": null,
            "height": null,
            "justify_content": null,
            "justify_items": null,
            "left": null,
            "margin": null,
            "max_height": null,
            "max_width": null,
            "min_height": null,
            "min_width": null,
            "object_fit": null,
            "object_position": null,
            "order": null,
            "overflow": null,
            "overflow_x": null,
            "overflow_y": null,
            "padding": null,
            "right": null,
            "top": null,
            "visibility": null,
            "width": null
          }
        },
        "a6adbcfdb72b499b88122d322ad551fa": {
          "model_module": "@jupyter-widgets/controls",
          "model_name": "DescriptionStyleModel",
          "model_module_version": "1.5.0",
          "state": {
            "_model_module": "@jupyter-widgets/controls",
            "_model_module_version": "1.5.0",
            "_model_name": "DescriptionStyleModel",
            "_view_count": null,
            "_view_module": "@jupyter-widgets/base",
            "_view_module_version": "1.2.0",
            "_view_name": "StyleView",
            "description_width": ""
          }
        },
        "446e794087fd41eb869c412ed4d3e92d": {
          "model_module": "@jupyter-widgets/base",
          "model_name": "LayoutModel",
          "model_module_version": "1.2.0",
          "state": {
            "_model_module": "@jupyter-widgets/base",
            "_model_module_version": "1.2.0",
            "_model_name": "LayoutModel",
            "_view_count": null,
            "_view_module": "@jupyter-widgets/base",
            "_view_module_version": "1.2.0",
            "_view_name": "LayoutView",
            "align_content": null,
            "align_items": null,
            "align_self": null,
            "border": null,
            "bottom": null,
            "display": null,
            "flex": null,
            "flex_flow": null,
            "grid_area": null,
            "grid_auto_columns": null,
            "grid_auto_flow": null,
            "grid_auto_rows": null,
            "grid_column": null,
            "grid_gap": null,
            "grid_row": null,
            "grid_template_areas": null,
            "grid_template_columns": null,
            "grid_template_rows": null,
            "height": null,
            "justify_content": null,
            "justify_items": null,
            "left": null,
            "margin": null,
            "max_height": null,
            "max_width": null,
            "min_height": null,
            "min_width": null,
            "object_fit": null,
            "object_position": null,
            "order": null,
            "overflow": null,
            "overflow_x": null,
            "overflow_y": null,
            "padding": null,
            "right": null,
            "top": null,
            "visibility": null,
            "width": null
          }
        },
        "7d59c0ccab244a36a889f3c80c8fd688": {
          "model_module": "@jupyter-widgets/controls",
          "model_name": "ProgressStyleModel",
          "model_module_version": "1.5.0",
          "state": {
            "_model_module": "@jupyter-widgets/controls",
            "_model_module_version": "1.5.0",
            "_model_name": "ProgressStyleModel",
            "_view_count": null,
            "_view_module": "@jupyter-widgets/base",
            "_view_module_version": "1.2.0",
            "_view_name": "StyleView",
            "bar_color": null,
            "description_width": ""
          }
        },
        "f8ff864a36274f9c9bcc4cf3f603434b": {
          "model_module": "@jupyter-widgets/base",
          "model_name": "LayoutModel",
          "model_module_version": "1.2.0",
          "state": {
            "_model_module": "@jupyter-widgets/base",
            "_model_module_version": "1.2.0",
            "_model_name": "LayoutModel",
            "_view_count": null,
            "_view_module": "@jupyter-widgets/base",
            "_view_module_version": "1.2.0",
            "_view_name": "LayoutView",
            "align_content": null,
            "align_items": null,
            "align_self": null,
            "border": null,
            "bottom": null,
            "display": null,
            "flex": null,
            "flex_flow": null,
            "grid_area": null,
            "grid_auto_columns": null,
            "grid_auto_flow": null,
            "grid_auto_rows": null,
            "grid_column": null,
            "grid_gap": null,
            "grid_row": null,
            "grid_template_areas": null,
            "grid_template_columns": null,
            "grid_template_rows": null,
            "height": null,
            "justify_content": null,
            "justify_items": null,
            "left": null,
            "margin": null,
            "max_height": null,
            "max_width": null,
            "min_height": null,
            "min_width": null,
            "object_fit": null,
            "object_position": null,
            "order": null,
            "overflow": null,
            "overflow_x": null,
            "overflow_y": null,
            "padding": null,
            "right": null,
            "top": null,
            "visibility": null,
            "width": null
          }
        },
        "e708276cc99d471ba658c6b0e9831d03": {
          "model_module": "@jupyter-widgets/controls",
          "model_name": "DescriptionStyleModel",
          "model_module_version": "1.5.0",
          "state": {
            "_model_module": "@jupyter-widgets/controls",
            "_model_module_version": "1.5.0",
            "_model_name": "DescriptionStyleModel",
            "_view_count": null,
            "_view_module": "@jupyter-widgets/base",
            "_view_module_version": "1.2.0",
            "_view_name": "StyleView",
            "description_width": ""
          }
        },
        "2b5f21565a724cdd81945fabb37c8292": {
          "model_module": "@jupyter-widgets/controls",
          "model_name": "HBoxModel",
          "model_module_version": "1.5.0",
          "state": {
            "_dom_classes": [],
            "_model_module": "@jupyter-widgets/controls",
            "_model_module_version": "1.5.0",
            "_model_name": "HBoxModel",
            "_view_count": null,
            "_view_module": "@jupyter-widgets/controls",
            "_view_module_version": "1.5.0",
            "_view_name": "HBoxView",
            "box_style": "",
            "children": [
              "IPY_MODEL_6d09c28b0cf84d59b9a47df9b25a158d",
              "IPY_MODEL_daa2fb9cbaeb4076ac8bb8d6768c3a86",
              "IPY_MODEL_7be8848179f144749d1f49fa096b8259"
            ],
            "layout": "IPY_MODEL_aa6f59a19fc448cbacefb3396790cd10"
          }
        },
        "6d09c28b0cf84d59b9a47df9b25a158d": {
          "model_module": "@jupyter-widgets/controls",
          "model_name": "HTMLModel",
          "model_module_version": "1.5.0",
          "state": {
            "_dom_classes": [],
            "_model_module": "@jupyter-widgets/controls",
            "_model_module_version": "1.5.0",
            "_model_name": "HTMLModel",
            "_view_count": null,
            "_view_module": "@jupyter-widgets/controls",
            "_view_module_version": "1.5.0",
            "_view_name": "HTMLView",
            "description": "",
            "description_tooltip": null,
            "layout": "IPY_MODEL_ca927c1ac59f4218816146803aeaccd4",
            "placeholder": "​",
            "style": "IPY_MODEL_87dd2139c64d412c805da4d994245de5",
            "value": "Downloading data: 100%"
          }
        },
        "daa2fb9cbaeb4076ac8bb8d6768c3a86": {
          "model_module": "@jupyter-widgets/controls",
          "model_name": "FloatProgressModel",
          "model_module_version": "1.5.0",
          "state": {
            "_dom_classes": [],
            "_model_module": "@jupyter-widgets/controls",
            "_model_module_version": "1.5.0",
            "_model_name": "FloatProgressModel",
            "_view_count": null,
            "_view_module": "@jupyter-widgets/controls",
            "_view_module_version": "1.5.0",
            "_view_name": "ProgressView",
            "bar_style": "success",
            "description": "",
            "description_tooltip": null,
            "layout": "IPY_MODEL_be683cac191347c785d35140dcdeb968",
            "max": 1234829,
            "min": 0,
            "orientation": "horizontal",
            "style": "IPY_MODEL_78e35ccd8d724e26a35915737948ec32",
            "value": 1234829
          }
        },
        "7be8848179f144749d1f49fa096b8259": {
          "model_module": "@jupyter-widgets/controls",
          "model_name": "HTMLModel",
          "model_module_version": "1.5.0",
          "state": {
            "_dom_classes": [],
            "_model_module": "@jupyter-widgets/controls",
            "_model_module_version": "1.5.0",
            "_model_name": "HTMLModel",
            "_view_count": null,
            "_view_module": "@jupyter-widgets/controls",
            "_view_module_version": "1.5.0",
            "_view_name": "HTMLView",
            "description": "",
            "description_tooltip": null,
            "layout": "IPY_MODEL_0036a1841ff443b1bf1dfae8d9f83395",
            "placeholder": "​",
            "style": "IPY_MODEL_a287ecf5da6147099f8e2cbb7e0138f0",
            "value": " 1.23M/1.23M [00:00&lt;00:00, 4.43MB/s]"
          }
        },
        "aa6f59a19fc448cbacefb3396790cd10": {
          "model_module": "@jupyter-widgets/base",
          "model_name": "LayoutModel",
          "model_module_version": "1.2.0",
          "state": {
            "_model_module": "@jupyter-widgets/base",
            "_model_module_version": "1.2.0",
            "_model_name": "LayoutModel",
            "_view_count": null,
            "_view_module": "@jupyter-widgets/base",
            "_view_module_version": "1.2.0",
            "_view_name": "LayoutView",
            "align_content": null,
            "align_items": null,
            "align_self": null,
            "border": null,
            "bottom": null,
            "display": null,
            "flex": null,
            "flex_flow": null,
            "grid_area": null,
            "grid_auto_columns": null,
            "grid_auto_flow": null,
            "grid_auto_rows": null,
            "grid_column": null,
            "grid_gap": null,
            "grid_row": null,
            "grid_template_areas": null,
            "grid_template_columns": null,
            "grid_template_rows": null,
            "height": null,
            "justify_content": null,
            "justify_items": null,
            "left": null,
            "margin": null,
            "max_height": null,
            "max_width": null,
            "min_height": null,
            "min_width": null,
            "object_fit": null,
            "object_position": null,
            "order": null,
            "overflow": null,
            "overflow_x": null,
            "overflow_y": null,
            "padding": null,
            "right": null,
            "top": null,
            "visibility": null,
            "width": null
          }
        },
        "ca927c1ac59f4218816146803aeaccd4": {
          "model_module": "@jupyter-widgets/base",
          "model_name": "LayoutModel",
          "model_module_version": "1.2.0",
          "state": {
            "_model_module": "@jupyter-widgets/base",
            "_model_module_version": "1.2.0",
            "_model_name": "LayoutModel",
            "_view_count": null,
            "_view_module": "@jupyter-widgets/base",
            "_view_module_version": "1.2.0",
            "_view_name": "LayoutView",
            "align_content": null,
            "align_items": null,
            "align_self": null,
            "border": null,
            "bottom": null,
            "display": null,
            "flex": null,
            "flex_flow": null,
            "grid_area": null,
            "grid_auto_columns": null,
            "grid_auto_flow": null,
            "grid_auto_rows": null,
            "grid_column": null,
            "grid_gap": null,
            "grid_row": null,
            "grid_template_areas": null,
            "grid_template_columns": null,
            "grid_template_rows": null,
            "height": null,
            "justify_content": null,
            "justify_items": null,
            "left": null,
            "margin": null,
            "max_height": null,
            "max_width": null,
            "min_height": null,
            "min_width": null,
            "object_fit": null,
            "object_position": null,
            "order": null,
            "overflow": null,
            "overflow_x": null,
            "overflow_y": null,
            "padding": null,
            "right": null,
            "top": null,
            "visibility": null,
            "width": null
          }
        },
        "87dd2139c64d412c805da4d994245de5": {
          "model_module": "@jupyter-widgets/controls",
          "model_name": "DescriptionStyleModel",
          "model_module_version": "1.5.0",
          "state": {
            "_model_module": "@jupyter-widgets/controls",
            "_model_module_version": "1.5.0",
            "_model_name": "DescriptionStyleModel",
            "_view_count": null,
            "_view_module": "@jupyter-widgets/base",
            "_view_module_version": "1.2.0",
            "_view_name": "StyleView",
            "description_width": ""
          }
        },
        "be683cac191347c785d35140dcdeb968": {
          "model_module": "@jupyter-widgets/base",
          "model_name": "LayoutModel",
          "model_module_version": "1.2.0",
          "state": {
            "_model_module": "@jupyter-widgets/base",
            "_model_module_version": "1.2.0",
            "_model_name": "LayoutModel",
            "_view_count": null,
            "_view_module": "@jupyter-widgets/base",
            "_view_module_version": "1.2.0",
            "_view_name": "LayoutView",
            "align_content": null,
            "align_items": null,
            "align_self": null,
            "border": null,
            "bottom": null,
            "display": null,
            "flex": null,
            "flex_flow": null,
            "grid_area": null,
            "grid_auto_columns": null,
            "grid_auto_flow": null,
            "grid_auto_rows": null,
            "grid_column": null,
            "grid_gap": null,
            "grid_row": null,
            "grid_template_areas": null,
            "grid_template_columns": null,
            "grid_template_rows": null,
            "height": null,
            "justify_content": null,
            "justify_items": null,
            "left": null,
            "margin": null,
            "max_height": null,
            "max_width": null,
            "min_height": null,
            "min_width": null,
            "object_fit": null,
            "object_position": null,
            "order": null,
            "overflow": null,
            "overflow_x": null,
            "overflow_y": null,
            "padding": null,
            "right": null,
            "top": null,
            "visibility": null,
            "width": null
          }
        },
        "78e35ccd8d724e26a35915737948ec32": {
          "model_module": "@jupyter-widgets/controls",
          "model_name": "ProgressStyleModel",
          "model_module_version": "1.5.0",
          "state": {
            "_model_module": "@jupyter-widgets/controls",
            "_model_module_version": "1.5.0",
            "_model_name": "ProgressStyleModel",
            "_view_count": null,
            "_view_module": "@jupyter-widgets/base",
            "_view_module_version": "1.2.0",
            "_view_name": "StyleView",
            "bar_color": null,
            "description_width": ""
          }
        },
        "0036a1841ff443b1bf1dfae8d9f83395": {
          "model_module": "@jupyter-widgets/base",
          "model_name": "LayoutModel",
          "model_module_version": "1.2.0",
          "state": {
            "_model_module": "@jupyter-widgets/base",
            "_model_module_version": "1.2.0",
            "_model_name": "LayoutModel",
            "_view_count": null,
            "_view_module": "@jupyter-widgets/base",
            "_view_module_version": "1.2.0",
            "_view_name": "LayoutView",
            "align_content": null,
            "align_items": null,
            "align_self": null,
            "border": null,
            "bottom": null,
            "display": null,
            "flex": null,
            "flex_flow": null,
            "grid_area": null,
            "grid_auto_columns": null,
            "grid_auto_flow": null,
            "grid_auto_rows": null,
            "grid_column": null,
            "grid_gap": null,
            "grid_row": null,
            "grid_template_areas": null,
            "grid_template_columns": null,
            "grid_template_rows": null,
            "height": null,
            "justify_content": null,
            "justify_items": null,
            "left": null,
            "margin": null,
            "max_height": null,
            "max_width": null,
            "min_height": null,
            "min_width": null,
            "object_fit": null,
            "object_position": null,
            "order": null,
            "overflow": null,
            "overflow_x": null,
            "overflow_y": null,
            "padding": null,
            "right": null,
            "top": null,
            "visibility": null,
            "width": null
          }
        },
        "a287ecf5da6147099f8e2cbb7e0138f0": {
          "model_module": "@jupyter-widgets/controls",
          "model_name": "DescriptionStyleModel",
          "model_module_version": "1.5.0",
          "state": {
            "_model_module": "@jupyter-widgets/controls",
            "_model_module_version": "1.5.0",
            "_model_name": "DescriptionStyleModel",
            "_view_count": null,
            "_view_module": "@jupyter-widgets/base",
            "_view_module_version": "1.2.0",
            "_view_name": "StyleView",
            "description_width": ""
          }
        },
        "1134edb852644755bab555d6674bf72f": {
          "model_module": "@jupyter-widgets/controls",
          "model_name": "HBoxModel",
          "model_module_version": "1.5.0",
          "state": {
            "_dom_classes": [],
            "_model_module": "@jupyter-widgets/controls",
            "_model_module_version": "1.5.0",
            "_model_name": "HBoxModel",
            "_view_count": null,
            "_view_module": "@jupyter-widgets/controls",
            "_view_module_version": "1.5.0",
            "_view_name": "HBoxView",
            "box_style": "",
            "children": [
              "IPY_MODEL_ce93055515354bf0bdbb494b9818ded3",
              "IPY_MODEL_d24866983c514dc3a1ac67d92f28a8c4",
              "IPY_MODEL_d3e1a4275edb4acdb73847c628882c2f"
            ],
            "layout": "IPY_MODEL_bc4a8e51dca9460db2ed89f61b4884e3"
          }
        },
        "ce93055515354bf0bdbb494b9818ded3": {
          "model_module": "@jupyter-widgets/controls",
          "model_name": "HTMLModel",
          "model_module_version": "1.5.0",
          "state": {
            "_dom_classes": [],
            "_model_module": "@jupyter-widgets/controls",
            "_model_module_version": "1.5.0",
            "_model_name": "HTMLModel",
            "_view_count": null,
            "_view_module": "@jupyter-widgets/controls",
            "_view_module_version": "1.5.0",
            "_view_name": "HTMLView",
            "description": "",
            "description_tooltip": null,
            "layout": "IPY_MODEL_80e3e1ff4c614d5c8fd90b0ecb0a6752",
            "placeholder": "​",
            "style": "IPY_MODEL_d2248ef074ce4d11b25638acba9a26a3",
            "value": "Generating train split: 100%"
          }
        },
        "d24866983c514dc3a1ac67d92f28a8c4": {
          "model_module": "@jupyter-widgets/controls",
          "model_name": "FloatProgressModel",
          "model_module_version": "1.5.0",
          "state": {
            "_dom_classes": [],
            "_model_module": "@jupyter-widgets/controls",
            "_model_module_version": "1.5.0",
            "_model_name": "FloatProgressModel",
            "_view_count": null,
            "_view_module": "@jupyter-widgets/controls",
            "_view_module_version": "1.5.0",
            "_view_name": "ProgressView",
            "bar_style": "success",
            "description": "",
            "description_tooltip": null,
            "layout": "IPY_MODEL_fae70a11ea7547bda521fce8e8f4d5bd",
            "max": 120000,
            "min": 0,
            "orientation": "horizontal",
            "style": "IPY_MODEL_275873ab1a374c2bbb0c8c87397431fd",
            "value": 120000
          }
        },
        "d3e1a4275edb4acdb73847c628882c2f": {
          "model_module": "@jupyter-widgets/controls",
          "model_name": "HTMLModel",
          "model_module_version": "1.5.0",
          "state": {
            "_dom_classes": [],
            "_model_module": "@jupyter-widgets/controls",
            "_model_module_version": "1.5.0",
            "_model_name": "HTMLModel",
            "_view_count": null,
            "_view_module": "@jupyter-widgets/controls",
            "_view_module_version": "1.5.0",
            "_view_name": "HTMLView",
            "description": "",
            "description_tooltip": null,
            "layout": "IPY_MODEL_b9740c91c09142ed8103569d89dd00ca",
            "placeholder": "​",
            "style": "IPY_MODEL_e1f79aa11d404563a3026c183488a756",
            "value": " 120000/120000 [00:00&lt;00:00, 173237.76 examples/s]"
          }
        },
        "bc4a8e51dca9460db2ed89f61b4884e3": {
          "model_module": "@jupyter-widgets/base",
          "model_name": "LayoutModel",
          "model_module_version": "1.2.0",
          "state": {
            "_model_module": "@jupyter-widgets/base",
            "_model_module_version": "1.2.0",
            "_model_name": "LayoutModel",
            "_view_count": null,
            "_view_module": "@jupyter-widgets/base",
            "_view_module_version": "1.2.0",
            "_view_name": "LayoutView",
            "align_content": null,
            "align_items": null,
            "align_self": null,
            "border": null,
            "bottom": null,
            "display": null,
            "flex": null,
            "flex_flow": null,
            "grid_area": null,
            "grid_auto_columns": null,
            "grid_auto_flow": null,
            "grid_auto_rows": null,
            "grid_column": null,
            "grid_gap": null,
            "grid_row": null,
            "grid_template_areas": null,
            "grid_template_columns": null,
            "grid_template_rows": null,
            "height": null,
            "justify_content": null,
            "justify_items": null,
            "left": null,
            "margin": null,
            "max_height": null,
            "max_width": null,
            "min_height": null,
            "min_width": null,
            "object_fit": null,
            "object_position": null,
            "order": null,
            "overflow": null,
            "overflow_x": null,
            "overflow_y": null,
            "padding": null,
            "right": null,
            "top": null,
            "visibility": null,
            "width": null
          }
        },
        "80e3e1ff4c614d5c8fd90b0ecb0a6752": {
          "model_module": "@jupyter-widgets/base",
          "model_name": "LayoutModel",
          "model_module_version": "1.2.0",
          "state": {
            "_model_module": "@jupyter-widgets/base",
            "_model_module_version": "1.2.0",
            "_model_name": "LayoutModel",
            "_view_count": null,
            "_view_module": "@jupyter-widgets/base",
            "_view_module_version": "1.2.0",
            "_view_name": "LayoutView",
            "align_content": null,
            "align_items": null,
            "align_self": null,
            "border": null,
            "bottom": null,
            "display": null,
            "flex": null,
            "flex_flow": null,
            "grid_area": null,
            "grid_auto_columns": null,
            "grid_auto_flow": null,
            "grid_auto_rows": null,
            "grid_column": null,
            "grid_gap": null,
            "grid_row": null,
            "grid_template_areas": null,
            "grid_template_columns": null,
            "grid_template_rows": null,
            "height": null,
            "justify_content": null,
            "justify_items": null,
            "left": null,
            "margin": null,
            "max_height": null,
            "max_width": null,
            "min_height": null,
            "min_width": null,
            "object_fit": null,
            "object_position": null,
            "order": null,
            "overflow": null,
            "overflow_x": null,
            "overflow_y": null,
            "padding": null,
            "right": null,
            "top": null,
            "visibility": null,
            "width": null
          }
        },
        "d2248ef074ce4d11b25638acba9a26a3": {
          "model_module": "@jupyter-widgets/controls",
          "model_name": "DescriptionStyleModel",
          "model_module_version": "1.5.0",
          "state": {
            "_model_module": "@jupyter-widgets/controls",
            "_model_module_version": "1.5.0",
            "_model_name": "DescriptionStyleModel",
            "_view_count": null,
            "_view_module": "@jupyter-widgets/base",
            "_view_module_version": "1.2.0",
            "_view_name": "StyleView",
            "description_width": ""
          }
        },
        "fae70a11ea7547bda521fce8e8f4d5bd": {
          "model_module": "@jupyter-widgets/base",
          "model_name": "LayoutModel",
          "model_module_version": "1.2.0",
          "state": {
            "_model_module": "@jupyter-widgets/base",
            "_model_module_version": "1.2.0",
            "_model_name": "LayoutModel",
            "_view_count": null,
            "_view_module": "@jupyter-widgets/base",
            "_view_module_version": "1.2.0",
            "_view_name": "LayoutView",
            "align_content": null,
            "align_items": null,
            "align_self": null,
            "border": null,
            "bottom": null,
            "display": null,
            "flex": null,
            "flex_flow": null,
            "grid_area": null,
            "grid_auto_columns": null,
            "grid_auto_flow": null,
            "grid_auto_rows": null,
            "grid_column": null,
            "grid_gap": null,
            "grid_row": null,
            "grid_template_areas": null,
            "grid_template_columns": null,
            "grid_template_rows": null,
            "height": null,
            "justify_content": null,
            "justify_items": null,
            "left": null,
            "margin": null,
            "max_height": null,
            "max_width": null,
            "min_height": null,
            "min_width": null,
            "object_fit": null,
            "object_position": null,
            "order": null,
            "overflow": null,
            "overflow_x": null,
            "overflow_y": null,
            "padding": null,
            "right": null,
            "top": null,
            "visibility": null,
            "width": null
          }
        },
        "275873ab1a374c2bbb0c8c87397431fd": {
          "model_module": "@jupyter-widgets/controls",
          "model_name": "ProgressStyleModel",
          "model_module_version": "1.5.0",
          "state": {
            "_model_module": "@jupyter-widgets/controls",
            "_model_module_version": "1.5.0",
            "_model_name": "ProgressStyleModel",
            "_view_count": null,
            "_view_module": "@jupyter-widgets/base",
            "_view_module_version": "1.2.0",
            "_view_name": "StyleView",
            "bar_color": null,
            "description_width": ""
          }
        },
        "b9740c91c09142ed8103569d89dd00ca": {
          "model_module": "@jupyter-widgets/base",
          "model_name": "LayoutModel",
          "model_module_version": "1.2.0",
          "state": {
            "_model_module": "@jupyter-widgets/base",
            "_model_module_version": "1.2.0",
            "_model_name": "LayoutModel",
            "_view_count": null,
            "_view_module": "@jupyter-widgets/base",
            "_view_module_version": "1.2.0",
            "_view_name": "LayoutView",
            "align_content": null,
            "align_items": null,
            "align_self": null,
            "border": null,
            "bottom": null,
            "display": null,
            "flex": null,
            "flex_flow": null,
            "grid_area": null,
            "grid_auto_columns": null,
            "grid_auto_flow": null,
            "grid_auto_rows": null,
            "grid_column": null,
            "grid_gap": null,
            "grid_row": null,
            "grid_template_areas": null,
            "grid_template_columns": null,
            "grid_template_rows": null,
            "height": null,
            "justify_content": null,
            "justify_items": null,
            "left": null,
            "margin": null,
            "max_height": null,
            "max_width": null,
            "min_height": null,
            "min_width": null,
            "object_fit": null,
            "object_position": null,
            "order": null,
            "overflow": null,
            "overflow_x": null,
            "overflow_y": null,
            "padding": null,
            "right": null,
            "top": null,
            "visibility": null,
            "width": null
          }
        },
        "e1f79aa11d404563a3026c183488a756": {
          "model_module": "@jupyter-widgets/controls",
          "model_name": "DescriptionStyleModel",
          "model_module_version": "1.5.0",
          "state": {
            "_model_module": "@jupyter-widgets/controls",
            "_model_module_version": "1.5.0",
            "_model_name": "DescriptionStyleModel",
            "_view_count": null,
            "_view_module": "@jupyter-widgets/base",
            "_view_module_version": "1.2.0",
            "_view_name": "StyleView",
            "description_width": ""
          }
        },
        "b6b07035788845dfaefaf255295a702b": {
          "model_module": "@jupyter-widgets/controls",
          "model_name": "HBoxModel",
          "model_module_version": "1.5.0",
          "state": {
            "_dom_classes": [],
            "_model_module": "@jupyter-widgets/controls",
            "_model_module_version": "1.5.0",
            "_model_name": "HBoxModel",
            "_view_count": null,
            "_view_module": "@jupyter-widgets/controls",
            "_view_module_version": "1.5.0",
            "_view_name": "HBoxView",
            "box_style": "",
            "children": [
              "IPY_MODEL_7c3e83f3853840dc921e1997b4a424ff",
              "IPY_MODEL_a5042c4d206f4ac3a726bc30b73ebf7f",
              "IPY_MODEL_63bb15e16c5044b9b9dcec2b9339fda5"
            ],
            "layout": "IPY_MODEL_7eae54c22cfc40f78301c1b1c621e4bf"
          }
        },
        "7c3e83f3853840dc921e1997b4a424ff": {
          "model_module": "@jupyter-widgets/controls",
          "model_name": "HTMLModel",
          "model_module_version": "1.5.0",
          "state": {
            "_dom_classes": [],
            "_model_module": "@jupyter-widgets/controls",
            "_model_module_version": "1.5.0",
            "_model_name": "HTMLModel",
            "_view_count": null,
            "_view_module": "@jupyter-widgets/controls",
            "_view_module_version": "1.5.0",
            "_view_name": "HTMLView",
            "description": "",
            "description_tooltip": null,
            "layout": "IPY_MODEL_231f0b02cab541a1a6bf2e6a4dda8fff",
            "placeholder": "​",
            "style": "IPY_MODEL_9612974c41f0490dae42597634743895",
            "value": "Generating test split: 100%"
          }
        },
        "a5042c4d206f4ac3a726bc30b73ebf7f": {
          "model_module": "@jupyter-widgets/controls",
          "model_name": "FloatProgressModel",
          "model_module_version": "1.5.0",
          "state": {
            "_dom_classes": [],
            "_model_module": "@jupyter-widgets/controls",
            "_model_module_version": "1.5.0",
            "_model_name": "FloatProgressModel",
            "_view_count": null,
            "_view_module": "@jupyter-widgets/controls",
            "_view_module_version": "1.5.0",
            "_view_name": "ProgressView",
            "bar_style": "success",
            "description": "",
            "description_tooltip": null,
            "layout": "IPY_MODEL_0e894539812f4116a428cc4a65f6c5f4",
            "max": 7600,
            "min": 0,
            "orientation": "horizontal",
            "style": "IPY_MODEL_bb43c5a3f1624b7195c751af3a51e2c0",
            "value": 7600
          }
        },
        "63bb15e16c5044b9b9dcec2b9339fda5": {
          "model_module": "@jupyter-widgets/controls",
          "model_name": "HTMLModel",
          "model_module_version": "1.5.0",
          "state": {
            "_dom_classes": [],
            "_model_module": "@jupyter-widgets/controls",
            "_model_module_version": "1.5.0",
            "_model_name": "HTMLModel",
            "_view_count": null,
            "_view_module": "@jupyter-widgets/controls",
            "_view_module_version": "1.5.0",
            "_view_name": "HTMLView",
            "description": "",
            "description_tooltip": null,
            "layout": "IPY_MODEL_68e308a1ebc84327a85202b3d19b2974",
            "placeholder": "​",
            "style": "IPY_MODEL_7d872eb79460428cb11636f3d2f6033a",
            "value": " 7600/7600 [00:00&lt;00:00, 85356.46 examples/s]"
          }
        },
        "7eae54c22cfc40f78301c1b1c621e4bf": {
          "model_module": "@jupyter-widgets/base",
          "model_name": "LayoutModel",
          "model_module_version": "1.2.0",
          "state": {
            "_model_module": "@jupyter-widgets/base",
            "_model_module_version": "1.2.0",
            "_model_name": "LayoutModel",
            "_view_count": null,
            "_view_module": "@jupyter-widgets/base",
            "_view_module_version": "1.2.0",
            "_view_name": "LayoutView",
            "align_content": null,
            "align_items": null,
            "align_self": null,
            "border": null,
            "bottom": null,
            "display": null,
            "flex": null,
            "flex_flow": null,
            "grid_area": null,
            "grid_auto_columns": null,
            "grid_auto_flow": null,
            "grid_auto_rows": null,
            "grid_column": null,
            "grid_gap": null,
            "grid_row": null,
            "grid_template_areas": null,
            "grid_template_columns": null,
            "grid_template_rows": null,
            "height": null,
            "justify_content": null,
            "justify_items": null,
            "left": null,
            "margin": null,
            "max_height": null,
            "max_width": null,
            "min_height": null,
            "min_width": null,
            "object_fit": null,
            "object_position": null,
            "order": null,
            "overflow": null,
            "overflow_x": null,
            "overflow_y": null,
            "padding": null,
            "right": null,
            "top": null,
            "visibility": null,
            "width": null
          }
        },
        "231f0b02cab541a1a6bf2e6a4dda8fff": {
          "model_module": "@jupyter-widgets/base",
          "model_name": "LayoutModel",
          "model_module_version": "1.2.0",
          "state": {
            "_model_module": "@jupyter-widgets/base",
            "_model_module_version": "1.2.0",
            "_model_name": "LayoutModel",
            "_view_count": null,
            "_view_module": "@jupyter-widgets/base",
            "_view_module_version": "1.2.0",
            "_view_name": "LayoutView",
            "align_content": null,
            "align_items": null,
            "align_self": null,
            "border": null,
            "bottom": null,
            "display": null,
            "flex": null,
            "flex_flow": null,
            "grid_area": null,
            "grid_auto_columns": null,
            "grid_auto_flow": null,
            "grid_auto_rows": null,
            "grid_column": null,
            "grid_gap": null,
            "grid_row": null,
            "grid_template_areas": null,
            "grid_template_columns": null,
            "grid_template_rows": null,
            "height": null,
            "justify_content": null,
            "justify_items": null,
            "left": null,
            "margin": null,
            "max_height": null,
            "max_width": null,
            "min_height": null,
            "min_width": null,
            "object_fit": null,
            "object_position": null,
            "order": null,
            "overflow": null,
            "overflow_x": null,
            "overflow_y": null,
            "padding": null,
            "right": null,
            "top": null,
            "visibility": null,
            "width": null
          }
        },
        "9612974c41f0490dae42597634743895": {
          "model_module": "@jupyter-widgets/controls",
          "model_name": "DescriptionStyleModel",
          "model_module_version": "1.5.0",
          "state": {
            "_model_module": "@jupyter-widgets/controls",
            "_model_module_version": "1.5.0",
            "_model_name": "DescriptionStyleModel",
            "_view_count": null,
            "_view_module": "@jupyter-widgets/base",
            "_view_module_version": "1.2.0",
            "_view_name": "StyleView",
            "description_width": ""
          }
        },
        "0e894539812f4116a428cc4a65f6c5f4": {
          "model_module": "@jupyter-widgets/base",
          "model_name": "LayoutModel",
          "model_module_version": "1.2.0",
          "state": {
            "_model_module": "@jupyter-widgets/base",
            "_model_module_version": "1.2.0",
            "_model_name": "LayoutModel",
            "_view_count": null,
            "_view_module": "@jupyter-widgets/base",
            "_view_module_version": "1.2.0",
            "_view_name": "LayoutView",
            "align_content": null,
            "align_items": null,
            "align_self": null,
            "border": null,
            "bottom": null,
            "display": null,
            "flex": null,
            "flex_flow": null,
            "grid_area": null,
            "grid_auto_columns": null,
            "grid_auto_flow": null,
            "grid_auto_rows": null,
            "grid_column": null,
            "grid_gap": null,
            "grid_row": null,
            "grid_template_areas": null,
            "grid_template_columns": null,
            "grid_template_rows": null,
            "height": null,
            "justify_content": null,
            "justify_items": null,
            "left": null,
            "margin": null,
            "max_height": null,
            "max_width": null,
            "min_height": null,
            "min_width": null,
            "object_fit": null,
            "object_position": null,
            "order": null,
            "overflow": null,
            "overflow_x": null,
            "overflow_y": null,
            "padding": null,
            "right": null,
            "top": null,
            "visibility": null,
            "width": null
          }
        },
        "bb43c5a3f1624b7195c751af3a51e2c0": {
          "model_module": "@jupyter-widgets/controls",
          "model_name": "ProgressStyleModel",
          "model_module_version": "1.5.0",
          "state": {
            "_model_module": "@jupyter-widgets/controls",
            "_model_module_version": "1.5.0",
            "_model_name": "ProgressStyleModel",
            "_view_count": null,
            "_view_module": "@jupyter-widgets/base",
            "_view_module_version": "1.2.0",
            "_view_name": "StyleView",
            "bar_color": null,
            "description_width": ""
          }
        },
        "68e308a1ebc84327a85202b3d19b2974": {
          "model_module": "@jupyter-widgets/base",
          "model_name": "LayoutModel",
          "model_module_version": "1.2.0",
          "state": {
            "_model_module": "@jupyter-widgets/base",
            "_model_module_version": "1.2.0",
            "_model_name": "LayoutModel",
            "_view_count": null,
            "_view_module": "@jupyter-widgets/base",
            "_view_module_version": "1.2.0",
            "_view_name": "LayoutView",
            "align_content": null,
            "align_items": null,
            "align_self": null,
            "border": null,
            "bottom": null,
            "display": null,
            "flex": null,
            "flex_flow": null,
            "grid_area": null,
            "grid_auto_columns": null,
            "grid_auto_flow": null,
            "grid_auto_rows": null,
            "grid_column": null,
            "grid_gap": null,
            "grid_row": null,
            "grid_template_areas": null,
            "grid_template_columns": null,
            "grid_template_rows": null,
            "height": null,
            "justify_content": null,
            "justify_items": null,
            "left": null,
            "margin": null,
            "max_height": null,
            "max_width": null,
            "min_height": null,
            "min_width": null,
            "object_fit": null,
            "object_position": null,
            "order": null,
            "overflow": null,
            "overflow_x": null,
            "overflow_y": null,
            "padding": null,
            "right": null,
            "top": null,
            "visibility": null,
            "width": null
          }
        },
        "7d872eb79460428cb11636f3d2f6033a": {
          "model_module": "@jupyter-widgets/controls",
          "model_name": "DescriptionStyleModel",
          "model_module_version": "1.5.0",
          "state": {
            "_model_module": "@jupyter-widgets/controls",
            "_model_module_version": "1.5.0",
            "_model_name": "DescriptionStyleModel",
            "_view_count": null,
            "_view_module": "@jupyter-widgets/base",
            "_view_module_version": "1.2.0",
            "_view_name": "StyleView",
            "description_width": ""
          }
        },
        "5272ab348a39405fb78e8e57125d3269": {
          "model_module": "@jupyter-widgets/controls",
          "model_name": "HBoxModel",
          "model_module_version": "1.5.0",
          "state": {
            "_dom_classes": [],
            "_model_module": "@jupyter-widgets/controls",
            "_model_module_version": "1.5.0",
            "_model_name": "HBoxModel",
            "_view_count": null,
            "_view_module": "@jupyter-widgets/controls",
            "_view_module_version": "1.5.0",
            "_view_name": "HBoxView",
            "box_style": "",
            "children": [
              "IPY_MODEL_bc6ecafb225345309215c587d0553934",
              "IPY_MODEL_84017cc6f8224313a1bc0f92e9b82b6d",
              "IPY_MODEL_58e16dfb8c9844468743db5ad4d9084a"
            ],
            "layout": "IPY_MODEL_37b144b39e4f4e8f85e86f3cdceca50c"
          }
        },
        "bc6ecafb225345309215c587d0553934": {
          "model_module": "@jupyter-widgets/controls",
          "model_name": "HTMLModel",
          "model_module_version": "1.5.0",
          "state": {
            "_dom_classes": [],
            "_model_module": "@jupyter-widgets/controls",
            "_model_module_version": "1.5.0",
            "_model_name": "HTMLModel",
            "_view_count": null,
            "_view_module": "@jupyter-widgets/controls",
            "_view_module_version": "1.5.0",
            "_view_name": "HTMLView",
            "description": "",
            "description_tooltip": null,
            "layout": "IPY_MODEL_4330cb5c0d2740f8828062d3650a13d1",
            "placeholder": "​",
            "style": "IPY_MODEL_b0bed90dea6d43ae9101d1f063c1c2b9",
            "value": "Map: 100%"
          }
        },
        "84017cc6f8224313a1bc0f92e9b82b6d": {
          "model_module": "@jupyter-widgets/controls",
          "model_name": "FloatProgressModel",
          "model_module_version": "1.5.0",
          "state": {
            "_dom_classes": [],
            "_model_module": "@jupyter-widgets/controls",
            "_model_module_version": "1.5.0",
            "_model_name": "FloatProgressModel",
            "_view_count": null,
            "_view_module": "@jupyter-widgets/controls",
            "_view_module_version": "1.5.0",
            "_view_name": "ProgressView",
            "bar_style": "success",
            "description": "",
            "description_tooltip": null,
            "layout": "IPY_MODEL_70e2440962b54d8aaf060d09fc8594e0",
            "max": 120000,
            "min": 0,
            "orientation": "horizontal",
            "style": "IPY_MODEL_4d709a8eed0a4e62994a5401bd3b8517",
            "value": 120000
          }
        },
        "58e16dfb8c9844468743db5ad4d9084a": {
          "model_module": "@jupyter-widgets/controls",
          "model_name": "HTMLModel",
          "model_module_version": "1.5.0",
          "state": {
            "_dom_classes": [],
            "_model_module": "@jupyter-widgets/controls",
            "_model_module_version": "1.5.0",
            "_model_name": "HTMLModel",
            "_view_count": null,
            "_view_module": "@jupyter-widgets/controls",
            "_view_module_version": "1.5.0",
            "_view_name": "HTMLView",
            "description": "",
            "description_tooltip": null,
            "layout": "IPY_MODEL_079ea6b587d74ff8afa43cc939a6265c",
            "placeholder": "​",
            "style": "IPY_MODEL_b12b8223649746098ae0322468de7370",
            "value": " 120000/120000 [00:10&lt;00:00, 14903.80 examples/s]"
          }
        },
        "37b144b39e4f4e8f85e86f3cdceca50c": {
          "model_module": "@jupyter-widgets/base",
          "model_name": "LayoutModel",
          "model_module_version": "1.2.0",
          "state": {
            "_model_module": "@jupyter-widgets/base",
            "_model_module_version": "1.2.0",
            "_model_name": "LayoutModel",
            "_view_count": null,
            "_view_module": "@jupyter-widgets/base",
            "_view_module_version": "1.2.0",
            "_view_name": "LayoutView",
            "align_content": null,
            "align_items": null,
            "align_self": null,
            "border": null,
            "bottom": null,
            "display": null,
            "flex": null,
            "flex_flow": null,
            "grid_area": null,
            "grid_auto_columns": null,
            "grid_auto_flow": null,
            "grid_auto_rows": null,
            "grid_column": null,
            "grid_gap": null,
            "grid_row": null,
            "grid_template_areas": null,
            "grid_template_columns": null,
            "grid_template_rows": null,
            "height": null,
            "justify_content": null,
            "justify_items": null,
            "left": null,
            "margin": null,
            "max_height": null,
            "max_width": null,
            "min_height": null,
            "min_width": null,
            "object_fit": null,
            "object_position": null,
            "order": null,
            "overflow": null,
            "overflow_x": null,
            "overflow_y": null,
            "padding": null,
            "right": null,
            "top": null,
            "visibility": null,
            "width": null
          }
        },
        "4330cb5c0d2740f8828062d3650a13d1": {
          "model_module": "@jupyter-widgets/base",
          "model_name": "LayoutModel",
          "model_module_version": "1.2.0",
          "state": {
            "_model_module": "@jupyter-widgets/base",
            "_model_module_version": "1.2.0",
            "_model_name": "LayoutModel",
            "_view_count": null,
            "_view_module": "@jupyter-widgets/base",
            "_view_module_version": "1.2.0",
            "_view_name": "LayoutView",
            "align_content": null,
            "align_items": null,
            "align_self": null,
            "border": null,
            "bottom": null,
            "display": null,
            "flex": null,
            "flex_flow": null,
            "grid_area": null,
            "grid_auto_columns": null,
            "grid_auto_flow": null,
            "grid_auto_rows": null,
            "grid_column": null,
            "grid_gap": null,
            "grid_row": null,
            "grid_template_areas": null,
            "grid_template_columns": null,
            "grid_template_rows": null,
            "height": null,
            "justify_content": null,
            "justify_items": null,
            "left": null,
            "margin": null,
            "max_height": null,
            "max_width": null,
            "min_height": null,
            "min_width": null,
            "object_fit": null,
            "object_position": null,
            "order": null,
            "overflow": null,
            "overflow_x": null,
            "overflow_y": null,
            "padding": null,
            "right": null,
            "top": null,
            "visibility": null,
            "width": null
          }
        },
        "b0bed90dea6d43ae9101d1f063c1c2b9": {
          "model_module": "@jupyter-widgets/controls",
          "model_name": "DescriptionStyleModel",
          "model_module_version": "1.5.0",
          "state": {
            "_model_module": "@jupyter-widgets/controls",
            "_model_module_version": "1.5.0",
            "_model_name": "DescriptionStyleModel",
            "_view_count": null,
            "_view_module": "@jupyter-widgets/base",
            "_view_module_version": "1.2.0",
            "_view_name": "StyleView",
            "description_width": ""
          }
        },
        "70e2440962b54d8aaf060d09fc8594e0": {
          "model_module": "@jupyter-widgets/base",
          "model_name": "LayoutModel",
          "model_module_version": "1.2.0",
          "state": {
            "_model_module": "@jupyter-widgets/base",
            "_model_module_version": "1.2.0",
            "_model_name": "LayoutModel",
            "_view_count": null,
            "_view_module": "@jupyter-widgets/base",
            "_view_module_version": "1.2.0",
            "_view_name": "LayoutView",
            "align_content": null,
            "align_items": null,
            "align_self": null,
            "border": null,
            "bottom": null,
            "display": null,
            "flex": null,
            "flex_flow": null,
            "grid_area": null,
            "grid_auto_columns": null,
            "grid_auto_flow": null,
            "grid_auto_rows": null,
            "grid_column": null,
            "grid_gap": null,
            "grid_row": null,
            "grid_template_areas": null,
            "grid_template_columns": null,
            "grid_template_rows": null,
            "height": null,
            "justify_content": null,
            "justify_items": null,
            "left": null,
            "margin": null,
            "max_height": null,
            "max_width": null,
            "min_height": null,
            "min_width": null,
            "object_fit": null,
            "object_position": null,
            "order": null,
            "overflow": null,
            "overflow_x": null,
            "overflow_y": null,
            "padding": null,
            "right": null,
            "top": null,
            "visibility": null,
            "width": null
          }
        },
        "4d709a8eed0a4e62994a5401bd3b8517": {
          "model_module": "@jupyter-widgets/controls",
          "model_name": "ProgressStyleModel",
          "model_module_version": "1.5.0",
          "state": {
            "_model_module": "@jupyter-widgets/controls",
            "_model_module_version": "1.5.0",
            "_model_name": "ProgressStyleModel",
            "_view_count": null,
            "_view_module": "@jupyter-widgets/base",
            "_view_module_version": "1.2.0",
            "_view_name": "StyleView",
            "bar_color": null,
            "description_width": ""
          }
        },
        "079ea6b587d74ff8afa43cc939a6265c": {
          "model_module": "@jupyter-widgets/base",
          "model_name": "LayoutModel",
          "model_module_version": "1.2.0",
          "state": {
            "_model_module": "@jupyter-widgets/base",
            "_model_module_version": "1.2.0",
            "_model_name": "LayoutModel",
            "_view_count": null,
            "_view_module": "@jupyter-widgets/base",
            "_view_module_version": "1.2.0",
            "_view_name": "LayoutView",
            "align_content": null,
            "align_items": null,
            "align_self": null,
            "border": null,
            "bottom": null,
            "display": null,
            "flex": null,
            "flex_flow": null,
            "grid_area": null,
            "grid_auto_columns": null,
            "grid_auto_flow": null,
            "grid_auto_rows": null,
            "grid_column": null,
            "grid_gap": null,
            "grid_row": null,
            "grid_template_areas": null,
            "grid_template_columns": null,
            "grid_template_rows": null,
            "height": null,
            "justify_content": null,
            "justify_items": null,
            "left": null,
            "margin": null,
            "max_height": null,
            "max_width": null,
            "min_height": null,
            "min_width": null,
            "object_fit": null,
            "object_position": null,
            "order": null,
            "overflow": null,
            "overflow_x": null,
            "overflow_y": null,
            "padding": null,
            "right": null,
            "top": null,
            "visibility": null,
            "width": null
          }
        },
        "b12b8223649746098ae0322468de7370": {
          "model_module": "@jupyter-widgets/controls",
          "model_name": "DescriptionStyleModel",
          "model_module_version": "1.5.0",
          "state": {
            "_model_module": "@jupyter-widgets/controls",
            "_model_module_version": "1.5.0",
            "_model_name": "DescriptionStyleModel",
            "_view_count": null,
            "_view_module": "@jupyter-widgets/base",
            "_view_module_version": "1.2.0",
            "_view_name": "StyleView",
            "description_width": ""
          }
        },
        "9a30e0a33f9741de9bc3bb867b2e7881": {
          "model_module": "@jupyter-widgets/controls",
          "model_name": "HBoxModel",
          "model_module_version": "1.5.0",
          "state": {
            "_dom_classes": [],
            "_model_module": "@jupyter-widgets/controls",
            "_model_module_version": "1.5.0",
            "_model_name": "HBoxModel",
            "_view_count": null,
            "_view_module": "@jupyter-widgets/controls",
            "_view_module_version": "1.5.0",
            "_view_name": "HBoxView",
            "box_style": "",
            "children": [
              "IPY_MODEL_0d350135d67549889ef3bf4291f08ce0",
              "IPY_MODEL_6b0d2c33bc2e4f45963a270b9511467c",
              "IPY_MODEL_73e6874321564ae1933d383af641d422"
            ],
            "layout": "IPY_MODEL_7189bf7176884ffbab37e2b27d646a3a"
          }
        },
        "0d350135d67549889ef3bf4291f08ce0": {
          "model_module": "@jupyter-widgets/controls",
          "model_name": "HTMLModel",
          "model_module_version": "1.5.0",
          "state": {
            "_dom_classes": [],
            "_model_module": "@jupyter-widgets/controls",
            "_model_module_version": "1.5.0",
            "_model_name": "HTMLModel",
            "_view_count": null,
            "_view_module": "@jupyter-widgets/controls",
            "_view_module_version": "1.5.0",
            "_view_name": "HTMLView",
            "description": "",
            "description_tooltip": null,
            "layout": "IPY_MODEL_4ace206454bc41b6a203152b53bf05c6",
            "placeholder": "​",
            "style": "IPY_MODEL_d7c1c8cd9d3c4b35afd1d658790ad66f",
            "value": "tokenizer_config.json: 100%"
          }
        },
        "6b0d2c33bc2e4f45963a270b9511467c": {
          "model_module": "@jupyter-widgets/controls",
          "model_name": "FloatProgressModel",
          "model_module_version": "1.5.0",
          "state": {
            "_dom_classes": [],
            "_model_module": "@jupyter-widgets/controls",
            "_model_module_version": "1.5.0",
            "_model_name": "FloatProgressModel",
            "_view_count": null,
            "_view_module": "@jupyter-widgets/controls",
            "_view_module_version": "1.5.0",
            "_view_name": "ProgressView",
            "bar_style": "success",
            "description": "",
            "description_tooltip": null,
            "layout": "IPY_MODEL_2237c02d9f1f424e914c681eb36257cc",
            "max": 26,
            "min": 0,
            "orientation": "horizontal",
            "style": "IPY_MODEL_ade0d8fdd5684092b190c85735511161",
            "value": 26
          }
        },
        "73e6874321564ae1933d383af641d422": {
          "model_module": "@jupyter-widgets/controls",
          "model_name": "HTMLModel",
          "model_module_version": "1.5.0",
          "state": {
            "_dom_classes": [],
            "_model_module": "@jupyter-widgets/controls",
            "_model_module_version": "1.5.0",
            "_model_name": "HTMLModel",
            "_view_count": null,
            "_view_module": "@jupyter-widgets/controls",
            "_view_module_version": "1.5.0",
            "_view_name": "HTMLView",
            "description": "",
            "description_tooltip": null,
            "layout": "IPY_MODEL_a9438c1c0ace4bf194de142a99550309",
            "placeholder": "​",
            "style": "IPY_MODEL_8a27faa7e6eb44a09668a2468f071f20",
            "value": " 26.0/26.0 [00:00&lt;00:00, 733B/s]"
          }
        },
        "7189bf7176884ffbab37e2b27d646a3a": {
          "model_module": "@jupyter-widgets/base",
          "model_name": "LayoutModel",
          "model_module_version": "1.2.0",
          "state": {
            "_model_module": "@jupyter-widgets/base",
            "_model_module_version": "1.2.0",
            "_model_name": "LayoutModel",
            "_view_count": null,
            "_view_module": "@jupyter-widgets/base",
            "_view_module_version": "1.2.0",
            "_view_name": "LayoutView",
            "align_content": null,
            "align_items": null,
            "align_self": null,
            "border": null,
            "bottom": null,
            "display": null,
            "flex": null,
            "flex_flow": null,
            "grid_area": null,
            "grid_auto_columns": null,
            "grid_auto_flow": null,
            "grid_auto_rows": null,
            "grid_column": null,
            "grid_gap": null,
            "grid_row": null,
            "grid_template_areas": null,
            "grid_template_columns": null,
            "grid_template_rows": null,
            "height": null,
            "justify_content": null,
            "justify_items": null,
            "left": null,
            "margin": null,
            "max_height": null,
            "max_width": null,
            "min_height": null,
            "min_width": null,
            "object_fit": null,
            "object_position": null,
            "order": null,
            "overflow": null,
            "overflow_x": null,
            "overflow_y": null,
            "padding": null,
            "right": null,
            "top": null,
            "visibility": null,
            "width": null
          }
        },
        "4ace206454bc41b6a203152b53bf05c6": {
          "model_module": "@jupyter-widgets/base",
          "model_name": "LayoutModel",
          "model_module_version": "1.2.0",
          "state": {
            "_model_module": "@jupyter-widgets/base",
            "_model_module_version": "1.2.0",
            "_model_name": "LayoutModel",
            "_view_count": null,
            "_view_module": "@jupyter-widgets/base",
            "_view_module_version": "1.2.0",
            "_view_name": "LayoutView",
            "align_content": null,
            "align_items": null,
            "align_self": null,
            "border": null,
            "bottom": null,
            "display": null,
            "flex": null,
            "flex_flow": null,
            "grid_area": null,
            "grid_auto_columns": null,
            "grid_auto_flow": null,
            "grid_auto_rows": null,
            "grid_column": null,
            "grid_gap": null,
            "grid_row": null,
            "grid_template_areas": null,
            "grid_template_columns": null,
            "grid_template_rows": null,
            "height": null,
            "justify_content": null,
            "justify_items": null,
            "left": null,
            "margin": null,
            "max_height": null,
            "max_width": null,
            "min_height": null,
            "min_width": null,
            "object_fit": null,
            "object_position": null,
            "order": null,
            "overflow": null,
            "overflow_x": null,
            "overflow_y": null,
            "padding": null,
            "right": null,
            "top": null,
            "visibility": null,
            "width": null
          }
        },
        "d7c1c8cd9d3c4b35afd1d658790ad66f": {
          "model_module": "@jupyter-widgets/controls",
          "model_name": "DescriptionStyleModel",
          "model_module_version": "1.5.0",
          "state": {
            "_model_module": "@jupyter-widgets/controls",
            "_model_module_version": "1.5.0",
            "_model_name": "DescriptionStyleModel",
            "_view_count": null,
            "_view_module": "@jupyter-widgets/base",
            "_view_module_version": "1.2.0",
            "_view_name": "StyleView",
            "description_width": ""
          }
        },
        "2237c02d9f1f424e914c681eb36257cc": {
          "model_module": "@jupyter-widgets/base",
          "model_name": "LayoutModel",
          "model_module_version": "1.2.0",
          "state": {
            "_model_module": "@jupyter-widgets/base",
            "_model_module_version": "1.2.0",
            "_model_name": "LayoutModel",
            "_view_count": null,
            "_view_module": "@jupyter-widgets/base",
            "_view_module_version": "1.2.0",
            "_view_name": "LayoutView",
            "align_content": null,
            "align_items": null,
            "align_self": null,
            "border": null,
            "bottom": null,
            "display": null,
            "flex": null,
            "flex_flow": null,
            "grid_area": null,
            "grid_auto_columns": null,
            "grid_auto_flow": null,
            "grid_auto_rows": null,
            "grid_column": null,
            "grid_gap": null,
            "grid_row": null,
            "grid_template_areas": null,
            "grid_template_columns": null,
            "grid_template_rows": null,
            "height": null,
            "justify_content": null,
            "justify_items": null,
            "left": null,
            "margin": null,
            "max_height": null,
            "max_width": null,
            "min_height": null,
            "min_width": null,
            "object_fit": null,
            "object_position": null,
            "order": null,
            "overflow": null,
            "overflow_x": null,
            "overflow_y": null,
            "padding": null,
            "right": null,
            "top": null,
            "visibility": null,
            "width": null
          }
        },
        "ade0d8fdd5684092b190c85735511161": {
          "model_module": "@jupyter-widgets/controls",
          "model_name": "ProgressStyleModel",
          "model_module_version": "1.5.0",
          "state": {
            "_model_module": "@jupyter-widgets/controls",
            "_model_module_version": "1.5.0",
            "_model_name": "ProgressStyleModel",
            "_view_count": null,
            "_view_module": "@jupyter-widgets/base",
            "_view_module_version": "1.2.0",
            "_view_name": "StyleView",
            "bar_color": null,
            "description_width": ""
          }
        },
        "a9438c1c0ace4bf194de142a99550309": {
          "model_module": "@jupyter-widgets/base",
          "model_name": "LayoutModel",
          "model_module_version": "1.2.0",
          "state": {
            "_model_module": "@jupyter-widgets/base",
            "_model_module_version": "1.2.0",
            "_model_name": "LayoutModel",
            "_view_count": null,
            "_view_module": "@jupyter-widgets/base",
            "_view_module_version": "1.2.0",
            "_view_name": "LayoutView",
            "align_content": null,
            "align_items": null,
            "align_self": null,
            "border": null,
            "bottom": null,
            "display": null,
            "flex": null,
            "flex_flow": null,
            "grid_area": null,
            "grid_auto_columns": null,
            "grid_auto_flow": null,
            "grid_auto_rows": null,
            "grid_column": null,
            "grid_gap": null,
            "grid_row": null,
            "grid_template_areas": null,
            "grid_template_columns": null,
            "grid_template_rows": null,
            "height": null,
            "justify_content": null,
            "justify_items": null,
            "left": null,
            "margin": null,
            "max_height": null,
            "max_width": null,
            "min_height": null,
            "min_width": null,
            "object_fit": null,
            "object_position": null,
            "order": null,
            "overflow": null,
            "overflow_x": null,
            "overflow_y": null,
            "padding": null,
            "right": null,
            "top": null,
            "visibility": null,
            "width": null
          }
        },
        "8a27faa7e6eb44a09668a2468f071f20": {
          "model_module": "@jupyter-widgets/controls",
          "model_name": "DescriptionStyleModel",
          "model_module_version": "1.5.0",
          "state": {
            "_model_module": "@jupyter-widgets/controls",
            "_model_module_version": "1.5.0",
            "_model_name": "DescriptionStyleModel",
            "_view_count": null,
            "_view_module": "@jupyter-widgets/base",
            "_view_module_version": "1.2.0",
            "_view_name": "StyleView",
            "description_width": ""
          }
        },
        "d8d0f2b6ea2948b780e6fd73b5d97281": {
          "model_module": "@jupyter-widgets/controls",
          "model_name": "HBoxModel",
          "model_module_version": "1.5.0",
          "state": {
            "_dom_classes": [],
            "_model_module": "@jupyter-widgets/controls",
            "_model_module_version": "1.5.0",
            "_model_name": "HBoxModel",
            "_view_count": null,
            "_view_module": "@jupyter-widgets/controls",
            "_view_module_version": "1.5.0",
            "_view_name": "HBoxView",
            "box_style": "",
            "children": [
              "IPY_MODEL_101722a6f96a46e782e69420e2e89580",
              "IPY_MODEL_4236f3ec92464d2e9a8775bd2ec957d8",
              "IPY_MODEL_8e407a4752ab42be87860413d5e818ae"
            ],
            "layout": "IPY_MODEL_e645035773454dfd85e13056cc8c2bf2"
          }
        },
        "101722a6f96a46e782e69420e2e89580": {
          "model_module": "@jupyter-widgets/controls",
          "model_name": "HTMLModel",
          "model_module_version": "1.5.0",
          "state": {
            "_dom_classes": [],
            "_model_module": "@jupyter-widgets/controls",
            "_model_module_version": "1.5.0",
            "_model_name": "HTMLModel",
            "_view_count": null,
            "_view_module": "@jupyter-widgets/controls",
            "_view_module_version": "1.5.0",
            "_view_name": "HTMLView",
            "description": "",
            "description_tooltip": null,
            "layout": "IPY_MODEL_6c35a60c657849f6806f4550ed10005c",
            "placeholder": "​",
            "style": "IPY_MODEL_bfe66b1589d641de910e9d6180f736ba",
            "value": "config.json: 100%"
          }
        },
        "4236f3ec92464d2e9a8775bd2ec957d8": {
          "model_module": "@jupyter-widgets/controls",
          "model_name": "FloatProgressModel",
          "model_module_version": "1.5.0",
          "state": {
            "_dom_classes": [],
            "_model_module": "@jupyter-widgets/controls",
            "_model_module_version": "1.5.0",
            "_model_name": "FloatProgressModel",
            "_view_count": null,
            "_view_module": "@jupyter-widgets/controls",
            "_view_module_version": "1.5.0",
            "_view_name": "ProgressView",
            "bar_style": "success",
            "description": "",
            "description_tooltip": null,
            "layout": "IPY_MODEL_9931619edfc2463b9783bc99ab9cf345",
            "max": 665,
            "min": 0,
            "orientation": "horizontal",
            "style": "IPY_MODEL_29c4c830b26c447f87d3f9f99cfa8df1",
            "value": 665
          }
        },
        "8e407a4752ab42be87860413d5e818ae": {
          "model_module": "@jupyter-widgets/controls",
          "model_name": "HTMLModel",
          "model_module_version": "1.5.0",
          "state": {
            "_dom_classes": [],
            "_model_module": "@jupyter-widgets/controls",
            "_model_module_version": "1.5.0",
            "_model_name": "HTMLModel",
            "_view_count": null,
            "_view_module": "@jupyter-widgets/controls",
            "_view_module_version": "1.5.0",
            "_view_name": "HTMLView",
            "description": "",
            "description_tooltip": null,
            "layout": "IPY_MODEL_e33de216c49b4e1f927b915105314ae3",
            "placeholder": "​",
            "style": "IPY_MODEL_04128a426b224c2ab2658c2b8db24e84",
            "value": " 665/665 [00:00&lt;00:00, 7.42kB/s]"
          }
        },
        "e645035773454dfd85e13056cc8c2bf2": {
          "model_module": "@jupyter-widgets/base",
          "model_name": "LayoutModel",
          "model_module_version": "1.2.0",
          "state": {
            "_model_module": "@jupyter-widgets/base",
            "_model_module_version": "1.2.0",
            "_model_name": "LayoutModel",
            "_view_count": null,
            "_view_module": "@jupyter-widgets/base",
            "_view_module_version": "1.2.0",
            "_view_name": "LayoutView",
            "align_content": null,
            "align_items": null,
            "align_self": null,
            "border": null,
            "bottom": null,
            "display": null,
            "flex": null,
            "flex_flow": null,
            "grid_area": null,
            "grid_auto_columns": null,
            "grid_auto_flow": null,
            "grid_auto_rows": null,
            "grid_column": null,
            "grid_gap": null,
            "grid_row": null,
            "grid_template_areas": null,
            "grid_template_columns": null,
            "grid_template_rows": null,
            "height": null,
            "justify_content": null,
            "justify_items": null,
            "left": null,
            "margin": null,
            "max_height": null,
            "max_width": null,
            "min_height": null,
            "min_width": null,
            "object_fit": null,
            "object_position": null,
            "order": null,
            "overflow": null,
            "overflow_x": null,
            "overflow_y": null,
            "padding": null,
            "right": null,
            "top": null,
            "visibility": null,
            "width": null
          }
        },
        "6c35a60c657849f6806f4550ed10005c": {
          "model_module": "@jupyter-widgets/base",
          "model_name": "LayoutModel",
          "model_module_version": "1.2.0",
          "state": {
            "_model_module": "@jupyter-widgets/base",
            "_model_module_version": "1.2.0",
            "_model_name": "LayoutModel",
            "_view_count": null,
            "_view_module": "@jupyter-widgets/base",
            "_view_module_version": "1.2.0",
            "_view_name": "LayoutView",
            "align_content": null,
            "align_items": null,
            "align_self": null,
            "border": null,
            "bottom": null,
            "display": null,
            "flex": null,
            "flex_flow": null,
            "grid_area": null,
            "grid_auto_columns": null,
            "grid_auto_flow": null,
            "grid_auto_rows": null,
            "grid_column": null,
            "grid_gap": null,
            "grid_row": null,
            "grid_template_areas": null,
            "grid_template_columns": null,
            "grid_template_rows": null,
            "height": null,
            "justify_content": null,
            "justify_items": null,
            "left": null,
            "margin": null,
            "max_height": null,
            "max_width": null,
            "min_height": null,
            "min_width": null,
            "object_fit": null,
            "object_position": null,
            "order": null,
            "overflow": null,
            "overflow_x": null,
            "overflow_y": null,
            "padding": null,
            "right": null,
            "top": null,
            "visibility": null,
            "width": null
          }
        },
        "bfe66b1589d641de910e9d6180f736ba": {
          "model_module": "@jupyter-widgets/controls",
          "model_name": "DescriptionStyleModel",
          "model_module_version": "1.5.0",
          "state": {
            "_model_module": "@jupyter-widgets/controls",
            "_model_module_version": "1.5.0",
            "_model_name": "DescriptionStyleModel",
            "_view_count": null,
            "_view_module": "@jupyter-widgets/base",
            "_view_module_version": "1.2.0",
            "_view_name": "StyleView",
            "description_width": ""
          }
        },
        "9931619edfc2463b9783bc99ab9cf345": {
          "model_module": "@jupyter-widgets/base",
          "model_name": "LayoutModel",
          "model_module_version": "1.2.0",
          "state": {
            "_model_module": "@jupyter-widgets/base",
            "_model_module_version": "1.2.0",
            "_model_name": "LayoutModel",
            "_view_count": null,
            "_view_module": "@jupyter-widgets/base",
            "_view_module_version": "1.2.0",
            "_view_name": "LayoutView",
            "align_content": null,
            "align_items": null,
            "align_self": null,
            "border": null,
            "bottom": null,
            "display": null,
            "flex": null,
            "flex_flow": null,
            "grid_area": null,
            "grid_auto_columns": null,
            "grid_auto_flow": null,
            "grid_auto_rows": null,
            "grid_column": null,
            "grid_gap": null,
            "grid_row": null,
            "grid_template_areas": null,
            "grid_template_columns": null,
            "grid_template_rows": null,
            "height": null,
            "justify_content": null,
            "justify_items": null,
            "left": null,
            "margin": null,
            "max_height": null,
            "max_width": null,
            "min_height": null,
            "min_width": null,
            "object_fit": null,
            "object_position": null,
            "order": null,
            "overflow": null,
            "overflow_x": null,
            "overflow_y": null,
            "padding": null,
            "right": null,
            "top": null,
            "visibility": null,
            "width": null
          }
        },
        "29c4c830b26c447f87d3f9f99cfa8df1": {
          "model_module": "@jupyter-widgets/controls",
          "model_name": "ProgressStyleModel",
          "model_module_version": "1.5.0",
          "state": {
            "_model_module": "@jupyter-widgets/controls",
            "_model_module_version": "1.5.0",
            "_model_name": "ProgressStyleModel",
            "_view_count": null,
            "_view_module": "@jupyter-widgets/base",
            "_view_module_version": "1.2.0",
            "_view_name": "StyleView",
            "bar_color": null,
            "description_width": ""
          }
        },
        "e33de216c49b4e1f927b915105314ae3": {
          "model_module": "@jupyter-widgets/base",
          "model_name": "LayoutModel",
          "model_module_version": "1.2.0",
          "state": {
            "_model_module": "@jupyter-widgets/base",
            "_model_module_version": "1.2.0",
            "_model_name": "LayoutModel",
            "_view_count": null,
            "_view_module": "@jupyter-widgets/base",
            "_view_module_version": "1.2.0",
            "_view_name": "LayoutView",
            "align_content": null,
            "align_items": null,
            "align_self": null,
            "border": null,
            "bottom": null,
            "display": null,
            "flex": null,
            "flex_flow": null,
            "grid_area": null,
            "grid_auto_columns": null,
            "grid_auto_flow": null,
            "grid_auto_rows": null,
            "grid_column": null,
            "grid_gap": null,
            "grid_row": null,
            "grid_template_areas": null,
            "grid_template_columns": null,
            "grid_template_rows": null,
            "height": null,
            "justify_content": null,
            "justify_items": null,
            "left": null,
            "margin": null,
            "max_height": null,
            "max_width": null,
            "min_height": null,
            "min_width": null,
            "object_fit": null,
            "object_position": null,
            "order": null,
            "overflow": null,
            "overflow_x": null,
            "overflow_y": null,
            "padding": null,
            "right": null,
            "top": null,
            "visibility": null,
            "width": null
          }
        },
        "04128a426b224c2ab2658c2b8db24e84": {
          "model_module": "@jupyter-widgets/controls",
          "model_name": "DescriptionStyleModel",
          "model_module_version": "1.5.0",
          "state": {
            "_model_module": "@jupyter-widgets/controls",
            "_model_module_version": "1.5.0",
            "_model_name": "DescriptionStyleModel",
            "_view_count": null,
            "_view_module": "@jupyter-widgets/base",
            "_view_module_version": "1.2.0",
            "_view_name": "StyleView",
            "description_width": ""
          }
        },
        "2cabd1cdef0047e9b282832cf66d4d51": {
          "model_module": "@jupyter-widgets/controls",
          "model_name": "HBoxModel",
          "model_module_version": "1.5.0",
          "state": {
            "_dom_classes": [],
            "_model_module": "@jupyter-widgets/controls",
            "_model_module_version": "1.5.0",
            "_model_name": "HBoxModel",
            "_view_count": null,
            "_view_module": "@jupyter-widgets/controls",
            "_view_module_version": "1.5.0",
            "_view_name": "HBoxView",
            "box_style": "",
            "children": [
              "IPY_MODEL_cb02e9657bd24bfb9e63b8115a7c5db3",
              "IPY_MODEL_b21ed82a3b99435588d1790116308fd0",
              "IPY_MODEL_daae8a5226614fba93506433d286493b"
            ],
            "layout": "IPY_MODEL_623c0eec4ecf4f56820a24011055bca3"
          }
        },
        "cb02e9657bd24bfb9e63b8115a7c5db3": {
          "model_module": "@jupyter-widgets/controls",
          "model_name": "HTMLModel",
          "model_module_version": "1.5.0",
          "state": {
            "_dom_classes": [],
            "_model_module": "@jupyter-widgets/controls",
            "_model_module_version": "1.5.0",
            "_model_name": "HTMLModel",
            "_view_count": null,
            "_view_module": "@jupyter-widgets/controls",
            "_view_module_version": "1.5.0",
            "_view_name": "HTMLView",
            "description": "",
            "description_tooltip": null,
            "layout": "IPY_MODEL_61751f9776af4f86979cc64aec5bdf77",
            "placeholder": "​",
            "style": "IPY_MODEL_03816b33087a469a8806386749ab56dd",
            "value": "vocab.json: 100%"
          }
        },
        "b21ed82a3b99435588d1790116308fd0": {
          "model_module": "@jupyter-widgets/controls",
          "model_name": "FloatProgressModel",
          "model_module_version": "1.5.0",
          "state": {
            "_dom_classes": [],
            "_model_module": "@jupyter-widgets/controls",
            "_model_module_version": "1.5.0",
            "_model_name": "FloatProgressModel",
            "_view_count": null,
            "_view_module": "@jupyter-widgets/controls",
            "_view_module_version": "1.5.0",
            "_view_name": "ProgressView",
            "bar_style": "success",
            "description": "",
            "description_tooltip": null,
            "layout": "IPY_MODEL_842737e99fd1419d8a89d1de9b71adec",
            "max": 1042301,
            "min": 0,
            "orientation": "horizontal",
            "style": "IPY_MODEL_98d8f78a72f34a2e9515a8375bee1ba6",
            "value": 1042301
          }
        },
        "daae8a5226614fba93506433d286493b": {
          "model_module": "@jupyter-widgets/controls",
          "model_name": "HTMLModel",
          "model_module_version": "1.5.0",
          "state": {
            "_dom_classes": [],
            "_model_module": "@jupyter-widgets/controls",
            "_model_module_version": "1.5.0",
            "_model_name": "HTMLModel",
            "_view_count": null,
            "_view_module": "@jupyter-widgets/controls",
            "_view_module_version": "1.5.0",
            "_view_name": "HTMLView",
            "description": "",
            "description_tooltip": null,
            "layout": "IPY_MODEL_b6d510b0fa034d27b08828a11ac16e44",
            "placeholder": "​",
            "style": "IPY_MODEL_09f632a74fbb42db9a6b7d6d792cd3ee",
            "value": " 1.04M/1.04M [00:00&lt;00:00, 11.3MB/s]"
          }
        },
        "623c0eec4ecf4f56820a24011055bca3": {
          "model_module": "@jupyter-widgets/base",
          "model_name": "LayoutModel",
          "model_module_version": "1.2.0",
          "state": {
            "_model_module": "@jupyter-widgets/base",
            "_model_module_version": "1.2.0",
            "_model_name": "LayoutModel",
            "_view_count": null,
            "_view_module": "@jupyter-widgets/base",
            "_view_module_version": "1.2.0",
            "_view_name": "LayoutView",
            "align_content": null,
            "align_items": null,
            "align_self": null,
            "border": null,
            "bottom": null,
            "display": null,
            "flex": null,
            "flex_flow": null,
            "grid_area": null,
            "grid_auto_columns": null,
            "grid_auto_flow": null,
            "grid_auto_rows": null,
            "grid_column": null,
            "grid_gap": null,
            "grid_row": null,
            "grid_template_areas": null,
            "grid_template_columns": null,
            "grid_template_rows": null,
            "height": null,
            "justify_content": null,
            "justify_items": null,
            "left": null,
            "margin": null,
            "max_height": null,
            "max_width": null,
            "min_height": null,
            "min_width": null,
            "object_fit": null,
            "object_position": null,
            "order": null,
            "overflow": null,
            "overflow_x": null,
            "overflow_y": null,
            "padding": null,
            "right": null,
            "top": null,
            "visibility": null,
            "width": null
          }
        },
        "61751f9776af4f86979cc64aec5bdf77": {
          "model_module": "@jupyter-widgets/base",
          "model_name": "LayoutModel",
          "model_module_version": "1.2.0",
          "state": {
            "_model_module": "@jupyter-widgets/base",
            "_model_module_version": "1.2.0",
            "_model_name": "LayoutModel",
            "_view_count": null,
            "_view_module": "@jupyter-widgets/base",
            "_view_module_version": "1.2.0",
            "_view_name": "LayoutView",
            "align_content": null,
            "align_items": null,
            "align_self": null,
            "border": null,
            "bottom": null,
            "display": null,
            "flex": null,
            "flex_flow": null,
            "grid_area": null,
            "grid_auto_columns": null,
            "grid_auto_flow": null,
            "grid_auto_rows": null,
            "grid_column": null,
            "grid_gap": null,
            "grid_row": null,
            "grid_template_areas": null,
            "grid_template_columns": null,
            "grid_template_rows": null,
            "height": null,
            "justify_content": null,
            "justify_items": null,
            "left": null,
            "margin": null,
            "max_height": null,
            "max_width": null,
            "min_height": null,
            "min_width": null,
            "object_fit": null,
            "object_position": null,
            "order": null,
            "overflow": null,
            "overflow_x": null,
            "overflow_y": null,
            "padding": null,
            "right": null,
            "top": null,
            "visibility": null,
            "width": null
          }
        },
        "03816b33087a469a8806386749ab56dd": {
          "model_module": "@jupyter-widgets/controls",
          "model_name": "DescriptionStyleModel",
          "model_module_version": "1.5.0",
          "state": {
            "_model_module": "@jupyter-widgets/controls",
            "_model_module_version": "1.5.0",
            "_model_name": "DescriptionStyleModel",
            "_view_count": null,
            "_view_module": "@jupyter-widgets/base",
            "_view_module_version": "1.2.0",
            "_view_name": "StyleView",
            "description_width": ""
          }
        },
        "842737e99fd1419d8a89d1de9b71adec": {
          "model_module": "@jupyter-widgets/base",
          "model_name": "LayoutModel",
          "model_module_version": "1.2.0",
          "state": {
            "_model_module": "@jupyter-widgets/base",
            "_model_module_version": "1.2.0",
            "_model_name": "LayoutModel",
            "_view_count": null,
            "_view_module": "@jupyter-widgets/base",
            "_view_module_version": "1.2.0",
            "_view_name": "LayoutView",
            "align_content": null,
            "align_items": null,
            "align_self": null,
            "border": null,
            "bottom": null,
            "display": null,
            "flex": null,
            "flex_flow": null,
            "grid_area": null,
            "grid_auto_columns": null,
            "grid_auto_flow": null,
            "grid_auto_rows": null,
            "grid_column": null,
            "grid_gap": null,
            "grid_row": null,
            "grid_template_areas": null,
            "grid_template_columns": null,
            "grid_template_rows": null,
            "height": null,
            "justify_content": null,
            "justify_items": null,
            "left": null,
            "margin": null,
            "max_height": null,
            "max_width": null,
            "min_height": null,
            "min_width": null,
            "object_fit": null,
            "object_position": null,
            "order": null,
            "overflow": null,
            "overflow_x": null,
            "overflow_y": null,
            "padding": null,
            "right": null,
            "top": null,
            "visibility": null,
            "width": null
          }
        },
        "98d8f78a72f34a2e9515a8375bee1ba6": {
          "model_module": "@jupyter-widgets/controls",
          "model_name": "ProgressStyleModel",
          "model_module_version": "1.5.0",
          "state": {
            "_model_module": "@jupyter-widgets/controls",
            "_model_module_version": "1.5.0",
            "_model_name": "ProgressStyleModel",
            "_view_count": null,
            "_view_module": "@jupyter-widgets/base",
            "_view_module_version": "1.2.0",
            "_view_name": "StyleView",
            "bar_color": null,
            "description_width": ""
          }
        },
        "b6d510b0fa034d27b08828a11ac16e44": {
          "model_module": "@jupyter-widgets/base",
          "model_name": "LayoutModel",
          "model_module_version": "1.2.0",
          "state": {
            "_model_module": "@jupyter-widgets/base",
            "_model_module_version": "1.2.0",
            "_model_name": "LayoutModel",
            "_view_count": null,
            "_view_module": "@jupyter-widgets/base",
            "_view_module_version": "1.2.0",
            "_view_name": "LayoutView",
            "align_content": null,
            "align_items": null,
            "align_self": null,
            "border": null,
            "bottom": null,
            "display": null,
            "flex": null,
            "flex_flow": null,
            "grid_area": null,
            "grid_auto_columns": null,
            "grid_auto_flow": null,
            "grid_auto_rows": null,
            "grid_column": null,
            "grid_gap": null,
            "grid_row": null,
            "grid_template_areas": null,
            "grid_template_columns": null,
            "grid_template_rows": null,
            "height": null,
            "justify_content": null,
            "justify_items": null,
            "left": null,
            "margin": null,
            "max_height": null,
            "max_width": null,
            "min_height": null,
            "min_width": null,
            "object_fit": null,
            "object_position": null,
            "order": null,
            "overflow": null,
            "overflow_x": null,
            "overflow_y": null,
            "padding": null,
            "right": null,
            "top": null,
            "visibility": null,
            "width": null
          }
        },
        "09f632a74fbb42db9a6b7d6d792cd3ee": {
          "model_module": "@jupyter-widgets/controls",
          "model_name": "DescriptionStyleModel",
          "model_module_version": "1.5.0",
          "state": {
            "_model_module": "@jupyter-widgets/controls",
            "_model_module_version": "1.5.0",
            "_model_name": "DescriptionStyleModel",
            "_view_count": null,
            "_view_module": "@jupyter-widgets/base",
            "_view_module_version": "1.2.0",
            "_view_name": "StyleView",
            "description_width": ""
          }
        },
        "228d2fd8021f4a899d8f07491da0e775": {
          "model_module": "@jupyter-widgets/controls",
          "model_name": "HBoxModel",
          "model_module_version": "1.5.0",
          "state": {
            "_dom_classes": [],
            "_model_module": "@jupyter-widgets/controls",
            "_model_module_version": "1.5.0",
            "_model_name": "HBoxModel",
            "_view_count": null,
            "_view_module": "@jupyter-widgets/controls",
            "_view_module_version": "1.5.0",
            "_view_name": "HBoxView",
            "box_style": "",
            "children": [
              "IPY_MODEL_e83acc5cc9284f6099943500541086ed",
              "IPY_MODEL_d404d47905ff43dd8da7639a3cab223c",
              "IPY_MODEL_d429dffce55f4065a30328ef2f551fcd"
            ],
            "layout": "IPY_MODEL_cdcbe71fb74b456ab5514e972b3bef12"
          }
        },
        "e83acc5cc9284f6099943500541086ed": {
          "model_module": "@jupyter-widgets/controls",
          "model_name": "HTMLModel",
          "model_module_version": "1.5.0",
          "state": {
            "_dom_classes": [],
            "_model_module": "@jupyter-widgets/controls",
            "_model_module_version": "1.5.0",
            "_model_name": "HTMLModel",
            "_view_count": null,
            "_view_module": "@jupyter-widgets/controls",
            "_view_module_version": "1.5.0",
            "_view_name": "HTMLView",
            "description": "",
            "description_tooltip": null,
            "layout": "IPY_MODEL_a1fc23f983b74f999295e8597292c698",
            "placeholder": "​",
            "style": "IPY_MODEL_97b2a0cb4b5246a9bc018e4d31c8b61a",
            "value": "merges.txt: 100%"
          }
        },
        "d404d47905ff43dd8da7639a3cab223c": {
          "model_module": "@jupyter-widgets/controls",
          "model_name": "FloatProgressModel",
          "model_module_version": "1.5.0",
          "state": {
            "_dom_classes": [],
            "_model_module": "@jupyter-widgets/controls",
            "_model_module_version": "1.5.0",
            "_model_name": "FloatProgressModel",
            "_view_count": null,
            "_view_module": "@jupyter-widgets/controls",
            "_view_module_version": "1.5.0",
            "_view_name": "ProgressView",
            "bar_style": "success",
            "description": "",
            "description_tooltip": null,
            "layout": "IPY_MODEL_d6ab270f892c4d5384f5a94a5fd313fa",
            "max": 456318,
            "min": 0,
            "orientation": "horizontal",
            "style": "IPY_MODEL_1964db91401b4f978f9242b87db59a8a",
            "value": 456318
          }
        },
        "d429dffce55f4065a30328ef2f551fcd": {
          "model_module": "@jupyter-widgets/controls",
          "model_name": "HTMLModel",
          "model_module_version": "1.5.0",
          "state": {
            "_dom_classes": [],
            "_model_module": "@jupyter-widgets/controls",
            "_model_module_version": "1.5.0",
            "_model_name": "HTMLModel",
            "_view_count": null,
            "_view_module": "@jupyter-widgets/controls",
            "_view_module_version": "1.5.0",
            "_view_name": "HTMLView",
            "description": "",
            "description_tooltip": null,
            "layout": "IPY_MODEL_7be534bd8b9347cdb377f8d9e478ec68",
            "placeholder": "​",
            "style": "IPY_MODEL_4089944b284d42fbbe8a2942ad479918",
            "value": " 456k/456k [00:00&lt;00:00, 3.55MB/s]"
          }
        },
        "cdcbe71fb74b456ab5514e972b3bef12": {
          "model_module": "@jupyter-widgets/base",
          "model_name": "LayoutModel",
          "model_module_version": "1.2.0",
          "state": {
            "_model_module": "@jupyter-widgets/base",
            "_model_module_version": "1.2.0",
            "_model_name": "LayoutModel",
            "_view_count": null,
            "_view_module": "@jupyter-widgets/base",
            "_view_module_version": "1.2.0",
            "_view_name": "LayoutView",
            "align_content": null,
            "align_items": null,
            "align_self": null,
            "border": null,
            "bottom": null,
            "display": null,
            "flex": null,
            "flex_flow": null,
            "grid_area": null,
            "grid_auto_columns": null,
            "grid_auto_flow": null,
            "grid_auto_rows": null,
            "grid_column": null,
            "grid_gap": null,
            "grid_row": null,
            "grid_template_areas": null,
            "grid_template_columns": null,
            "grid_template_rows": null,
            "height": null,
            "justify_content": null,
            "justify_items": null,
            "left": null,
            "margin": null,
            "max_height": null,
            "max_width": null,
            "min_height": null,
            "min_width": null,
            "object_fit": null,
            "object_position": null,
            "order": null,
            "overflow": null,
            "overflow_x": null,
            "overflow_y": null,
            "padding": null,
            "right": null,
            "top": null,
            "visibility": null,
            "width": null
          }
        },
        "a1fc23f983b74f999295e8597292c698": {
          "model_module": "@jupyter-widgets/base",
          "model_name": "LayoutModel",
          "model_module_version": "1.2.0",
          "state": {
            "_model_module": "@jupyter-widgets/base",
            "_model_module_version": "1.2.0",
            "_model_name": "LayoutModel",
            "_view_count": null,
            "_view_module": "@jupyter-widgets/base",
            "_view_module_version": "1.2.0",
            "_view_name": "LayoutView",
            "align_content": null,
            "align_items": null,
            "align_self": null,
            "border": null,
            "bottom": null,
            "display": null,
            "flex": null,
            "flex_flow": null,
            "grid_area": null,
            "grid_auto_columns": null,
            "grid_auto_flow": null,
            "grid_auto_rows": null,
            "grid_column": null,
            "grid_gap": null,
            "grid_row": null,
            "grid_template_areas": null,
            "grid_template_columns": null,
            "grid_template_rows": null,
            "height": null,
            "justify_content": null,
            "justify_items": null,
            "left": null,
            "margin": null,
            "max_height": null,
            "max_width": null,
            "min_height": null,
            "min_width": null,
            "object_fit": null,
            "object_position": null,
            "order": null,
            "overflow": null,
            "overflow_x": null,
            "overflow_y": null,
            "padding": null,
            "right": null,
            "top": null,
            "visibility": null,
            "width": null
          }
        },
        "97b2a0cb4b5246a9bc018e4d31c8b61a": {
          "model_module": "@jupyter-widgets/controls",
          "model_name": "DescriptionStyleModel",
          "model_module_version": "1.5.0",
          "state": {
            "_model_module": "@jupyter-widgets/controls",
            "_model_module_version": "1.5.0",
            "_model_name": "DescriptionStyleModel",
            "_view_count": null,
            "_view_module": "@jupyter-widgets/base",
            "_view_module_version": "1.2.0",
            "_view_name": "StyleView",
            "description_width": ""
          }
        },
        "d6ab270f892c4d5384f5a94a5fd313fa": {
          "model_module": "@jupyter-widgets/base",
          "model_name": "LayoutModel",
          "model_module_version": "1.2.0",
          "state": {
            "_model_module": "@jupyter-widgets/base",
            "_model_module_version": "1.2.0",
            "_model_name": "LayoutModel",
            "_view_count": null,
            "_view_module": "@jupyter-widgets/base",
            "_view_module_version": "1.2.0",
            "_view_name": "LayoutView",
            "align_content": null,
            "align_items": null,
            "align_self": null,
            "border": null,
            "bottom": null,
            "display": null,
            "flex": null,
            "flex_flow": null,
            "grid_area": null,
            "grid_auto_columns": null,
            "grid_auto_flow": null,
            "grid_auto_rows": null,
            "grid_column": null,
            "grid_gap": null,
            "grid_row": null,
            "grid_template_areas": null,
            "grid_template_columns": null,
            "grid_template_rows": null,
            "height": null,
            "justify_content": null,
            "justify_items": null,
            "left": null,
            "margin": null,
            "max_height": null,
            "max_width": null,
            "min_height": null,
            "min_width": null,
            "object_fit": null,
            "object_position": null,
            "order": null,
            "overflow": null,
            "overflow_x": null,
            "overflow_y": null,
            "padding": null,
            "right": null,
            "top": null,
            "visibility": null,
            "width": null
          }
        },
        "1964db91401b4f978f9242b87db59a8a": {
          "model_module": "@jupyter-widgets/controls",
          "model_name": "ProgressStyleModel",
          "model_module_version": "1.5.0",
          "state": {
            "_model_module": "@jupyter-widgets/controls",
            "_model_module_version": "1.5.0",
            "_model_name": "ProgressStyleModel",
            "_view_count": null,
            "_view_module": "@jupyter-widgets/base",
            "_view_module_version": "1.2.0",
            "_view_name": "StyleView",
            "bar_color": null,
            "description_width": ""
          }
        },
        "7be534bd8b9347cdb377f8d9e478ec68": {
          "model_module": "@jupyter-widgets/base",
          "model_name": "LayoutModel",
          "model_module_version": "1.2.0",
          "state": {
            "_model_module": "@jupyter-widgets/base",
            "_model_module_version": "1.2.0",
            "_model_name": "LayoutModel",
            "_view_count": null,
            "_view_module": "@jupyter-widgets/base",
            "_view_module_version": "1.2.0",
            "_view_name": "LayoutView",
            "align_content": null,
            "align_items": null,
            "align_self": null,
            "border": null,
            "bottom": null,
            "display": null,
            "flex": null,
            "flex_flow": null,
            "grid_area": null,
            "grid_auto_columns": null,
            "grid_auto_flow": null,
            "grid_auto_rows": null,
            "grid_column": null,
            "grid_gap": null,
            "grid_row": null,
            "grid_template_areas": null,
            "grid_template_columns": null,
            "grid_template_rows": null,
            "height": null,
            "justify_content": null,
            "justify_items": null,
            "left": null,
            "margin": null,
            "max_height": null,
            "max_width": null,
            "min_height": null,
            "min_width": null,
            "object_fit": null,
            "object_position": null,
            "order": null,
            "overflow": null,
            "overflow_x": null,
            "overflow_y": null,
            "padding": null,
            "right": null,
            "top": null,
            "visibility": null,
            "width": null
          }
        },
        "4089944b284d42fbbe8a2942ad479918": {
          "model_module": "@jupyter-widgets/controls",
          "model_name": "DescriptionStyleModel",
          "model_module_version": "1.5.0",
          "state": {
            "_model_module": "@jupyter-widgets/controls",
            "_model_module_version": "1.5.0",
            "_model_name": "DescriptionStyleModel",
            "_view_count": null,
            "_view_module": "@jupyter-widgets/base",
            "_view_module_version": "1.2.0",
            "_view_name": "StyleView",
            "description_width": ""
          }
        },
        "b2fae1afc7f44536a6570609258eeb47": {
          "model_module": "@jupyter-widgets/controls",
          "model_name": "HBoxModel",
          "model_module_version": "1.5.0",
          "state": {
            "_dom_classes": [],
            "_model_module": "@jupyter-widgets/controls",
            "_model_module_version": "1.5.0",
            "_model_name": "HBoxModel",
            "_view_count": null,
            "_view_module": "@jupyter-widgets/controls",
            "_view_module_version": "1.5.0",
            "_view_name": "HBoxView",
            "box_style": "",
            "children": [
              "IPY_MODEL_41df1df66b384521ac921cd25bb9a168",
              "IPY_MODEL_03f7d4161e384c6e886c3971024350dc",
              "IPY_MODEL_bd4ec5c161af4a098bf96b8f0cc7bd9e"
            ],
            "layout": "IPY_MODEL_55daced5bef14f95b025cbe5651b2c23"
          }
        },
        "41df1df66b384521ac921cd25bb9a168": {
          "model_module": "@jupyter-widgets/controls",
          "model_name": "HTMLModel",
          "model_module_version": "1.5.0",
          "state": {
            "_dom_classes": [],
            "_model_module": "@jupyter-widgets/controls",
            "_model_module_version": "1.5.0",
            "_model_name": "HTMLModel",
            "_view_count": null,
            "_view_module": "@jupyter-widgets/controls",
            "_view_module_version": "1.5.0",
            "_view_name": "HTMLView",
            "description": "",
            "description_tooltip": null,
            "layout": "IPY_MODEL_442972d779bb44d49143a476be426eb3",
            "placeholder": "​",
            "style": "IPY_MODEL_987fc3b6e28f486daa4e50db4424920a",
            "value": "tokenizer.json: 100%"
          }
        },
        "03f7d4161e384c6e886c3971024350dc": {
          "model_module": "@jupyter-widgets/controls",
          "model_name": "FloatProgressModel",
          "model_module_version": "1.5.0",
          "state": {
            "_dom_classes": [],
            "_model_module": "@jupyter-widgets/controls",
            "_model_module_version": "1.5.0",
            "_model_name": "FloatProgressModel",
            "_view_count": null,
            "_view_module": "@jupyter-widgets/controls",
            "_view_module_version": "1.5.0",
            "_view_name": "ProgressView",
            "bar_style": "success",
            "description": "",
            "description_tooltip": null,
            "layout": "IPY_MODEL_57dc0ecbeda74ca4bab24d3c70027718",
            "max": 1355256,
            "min": 0,
            "orientation": "horizontal",
            "style": "IPY_MODEL_3100948f5fa1408e852bd9bed26b4b6f",
            "value": 1355256
          }
        },
        "bd4ec5c161af4a098bf96b8f0cc7bd9e": {
          "model_module": "@jupyter-widgets/controls",
          "model_name": "HTMLModel",
          "model_module_version": "1.5.0",
          "state": {
            "_dom_classes": [],
            "_model_module": "@jupyter-widgets/controls",
            "_model_module_version": "1.5.0",
            "_model_name": "HTMLModel",
            "_view_count": null,
            "_view_module": "@jupyter-widgets/controls",
            "_view_module_version": "1.5.0",
            "_view_name": "HTMLView",
            "description": "",
            "description_tooltip": null,
            "layout": "IPY_MODEL_d8ccbf5cdd2744728bbef296950fc3fc",
            "placeholder": "​",
            "style": "IPY_MODEL_80ed453af46949ee9083c89e084dfbfb",
            "value": " 1.36M/1.36M [00:00&lt;00:00, 17.9MB/s]"
          }
        },
        "55daced5bef14f95b025cbe5651b2c23": {
          "model_module": "@jupyter-widgets/base",
          "model_name": "LayoutModel",
          "model_module_version": "1.2.0",
          "state": {
            "_model_module": "@jupyter-widgets/base",
            "_model_module_version": "1.2.0",
            "_model_name": "LayoutModel",
            "_view_count": null,
            "_view_module": "@jupyter-widgets/base",
            "_view_module_version": "1.2.0",
            "_view_name": "LayoutView",
            "align_content": null,
            "align_items": null,
            "align_self": null,
            "border": null,
            "bottom": null,
            "display": null,
            "flex": null,
            "flex_flow": null,
            "grid_area": null,
            "grid_auto_columns": null,
            "grid_auto_flow": null,
            "grid_auto_rows": null,
            "grid_column": null,
            "grid_gap": null,
            "grid_row": null,
            "grid_template_areas": null,
            "grid_template_columns": null,
            "grid_template_rows": null,
            "height": null,
            "justify_content": null,
            "justify_items": null,
            "left": null,
            "margin": null,
            "max_height": null,
            "max_width": null,
            "min_height": null,
            "min_width": null,
            "object_fit": null,
            "object_position": null,
            "order": null,
            "overflow": null,
            "overflow_x": null,
            "overflow_y": null,
            "padding": null,
            "right": null,
            "top": null,
            "visibility": null,
            "width": null
          }
        },
        "442972d779bb44d49143a476be426eb3": {
          "model_module": "@jupyter-widgets/base",
          "model_name": "LayoutModel",
          "model_module_version": "1.2.0",
          "state": {
            "_model_module": "@jupyter-widgets/base",
            "_model_module_version": "1.2.0",
            "_model_name": "LayoutModel",
            "_view_count": null,
            "_view_module": "@jupyter-widgets/base",
            "_view_module_version": "1.2.0",
            "_view_name": "LayoutView",
            "align_content": null,
            "align_items": null,
            "align_self": null,
            "border": null,
            "bottom": null,
            "display": null,
            "flex": null,
            "flex_flow": null,
            "grid_area": null,
            "grid_auto_columns": null,
            "grid_auto_flow": null,
            "grid_auto_rows": null,
            "grid_column": null,
            "grid_gap": null,
            "grid_row": null,
            "grid_template_areas": null,
            "grid_template_columns": null,
            "grid_template_rows": null,
            "height": null,
            "justify_content": null,
            "justify_items": null,
            "left": null,
            "margin": null,
            "max_height": null,
            "max_width": null,
            "min_height": null,
            "min_width": null,
            "object_fit": null,
            "object_position": null,
            "order": null,
            "overflow": null,
            "overflow_x": null,
            "overflow_y": null,
            "padding": null,
            "right": null,
            "top": null,
            "visibility": null,
            "width": null
          }
        },
        "987fc3b6e28f486daa4e50db4424920a": {
          "model_module": "@jupyter-widgets/controls",
          "model_name": "DescriptionStyleModel",
          "model_module_version": "1.5.0",
          "state": {
            "_model_module": "@jupyter-widgets/controls",
            "_model_module_version": "1.5.0",
            "_model_name": "DescriptionStyleModel",
            "_view_count": null,
            "_view_module": "@jupyter-widgets/base",
            "_view_module_version": "1.2.0",
            "_view_name": "StyleView",
            "description_width": ""
          }
        },
        "57dc0ecbeda74ca4bab24d3c70027718": {
          "model_module": "@jupyter-widgets/base",
          "model_name": "LayoutModel",
          "model_module_version": "1.2.0",
          "state": {
            "_model_module": "@jupyter-widgets/base",
            "_model_module_version": "1.2.0",
            "_model_name": "LayoutModel",
            "_view_count": null,
            "_view_module": "@jupyter-widgets/base",
            "_view_module_version": "1.2.0",
            "_view_name": "LayoutView",
            "align_content": null,
            "align_items": null,
            "align_self": null,
            "border": null,
            "bottom": null,
            "display": null,
            "flex": null,
            "flex_flow": null,
            "grid_area": null,
            "grid_auto_columns": null,
            "grid_auto_flow": null,
            "grid_auto_rows": null,
            "grid_column": null,
            "grid_gap": null,
            "grid_row": null,
            "grid_template_areas": null,
            "grid_template_columns": null,
            "grid_template_rows": null,
            "height": null,
            "justify_content": null,
            "justify_items": null,
            "left": null,
            "margin": null,
            "max_height": null,
            "max_width": null,
            "min_height": null,
            "min_width": null,
            "object_fit": null,
            "object_position": null,
            "order": null,
            "overflow": null,
            "overflow_x": null,
            "overflow_y": null,
            "padding": null,
            "right": null,
            "top": null,
            "visibility": null,
            "width": null
          }
        },
        "3100948f5fa1408e852bd9bed26b4b6f": {
          "model_module": "@jupyter-widgets/controls",
          "model_name": "ProgressStyleModel",
          "model_module_version": "1.5.0",
          "state": {
            "_model_module": "@jupyter-widgets/controls",
            "_model_module_version": "1.5.0",
            "_model_name": "ProgressStyleModel",
            "_view_count": null,
            "_view_module": "@jupyter-widgets/base",
            "_view_module_version": "1.2.0",
            "_view_name": "StyleView",
            "bar_color": null,
            "description_width": ""
          }
        },
        "d8ccbf5cdd2744728bbef296950fc3fc": {
          "model_module": "@jupyter-widgets/base",
          "model_name": "LayoutModel",
          "model_module_version": "1.2.0",
          "state": {
            "_model_module": "@jupyter-widgets/base",
            "_model_module_version": "1.2.0",
            "_model_name": "LayoutModel",
            "_view_count": null,
            "_view_module": "@jupyter-widgets/base",
            "_view_module_version": "1.2.0",
            "_view_name": "LayoutView",
            "align_content": null,
            "align_items": null,
            "align_self": null,
            "border": null,
            "bottom": null,
            "display": null,
            "flex": null,
            "flex_flow": null,
            "grid_area": null,
            "grid_auto_columns": null,
            "grid_auto_flow": null,
            "grid_auto_rows": null,
            "grid_column": null,
            "grid_gap": null,
            "grid_row": null,
            "grid_template_areas": null,
            "grid_template_columns": null,
            "grid_template_rows": null,
            "height": null,
            "justify_content": null,
            "justify_items": null,
            "left": null,
            "margin": null,
            "max_height": null,
            "max_width": null,
            "min_height": null,
            "min_width": null,
            "object_fit": null,
            "object_position": null,
            "order": null,
            "overflow": null,
            "overflow_x": null,
            "overflow_y": null,
            "padding": null,
            "right": null,
            "top": null,
            "visibility": null,
            "width": null
          }
        },
        "80ed453af46949ee9083c89e084dfbfb": {
          "model_module": "@jupyter-widgets/controls",
          "model_name": "DescriptionStyleModel",
          "model_module_version": "1.5.0",
          "state": {
            "_model_module": "@jupyter-widgets/controls",
            "_model_module_version": "1.5.0",
            "_model_name": "DescriptionStyleModel",
            "_view_count": null,
            "_view_module": "@jupyter-widgets/base",
            "_view_module_version": "1.2.0",
            "_view_name": "StyleView",
            "description_width": ""
          }
        },
        "120054dbf9364889bf8f58330f105cdd": {
          "model_module": "@jupyter-widgets/controls",
          "model_name": "HBoxModel",
          "model_module_version": "1.5.0",
          "state": {
            "_dom_classes": [],
            "_model_module": "@jupyter-widgets/controls",
            "_model_module_version": "1.5.0",
            "_model_name": "HBoxModel",
            "_view_count": null,
            "_view_module": "@jupyter-widgets/controls",
            "_view_module_version": "1.5.0",
            "_view_name": "HBoxView",
            "box_style": "",
            "children": [
              "IPY_MODEL_0f6ce6defb9043538b471e767d75b6a4",
              "IPY_MODEL_e4acb9c9d8114b0282e228ffb5cb7c6f",
              "IPY_MODEL_bda60626ba8d48f5958cbd58d4be9fb5"
            ],
            "layout": "IPY_MODEL_4a7c51f7fd304a7fadc0a0354dd05f9a"
          }
        },
        "0f6ce6defb9043538b471e767d75b6a4": {
          "model_module": "@jupyter-widgets/controls",
          "model_name": "HTMLModel",
          "model_module_version": "1.5.0",
          "state": {
            "_dom_classes": [],
            "_model_module": "@jupyter-widgets/controls",
            "_model_module_version": "1.5.0",
            "_model_name": "HTMLModel",
            "_view_count": null,
            "_view_module": "@jupyter-widgets/controls",
            "_view_module_version": "1.5.0",
            "_view_name": "HTMLView",
            "description": "",
            "description_tooltip": null,
            "layout": "IPY_MODEL_c92a8d14b2d4492ab46d792cd0931240",
            "placeholder": "​",
            "style": "IPY_MODEL_b3d3253d27064057bc17b0e26504bb68",
            "value": "model.safetensors: 100%"
          }
        },
        "e4acb9c9d8114b0282e228ffb5cb7c6f": {
          "model_module": "@jupyter-widgets/controls",
          "model_name": "FloatProgressModel",
          "model_module_version": "1.5.0",
          "state": {
            "_dom_classes": [],
            "_model_module": "@jupyter-widgets/controls",
            "_model_module_version": "1.5.0",
            "_model_name": "FloatProgressModel",
            "_view_count": null,
            "_view_module": "@jupyter-widgets/controls",
            "_view_module_version": "1.5.0",
            "_view_name": "ProgressView",
            "bar_style": "success",
            "description": "",
            "description_tooltip": null,
            "layout": "IPY_MODEL_2b60d697326d498cb0337d2893b00c65",
            "max": 548105171,
            "min": 0,
            "orientation": "horizontal",
            "style": "IPY_MODEL_0fbf25a6194044b4a3fd5fa23c283498",
            "value": 548105171
          }
        },
        "bda60626ba8d48f5958cbd58d4be9fb5": {
          "model_module": "@jupyter-widgets/controls",
          "model_name": "HTMLModel",
          "model_module_version": "1.5.0",
          "state": {
            "_dom_classes": [],
            "_model_module": "@jupyter-widgets/controls",
            "_model_module_version": "1.5.0",
            "_model_name": "HTMLModel",
            "_view_count": null,
            "_view_module": "@jupyter-widgets/controls",
            "_view_module_version": "1.5.0",
            "_view_name": "HTMLView",
            "description": "",
            "description_tooltip": null,
            "layout": "IPY_MODEL_6da6f872913b4a88a1e8b058217c5238",
            "placeholder": "​",
            "style": "IPY_MODEL_f233785304d842168f513d0e77c24a94",
            "value": " 548M/548M [00:03&lt;00:00, 167MB/s]"
          }
        },
        "4a7c51f7fd304a7fadc0a0354dd05f9a": {
          "model_module": "@jupyter-widgets/base",
          "model_name": "LayoutModel",
          "model_module_version": "1.2.0",
          "state": {
            "_model_module": "@jupyter-widgets/base",
            "_model_module_version": "1.2.0",
            "_model_name": "LayoutModel",
            "_view_count": null,
            "_view_module": "@jupyter-widgets/base",
            "_view_module_version": "1.2.0",
            "_view_name": "LayoutView",
            "align_content": null,
            "align_items": null,
            "align_self": null,
            "border": null,
            "bottom": null,
            "display": null,
            "flex": null,
            "flex_flow": null,
            "grid_area": null,
            "grid_auto_columns": null,
            "grid_auto_flow": null,
            "grid_auto_rows": null,
            "grid_column": null,
            "grid_gap": null,
            "grid_row": null,
            "grid_template_areas": null,
            "grid_template_columns": null,
            "grid_template_rows": null,
            "height": null,
            "justify_content": null,
            "justify_items": null,
            "left": null,
            "margin": null,
            "max_height": null,
            "max_width": null,
            "min_height": null,
            "min_width": null,
            "object_fit": null,
            "object_position": null,
            "order": null,
            "overflow": null,
            "overflow_x": null,
            "overflow_y": null,
            "padding": null,
            "right": null,
            "top": null,
            "visibility": null,
            "width": null
          }
        },
        "c92a8d14b2d4492ab46d792cd0931240": {
          "model_module": "@jupyter-widgets/base",
          "model_name": "LayoutModel",
          "model_module_version": "1.2.0",
          "state": {
            "_model_module": "@jupyter-widgets/base",
            "_model_module_version": "1.2.0",
            "_model_name": "LayoutModel",
            "_view_count": null,
            "_view_module": "@jupyter-widgets/base",
            "_view_module_version": "1.2.0",
            "_view_name": "LayoutView",
            "align_content": null,
            "align_items": null,
            "align_self": null,
            "border": null,
            "bottom": null,
            "display": null,
            "flex": null,
            "flex_flow": null,
            "grid_area": null,
            "grid_auto_columns": null,
            "grid_auto_flow": null,
            "grid_auto_rows": null,
            "grid_column": null,
            "grid_gap": null,
            "grid_row": null,
            "grid_template_areas": null,
            "grid_template_columns": null,
            "grid_template_rows": null,
            "height": null,
            "justify_content": null,
            "justify_items": null,
            "left": null,
            "margin": null,
            "max_height": null,
            "max_width": null,
            "min_height": null,
            "min_width": null,
            "object_fit": null,
            "object_position": null,
            "order": null,
            "overflow": null,
            "overflow_x": null,
            "overflow_y": null,
            "padding": null,
            "right": null,
            "top": null,
            "visibility": null,
            "width": null
          }
        },
        "b3d3253d27064057bc17b0e26504bb68": {
          "model_module": "@jupyter-widgets/controls",
          "model_name": "DescriptionStyleModel",
          "model_module_version": "1.5.0",
          "state": {
            "_model_module": "@jupyter-widgets/controls",
            "_model_module_version": "1.5.0",
            "_model_name": "DescriptionStyleModel",
            "_view_count": null,
            "_view_module": "@jupyter-widgets/base",
            "_view_module_version": "1.2.0",
            "_view_name": "StyleView",
            "description_width": ""
          }
        },
        "2b60d697326d498cb0337d2893b00c65": {
          "model_module": "@jupyter-widgets/base",
          "model_name": "LayoutModel",
          "model_module_version": "1.2.0",
          "state": {
            "_model_module": "@jupyter-widgets/base",
            "_model_module_version": "1.2.0",
            "_model_name": "LayoutModel",
            "_view_count": null,
            "_view_module": "@jupyter-widgets/base",
            "_view_module_version": "1.2.0",
            "_view_name": "LayoutView",
            "align_content": null,
            "align_items": null,
            "align_self": null,
            "border": null,
            "bottom": null,
            "display": null,
            "flex": null,
            "flex_flow": null,
            "grid_area": null,
            "grid_auto_columns": null,
            "grid_auto_flow": null,
            "grid_auto_rows": null,
            "grid_column": null,
            "grid_gap": null,
            "grid_row": null,
            "grid_template_areas": null,
            "grid_template_columns": null,
            "grid_template_rows": null,
            "height": null,
            "justify_content": null,
            "justify_items": null,
            "left": null,
            "margin": null,
            "max_height": null,
            "max_width": null,
            "min_height": null,
            "min_width": null,
            "object_fit": null,
            "object_position": null,
            "order": null,
            "overflow": null,
            "overflow_x": null,
            "overflow_y": null,
            "padding": null,
            "right": null,
            "top": null,
            "visibility": null,
            "width": null
          }
        },
        "0fbf25a6194044b4a3fd5fa23c283498": {
          "model_module": "@jupyter-widgets/controls",
          "model_name": "ProgressStyleModel",
          "model_module_version": "1.5.0",
          "state": {
            "_model_module": "@jupyter-widgets/controls",
            "_model_module_version": "1.5.0",
            "_model_name": "ProgressStyleModel",
            "_view_count": null,
            "_view_module": "@jupyter-widgets/base",
            "_view_module_version": "1.2.0",
            "_view_name": "StyleView",
            "bar_color": null,
            "description_width": ""
          }
        },
        "6da6f872913b4a88a1e8b058217c5238": {
          "model_module": "@jupyter-widgets/base",
          "model_name": "LayoutModel",
          "model_module_version": "1.2.0",
          "state": {
            "_model_module": "@jupyter-widgets/base",
            "_model_module_version": "1.2.0",
            "_model_name": "LayoutModel",
            "_view_count": null,
            "_view_module": "@jupyter-widgets/base",
            "_view_module_version": "1.2.0",
            "_view_name": "LayoutView",
            "align_content": null,
            "align_items": null,
            "align_self": null,
            "border": null,
            "bottom": null,
            "display": null,
            "flex": null,
            "flex_flow": null,
            "grid_area": null,
            "grid_auto_columns": null,
            "grid_auto_flow": null,
            "grid_auto_rows": null,
            "grid_column": null,
            "grid_gap": null,
            "grid_row": null,
            "grid_template_areas": null,
            "grid_template_columns": null,
            "grid_template_rows": null,
            "height": null,
            "justify_content": null,
            "justify_items": null,
            "left": null,
            "margin": null,
            "max_height": null,
            "max_width": null,
            "min_height": null,
            "min_width": null,
            "object_fit": null,
            "object_position": null,
            "order": null,
            "overflow": null,
            "overflow_x": null,
            "overflow_y": null,
            "padding": null,
            "right": null,
            "top": null,
            "visibility": null,
            "width": null
          }
        },
        "f233785304d842168f513d0e77c24a94": {
          "model_module": "@jupyter-widgets/controls",
          "model_name": "DescriptionStyleModel",
          "model_module_version": "1.5.0",
          "state": {
            "_model_module": "@jupyter-widgets/controls",
            "_model_module_version": "1.5.0",
            "_model_name": "DescriptionStyleModel",
            "_view_count": null,
            "_view_module": "@jupyter-widgets/base",
            "_view_module_version": "1.2.0",
            "_view_name": "StyleView",
            "description_width": ""
          }
        },
        "4fa8bff254a44578a4758a36536847a1": {
          "model_module": "@jupyter-widgets/controls",
          "model_name": "HBoxModel",
          "model_module_version": "1.5.0",
          "state": {
            "_dom_classes": [],
            "_model_module": "@jupyter-widgets/controls",
            "_model_module_version": "1.5.0",
            "_model_name": "HBoxModel",
            "_view_count": null,
            "_view_module": "@jupyter-widgets/controls",
            "_view_module_version": "1.5.0",
            "_view_name": "HBoxView",
            "box_style": "",
            "children": [
              "IPY_MODEL_1b1c26a2451f4fd293a6f82fd4232813",
              "IPY_MODEL_109aa60455cc429586680f9d6f23204f",
              "IPY_MODEL_68ce75aa5b294d04ad91a402b1795df2"
            ],
            "layout": "IPY_MODEL_be69e1b9a3c9461aa4c13fe302239b02"
          }
        },
        "1b1c26a2451f4fd293a6f82fd4232813": {
          "model_module": "@jupyter-widgets/controls",
          "model_name": "HTMLModel",
          "model_module_version": "1.5.0",
          "state": {
            "_dom_classes": [],
            "_model_module": "@jupyter-widgets/controls",
            "_model_module_version": "1.5.0",
            "_model_name": "HTMLModel",
            "_view_count": null,
            "_view_module": "@jupyter-widgets/controls",
            "_view_module_version": "1.5.0",
            "_view_name": "HTMLView",
            "description": "",
            "description_tooltip": null,
            "layout": "IPY_MODEL_463f2c0b704a48339f11b5b6c49bcb21",
            "placeholder": "​",
            "style": "IPY_MODEL_01988524a03c43c0b8fe84857d6ea64c",
            "value": "Map: 100%"
          }
        },
        "109aa60455cc429586680f9d6f23204f": {
          "model_module": "@jupyter-widgets/controls",
          "model_name": "FloatProgressModel",
          "model_module_version": "1.5.0",
          "state": {
            "_dom_classes": [],
            "_model_module": "@jupyter-widgets/controls",
            "_model_module_version": "1.5.0",
            "_model_name": "FloatProgressModel",
            "_view_count": null,
            "_view_module": "@jupyter-widgets/controls",
            "_view_module_version": "1.5.0",
            "_view_name": "ProgressView",
            "bar_style": "success",
            "description": "",
            "description_tooltip": null,
            "layout": "IPY_MODEL_2c177afd29a24f45b94a1019e7427cff",
            "max": 100,
            "min": 0,
            "orientation": "horizontal",
            "style": "IPY_MODEL_c8722dd0e03247898a9cfcbab1f31171",
            "value": 100
          }
        },
        "68ce75aa5b294d04ad91a402b1795df2": {
          "model_module": "@jupyter-widgets/controls",
          "model_name": "HTMLModel",
          "model_module_version": "1.5.0",
          "state": {
            "_dom_classes": [],
            "_model_module": "@jupyter-widgets/controls",
            "_model_module_version": "1.5.0",
            "_model_name": "HTMLModel",
            "_view_count": null,
            "_view_module": "@jupyter-widgets/controls",
            "_view_module_version": "1.5.0",
            "_view_name": "HTMLView",
            "description": "",
            "description_tooltip": null,
            "layout": "IPY_MODEL_813db8bb2c134b7bb5d9f611ad58396c",
            "placeholder": "​",
            "style": "IPY_MODEL_c2f6dbe4dfcb424bbcc9905259e92290",
            "value": " 100/100 [00:56&lt;00:00,  1.78 examples/s]"
          }
        },
        "be69e1b9a3c9461aa4c13fe302239b02": {
          "model_module": "@jupyter-widgets/base",
          "model_name": "LayoutModel",
          "model_module_version": "1.2.0",
          "state": {
            "_model_module": "@jupyter-widgets/base",
            "_model_module_version": "1.2.0",
            "_model_name": "LayoutModel",
            "_view_count": null,
            "_view_module": "@jupyter-widgets/base",
            "_view_module_version": "1.2.0",
            "_view_name": "LayoutView",
            "align_content": null,
            "align_items": null,
            "align_self": null,
            "border": null,
            "bottom": null,
            "display": null,
            "flex": null,
            "flex_flow": null,
            "grid_area": null,
            "grid_auto_columns": null,
            "grid_auto_flow": null,
            "grid_auto_rows": null,
            "grid_column": null,
            "grid_gap": null,
            "grid_row": null,
            "grid_template_areas": null,
            "grid_template_columns": null,
            "grid_template_rows": null,
            "height": null,
            "justify_content": null,
            "justify_items": null,
            "left": null,
            "margin": null,
            "max_height": null,
            "max_width": null,
            "min_height": null,
            "min_width": null,
            "object_fit": null,
            "object_position": null,
            "order": null,
            "overflow": null,
            "overflow_x": null,
            "overflow_y": null,
            "padding": null,
            "right": null,
            "top": null,
            "visibility": null,
            "width": null
          }
        },
        "463f2c0b704a48339f11b5b6c49bcb21": {
          "model_module": "@jupyter-widgets/base",
          "model_name": "LayoutModel",
          "model_module_version": "1.2.0",
          "state": {
            "_model_module": "@jupyter-widgets/base",
            "_model_module_version": "1.2.0",
            "_model_name": "LayoutModel",
            "_view_count": null,
            "_view_module": "@jupyter-widgets/base",
            "_view_module_version": "1.2.0",
            "_view_name": "LayoutView",
            "align_content": null,
            "align_items": null,
            "align_self": null,
            "border": null,
            "bottom": null,
            "display": null,
            "flex": null,
            "flex_flow": null,
            "grid_area": null,
            "grid_auto_columns": null,
            "grid_auto_flow": null,
            "grid_auto_rows": null,
            "grid_column": null,
            "grid_gap": null,
            "grid_row": null,
            "grid_template_areas": null,
            "grid_template_columns": null,
            "grid_template_rows": null,
            "height": null,
            "justify_content": null,
            "justify_items": null,
            "left": null,
            "margin": null,
            "max_height": null,
            "max_width": null,
            "min_height": null,
            "min_width": null,
            "object_fit": null,
            "object_position": null,
            "order": null,
            "overflow": null,
            "overflow_x": null,
            "overflow_y": null,
            "padding": null,
            "right": null,
            "top": null,
            "visibility": null,
            "width": null
          }
        },
        "01988524a03c43c0b8fe84857d6ea64c": {
          "model_module": "@jupyter-widgets/controls",
          "model_name": "DescriptionStyleModel",
          "model_module_version": "1.5.0",
          "state": {
            "_model_module": "@jupyter-widgets/controls",
            "_model_module_version": "1.5.0",
            "_model_name": "DescriptionStyleModel",
            "_view_count": null,
            "_view_module": "@jupyter-widgets/base",
            "_view_module_version": "1.2.0",
            "_view_name": "StyleView",
            "description_width": ""
          }
        },
        "2c177afd29a24f45b94a1019e7427cff": {
          "model_module": "@jupyter-widgets/base",
          "model_name": "LayoutModel",
          "model_module_version": "1.2.0",
          "state": {
            "_model_module": "@jupyter-widgets/base",
            "_model_module_version": "1.2.0",
            "_model_name": "LayoutModel",
            "_view_count": null,
            "_view_module": "@jupyter-widgets/base",
            "_view_module_version": "1.2.0",
            "_view_name": "LayoutView",
            "align_content": null,
            "align_items": null,
            "align_self": null,
            "border": null,
            "bottom": null,
            "display": null,
            "flex": null,
            "flex_flow": null,
            "grid_area": null,
            "grid_auto_columns": null,
            "grid_auto_flow": null,
            "grid_auto_rows": null,
            "grid_column": null,
            "grid_gap": null,
            "grid_row": null,
            "grid_template_areas": null,
            "grid_template_columns": null,
            "grid_template_rows": null,
            "height": null,
            "justify_content": null,
            "justify_items": null,
            "left": null,
            "margin": null,
            "max_height": null,
            "max_width": null,
            "min_height": null,
            "min_width": null,
            "object_fit": null,
            "object_position": null,
            "order": null,
            "overflow": null,
            "overflow_x": null,
            "overflow_y": null,
            "padding": null,
            "right": null,
            "top": null,
            "visibility": null,
            "width": null
          }
        },
        "c8722dd0e03247898a9cfcbab1f31171": {
          "model_module": "@jupyter-widgets/controls",
          "model_name": "ProgressStyleModel",
          "model_module_version": "1.5.0",
          "state": {
            "_model_module": "@jupyter-widgets/controls",
            "_model_module_version": "1.5.0",
            "_model_name": "ProgressStyleModel",
            "_view_count": null,
            "_view_module": "@jupyter-widgets/base",
            "_view_module_version": "1.2.0",
            "_view_name": "StyleView",
            "bar_color": null,
            "description_width": ""
          }
        },
        "813db8bb2c134b7bb5d9f611ad58396c": {
          "model_module": "@jupyter-widgets/base",
          "model_name": "LayoutModel",
          "model_module_version": "1.2.0",
          "state": {
            "_model_module": "@jupyter-widgets/base",
            "_model_module_version": "1.2.0",
            "_model_name": "LayoutModel",
            "_view_count": null,
            "_view_module": "@jupyter-widgets/base",
            "_view_module_version": "1.2.0",
            "_view_name": "LayoutView",
            "align_content": null,
            "align_items": null,
            "align_self": null,
            "border": null,
            "bottom": null,
            "display": null,
            "flex": null,
            "flex_flow": null,
            "grid_area": null,
            "grid_auto_columns": null,
            "grid_auto_flow": null,
            "grid_auto_rows": null,
            "grid_column": null,
            "grid_gap": null,
            "grid_row": null,
            "grid_template_areas": null,
            "grid_template_columns": null,
            "grid_template_rows": null,
            "height": null,
            "justify_content": null,
            "justify_items": null,
            "left": null,
            "margin": null,
            "max_height": null,
            "max_width": null,
            "min_height": null,
            "min_width": null,
            "object_fit": null,
            "object_position": null,
            "order": null,
            "overflow": null,
            "overflow_x": null,
            "overflow_y": null,
            "padding": null,
            "right": null,
            "top": null,
            "visibility": null,
            "width": null
          }
        },
        "c2f6dbe4dfcb424bbcc9905259e92290": {
          "model_module": "@jupyter-widgets/controls",
          "model_name": "DescriptionStyleModel",
          "model_module_version": "1.5.0",
          "state": {
            "_model_module": "@jupyter-widgets/controls",
            "_model_module_version": "1.5.0",
            "_model_name": "DescriptionStyleModel",
            "_view_count": null,
            "_view_module": "@jupyter-widgets/base",
            "_view_module_version": "1.2.0",
            "_view_name": "StyleView",
            "description_width": ""
          }
        }
      }
    }
  },
  "nbformat": 4,
  "nbformat_minor": 0
}