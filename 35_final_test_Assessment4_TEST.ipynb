{
  "nbformat": 4,
  "nbformat_minor": 0,
  "metadata": {
    "colab": {
      "provenance": [],
      "include_colab_link": true
    },
    "kernelspec": {
      "name": "python3",
      "display_name": "Python 3"
    },
    "language_info": {
      "name": "python"
    }
  },
  "cells": [
    {
      "cell_type": "markdown",
      "metadata": {
        "id": "view-in-github",
        "colab_type": "text"
      },
      "source": [
        "<a href=\"https://colab.research.google.com/github/SARA3SAEED/LLM-2/blob/main/35_final_test_Assessment4_TEST.ipynb\" target=\"_parent\"><img src=\"https://colab.research.google.com/assets/colab-badge.svg\" alt=\"Open In Colab\"/></a>"
      ]
    },
    {
      "cell_type": "code",
      "source": [
        "from IPython.display import HTML, display\n",
        "\n",
        "def set_css():\n",
        "  display(HTML('''\n",
        "  <style>\n",
        "    pre {\n",
        "        white-space: pre-wrap;\n",
        "    }\n",
        "  </style>\n",
        "  '''))\n",
        "get_ipython().events.register('pre_run_cell', set_css)"
      ],
      "metadata": {
        "id": "7_1AW_Os1iVH"
      },
      "execution_count": 1,
      "outputs": []
    },
    {
      "cell_type": "code",
      "execution_count": 7,
      "metadata": {
        "id": "WFSY3muO0fPk",
        "outputId": "e3238e90-3087-46bf-f210-c8b579000ff5",
        "colab": {
          "base_uri": "https://localhost:8080/",
          "height": 17
        }
      },
      "outputs": [
        {
          "output_type": "display_data",
          "data": {
            "text/plain": [
              "<IPython.core.display.HTML object>"
            ],
            "text/html": [
              "\n",
              "  <style>\n",
              "    pre {\n",
              "        white-space: pre-wrap;\n",
              "    }\n",
              "  </style>\n",
              "  "
            ]
          },
          "metadata": {}
        }
      ],
      "source": [
        "public_url = \"https://6779-34-124-237-73.ngrok-free.app\""
      ]
    },
    {
      "cell_type": "code",
      "source": [
        "##############\n",
        "question = \"What are the unequality in India?\"\n",
        "##############\n",
        "\n",
        "\n",
        "context = \"\"\"\n",
        "\n",
        "\"\"\"\n"
      ],
      "metadata": {
        "id": "9GezPYJ_kvmP",
        "outputId": "c657fb42-88d0-4fec-df75-9f5007b5aba5",
        "colab": {
          "base_uri": "https://localhost:8080/",
          "height": 17
        }
      },
      "execution_count": 3,
      "outputs": [
        {
          "output_type": "display_data",
          "data": {
            "text/plain": [
              "<IPython.core.display.HTML object>"
            ],
            "text/html": [
              "\n",
              "  <style>\n",
              "    pre {\n",
              "        white-space: pre-wrap;\n",
              "    }\n",
              "  </style>\n",
              "  "
            ]
          },
          "metadata": {}
        }
      ]
    },
    {
      "cell_type": "code",
      "source": [
        "import requests\n",
        "\n",
        "\n",
        "input_text = {\n",
        "    \"context\": context,\n",
        "    \"question\": question\n",
        "}\n",
        "\n",
        "def fetch_data():\n",
        "    response = requests.post(f'{public_url}/query', json=input_text, stream=True)\n",
        "    for chunk in response.iter_content(chunk_size=1024):\n",
        "\n",
        "        print(chunk.decode('utf-8'), end='')\n",
        "\n",
        "\n",
        "fetch_data()\n",
        "\n",
        "\n",
        "\n"
      ],
      "metadata": {
        "colab": {
          "base_uri": "https://localhost:8080/",
          "height": 254
        },
        "id": "NWx_V-TaK7Ud",
        "outputId": "2686c4f7-0b26-4866-931a-aa3726fccfe7"
      },
      "execution_count": 8,
      "outputs": [
        {
          "output_type": "display_data",
          "data": {
            "text/plain": [
              "<IPython.core.display.HTML object>"
            ],
            "text/html": [
              "\n",
              "  <style>\n",
              "    pre {\n",
              "        white-space: pre-wrap;\n",
              "    }\n",
              "  </style>\n",
              "  "
            ]
          },
          "metadata": {}
        },
        {
          "output_type": "stream",
          "name": "stdout",
          "text": [
            "[\"What are the unequality in India? If you work in a MNC and have a desk job, then you should be definitely worried about your health. In this article we tell you the 5 most common reasons why employees in India are becoming unhealthy day by day. We also tell you how you can take care of your health.\\nLack of sleep\\nYou put in more than 10 hours of work every day. Post that you have family to take care of, and then there goes your sleep time for a toss. An alarming number of Indians are becoming sleep deprived. An adult body requires 6-8 hours of sleep every day.\\nSide effects:- decreased ability to concentrate, decreased analytical capability, increase in weight and in some cases other diseases.\\nRemedy:- Sleep for a minimum of 6 hours every day. This should be continuous sleep and not in instalments. Also avoid use of TV, Mobiles, Tablets & Laptops before sleeping.\\nWork related stress\\nWe understand your work and your career mean everything for you, but that doesn’t mean that you become completely stressed out due to this. Please understand that if you stress yourself, you will not achieve the previous quarters missed sales number, or you won’t win that important deal that you lost. Rather be calm and analyse where did you or your team went wrong and try to avoid it next time. Taking stress will help neither you nor your employer. Also work will always continue with you or without you, so stop getting stressed about it.\\nSide effects:- Decreased analytical capability, mood swings, irritating nature, cardio-vascular diseases.\\nRemedy:- Avoid excessive caffeine, nicotine & alcohol intake. Start doing Yoga.\\nOverly packed Schedules\\nInspite of clocking more than 60-70 hours every week at your office you still have lots of things pending. Does that sound familiar? If yes, then you seriously need to manage your time better. Because of your over packed schedule your health will start to suffer and you won’t be able to do anything about it.\\nSide Effects:- Weight gain, Blood Pressure problems, cardio-vascular diseases.\\nRemedy:- Manage your time better, prioritize your tasks, delegate more and delegate often. Put a limit to your office time. Work will always be there you need to give time to yourself. If your boss is not agreeing to it, try and find a new job. You are not a slave. Your health is more important than your job and if your current employer doesn't understand this, it's time you move on.\"]"
          ]
        }
      ]
    },
    {
      "cell_type": "code",
      "source": [],
      "metadata": {
        "id": "9SvHZEUnHl7S"
      },
      "execution_count": null,
      "outputs": []
    }
  ]
}