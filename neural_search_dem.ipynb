{
 "cells": [
  {
   "cell_type": "code",
   "execution_count": 10,
   "metadata": {},
   "outputs": [
    {
     "name": "stderr",
     "output_type": "stream",
     "text": [
      "c:\\Users\\hanye\\.conda\\envs\\t5_cap\\lib\\site-packages\\sentence_transformers\\cross_encoder\\CrossEncoder.py:11: TqdmWarning: IProgress not found. Please update jupyter and ipywidgets. See https://ipywidgets.readthedocs.io/en/stable/user_install.html\n",
      "  from tqdm.autonotebook import tqdm, trange\n"
     ]
    },
    {
     "name": "stdout",
     "output_type": "stream",
     "text": [
      "WARNING:tensorflow:From c:\\Users\\hanye\\.conda\\envs\\t5_cap\\lib\\site-packages\\keras\\src\\losses.py:2976: The name tf.losses.sparse_softmax_cross_entropy is deprecated. Please use tf.compat.v1.losses.sparse_softmax_cross_entropy instead.\n",
      "\n"
     ]
    }
   ],
   "source": [
    "from sentence_transformers import SentenceTransformer\n",
    "import numpy as np\n",
    "import json\n",
    "import pandas as pd\n",
    "from tqdm.notebook import tqdm"
   ]
  },
  {
   "cell_type": "code",
   "execution_count": null,
   "metadata": {},
   "outputs": [],
   "source": [
    "\n",
    "\n",
    "!curl -O https://storage.googleapis.com/generall-shared-data/startups_demo.json\n"
   ]
  },
  {
   "cell_type": "code",
   "execution_count": 15,
   "metadata": {},
   "outputs": [],
   "source": [
    "model = SentenceTransformer(\n",
    "    \"all-MiniLM-L6-v2\", device=\"cpu\"\n",
    ")  # or device=\"cpu\" if you don't have a GPU"
   ]
  },
  {
   "cell_type": "code",
   "execution_count": 16,
   "metadata": {},
   "outputs": [],
   "source": [
    "df = pd.read_json(\"./startups_demo.json\", lines=True)"
   ]
  },
  {
   "cell_type": "code",
   "execution_count": 17,
   "metadata": {},
   "outputs": [
    {
     "name": "stderr",
     "output_type": "stream",
     "text": [
      "Batches: 100%|██████████| 1265/1265 [14:42<00:00,  1.43it/s]\n"
     ]
    }
   ],
   "source": [
    "vectors = model.encode(\n",
    "    [row.alt + \". \" + row.description for row in df.itertuples()],\n",
    "    show_progress_bar=True,\n",
    ")"
   ]
  },
  {
   "cell_type": "code",
   "execution_count": 19,
   "metadata": {},
   "outputs": [
    {
     "data": {
      "text/plain": [
       "(40474, 384)"
      ]
     },
     "execution_count": 19,
     "metadata": {},
     "output_type": "execute_result"
    }
   ],
   "source": [
    "vectors.shape\n",
    "# > (40474, 384)"
   ]
  },
  {
   "cell_type": "code",
   "execution_count": 20,
   "metadata": {},
   "outputs": [],
   "source": [
    "np.save(\"startup_vectors.npy\", vectors, allow_pickle=False)"
   ]
  },
  {
   "cell_type": "markdown",
   "metadata": {},
   "source": [
    "## Run Qdrant in Docker"
   ]
  },
  {
   "cell_type": "code",
   "execution_count": null,
   "metadata": {},
   "outputs": [],
   "source": [
    "## command lines\n",
    "# docker pull qdrant/qdrant\n",
    "# mkdir my-project\n",
    "# cd my-project\n",
    "# mkdir qdrant_storage\n",
    "# docker run --name qdrant_instance -p 6333:6333 -v ..path/my-project/qdrant_storage:/qdrant/storage -d qdrant/qdrant\n"
   ]
  },
  {
   "cell_type": "code",
   "execution_count": 21,
   "metadata": {},
   "outputs": [],
   "source": [
    "# Import client library\n",
    "from qdrant_client import QdrantClient\n",
    "from qdrant_client.models import VectorParams, Distance\n",
    "\n",
    "client = QdrantClient(\"http://localhost:6333\")"
   ]
  },
  {
   "cell_type": "code",
   "execution_count": 22,
   "metadata": {},
   "outputs": [],
   "source": [
    "if not client.collection_exists(\"startups\"):\n",
    "    client.create_collection(\n",
    "        collection_name=\"startups\",\n",
    "        vectors_config=VectorParams(size=384, distance=Distance.COSINE),\n",
    "    )"
   ]
  },
  {
   "cell_type": "code",
   "execution_count": 33,
   "metadata": {},
   "outputs": [],
   "source": [
    "fd = open(\"./startups_demo.json\")\n",
    "\n",
    "# payload is now an iterator over startup data\n",
    "payload = map(json.loads, fd)\n",
    "\n",
    "# Load all vectors into memory, numpy array works as iterable for itself.\n",
    "# Other option would be to use Mmap, if you don't want to load all data into RAM\n",
    "vectors = np.load(\"./startup_vectors.npy\")"
   ]
  },
  {
   "cell_type": "code",
   "execution_count": 34,
   "metadata": {},
   "outputs": [
    {
     "name": "stdout",
     "output_type": "stream",
     "text": [
      "Item 0: {'name': 'SaferCodes', 'images': 'https://safer.codes/img/brand/logo-icon.png', 'alt': 'SaferCodes Logo QR codes generator system forms for COVID-19', 'description': 'QR codes systems for COVID-19.\\nSimple tools for bars, restaurants, offices, and other small proximity businesses.', 'link': 'https://safer.codes', 'city': 'Chicago'}\n",
      "Item 1: {'name': 'Human Practice', 'images': 'https://d1qb2nb5cznatu.cloudfront.net/startups/i/373036-94d1e190f12f2c919c3566ecaecbda68-thumb_jpg.jpg?buster=1396498835', 'alt': 'Human Practice -  health care information technology', 'description': 'Point-of-care word of mouth\\nPreferral is a mobile platform that channels physicians’ interest in networking with their peers to build referrals within a hospital system.\\nHospitals are in a race to employ physicians, even though they lose billions each year ($40B in 2014) on employment. Why ...', 'link': 'http://humanpractice.com', 'city': 'Chicago'}\n",
      "Item 2: {'name': 'StyleSeek', 'images': 'https://d1qb2nb5cznatu.cloudfront.net/startups/i/3747-bb0338d641617b54f5234a1d3bfc6fd0-thumb_jpg.jpg?buster=1329158692', 'alt': 'StyleSeek -  e-commerce fashion mass customization online shopping', 'description': 'Personalized e-commerce for lifestyle products\\nStyleSeek is a personalized e-commerce site for lifestyle products.\\nIt works across the style spectrum by enabling users (both men and women) to create and refine their unique StyleDNA.\\nStyleSeek also promotes new products via its email newsletter, 100% personalized ...', 'link': 'http://styleseek.com', 'city': 'Chicago'}\n",
      "Item 3: {'name': 'Scout', 'images': 'https://d1qb2nb5cznatu.cloudfront.net/startups/i/190790-dbe27fe8cda0614d644431f853b64e8f-thumb_jpg.jpg?buster=1389652078', 'alt': 'Scout -  security consumer electronics internet of things', 'description': \"Hassle-free Home Security\\nScout is a self-installed, wireless home security system. We've created a more open, affordable and modern system than what is available on the market today. With month-to-month contracts and portable devices, Scout is a renter-friendly solution for the other ...\", 'link': 'http://www.scoutalarm.com', 'city': 'Chicago'}\n",
      "Item 4: {'name': 'Invitation codes', 'images': 'https://invitation.codes/img/inv-brand-fb3.png', 'alt': 'Invitation App - Share referral codes community ', 'description': 'The referral community\\nInvitation App is a social network where people post their referral codes and collect rewards on autopilot.', 'link': 'https://invitation.codes', 'city': 'Chicago'}\n"
     ]
    }
   ],
   "source": [
    "payload_list = list(payload)\n",
    "for i, data in enumerate(payload_list[:5]):  # Change the slice to see more items\n",
    "    print(f\"Item {i}: {data}\")"
   ]
  },
  {
   "cell_type": "code",
   "execution_count": 25,
   "metadata": {},
   "outputs": [],
   "source": [
    "client.upload_collection(\n",
    "    collection_name=\"startups\",\n",
    "    vectors=vectors,\n",
    "    payload=payload,\n",
    "    ids=None,  # Vector ids will be assigned automatically\n",
    "    batch_size=256,  # How many vectors will be uploaded in a single request?\n",
    ")"
   ]
  },
  {
   "cell_type": "markdown",
   "metadata": {},
   "source": [
    "## Build the search API"
   ]
  },
  {
   "cell_type": "code",
   "execution_count": 47,
   "metadata": {},
   "outputs": [],
   "source": [
    "from qdrant_client import QdrantClient\n",
    "from sentence_transformers import SentenceTransformer\n",
    "from qdrant_client.models import Filter\n",
    "    \n",
    "city_of_interest = \"Berlin\"\n",
    "# Define a filter for cities\n",
    "city_filter = Filter(**{\n",
    "    \"must\": [{\n",
    "        \"key\": \"city\", # Store city information in a field of the same name \n",
    "        \"match\": { # This condition checks if payload field has the requested value\n",
    "            \"value\": city_of_interest\n",
    "        }\n",
    "    }]\n",
    "})\n",
    "\n",
    "class NeuralSearcher:\n",
    "    def __init__(self, collection_name):\n",
    "        self.collection_name = collection_name\n",
    "        # Initialize encoder model\n",
    "        self.model = SentenceTransformer(\"all-MiniLM-L6-v2\", device=\"cpu\")\n",
    "        # initialize Qdrant client\n",
    "        self.qdrant_client = QdrantClient(\"http://localhost:6333\")\n",
    "    def search(self, text: str):\n",
    "        # Convert text query into vector\n",
    "        vector = self.model.encode(text).tolist()\n",
    "\n",
    "        # Use `vector` for search for closest vectors in the collection\n",
    "        search_result = self.qdrant_client.search(\n",
    "            collection_name=self.collection_name,\n",
    "            query_vector=vector,\n",
    "            #query_filter=None,  # If you don't want any filters for now\n",
    "            query_filter=city_filter,# TEST WITH AND WITHOUT FILTER\n",
    "            limit=5,  # 5 the most closest results is enough\n",
    "        )\n",
    "        # `search_result` contains found vector ids with similarity scores along with the stored payload\n",
    "        # In this function you are interested in payload only\n",
    "        payloads = [hit.payload for hit in search_result]\n",
    "        return payloads\n",
    "    \n",
    "        "
   ]
  }
 ],
 "metadata": {
  "kernelspec": {
   "display_name": "base",
   "language": "python",
   "name": "python3"
  },
  "language_info": {
   "codemirror_mode": {
    "name": "ipython",
    "version": 3
   },
   "file_extension": ".py",
   "mimetype": "text/x-python",
   "name": "python",
   "nbconvert_exporter": "python",
   "pygments_lexer": "ipython3",
   "version": "3.10.13"
  }
 },
 "nbformat": 4,
 "nbformat_minor": 2
}
