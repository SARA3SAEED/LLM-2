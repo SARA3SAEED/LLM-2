{
  "cells": [
    {
      "cell_type": "markdown",
      "metadata": {
        "id": "view-in-github",
        "colab_type": "text"
      },
      "source": [
        "<a href=\"https://colab.research.google.com/github/SARA3SAEED/LLM-2/blob/main/8LLM_v2_module_5_large_embedding.ipynb\" target=\"_parent\"><img src=\"https://colab.research.google.com/assets/colab-badge.svg\" alt=\"Open In Colab\"/></a>"
      ]
    },
    {
      "cell_type": "code",
      "execution_count": null,
      "metadata": {
        "id": "f7gr5j8iDEva",
        "colab": {
          "base_uri": "https://localhost:8080/"
        },
        "outputId": "e4dab63a-47b3-40f0-8c2f-a0cfdabcf731"
      },
      "outputs": [
        {
          "output_type": "stream",
          "name": "stdout",
          "text": [
            "Collecting sentence_transformers\n",
            "  Downloading sentence_transformers-3.0.1-py3-none-any.whl.metadata (10 kB)\n",
            "Collecting openai\n",
            "  Downloading openai-1.38.0-py3-none-any.whl.metadata (22 kB)\n",
            "Collecting unstructured\n",
            "  Downloading unstructured-0.15.0-py3-none-any.whl.metadata (29 kB)\n",
            "Requirement already satisfied: transformers<5.0.0,>=4.34.0 in /usr/local/lib/python3.10/dist-packages (from sentence_transformers) (4.42.4)\n",
            "Requirement already satisfied: tqdm in /usr/local/lib/python3.10/dist-packages (from sentence_transformers) (4.66.4)\n",
            "Requirement already satisfied: torch>=1.11.0 in /usr/local/lib/python3.10/dist-packages (from sentence_transformers) (2.3.1+cu121)\n",
            "Requirement already satisfied: numpy in /usr/local/lib/python3.10/dist-packages (from sentence_transformers) (1.26.4)\n",
            "Requirement already satisfied: scikit-learn in /usr/local/lib/python3.10/dist-packages (from sentence_transformers) (1.3.2)\n",
            "Requirement already satisfied: scipy in /usr/local/lib/python3.10/dist-packages (from sentence_transformers) (1.13.1)\n",
            "Requirement already satisfied: huggingface-hub>=0.15.1 in /usr/local/lib/python3.10/dist-packages (from sentence_transformers) (0.23.5)\n",
            "Requirement already satisfied: Pillow in /usr/local/lib/python3.10/dist-packages (from sentence_transformers) (9.4.0)\n",
            "Requirement already satisfied: anyio<5,>=3.5.0 in /usr/local/lib/python3.10/dist-packages (from openai) (3.7.1)\n",
            "Requirement already satisfied: distro<2,>=1.7.0 in /usr/lib/python3/dist-packages (from openai) (1.7.0)\n",
            "Collecting httpx<1,>=0.23.0 (from openai)\n",
            "  Downloading httpx-0.27.0-py3-none-any.whl.metadata (7.2 kB)\n",
            "Requirement already satisfied: pydantic<3,>=1.9.0 in /usr/local/lib/python3.10/dist-packages (from openai) (2.8.2)\n",
            "Requirement already satisfied: sniffio in /usr/local/lib/python3.10/dist-packages (from openai) (1.3.1)\n",
            "Requirement already satisfied: typing-extensions<5,>=4.7 in /usr/local/lib/python3.10/dist-packages (from openai) (4.12.2)\n",
            "Requirement already satisfied: chardet in /usr/local/lib/python3.10/dist-packages (from unstructured) (5.2.0)\n",
            "Collecting filetype (from unstructured)\n",
            "  Downloading filetype-1.2.0-py2.py3-none-any.whl.metadata (6.5 kB)\n",
            "Collecting python-magic (from unstructured)\n",
            "  Downloading python_magic-0.4.27-py2.py3-none-any.whl.metadata (5.8 kB)\n",
            "Requirement already satisfied: lxml in /usr/local/lib/python3.10/dist-packages (from unstructured) (4.9.4)\n",
            "Requirement already satisfied: nltk in /usr/local/lib/python3.10/dist-packages (from unstructured) (3.8.1)\n",
            "Requirement already satisfied: tabulate in /usr/local/lib/python3.10/dist-packages (from unstructured) (0.9.0)\n",
            "Requirement already satisfied: requests in /usr/local/lib/python3.10/dist-packages (from unstructured) (2.31.0)\n",
            "Requirement already satisfied: beautifulsoup4 in /usr/local/lib/python3.10/dist-packages (from unstructured) (4.12.3)\n",
            "Collecting emoji (from unstructured)\n",
            "  Downloading emoji-2.12.1-py3-none-any.whl.metadata (5.4 kB)\n",
            "Collecting dataclasses-json (from unstructured)\n",
            "  Downloading dataclasses_json-0.6.7-py3-none-any.whl.metadata (25 kB)\n",
            "Collecting python-iso639 (from unstructured)\n",
            "  Downloading python_iso639-2024.4.27-py3-none-any.whl.metadata (13 kB)\n",
            "Collecting langdetect (from unstructured)\n",
            "  Downloading langdetect-1.0.9.tar.gz (981 kB)\n",
            "\u001b[2K     \u001b[90m━━━━━━━━━━━━━━━━━━━━━━━━━━━━━━━━━━━━━━━━\u001b[0m \u001b[32m981.5/981.5 kB\u001b[0m \u001b[31m6.4 MB/s\u001b[0m eta \u001b[36m0:00:00\u001b[0m\n",
            "\u001b[?25h  Preparing metadata (setup.py) ... \u001b[?25l\u001b[?25hdone\n",
            "Collecting rapidfuzz (from unstructured)\n",
            "  Downloading rapidfuzz-3.9.5-cp310-cp310-manylinux_2_17_x86_64.manylinux2014_x86_64.whl.metadata (12 kB)\n",
            "Collecting backoff (from unstructured)\n",
            "  Downloading backoff-2.2.1-py3-none-any.whl.metadata (14 kB)\n",
            "Collecting unstructured-client (from unstructured)\n",
            "  Downloading unstructured_client-0.25.1-py3-none-any.whl.metadata (13 kB)\n",
            "Requirement already satisfied: wrapt in /usr/local/lib/python3.10/dist-packages (from unstructured) (1.16.0)\n",
            "Requirement already satisfied: psutil in /usr/local/lib/python3.10/dist-packages (from unstructured) (5.9.5)\n",
            "Requirement already satisfied: idna>=2.8 in /usr/local/lib/python3.10/dist-packages (from anyio<5,>=3.5.0->openai) (3.7)\n",
            "Requirement already satisfied: exceptiongroup in /usr/local/lib/python3.10/dist-packages (from anyio<5,>=3.5.0->openai) (1.2.2)\n",
            "Requirement already satisfied: certifi in /usr/local/lib/python3.10/dist-packages (from httpx<1,>=0.23.0->openai) (2024.7.4)\n",
            "Collecting httpcore==1.* (from httpx<1,>=0.23.0->openai)\n",
            "  Downloading httpcore-1.0.5-py3-none-any.whl.metadata (20 kB)\n",
            "Collecting h11<0.15,>=0.13 (from httpcore==1.*->httpx<1,>=0.23.0->openai)\n",
            "  Downloading h11-0.14.0-py3-none-any.whl.metadata (8.2 kB)\n",
            "Requirement already satisfied: filelock in /usr/local/lib/python3.10/dist-packages (from huggingface-hub>=0.15.1->sentence_transformers) (3.15.4)\n",
            "Requirement already satisfied: fsspec>=2023.5.0 in /usr/local/lib/python3.10/dist-packages (from huggingface-hub>=0.15.1->sentence_transformers) (2024.6.1)\n",
            "Requirement already satisfied: packaging>=20.9 in /usr/local/lib/python3.10/dist-packages (from huggingface-hub>=0.15.1->sentence_transformers) (24.1)\n",
            "Requirement already satisfied: pyyaml>=5.1 in /usr/local/lib/python3.10/dist-packages (from huggingface-hub>=0.15.1->sentence_transformers) (6.0.1)\n",
            "Requirement already satisfied: annotated-types>=0.4.0 in /usr/local/lib/python3.10/dist-packages (from pydantic<3,>=1.9.0->openai) (0.7.0)\n",
            "Requirement already satisfied: pydantic-core==2.20.1 in /usr/local/lib/python3.10/dist-packages (from pydantic<3,>=1.9.0->openai) (2.20.1)\n",
            "Requirement already satisfied: sympy in /usr/local/lib/python3.10/dist-packages (from torch>=1.11.0->sentence_transformers) (1.13.1)\n",
            "Requirement already satisfied: networkx in /usr/local/lib/python3.10/dist-packages (from torch>=1.11.0->sentence_transformers) (3.3)\n",
            "Requirement already satisfied: jinja2 in /usr/local/lib/python3.10/dist-packages (from torch>=1.11.0->sentence_transformers) (3.1.4)\n",
            "Collecting nvidia-cuda-nvrtc-cu12==12.1.105 (from torch>=1.11.0->sentence_transformers)\n",
            "  Using cached nvidia_cuda_nvrtc_cu12-12.1.105-py3-none-manylinux1_x86_64.whl.metadata (1.5 kB)\n",
            "Collecting nvidia-cuda-runtime-cu12==12.1.105 (from torch>=1.11.0->sentence_transformers)\n",
            "  Using cached nvidia_cuda_runtime_cu12-12.1.105-py3-none-manylinux1_x86_64.whl.metadata (1.5 kB)\n",
            "Collecting nvidia-cuda-cupti-cu12==12.1.105 (from torch>=1.11.0->sentence_transformers)\n",
            "  Using cached nvidia_cuda_cupti_cu12-12.1.105-py3-none-manylinux1_x86_64.whl.metadata (1.6 kB)\n",
            "Collecting nvidia-cudnn-cu12==8.9.2.26 (from torch>=1.11.0->sentence_transformers)\n",
            "  Using cached nvidia_cudnn_cu12-8.9.2.26-py3-none-manylinux1_x86_64.whl.metadata (1.6 kB)\n",
            "Collecting nvidia-cublas-cu12==12.1.3.1 (from torch>=1.11.0->sentence_transformers)\n",
            "  Using cached nvidia_cublas_cu12-12.1.3.1-py3-none-manylinux1_x86_64.whl.metadata (1.5 kB)\n",
            "Collecting nvidia-cufft-cu12==11.0.2.54 (from torch>=1.11.0->sentence_transformers)\n",
            "  Using cached nvidia_cufft_cu12-11.0.2.54-py3-none-manylinux1_x86_64.whl.metadata (1.5 kB)\n",
            "Collecting nvidia-curand-cu12==10.3.2.106 (from torch>=1.11.0->sentence_transformers)\n",
            "  Using cached nvidia_curand_cu12-10.3.2.106-py3-none-manylinux1_x86_64.whl.metadata (1.5 kB)\n",
            "Collecting nvidia-cusolver-cu12==11.4.5.107 (from torch>=1.11.0->sentence_transformers)\n",
            "  Using cached nvidia_cusolver_cu12-11.4.5.107-py3-none-manylinux1_x86_64.whl.metadata (1.6 kB)\n",
            "Collecting nvidia-cusparse-cu12==12.1.0.106 (from torch>=1.11.0->sentence_transformers)\n",
            "  Using cached nvidia_cusparse_cu12-12.1.0.106-py3-none-manylinux1_x86_64.whl.metadata (1.6 kB)\n",
            "Collecting nvidia-nccl-cu12==2.20.5 (from torch>=1.11.0->sentence_transformers)\n",
            "  Using cached nvidia_nccl_cu12-2.20.5-py3-none-manylinux2014_x86_64.whl.metadata (1.8 kB)\n",
            "Collecting nvidia-nvtx-cu12==12.1.105 (from torch>=1.11.0->sentence_transformers)\n",
            "  Using cached nvidia_nvtx_cu12-12.1.105-py3-none-manylinux1_x86_64.whl.metadata (1.7 kB)\n",
            "Requirement already satisfied: triton==2.3.1 in /usr/local/lib/python3.10/dist-packages (from torch>=1.11.0->sentence_transformers) (2.3.1)\n",
            "Collecting nvidia-nvjitlink-cu12 (from nvidia-cusolver-cu12==11.4.5.107->torch>=1.11.0->sentence_transformers)\n",
            "  Downloading nvidia_nvjitlink_cu12-12.6.20-py3-none-manylinux2014_x86_64.whl.metadata (1.5 kB)\n",
            "Requirement already satisfied: regex!=2019.12.17 in /usr/local/lib/python3.10/dist-packages (from transformers<5.0.0,>=4.34.0->sentence_transformers) (2024.5.15)\n",
            "Requirement already satisfied: safetensors>=0.4.1 in /usr/local/lib/python3.10/dist-packages (from transformers<5.0.0,>=4.34.0->sentence_transformers) (0.4.3)\n",
            "Requirement already satisfied: tokenizers<0.20,>=0.19 in /usr/local/lib/python3.10/dist-packages (from transformers<5.0.0,>=4.34.0->sentence_transformers) (0.19.1)\n",
            "Requirement already satisfied: soupsieve>1.2 in /usr/local/lib/python3.10/dist-packages (from beautifulsoup4->unstructured) (2.5)\n",
            "Collecting marshmallow<4.0.0,>=3.18.0 (from dataclasses-json->unstructured)\n",
            "  Downloading marshmallow-3.21.3-py3-none-any.whl.metadata (7.1 kB)\n",
            "Collecting typing-inspect<1,>=0.4.0 (from dataclasses-json->unstructured)\n",
            "  Downloading typing_inspect-0.9.0-py3-none-any.whl.metadata (1.5 kB)\n",
            "Requirement already satisfied: six in /usr/local/lib/python3.10/dist-packages (from langdetect->unstructured) (1.16.0)\n",
            "Requirement already satisfied: click in /usr/local/lib/python3.10/dist-packages (from nltk->unstructured) (8.1.7)\n",
            "Requirement already satisfied: joblib in /usr/local/lib/python3.10/dist-packages (from nltk->unstructured) (1.4.2)\n",
            "Requirement already satisfied: charset-normalizer<4,>=2 in /usr/local/lib/python3.10/dist-packages (from requests->unstructured) (3.3.2)\n",
            "Requirement already satisfied: urllib3<3,>=1.21.1 in /usr/local/lib/python3.10/dist-packages (from requests->unstructured) (2.0.7)\n",
            "Requirement already satisfied: threadpoolctl>=2.0.0 in /usr/local/lib/python3.10/dist-packages (from scikit-learn->sentence_transformers) (3.5.0)\n",
            "Collecting deepdiff>=6.0 (from unstructured-client->unstructured)\n",
            "  Downloading deepdiff-7.0.1-py3-none-any.whl.metadata (6.8 kB)\n",
            "Collecting jsonpath-python>=1.0.6 (from unstructured-client->unstructured)\n",
            "  Downloading jsonpath_python-1.0.6-py3-none-any.whl.metadata (12 kB)\n",
            "Collecting mypy-extensions>=1.0.0 (from unstructured-client->unstructured)\n",
            "  Downloading mypy_extensions-1.0.0-py3-none-any.whl.metadata (1.1 kB)\n",
            "Requirement already satisfied: nest-asyncio>=1.6.0 in /usr/local/lib/python3.10/dist-packages (from unstructured-client->unstructured) (1.6.0)\n",
            "Collecting pypdf>=4.0 (from unstructured-client->unstructured)\n",
            "  Downloading pypdf-4.3.1-py3-none-any.whl.metadata (7.4 kB)\n",
            "Requirement already satisfied: python-dateutil>=2.8.2 in /usr/local/lib/python3.10/dist-packages (from unstructured-client->unstructured) (2.8.2)\n",
            "Collecting requests-toolbelt>=1.0.0 (from unstructured-client->unstructured)\n",
            "  Downloading requests_toolbelt-1.0.0-py2.py3-none-any.whl.metadata (14 kB)\n",
            "Collecting ordered-set<4.2.0,>=4.1.0 (from deepdiff>=6.0->unstructured-client->unstructured)\n",
            "  Downloading ordered_set-4.1.0-py3-none-any.whl.metadata (5.3 kB)\n",
            "Requirement already satisfied: MarkupSafe>=2.0 in /usr/local/lib/python3.10/dist-packages (from jinja2->torch>=1.11.0->sentence_transformers) (2.1.5)\n",
            "Requirement already satisfied: mpmath<1.4,>=1.1.0 in /usr/local/lib/python3.10/dist-packages (from sympy->torch>=1.11.0->sentence_transformers) (1.3.0)\n",
            "Downloading sentence_transformers-3.0.1-py3-none-any.whl (227 kB)\n",
            "\u001b[2K   \u001b[90m━━━━━━━━━━━━━━━━━━━━━━━━━━━━━━━━━━━━━━━━\u001b[0m \u001b[32m227.1/227.1 kB\u001b[0m \u001b[31m10.9 MB/s\u001b[0m eta \u001b[36m0:00:00\u001b[0m\n",
            "\u001b[?25hDownloading openai-1.38.0-py3-none-any.whl (335 kB)\n",
            "\u001b[2K   \u001b[90m━━━━━━━━━━━━━━━━━━━━━━━━━━━━━━━━━━━━━━━━\u001b[0m \u001b[32m335.9/335.9 kB\u001b[0m \u001b[31m17.2 MB/s\u001b[0m eta \u001b[36m0:00:00\u001b[0m\n",
            "\u001b[?25hDownloading unstructured-0.15.0-py3-none-any.whl (2.1 MB)\n",
            "\u001b[2K   \u001b[90m━━━━━━━━━━━━━━━━━━━━━━━━━━━━━━━━━━━━━━━━\u001b[0m \u001b[32m2.1/2.1 MB\u001b[0m \u001b[31m29.7 MB/s\u001b[0m eta \u001b[36m0:00:00\u001b[0m\n",
            "\u001b[?25hDownloading httpx-0.27.0-py3-none-any.whl (75 kB)\n",
            "\u001b[2K   \u001b[90m━━━━━━━━━━━━━━━━━━━━━━━━━━━━━━━━━━━━━━━━\u001b[0m \u001b[32m75.6/75.6 kB\u001b[0m \u001b[31m4.2 MB/s\u001b[0m eta \u001b[36m0:00:00\u001b[0m\n",
            "\u001b[?25hDownloading httpcore-1.0.5-py3-none-any.whl (77 kB)\n",
            "\u001b[2K   \u001b[90m━━━━━━━━━━━━━━━━━━━━━━━━━━━━━━━━━━━━━━━━\u001b[0m \u001b[32m77.9/77.9 kB\u001b[0m \u001b[31m4.1 MB/s\u001b[0m eta \u001b[36m0:00:00\u001b[0m\n",
            "\u001b[?25hUsing cached nvidia_cublas_cu12-12.1.3.1-py3-none-manylinux1_x86_64.whl (410.6 MB)\n",
            "Using cached nvidia_cuda_cupti_cu12-12.1.105-py3-none-manylinux1_x86_64.whl (14.1 MB)\n",
            "Using cached nvidia_cuda_nvrtc_cu12-12.1.105-py3-none-manylinux1_x86_64.whl (23.7 MB)\n",
            "Using cached nvidia_cuda_runtime_cu12-12.1.105-py3-none-manylinux1_x86_64.whl (823 kB)\n",
            "Using cached nvidia_cudnn_cu12-8.9.2.26-py3-none-manylinux1_x86_64.whl (731.7 MB)\n",
            "Using cached nvidia_cufft_cu12-11.0.2.54-py3-none-manylinux1_x86_64.whl (121.6 MB)\n",
            "Using cached nvidia_curand_cu12-10.3.2.106-py3-none-manylinux1_x86_64.whl (56.5 MB)\n",
            "Using cached nvidia_cusolver_cu12-11.4.5.107-py3-none-manylinux1_x86_64.whl (124.2 MB)\n",
            "Using cached nvidia_cusparse_cu12-12.1.0.106-py3-none-manylinux1_x86_64.whl (196.0 MB)\n",
            "Using cached nvidia_nccl_cu12-2.20.5-py3-none-manylinux2014_x86_64.whl (176.2 MB)\n",
            "Using cached nvidia_nvtx_cu12-12.1.105-py3-none-manylinux1_x86_64.whl (99 kB)\n",
            "Downloading backoff-2.2.1-py3-none-any.whl (15 kB)\n",
            "Downloading dataclasses_json-0.6.7-py3-none-any.whl (28 kB)\n",
            "Downloading emoji-2.12.1-py3-none-any.whl (431 kB)\n",
            "\u001b[2K   \u001b[90m━━━━━━━━━━━━━━━━━━━━━━━━━━━━━━━━━━━━━━━━\u001b[0m \u001b[32m431.4/431.4 kB\u001b[0m \u001b[31m24.5 MB/s\u001b[0m eta \u001b[36m0:00:00\u001b[0m\n",
            "\u001b[?25hDownloading filetype-1.2.0-py2.py3-none-any.whl (19 kB)\n",
            "Downloading python_iso639-2024.4.27-py3-none-any.whl (274 kB)\n",
            "\u001b[2K   \u001b[90m━━━━━━━━━━━━━━━━━━━━━━━━━━━━━━━━━━━━━━━━\u001b[0m \u001b[32m274.7/274.7 kB\u001b[0m \u001b[31m16.3 MB/s\u001b[0m eta \u001b[36m0:00:00\u001b[0m\n",
            "\u001b[?25hDownloading python_magic-0.4.27-py2.py3-none-any.whl (13 kB)\n",
            "Downloading rapidfuzz-3.9.5-cp310-cp310-manylinux_2_17_x86_64.manylinux2014_x86_64.whl (3.4 MB)\n",
            "\u001b[2K   \u001b[90m━━━━━━━━━━━━━━━━━━━━━━━━━━━━━━━━━━━━━━━━\u001b[0m \u001b[32m3.4/3.4 MB\u001b[0m \u001b[31m7.1 MB/s\u001b[0m eta \u001b[36m0:00:00\u001b[0m\n",
            "\u001b[?25hDownloading unstructured_client-0.25.1-py3-none-any.whl (43 kB)\n",
            "\u001b[2K   \u001b[90m━━━━━━━━━━━━━━━━━━━━━━━━━━━━━━━━━━━━━━━━\u001b[0m \u001b[32m43.5/43.5 kB\u001b[0m \u001b[31m2.7 MB/s\u001b[0m eta \u001b[36m0:00:00\u001b[0m\n",
            "\u001b[?25hDownloading deepdiff-7.0.1-py3-none-any.whl (80 kB)\n",
            "\u001b[2K   \u001b[90m━━━━━━━━━━━━━━━━━━━━━━━━━━━━━━━━━━━━━━━━\u001b[0m \u001b[32m80.8/80.8 kB\u001b[0m \u001b[31m5.6 MB/s\u001b[0m eta \u001b[36m0:00:00\u001b[0m\n",
            "\u001b[?25hDownloading jsonpath_python-1.0.6-py3-none-any.whl (7.6 kB)\n",
            "Downloading marshmallow-3.21.3-py3-none-any.whl (49 kB)\n",
            "\u001b[2K   \u001b[90m━━━━━━━━━━━━━━━━━━━━━━━━━━━━━━━━━━━━━━━━\u001b[0m \u001b[32m49.2/49.2 kB\u001b[0m \u001b[31m3.2 MB/s\u001b[0m eta \u001b[36m0:00:00\u001b[0m\n",
            "\u001b[?25hDownloading mypy_extensions-1.0.0-py3-none-any.whl (4.7 kB)\n",
            "Downloading pypdf-4.3.1-py3-none-any.whl (295 kB)\n",
            "\u001b[2K   \u001b[90m━━━━━━━━━━━━━━━━━━━━━━━━━━━━━━━━━━━━━━━━\u001b[0m \u001b[32m295.8/295.8 kB\u001b[0m \u001b[31m16.2 MB/s\u001b[0m eta \u001b[36m0:00:00\u001b[0m\n",
            "\u001b[?25hDownloading requests_toolbelt-1.0.0-py2.py3-none-any.whl (54 kB)\n",
            "\u001b[2K   \u001b[90m━━━━━━━━━━━━━━━━━━━━━━━━━━━━━━━━━━━━━━━━\u001b[0m \u001b[32m54.5/54.5 kB\u001b[0m \u001b[31m3.1 MB/s\u001b[0m eta \u001b[36m0:00:00\u001b[0m\n",
            "\u001b[?25hDownloading typing_inspect-0.9.0-py3-none-any.whl (8.8 kB)\n",
            "Downloading h11-0.14.0-py3-none-any.whl (58 kB)\n",
            "\u001b[2K   \u001b[90m━━━━━━━━━━━━━━━━━━━━━━━━━━━━━━━━━━━━━━━━\u001b[0m \u001b[32m58.3/58.3 kB\u001b[0m \u001b[31m3.6 MB/s\u001b[0m eta \u001b[36m0:00:00\u001b[0m\n",
            "\u001b[?25hDownloading ordered_set-4.1.0-py3-none-any.whl (7.6 kB)\n",
            "Downloading nvidia_nvjitlink_cu12-12.6.20-py3-none-manylinux2014_x86_64.whl (19.7 MB)\n",
            "\u001b[2K   \u001b[90m━━━━━━━━━━━━━━━━━━━━━━━━━━━━━━━━━━━━━━━━\u001b[0m \u001b[32m19.7/19.7 MB\u001b[0m \u001b[31m57.6 MB/s\u001b[0m eta \u001b[36m0:00:00\u001b[0m\n",
            "\u001b[?25hBuilding wheels for collected packages: langdetect\n",
            "  Building wheel for langdetect (setup.py) ... \u001b[?25l\u001b[?25hdone\n",
            "  Created wheel for langdetect: filename=langdetect-1.0.9-py3-none-any.whl size=993221 sha256=dd85b98a5b8f869498137ef6349baa6290f6e24570ae8197aca72df3bbc899a5\n",
            "  Stored in directory: /root/.cache/pip/wheels/95/03/7d/59ea870c70ce4e5a370638b5462a7711ab78fba2f655d05106\n",
            "Successfully built langdetect\n",
            "Installing collected packages: filetype, rapidfuzz, python-magic, python-iso639, pypdf, ordered-set, nvidia-nvtx-cu12, nvidia-nvjitlink-cu12, nvidia-nccl-cu12, nvidia-curand-cu12, nvidia-cufft-cu12, nvidia-cuda-runtime-cu12, nvidia-cuda-nvrtc-cu12, nvidia-cuda-cupti-cu12, nvidia-cublas-cu12, mypy-extensions, marshmallow, langdetect, jsonpath-python, h11, emoji, backoff, typing-inspect, requests-toolbelt, nvidia-cusparse-cu12, nvidia-cudnn-cu12, httpcore, deepdiff, nvidia-cusolver-cu12, httpx, dataclasses-json, unstructured-client, openai, unstructured, sentence_transformers\n",
            "Successfully installed backoff-2.2.1 dataclasses-json-0.6.7 deepdiff-7.0.1 emoji-2.12.1 filetype-1.2.0 h11-0.14.0 httpcore-1.0.5 httpx-0.27.0 jsonpath-python-1.0.6 langdetect-1.0.9 marshmallow-3.21.3 mypy-extensions-1.0.0 nvidia-cublas-cu12-12.1.3.1 nvidia-cuda-cupti-cu12-12.1.105 nvidia-cuda-nvrtc-cu12-12.1.105 nvidia-cuda-runtime-cu12-12.1.105 nvidia-cudnn-cu12-8.9.2.26 nvidia-cufft-cu12-11.0.2.54 nvidia-curand-cu12-10.3.2.106 nvidia-cusolver-cu12-11.4.5.107 nvidia-cusparse-cu12-12.1.0.106 nvidia-nccl-cu12-2.20.5 nvidia-nvjitlink-cu12-12.6.20 nvidia-nvtx-cu12-12.1.105 openai-1.38.0 ordered-set-4.1.0 pypdf-4.3.1 python-iso639-2024.4.27 python-magic-0.4.27 rapidfuzz-3.9.5 requests-toolbelt-1.0.0 sentence_transformers-3.0.1 typing-inspect-0.9.0 unstructured-0.15.0 unstructured-client-0.25.1\n",
            "Requirement already satisfied: plotly in /usr/local/lib/python3.10/dist-packages (5.15.0)\n",
            "Requirement already satisfied: tenacity>=6.2.0 in /usr/local/lib/python3.10/dist-packages (from plotly) (9.0.0)\n",
            "Requirement already satisfied: packaging in /usr/local/lib/python3.10/dist-packages (from plotly) (24.1)\n",
            "Collecting langchain-openai\n",
            "  Downloading langchain_openai-0.1.20-py3-none-any.whl.metadata (2.6 kB)\n",
            "Collecting langchain-core<0.3.0,>=0.2.26 (from langchain-openai)\n",
            "  Downloading langchain_core-0.2.28-py3-none-any.whl.metadata (6.2 kB)\n",
            "Requirement already satisfied: openai<2.0.0,>=1.32.0 in /usr/local/lib/python3.10/dist-packages (from langchain-openai) (1.38.0)\n",
            "Collecting tiktoken<1,>=0.7 (from langchain-openai)\n",
            "  Downloading tiktoken-0.7.0-cp310-cp310-manylinux_2_17_x86_64.manylinux2014_x86_64.whl.metadata (6.6 kB)\n",
            "Requirement already satisfied: PyYAML>=5.3 in /usr/local/lib/python3.10/dist-packages (from langchain-core<0.3.0,>=0.2.26->langchain-openai) (6.0.1)\n",
            "Collecting jsonpatch<2.0,>=1.33 (from langchain-core<0.3.0,>=0.2.26->langchain-openai)\n",
            "  Downloading jsonpatch-1.33-py2.py3-none-any.whl.metadata (3.0 kB)\n",
            "Collecting langsmith<0.2.0,>=0.1.75 (from langchain-core<0.3.0,>=0.2.26->langchain-openai)\n",
            "  Downloading langsmith-0.1.96-py3-none-any.whl.metadata (13 kB)\n",
            "Requirement already satisfied: packaging<25,>=23.2 in /usr/local/lib/python3.10/dist-packages (from langchain-core<0.3.0,>=0.2.26->langchain-openai) (24.1)\n",
            "Requirement already satisfied: pydantic<3,>=1 in /usr/local/lib/python3.10/dist-packages (from langchain-core<0.3.0,>=0.2.26->langchain-openai) (2.8.2)\n",
            "Collecting tenacity!=8.4.0,<9.0.0,>=8.1.0 (from langchain-core<0.3.0,>=0.2.26->langchain-openai)\n",
            "  Downloading tenacity-8.5.0-py3-none-any.whl.metadata (1.2 kB)\n",
            "Requirement already satisfied: typing-extensions>=4.7 in /usr/local/lib/python3.10/dist-packages (from langchain-core<0.3.0,>=0.2.26->langchain-openai) (4.12.2)\n",
            "Requirement already satisfied: anyio<5,>=3.5.0 in /usr/local/lib/python3.10/dist-packages (from openai<2.0.0,>=1.32.0->langchain-openai) (3.7.1)\n",
            "Requirement already satisfied: distro<2,>=1.7.0 in /usr/lib/python3/dist-packages (from openai<2.0.0,>=1.32.0->langchain-openai) (1.7.0)\n",
            "Requirement already satisfied: httpx<1,>=0.23.0 in /usr/local/lib/python3.10/dist-packages (from openai<2.0.0,>=1.32.0->langchain-openai) (0.27.0)\n",
            "Requirement already satisfied: sniffio in /usr/local/lib/python3.10/dist-packages (from openai<2.0.0,>=1.32.0->langchain-openai) (1.3.1)\n",
            "Requirement already satisfied: tqdm>4 in /usr/local/lib/python3.10/dist-packages (from openai<2.0.0,>=1.32.0->langchain-openai) (4.66.4)\n",
            "Requirement already satisfied: regex>=2022.1.18 in /usr/local/lib/python3.10/dist-packages (from tiktoken<1,>=0.7->langchain-openai) (2024.5.15)\n",
            "Requirement already satisfied: requests>=2.26.0 in /usr/local/lib/python3.10/dist-packages (from tiktoken<1,>=0.7->langchain-openai) (2.31.0)\n",
            "Requirement already satisfied: idna>=2.8 in /usr/local/lib/python3.10/dist-packages (from anyio<5,>=3.5.0->openai<2.0.0,>=1.32.0->langchain-openai) (3.7)\n",
            "Requirement already satisfied: exceptiongroup in /usr/local/lib/python3.10/dist-packages (from anyio<5,>=3.5.0->openai<2.0.0,>=1.32.0->langchain-openai) (1.2.2)\n",
            "Requirement already satisfied: certifi in /usr/local/lib/python3.10/dist-packages (from httpx<1,>=0.23.0->openai<2.0.0,>=1.32.0->langchain-openai) (2024.7.4)\n",
            "Requirement already satisfied: httpcore==1.* in /usr/local/lib/python3.10/dist-packages (from httpx<1,>=0.23.0->openai<2.0.0,>=1.32.0->langchain-openai) (1.0.5)\n",
            "Requirement already satisfied: h11<0.15,>=0.13 in /usr/local/lib/python3.10/dist-packages (from httpcore==1.*->httpx<1,>=0.23.0->openai<2.0.0,>=1.32.0->langchain-openai) (0.14.0)\n",
            "Collecting jsonpointer>=1.9 (from jsonpatch<2.0,>=1.33->langchain-core<0.3.0,>=0.2.26->langchain-openai)\n",
            "  Downloading jsonpointer-3.0.0-py2.py3-none-any.whl.metadata (2.3 kB)\n",
            "Collecting orjson<4.0.0,>=3.9.14 (from langsmith<0.2.0,>=0.1.75->langchain-core<0.3.0,>=0.2.26->langchain-openai)\n",
            "  Downloading orjson-3.10.6-cp310-cp310-manylinux_2_17_x86_64.manylinux2014_x86_64.whl.metadata (50 kB)\n",
            "\u001b[2K     \u001b[90m━━━━━━━━━━━━━━━━━━━━━━━━━━━━━━━━━━━━━━━━\u001b[0m \u001b[32m50.4/50.4 kB\u001b[0m \u001b[31m983.4 kB/s\u001b[0m eta \u001b[36m0:00:00\u001b[0m\n",
            "\u001b[?25hRequirement already satisfied: annotated-types>=0.4.0 in /usr/local/lib/python3.10/dist-packages (from pydantic<3,>=1->langchain-core<0.3.0,>=0.2.26->langchain-openai) (0.7.0)\n",
            "Requirement already satisfied: pydantic-core==2.20.1 in /usr/local/lib/python3.10/dist-packages (from pydantic<3,>=1->langchain-core<0.3.0,>=0.2.26->langchain-openai) (2.20.1)\n",
            "Requirement already satisfied: charset-normalizer<4,>=2 in /usr/local/lib/python3.10/dist-packages (from requests>=2.26.0->tiktoken<1,>=0.7->langchain-openai) (3.3.2)\n",
            "Requirement already satisfied: urllib3<3,>=1.21.1 in /usr/local/lib/python3.10/dist-packages (from requests>=2.26.0->tiktoken<1,>=0.7->langchain-openai) (2.0.7)\n",
            "Downloading langchain_openai-0.1.20-py3-none-any.whl (48 kB)\n",
            "\u001b[2K   \u001b[90m━━━━━━━━━━━━━━━━━━━━━━━━━━━━━━━━━━━━━━━━\u001b[0m \u001b[32m48.2/48.2 kB\u001b[0m \u001b[31m2.2 MB/s\u001b[0m eta \u001b[36m0:00:00\u001b[0m\n",
            "\u001b[?25hDownloading langchain_core-0.2.28-py3-none-any.whl (379 kB)\n",
            "\u001b[2K   \u001b[90m━━━━━━━━━━━━━━━━━━━━━━━━━━━━━━━━━━━━━━━━\u001b[0m \u001b[32m379.9/379.9 kB\u001b[0m \u001b[31m4.3 MB/s\u001b[0m eta \u001b[36m0:00:00\u001b[0m\n",
            "\u001b[?25hDownloading tiktoken-0.7.0-cp310-cp310-manylinux_2_17_x86_64.manylinux2014_x86_64.whl (1.1 MB)\n",
            "\u001b[2K   \u001b[90m━━━━━━━━━━━━━━━━━━━━━━━━━━━━━━━━━━━━━━━━\u001b[0m \u001b[32m1.1/1.1 MB\u001b[0m \u001b[31m18.0 MB/s\u001b[0m eta \u001b[36m0:00:00\u001b[0m\n",
            "\u001b[?25hDownloading jsonpatch-1.33-py2.py3-none-any.whl (12 kB)\n",
            "Downloading langsmith-0.1.96-py3-none-any.whl (140 kB)\n",
            "\u001b[2K   \u001b[90m━━━━━━━━━━━━━━━━━━━━━━━━━━━━━━━━━━━━━━━━\u001b[0m \u001b[32m140.1/140.1 kB\u001b[0m \u001b[31m9.2 MB/s\u001b[0m eta \u001b[36m0:00:00\u001b[0m\n",
            "\u001b[?25hDownloading tenacity-8.5.0-py3-none-any.whl (28 kB)\n",
            "Downloading jsonpointer-3.0.0-py2.py3-none-any.whl (7.6 kB)\n",
            "Downloading orjson-3.10.6-cp310-cp310-manylinux_2_17_x86_64.manylinux2014_x86_64.whl (141 kB)\n",
            "\u001b[2K   \u001b[90m━━━━━━━━━━━━━━━━━━━━━━━━━━━━━━━━━━━━━━━━\u001b[0m \u001b[32m141.1/141.1 kB\u001b[0m \u001b[31m7.9 MB/s\u001b[0m eta \u001b[36m0:00:00\u001b[0m\n",
            "\u001b[?25hInstalling collected packages: tenacity, orjson, jsonpointer, tiktoken, jsonpatch, langsmith, langchain-core, langchain-openai\n",
            "  Attempting uninstall: tenacity\n",
            "    Found existing installation: tenacity 9.0.0\n",
            "    Uninstalling tenacity-9.0.0:\n",
            "      Successfully uninstalled tenacity-9.0.0\n",
            "Successfully installed jsonpatch-1.33 jsonpointer-3.0.0 langchain-core-0.2.28 langchain-openai-0.1.20 langsmith-0.1.96 orjson-3.10.6 tenacity-8.5.0 tiktoken-0.7.0\n",
            "Collecting langchain_community\n",
            "  Downloading langchain_community-0.2.11-py3-none-any.whl.metadata (2.7 kB)\n",
            "Requirement already satisfied: PyYAML>=5.3 in /usr/local/lib/python3.10/dist-packages (from langchain_community) (6.0.1)\n",
            "Requirement already satisfied: SQLAlchemy<3,>=1.4 in /usr/local/lib/python3.10/dist-packages (from langchain_community) (2.0.31)\n",
            "Requirement already satisfied: aiohttp<4.0.0,>=3.8.3 in /usr/local/lib/python3.10/dist-packages (from langchain_community) (3.9.5)\n",
            "Requirement already satisfied: dataclasses-json<0.7,>=0.5.7 in /usr/local/lib/python3.10/dist-packages (from langchain_community) (0.6.7)\n",
            "Collecting langchain<0.3.0,>=0.2.12 (from langchain_community)\n",
            "  Downloading langchain-0.2.12-py3-none-any.whl.metadata (7.1 kB)\n",
            "Requirement already satisfied: langchain-core<0.3.0,>=0.2.27 in /usr/local/lib/python3.10/dist-packages (from langchain_community) (0.2.28)\n",
            "Requirement already satisfied: langsmith<0.2.0,>=0.1.0 in /usr/local/lib/python3.10/dist-packages (from langchain_community) (0.1.96)\n",
            "Requirement already satisfied: numpy<2,>=1 in /usr/local/lib/python3.10/dist-packages (from langchain_community) (1.26.4)\n",
            "Requirement already satisfied: requests<3,>=2 in /usr/local/lib/python3.10/dist-packages (from langchain_community) (2.31.0)\n",
            "Requirement already satisfied: tenacity!=8.4.0,<9.0.0,>=8.1.0 in /usr/local/lib/python3.10/dist-packages (from langchain_community) (8.5.0)\n",
            "Requirement already satisfied: aiosignal>=1.1.2 in /usr/local/lib/python3.10/dist-packages (from aiohttp<4.0.0,>=3.8.3->langchain_community) (1.3.1)\n",
            "Requirement already satisfied: attrs>=17.3.0 in /usr/local/lib/python3.10/dist-packages (from aiohttp<4.0.0,>=3.8.3->langchain_community) (23.2.0)\n",
            "Requirement already satisfied: frozenlist>=1.1.1 in /usr/local/lib/python3.10/dist-packages (from aiohttp<4.0.0,>=3.8.3->langchain_community) (1.4.1)\n",
            "Requirement already satisfied: multidict<7.0,>=4.5 in /usr/local/lib/python3.10/dist-packages (from aiohttp<4.0.0,>=3.8.3->langchain_community) (6.0.5)\n",
            "Requirement already satisfied: yarl<2.0,>=1.0 in /usr/local/lib/python3.10/dist-packages (from aiohttp<4.0.0,>=3.8.3->langchain_community) (1.9.4)\n",
            "Requirement already satisfied: async-timeout<5.0,>=4.0 in /usr/local/lib/python3.10/dist-packages (from aiohttp<4.0.0,>=3.8.3->langchain_community) (4.0.3)\n",
            "Requirement already satisfied: marshmallow<4.0.0,>=3.18.0 in /usr/local/lib/python3.10/dist-packages (from dataclasses-json<0.7,>=0.5.7->langchain_community) (3.21.3)\n",
            "Requirement already satisfied: typing-inspect<1,>=0.4.0 in /usr/local/lib/python3.10/dist-packages (from dataclasses-json<0.7,>=0.5.7->langchain_community) (0.9.0)\n",
            "Collecting langchain-text-splitters<0.3.0,>=0.2.0 (from langchain<0.3.0,>=0.2.12->langchain_community)\n",
            "  Downloading langchain_text_splitters-0.2.2-py3-none-any.whl.metadata (2.1 kB)\n",
            "Requirement already satisfied: pydantic<3,>=1 in /usr/local/lib/python3.10/dist-packages (from langchain<0.3.0,>=0.2.12->langchain_community) (2.8.2)\n",
            "Requirement already satisfied: jsonpatch<2.0,>=1.33 in /usr/local/lib/python3.10/dist-packages (from langchain-core<0.3.0,>=0.2.27->langchain_community) (1.33)\n",
            "Requirement already satisfied: packaging<25,>=23.2 in /usr/local/lib/python3.10/dist-packages (from langchain-core<0.3.0,>=0.2.27->langchain_community) (24.1)\n",
            "Requirement already satisfied: typing-extensions>=4.7 in /usr/local/lib/python3.10/dist-packages (from langchain-core<0.3.0,>=0.2.27->langchain_community) (4.12.2)\n",
            "Requirement already satisfied: orjson<4.0.0,>=3.9.14 in /usr/local/lib/python3.10/dist-packages (from langsmith<0.2.0,>=0.1.0->langchain_community) (3.10.6)\n",
            "Requirement already satisfied: charset-normalizer<4,>=2 in /usr/local/lib/python3.10/dist-packages (from requests<3,>=2->langchain_community) (3.3.2)\n",
            "Requirement already satisfied: idna<4,>=2.5 in /usr/local/lib/python3.10/dist-packages (from requests<3,>=2->langchain_community) (3.7)\n",
            "Requirement already satisfied: urllib3<3,>=1.21.1 in /usr/local/lib/python3.10/dist-packages (from requests<3,>=2->langchain_community) (2.0.7)\n",
            "Requirement already satisfied: certifi>=2017.4.17 in /usr/local/lib/python3.10/dist-packages (from requests<3,>=2->langchain_community) (2024.7.4)\n",
            "Requirement already satisfied: greenlet!=0.4.17 in /usr/local/lib/python3.10/dist-packages (from SQLAlchemy<3,>=1.4->langchain_community) (3.0.3)\n",
            "Requirement already satisfied: jsonpointer>=1.9 in /usr/local/lib/python3.10/dist-packages (from jsonpatch<2.0,>=1.33->langchain-core<0.3.0,>=0.2.27->langchain_community) (3.0.0)\n",
            "Requirement already satisfied: annotated-types>=0.4.0 in /usr/local/lib/python3.10/dist-packages (from pydantic<3,>=1->langchain<0.3.0,>=0.2.12->langchain_community) (0.7.0)\n",
            "Requirement already satisfied: pydantic-core==2.20.1 in /usr/local/lib/python3.10/dist-packages (from pydantic<3,>=1->langchain<0.3.0,>=0.2.12->langchain_community) (2.20.1)\n",
            "Requirement already satisfied: mypy-extensions>=0.3.0 in /usr/local/lib/python3.10/dist-packages (from typing-inspect<1,>=0.4.0->dataclasses-json<0.7,>=0.5.7->langchain_community) (1.0.0)\n",
            "Downloading langchain_community-0.2.11-py3-none-any.whl (2.3 MB)\n",
            "\u001b[2K   \u001b[90m━━━━━━━━━━━━━━━━━━━━━━━━━━━━━━━━━━━━━━━━\u001b[0m \u001b[32m2.3/2.3 MB\u001b[0m \u001b[31m8.8 MB/s\u001b[0m eta \u001b[36m0:00:00\u001b[0m\n",
            "\u001b[?25hDownloading langchain-0.2.12-py3-none-any.whl (990 kB)\n",
            "\u001b[2K   \u001b[90m━━━━━━━━━━━━━━━━━━━━━━━━━━━━━━━━━━━━━━━━\u001b[0m \u001b[32m990.6/990.6 kB\u001b[0m \u001b[31m36.9 MB/s\u001b[0m eta \u001b[36m0:00:00\u001b[0m\n",
            "\u001b[?25hDownloading langchain_text_splitters-0.2.2-py3-none-any.whl (25 kB)\n",
            "Installing collected packages: langchain-text-splitters, langchain, langchain_community\n",
            "Successfully installed langchain-0.2.12 langchain-text-splitters-0.2.2 langchain_community-0.2.11\n",
            "Requirement already satisfied: tiktoken in /usr/local/lib/python3.10/dist-packages (0.7.0)\n",
            "Requirement already satisfied: regex>=2022.1.18 in /usr/local/lib/python3.10/dist-packages (from tiktoken) (2024.5.15)\n",
            "Requirement already satisfied: requests>=2.26.0 in /usr/local/lib/python3.10/dist-packages (from tiktoken) (2.31.0)\n",
            "Requirement already satisfied: charset-normalizer<4,>=2 in /usr/local/lib/python3.10/dist-packages (from requests>=2.26.0->tiktoken) (3.3.2)\n",
            "Requirement already satisfied: idna<4,>=2.5 in /usr/local/lib/python3.10/dist-packages (from requests>=2.26.0->tiktoken) (3.7)\n",
            "Requirement already satisfied: urllib3<3,>=1.21.1 in /usr/local/lib/python3.10/dist-packages (from requests>=2.26.0->tiktoken) (2.0.7)\n",
            "Requirement already satisfied: certifi>=2017.4.17 in /usr/local/lib/python3.10/dist-packages (from requests>=2.26.0->tiktoken) (2024.7.4)\n",
            "Requirement already satisfied: matplotlib in /usr/local/lib/python3.10/dist-packages (3.7.1)\n",
            "Requirement already satisfied: contourpy>=1.0.1 in /usr/local/lib/python3.10/dist-packages (from matplotlib) (1.2.1)\n",
            "Requirement already satisfied: cycler>=0.10 in /usr/local/lib/python3.10/dist-packages (from matplotlib) (0.12.1)\n",
            "Requirement already satisfied: fonttools>=4.22.0 in /usr/local/lib/python3.10/dist-packages (from matplotlib) (4.53.1)\n",
            "Requirement already satisfied: kiwisolver>=1.0.1 in /usr/local/lib/python3.10/dist-packages (from matplotlib) (1.4.5)\n",
            "Requirement already satisfied: numpy>=1.20 in /usr/local/lib/python3.10/dist-packages (from matplotlib) (1.26.4)\n",
            "Requirement already satisfied: packaging>=20.0 in /usr/local/lib/python3.10/dist-packages (from matplotlib) (24.1)\n",
            "Requirement already satisfied: pillow>=6.2.0 in /usr/local/lib/python3.10/dist-packages (from matplotlib) (9.4.0)\n",
            "Requirement already satisfied: pyparsing>=2.3.1 in /usr/local/lib/python3.10/dist-packages (from matplotlib) (3.1.2)\n",
            "Requirement already satisfied: python-dateutil>=2.7 in /usr/local/lib/python3.10/dist-packages (from matplotlib) (2.8.2)\n",
            "Requirement already satisfied: six>=1.5 in /usr/local/lib/python3.10/dist-packages (from python-dateutil>=2.7->matplotlib) (1.16.0)\n",
            "\u001b[2K     \u001b[90m━━━━━━━━━━━━━━━━━━━━━━━━━━━━━━━━━━━━━━━━\u001b[0m \u001b[32m67.3/67.3 kB\u001b[0m \u001b[31m1.4 MB/s\u001b[0m eta \u001b[36m0:00:00\u001b[0m\n",
            "\u001b[?25h  Installing build dependencies ... \u001b[?25l\u001b[?25hdone\n",
            "  Getting requirements to build wheel ... \u001b[?25l\u001b[?25hdone\n",
            "  Preparing metadata (pyproject.toml) ... \u001b[?25l\u001b[?25hdone\n",
            "\u001b[2K   \u001b[90m━━━━━━━━━━━━━━━━━━━━━━━━━━━━━━━━━━━━━━━━\u001b[0m \u001b[32m6.8/6.8 MB\u001b[0m \u001b[31m5.3 MB/s\u001b[0m eta \u001b[36m0:00:00\u001b[0m\n",
            "\u001b[2K   \u001b[90m━━━━━━━━━━━━━━━━━━━━━━━━━━━━━━━━━━━━━━━━\u001b[0m \u001b[32m584.3/584.3 kB\u001b[0m \u001b[31m5.4 MB/s\u001b[0m eta \u001b[36m0:00:00\u001b[0m\n",
            "\u001b[2K   \u001b[90m━━━━━━━━━━━━━━━━━━━━━━━━━━━━━━━━━━━━━━━━\u001b[0m \u001b[32m2.4/2.4 MB\u001b[0m \u001b[31m5.8 MB/s\u001b[0m eta \u001b[36m0:00:00\u001b[0m\n",
            "\u001b[2K   \u001b[90m━━━━━━━━━━━━━━━━━━━━━━━━━━━━━━━━━━━━━━━━\u001b[0m \u001b[32m12.5/12.5 MB\u001b[0m \u001b[31m4.1 MB/s\u001b[0m eta \u001b[36m0:00:00\u001b[0m\n",
            "\u001b[2K   \u001b[90m━━━━━━━━━━━━━━━━━━━━━━━━━━━━━━━━━━━━━━━━\u001b[0m \u001b[32m318.6/318.6 kB\u001b[0m \u001b[31m2.9 MB/s\u001b[0m eta \u001b[36m0:00:00\u001b[0m\n",
            "\u001b[2K   \u001b[90m━━━━━━━━━━━━━━━━━━━━━━━━━━━━━━━━━━━━━━━━\u001b[0m \u001b[32m85.5/85.5 MB\u001b[0m \u001b[31m2.5 MB/s\u001b[0m eta \u001b[36m0:00:00\u001b[0m\n",
            "\u001b[2K   \u001b[90m━━━━━━━━━━━━━━━━━━━━━━━━━━━━━━━━━━━━━━━━\u001b[0m \u001b[32m273.8/273.8 kB\u001b[0m \u001b[31m2.2 MB/s\u001b[0m eta \u001b[36m0:00:00\u001b[0m\n",
            "\u001b[2K   \u001b[90m━━━━━━━━━━━━━━━━━━━━━━━━━━━━━━━━━━━━━━━━\u001b[0m \u001b[32m93.1/93.1 kB\u001b[0m \u001b[31m1.7 MB/s\u001b[0m eta \u001b[36m0:00:00\u001b[0m\n",
            "\u001b[2K   \u001b[90m━━━━━━━━━━━━━━━━━━━━━━━━━━━━━━━━━━━━━━━━\u001b[0m \u001b[32m207.3/207.3 kB\u001b[0m \u001b[31m2.2 MB/s\u001b[0m eta \u001b[36m0:00:00\u001b[0m\n",
            "\u001b[2K   \u001b[90m━━━━━━━━━━━━━━━━━━━━━━━━━━━━━━━━━━━━━━━━\u001b[0m \u001b[32m1.7/1.7 MB\u001b[0m \u001b[31m2.7 MB/s\u001b[0m eta \u001b[36m0:00:00\u001b[0m\n",
            "\u001b[2K   \u001b[90m━━━━━━━━━━━━━━━━━━━━━━━━━━━━━━━━━━━━━━━━\u001b[0m \u001b[32m67.6/67.6 kB\u001b[0m \u001b[31m2.3 MB/s\u001b[0m eta \u001b[36m0:00:00\u001b[0m\n",
            "\u001b[2K   \u001b[90m━━━━━━━━━━━━━━━━━━━━━━━━━━━━━━━━━━━━━━━━\u001b[0m \u001b[32m6.8/6.8 MB\u001b[0m \u001b[31m3.2 MB/s\u001b[0m eta \u001b[36m0:00:00\u001b[0m\n",
            "\u001b[2K   \u001b[90m━━━━━━━━━━━━━━━━━━━━━━━━━━━━━━━━━━━━━━━━\u001b[0m \u001b[32m61.5/61.5 kB\u001b[0m \u001b[31m2.3 MB/s\u001b[0m eta \u001b[36m0:00:00\u001b[0m\n",
            "\u001b[2K   \u001b[90m━━━━━━━━━━━━━━━━━━━━━━━━━━━━━━━━━━━━━━━━\u001b[0m \u001b[32m52.5/52.5 kB\u001b[0m \u001b[31m2.1 MB/s\u001b[0m eta \u001b[36m0:00:00\u001b[0m\n",
            "\u001b[2K   \u001b[90m━━━━━━━━━━━━━━━━━━━━━━━━━━━━━━━━━━━━━━━━\u001b[0m \u001b[32m138.0/138.0 kB\u001b[0m \u001b[31m2.5 MB/s\u001b[0m eta \u001b[36m0:00:00\u001b[0m\n",
            "\u001b[2K   \u001b[90m━━━━━━━━━━━━━━━━━━━━━━━━━━━━━━━━━━━━━━━━\u001b[0m \u001b[32m109.5/109.5 kB\u001b[0m \u001b[31m2.8 MB/s\u001b[0m eta \u001b[36m0:00:00\u001b[0m\n",
            "\u001b[2K   \u001b[90m━━━━━━━━━━━━━━━━━━━━━━━━━━━━━━━━━━━━━━━━\u001b[0m \u001b[32m41.3/41.3 kB\u001b[0m \u001b[31m1.8 MB/s\u001b[0m eta \u001b[36m0:00:00\u001b[0m\n",
            "\u001b[2K   \u001b[90m━━━━━━━━━━━━━━━━━━━━━━━━━━━━━━━━━━━━━━━━\u001b[0m \u001b[32m10.2/10.2 MB\u001b[0m \u001b[31m2.0 MB/s\u001b[0m eta \u001b[36m0:00:00\u001b[0m\n",
            "\u001b[2K   \u001b[90m━━━━━━━━━━━━━━━━━━━━━━━━━━━━━━━━━━━━━━━━\u001b[0m \u001b[32m301.8/301.8 kB\u001b[0m \u001b[31m1.7 MB/s\u001b[0m eta \u001b[36m0:00:00\u001b[0m\n",
            "\u001b[2K   \u001b[90m━━━━━━━━━━━━━━━━━━━━━━━━━━━━━━━━━━━━━━━━\u001b[0m \u001b[32m62.8/62.8 kB\u001b[0m \u001b[31m1.5 MB/s\u001b[0m eta \u001b[36m0:00:00\u001b[0m\n",
            "\u001b[2K   \u001b[90m━━━━━━━━━━━━━━━━━━━━━━━━━━━━━━━━━━━━━━━━\u001b[0m \u001b[32m62.7/62.7 kB\u001b[0m \u001b[31m1.5 MB/s\u001b[0m eta \u001b[36m0:00:00\u001b[0m\n",
            "\u001b[2K   \u001b[90m━━━━━━━━━━━━━━━━━━━━━━━━━━━━━━━━━━━━━━━━\u001b[0m \u001b[32m341.4/341.4 kB\u001b[0m \u001b[31m1.8 MB/s\u001b[0m eta \u001b[36m0:00:00\u001b[0m\n",
            "\u001b[2K   \u001b[90m━━━━━━━━━━━━━━━━━━━━━━━━━━━━━━━━━━━━━━━━\u001b[0m \u001b[32m71.9/71.9 kB\u001b[0m \u001b[31m1.3 MB/s\u001b[0m eta \u001b[36m0:00:00\u001b[0m\n",
            "\u001b[2K   \u001b[90m━━━━━━━━━━━━━━━━━━━━━━━━━━━━━━━━━━━━━━━━\u001b[0m \u001b[32m3.4/3.4 MB\u001b[0m \u001b[31m2.0 MB/s\u001b[0m eta \u001b[36m0:00:00\u001b[0m\n",
            "\u001b[2K   \u001b[90m━━━━━━━━━━━━━━━━━━━━━━━━━━━━━━━━━━━━━━━━\u001b[0m \u001b[32m1.2/1.2 MB\u001b[0m \u001b[31m2.4 MB/s\u001b[0m eta \u001b[36m0:00:00\u001b[0m\n",
            "\u001b[2K   \u001b[90m━━━━━━━━━━━━━━━━━━━━━━━━━━━━━━━━━━━━━━━━\u001b[0m \u001b[32m130.2/130.2 kB\u001b[0m \u001b[31m2.1 MB/s\u001b[0m eta \u001b[36m0:00:00\u001b[0m\n",
            "\u001b[2K   \u001b[90m━━━━━━━━━━━━━━━━━━━━━━━━━━━━━━━━━━━━━━━━\u001b[0m \u001b[32m46.0/46.0 kB\u001b[0m \u001b[31m1.7 MB/s\u001b[0m eta \u001b[36m0:00:00\u001b[0m\n",
            "\u001b[2K   \u001b[90m━━━━━━━━━━━━━━━━━━━━━━━━━━━━━━━━━━━━━━━━\u001b[0m \u001b[32m86.8/86.8 kB\u001b[0m \u001b[31m2.1 MB/s\u001b[0m eta \u001b[36m0:00:00\u001b[0m\n",
            "\u001b[?25h  Building wheel for pypika (pyproject.toml) ... \u001b[?25l\u001b[?25hdone\n"
          ]
        }
      ],
      "source": [
        "!pip install sentence_transformers openai unstructured\n",
        "!pip install plotly\n",
        "!pip install -U langchain-openai\n",
        "!pip install langchain_community\n",
        "from langchain_openai import OpenAIEmbeddings\n",
        "from langchain_openai import ChatOpenAI\n",
        "!pip install tiktoken\n",
        "!pip install matplotlib\n",
        "%pip install -Uqqq rich openai tiktoken wandb langchain unstructured tabulate pdf2image chromadb gradio faiss-gpu\n"
      ]
    },
    {
      "cell_type": "code",
      "source": [
        "from langchain_community.document_loaders import TextLoader\n",
        "from langchain_community.vectorstores import FAISS\n",
        "from langchain_openai import OpenAIEmbeddings\n",
        "from langchain_text_splitters import CharacterTextSplitter\n",
        "from langchain_core.prompts import PromptTemplate\n",
        "from langchain.chains import LLMChain"
      ],
      "metadata": {
        "id": "qy-qXKJtdRCr"
      },
      "execution_count": null,
      "outputs": []
    },
    {
      "cell_type": "code",
      "execution_count": null,
      "metadata": {
        "colab": {
          "base_uri": "https://localhost:8080/"
        },
        "id": "eCDxucPBGp5g",
        "outputId": "f464e303-2b62-48f3-97f5-fe48ca47b528"
      },
      "outputs": [
        {
          "output_type": "stream",
          "name": "stdout",
          "text": [
            "Requirement already satisfied: linkify-it-py in /usr/local/lib/python3.10/dist-packages (2.0.3)\n",
            "Requirement already satisfied: uc-micro-py in /usr/local/lib/python3.10/dist-packages (from linkify-it-py) (1.0.3)\n"
          ]
        }
      ],
      "source": [
        "!pip install linkify-it-py"
      ]
    },
    {
      "cell_type": "code",
      "execution_count": null,
      "metadata": {
        "id": "u4zmuvSp7WVI"
      },
      "outputs": [],
      "source": [
        "import numpy as np\n",
        "import os, random\n",
        "from pathlib import Path\n",
        "import tiktoken\n",
        "from getpass import getpass\n",
        "from rich.markdown import Markdown\n",
        "from langchain.chains.qa_with_sources import load_qa_with_sources_chain"
      ]
    },
    {
      "cell_type": "code",
      "execution_count": null,
      "metadata": {
        "colab": {
          "base_uri": "https://localhost:8080/"
        },
        "id": "EVxVIwh87WVJ",
        "outputId": "202b3616-47aa-4292-f798-13f3c453602a"
      },
      "outputs": [
        {
          "output_type": "execute_result",
          "data": {
            "text/plain": [
              "131072"
            ]
          },
          "metadata": {},
          "execution_count": 5
        }
      ],
      "source": [
        "import torch\n",
        "import sys\n",
        "import csv\n",
        "\n",
        "csv.field_size_limit(sys.maxsize)\n",
        "\n",
        "# torch.has_mps"
      ]
    },
    {
      "cell_type": "code",
      "execution_count": null,
      "metadata": {
        "id": "_1AdkW1kFB20"
      },
      "outputs": [],
      "source": [
        "# os.environ[\"OPENAI_API_KEY\"] = getpass(\"\")\n",
        "#os.environ[\"OPENAI_API_KEY\"] = “API KEY”"
      ]
    },
    {
      "cell_type": "code",
      "execution_count": null,
      "metadata": {
        "colab": {
          "base_uri": "https://localhost:8080/",
          "height": 193
        },
        "id": "5SuSwwcx7WVK",
        "outputId": "6ab81656-cee1-4ece-f0d5-2876742db6d3"
      },
      "outputs": [
        {
          "output_type": "error",
          "ename": "AssertionError",
          "evalue": "This doesn't look like a valid OpenAI API key",
          "traceback": [
            "\u001b[0;31m---------------------------------------------------------------------------\u001b[0m",
            "\u001b[0;31mAssertionError\u001b[0m                            Traceback (most recent call last)",
            "\u001b[0;32m<ipython-input-15-17e43ce09a84>\u001b[0m in \u001b[0;36m<cell line: 6>\u001b[0;34m()\u001b[0m\n\u001b[1;32m      4\u001b[0m   \u001b[0mos\u001b[0m\u001b[0;34m.\u001b[0m\u001b[0menviron\u001b[0m\u001b[0;34m[\u001b[0m\u001b[0;34m\"OPENAI_API_KEY\"\u001b[0m\u001b[0;34m]\u001b[0m \u001b[0;34m=\u001b[0m \u001b[0mgetpass\u001b[0m\u001b[0;34m(\u001b[0m\u001b[0;34m\"\"\u001b[0m\u001b[0;34m)\u001b[0m\u001b[0;34m\u001b[0m\u001b[0;34m\u001b[0m\u001b[0m\n\u001b[1;32m      5\u001b[0m \u001b[0;34m\u001b[0m\u001b[0m\n\u001b[0;32m----> 6\u001b[0;31m \u001b[0;32massert\u001b[0m \u001b[0mos\u001b[0m\u001b[0;34m.\u001b[0m\u001b[0mgetenv\u001b[0m\u001b[0;34m(\u001b[0m\u001b[0;34m\"OPENAI_API_KEY\"\u001b[0m\u001b[0;34m,\u001b[0m \u001b[0;34m\"\"\u001b[0m\u001b[0;34m)\u001b[0m\u001b[0;34m.\u001b[0m\u001b[0mstartswith\u001b[0m\u001b[0;34m(\u001b[0m\u001b[0;34m\"sk-\"\u001b[0m\u001b[0;34m)\u001b[0m\u001b[0;34m,\u001b[0m \u001b[0;34m\"This doesn't look like a valid OpenAI API key\"\u001b[0m\u001b[0;34m\u001b[0m\u001b[0;34m\u001b[0m\u001b[0m\n\u001b[0m\u001b[1;32m      7\u001b[0m \u001b[0mprint\u001b[0m\u001b[0;34m(\u001b[0m\u001b[0;34m\"OpenAI API key configured\"\u001b[0m\u001b[0;34m)\u001b[0m\u001b[0;34m\u001b[0m\u001b[0;34m\u001b[0m\u001b[0m\n",
            "\u001b[0;31mAssertionError\u001b[0m: This doesn't look like a valid OpenAI API key"
          ]
        }
      ],
      "source": [
        "\n",
        "if os.getenv(\"OPENAI_API_KEY\") is None:\n",
        "  if any(['VSCODE' in x for x in os.environ.keys()]):\n",
        "    print('Please enter password in the VS Code prompt at the top of your VS Code window!')\n",
        "  os.environ[\"OPENAI_API_KEY\"] = getpass(\"\")\n",
        "\n",
        "assert os.getenv(\"OPENAI_API_KEY\", \"\").startswith(\"sk-\"), \"This doesn't look like a valid OpenAI API key\"\n",
        "print(\"OpenAI API key configured\")"
      ]
    },
    {
      "cell_type": "markdown",
      "metadata": {
        "id": "6fLvsQcLEW0K"
      },
      "source": [
        "#Chunking and RAG"
      ]
    },
    {
      "cell_type": "code",
      "execution_count": null,
      "metadata": {
        "id": "Qgn9BzjX7WVK"
      },
      "outputs": [],
      "source": [
        "# from langchain.embeddings.openai import OpenAIEmbeddings\n",
        "# from langchain.text_splitter import CharacterTextSplitter\n",
        "# from langchain.text_splitter import RecursiveCharacterTextSplitter\n",
        "# from langchain.vectorstores import Chroma\n",
        "# from langchain.document_loaders import TextLoader\n",
        "# from langchain.chat_models import ChatOpenAI\n",
        "# from langchain import PromptTemplate\n",
        "# from langchain.chains import LLMChain\n",
        "# from langchain.chains.qa_with_sources import load_qa_with_sources_chain\n",
        "# from langchain.llms import OpenAI\n",
        "# from langchain.vectorstores import FAISS"
      ]
    },
    {
      "cell_type": "code",
      "source": [
        "from langchain_community.document_loaders.csv_loader import CSVLoader"
      ],
      "metadata": {
        "id": "eDSC6dBicuMl"
      },
      "execution_count": null,
      "outputs": []
    },
    {
      "cell_type": "code",
      "execution_count": null,
      "metadata": {
        "id": "cgh0f__69Qse"
      },
      "outputs": [],
      "source": [
        "MODEL_NAME = \"text-embedding-3-small\"\n",
        "# MODEL_NAME = \"gpt-4\""
      ]
    },
    {
      "cell_type": "code",
      "execution_count": null,
      "metadata": {
        "id": "28-76KUp9TdA"
      },
      "outputs": [],
      "source": [
        "# from langchain.document_loaders import DirectoryLoader\n",
        "\n",
        "# def find_md_files(directory):\n",
        "#     \"Find all markdown files in a directory and return a LangChain Document\"\n",
        "#     dl = DirectoryLoader(directory, \"**/*.txt\")\n",
        "#     return dl.load()\n",
        "\n",
        "# documents = find_md_files('data')\n",
        "# len(documents)"
      ]
    },
    {
      "cell_type": "code",
      "execution_count": null,
      "metadata": {
        "id": "MLiFbXx1-hAv"
      },
      "outputs": [],
      "source": [
        "# documents"
      ]
    },
    {
      "cell_type": "markdown",
      "metadata": {
        "id": "FznW3HMpD4f_"
      },
      "source": [
        "#upload files"
      ]
    },
    {
      "cell_type": "code",
      "execution_count": null,
      "metadata": {
        "id": "wtENHSIWEf9K"
      },
      "outputs": [],
      "source": [
        "import pandas as pd"
      ]
    },
    {
      "cell_type": "code",
      "execution_count": null,
      "metadata": {
        "id": "c3Edx6229xs3"
      },
      "outputs": [],
      "source": [
        "# from langchain.document_loaders.csv_loader import CSVLoader\n",
        "# # from langchain.docstore.document import Document\n",
        "# from langchain.text_splitter import RecursiveCharacterTextSplitter\n",
        "# from langchain.document_loaders import DirectoryLoader"
      ]
    },
    {
      "cell_type": "code",
      "source": [
        "url='https://drive.google.com/file/d/1gl7WAkJr6Nyke7YckzXxdL-iM4UjhLGX/view?usp=sharing'\n",
        "url='https://drive.google.com/uc?id=' + url.split('/')[-2]\n",
        "df = pd.read_csv(url)"
      ],
      "metadata": {
        "id": "logMHfgiSen2"
      },
      "execution_count": null,
      "outputs": []
    },
    {
      "cell_type": "code",
      "execution_count": null,
      "metadata": {
        "colab": {
          "base_uri": "https://localhost:8080/",
          "height": 501
        },
        "id": "1jr0ZaWqvSPQ",
        "outputId": "d9f2cd3b-ed37-46d4-ec02-a55b2d542983"
      },
      "outputs": [
        {
          "output_type": "execute_result",
          "data": {
            "text/plain": [
              "                        _id  \\\n",
              "0  63927168098523fa9d5ef047   \n",
              "1  652b21ec754471a9795c291a   \n",
              "2  6529cfaff59ed61396db838c   \n",
              "3  6529d030f59ed61396db8398   \n",
              "4  6529d072f59ed61396db839e   \n",
              "\n",
              "                                               title           author  \\\n",
              "0  Are The Democrats Screwed In The Senate After ...      Nate Silver   \n",
              "1                               Beyond the Narrative     Sam Freedman   \n",
              "2                         Ballot Measures: A Preview     Walter Olson   \n",
              "3           Trump’s Only Real Worldview Is Pettiness  David A. Graham   \n",
              "4  The COVID Bailout of State and Local Governmen...       Eric Boehm   \n",
              "\n",
              "                                         description  publish_date  \\\n",
              "0  \\nAre The Democrats Screwed In The Senate Afte...  1.670516e+12   \n",
              "1                                                NaN  1.697272e+12   \n",
              "2                                                NaN  1.697227e+12   \n",
              "3                                                NaN  1.697214e+12   \n",
              "4                                                NaN  1.697212e+12   \n",
              "\n",
              "                                           full_text  \\\n",
              "0  \\n\\n\\n\\n2028 Election\\nAre The Democrats Screw...   \n",
              "1  We are told before every party conference that...   \n",
              "2  Walter Olson  Voters will go to the polls soon...   \n",
              "3  Let no one say that Donald Trump has lost his ...   \n",
              "4         Two years after Congress authorized a h...   \n",
              "\n",
              "                                                 url categories  \n",
              "0  https://fivethirtyeight.com/features/democrats...   ['news']  \n",
              "1   https://samf.substack.com/p/beyond-the-narrative   ['news']  \n",
              "2  https://www.cato.org/blog/ballot-measures-preview   ['news']  \n",
              "3                 tag:theatlantic.com,2023:50-675637   ['news']  \n",
              "4  https://reason.com/2023/10/13/the-covid-bailou...   ['news']  "
            ],
            "text/html": [
              "\n",
              "  <div id=\"df-8479f671-9efc-4228-9eee-644099781946\" class=\"colab-df-container\">\n",
              "    <div>\n",
              "<style scoped>\n",
              "    .dataframe tbody tr th:only-of-type {\n",
              "        vertical-align: middle;\n",
              "    }\n",
              "\n",
              "    .dataframe tbody tr th {\n",
              "        vertical-align: top;\n",
              "    }\n",
              "\n",
              "    .dataframe thead th {\n",
              "        text-align: right;\n",
              "    }\n",
              "</style>\n",
              "<table border=\"1\" class=\"dataframe\">\n",
              "  <thead>\n",
              "    <tr style=\"text-align: right;\">\n",
              "      <th></th>\n",
              "      <th>_id</th>\n",
              "      <th>title</th>\n",
              "      <th>author</th>\n",
              "      <th>description</th>\n",
              "      <th>publish_date</th>\n",
              "      <th>full_text</th>\n",
              "      <th>url</th>\n",
              "      <th>categories</th>\n",
              "    </tr>\n",
              "  </thead>\n",
              "  <tbody>\n",
              "    <tr>\n",
              "      <th>0</th>\n",
              "      <td>63927168098523fa9d5ef047</td>\n",
              "      <td>Are The Democrats Screwed In The Senate After ...</td>\n",
              "      <td>Nate Silver</td>\n",
              "      <td>\\nAre The Democrats Screwed In The Senate Afte...</td>\n",
              "      <td>1.670516e+12</td>\n",
              "      <td>\\n\\n\\n\\n2028 Election\\nAre The Democrats Screw...</td>\n",
              "      <td>https://fivethirtyeight.com/features/democrats...</td>\n",
              "      <td>['news']</td>\n",
              "    </tr>\n",
              "    <tr>\n",
              "      <th>1</th>\n",
              "      <td>652b21ec754471a9795c291a</td>\n",
              "      <td>Beyond the Narrative</td>\n",
              "      <td>Sam Freedman</td>\n",
              "      <td>NaN</td>\n",
              "      <td>1.697272e+12</td>\n",
              "      <td>We are told before every party conference that...</td>\n",
              "      <td>https://samf.substack.com/p/beyond-the-narrative</td>\n",
              "      <td>['news']</td>\n",
              "    </tr>\n",
              "    <tr>\n",
              "      <th>2</th>\n",
              "      <td>6529cfaff59ed61396db838c</td>\n",
              "      <td>Ballot Measures: A Preview</td>\n",
              "      <td>Walter Olson</td>\n",
              "      <td>NaN</td>\n",
              "      <td>1.697227e+12</td>\n",
              "      <td>Walter Olson  Voters will go to the polls soon...</td>\n",
              "      <td>https://www.cato.org/blog/ballot-measures-preview</td>\n",
              "      <td>['news']</td>\n",
              "    </tr>\n",
              "    <tr>\n",
              "      <th>3</th>\n",
              "      <td>6529d030f59ed61396db8398</td>\n",
              "      <td>Trump’s Only Real Worldview Is Pettiness</td>\n",
              "      <td>David A. Graham</td>\n",
              "      <td>NaN</td>\n",
              "      <td>1.697214e+12</td>\n",
              "      <td>Let no one say that Donald Trump has lost his ...</td>\n",
              "      <td>tag:theatlantic.com,2023:50-675637</td>\n",
              "      <td>['news']</td>\n",
              "    </tr>\n",
              "    <tr>\n",
              "      <th>4</th>\n",
              "      <td>6529d072f59ed61396db839e</td>\n",
              "      <td>The COVID Bailout of State and Local Governmen...</td>\n",
              "      <td>Eric Boehm</td>\n",
              "      <td>NaN</td>\n",
              "      <td>1.697212e+12</td>\n",
              "      <td>Two years after Congress authorized a h...</td>\n",
              "      <td>https://reason.com/2023/10/13/the-covid-bailou...</td>\n",
              "      <td>['news']</td>\n",
              "    </tr>\n",
              "  </tbody>\n",
              "</table>\n",
              "</div>\n",
              "    <div class=\"colab-df-buttons\">\n",
              "\n",
              "  <div class=\"colab-df-container\">\n",
              "    <button class=\"colab-df-convert\" onclick=\"convertToInteractive('df-8479f671-9efc-4228-9eee-644099781946')\"\n",
              "            title=\"Convert this dataframe to an interactive table.\"\n",
              "            style=\"display:none;\">\n",
              "\n",
              "  <svg xmlns=\"http://www.w3.org/2000/svg\" height=\"24px\" viewBox=\"0 -960 960 960\">\n",
              "    <path d=\"M120-120v-720h720v720H120Zm60-500h600v-160H180v160Zm220 220h160v-160H400v160Zm0 220h160v-160H400v160ZM180-400h160v-160H180v160Zm440 0h160v-160H620v160ZM180-180h160v-160H180v160Zm440 0h160v-160H620v160Z\"/>\n",
              "  </svg>\n",
              "    </button>\n",
              "\n",
              "  <style>\n",
              "    .colab-df-container {\n",
              "      display:flex;\n",
              "      gap: 12px;\n",
              "    }\n",
              "\n",
              "    .colab-df-convert {\n",
              "      background-color: #E8F0FE;\n",
              "      border: none;\n",
              "      border-radius: 50%;\n",
              "      cursor: pointer;\n",
              "      display: none;\n",
              "      fill: #1967D2;\n",
              "      height: 32px;\n",
              "      padding: 0 0 0 0;\n",
              "      width: 32px;\n",
              "    }\n",
              "\n",
              "    .colab-df-convert:hover {\n",
              "      background-color: #E2EBFA;\n",
              "      box-shadow: 0px 1px 2px rgba(60, 64, 67, 0.3), 0px 1px 3px 1px rgba(60, 64, 67, 0.15);\n",
              "      fill: #174EA6;\n",
              "    }\n",
              "\n",
              "    .colab-df-buttons div {\n",
              "      margin-bottom: 4px;\n",
              "    }\n",
              "\n",
              "    [theme=dark] .colab-df-convert {\n",
              "      background-color: #3B4455;\n",
              "      fill: #D2E3FC;\n",
              "    }\n",
              "\n",
              "    [theme=dark] .colab-df-convert:hover {\n",
              "      background-color: #434B5C;\n",
              "      box-shadow: 0px 1px 3px 1px rgba(0, 0, 0, 0.15);\n",
              "      filter: drop-shadow(0px 1px 2px rgba(0, 0, 0, 0.3));\n",
              "      fill: #FFFFFF;\n",
              "    }\n",
              "  </style>\n",
              "\n",
              "    <script>\n",
              "      const buttonEl =\n",
              "        document.querySelector('#df-8479f671-9efc-4228-9eee-644099781946 button.colab-df-convert');\n",
              "      buttonEl.style.display =\n",
              "        google.colab.kernel.accessAllowed ? 'block' : 'none';\n",
              "\n",
              "      async function convertToInteractive(key) {\n",
              "        const element = document.querySelector('#df-8479f671-9efc-4228-9eee-644099781946');\n",
              "        const dataTable =\n",
              "          await google.colab.kernel.invokeFunction('convertToInteractive',\n",
              "                                                    [key], {});\n",
              "        if (!dataTable) return;\n",
              "\n",
              "        const docLinkHtml = 'Like what you see? Visit the ' +\n",
              "          '<a target=\"_blank\" href=https://colab.research.google.com/notebooks/data_table.ipynb>data table notebook</a>'\n",
              "          + ' to learn more about interactive tables.';\n",
              "        element.innerHTML = '';\n",
              "        dataTable['output_type'] = 'display_data';\n",
              "        await google.colab.output.renderOutput(dataTable, element);\n",
              "        const docLink = document.createElement('div');\n",
              "        docLink.innerHTML = docLinkHtml;\n",
              "        element.appendChild(docLink);\n",
              "      }\n",
              "    </script>\n",
              "  </div>\n",
              "\n",
              "\n",
              "<div id=\"df-3f59ccda-0950-48fc-8bc5-83b7155990ce\">\n",
              "  <button class=\"colab-df-quickchart\" onclick=\"quickchart('df-3f59ccda-0950-48fc-8bc5-83b7155990ce')\"\n",
              "            title=\"Suggest charts\"\n",
              "            style=\"display:none;\">\n",
              "\n",
              "<svg xmlns=\"http://www.w3.org/2000/svg\" height=\"24px\"viewBox=\"0 0 24 24\"\n",
              "     width=\"24px\">\n",
              "    <g>\n",
              "        <path d=\"M19 3H5c-1.1 0-2 .9-2 2v14c0 1.1.9 2 2 2h14c1.1 0 2-.9 2-2V5c0-1.1-.9-2-2-2zM9 17H7v-7h2v7zm4 0h-2V7h2v10zm4 0h-2v-4h2v4z\"/>\n",
              "    </g>\n",
              "</svg>\n",
              "  </button>\n",
              "\n",
              "<style>\n",
              "  .colab-df-quickchart {\n",
              "      --bg-color: #E8F0FE;\n",
              "      --fill-color: #1967D2;\n",
              "      --hover-bg-color: #E2EBFA;\n",
              "      --hover-fill-color: #174EA6;\n",
              "      --disabled-fill-color: #AAA;\n",
              "      --disabled-bg-color: #DDD;\n",
              "  }\n",
              "\n",
              "  [theme=dark] .colab-df-quickchart {\n",
              "      --bg-color: #3B4455;\n",
              "      --fill-color: #D2E3FC;\n",
              "      --hover-bg-color: #434B5C;\n",
              "      --hover-fill-color: #FFFFFF;\n",
              "      --disabled-bg-color: #3B4455;\n",
              "      --disabled-fill-color: #666;\n",
              "  }\n",
              "\n",
              "  .colab-df-quickchart {\n",
              "    background-color: var(--bg-color);\n",
              "    border: none;\n",
              "    border-radius: 50%;\n",
              "    cursor: pointer;\n",
              "    display: none;\n",
              "    fill: var(--fill-color);\n",
              "    height: 32px;\n",
              "    padding: 0;\n",
              "    width: 32px;\n",
              "  }\n",
              "\n",
              "  .colab-df-quickchart:hover {\n",
              "    background-color: var(--hover-bg-color);\n",
              "    box-shadow: 0 1px 2px rgba(60, 64, 67, 0.3), 0 1px 3px 1px rgba(60, 64, 67, 0.15);\n",
              "    fill: var(--button-hover-fill-color);\n",
              "  }\n",
              "\n",
              "  .colab-df-quickchart-complete:disabled,\n",
              "  .colab-df-quickchart-complete:disabled:hover {\n",
              "    background-color: var(--disabled-bg-color);\n",
              "    fill: var(--disabled-fill-color);\n",
              "    box-shadow: none;\n",
              "  }\n",
              "\n",
              "  .colab-df-spinner {\n",
              "    border: 2px solid var(--fill-color);\n",
              "    border-color: transparent;\n",
              "    border-bottom-color: var(--fill-color);\n",
              "    animation:\n",
              "      spin 1s steps(1) infinite;\n",
              "  }\n",
              "\n",
              "  @keyframes spin {\n",
              "    0% {\n",
              "      border-color: transparent;\n",
              "      border-bottom-color: var(--fill-color);\n",
              "      border-left-color: var(--fill-color);\n",
              "    }\n",
              "    20% {\n",
              "      border-color: transparent;\n",
              "      border-left-color: var(--fill-color);\n",
              "      border-top-color: var(--fill-color);\n",
              "    }\n",
              "    30% {\n",
              "      border-color: transparent;\n",
              "      border-left-color: var(--fill-color);\n",
              "      border-top-color: var(--fill-color);\n",
              "      border-right-color: var(--fill-color);\n",
              "    }\n",
              "    40% {\n",
              "      border-color: transparent;\n",
              "      border-right-color: var(--fill-color);\n",
              "      border-top-color: var(--fill-color);\n",
              "    }\n",
              "    60% {\n",
              "      border-color: transparent;\n",
              "      border-right-color: var(--fill-color);\n",
              "    }\n",
              "    80% {\n",
              "      border-color: transparent;\n",
              "      border-right-color: var(--fill-color);\n",
              "      border-bottom-color: var(--fill-color);\n",
              "    }\n",
              "    90% {\n",
              "      border-color: transparent;\n",
              "      border-bottom-color: var(--fill-color);\n",
              "    }\n",
              "  }\n",
              "</style>\n",
              "\n",
              "  <script>\n",
              "    async function quickchart(key) {\n",
              "      const quickchartButtonEl =\n",
              "        document.querySelector('#' + key + ' button');\n",
              "      quickchartButtonEl.disabled = true;  // To prevent multiple clicks.\n",
              "      quickchartButtonEl.classList.add('colab-df-spinner');\n",
              "      try {\n",
              "        const charts = await google.colab.kernel.invokeFunction(\n",
              "            'suggestCharts', [key], {});\n",
              "      } catch (error) {\n",
              "        console.error('Error during call to suggestCharts:', error);\n",
              "      }\n",
              "      quickchartButtonEl.classList.remove('colab-df-spinner');\n",
              "      quickchartButtonEl.classList.add('colab-df-quickchart-complete');\n",
              "    }\n",
              "    (() => {\n",
              "      let quickchartButtonEl =\n",
              "        document.querySelector('#df-3f59ccda-0950-48fc-8bc5-83b7155990ce button');\n",
              "      quickchartButtonEl.style.display =\n",
              "        google.colab.kernel.accessAllowed ? 'block' : 'none';\n",
              "    })();\n",
              "  </script>\n",
              "</div>\n",
              "\n",
              "    </div>\n",
              "  </div>\n"
            ],
            "application/vnd.google.colaboratory.intrinsic+json": {
              "type": "dataframe",
              "variable_name": "df",
              "summary": "{\n  \"name\": \"df\",\n  \"rows\": 3327,\n  \"fields\": [\n    {\n      \"column\": \"_id\",\n      \"properties\": {\n        \"dtype\": \"string\",\n        \"num_unique_values\": 3327,\n        \"samples\": [\n          \"64d57070724205ad3ab1c444\",\n          \"61918ed0f8561a455db3b00e\",\n          \"614e6b38fe306f0688649855\"\n        ],\n        \"semantic_type\": \"\",\n        \"description\": \"\"\n      }\n    },\n    {\n      \"column\": \"title\",\n      \"properties\": {\n        \"dtype\": \"string\",\n        \"num_unique_values\": 3269,\n        \"samples\": [\n          \"Worsening global digital divide as the US and China continue zero-sum competitions\",\n          \"Bjorn Lomborg: Why Do We Fixate on Climate Rather Helping the World's Poor?\",\n          \"Idaho Keeps Scheduling This Inmate's Execution Even Though It Lacks the Means To Kill Him\"\n        ],\n        \"semantic_type\": \"\",\n        \"description\": \"\"\n      }\n    },\n    {\n      \"column\": \"author\",\n      \"properties\": {\n        \"dtype\": \"category\",\n        \"num_unique_values\": 544,\n        \"samples\": [\n          \"Joel Golby\",\n          \"James Snell\",\n          \"Simon Cottee\"\n        ],\n        \"semantic_type\": \"\",\n        \"description\": \"\"\n      }\n    },\n    {\n      \"column\": \"description\",\n      \"properties\": {\n        \"dtype\": \"category\",\n        \"num_unique_values\": 1317,\n        \"samples\": [\n          \"A trip to the grocery store costs considerably more than it did a year ago. Now Florida's congressional delegation wants to inflate prices even more.\\nOn Friday, Sen. Marco Rubio (R\\u2013Fla.) led a bipartisan group of lawmakers\\u2014all of them from Florida\\u2014in submitting a petition to U.S. Trade Representative Katherine Tai seeking \\\"an investigation\\\" into what the lawmakers call \\\"the flood of imported seasonal and perishable agricultural products from Mexico.\\\" They ask Tai to invoke Section 301 of the Trade Act of 1974 to impose \\\"trade remedies\\\" that will protect American growers from the scourge of\\u2026low-priced produce.\\nWhile they don't come out and say it directly, it's obvious from the letter that Rubio and his colleagues are seeking tariffs on Mexican produce. Section 301 is the same mechanism the Trump administration used to impose wide-ranging tariffs on goods imported from China. It's a law that grants the executive branch broad, unilateral power over trade.\\nRubio and the other lawmakers say the Mexican government is subsidizing its domestic agricultural infrastructure as part of a scheme to undercut the prices charged by U.S. growers. \\\"Mexico poses a direct threat to Florida's seasonal and perishable agricultural industry,\\\" they conclude.\\nThe petition goes into more detail. A case of Mexican-grown bell peppers, for example, sells for about $5.85 less than a case of bell peppers grown in Florida. A flat of strawberries from Mexico goes for a few bucks less than the equivalent amount of strawberries picked in Florida.\\nAnd don't forget the cucumbers! The petition claims that a flat of Mexican-grown cucumbers sells for a whole \\\"$1.32 less than the average price of a flat of Florida-produced cucumbers.\\\"\\u00a0What's more, \\\"prices for Mexican cucumbers are their lowest in the months of April and May, which are the peak months for the marketing of Florida-grown cucumbers.\\\"\\nAnyone who has taken a basic economics class should be able to explain what's happening there. A high level of supply tends to push prices downward. Whether grown in Mexico or Florida, it makes sense that cucumber prices would be at their lowest when there are a lot of cucumbers in the market.\\nBut that's not how Rubio and his colleagues see it. Instead, the petition describes this minor pricing difference as \\\"a clear attempt to displace Florida cucumbers from the U.S. market.\\\"\\nTake a moment to enjoy the fact that some of the most powerful men and women in the U.S. government are freaking out over the idea that American consumers might get to save a few cents on their next cucumber purchase. Then amuse yourself with the optics of American agricultural special interests\\u2014which are, of course, pulling Rubio's strings here\\u2014complaining about subsidies, as if \\\"direct government aid\\\" doesn't account for nearly 40 percent of American farmers' annual income.\\n\\\"These Florida politicians are following a time-honored tradition of trying to help their local constituents at the expense of Americans in other states, who benefit from low-priced fruits and vegetables regardless of where they are grown,\\\" says Bryan Riley, director of the free trade initiative at the National Taxpayers Union Foundation. Any discussion of how government subsidies are distorting the agricultural markets on both sides of the U.S./Mexico border should take into account the protectionist barriers to imported sugar, he notes.\\nIndeed, the American sugar industry has for decades enjoyed the kind of protectionism that Rubio and his colleagues would like to see extended to cucumbers and other produce. The results aren't great. Consumers pay billions more annually, the environment gets wrecked, and Americans end up eating less healthy sugar alternatives.\\nBut the craziest thing about Rubio's proposal is the timing. Food prices are up 10.9 percent over the 12 months ending in July. That means they've risen even faster than overall inflation, which is up 8.5 percent over the same period. (August's inflation data will be released Tuesday morning.)\\nThe whole point of special-interest protectionism is that the costs are diffused while the benefits are highly concentrated. All Americans pay for the federal government's dumb sugar policies, but we barely notice the added cost while the sugar-producing industry reaps billions of dollars in benefits every year.\\nEven so, openly calling for higher prices at the grocery store\\u2014and that is exactly what these lawmakers are doing\\u2014at a time like this? Are you serious?\\nIt shouldn't matter whether a cucumber is grown in Florida or Mexico. And at a time when American consumers are beset by high and rising prices, it makes sense to welcome the import of cheaper goods that can put food on the table and put downward pressure on inflation. Rubio's petition should go directly to the compost heap.\\n\\nThe post Marco Rubio Wants To Make Your Groceries More Expensive appeared first on Reason.com.\",\n          \"He turned a messy, pragmatic compromise into an aspirational blueprint for a nation based on equal liberty for all.\",\n          \"The social media platforms that hold and shape our attention need to be governed in the public interest.\"\n        ],\n        \"semantic_type\": \"\",\n        \"description\": \"\"\n      }\n    },\n    {\n      \"column\": \"publish_date\",\n      \"properties\": {\n        \"dtype\": \"number\",\n        \"std\": 20671197850.086555,\n        \"min\": 1624010400000.0,\n        \"max\": 1697272260000.0,\n        \"num_unique_values\": 3097,\n        \"samples\": [\n          1660388400000.0,\n          1668157831000.0,\n          1665082868000.0\n        ],\n        \"semantic_type\": \"\",\n        \"description\": \"\"\n      }\n    },\n    {\n      \"column\": \"full_text\",\n      \"properties\": {\n        \"dtype\": \"string\",\n        \"num_unique_values\": 3230,\n        \"samples\": [\n          \"For most of our ten thousand years on the planet, the vast majority of humanity endured lives of dire poverty and extreme material deprivation. Most people spent most of their time worrying about securing the bare minimum of food and shelter. The Industrial Revolution began to change that dynamic. Still, the British economist and philosopher John Stuart Mill was correct to question in the early 1870s whether \\u201call the mechanical inventions yet made have lightened the day\\u2019s toil of any human being.\\u201d Soon after, however, the emergence of globalization, the industrial research laboratory, and the modern corporation made possible a rapid upward trajectory in human flourishing and an end to near-universal agrarian poverty. Another British economist, John Maynard Keynes, foresaw in 1930 that the continued progress of science and compound interest could mean that human beings, liberated from pressing economic cares, might find their real challenge to be how to occupy their leisure time and \\u201clive wisely and agreeably and well.\\u201d\\u00a0\\nBut the explosion of productivity and prosperity over the 140 years that followed the takeoff point in 1870 did not see humanity zooming toward Utopia; at best, we slouched fitfully in that direction. Brad DeLong, an economics professor at the University of California at Berkeley, has written a much-anticipated history of what he calls \\u201cthe long twentieth century\\u201d from 1870 to 2010, entitled\\u00a0Slouching Towards Utopia: An Economic History of the Twentieth Century. In it, he explains how we achieved economic breakthroughs that once would have been considered miraculous \\u2014 and yet fell short of what that breakthrough promised. And DeLong also explains why he believes that the era of remarkable prosperity, for all its problems and inequities, has now ended.\\u00a0\\nIn this podcast discussion, Niskanen\\u2019s Brink Lindsey and Geoff Kabaservice talk with DeLong about why the material abundance that resulted from the great acceleration after 1870 was unevenly distributed between nations and within them, why developmental social democracy failed its sustainability test, and how the long twentieth century was in a sense a contest between the ideas of the towering thinkers Friedrich Hayek and Karl Polanyi. The discussion also covers differing perspectives on \\u201cthe neoliberal turn,\\u201d speculations about how to benefit from the best aspects of neoliberalism and social democracy while avoiding their pitfalls, and a hypothesis as to why capitalism is like the brooms in \\u201cThe Sorcerer\\u2019s Apprentice.\\u201d\\n\\nTranscript\\nBrad DeLong: The collapse of confidence in government in the industrial West is of extraordinary magnitude and yet, as I see it, largely unbased in reality. The ideas I\\u2019m playing with are that really we need to go back and think more about changing modes of production.\\nGeoff Kabaservice: Hello! I\\u2019m Geoff Kabaservice for the Niskanen Center.\\nBrink Lindsey: And I\\u2019m Brink Lindsey from the Niskanen Center.\\nGeoff Kabaservice: Welcome to the Vital Center Podcast, where we try to sort through the problems of the muddled, moderate majority of Americans, drawing upon history, biography, and current events. And we\\u2019re delighted to have with us today J. Bradford DeLong, better known as Brad. He is an economic historian and macroeconomist who holds a professorship in Economics at the University of California at Berkeley, as well as being a research associate of the National Bureau of Economic Research and a fellow at the Institute for New Economic Thinking.\\nHe also served in the U.S. government as Deputy Assistant Secretary of the Treasury for Economic Policy from 1993 to 1995, where he worked on the Clinton administration\\u2019s 1993 budget, on the Uruguay Round of the General Agreement on Tariffs and Trade, and on the North American Free Trade Agreement. Prior to joining the Treasury Department, he taught at Harvard University, Boston University, and MIT. And he is one of the original econ bloggers, who continues to post almost daily on Brad DeLong\\u2019s Grasping Reality, which is now on Substack. He also has an excellent podcast with his fellow economist, Noah Smith, which is called \\u201cHexapodia\\u201d Is the Key Insight. And not least, he\\u2019s on the Niskanen Center\\u2019s Board of Advisors. Welcome, Brad!\\nBrad DeLong: Thank you very much for inviting me. I think we just crossed 40,000 books sold in all formats for my Slouching Towards Utopia, and so I\\u2019m still very eager to tell people it exists and talk about it.\\nGeoff Kabaservice: Well, fantastic! And congratulations on your prodigious and path-breaking book, Slouching Towards Utopia: An Economic History of the 20th Century. It was published in September of 2022, but it\\u2019s still flying off airport bookstore shelves around the world, as I can vouch from my visit a few days ago to S\\u00e3o Paulo.\\nBrad DeLong: Oh, wow. It\\u2019s in the S\\u00e3o Paulo airport?\\nGeoff Kabaservice: It was indeed, yes.\\nBrad DeLong: Oh, wow. That\\u2019s a major victory of some sort.\\nGeoff Kabaservice: I think it is. It\\u2019s a book I think that we\\u2019re going to be talking about decades hence, and it\\u2019s also a book that\\u2019s been decades in the making. I note that Paul Krugman, writing in his New York Times column of June 18th, 2000 referred to \\u201c[Brad DeLong\\u2019s] already classic though not yet complete book Slouching Towards Utopia.\\u201d\\nBrad DeLong: Well, at that time there really were only three chapters, right? It was more a marker that this was a book I was trying to write rather than a full manuscript. Admittedly, Paul loved those three chapters and has more confidence in my ability to actually buckle down on projects than I do. The problem was, the end of the book kept changing in the early 2000s.\\nGeoff Kabaservice: Yes, as you tried to figure out the end point. I gleaned from Annie Lowrey\\u2019s profile of you in The Atlantic that the book had its genesis in 1994, when you came across socialist historian Eric Hobsbawm\\u2019s book The Age of Extremes\\u2026\\nBrad DeLong: Yes.\\nGeoff Kabaservice: \\u2026which was on what he called \\u201cthe short 20th century\\u201d between the assassination of Franz Ferdinand in 1914 and the collapse of the Soviet Union in 1991.\\nBrad DeLong: Yes.\\nGeoff Kabaservice: So what was the process there that led to your book?\\nBrad DeLong: Annoyance. Annoyance and a lunch, I think at the Harvard Faculty Club, where David Landes and Peter Temin were there. And I was ranting at them about how Hobsbawm had really told the wrong story of the long 20th century. That Hobsbawm story is world communism as tragic hero, born under incredibly adverse conditions that kind of marked, distorted, and stunted it. And it saved the entire world from Nazism before expiring in a low, dishonest way that left bad guys (although not the worst guys) in control. And that kind of blocked humanity\\u2019s road to anything that you might think of as Utopia or a truly human world. And that really was not the big story. World communism was not the major actor of the 20th century, and the big story was quite different, and someone should write the right book that was the history of the 20th century.\\nAnd Peter and David said, \\u201cWell, why don\\u2019t you do it? You\\u2019re still young. You could take this thing on.\\u201d And I hemmed and hawed and said, \\u201cMaybe.\\u201d And so ever since then, it\\u2019s been in the back of my mind as something I should do or somebody should do, and then it was something I should do. And then Basic Books put me under contract, the theory being that I wasn\\u2019t making progress on it, and if they put me under contract they could come around once a year and yell at me at how progress wasn\\u2019t being made. And then before the plague, I finally said, \\u201cSomeone should do this, and clearly this someone is me,\\u201d and started to work on it in true earnest \\u2014\\u00a0that is, the everyday thing. And then the plague came, and now the book is finally out.\\nGeoff Kabaservice: Well, congratulations on the publication of your long-awaited book. As you probably know, there was an episode of The Monty Python Show that featured the All-England Summarize Proust Competition, in which each contestant had to give a summary of Marcel Proust\\u2019s \\u00c0 la recherche du temps perdu in 15 seconds, once in a swimsuit and once in a dress. And I feel like that\\u2019s the model for any attempt to summarize Slouching Towards Utopia in this kind of interview format.\\nBrad DeLong: Yes.\\nGeoff Kabaservice: But minus the costume changes, let me give this a try. I would say that your book is a grand narrative of the coming of economic modernity over the course of what you call \\u201cthe long 20th century\\u201d that started in 1870 and ended in 2010. And prior to 1870, despite the advent of capitalism and the industrial revolution, humanity still inhabited a largely Malthusian world. Technological improvements never permitted a significant or sufficient increase in production to outpace population growth, and incomes remained stuck at subsistence level. More than 80% of the global population in 1870 lived on what it farmed rather than what it purchased.\\nBut after 1870, growth in incomes in the leading economies of the Global North became supercharged by the critical innovations of globalization, the modern corporation, and the industrial research laboratory. And these changes brought about an unprecedented explosion of prosperity and productivity that, as you wrote, \\u201cunlocked the gate that had previously kept humanity in dire poverty.\\u201d\\nNonetheless, humanity didn\\u2019t zoom toward Utopia. At best we slouched fitfully in that direction. And the material abundance that resulted from the great acceleration after 1870 was unevenly distributed between nations and within them, largely because of non-economic developments including the two world wars, the legacies of colonialism, contending economic philosophies about what markets alone can achieve, and the varying competencies and priorities of governments.\\u00a0\\nI\\u2019m pretty sure that was longer than 15 seconds. How else would you amplify upon this very skeletal outline of the themes of your book?\\nBrad DeLong: I would say that normally you would think that a world in which each generation\\u2026 We are not just twice as technologically competent as any previous generation, but also resource scarcity is not mounting at a pace fast enough to offset a good deal of that \\u2014that would be a world in which it was pretty easy to get pretty close to Utopia. That is, that the kind of tasting the economic pie, figuring out how to use our wealth, what wealth we have, to live as wisely and well as we can, and equitably distributing the economic pie\\u2026\\nThose would seem to be easy questions relative to the basic problem of baking a sufficiently large economic pie. And largely, if you can\\u2019t bake a sufficiently large economic pie, you poison everything else, because if there\\u2019s no way there can be enough for everyone, then getting enough for yourself and your family involves joining a gang, joining a gang of thugs with spears or gunpowder weapons and their associated tame propagandists, bureaucrats, and accountants, and they\\u2019re running a force-and-fraud exploitation and domination game on the rest of humanity.\\nThat kind of poisons everything. But running such a game is hard and dangerous. And once the need is no longer there, once there is plausibly or is about to be enough for everyone, everything else should have fallen into place much more easily than it did, than it has. It still has not fallen into place. Half a mile away from me there is a man living in a box, and killer robots are still stalking the skies over Ukraine, Syria, Yemen, lots of other places. Yes, we have this enormous explosion of wealth, but it is a very sad verdict on humanity that baking a sufficiently large economic pie did not turn out to be the truly hard problem that slicing and tasting the pie did.\\nGeoff Kabaservice: Well, that\\u2019s a very good summary. Before we get into a fuller discussion of Slouching Towards Utopia, I wanted to ask you something about yourself, as I do on this podcast. So where did you grow up? Where did you go to school? What were some of your important influences?\\nBrad DeLong: Let\\u2019s see\\u2026 I would say born in Cambridge, Massachusetts, when my father was a student at Harvard Law School and my mother was wondering what she should do; she became a psychologist. We moved to Los Angeles, to Pasadena, at three, and moved to Washington DC at six, because my father wanted to work for the Johnson administration rather than be a lawyer at O\\u2019Melveny & Myers. Headed off to Cambridge, Massachusetts for college in 1978.\\nI took a look at the job market in 1982, when I graduated, and promptly turned around and ran back into the university. I decided that since people applying for jobs as assistant professors in history were 40 and had written two well-regarded books, and people applying for jobs as assistant professors in economics were 26 and had one half-written paper, that clearly I should get an economics Ph.D. And so I did, and ever since it has been what the machine learning people call \\u201cgradient descent\\u201d: do at every instant the thing that I think is the most useful, the most fun, and the most likely to be successful at accomplishing. And it\\u2019s been a strange twisting path, and here I am.\\nGeoff Kabaservice: I think it was in your review of the third volume of Robert Skidelsky\\u2019s biography of the British economist John Maynard Keynes that you referred to \\u201cthe half-science, half-witchcraft discipline of macroeconomics.\\u201d I wondered how you came up with that description of your profession.\\nBrad DeLong: Well, that\\u2019s the description of the subprofession, which is the overall study of business cycles and economic growth, as opposed to the micro side of economics where we have firmer foundations. The problem with micro is that the firm foundations are totally wrong but nevertheless somewhat useful, which is a deeper problem. In macro, largely we have simple observations about what tends to happen and frantic attempts to rationalize them through some underlying intellectual structure \\u2014\\u00a0which doesn\\u2019t do terribly well, in large part because each generation, macroeconomists find that the reaction of the previous generation against and to solve the problems of full employment, stable prices, and economic growth it has undertaken undermine the truth of whatever generalizations and frantic attempts to rationalize them economists have come up with.\\nWitness the fact that when 2021 came along, the overwhelming bulk of economists were very confident that inflation was not going to be a danger. Because if in the long period before 2020, in which deficient demand had not caused significant reductions in the rate of inflation, well, then a surge of excess demand as the economy reopened would not cause a significant rise in prices. Surprise, surprise! The stable, flat Phillips Curve structure that people had thought they had seen between 1995 and 2020 vanished into thin air in mid-2021, and we\\u2019ve been scrambling since to figure out what the hell is going on and what should be done in order to get the economy back into some kind of satisfactory equilibrium, Goldilocks-balanced configuration.\\nGeoff Kabaservice: It\\u2019s my untested hypothesis that adolescents who read a lot of science fiction are more likely to grow up to be economists, and adolescents who read a lot of fantasy are more likely to grow up to become historians. I\\u2019m guessing you read a lot of science fiction.\\nBrad DeLong: Well, a lot of both.\\nGeoff Kabaservice: Okay. Who were the science fiction writers whom you liked best?\\nBrad DeLong: Oh, I was an early Heinlein fan, to an extraordinary degree. And I had a soft spot for Isaac Asimov, but much more for his science writing than his science fiction, which is I\\u2019d say is embarrassing if one has an emotional age of more than 12 as one starts actually thinking about how human beings actually relate. And thinking about it in retrospect, one feels kind of sad for poor Isaac, thinking that he never kind of figured out how to fit into the social world in spite of his enormous and prodigious talents.\\nGeoff Kabaservice: You know, I still have a sneaking admiration for Hari Seldon, the great sociologist who can plot out humanity\\u2019s future course.\\nBrad DeLong: Well, yes, and in some ways, that\\u2019s a chemist\\u2019s view of what history as a subject would be if you could actually in some way apply a law of large numbers and get something like statistical mechanics going, so that you could figure out what is actually happening, what is actually likely to happen. There is a passage, I think in Second Foundation, in which one of the seniors is quizzing a graduate student and demanding that they explain a series of equations and what they mean, and the student is trying the very best they can. And it brings back memories from my own kind of science and also economics courses, as to try to move between the reality of the world and what the framework of analysis is and what the mathematical representation of it is. And the idea that one might be able to bring tools to bear on understanding in the social rather than natural sciences is, I think, something one gets from Isaac.\\u00a0\\nBut there, the decisive moment really was, I think I was 12, and the American Association for the Advancement of Science had come to have its annual meeting in Washington, D.C., down on Connecticut Avenue. And I went down, and in the basement of the hotel they had a whole bunch of things, one of which was a typewriter hooked up to a mainframe computer elsewhere on which you could run Jay Forrester\\u2019s world dynamics model.\\u00a0\\nWell, Jay Forrester\\u2019s world dynamics model has pollution as a stock, and when you produce stuff in a polluting way, you add to the pollution stock. There\\u2019s a flow from increased pollution, and productivity depends not on the level of pollution now, but on the total stock of past accumulated pollution \\u2014\\u00a0and depends highly negatively on it. And you know and I know that anytime you set up that kind of mathematical formulation in which there\\u2019s a negative effect of the stock on something, but your current activities only affect the stock \\u2014\\u00a0are only a flow into the level of the stock, which is an accumulating variable \\u2014 that basically what you\\u2019re going to get is you\\u2019re going to get an absolute crash, because high activity is going to greatly push up the effect of your total pollution stock and its accumulated past activity that pushes down present activity.\\nAnd so in the core of Jay Forrester\\u2019s world dynamics model was the fact that in the model, industrial civilization was always going to crash \\u2014 and crash hard, with mammoth famines, 90% population declines, 50% declines in, you know, no matter what you did to the model. Because as we were sitting there in the basement trying different scenarios, it wouldn\\u2019t allow you to change that fundamental structure. The only question was: When would industrial civilization crash? And I spent a day playing with this in the basement, and you would watch the typewriter, and it would print out graphs, and each line of the typewriter, it would punch a P or something for population. The graph would be composed of individual letters as the series, making a pattern. It was fascinating, and it made me think this was something that maybe it would be fun to do for a career. And I kept that in the back of my mind.\\u00a0\\nAnd then in college, I wound up doing the social studies major, then with a heavy focus on economics, and thinking. \\u201cThis is actually a fun, interesting intellectual discipline to play with.\\u201d But I think the idea that it might be a place where one could think useful thoughts really came from that day spent in the basement of some hotel on Connecticut Avenue when I was 12.\\nGeoff Kabaservice: That\\u2019s a good story, and I see an early rejection of the idea of economics as a dismal science. Brink, I feel like you and Brad have been at least in communication for 20 years now.\\nBrink Lindsey: I think so. I was an early reader of Brad\\u2019s blog and read those early chapters of Slouching Towards Utopia not long after they were up and available online. I wrote a book about globalization called Against the Dead Hand, which came out in 2002, and I recall Brad writing really nice things about it.\\nBrad DeLong: Yeah, it was very, very nice.\\u00a0\\nBrink Lindsey: And if we had never corresponded before that, then certainly on that occasion I struck up a correspondence with Brad. And we\\u2019ve been chatting, and occasionally seeing each other in the flesh, on and off ever since.\\nGeoff Kabaservice: Brink, at the start of 2022, you began to share with me some of the ideas you had for what became your Substack, The Permanent Problem, which everyone should check out. And it\\u2019s one of those cases of great minds thinking alike, because both Brad\\u2019s book and your Substack are in a sense in dialogue with the 1930 essay by Keynes entitled \\u201cEconomic Possibilities for Our Grandchildren.\\u201d\\u00a0\\nKeynes was writing during the Great Depression, but he believed that in hindsight it would appear as an aberration in what was otherwise a long-term trend of cumulative growth. And he wrote that \\u201cthe economic problem, the struggle for subsistence, always has been hitherto the primary, most pressing problem of the human race.\\u201d But the economic growth that occurred since the 1870 takeoff, he wrote, \\u201cmeans that the economic problem is not \\u2014\\u00a0if we look into the future \\u2014 the permanent problem of the human race.\\u201d Because if growth could continue for another century, then \\u201cfor the first time since his creation man will be faced with his real, his permanent problem \\u2014 how to use his freedom from pressing economic cares, how to occupy the leisure which science and compound interest will have won for him, to live wisely and agreeably and well.\\u201d\\nSo tell me more, Brink, about why that Keynes quote resonated so strongly with you that you named your Substack \\u201cThe Permanent Problem,\\u201d and also your best guess as to why you and Brad seemed to be thinking along similar lines.\\nBrink Lindsey: Well, I think I\\u2019m thinking in a very similar way to the thinking that guided Brad in the writing of his book. So there\\u2019s the glass-half-full story that the gates which had locked mankind in dire poverty have been broken open and the path to Utopia is apparently open. Then there\\u2019s the glass-half-empty story, which is that despite all of our technological powers and organizational powers and the resources at our disposal, we haven\\u2019t figured out \\u2014\\u00a0we haven\\u2019t gotten really very close to figuring out \\u2014 how to live wisely and agreeably and well.\\nAnd so in my own career, I\\u2019ve spent a lot of my time analyzing and writing about the causes and consequences of economic growth and the arrival of material abundance; looking at globalization and writing about the consequences in a cultural and political history of the United States called The Age of Abundance, which looked at history of America since World War II through the prism of the cultural and political reactions to the advent of mass affluence. Here was a society that was something new under the sun, where the fulfillment of basic material needs could be more or less assumed by the vast majority of the population.\\u00a0\\nThat didn\\u2019t mean people stopped worrying. It meant they started worrying about new things, in particular about self-expression, self-realization. So all of the tumults of the \\u201860s and \\u201870s I saw coming straight out of the story I told, coming straight out of the placid suburbia of the \\u201850s, and all following from the unfolding logic of a radical change in the human condition, almost necessitating dramatic adaptations in culture and politics.\\u00a0\\nBut I told a pretty happy story. I conceived this book at the end of the \\u201890s boom, beginning of the 2000s, before 9/11. I wrote it between 2003 and 2006, and it came out in 2007. At that time, I still thought we were on a glide path to progress, the path of least resistance, that humanity in general and the rich countries in particular were going to get richer and freer and better governed.\\nBrad DeLong: Well, it did seem then that left-neoliberalism kind of had it right: a proper disdain for bureaucracies and their inefficiencies, and a proper recognition of the great crowdsourcing benefits of what Michael Polanyi would call \\u201cmercenary institutions\\u201d like the market and fiduciary institutions like science. Add those with the fact that you could be kind of a social-democratic wolf in left-neoliberal sheep\\u2019s clothing and talk about safety nets and so forth, and recognize that the right road to a lot of social democratic ends in fact involved not bureaucracy but rather tuning market incentives and getting the great crowdsourcing machine going. That really did seem to be the intellectual sweet spot for organizing production and distribution. And add to that what would seem to be a stable democracy. Frank Fukuyama looked, if anything, a little pessimistic in his talk about \\u201cThe End of History.\\u201d\\u00a0\\nBrink Lindsey: Democracies were waxing worldwide at that time. But since then, since 2007 \\u2014\\u00a0which I think was the last year one could write a history unironically titled The Age of Abundance \\u2014\\u00a0since then the glass-half-empty story has become much more salient to me. I didn\\u2019t ignore it in writing that book, but the book was an upbeat story: that we had come through the sturm und drang of the \\u201860s and \\u201870s and had come to a kind of neoliberal, socially liberal consensus. But such was not to be.\\nAnd so, still having in my mind the idea that the advent of mass affluence and this switch from \\u201cthe economic problem\\u201d to \\u201cthe permanent problem,\\u201d as Keynes had put it, was really the defining event of our time, I just went back and looked at it again and saw the dark sides of it, the downsides of this change. And the incompleteness of our adaptation to that change now looked much more apparent to me. And so I share Brad\\u2019s sort of somber verdict on capitalist mass affluence. Grading on a historical curve, we\\u2019re better off than humanity\\u2019s ever been. Grading according to what our technological and organizational powers would seemingly enable if we could just get our act together, we\\u2019re very much wanting.\\nGeoff Kabaservice: This is a theme to which we will return. Brad, you name-dropped Michael Polanyi, who\\u2019s a British polymath. But the central Polanyi in your book is not Michael but Karl Polanyi\\u2026\\nBrad DeLong: It\\u2019s Karl, yes.\\nGeoff Kabaservice: \\u2026who is presented as a kind of counterpart to the Austrian neoclassicist economist Friedrich Hayek, with whom a lot more people will be familiar. So can you tell me something about Karl Polanyi and why his message seemed to be the counterpart to Hayek?\\nBrad DeLong: Well, Polanyi was another one of the huge number of extremely interesting intellectuals coming out of the Austro-Hungarian Empire, as it stood before World War I; born and molded there, and then generally fleeing everywhere else, usually to America or Britain, and then trying to reflect on the social world as they had seen it, had understood it. And for some reason, that experience seems to have given an awful lot of them special insights, or at least special energy.\\nPolanyi\\u2019s dominant view was that the market economy was a tremendously effective way of crowdsourcing solutions to problems of production. But a market economy is one that vindicates absolutely no rights except for property rights. If you don\\u2019t have effective demand for something, you might as well not exist to the market economy. And effective demand is not intensity of need, but rather is intensity of need times your wealth.\\nPolanyi\\u2019s view was that humans form societies, and in societies people believe that they have rights. And to say, \\u201cNo, the only rights we are going to vindicate are property rights\\u201d \\u2014 that kind of stark utopia was unsustainable. It would call forth some kind of enormous counterbalancing reaction. One way he put it is the market, by saying the only rights that matter are property rights, attempts to destroy everything you might call \\u201csociety,\\u201d and society in return will mobilize and try to destroy the market. And the reaction may be smart, may be stupid, may be left, may be right, may be genocidal, may be a satisfactory compromise. But there will be a very strong reaction against every attempt by the market economy to expand its reach.\\u00a0\\nAnd yet because the market economy is so productive, it will keep on trying to extend its reach. There\\u2019s an awful lot of money to be made by relying on it. This coming of the market, and then society\\u2019s resistance to it, was, Karl Polanyi thought, \\u201cThe Great Transformation\\u201d and was at the root of an awful lot of our problems of distributing and utilizing our wealth.\\u00a0\\nBrink Lindsey: I\\u2019ll just interject here that Brad\\u2019s very nice compressed account of Polanyi\\u2019s insights represents a massive work of distillation from very low-quality-ore prose.\\nBrad DeLong: Yes. In some ways, I think the right analogy to Polanyi is Hyman Minsky. I remember Laura Tyson getting off a plane and saying, \\u201cI tried to read Minsky on the plane.\\u201d In my view, people who talk about Hyman Minsky are almost always talking about Charlie Kindleberger, who took Minsky\\u2019s insights, compressed them, and then actually used them to tell fascinating, interesting, amusing stories about financial crises. And Minsky\\u2019s influence, I think, overwhelmingly comes through Kindleberger\\u2019s understanding and using him. Maybe one of the thoughts I\\u2019ve had about my book is that if it succeeds, it might help do the same thing for Polanyi.\\nGeoff Kabaservice: That would be great. You summarize the messages of Hayek, on the one hand, as \\u201cThe market giveth, the market taketh away, blessed be the name of the market. And in Polanyi\\u2019s case, \\u201cThe market was made for man, not man for the market.\\u201d And you do point out that Hayek\\u2019s vision was not a stable principle around which to organize society and political economy. But the distorted Polanyi message \\u2014\\u00a0the idea of centralized command of the economy \\u2014 also was not sustainable and, in fact, led to hideous tyrannies in the early 20th century.\\nBrad DeLong: Well, Polanyi was a socialist, but he was not a strong believer in central planning. And indeed, it\\u2019s actually bizarre that anyone would think that you could centrally plan an economy as a whole. It is true that right now, we have large organizations that kind of are centrally planned. The current valuation that the stock market places on the equity claim to the future profits flowing from Apple Computer is approaching $3 trillion right now, which is a bizarre and awesome sum. It is more than one-ninth of the annual GDP of the United States for this one company. And it is not a market organization; it is a centrally planned organization.\\u00a0\\nBut at virtually every stage within Apple Computer, you wind up having market interfaces, that people are always making make or buy decisions: Do we do this inside? Do we find a counterparty outside? And our centrally planned organizations are very much kept on their toes precisely because they always have to be making these make-or-buy decisions. It eliminates the huge amounts of bureaucratic inefficiency that arise whenever you do attempt to centrally plan every anything.\\u00a0\\nAnd yet people tried it. People tried for 60 years to run a centrally planned economy, and it was almost always a catastrophe. You almost always wound up having lost one-fifth or four-fifths of your wealth, of your potential wealth, simply as you attempted to make people follow orders rather than allow some kind of crowdsourcing.\\nGeoff Kabaservice: I think the Soviet Union\\u2019s principal output was actually jokes about the economic deficiencies of the Soviet Union.\\nBrad DeLong: Well, I thought it was unfinished construction projects.\\nGeoff Kabaservice: That too. I\\u2019m sure you\\u2019ve read P.J. O\\u2019Rourke on communists\\u2019 love of concrete, badly done concrete. Brink, you reviewed Brad\\u2019s book for your Substack, and you wrote in part, \\u201cBrad\\u2019s guided tour through the twists and turns of the Hayek-Polanyi dialectic is a joy to read, with brief but masterful distillations of the descent from the Belle \\u00c9poque \\u2018El Dorado\\u2019\\u201d into the First World War, the rise of fascism, and all that followed after World War II. But you say, \\u201cAfter these cataclysms and titanic ideological struggles, the path to Utopia once more emerged into view \\u2014 in Brad\\u2019s telling, by the virtue of \\u201cthe shotgun marriage of Hayek and Polanyi blessed by Keynes in the form of post-World War II North Atlantic developmental social democracy.\\u201d And these are the \\u201ctrente glorieuses,\\u201d the 30 years following 1945 in a lot of those northern economies, which are still remembered as a kind of economic golden age.\\u00a0\\nBut that, too, failed its own sustainability test, and the trente glorieuses ended not with a bang but with a whimper, with the decline in the growth rate in the 1970s, moderately high inflation, and big spikes in oil prices. And by the way, Brad, your co-podcast host, Noah Smith, just posted a Substack essay on how the 2020s are the new 1970s, which I thought was quite interesting.\\nBrad DeLong: Interesting.\\nGeoff Kabaservice: And what followed was \\u201cthe neoliberal turn,\\u201d in which policies moved toward Hayek at the expense of Polanyian rights, which tamed inflation, but the rich reaped the benefits. There again is a very Monty Pythonesque over-summary of the themes of your book, but I think that is an important theme in the book.\\nBrink Lindsey: In my review, I spent a lot of time lauding and praising the book, but my criticisms were on the account of the neoliberal turn. Brad presents it as a puzzle that the social-democratic economic order was toppled in the 1970s because of a run of inflation and a temporary productivity collapse. One could understand that neoliberalism had its opening at that time. But then when it failed to deliver the goods other than to the well off \\u2014\\u00a0it failed to restore high economic growth rates except to the top income percentiles \\u2014\\u00a0why did it persist? So that\\u2019s a kind of mystery that Brad presents.\\nIn my sense of how this history played out, I think forces much deeper than intellectual disagreement about economic policy, forces much deeper than the disagreement between Hayek and Polanyi, were in play. So the end of developmental social democracy was a more complex affair than just a change in the direction or the orientation or the mix of economic policy; it was a consequence of the changing culture and politics of mass-affluent societies.\\u00a0\\nAnd in particular, the revolt against developmental social democracy began on the left, not on the right. First, the developmental part got dropped in the \\u201860s, because the New Left thought that basically the economic problem had been solved for good, that the wealth-creation machine was on autopilot, that the Keynesian 15-hours-a-day true mass abundance was nearly at hand.\\u00a0\\nBrad DeLong: And we see the consequences of that dropping in the Berkeley that surrounds me.\\nBrink Lindsey: And by the time that exuberant optimism of the \\u201860s was put to rest in the \\u201870s, environmentalism and its sort of knee-jerk anti-developmentalism had taken hold and had a dominant position on the left. And so the whole idea of increasing human mastery over nature for the betterment of the common man \\u2014 that just was no longer part of the program.\\u00a0\\nMeanwhile, the developmental state part was gone too. Social democracy had a paradigm of government where you had energetic, muscular government empowered to act decisively in the public interest. But the New Left-influenced public interest liberalism of the \\u201860s was born out of deep suspicion of government power. And so the New Left had all kinds of reasons to have its own brand of libertarianism: it had state power threaten the world with nuclear war, it was causing mayhem and carnage in Vietnam, state power was odious and oppressive in the Deep South in enforcing Jim Crow, state power was complicit in the newly appreciated environmental degradation. So there was a whole lot of suspicion of government power.\\u00a0\\nBrad DeLong: State power was evil, and Robert Moses was driving highways all the way through New York so people could live in New Rochelle and work in Manhattan.\\nBrink Lindsey: Yeah. So this new anti-government spirit on the left took hold in the \\u201860s, and so the reform project was no longer to give government new powers to act in the public interest, but to ensure that government at every step was subject to criticism and oversight from progressive quarters. So the developmental part was gone, and so by the time people wanted to resurrect the social democratic cause, it was all just about hanging onto existing jobs and hanging onto existing entitlements. A sort of optimistic vision of a social democratic future died in the \\u201860s, I think, and certainly in the \\u201870s before neoliberalism grew in influence.\\nMeanwhile, the switch to a post-materialist politics, the switch from the thinking that have-nots and haves is no longer the main axis in politics; rather, it\\u2019s \\u201cbelongs\\u201d and \\u201cbelong-nots,\\u201d it\\u2019s groups that have been excluded from full participation in the socioeconomic mainstream \\u2014\\u00a0that became the axis of political conflict in rich countries, which had the collateral damage of rupturing the working-class coalition and making class-based politics much harder to reassemble when the need for it became apparent in the \\u201870s and \\u201880s.\\u00a0\\nBefore Hayek and Friedman won their Nobels and Reagan and Thatcher won their electoral victories, Brad\\u2019s developmental social democratic road to Utopia had already been abandoned.\\nGeoff Kabaservice: How would you respond, Brad?\\nBrad DeLong: Perhaps, quite plausibly. That is the fact that I still cannot really believe or understand why the system that had produced the trente glorieuses, why it collapsed so quickly and why virtually no one was willing to defend it \\u2014\\u00a0that it was not Ronald Reagan it was Bill Clinton who said that \\u201cThe era of big government is over.\\u201d And the fact that I, in some ways, am still too much a believer, an unreconstructed social democrat, I think makes it hard for me to get a coherent and sophisticated grasp of why we actually had this particular turn \\u2014\\u00a0why social democratic coalitions, developmental social democratic coalitions, class-based, egalitarian social democratic coalitions were no longer easy to assemble or even possible to assemble after the 1970s.\\nI\\u2019m reading and thinking about Gary Gerstle\\u2019s book on The Rise and Fall of the Neoliberal Order, which is, I think, as all histories oriented toward the present are, much, much better on the past than the present. His account of the rise of the neoliberal order is much stronger than his account of its perhaps fall. But Brink\\u2019s point that the distaste for the way things worked on the left was not as great but was sufficient to cripple attempts to rebuild, or to resist the cries coming from the right about how there\\u2019s inflation, there\\u2019s bureaucracy and so forth: \\u201cWe actually need a change. We need a change, because we need to have a more unequal income distribution to incentivize job creators. And we need a change because government needs to get out of the way. Individuals pursuing their own self-interest will advance the public interest much more than any set of increasingly strangling governmental regulations.\\u201d\\nPaul Krugman still doesn\\u2019t really believe it happened. He thinks that things would have held on as normal if only there had not been the inflation of the 1970s, if only that had not undermined confidence that government was competent. But it\\u2019s much bigger, it\\u2019s much broader than that. The collapse of confidence in government in the industrial West is of extraordinary magnitude \\u2014\\u00a0and yet, as I see it, largely unbased in reality.\\nThe ideas I\\u2019m playing with are that really we need to go back and think more about changing modes of production \\u2014that is, how people get their ideas about how the world ought to work from the process of their daily life. And the shift from the mass production economy of the 1930s and 1940s to the global value chain economy of the 1980s and 1990s \\u2014\\u00a0that undermined not just institutions like labor unions focused on lunch pails that had played a huge role in stabilizing social democracy, but also led people to have very different ideas about how society should work, ones in which social democracy, the New Deal order that had ruled from the 1930s into the 1970s, was simply no longer something that made sense to enough people for them to be willing to support it.\\nBut I do say I do not think I have a good handle\\u2026 I think I have a good handle on an awful lot of history. I do not think I have a good handle on what happened in the 1970s and 1980s with the kind of shift to the idea that the state needed to be radically cut back and that the price of accepting \\u201cThe market giveth, the market taketh away, blessed be the name of the market\\u201d \\u2014 that that price was worth paying to a much greater extent than anyone had thought it was before 1980.\\nBrink Lindsey: So my second grounds for breaking with Brad\\u2019s analysis was that he presents the neoliberal turn as basically a wrong turn, and I don\\u2019t see it that way. So here in 2023, looking back on the neoliberal era of 1978 to 2008, we can see the shortcomings and failures of that era. We can certainly see \\u2014\\u00a0I can certainly see, as an ex-professional libertarian \\u2014 the blind spots and errors of libertarian free-market ideology. Nonetheless, the partial truths that Hayek grasped were, I think, underrated in the 1960s and 1970s.\\u00a0\\nTyler Cowen, in all his interviews, asks people a string of things: \\u201cIs this underrated or overrated?\\u201d I think the importance of private entrepreneurship and market competition to long-term economic performance was underrated, and so there had been an enormous expansion of government control over and influence over the economy in the democracies, while a third of mankind was now living under regimes that said that there was no role for markets whatsoever in the organization of social cooperation. It was not a bad time for a rethink and for a reappraisal.\\u00a0\\nAnd some things were gotten right. There were some bad regulations that were gotten rid of, price-and-entry regulations that impeded competition to no good end. Those were dispensed with in the United States. A nationalization of industry that made no economic sense was unwound in Western Europe, and that was a good thing.\\nIn the United States, I would chalk up Silicon Valley \\u2014 you\\u2019ve got to give that as a triumph of the neoliberal era. It only happened in the low-tax, light-touch-regulated United States. It didn\\u2019t happen anywhere else, the information technology revolution, the signal economic achievement of our time. The peaceful collapse of communism was certainly driven by internal events, but occurred in a larger neoliberal climate of ideas that helped it along and helped an utter miracle that I never expected as a kid, that this would all just go away with hardly any bloodshed at all.\\nThe rise of East Asia and the dramatic drop in global poverty rates was facilitated by neoliberal-inspired and -fortified free trade agreements that opened western markets and kept western markets open to rapidly rising and expanding Asian economies. So for the North Atlantic world, France called 1945 to 1975 the trente glorieuses, but for homo sapiens, I would say it was 1985 to 2015. The neoliberal era was the best era for the material betterment of our species that I think we\\u2019ve ever experienced.\\u00a0\\nSo it wasn\\u2019t all bad. But the wheel has turned, and the answers that neoliberalism had to problems aren\\u2019t lining up with the problems we\\u2019re facing. So we\\u2019re struggling now to get back on that road.\\nBrad DeLong: I would say that if you focus on what was the Global South in 1975, and if you say that everything that happened in the Global South from 1975 on up to 2020 is neoliberalism, then indeed neoliberalism is perhaps the best thing that ever happened to humanity. Even Africa appears to be getting its economic developmental act in gear after 2000, which is a wonderful thing to see. Cutting back on the state, betting on globalization, eliminating the license raj in India, eliminating the Maoist- and the Soviet-influenced central planning regime in China\\u2026 As my friend Yingi Xian says, when the histories are written in 2100 or 2200, they may well say that there was stuff going on in this restricted North Atlantic area before 1980, but that it was in 1980 that humanity picked itself off the mat and walked and that people managed to pull themselves out of dire poverty worldwide, largely because of a Hayek- and Friedman-inspired current of ideas, that the world needed to command-and-control and dominate less and crowdsource more.\\nYou have to have a footnote for East Asia, simply because in East Asia the idea that the government should step away from its developmental state role was a complete non-starter. East Asian governments leaned into the developmental state role massively and extraordinarily successfully. And you can argue about whether everything that happened in the Global South from 1980 to 2020 is properly called neoliberalism. It wouldn\\u2019t stand as a concept that originated in neoliberalism.\\nBrink Lindsey: I didn\\u2019t call their policies neoliberal. I said that the success of their policies hinged upon Western neoliberal free trade policies. You can\\u2019t have export-led growth from nothing.\\u00a0\\nBrad DeLong: Was it free trade policies that opened the United States to Asian markets, or was it the neocolonial origins of comparative development in the sense that the United States wanted countries near to non-Maoist China to be an enormous success?\\nBrink Lindsey: America\\u2019s historic conversion from protectionist to trade-liberalizing power occurred in a geopolitical context. It wasn\\u2019t driven by renewed appreciation of David Ricardo. But free-marketry on the right, where Republicans had historically been the protectionist party, was helpful, especially during all the stresses of deindustrialization in the \\u201880s, in keeping commitment to open markets intact.\\nBrad DeLong: Yes, yes, yes. The neoliberal thought currents were tremendously important in keeping America as an importer of last resort for the economies of East Asia and allowing them to become as fantastically rich as they are now. So I would say that both geopolitical and neoliberal currents of thought were very important in enabling East Asian growth. But the fact that the neoliberal currents did not penetrate East Asia to a sufficient degree to lead them to unwind their developmental states was important as well. But that\\u2019s a whole other podcast: The East Asian Miracle.\\nGeoff Kabaservice: Brad, you don\\u2019t in your book actually say what you think we ought to do going forward. But you did write a piece for Project Syndicate, I think in February of 2023, where you wrote: \\u201cNeoliberalism\\u2019s big problem was that it starved society of long-term investment, both in productivity-enhancing technology and in the vast majority of people. Social democracy\\u2019s problem was that most people did not want to be passive recipients of government benefits; rather, they wanted the social power to earn and hence to deserve their slice of the growing pie.\\u201d Do you think there\\u2019s any way to square this circle?\\u00a0\\nBrad DeLong: With smoke and mirrors? The idea of pre-distribution, that people in West Virginia and Tennessee vote 70% for Donald Trump because they do not want to be Medicaid recipients, they want a strong economy in which they can earn what they deserve and so be able to stand on their feet and buy health insurance, and that Donald Trump, by waging trade war on the Chinese and the Mexicans is going to create those jobs for them \\u2014\\u00a0that\\u2019s a powerful reason behind the catastrophic episodes of American misgovernance we saw between 2017 and 2020, and that may well return come 2025.\\nI would say if I were rewriting the book now, I would talk about how now the problem is that among the most important Polanyian rights people have to have is the right to be respected. If you\\u2019re respected in some way, rather than if you\\u2019re regarded by society (whether it\\u2019s the market or the government) as surplus garbage, then you will indeed have a much stronger, much more coherent, much happier, much more Utopian society.\\nBut we also do indeed need to make the long-term investments. And the problem is that a lot of long-term investments, their true benefit comes from the externalities they create: from the communities of engineering practice, from the social learning, from the technological blue-sky things. And in a kind of hard neoliberal world in which the only things you want to do are the things that are validated by the market, a huge amount of those investments simply will not be made.\\nIntel Corporation produced enormous profits for its shareholders between 2000 and 2020, but it\\u2019s producing enormous profits by squeezing every possible marginal dollar out of its existing semiconductor nodes and repurposing its equipment left it in a position in which 2020 comes along, and Intel has no plausible path forward to being a leading edge semiconductor manufacturer. Again, because the things they would\\u2019ve had to do in order to enable themselves to compete on level ground with the Taiwan Semiconductor Manufacturing Corporation, those things would not have produced profits for the bottom line, and they were indeed seen as potential wastes of money.\\nNow Intel is trying to figure out what the hell it is doing, and one of the problems is that a great many of the investments that its current CEO wants to make are things that, while they are overwhelmingly good for the technological community of semiconductor producers and engineers in America, it\\u2019s not at all clear they are going to produce any profits for Intel shareholders at all. And that\\u2019s a place where the more Hayekian train of thought poses enormous dangers.\\nNot, however, that our current political system has answers, because an awful lot of rent-seeking can sail under the banner of \\u201cThese are productive in long-term investments for the future.\\u201d Consider the ethanol program.\\nGeoff Kabaservice: True. Brad, there is a line toward the end of your book, which does seem to point the way forward. You write: \\u201cGovernments must manage and manage competently, at times with a heavy touch.\\u201d And Brink, of course, wrote the great Niskanen manifesto on state capacity and ways to improve government\\u2019s ability to execute what it does. And there have been a lot of other works coming out on this theme, such as Jennifer Pahlka\\u2019s book on Recoding America. And there\\u2019s even some evidence that in your home state of California, people are paying much more attention to the ways in which the California Environmental Quality Act and other things of that sort are really impeding the abundance that liberals say they want. Do you see a path forward along these state capacity lines?\\nBrad DeLong: I definitely hope so. Implementation is really hard. And quite frankly, I was appalled by the inability of the United States government to get its ass sufficiently in gear during the plague to do what we really ought to be doing. And that makes me fear that the state\\u2019s and, to some degree, the private capacity for us to pursue our self-interest rightly understood and to all pull together as a country really is not there to some degree.\\nBrink Lindsey: It was certainly the pandemic experience that was the major motivation for writing that paper and launching the State Capacity Project.\\nBrad DeLong: Yeah. I remember when Silicon Valley Bank was on the point of failure, my response the week before was, \\u201cOh, gee. They\\u2019ve made an awful lot of bad bets on U.S. Treasuries, which have produced this huge minus on their balance sheet. And yes, it is counterbalanced by the expected future capital gain from these bonds that they are holding to maturity, but will they be able to hold them to maturity?\\u201d And I thought, \\u201cWell, of course they will. They\\u2019ve spent 40 years doing a high-touch service business to Silicon Valley in banking, and they do need to be recapitalized.\\u201d But there are huge numbers of rich people in Silicon Valley, who have done an awful lot of business with Silicon Valley Bank over the past 40 years.\\nAnd so I expected Kleiner Perkins, I expected Andreessen Horowitz, I expected the billionaire barons, I expected Benioff, and I expected a couple of others to stand forward and say, \\u201cSilicon Valley Bank needs to be recapitalized. It\\u2019s a valuable part of our community, and we are willing to pony up a share for the recapitalization of Silicon Valley Bank, even though this may not be the best business deal for us personally. This is a valuable part of our community.\\u201d And it did not happen.\\nBrink Lindsey: Instead they yelled, \\u201cFire! Run for your lives!\\u201d\\nBrad DeLong: Instead, people yelled, \\u201cRun and pull your money out now!\\u201d And it turned out that precisely no one in Silicon Valley believed that Silicon Valley Bank\\u2019s high-touch social network of bankers who understood the industry and the sector was worth running any risks or worth committing any of their capital to making sure it survived \\u2014\\u00a0and this in an environment in which the big venture capital funds are looking for something to invest in other than crypto. But the idea that they might do what Jamie Dimon did for First Republic \\u2014\\u00a0to say, \\u201cWell, here\\u2019s $30 billion of deposits that you can hold to give you an extra cushion\\u201d \\u2014\\u00a0that they might do that was simply not on their radar screen.\\nAnd that was a shock to me. That was America working in a very different way than I thought it worked, and suggesting that functional societies are ones in which people think that they are on a team and that others have their back. Functional societies are one in which organizations and groups have what Ibn Khaldun called asabiyyah. And when you do not have asabiyyah\\u2026 Well, the bureaucracy can keep things running and the market can keep things running for quite a while, but when a crisis comes and unexpected unusual action is required, you suddenly find that it\\u2019s simply not there at all.\\nBrink Lindsey: A high-tech economy and a low-trust society are a combustible mix.\\nBrad DeLong: Yes, exactly.\\nGeoff Kabaservice: As sort of a last question, Brad\\u2026 You began your work on Slouching Towards Utopia by taking on Eric Hobsbawm\\u2019s vision of communism as the tragic hero of \\u201cthe short 20th century,\\u201d and in its place you put capitalism as the hero of \\u201cthe long 20th century.\\u201d But is capitalism a tragic hero, in your view?\\nBrad DeLong: No, it\\u2019s not a tragic hero. It\\u2019s the brooms in \\u201cThe Sorcerer\\u2019s Apprentice,\\u201d right? That\\u2019s what capitalism is. And you actually need to have the Sorcerer rather than Mickey Mouse in control in order for it to work effectively. I look outside and look around me, and what do I really need? Well, what I really need is a small personal jet copter with a landing pad next to the hot tub in the backyard, so if I want to get to L.A. in an hour to stay with my cousin in Malibu at the spur of the moment, I can do that. And what I actually want in material things is I would like to have an Apple Vision Pro headset now, and not next year or two years or five years from now.\\nCompared to a world in which primarily all of humanity has a difficult time finding its 2,000 calories a day plus essential nutrients, and spends genuinely hours a day thinking about how hungry we are and how nice it would be to have some more food today or tonight, I really am in Keynes\\u2019 world of Utopia where my problem is to live wisely and well, rather than to get more things to make my life easier or more interesting. And an awful lot of that is due to the fact that the market turns out to be an extraordinarily good mechanism at crowdsourcing humanity as an anthology intelligence to solve the problem of production. And that\\u2019s an enormous, enormous blessing.\\nAnd it\\u2019s not something that we can have without capitalism, though we do try to do things otherwise. We always have mixed institutions in some way. We always pull things together through a strange combination of barter and plan (being we have primary purposes and people have allegiance to it), and blat, influence, corruption, favor swaps, and so forth.\\nBut the market, as a way of giving people information, very simple information in the form of a price as to what kinds of things are worth producing right now \\u2014 it\\u2019s so great and so wonderful that that has such an enormous consonance, that that is a way of producing a society in which the free development of all is produced by the free development of each if you just tune market prices to what is socially valued and then let the thing rip. There\\u2019s nothing really tragic about that.\\nBut there is the Sorcerer\\u2019s Apprentice aspect. Do we really want it to do everything it does? Did we really want it to dismantle the great industrial research labs of the oligarchic manufacturing and distribution companies of America as they stood in 1980? So not tragic hero, but rather brooms in \\u201cThe Sorcerer\\u2019s Apprentice\\u201d is the way to, I think, view it.\\nGeoff Kabaservice: All right. Well, I can actually almost hear that music from Fantasia in my mind right now as we\\u2019re talking. Brad DeLong, congratulations again\\u2026\\nBrad DeLong: Thank you very much.\\nGeoff Kabaservice: Congratulations again on the publication of Slouching Towards Utopia, and thank you so much for joining us here today.\\nBrad DeLong: Okay, you are very welcome.\\nGeoff Kabaservice: And thank you all for listening to the Vital Center podcast. Please subscribe and rate us on your preferred podcasting platform. And if you have any questions, comments, or other responses, please include them along with your rating or send us an email at contact@niskanencenter.org. Thanks as always to our technical director, Kristie Eshelman, our sound engineer, Ray Ingenieri, and the Niskanen Center in Washington, D.C.\\nPhoto Credit: iStockThe post Slouching towards Utopia, with Brad DeLong first appeared on Niskanen Center.The post Slouching towards Utopia, with Brad DeLong appeared first on Niskanen Center.\",\n          \"\\nBetween 1998 and 2021 prices for \\u201cMedical Care Services\\u201d in the US (as measured by the BLS\\u2019s\\u00a0CPI for Medical Care Services) more than doubled (+132.2% increase) while the CPI for \\u201cHospital and Related Services\\u201d (data here) more than tripled (+230.4% increase), see the bottom two rows of the table above. Those increases in the costs of medical-related services compared to only a 66.2% increase in overall consumer prices over that period (BLS\\u00a0data here). On an annual basis, the costs of medical care services in the US have increased 3.6% per year since 1998 and the cost of hospital services increased annually by 5.1%. In contrast, overall inflation averaged only 2.1% annually over that period. The only consumer product or service that has increased more than medical care services and just slightly less than hospital costs over the last several decades is\\u00a0college tuition and fees, which have increased nearly 5.0% annually since 1998 for four-year public universities. \\n\\nOne of the reasons that the costs of medical care services in the US have increased more than twice as much as general consumer prices since 1998 is that a large and increasing share of medical costs are paid by third parties (private health insurance, Medicare, Medicaid, Department of Veterans Affairs, etc.) and only a small and shrinking percentage of health care costs are paid out-of-pocket by consumers. According to\\u00a0government data, almost half (47.1%) of health care expenditures in 1960 were paid by consumers out-of-pocket, and by 2020 (most recent year available) that share of expenditures has fallen to only 9.4% (see chart above). It\\u2019s no big surprise that overall health care costs have continued to rise over time as the share of third-party payments has risen to more than 90% and the out-of-pocket share has fallen below 10%. Consumers of health care have significantly reduced incentives to monitor prices and be cost-conscious buyers of medical and hospital services when they pay less than $1 themselves out of every $10 spent, and the incentives of medical care providers to hold costs down are greatly reduced knowing that their customers aren\\u2019t paying out-of-pocket and aren\\u2019t price sensitive.\\nHow would the market for medical services operate differently if prices were transparent and consumers were paying out-of-pocket for medical procedures in a competitive market? Well, we can look to the $14.6 billion US market for elective cosmetic surgery for some answers. Every year since 1997, the\\u00a0American Society for Aesthetic Plastic Surgery\\u00a0has issued an annual report on aesthetic procedures in the US (both surgical and nonsurgical) that includes the number of procedures, the average cost per procedure (starting in 1998), the total spending per procedure, and the age and gender distribution for each procedure. The 2021 report was released in April and is available\\u00a0here.\\nThe table above (click to enlarge) displays the 16 cosmetic procedures that were available and reported in both 1998 and 2021, the average prices for those procedures in each year (in current dollars), the number of each of those procedures performed in those two years, and the percent increase in the average price for each procedure between 1998 and 2021. The procedures are ranked by the number of cosmetic procedures last year. Here are some interesting findings from this year\\u2019s report and the table above:\\nOnly four of the 16 most popular cosmetic procedures (tummy tuck, eyelid surgery, facelift, and male breast reduction ) increased more than the overall 66% increase in the CPI between 1998 and 2021, while the other 12 procedures increased less than overall consumer prices. That means that four of the procedures increased in real inflation-adjusted dollars and the other 12 decreased in real, inflation-adjusted constant dollars.For four of the most popular nonsurgical procedures in 2021 \\u2013 botox injections, laser hair removal, laser skin resurfacing, and chemical peel \\u2014 the nominal prices in current dollars have actually fallen over the last 22 years, by 3.5% for botox injections (from $424 to $409), by 24.7% for chemical peel (from $821 to $618), by 63% for laser hair removal (from $452 to $167) and by 47% for laser skin resurfacing (from $2,276 to $1,199). When a price in nominal, current dollars is lower in 2021 than in 1998, that means that the real prices of those procedures have decreased significantly. For example, the cost of laser hair removal in 1998 ($452) expressed in 2021 dollars ($753) means that the price last year of only $166 was 78% lower adjusted for inflation. Likewise, the real price of botox injections fell by 42.1% in inflation-adjusted dollars, laser skin resurfacing fell by 68.4%, and the price of chemical peel fell by 54.8%. The unweighted\\u00a0average price increase between 1998 and 2021 for the 16 aesthetic procedures displayed above was 31.3%, which is less than half of the 66.2% increase in consumer prices in general over the last 23 years. When the average procedure prices are weighted by the spending on each procedure last year, the average price increase since 1998 was 38.2%. And most importantly,\\u00a0none of the 16 aesthetic procedures in the table above have increased in price by anywhere close to the 132% increase in the price of medical care services or the 230% increase in hospital services since 1998.\\u00a0The largest aesthetic procedure price increases since 1998 is the 86.5% increase for facelifts, which is still way below the more than doubling of prices for medical services overall and the more than three-fold increase in the CPI for hospital services.The Aesthetic Society doesn\\u2019t provide a detailed breakdown of aesthetic procedures by gender, but it did provide the number of procedures for the top six most popular procedures for women (liposuction, breast augmentation, tummy tuck, breast lifts, breast implant removals, and eyelid surgery) that totaled just under 1.5 million and the top six procedures for men (liposuction, breast reduction, eyelid surgery, nose surgery, tummy tuck, and face lift) totaling 94,844. Based on those figures, women accounted for about 94% of aesthetic procedures and men only 6%, which is consistent with the gender breakdown in past years based on more comprehensive data (and also consistent with the gender shares highlighted in the report). \\nMP:\\u00a0The competitive market for aesthetic plastic surgery operates differently than the traditional market for health care in important and significant ways. Cosmetic procedures, unlike most medical services, are not usually covered by insurance. Patients typically paying 100% out-of-pocket for elective aesthetic procedures are cost-conscious and have strong incentives to shop around and compare prices at the dozens of competing providers in any large city. Providers operate in a very competitive market with transparent pricing and therefore have incentives to provide cosmetic procedures at competitive prices. Those providers are also less burdened and encumbered by the bureaucratic paperwork that is typically involved with the provision of most standard medical care with third-party payments. Because of the price transparency and market competition that characterizes the market for cosmetic procedures, the prices of most cosmetic procedures have fallen in real terms since 1998, and some non-surgical procedures have even fallen in nominal dollars before adjusting for inflation. In all cases, cosmetic procedures have increased in price by far less than the 132% increase in the price of medical care services between 1998 and 2021 and the 230% increase in prices for hospital services. In summary, the market for cosmetic surgery operates very much like other competitive markets with the same expected results: falling prices over time for most aesthetic plastic surgery procedures.\\nQuestion: If aesthetic plastic surgery procedures were covered by third-party payers like insurance companies, Medicare, and Medicaid, what would have happened to their prices over time? Basic economics tells us that those real prices would have risen over time, possibly somewhere close to the same 132% increase in the prices of medical services in general between 1998 and 2021. The main economic lesson here is that the greater the degree of market competition, price transparency, and out-of-pocket payments, the more constrained prices are, in health care or any other sector of the economy. Another important economic lesson is that the greater the degrees of government intervention, opaque prices, and third-party payments, the less constrained prices are, in health care or any other sector of the economy. Some important economic lessons to keep in mind as we consider various reforms for national health care, including proposals by Bolshevik Bernie Sanders for single-payer \\u201cMedicare for All\\u201d because \\u201chealth care is a human right, not a privilege.\\u201d\\nThe post What economic lessons about health care costs can we learn from the competitive market for aesthetic plastic surgery? appeared first on American Enterprise Institute - AEI.\",\n          \"It was a day of firsts.\\nHarvard President Claudine Gay welcomed the Class of 2027 and exhorted them to lean into the journey that brought them to the present moment and gear up for the transformations that await them in the next four years.\\n\\u201cLet your joy and your pride win out,\\u201d said Gay, Ph.D. \\u201998, who spoke at Tercentenary Theatre on Monday afternoon in the annual Convocation ceremony, officially marking the entry of first-year students into the Harvard community. \\u201cEach of you deserves it. Each of you has earned it. Each of you belongs here.\\n\\u201cEach of you will make Harvard stronger and better by being who you are, by sharing your perspective, and by contributing to our mission,\\u201d she said. \\u201cI know this because I have seen it myself. Year after year, as a faculty member, I witnessed extraordinary transformations in students, profound shifts in understanding and awareness across every dimension of being.\\u201d\\nYesterday was also an extra special Convocation for Gay, marking her first as president of Harvard. Gay succeeded Larry Bacow, who stepped down in June, after serving as Edgerley Family Dean of the Faculty of Arts and Sciences from 2018. Gay, who was also Wilbur A. Cowett Professor of Government and a professor of African and African-American studies, urged the students to be prepared to overcome feelings of self-doubt that may arise at times during their undergraduate years.\\nShe noted such insecurities are difficult to avoid, recounting an incident that took place when she was a child. At the age of 11 she began to feel painfully \\u201cinsufficient\\u201d because she lacked a middle name. She feared being thus incomplete might somehow preclude her from \\u201cthe possibility of reinvention.\\u201d When Gay turned to her parents for advice, they simply responded: \\u201cYour name is enough.\\u201d\\n\\u201cI turned those four words over in my mind, and they have stayed with me all these years, a powerful statement about my inheritance, my identity, and my capacity,\\u201d said Gay. \\u201cSometimes, even now, even as president, when I am pushing a pen across paper and signing my name, those four words surface in my mind.\\u201d\\n\\u201cAt some point between now and Commencement \\u2014 probably at several points between now and your Commencement \\u2014 you will feel insufficient. Despite knowing better, you will feel as if everyone around you knows exactly what is going on, as if everyone around you understands something you do not, sees something that you do not. When that happens, I hope you remember this story \\u2014 and my parents\\u2019 wisdom.\\u201d\\nIn closing Gay asked students to be willing to be transformed by Harvard by exploring who they are and who they want to become. \\u201cYou have been given a name, and that is all that you need, but from this day forward you will make a name for yourself,\\u201d she said.\\n\\u201cWho can you be? Who will you be?\\u2019 said Gay. \\u201cThese are the questions that you will consider alongside your classmates; in conversation with faculty, proctors, tutors, and deans; and in connection to your own learning and scholarship.\\n\\n\\n\\n\\n\\n \\n\\n\\n\\n \\n\\n\\n\\nRakesh Khurana, Danoff Dean of Harvard College, encourages students to make the best of their Harvard education by being \\u201copen to transformation\\u201d and \\u201ccommit to something beyond yourself.\\u201d John Cooke \\u201925 (left) and Shikoh Hirabayashi \\u201925 welcome the Class of 2027.\\n\\n\\n\\n\\n\\n\\n\\u201cTake notice of work and ideas that energize and fulfill you. Take notice of your joy and your satisfaction. Take nothing for granted. Be willing to reconsider assumptions for the sake of your present happiness, but also for future contentment.\\u201d\\nAlong with Gay, other University officials took part in the ceremony to salute the newest members of the Harvard community, including Thomas Dunne, dean of students at Harvard College; Amanda Claybaugh, Ph.D. \\u201901, dean of undergraduate education, Samuel Zemurray Jr. and Doris Zemurray Stone Radcliffe Professor of English. Representing students were Harvard Undergraduate Association co-presidents John Cooke \\u201925 and Shikoh Hirabayashi \\u201925.\\nRakesh Khurana, A.M. \\u201997, Ph.D.\\u201998, Martin Bower Professor of Leadership at the Harvard Business School, professor of sociology in the Faculty of Arts and Sciences, and Danoff Dean of Harvard College, encouraged students to make the best of their Harvard education by being \\u201copen to transformation\\u201d and \\u201ccommit[ting] to something beyond yourself.\\u201d\\n\\u201cCollege is not a stop on the way to the rest of your life,\\u201d he said. \\u201cThis is your life. And these four years of College are where the patterns for your lives will be set. If you spend these years taking no chances, reinforcing your beliefs, deferring any reflection on who you are and what you want, you will be doing the same thing in 20 years.\\n\\u201cIn embracing your own transformation, you will be embracing the best that a liberal arts education has to offer,\\u201d said Khurana. \\u201cTo embrace your own transformation may sound like a selfish pursuit when there is so much work to be done in our world. But it is the only way forward. We can only begin to change the world if we are open to changing ourselves.\\u201d\"\n        ],\n        \"semantic_type\": \"\",\n        \"description\": \"\"\n      }\n    },\n    {\n      \"column\": \"url\",\n      \"properties\": {\n        \"dtype\": \"string\",\n        \"num_unique_values\": 3275,\n        \"samples\": [\n          \"https://www.economist.com/culture/2022/04/16/radhika-khimji-and-the-art-of-freedom\",\n          \"https://sciencebasedmedicine.org/15-years-of-sbm/\",\n          \"https://reason.com/?p=8208392\"\n        ],\n        \"semantic_type\": \"\",\n        \"description\": \"\"\n      }\n    },\n    {\n      \"column\": \"categories\",\n      \"properties\": {\n        \"dtype\": \"category\",\n        \"num_unique_values\": 1,\n        \"samples\": [\n          \"['news']\"\n        ],\n        \"semantic_type\": \"\",\n        \"description\": \"\"\n      }\n    }\n  ]\n}"
            }
          },
          "metadata": {},
          "execution_count": 20
        }
      ],
      "source": [
        "df.head()"
      ]
    },
    {
      "cell_type": "code",
      "execution_count": null,
      "metadata": {
        "colab": {
          "base_uri": "https://localhost:8080/"
        },
        "id": "l-Rjki2Yvq01",
        "outputId": "57f118ce-cea6-40f7-a8b6-3928ffe0431e"
      },
      "outputs": [
        {
          "output_type": "execute_result",
          "data": {
            "text/plain": [
              "(3327, 8)"
            ]
          },
          "metadata": {},
          "execution_count": 21
        }
      ],
      "source": [
        "df.shape"
      ]
    },
    {
      "cell_type": "code",
      "execution_count": null,
      "metadata": {
        "id": "lA4AoU3f4dJH"
      },
      "outputs": [],
      "source": [
        "!mkdir data"
      ]
    },
    {
      "cell_type": "code",
      "execution_count": null,
      "metadata": {
        "id": "nsvUBcPJCV_m"
      },
      "outputs": [],
      "source": [
        "df[:100].to_csv('data/df_embed.csv',index=False)"
      ]
    },
    {
      "cell_type": "markdown",
      "source": [
        "1. Step 1: Read the data"
      ],
      "metadata": {
        "id": "5WYH_AC18qes"
      }
    },
    {
      "cell_type": "code",
      "execution_count": null,
      "metadata": {
        "colab": {
          "base_uri": "https://localhost:8080/",
          "height": 140
        },
        "id": "T6LiGVc4LREH",
        "outputId": "d7c4ae60-9bea-4a26-9a9a-f2058cc61b35"
      },
      "outputs": [
        {
          "output_type": "execute_result",
          "data": {
            "text/plain": [
              "'We are told before every party conference that the leader will be making perhaps their “most important speech yet”. In reality, unless they are going into the conference with the word “beleaguered” regularly appearing in front of their name, they’ll almost certainly be fine. For struggling leaders a bad speech might sink them, but if they are 20 points ahead in the polls, and coming off a huge by-election win, then they are unlikely to be derailed.It’s even less likely to be a problem if your opponents are noisily falling apart. I wasn’t at the Tory conference but all of the several dozen journalists, politicians and business people I spoke to who had, were unanimous that it was even more shambolic than it appeared on TV. Even hacks from right-wing papers were shaking their heads at the sheer incoherence of it all. It’s hard to be a client journalist when your political masters can’t figure out what they want you to say.You can see how the Tories got into such a mess. There is no record to run on and Sunak doesn’t want to take the blame for the failures of his predecessors. It is, though, always going to be extremely hard to run a “change” message as the governing party. Boris Johnson managed it in 2019 by promising to spend a lot of money and attaching his personal brand to Brexit. But Sunak doesn’t want to spend money and any hope associated with leaving the EU has faded. He has nothing else. A rag-bag of random policy announcements about A-levels and smoking certainly won’t cut it.Even worse than the confusion of the official platform was the circus around it. There was a general consensus, amongst attendees, that it felt more like the conference a party has after it’s lost an election rather than the one before, with all the focus on leadership jockeying and indulging in ideological fantasies.So the lobby arrived at the Labour conference – which I did go to – primed to write positively about the contrast. As long as Starmer and team could look vaguely professional and serious, then they were going to get good coverage. The narrative is in their favour and that makes politics a lot easier. Announcements that would get ripped to pieces if the lobby were moving in for a kill get left unscrutinised. Dull speeches are lauded as triumphs. You’ve got to enjoy it while it lasts. \\xa0\\xa0I don’t want to be churlish about this. Seeming professional and serious might not seem like a high bar but it’s one plenty of Labour conferences have failed to meet in the past. We shouldn’t begrudge weary Labour folk their raptures at a leadership that can tie their own shoelaces. Starmer’s team are competent, well organised, extremely thorough in their voter research and message design, and ruthless when it comes to keeping the hard left out. As a Jew I was highly conscious of how different the conference would have felt last week with the old guard in charge, and don’t underestimate what it took to achieve that transformation.But Labour still haven’t begun to resolve, or even acknowledge, the fundamental contradiction in their current position.Let’s be clear as to what the problem is. It’s not that Starmer “doesn’t have a vision” or “doesn’t stand for anything”. Labour’s “missions” might be a poor campaigning tool (as predicted) but if you bother to read them they’re entirely clear about the country they want to build. And that country is Denmark. Literally in the case of the “opportunity mission” which cites Danish social mobility as the (implausible) goal. Starmer and his team are soft left Labour and want a high-growth, social democratic country with better worker rights, more state direction, and less inequality. They want us to be Scandinavian. Which as visions go seems reasonable enough.Nor is the problem that “they don’t have any policies”. They have far too many fiddly policies. No one who doesn’t spend their time reading policy documents and going to conferences will have heard of them. Did you know Labour is planning a £2.4k retention bonus for teachers completing the early years framework? I doubt it. Their bigger pledges on housebuilding, planning, and electricity infrastructure are substantive and important, albeit lacking in detail. But that will always be true of opposition parties, who have limited resources. The civil service is much maligned but you do need them to do the work on these complex policies.No, the problem is very specific. They have no substantive policies that would involve having to spend any taxpayer money. Starmer’s holding position that he wishes to run “a reforming state, not a cheque-book state” is transparent nonsense, an example of what Duncan Robinson at the Economist calls “Reform Fairy” thinking:“Both main parties agree that although the British state requires a total overhaul, it does not need much more cash. In its bid to move away from the Magic Money Tree, British politics has fallen under the spell of another mythical being: the Reform Fairy. The Magic Money Tree could generate cash at will; the Reform Fairy can apparently improve public services without spending political or financial capital.”I am always surprised at politicians’ capacity to believe things that happen to be convenient for them at any given time, but I just don’t buy they really believe in the Reform Fairy. For a start when it comes to health, welfare and education – the three departments that account for 60% of all spending – they have no proposals for significant reform. I watched a succession of junior shadow ministers struggle through fringe events on each of these issues, acknowledging the terrible state of things right now, promising a decade of transformation, but unable to fill in any of the steps that might get us there. \\xa0 \\xa0The reasons for this are obvious. They are absolutely determined to stop the Tories running a “same old Labour” campaign, or at least not one that seems credible. From an electoral point of view it will work because neither the Tories nor the right-wing press are going to attack them for not pledging to spend enough money. Plus the power of the narrative will protect them from scrutiny. On top of that, it’s now so clear they’re going to win that every media outlet, business, trade union and sector lobbying group wants to be on good terms.It is, though, going to make those first few years in government much harder because they can’t do any serious thinking about reform that goes beyond the very conceptual stage, without getting into costings.That doesn’t mean I left the conference without hope. The first big positive was that Rachel Reeves’ team are doing an extremely canny job at shouting loudly about fiscal discipline while ensuring they keep their room for manoeuvre open post-election. There were hints that investment spending could be excluded from Labour’s headline rule on debt reduction (as it was in Boris Johnson’s first two years as Prime Minister). Reeves may have an “iron-clad commitment” to sticking to fiscal rules but there is still definitional space about what exactly they would be. She also managed to get through conference without ruling out any other tax cuts. My biggest worry for Labour is that at some point over the next year their poll lead dips, the narrative shifts a bit (as journalists get bored) and they get panicked into reducing their fiscal space to zero.My second positive is that Labour adjacent wonks, who have plausible deniability, are starting to think through some ways through these problems. The centre-left think-tank IPPR published a report that was subtitled, in a direct response to Duncan Robinson’s challenge, “Between the Reform Fairy and the Magic Money Tree”. It acknowledges that spending will be needed, and the short-termist scorecard approach taken by the Treasury is a major impediment to a well-functioning state. Also that the standard “new public management” model of public service reform – with its focus entirely on targets and extrinsic incentives – has run out of road with no obvious alternative offering itself.I don’t agree with all their solutions. For instance, they propose creating a new category of “prevention investment expenditure” to ensure money designed for long-term preventative interventions on, say public health or reducing reoffending,\\xa0is better protected. I get the objective but the fuzziness of the line over what counts as prevention worries me. I do, though, like their idea of treating priority social policy objectives in the same way as fiscal ones, with independent measurement as to whether, for example, the government is reducing waiting lists or building more houses. Tying the Treasury into those metrics could help balance the obsession with the spending scorecard. It is also good to see Labour engaging with these ideas. So there are positive signs, but not yet quite the sense of urgency I’d like to see. While, of course, Labour are aware the country is in a bad way, I’m not sure they yet appreciate quite how much of a challenge it’s going to be. Just in the last few weeks we’ve heard that dozens of councils are approaching bankruptcy; that prisons are now full with those convicted of serious crimes unable to be incarcerated; and that hospitals are already declaring critical incidents before we get to winter. There is still a sense they are over-estimating how far being nicer and more competent that Tory ministers will get them. Its good to know, for instance, \\xa0that they won’t go ahead with the Rwanda deportations, as this will save time and money. But it’s not going to be nearly enough.The biggest panel event I spoke at was an online one organised by Citizens’ Advice on the cost of living crisis. Their stats, on foodbank use, homelessness and so on, are all dire. I was most struck, though, by the story of Sanna. A young woman living in a council flat who was already behind on her bills and then lost just under a third of her Universal Credit for a month, because she missed a job centre appointment and was sanctioned. This will push her further into debt. She is already struggling with anxiety and depression, which will now be exacerbated, making it harder to find work. I wouldn’t be surprised if she ended up joining the ballooning list of people classified as unable to work due to mental health problems. It was such a clear example of how our current approach to our biggest spending policy area is utterly broken – ruining lives and costing taxpayer money – with no party close to offering a solution.\\xa0We need that sense of urgency for Sanna’s sake.Comment is Freed is a reader supported publication. A monthly subscription is £3.50 and an annual one £35. It includes at least four subscriber only posts a month.This post is public so please share if you found it helpful.Share'"
            ],
            "application/vnd.google.colaboratory.intrinsic+json": {
              "type": "string"
            }
          },
          "metadata": {},
          "execution_count": 24
        }
      ],
      "source": [
        "df.full_text\t[1]"
      ]
    },
    {
      "cell_type": "code",
      "execution_count": null,
      "metadata": {
        "colab": {
          "base_uri": "https://localhost:8080/",
          "height": 501
        },
        "id": "QV58YlrRYKIS",
        "outputId": "a225449d-d3ef-4925-9074-345e64e4016b"
      },
      "outputs": [
        {
          "output_type": "execute_result",
          "data": {
            "text/plain": [
              "                        _id  \\\n",
              "0  63927168098523fa9d5ef047   \n",
              "1  652b21ec754471a9795c291a   \n",
              "2  6529cfaff59ed61396db838c   \n",
              "3  6529d030f59ed61396db8398   \n",
              "4  6529d072f59ed61396db839e   \n",
              "\n",
              "                                               title           author  \\\n",
              "0  Are The Democrats Screwed In The Senate After ...      Nate Silver   \n",
              "1                               Beyond the Narrative     Sam Freedman   \n",
              "2                         Ballot Measures: A Preview     Walter Olson   \n",
              "3           Trump’s Only Real Worldview Is Pettiness  David A. Graham   \n",
              "4  The COVID Bailout of State and Local Governmen...       Eric Boehm   \n",
              "\n",
              "                                         description  publish_date  \\\n",
              "0  \\nAre The Democrats Screwed In The Senate Afte...  1.670516e+12   \n",
              "1                                                NaN  1.697272e+12   \n",
              "2                                                NaN  1.697227e+12   \n",
              "3                                                NaN  1.697214e+12   \n",
              "4                                                NaN  1.697212e+12   \n",
              "\n",
              "                                           full_text  \\\n",
              "0  \\n\\n\\n\\n2028 Election\\nAre The Democrats Screw...   \n",
              "1  We are told before every party conference that...   \n",
              "2  Walter Olson  Voters will go to the polls soon...   \n",
              "3  Let no one say that Donald Trump has lost his ...   \n",
              "4         Two years after Congress authorized a h...   \n",
              "\n",
              "                                                 url categories  \n",
              "0  https://fivethirtyeight.com/features/democrats...   ['news']  \n",
              "1   https://samf.substack.com/p/beyond-the-narrative   ['news']  \n",
              "2  https://www.cato.org/blog/ballot-measures-preview   ['news']  \n",
              "3                 tag:theatlantic.com,2023:50-675637   ['news']  \n",
              "4  https://reason.com/2023/10/13/the-covid-bailou...   ['news']  "
            ],
            "text/html": [
              "\n",
              "  <div id=\"df-41bbd5e1-e0ce-4b2b-bc40-83b153bd26f9\" class=\"colab-df-container\">\n",
              "    <div>\n",
              "<style scoped>\n",
              "    .dataframe tbody tr th:only-of-type {\n",
              "        vertical-align: middle;\n",
              "    }\n",
              "\n",
              "    .dataframe tbody tr th {\n",
              "        vertical-align: top;\n",
              "    }\n",
              "\n",
              "    .dataframe thead th {\n",
              "        text-align: right;\n",
              "    }\n",
              "</style>\n",
              "<table border=\"1\" class=\"dataframe\">\n",
              "  <thead>\n",
              "    <tr style=\"text-align: right;\">\n",
              "      <th></th>\n",
              "      <th>_id</th>\n",
              "      <th>title</th>\n",
              "      <th>author</th>\n",
              "      <th>description</th>\n",
              "      <th>publish_date</th>\n",
              "      <th>full_text</th>\n",
              "      <th>url</th>\n",
              "      <th>categories</th>\n",
              "    </tr>\n",
              "  </thead>\n",
              "  <tbody>\n",
              "    <tr>\n",
              "      <th>0</th>\n",
              "      <td>63927168098523fa9d5ef047</td>\n",
              "      <td>Are The Democrats Screwed In The Senate After ...</td>\n",
              "      <td>Nate Silver</td>\n",
              "      <td>\\nAre The Democrats Screwed In The Senate Afte...</td>\n",
              "      <td>1.670516e+12</td>\n",
              "      <td>\\n\\n\\n\\n2028 Election\\nAre The Democrats Screw...</td>\n",
              "      <td>https://fivethirtyeight.com/features/democrats...</td>\n",
              "      <td>['news']</td>\n",
              "    </tr>\n",
              "    <tr>\n",
              "      <th>1</th>\n",
              "      <td>652b21ec754471a9795c291a</td>\n",
              "      <td>Beyond the Narrative</td>\n",
              "      <td>Sam Freedman</td>\n",
              "      <td>NaN</td>\n",
              "      <td>1.697272e+12</td>\n",
              "      <td>We are told before every party conference that...</td>\n",
              "      <td>https://samf.substack.com/p/beyond-the-narrative</td>\n",
              "      <td>['news']</td>\n",
              "    </tr>\n",
              "    <tr>\n",
              "      <th>2</th>\n",
              "      <td>6529cfaff59ed61396db838c</td>\n",
              "      <td>Ballot Measures: A Preview</td>\n",
              "      <td>Walter Olson</td>\n",
              "      <td>NaN</td>\n",
              "      <td>1.697227e+12</td>\n",
              "      <td>Walter Olson  Voters will go to the polls soon...</td>\n",
              "      <td>https://www.cato.org/blog/ballot-measures-preview</td>\n",
              "      <td>['news']</td>\n",
              "    </tr>\n",
              "    <tr>\n",
              "      <th>3</th>\n",
              "      <td>6529d030f59ed61396db8398</td>\n",
              "      <td>Trump’s Only Real Worldview Is Pettiness</td>\n",
              "      <td>David A. Graham</td>\n",
              "      <td>NaN</td>\n",
              "      <td>1.697214e+12</td>\n",
              "      <td>Let no one say that Donald Trump has lost his ...</td>\n",
              "      <td>tag:theatlantic.com,2023:50-675637</td>\n",
              "      <td>['news']</td>\n",
              "    </tr>\n",
              "    <tr>\n",
              "      <th>4</th>\n",
              "      <td>6529d072f59ed61396db839e</td>\n",
              "      <td>The COVID Bailout of State and Local Governmen...</td>\n",
              "      <td>Eric Boehm</td>\n",
              "      <td>NaN</td>\n",
              "      <td>1.697212e+12</td>\n",
              "      <td>Two years after Congress authorized a h...</td>\n",
              "      <td>https://reason.com/2023/10/13/the-covid-bailou...</td>\n",
              "      <td>['news']</td>\n",
              "    </tr>\n",
              "  </tbody>\n",
              "</table>\n",
              "</div>\n",
              "    <div class=\"colab-df-buttons\">\n",
              "\n",
              "  <div class=\"colab-df-container\">\n",
              "    <button class=\"colab-df-convert\" onclick=\"convertToInteractive('df-41bbd5e1-e0ce-4b2b-bc40-83b153bd26f9')\"\n",
              "            title=\"Convert this dataframe to an interactive table.\"\n",
              "            style=\"display:none;\">\n",
              "\n",
              "  <svg xmlns=\"http://www.w3.org/2000/svg\" height=\"24px\" viewBox=\"0 -960 960 960\">\n",
              "    <path d=\"M120-120v-720h720v720H120Zm60-500h600v-160H180v160Zm220 220h160v-160H400v160Zm0 220h160v-160H400v160ZM180-400h160v-160H180v160Zm440 0h160v-160H620v160ZM180-180h160v-160H180v160Zm440 0h160v-160H620v160Z\"/>\n",
              "  </svg>\n",
              "    </button>\n",
              "\n",
              "  <style>\n",
              "    .colab-df-container {\n",
              "      display:flex;\n",
              "      gap: 12px;\n",
              "    }\n",
              "\n",
              "    .colab-df-convert {\n",
              "      background-color: #E8F0FE;\n",
              "      border: none;\n",
              "      border-radius: 50%;\n",
              "      cursor: pointer;\n",
              "      display: none;\n",
              "      fill: #1967D2;\n",
              "      height: 32px;\n",
              "      padding: 0 0 0 0;\n",
              "      width: 32px;\n",
              "    }\n",
              "\n",
              "    .colab-df-convert:hover {\n",
              "      background-color: #E2EBFA;\n",
              "      box-shadow: 0px 1px 2px rgba(60, 64, 67, 0.3), 0px 1px 3px 1px rgba(60, 64, 67, 0.15);\n",
              "      fill: #174EA6;\n",
              "    }\n",
              "\n",
              "    .colab-df-buttons div {\n",
              "      margin-bottom: 4px;\n",
              "    }\n",
              "\n",
              "    [theme=dark] .colab-df-convert {\n",
              "      background-color: #3B4455;\n",
              "      fill: #D2E3FC;\n",
              "    }\n",
              "\n",
              "    [theme=dark] .colab-df-convert:hover {\n",
              "      background-color: #434B5C;\n",
              "      box-shadow: 0px 1px 3px 1px rgba(0, 0, 0, 0.15);\n",
              "      filter: drop-shadow(0px 1px 2px rgba(0, 0, 0, 0.3));\n",
              "      fill: #FFFFFF;\n",
              "    }\n",
              "  </style>\n",
              "\n",
              "    <script>\n",
              "      const buttonEl =\n",
              "        document.querySelector('#df-41bbd5e1-e0ce-4b2b-bc40-83b153bd26f9 button.colab-df-convert');\n",
              "      buttonEl.style.display =\n",
              "        google.colab.kernel.accessAllowed ? 'block' : 'none';\n",
              "\n",
              "      async function convertToInteractive(key) {\n",
              "        const element = document.querySelector('#df-41bbd5e1-e0ce-4b2b-bc40-83b153bd26f9');\n",
              "        const dataTable =\n",
              "          await google.colab.kernel.invokeFunction('convertToInteractive',\n",
              "                                                    [key], {});\n",
              "        if (!dataTable) return;\n",
              "\n",
              "        const docLinkHtml = 'Like what you see? Visit the ' +\n",
              "          '<a target=\"_blank\" href=https://colab.research.google.com/notebooks/data_table.ipynb>data table notebook</a>'\n",
              "          + ' to learn more about interactive tables.';\n",
              "        element.innerHTML = '';\n",
              "        dataTable['output_type'] = 'display_data';\n",
              "        await google.colab.output.renderOutput(dataTable, element);\n",
              "        const docLink = document.createElement('div');\n",
              "        docLink.innerHTML = docLinkHtml;\n",
              "        element.appendChild(docLink);\n",
              "      }\n",
              "    </script>\n",
              "  </div>\n",
              "\n",
              "\n",
              "<div id=\"df-3d31a08c-3019-4843-babd-73aceff1dbc2\">\n",
              "  <button class=\"colab-df-quickchart\" onclick=\"quickchart('df-3d31a08c-3019-4843-babd-73aceff1dbc2')\"\n",
              "            title=\"Suggest charts\"\n",
              "            style=\"display:none;\">\n",
              "\n",
              "<svg xmlns=\"http://www.w3.org/2000/svg\" height=\"24px\"viewBox=\"0 0 24 24\"\n",
              "     width=\"24px\">\n",
              "    <g>\n",
              "        <path d=\"M19 3H5c-1.1 0-2 .9-2 2v14c0 1.1.9 2 2 2h14c1.1 0 2-.9 2-2V5c0-1.1-.9-2-2-2zM9 17H7v-7h2v7zm4 0h-2V7h2v10zm4 0h-2v-4h2v4z\"/>\n",
              "    </g>\n",
              "</svg>\n",
              "  </button>\n",
              "\n",
              "<style>\n",
              "  .colab-df-quickchart {\n",
              "      --bg-color: #E8F0FE;\n",
              "      --fill-color: #1967D2;\n",
              "      --hover-bg-color: #E2EBFA;\n",
              "      --hover-fill-color: #174EA6;\n",
              "      --disabled-fill-color: #AAA;\n",
              "      --disabled-bg-color: #DDD;\n",
              "  }\n",
              "\n",
              "  [theme=dark] .colab-df-quickchart {\n",
              "      --bg-color: #3B4455;\n",
              "      --fill-color: #D2E3FC;\n",
              "      --hover-bg-color: #434B5C;\n",
              "      --hover-fill-color: #FFFFFF;\n",
              "      --disabled-bg-color: #3B4455;\n",
              "      --disabled-fill-color: #666;\n",
              "  }\n",
              "\n",
              "  .colab-df-quickchart {\n",
              "    background-color: var(--bg-color);\n",
              "    border: none;\n",
              "    border-radius: 50%;\n",
              "    cursor: pointer;\n",
              "    display: none;\n",
              "    fill: var(--fill-color);\n",
              "    height: 32px;\n",
              "    padding: 0;\n",
              "    width: 32px;\n",
              "  }\n",
              "\n",
              "  .colab-df-quickchart:hover {\n",
              "    background-color: var(--hover-bg-color);\n",
              "    box-shadow: 0 1px 2px rgba(60, 64, 67, 0.3), 0 1px 3px 1px rgba(60, 64, 67, 0.15);\n",
              "    fill: var(--button-hover-fill-color);\n",
              "  }\n",
              "\n",
              "  .colab-df-quickchart-complete:disabled,\n",
              "  .colab-df-quickchart-complete:disabled:hover {\n",
              "    background-color: var(--disabled-bg-color);\n",
              "    fill: var(--disabled-fill-color);\n",
              "    box-shadow: none;\n",
              "  }\n",
              "\n",
              "  .colab-df-spinner {\n",
              "    border: 2px solid var(--fill-color);\n",
              "    border-color: transparent;\n",
              "    border-bottom-color: var(--fill-color);\n",
              "    animation:\n",
              "      spin 1s steps(1) infinite;\n",
              "  }\n",
              "\n",
              "  @keyframes spin {\n",
              "    0% {\n",
              "      border-color: transparent;\n",
              "      border-bottom-color: var(--fill-color);\n",
              "      border-left-color: var(--fill-color);\n",
              "    }\n",
              "    20% {\n",
              "      border-color: transparent;\n",
              "      border-left-color: var(--fill-color);\n",
              "      border-top-color: var(--fill-color);\n",
              "    }\n",
              "    30% {\n",
              "      border-color: transparent;\n",
              "      border-left-color: var(--fill-color);\n",
              "      border-top-color: var(--fill-color);\n",
              "      border-right-color: var(--fill-color);\n",
              "    }\n",
              "    40% {\n",
              "      border-color: transparent;\n",
              "      border-right-color: var(--fill-color);\n",
              "      border-top-color: var(--fill-color);\n",
              "    }\n",
              "    60% {\n",
              "      border-color: transparent;\n",
              "      border-right-color: var(--fill-color);\n",
              "    }\n",
              "    80% {\n",
              "      border-color: transparent;\n",
              "      border-right-color: var(--fill-color);\n",
              "      border-bottom-color: var(--fill-color);\n",
              "    }\n",
              "    90% {\n",
              "      border-color: transparent;\n",
              "      border-bottom-color: var(--fill-color);\n",
              "    }\n",
              "  }\n",
              "</style>\n",
              "\n",
              "  <script>\n",
              "    async function quickchart(key) {\n",
              "      const quickchartButtonEl =\n",
              "        document.querySelector('#' + key + ' button');\n",
              "      quickchartButtonEl.disabled = true;  // To prevent multiple clicks.\n",
              "      quickchartButtonEl.classList.add('colab-df-spinner');\n",
              "      try {\n",
              "        const charts = await google.colab.kernel.invokeFunction(\n",
              "            'suggestCharts', [key], {});\n",
              "      } catch (error) {\n",
              "        console.error('Error during call to suggestCharts:', error);\n",
              "      }\n",
              "      quickchartButtonEl.classList.remove('colab-df-spinner');\n",
              "      quickchartButtonEl.classList.add('colab-df-quickchart-complete');\n",
              "    }\n",
              "    (() => {\n",
              "      let quickchartButtonEl =\n",
              "        document.querySelector('#df-3d31a08c-3019-4843-babd-73aceff1dbc2 button');\n",
              "      quickchartButtonEl.style.display =\n",
              "        google.colab.kernel.accessAllowed ? 'block' : 'none';\n",
              "    })();\n",
              "  </script>\n",
              "</div>\n",
              "\n",
              "    </div>\n",
              "  </div>\n"
            ],
            "application/vnd.google.colaboratory.intrinsic+json": {
              "type": "dataframe",
              "variable_name": "df",
              "summary": "{\n  \"name\": \"df\",\n  \"rows\": 3327,\n  \"fields\": [\n    {\n      \"column\": \"_id\",\n      \"properties\": {\n        \"dtype\": \"string\",\n        \"num_unique_values\": 3327,\n        \"samples\": [\n          \"64d57070724205ad3ab1c444\",\n          \"61918ed0f8561a455db3b00e\",\n          \"614e6b38fe306f0688649855\"\n        ],\n        \"semantic_type\": \"\",\n        \"description\": \"\"\n      }\n    },\n    {\n      \"column\": \"title\",\n      \"properties\": {\n        \"dtype\": \"string\",\n        \"num_unique_values\": 3269,\n        \"samples\": [\n          \"Worsening global digital divide as the US and China continue zero-sum competitions\",\n          \"Bjorn Lomborg: Why Do We Fixate on Climate Rather Helping the World's Poor?\",\n          \"Idaho Keeps Scheduling This Inmate's Execution Even Though It Lacks the Means To Kill Him\"\n        ],\n        \"semantic_type\": \"\",\n        \"description\": \"\"\n      }\n    },\n    {\n      \"column\": \"author\",\n      \"properties\": {\n        \"dtype\": \"category\",\n        \"num_unique_values\": 544,\n        \"samples\": [\n          \"Joel Golby\",\n          \"James Snell\",\n          \"Simon Cottee\"\n        ],\n        \"semantic_type\": \"\",\n        \"description\": \"\"\n      }\n    },\n    {\n      \"column\": \"description\",\n      \"properties\": {\n        \"dtype\": \"category\",\n        \"num_unique_values\": 1317,\n        \"samples\": [\n          \"A trip to the grocery store costs considerably more than it did a year ago. Now Florida's congressional delegation wants to inflate prices even more.\\nOn Friday, Sen. Marco Rubio (R\\u2013Fla.) led a bipartisan group of lawmakers\\u2014all of them from Florida\\u2014in submitting a petition to U.S. Trade Representative Katherine Tai seeking \\\"an investigation\\\" into what the lawmakers call \\\"the flood of imported seasonal and perishable agricultural products from Mexico.\\\" They ask Tai to invoke Section 301 of the Trade Act of 1974 to impose \\\"trade remedies\\\" that will protect American growers from the scourge of\\u2026low-priced produce.\\nWhile they don't come out and say it directly, it's obvious from the letter that Rubio and his colleagues are seeking tariffs on Mexican produce. Section 301 is the same mechanism the Trump administration used to impose wide-ranging tariffs on goods imported from China. It's a law that grants the executive branch broad, unilateral power over trade.\\nRubio and the other lawmakers say the Mexican government is subsidizing its domestic agricultural infrastructure as part of a scheme to undercut the prices charged by U.S. growers. \\\"Mexico poses a direct threat to Florida's seasonal and perishable agricultural industry,\\\" they conclude.\\nThe petition goes into more detail. A case of Mexican-grown bell peppers, for example, sells for about $5.85 less than a case of bell peppers grown in Florida. A flat of strawberries from Mexico goes for a few bucks less than the equivalent amount of strawberries picked in Florida.\\nAnd don't forget the cucumbers! The petition claims that a flat of Mexican-grown cucumbers sells for a whole \\\"$1.32 less than the average price of a flat of Florida-produced cucumbers.\\\"\\u00a0What's more, \\\"prices for Mexican cucumbers are their lowest in the months of April and May, which are the peak months for the marketing of Florida-grown cucumbers.\\\"\\nAnyone who has taken a basic economics class should be able to explain what's happening there. A high level of supply tends to push prices downward. Whether grown in Mexico or Florida, it makes sense that cucumber prices would be at their lowest when there are a lot of cucumbers in the market.\\nBut that's not how Rubio and his colleagues see it. Instead, the petition describes this minor pricing difference as \\\"a clear attempt to displace Florida cucumbers from the U.S. market.\\\"\\nTake a moment to enjoy the fact that some of the most powerful men and women in the U.S. government are freaking out over the idea that American consumers might get to save a few cents on their next cucumber purchase. Then amuse yourself with the optics of American agricultural special interests\\u2014which are, of course, pulling Rubio's strings here\\u2014complaining about subsidies, as if \\\"direct government aid\\\" doesn't account for nearly 40 percent of American farmers' annual income.\\n\\\"These Florida politicians are following a time-honored tradition of trying to help their local constituents at the expense of Americans in other states, who benefit from low-priced fruits and vegetables regardless of where they are grown,\\\" says Bryan Riley, director of the free trade initiative at the National Taxpayers Union Foundation. Any discussion of how government subsidies are distorting the agricultural markets on both sides of the U.S./Mexico border should take into account the protectionist barriers to imported sugar, he notes.\\nIndeed, the American sugar industry has for decades enjoyed the kind of protectionism that Rubio and his colleagues would like to see extended to cucumbers and other produce. The results aren't great. Consumers pay billions more annually, the environment gets wrecked, and Americans end up eating less healthy sugar alternatives.\\nBut the craziest thing about Rubio's proposal is the timing. Food prices are up 10.9 percent over the 12 months ending in July. That means they've risen even faster than overall inflation, which is up 8.5 percent over the same period. (August's inflation data will be released Tuesday morning.)\\nThe whole point of special-interest protectionism is that the costs are diffused while the benefits are highly concentrated. All Americans pay for the federal government's dumb sugar policies, but we barely notice the added cost while the sugar-producing industry reaps billions of dollars in benefits every year.\\nEven so, openly calling for higher prices at the grocery store\\u2014and that is exactly what these lawmakers are doing\\u2014at a time like this? Are you serious?\\nIt shouldn't matter whether a cucumber is grown in Florida or Mexico. And at a time when American consumers are beset by high and rising prices, it makes sense to welcome the import of cheaper goods that can put food on the table and put downward pressure on inflation. Rubio's petition should go directly to the compost heap.\\n\\nThe post Marco Rubio Wants To Make Your Groceries More Expensive appeared first on Reason.com.\",\n          \"He turned a messy, pragmatic compromise into an aspirational blueprint for a nation based on equal liberty for all.\",\n          \"The social media platforms that hold and shape our attention need to be governed in the public interest.\"\n        ],\n        \"semantic_type\": \"\",\n        \"description\": \"\"\n      }\n    },\n    {\n      \"column\": \"publish_date\",\n      \"properties\": {\n        \"dtype\": \"number\",\n        \"std\": 20671197850.086555,\n        \"min\": 1624010400000.0,\n        \"max\": 1697272260000.0,\n        \"num_unique_values\": 3097,\n        \"samples\": [\n          1660388400000.0,\n          1668157831000.0,\n          1665082868000.0\n        ],\n        \"semantic_type\": \"\",\n        \"description\": \"\"\n      }\n    },\n    {\n      \"column\": \"full_text\",\n      \"properties\": {\n        \"dtype\": \"string\",\n        \"num_unique_values\": 3230,\n        \"samples\": [\n          \"For most of our ten thousand years on the planet, the vast majority of humanity endured lives of dire poverty and extreme material deprivation. Most people spent most of their time worrying about securing the bare minimum of food and shelter. The Industrial Revolution began to change that dynamic. Still, the British economist and philosopher John Stuart Mill was correct to question in the early 1870s whether \\u201call the mechanical inventions yet made have lightened the day\\u2019s toil of any human being.\\u201d Soon after, however, the emergence of globalization, the industrial research laboratory, and the modern corporation made possible a rapid upward trajectory in human flourishing and an end to near-universal agrarian poverty. Another British economist, John Maynard Keynes, foresaw in 1930 that the continued progress of science and compound interest could mean that human beings, liberated from pressing economic cares, might find their real challenge to be how to occupy their leisure time and \\u201clive wisely and agreeably and well.\\u201d\\u00a0\\nBut the explosion of productivity and prosperity over the 140 years that followed the takeoff point in 1870 did not see humanity zooming toward Utopia; at best, we slouched fitfully in that direction. Brad DeLong, an economics professor at the University of California at Berkeley, has written a much-anticipated history of what he calls \\u201cthe long twentieth century\\u201d from 1870 to 2010, entitled\\u00a0Slouching Towards Utopia: An Economic History of the Twentieth Century. In it, he explains how we achieved economic breakthroughs that once would have been considered miraculous \\u2014 and yet fell short of what that breakthrough promised. And DeLong also explains why he believes that the era of remarkable prosperity, for all its problems and inequities, has now ended.\\u00a0\\nIn this podcast discussion, Niskanen\\u2019s Brink Lindsey and Geoff Kabaservice talk with DeLong about why the material abundance that resulted from the great acceleration after 1870 was unevenly distributed between nations and within them, why developmental social democracy failed its sustainability test, and how the long twentieth century was in a sense a contest between the ideas of the towering thinkers Friedrich Hayek and Karl Polanyi. The discussion also covers differing perspectives on \\u201cthe neoliberal turn,\\u201d speculations about how to benefit from the best aspects of neoliberalism and social democracy while avoiding their pitfalls, and a hypothesis as to why capitalism is like the brooms in \\u201cThe Sorcerer\\u2019s Apprentice.\\u201d\\n\\nTranscript\\nBrad DeLong: The collapse of confidence in government in the industrial West is of extraordinary magnitude and yet, as I see it, largely unbased in reality. The ideas I\\u2019m playing with are that really we need to go back and think more about changing modes of production.\\nGeoff Kabaservice: Hello! I\\u2019m Geoff Kabaservice for the Niskanen Center.\\nBrink Lindsey: And I\\u2019m Brink Lindsey from the Niskanen Center.\\nGeoff Kabaservice: Welcome to the Vital Center Podcast, where we try to sort through the problems of the muddled, moderate majority of Americans, drawing upon history, biography, and current events. And we\\u2019re delighted to have with us today J. Bradford DeLong, better known as Brad. He is an economic historian and macroeconomist who holds a professorship in Economics at the University of California at Berkeley, as well as being a research associate of the National Bureau of Economic Research and a fellow at the Institute for New Economic Thinking.\\nHe also served in the U.S. government as Deputy Assistant Secretary of the Treasury for Economic Policy from 1993 to 1995, where he worked on the Clinton administration\\u2019s 1993 budget, on the Uruguay Round of the General Agreement on Tariffs and Trade, and on the North American Free Trade Agreement. Prior to joining the Treasury Department, he taught at Harvard University, Boston University, and MIT. And he is one of the original econ bloggers, who continues to post almost daily on Brad DeLong\\u2019s Grasping Reality, which is now on Substack. He also has an excellent podcast with his fellow economist, Noah Smith, which is called \\u201cHexapodia\\u201d Is the Key Insight. And not least, he\\u2019s on the Niskanen Center\\u2019s Board of Advisors. Welcome, Brad!\\nBrad DeLong: Thank you very much for inviting me. I think we just crossed 40,000 books sold in all formats for my Slouching Towards Utopia, and so I\\u2019m still very eager to tell people it exists and talk about it.\\nGeoff Kabaservice: Well, fantastic! And congratulations on your prodigious and path-breaking book, Slouching Towards Utopia: An Economic History of the 20th Century. It was published in September of 2022, but it\\u2019s still flying off airport bookstore shelves around the world, as I can vouch from my visit a few days ago to S\\u00e3o Paulo.\\nBrad DeLong: Oh, wow. It\\u2019s in the S\\u00e3o Paulo airport?\\nGeoff Kabaservice: It was indeed, yes.\\nBrad DeLong: Oh, wow. That\\u2019s a major victory of some sort.\\nGeoff Kabaservice: I think it is. It\\u2019s a book I think that we\\u2019re going to be talking about decades hence, and it\\u2019s also a book that\\u2019s been decades in the making. I note that Paul Krugman, writing in his New York Times column of June 18th, 2000 referred to \\u201c[Brad DeLong\\u2019s] already classic though not yet complete book Slouching Towards Utopia.\\u201d\\nBrad DeLong: Well, at that time there really were only three chapters, right? It was more a marker that this was a book I was trying to write rather than a full manuscript. Admittedly, Paul loved those three chapters and has more confidence in my ability to actually buckle down on projects than I do. The problem was, the end of the book kept changing in the early 2000s.\\nGeoff Kabaservice: Yes, as you tried to figure out the end point. I gleaned from Annie Lowrey\\u2019s profile of you in The Atlantic that the book had its genesis in 1994, when you came across socialist historian Eric Hobsbawm\\u2019s book The Age of Extremes\\u2026\\nBrad DeLong: Yes.\\nGeoff Kabaservice: \\u2026which was on what he called \\u201cthe short 20th century\\u201d between the assassination of Franz Ferdinand in 1914 and the collapse of the Soviet Union in 1991.\\nBrad DeLong: Yes.\\nGeoff Kabaservice: So what was the process there that led to your book?\\nBrad DeLong: Annoyance. Annoyance and a lunch, I think at the Harvard Faculty Club, where David Landes and Peter Temin were there. And I was ranting at them about how Hobsbawm had really told the wrong story of the long 20th century. That Hobsbawm story is world communism as tragic hero, born under incredibly adverse conditions that kind of marked, distorted, and stunted it. And it saved the entire world from Nazism before expiring in a low, dishonest way that left bad guys (although not the worst guys) in control. And that kind of blocked humanity\\u2019s road to anything that you might think of as Utopia or a truly human world. And that really was not the big story. World communism was not the major actor of the 20th century, and the big story was quite different, and someone should write the right book that was the history of the 20th century.\\nAnd Peter and David said, \\u201cWell, why don\\u2019t you do it? You\\u2019re still young. You could take this thing on.\\u201d And I hemmed and hawed and said, \\u201cMaybe.\\u201d And so ever since then, it\\u2019s been in the back of my mind as something I should do or somebody should do, and then it was something I should do. And then Basic Books put me under contract, the theory being that I wasn\\u2019t making progress on it, and if they put me under contract they could come around once a year and yell at me at how progress wasn\\u2019t being made. And then before the plague, I finally said, \\u201cSomeone should do this, and clearly this someone is me,\\u201d and started to work on it in true earnest \\u2014\\u00a0that is, the everyday thing. And then the plague came, and now the book is finally out.\\nGeoff Kabaservice: Well, congratulations on the publication of your long-awaited book. As you probably know, there was an episode of The Monty Python Show that featured the All-England Summarize Proust Competition, in which each contestant had to give a summary of Marcel Proust\\u2019s \\u00c0 la recherche du temps perdu in 15 seconds, once in a swimsuit and once in a dress. And I feel like that\\u2019s the model for any attempt to summarize Slouching Towards Utopia in this kind of interview format.\\nBrad DeLong: Yes.\\nGeoff Kabaservice: But minus the costume changes, let me give this a try. I would say that your book is a grand narrative of the coming of economic modernity over the course of what you call \\u201cthe long 20th century\\u201d that started in 1870 and ended in 2010. And prior to 1870, despite the advent of capitalism and the industrial revolution, humanity still inhabited a largely Malthusian world. Technological improvements never permitted a significant or sufficient increase in production to outpace population growth, and incomes remained stuck at subsistence level. More than 80% of the global population in 1870 lived on what it farmed rather than what it purchased.\\nBut after 1870, growth in incomes in the leading economies of the Global North became supercharged by the critical innovations of globalization, the modern corporation, and the industrial research laboratory. And these changes brought about an unprecedented explosion of prosperity and productivity that, as you wrote, \\u201cunlocked the gate that had previously kept humanity in dire poverty.\\u201d\\nNonetheless, humanity didn\\u2019t zoom toward Utopia. At best we slouched fitfully in that direction. And the material abundance that resulted from the great acceleration after 1870 was unevenly distributed between nations and within them, largely because of non-economic developments including the two world wars, the legacies of colonialism, contending economic philosophies about what markets alone can achieve, and the varying competencies and priorities of governments.\\u00a0\\nI\\u2019m pretty sure that was longer than 15 seconds. How else would you amplify upon this very skeletal outline of the themes of your book?\\nBrad DeLong: I would say that normally you would think that a world in which each generation\\u2026 We are not just twice as technologically competent as any previous generation, but also resource scarcity is not mounting at a pace fast enough to offset a good deal of that \\u2014that would be a world in which it was pretty easy to get pretty close to Utopia. That is, that the kind of tasting the economic pie, figuring out how to use our wealth, what wealth we have, to live as wisely and well as we can, and equitably distributing the economic pie\\u2026\\nThose would seem to be easy questions relative to the basic problem of baking a sufficiently large economic pie. And largely, if you can\\u2019t bake a sufficiently large economic pie, you poison everything else, because if there\\u2019s no way there can be enough for everyone, then getting enough for yourself and your family involves joining a gang, joining a gang of thugs with spears or gunpowder weapons and their associated tame propagandists, bureaucrats, and accountants, and they\\u2019re running a force-and-fraud exploitation and domination game on the rest of humanity.\\nThat kind of poisons everything. But running such a game is hard and dangerous. And once the need is no longer there, once there is plausibly or is about to be enough for everyone, everything else should have fallen into place much more easily than it did, than it has. It still has not fallen into place. Half a mile away from me there is a man living in a box, and killer robots are still stalking the skies over Ukraine, Syria, Yemen, lots of other places. Yes, we have this enormous explosion of wealth, but it is a very sad verdict on humanity that baking a sufficiently large economic pie did not turn out to be the truly hard problem that slicing and tasting the pie did.\\nGeoff Kabaservice: Well, that\\u2019s a very good summary. Before we get into a fuller discussion of Slouching Towards Utopia, I wanted to ask you something about yourself, as I do on this podcast. So where did you grow up? Where did you go to school? What were some of your important influences?\\nBrad DeLong: Let\\u2019s see\\u2026 I would say born in Cambridge, Massachusetts, when my father was a student at Harvard Law School and my mother was wondering what she should do; she became a psychologist. We moved to Los Angeles, to Pasadena, at three, and moved to Washington DC at six, because my father wanted to work for the Johnson administration rather than be a lawyer at O\\u2019Melveny & Myers. Headed off to Cambridge, Massachusetts for college in 1978.\\nI took a look at the job market in 1982, when I graduated, and promptly turned around and ran back into the university. I decided that since people applying for jobs as assistant professors in history were 40 and had written two well-regarded books, and people applying for jobs as assistant professors in economics were 26 and had one half-written paper, that clearly I should get an economics Ph.D. And so I did, and ever since it has been what the machine learning people call \\u201cgradient descent\\u201d: do at every instant the thing that I think is the most useful, the most fun, and the most likely to be successful at accomplishing. And it\\u2019s been a strange twisting path, and here I am.\\nGeoff Kabaservice: I think it was in your review of the third volume of Robert Skidelsky\\u2019s biography of the British economist John Maynard Keynes that you referred to \\u201cthe half-science, half-witchcraft discipline of macroeconomics.\\u201d I wondered how you came up with that description of your profession.\\nBrad DeLong: Well, that\\u2019s the description of the subprofession, which is the overall study of business cycles and economic growth, as opposed to the micro side of economics where we have firmer foundations. The problem with micro is that the firm foundations are totally wrong but nevertheless somewhat useful, which is a deeper problem. In macro, largely we have simple observations about what tends to happen and frantic attempts to rationalize them through some underlying intellectual structure \\u2014\\u00a0which doesn\\u2019t do terribly well, in large part because each generation, macroeconomists find that the reaction of the previous generation against and to solve the problems of full employment, stable prices, and economic growth it has undertaken undermine the truth of whatever generalizations and frantic attempts to rationalize them economists have come up with.\\nWitness the fact that when 2021 came along, the overwhelming bulk of economists were very confident that inflation was not going to be a danger. Because if in the long period before 2020, in which deficient demand had not caused significant reductions in the rate of inflation, well, then a surge of excess demand as the economy reopened would not cause a significant rise in prices. Surprise, surprise! The stable, flat Phillips Curve structure that people had thought they had seen between 1995 and 2020 vanished into thin air in mid-2021, and we\\u2019ve been scrambling since to figure out what the hell is going on and what should be done in order to get the economy back into some kind of satisfactory equilibrium, Goldilocks-balanced configuration.\\nGeoff Kabaservice: It\\u2019s my untested hypothesis that adolescents who read a lot of science fiction are more likely to grow up to be economists, and adolescents who read a lot of fantasy are more likely to grow up to become historians. I\\u2019m guessing you read a lot of science fiction.\\nBrad DeLong: Well, a lot of both.\\nGeoff Kabaservice: Okay. Who were the science fiction writers whom you liked best?\\nBrad DeLong: Oh, I was an early Heinlein fan, to an extraordinary degree. And I had a soft spot for Isaac Asimov, but much more for his science writing than his science fiction, which is I\\u2019d say is embarrassing if one has an emotional age of more than 12 as one starts actually thinking about how human beings actually relate. And thinking about it in retrospect, one feels kind of sad for poor Isaac, thinking that he never kind of figured out how to fit into the social world in spite of his enormous and prodigious talents.\\nGeoff Kabaservice: You know, I still have a sneaking admiration for Hari Seldon, the great sociologist who can plot out humanity\\u2019s future course.\\nBrad DeLong: Well, yes, and in some ways, that\\u2019s a chemist\\u2019s view of what history as a subject would be if you could actually in some way apply a law of large numbers and get something like statistical mechanics going, so that you could figure out what is actually happening, what is actually likely to happen. There is a passage, I think in Second Foundation, in which one of the seniors is quizzing a graduate student and demanding that they explain a series of equations and what they mean, and the student is trying the very best they can. And it brings back memories from my own kind of science and also economics courses, as to try to move between the reality of the world and what the framework of analysis is and what the mathematical representation of it is. And the idea that one might be able to bring tools to bear on understanding in the social rather than natural sciences is, I think, something one gets from Isaac.\\u00a0\\nBut there, the decisive moment really was, I think I was 12, and the American Association for the Advancement of Science had come to have its annual meeting in Washington, D.C., down on Connecticut Avenue. And I went down, and in the basement of the hotel they had a whole bunch of things, one of which was a typewriter hooked up to a mainframe computer elsewhere on which you could run Jay Forrester\\u2019s world dynamics model.\\u00a0\\nWell, Jay Forrester\\u2019s world dynamics model has pollution as a stock, and when you produce stuff in a polluting way, you add to the pollution stock. There\\u2019s a flow from increased pollution, and productivity depends not on the level of pollution now, but on the total stock of past accumulated pollution \\u2014\\u00a0and depends highly negatively on it. And you know and I know that anytime you set up that kind of mathematical formulation in which there\\u2019s a negative effect of the stock on something, but your current activities only affect the stock \\u2014\\u00a0are only a flow into the level of the stock, which is an accumulating variable \\u2014 that basically what you\\u2019re going to get is you\\u2019re going to get an absolute crash, because high activity is going to greatly push up the effect of your total pollution stock and its accumulated past activity that pushes down present activity.\\nAnd so in the core of Jay Forrester\\u2019s world dynamics model was the fact that in the model, industrial civilization was always going to crash \\u2014 and crash hard, with mammoth famines, 90% population declines, 50% declines in, you know, no matter what you did to the model. Because as we were sitting there in the basement trying different scenarios, it wouldn\\u2019t allow you to change that fundamental structure. The only question was: When would industrial civilization crash? And I spent a day playing with this in the basement, and you would watch the typewriter, and it would print out graphs, and each line of the typewriter, it would punch a P or something for population. The graph would be composed of individual letters as the series, making a pattern. It was fascinating, and it made me think this was something that maybe it would be fun to do for a career. And I kept that in the back of my mind.\\u00a0\\nAnd then in college, I wound up doing the social studies major, then with a heavy focus on economics, and thinking. \\u201cThis is actually a fun, interesting intellectual discipline to play with.\\u201d But I think the idea that it might be a place where one could think useful thoughts really came from that day spent in the basement of some hotel on Connecticut Avenue when I was 12.\\nGeoff Kabaservice: That\\u2019s a good story, and I see an early rejection of the idea of economics as a dismal science. Brink, I feel like you and Brad have been at least in communication for 20 years now.\\nBrink Lindsey: I think so. I was an early reader of Brad\\u2019s blog and read those early chapters of Slouching Towards Utopia not long after they were up and available online. I wrote a book about globalization called Against the Dead Hand, which came out in 2002, and I recall Brad writing really nice things about it.\\nBrad DeLong: Yeah, it was very, very nice.\\u00a0\\nBrink Lindsey: And if we had never corresponded before that, then certainly on that occasion I struck up a correspondence with Brad. And we\\u2019ve been chatting, and occasionally seeing each other in the flesh, on and off ever since.\\nGeoff Kabaservice: Brink, at the start of 2022, you began to share with me some of the ideas you had for what became your Substack, The Permanent Problem, which everyone should check out. And it\\u2019s one of those cases of great minds thinking alike, because both Brad\\u2019s book and your Substack are in a sense in dialogue with the 1930 essay by Keynes entitled \\u201cEconomic Possibilities for Our Grandchildren.\\u201d\\u00a0\\nKeynes was writing during the Great Depression, but he believed that in hindsight it would appear as an aberration in what was otherwise a long-term trend of cumulative growth. And he wrote that \\u201cthe economic problem, the struggle for subsistence, always has been hitherto the primary, most pressing problem of the human race.\\u201d But the economic growth that occurred since the 1870 takeoff, he wrote, \\u201cmeans that the economic problem is not \\u2014\\u00a0if we look into the future \\u2014 the permanent problem of the human race.\\u201d Because if growth could continue for another century, then \\u201cfor the first time since his creation man will be faced with his real, his permanent problem \\u2014 how to use his freedom from pressing economic cares, how to occupy the leisure which science and compound interest will have won for him, to live wisely and agreeably and well.\\u201d\\nSo tell me more, Brink, about why that Keynes quote resonated so strongly with you that you named your Substack \\u201cThe Permanent Problem,\\u201d and also your best guess as to why you and Brad seemed to be thinking along similar lines.\\nBrink Lindsey: Well, I think I\\u2019m thinking in a very similar way to the thinking that guided Brad in the writing of his book. So there\\u2019s the glass-half-full story that the gates which had locked mankind in dire poverty have been broken open and the path to Utopia is apparently open. Then there\\u2019s the glass-half-empty story, which is that despite all of our technological powers and organizational powers and the resources at our disposal, we haven\\u2019t figured out \\u2014\\u00a0we haven\\u2019t gotten really very close to figuring out \\u2014 how to live wisely and agreeably and well.\\nAnd so in my own career, I\\u2019ve spent a lot of my time analyzing and writing about the causes and consequences of economic growth and the arrival of material abundance; looking at globalization and writing about the consequences in a cultural and political history of the United States called The Age of Abundance, which looked at history of America since World War II through the prism of the cultural and political reactions to the advent of mass affluence. Here was a society that was something new under the sun, where the fulfillment of basic material needs could be more or less assumed by the vast majority of the population.\\u00a0\\nThat didn\\u2019t mean people stopped worrying. It meant they started worrying about new things, in particular about self-expression, self-realization. So all of the tumults of the \\u201860s and \\u201870s I saw coming straight out of the story I told, coming straight out of the placid suburbia of the \\u201850s, and all following from the unfolding logic of a radical change in the human condition, almost necessitating dramatic adaptations in culture and politics.\\u00a0\\nBut I told a pretty happy story. I conceived this book at the end of the \\u201890s boom, beginning of the 2000s, before 9/11. I wrote it between 2003 and 2006, and it came out in 2007. At that time, I still thought we were on a glide path to progress, the path of least resistance, that humanity in general and the rich countries in particular were going to get richer and freer and better governed.\\nBrad DeLong: Well, it did seem then that left-neoliberalism kind of had it right: a proper disdain for bureaucracies and their inefficiencies, and a proper recognition of the great crowdsourcing benefits of what Michael Polanyi would call \\u201cmercenary institutions\\u201d like the market and fiduciary institutions like science. Add those with the fact that you could be kind of a social-democratic wolf in left-neoliberal sheep\\u2019s clothing and talk about safety nets and so forth, and recognize that the right road to a lot of social democratic ends in fact involved not bureaucracy but rather tuning market incentives and getting the great crowdsourcing machine going. That really did seem to be the intellectual sweet spot for organizing production and distribution. And add to that what would seem to be a stable democracy. Frank Fukuyama looked, if anything, a little pessimistic in his talk about \\u201cThe End of History.\\u201d\\u00a0\\nBrink Lindsey: Democracies were waxing worldwide at that time. But since then, since 2007 \\u2014\\u00a0which I think was the last year one could write a history unironically titled The Age of Abundance \\u2014\\u00a0since then the glass-half-empty story has become much more salient to me. I didn\\u2019t ignore it in writing that book, but the book was an upbeat story: that we had come through the sturm und drang of the \\u201860s and \\u201870s and had come to a kind of neoliberal, socially liberal consensus. But such was not to be.\\nAnd so, still having in my mind the idea that the advent of mass affluence and this switch from \\u201cthe economic problem\\u201d to \\u201cthe permanent problem,\\u201d as Keynes had put it, was really the defining event of our time, I just went back and looked at it again and saw the dark sides of it, the downsides of this change. And the incompleteness of our adaptation to that change now looked much more apparent to me. And so I share Brad\\u2019s sort of somber verdict on capitalist mass affluence. Grading on a historical curve, we\\u2019re better off than humanity\\u2019s ever been. Grading according to what our technological and organizational powers would seemingly enable if we could just get our act together, we\\u2019re very much wanting.\\nGeoff Kabaservice: This is a theme to which we will return. Brad, you name-dropped Michael Polanyi, who\\u2019s a British polymath. But the central Polanyi in your book is not Michael but Karl Polanyi\\u2026\\nBrad DeLong: It\\u2019s Karl, yes.\\nGeoff Kabaservice: \\u2026who is presented as a kind of counterpart to the Austrian neoclassicist economist Friedrich Hayek, with whom a lot more people will be familiar. So can you tell me something about Karl Polanyi and why his message seemed to be the counterpart to Hayek?\\nBrad DeLong: Well, Polanyi was another one of the huge number of extremely interesting intellectuals coming out of the Austro-Hungarian Empire, as it stood before World War I; born and molded there, and then generally fleeing everywhere else, usually to America or Britain, and then trying to reflect on the social world as they had seen it, had understood it. And for some reason, that experience seems to have given an awful lot of them special insights, or at least special energy.\\nPolanyi\\u2019s dominant view was that the market economy was a tremendously effective way of crowdsourcing solutions to problems of production. But a market economy is one that vindicates absolutely no rights except for property rights. If you don\\u2019t have effective demand for something, you might as well not exist to the market economy. And effective demand is not intensity of need, but rather is intensity of need times your wealth.\\nPolanyi\\u2019s view was that humans form societies, and in societies people believe that they have rights. And to say, \\u201cNo, the only rights we are going to vindicate are property rights\\u201d \\u2014 that kind of stark utopia was unsustainable. It would call forth some kind of enormous counterbalancing reaction. One way he put it is the market, by saying the only rights that matter are property rights, attempts to destroy everything you might call \\u201csociety,\\u201d and society in return will mobilize and try to destroy the market. And the reaction may be smart, may be stupid, may be left, may be right, may be genocidal, may be a satisfactory compromise. But there will be a very strong reaction against every attempt by the market economy to expand its reach.\\u00a0\\nAnd yet because the market economy is so productive, it will keep on trying to extend its reach. There\\u2019s an awful lot of money to be made by relying on it. This coming of the market, and then society\\u2019s resistance to it, was, Karl Polanyi thought, \\u201cThe Great Transformation\\u201d and was at the root of an awful lot of our problems of distributing and utilizing our wealth.\\u00a0\\nBrink Lindsey: I\\u2019ll just interject here that Brad\\u2019s very nice compressed account of Polanyi\\u2019s insights represents a massive work of distillation from very low-quality-ore prose.\\nBrad DeLong: Yes. In some ways, I think the right analogy to Polanyi is Hyman Minsky. I remember Laura Tyson getting off a plane and saying, \\u201cI tried to read Minsky on the plane.\\u201d In my view, people who talk about Hyman Minsky are almost always talking about Charlie Kindleberger, who took Minsky\\u2019s insights, compressed them, and then actually used them to tell fascinating, interesting, amusing stories about financial crises. And Minsky\\u2019s influence, I think, overwhelmingly comes through Kindleberger\\u2019s understanding and using him. Maybe one of the thoughts I\\u2019ve had about my book is that if it succeeds, it might help do the same thing for Polanyi.\\nGeoff Kabaservice: That would be great. You summarize the messages of Hayek, on the one hand, as \\u201cThe market giveth, the market taketh away, blessed be the name of the market. And in Polanyi\\u2019s case, \\u201cThe market was made for man, not man for the market.\\u201d And you do point out that Hayek\\u2019s vision was not a stable principle around which to organize society and political economy. But the distorted Polanyi message \\u2014\\u00a0the idea of centralized command of the economy \\u2014 also was not sustainable and, in fact, led to hideous tyrannies in the early 20th century.\\nBrad DeLong: Well, Polanyi was a socialist, but he was not a strong believer in central planning. And indeed, it\\u2019s actually bizarre that anyone would think that you could centrally plan an economy as a whole. It is true that right now, we have large organizations that kind of are centrally planned. The current valuation that the stock market places on the equity claim to the future profits flowing from Apple Computer is approaching $3 trillion right now, which is a bizarre and awesome sum. It is more than one-ninth of the annual GDP of the United States for this one company. And it is not a market organization; it is a centrally planned organization.\\u00a0\\nBut at virtually every stage within Apple Computer, you wind up having market interfaces, that people are always making make or buy decisions: Do we do this inside? Do we find a counterparty outside? And our centrally planned organizations are very much kept on their toes precisely because they always have to be making these make-or-buy decisions. It eliminates the huge amounts of bureaucratic inefficiency that arise whenever you do attempt to centrally plan every anything.\\u00a0\\nAnd yet people tried it. People tried for 60 years to run a centrally planned economy, and it was almost always a catastrophe. You almost always wound up having lost one-fifth or four-fifths of your wealth, of your potential wealth, simply as you attempted to make people follow orders rather than allow some kind of crowdsourcing.\\nGeoff Kabaservice: I think the Soviet Union\\u2019s principal output was actually jokes about the economic deficiencies of the Soviet Union.\\nBrad DeLong: Well, I thought it was unfinished construction projects.\\nGeoff Kabaservice: That too. I\\u2019m sure you\\u2019ve read P.J. O\\u2019Rourke on communists\\u2019 love of concrete, badly done concrete. Brink, you reviewed Brad\\u2019s book for your Substack, and you wrote in part, \\u201cBrad\\u2019s guided tour through the twists and turns of the Hayek-Polanyi dialectic is a joy to read, with brief but masterful distillations of the descent from the Belle \\u00c9poque \\u2018El Dorado\\u2019\\u201d into the First World War, the rise of fascism, and all that followed after World War II. But you say, \\u201cAfter these cataclysms and titanic ideological struggles, the path to Utopia once more emerged into view \\u2014 in Brad\\u2019s telling, by the virtue of \\u201cthe shotgun marriage of Hayek and Polanyi blessed by Keynes in the form of post-World War II North Atlantic developmental social democracy.\\u201d And these are the \\u201ctrente glorieuses,\\u201d the 30 years following 1945 in a lot of those northern economies, which are still remembered as a kind of economic golden age.\\u00a0\\nBut that, too, failed its own sustainability test, and the trente glorieuses ended not with a bang but with a whimper, with the decline in the growth rate in the 1970s, moderately high inflation, and big spikes in oil prices. And by the way, Brad, your co-podcast host, Noah Smith, just posted a Substack essay on how the 2020s are the new 1970s, which I thought was quite interesting.\\nBrad DeLong: Interesting.\\nGeoff Kabaservice: And what followed was \\u201cthe neoliberal turn,\\u201d in which policies moved toward Hayek at the expense of Polanyian rights, which tamed inflation, but the rich reaped the benefits. There again is a very Monty Pythonesque over-summary of the themes of your book, but I think that is an important theme in the book.\\nBrink Lindsey: In my review, I spent a lot of time lauding and praising the book, but my criticisms were on the account of the neoliberal turn. Brad presents it as a puzzle that the social-democratic economic order was toppled in the 1970s because of a run of inflation and a temporary productivity collapse. One could understand that neoliberalism had its opening at that time. But then when it failed to deliver the goods other than to the well off \\u2014\\u00a0it failed to restore high economic growth rates except to the top income percentiles \\u2014\\u00a0why did it persist? So that\\u2019s a kind of mystery that Brad presents.\\nIn my sense of how this history played out, I think forces much deeper than intellectual disagreement about economic policy, forces much deeper than the disagreement between Hayek and Polanyi, were in play. So the end of developmental social democracy was a more complex affair than just a change in the direction or the orientation or the mix of economic policy; it was a consequence of the changing culture and politics of mass-affluent societies.\\u00a0\\nAnd in particular, the revolt against developmental social democracy began on the left, not on the right. First, the developmental part got dropped in the \\u201860s, because the New Left thought that basically the economic problem had been solved for good, that the wealth-creation machine was on autopilot, that the Keynesian 15-hours-a-day true mass abundance was nearly at hand.\\u00a0\\nBrad DeLong: And we see the consequences of that dropping in the Berkeley that surrounds me.\\nBrink Lindsey: And by the time that exuberant optimism of the \\u201860s was put to rest in the \\u201870s, environmentalism and its sort of knee-jerk anti-developmentalism had taken hold and had a dominant position on the left. And so the whole idea of increasing human mastery over nature for the betterment of the common man \\u2014 that just was no longer part of the program.\\u00a0\\nMeanwhile, the developmental state part was gone too. Social democracy had a paradigm of government where you had energetic, muscular government empowered to act decisively in the public interest. But the New Left-influenced public interest liberalism of the \\u201860s was born out of deep suspicion of government power. And so the New Left had all kinds of reasons to have its own brand of libertarianism: it had state power threaten the world with nuclear war, it was causing mayhem and carnage in Vietnam, state power was odious and oppressive in the Deep South in enforcing Jim Crow, state power was complicit in the newly appreciated environmental degradation. So there was a whole lot of suspicion of government power.\\u00a0\\nBrad DeLong: State power was evil, and Robert Moses was driving highways all the way through New York so people could live in New Rochelle and work in Manhattan.\\nBrink Lindsey: Yeah. So this new anti-government spirit on the left took hold in the \\u201860s, and so the reform project was no longer to give government new powers to act in the public interest, but to ensure that government at every step was subject to criticism and oversight from progressive quarters. So the developmental part was gone, and so by the time people wanted to resurrect the social democratic cause, it was all just about hanging onto existing jobs and hanging onto existing entitlements. A sort of optimistic vision of a social democratic future died in the \\u201860s, I think, and certainly in the \\u201870s before neoliberalism grew in influence.\\nMeanwhile, the switch to a post-materialist politics, the switch from the thinking that have-nots and haves is no longer the main axis in politics; rather, it\\u2019s \\u201cbelongs\\u201d and \\u201cbelong-nots,\\u201d it\\u2019s groups that have been excluded from full participation in the socioeconomic mainstream \\u2014\\u00a0that became the axis of political conflict in rich countries, which had the collateral damage of rupturing the working-class coalition and making class-based politics much harder to reassemble when the need for it became apparent in the \\u201870s and \\u201880s.\\u00a0\\nBefore Hayek and Friedman won their Nobels and Reagan and Thatcher won their electoral victories, Brad\\u2019s developmental social democratic road to Utopia had already been abandoned.\\nGeoff Kabaservice: How would you respond, Brad?\\nBrad DeLong: Perhaps, quite plausibly. That is the fact that I still cannot really believe or understand why the system that had produced the trente glorieuses, why it collapsed so quickly and why virtually no one was willing to defend it \\u2014\\u00a0that it was not Ronald Reagan it was Bill Clinton who said that \\u201cThe era of big government is over.\\u201d And the fact that I, in some ways, am still too much a believer, an unreconstructed social democrat, I think makes it hard for me to get a coherent and sophisticated grasp of why we actually had this particular turn \\u2014\\u00a0why social democratic coalitions, developmental social democratic coalitions, class-based, egalitarian social democratic coalitions were no longer easy to assemble or even possible to assemble after the 1970s.\\nI\\u2019m reading and thinking about Gary Gerstle\\u2019s book on The Rise and Fall of the Neoliberal Order, which is, I think, as all histories oriented toward the present are, much, much better on the past than the present. His account of the rise of the neoliberal order is much stronger than his account of its perhaps fall. But Brink\\u2019s point that the distaste for the way things worked on the left was not as great but was sufficient to cripple attempts to rebuild, or to resist the cries coming from the right about how there\\u2019s inflation, there\\u2019s bureaucracy and so forth: \\u201cWe actually need a change. We need a change, because we need to have a more unequal income distribution to incentivize job creators. And we need a change because government needs to get out of the way. Individuals pursuing their own self-interest will advance the public interest much more than any set of increasingly strangling governmental regulations.\\u201d\\nPaul Krugman still doesn\\u2019t really believe it happened. He thinks that things would have held on as normal if only there had not been the inflation of the 1970s, if only that had not undermined confidence that government was competent. But it\\u2019s much bigger, it\\u2019s much broader than that. The collapse of confidence in government in the industrial West is of extraordinary magnitude \\u2014\\u00a0and yet, as I see it, largely unbased in reality.\\nThe ideas I\\u2019m playing with are that really we need to go back and think more about changing modes of production \\u2014that is, how people get their ideas about how the world ought to work from the process of their daily life. And the shift from the mass production economy of the 1930s and 1940s to the global value chain economy of the 1980s and 1990s \\u2014\\u00a0that undermined not just institutions like labor unions focused on lunch pails that had played a huge role in stabilizing social democracy, but also led people to have very different ideas about how society should work, ones in which social democracy, the New Deal order that had ruled from the 1930s into the 1970s, was simply no longer something that made sense to enough people for them to be willing to support it.\\nBut I do say I do not think I have a good handle\\u2026 I think I have a good handle on an awful lot of history. I do not think I have a good handle on what happened in the 1970s and 1980s with the kind of shift to the idea that the state needed to be radically cut back and that the price of accepting \\u201cThe market giveth, the market taketh away, blessed be the name of the market\\u201d \\u2014 that that price was worth paying to a much greater extent than anyone had thought it was before 1980.\\nBrink Lindsey: So my second grounds for breaking with Brad\\u2019s analysis was that he presents the neoliberal turn as basically a wrong turn, and I don\\u2019t see it that way. So here in 2023, looking back on the neoliberal era of 1978 to 2008, we can see the shortcomings and failures of that era. We can certainly see \\u2014\\u00a0I can certainly see, as an ex-professional libertarian \\u2014 the blind spots and errors of libertarian free-market ideology. Nonetheless, the partial truths that Hayek grasped were, I think, underrated in the 1960s and 1970s.\\u00a0\\nTyler Cowen, in all his interviews, asks people a string of things: \\u201cIs this underrated or overrated?\\u201d I think the importance of private entrepreneurship and market competition to long-term economic performance was underrated, and so there had been an enormous expansion of government control over and influence over the economy in the democracies, while a third of mankind was now living under regimes that said that there was no role for markets whatsoever in the organization of social cooperation. It was not a bad time for a rethink and for a reappraisal.\\u00a0\\nAnd some things were gotten right. There were some bad regulations that were gotten rid of, price-and-entry regulations that impeded competition to no good end. Those were dispensed with in the United States. A nationalization of industry that made no economic sense was unwound in Western Europe, and that was a good thing.\\nIn the United States, I would chalk up Silicon Valley \\u2014 you\\u2019ve got to give that as a triumph of the neoliberal era. It only happened in the low-tax, light-touch-regulated United States. It didn\\u2019t happen anywhere else, the information technology revolution, the signal economic achievement of our time. The peaceful collapse of communism was certainly driven by internal events, but occurred in a larger neoliberal climate of ideas that helped it along and helped an utter miracle that I never expected as a kid, that this would all just go away with hardly any bloodshed at all.\\nThe rise of East Asia and the dramatic drop in global poverty rates was facilitated by neoliberal-inspired and -fortified free trade agreements that opened western markets and kept western markets open to rapidly rising and expanding Asian economies. So for the North Atlantic world, France called 1945 to 1975 the trente glorieuses, but for homo sapiens, I would say it was 1985 to 2015. The neoliberal era was the best era for the material betterment of our species that I think we\\u2019ve ever experienced.\\u00a0\\nSo it wasn\\u2019t all bad. But the wheel has turned, and the answers that neoliberalism had to problems aren\\u2019t lining up with the problems we\\u2019re facing. So we\\u2019re struggling now to get back on that road.\\nBrad DeLong: I would say that if you focus on what was the Global South in 1975, and if you say that everything that happened in the Global South from 1975 on up to 2020 is neoliberalism, then indeed neoliberalism is perhaps the best thing that ever happened to humanity. Even Africa appears to be getting its economic developmental act in gear after 2000, which is a wonderful thing to see. Cutting back on the state, betting on globalization, eliminating the license raj in India, eliminating the Maoist- and the Soviet-influenced central planning regime in China\\u2026 As my friend Yingi Xian says, when the histories are written in 2100 or 2200, they may well say that there was stuff going on in this restricted North Atlantic area before 1980, but that it was in 1980 that humanity picked itself off the mat and walked and that people managed to pull themselves out of dire poverty worldwide, largely because of a Hayek- and Friedman-inspired current of ideas, that the world needed to command-and-control and dominate less and crowdsource more.\\nYou have to have a footnote for East Asia, simply because in East Asia the idea that the government should step away from its developmental state role was a complete non-starter. East Asian governments leaned into the developmental state role massively and extraordinarily successfully. And you can argue about whether everything that happened in the Global South from 1980 to 2020 is properly called neoliberalism. It wouldn\\u2019t stand as a concept that originated in neoliberalism.\\nBrink Lindsey: I didn\\u2019t call their policies neoliberal. I said that the success of their policies hinged upon Western neoliberal free trade policies. You can\\u2019t have export-led growth from nothing.\\u00a0\\nBrad DeLong: Was it free trade policies that opened the United States to Asian markets, or was it the neocolonial origins of comparative development in the sense that the United States wanted countries near to non-Maoist China to be an enormous success?\\nBrink Lindsey: America\\u2019s historic conversion from protectionist to trade-liberalizing power occurred in a geopolitical context. It wasn\\u2019t driven by renewed appreciation of David Ricardo. But free-marketry on the right, where Republicans had historically been the protectionist party, was helpful, especially during all the stresses of deindustrialization in the \\u201880s, in keeping commitment to open markets intact.\\nBrad DeLong: Yes, yes, yes. The neoliberal thought currents were tremendously important in keeping America as an importer of last resort for the economies of East Asia and allowing them to become as fantastically rich as they are now. So I would say that both geopolitical and neoliberal currents of thought were very important in enabling East Asian growth. But the fact that the neoliberal currents did not penetrate East Asia to a sufficient degree to lead them to unwind their developmental states was important as well. But that\\u2019s a whole other podcast: The East Asian Miracle.\\nGeoff Kabaservice: Brad, you don\\u2019t in your book actually say what you think we ought to do going forward. But you did write a piece for Project Syndicate, I think in February of 2023, where you wrote: \\u201cNeoliberalism\\u2019s big problem was that it starved society of long-term investment, both in productivity-enhancing technology and in the vast majority of people. Social democracy\\u2019s problem was that most people did not want to be passive recipients of government benefits; rather, they wanted the social power to earn and hence to deserve their slice of the growing pie.\\u201d Do you think there\\u2019s any way to square this circle?\\u00a0\\nBrad DeLong: With smoke and mirrors? The idea of pre-distribution, that people in West Virginia and Tennessee vote 70% for Donald Trump because they do not want to be Medicaid recipients, they want a strong economy in which they can earn what they deserve and so be able to stand on their feet and buy health insurance, and that Donald Trump, by waging trade war on the Chinese and the Mexicans is going to create those jobs for them \\u2014\\u00a0that\\u2019s a powerful reason behind the catastrophic episodes of American misgovernance we saw between 2017 and 2020, and that may well return come 2025.\\nI would say if I were rewriting the book now, I would talk about how now the problem is that among the most important Polanyian rights people have to have is the right to be respected. If you\\u2019re respected in some way, rather than if you\\u2019re regarded by society (whether it\\u2019s the market or the government) as surplus garbage, then you will indeed have a much stronger, much more coherent, much happier, much more Utopian society.\\nBut we also do indeed need to make the long-term investments. And the problem is that a lot of long-term investments, their true benefit comes from the externalities they create: from the communities of engineering practice, from the social learning, from the technological blue-sky things. And in a kind of hard neoliberal world in which the only things you want to do are the things that are validated by the market, a huge amount of those investments simply will not be made.\\nIntel Corporation produced enormous profits for its shareholders between 2000 and 2020, but it\\u2019s producing enormous profits by squeezing every possible marginal dollar out of its existing semiconductor nodes and repurposing its equipment left it in a position in which 2020 comes along, and Intel has no plausible path forward to being a leading edge semiconductor manufacturer. Again, because the things they would\\u2019ve had to do in order to enable themselves to compete on level ground with the Taiwan Semiconductor Manufacturing Corporation, those things would not have produced profits for the bottom line, and they were indeed seen as potential wastes of money.\\nNow Intel is trying to figure out what the hell it is doing, and one of the problems is that a great many of the investments that its current CEO wants to make are things that, while they are overwhelmingly good for the technological community of semiconductor producers and engineers in America, it\\u2019s not at all clear they are going to produce any profits for Intel shareholders at all. And that\\u2019s a place where the more Hayekian train of thought poses enormous dangers.\\nNot, however, that our current political system has answers, because an awful lot of rent-seeking can sail under the banner of \\u201cThese are productive in long-term investments for the future.\\u201d Consider the ethanol program.\\nGeoff Kabaservice: True. Brad, there is a line toward the end of your book, which does seem to point the way forward. You write: \\u201cGovernments must manage and manage competently, at times with a heavy touch.\\u201d And Brink, of course, wrote the great Niskanen manifesto on state capacity and ways to improve government\\u2019s ability to execute what it does. And there have been a lot of other works coming out on this theme, such as Jennifer Pahlka\\u2019s book on Recoding America. And there\\u2019s even some evidence that in your home state of California, people are paying much more attention to the ways in which the California Environmental Quality Act and other things of that sort are really impeding the abundance that liberals say they want. Do you see a path forward along these state capacity lines?\\nBrad DeLong: I definitely hope so. Implementation is really hard. And quite frankly, I was appalled by the inability of the United States government to get its ass sufficiently in gear during the plague to do what we really ought to be doing. And that makes me fear that the state\\u2019s and, to some degree, the private capacity for us to pursue our self-interest rightly understood and to all pull together as a country really is not there to some degree.\\nBrink Lindsey: It was certainly the pandemic experience that was the major motivation for writing that paper and launching the State Capacity Project.\\nBrad DeLong: Yeah. I remember when Silicon Valley Bank was on the point of failure, my response the week before was, \\u201cOh, gee. They\\u2019ve made an awful lot of bad bets on U.S. Treasuries, which have produced this huge minus on their balance sheet. And yes, it is counterbalanced by the expected future capital gain from these bonds that they are holding to maturity, but will they be able to hold them to maturity?\\u201d And I thought, \\u201cWell, of course they will. They\\u2019ve spent 40 years doing a high-touch service business to Silicon Valley in banking, and they do need to be recapitalized.\\u201d But there are huge numbers of rich people in Silicon Valley, who have done an awful lot of business with Silicon Valley Bank over the past 40 years.\\nAnd so I expected Kleiner Perkins, I expected Andreessen Horowitz, I expected the billionaire barons, I expected Benioff, and I expected a couple of others to stand forward and say, \\u201cSilicon Valley Bank needs to be recapitalized. It\\u2019s a valuable part of our community, and we are willing to pony up a share for the recapitalization of Silicon Valley Bank, even though this may not be the best business deal for us personally. This is a valuable part of our community.\\u201d And it did not happen.\\nBrink Lindsey: Instead they yelled, \\u201cFire! Run for your lives!\\u201d\\nBrad DeLong: Instead, people yelled, \\u201cRun and pull your money out now!\\u201d And it turned out that precisely no one in Silicon Valley believed that Silicon Valley Bank\\u2019s high-touch social network of bankers who understood the industry and the sector was worth running any risks or worth committing any of their capital to making sure it survived \\u2014\\u00a0and this in an environment in which the big venture capital funds are looking for something to invest in other than crypto. But the idea that they might do what Jamie Dimon did for First Republic \\u2014\\u00a0to say, \\u201cWell, here\\u2019s $30 billion of deposits that you can hold to give you an extra cushion\\u201d \\u2014\\u00a0that they might do that was simply not on their radar screen.\\nAnd that was a shock to me. That was America working in a very different way than I thought it worked, and suggesting that functional societies are ones in which people think that they are on a team and that others have their back. Functional societies are one in which organizations and groups have what Ibn Khaldun called asabiyyah. And when you do not have asabiyyah\\u2026 Well, the bureaucracy can keep things running and the market can keep things running for quite a while, but when a crisis comes and unexpected unusual action is required, you suddenly find that it\\u2019s simply not there at all.\\nBrink Lindsey: A high-tech economy and a low-trust society are a combustible mix.\\nBrad DeLong: Yes, exactly.\\nGeoff Kabaservice: As sort of a last question, Brad\\u2026 You began your work on Slouching Towards Utopia by taking on Eric Hobsbawm\\u2019s vision of communism as the tragic hero of \\u201cthe short 20th century,\\u201d and in its place you put capitalism as the hero of \\u201cthe long 20th century.\\u201d But is capitalism a tragic hero, in your view?\\nBrad DeLong: No, it\\u2019s not a tragic hero. It\\u2019s the brooms in \\u201cThe Sorcerer\\u2019s Apprentice,\\u201d right? That\\u2019s what capitalism is. And you actually need to have the Sorcerer rather than Mickey Mouse in control in order for it to work effectively. I look outside and look around me, and what do I really need? Well, what I really need is a small personal jet copter with a landing pad next to the hot tub in the backyard, so if I want to get to L.A. in an hour to stay with my cousin in Malibu at the spur of the moment, I can do that. And what I actually want in material things is I would like to have an Apple Vision Pro headset now, and not next year or two years or five years from now.\\nCompared to a world in which primarily all of humanity has a difficult time finding its 2,000 calories a day plus essential nutrients, and spends genuinely hours a day thinking about how hungry we are and how nice it would be to have some more food today or tonight, I really am in Keynes\\u2019 world of Utopia where my problem is to live wisely and well, rather than to get more things to make my life easier or more interesting. And an awful lot of that is due to the fact that the market turns out to be an extraordinarily good mechanism at crowdsourcing humanity as an anthology intelligence to solve the problem of production. And that\\u2019s an enormous, enormous blessing.\\nAnd it\\u2019s not something that we can have without capitalism, though we do try to do things otherwise. We always have mixed institutions in some way. We always pull things together through a strange combination of barter and plan (being we have primary purposes and people have allegiance to it), and blat, influence, corruption, favor swaps, and so forth.\\nBut the market, as a way of giving people information, very simple information in the form of a price as to what kinds of things are worth producing right now \\u2014 it\\u2019s so great and so wonderful that that has such an enormous consonance, that that is a way of producing a society in which the free development of all is produced by the free development of each if you just tune market prices to what is socially valued and then let the thing rip. There\\u2019s nothing really tragic about that.\\nBut there is the Sorcerer\\u2019s Apprentice aspect. Do we really want it to do everything it does? Did we really want it to dismantle the great industrial research labs of the oligarchic manufacturing and distribution companies of America as they stood in 1980? So not tragic hero, but rather brooms in \\u201cThe Sorcerer\\u2019s Apprentice\\u201d is the way to, I think, view it.\\nGeoff Kabaservice: All right. Well, I can actually almost hear that music from Fantasia in my mind right now as we\\u2019re talking. Brad DeLong, congratulations again\\u2026\\nBrad DeLong: Thank you very much.\\nGeoff Kabaservice: Congratulations again on the publication of Slouching Towards Utopia, and thank you so much for joining us here today.\\nBrad DeLong: Okay, you are very welcome.\\nGeoff Kabaservice: And thank you all for listening to the Vital Center podcast. Please subscribe and rate us on your preferred podcasting platform. And if you have any questions, comments, or other responses, please include them along with your rating or send us an email at contact@niskanencenter.org. Thanks as always to our technical director, Kristie Eshelman, our sound engineer, Ray Ingenieri, and the Niskanen Center in Washington, D.C.\\nPhoto Credit: iStockThe post Slouching towards Utopia, with Brad DeLong first appeared on Niskanen Center.The post Slouching towards Utopia, with Brad DeLong appeared first on Niskanen Center.\",\n          \"\\nBetween 1998 and 2021 prices for \\u201cMedical Care Services\\u201d in the US (as measured by the BLS\\u2019s\\u00a0CPI for Medical Care Services) more than doubled (+132.2% increase) while the CPI for \\u201cHospital and Related Services\\u201d (data here) more than tripled (+230.4% increase), see the bottom two rows of the table above. Those increases in the costs of medical-related services compared to only a 66.2% increase in overall consumer prices over that period (BLS\\u00a0data here). On an annual basis, the costs of medical care services in the US have increased 3.6% per year since 1998 and the cost of hospital services increased annually by 5.1%. In contrast, overall inflation averaged only 2.1% annually over that period. The only consumer product or service that has increased more than medical care services and just slightly less than hospital costs over the last several decades is\\u00a0college tuition and fees, which have increased nearly 5.0% annually since 1998 for four-year public universities. \\n\\nOne of the reasons that the costs of medical care services in the US have increased more than twice as much as general consumer prices since 1998 is that a large and increasing share of medical costs are paid by third parties (private health insurance, Medicare, Medicaid, Department of Veterans Affairs, etc.) and only a small and shrinking percentage of health care costs are paid out-of-pocket by consumers. According to\\u00a0government data, almost half (47.1%) of health care expenditures in 1960 were paid by consumers out-of-pocket, and by 2020 (most recent year available) that share of expenditures has fallen to only 9.4% (see chart above). It\\u2019s no big surprise that overall health care costs have continued to rise over time as the share of third-party payments has risen to more than 90% and the out-of-pocket share has fallen below 10%. Consumers of health care have significantly reduced incentives to monitor prices and be cost-conscious buyers of medical and hospital services when they pay less than $1 themselves out of every $10 spent, and the incentives of medical care providers to hold costs down are greatly reduced knowing that their customers aren\\u2019t paying out-of-pocket and aren\\u2019t price sensitive.\\nHow would the market for medical services operate differently if prices were transparent and consumers were paying out-of-pocket for medical procedures in a competitive market? Well, we can look to the $14.6 billion US market for elective cosmetic surgery for some answers. Every year since 1997, the\\u00a0American Society for Aesthetic Plastic Surgery\\u00a0has issued an annual report on aesthetic procedures in the US (both surgical and nonsurgical) that includes the number of procedures, the average cost per procedure (starting in 1998), the total spending per procedure, and the age and gender distribution for each procedure. The 2021 report was released in April and is available\\u00a0here.\\nThe table above (click to enlarge) displays the 16 cosmetic procedures that were available and reported in both 1998 and 2021, the average prices for those procedures in each year (in current dollars), the number of each of those procedures performed in those two years, and the percent increase in the average price for each procedure between 1998 and 2021. The procedures are ranked by the number of cosmetic procedures last year. Here are some interesting findings from this year\\u2019s report and the table above:\\nOnly four of the 16 most popular cosmetic procedures (tummy tuck, eyelid surgery, facelift, and male breast reduction ) increased more than the overall 66% increase in the CPI between 1998 and 2021, while the other 12 procedures increased less than overall consumer prices. That means that four of the procedures increased in real inflation-adjusted dollars and the other 12 decreased in real, inflation-adjusted constant dollars.For four of the most popular nonsurgical procedures in 2021 \\u2013 botox injections, laser hair removal, laser skin resurfacing, and chemical peel \\u2014 the nominal prices in current dollars have actually fallen over the last 22 years, by 3.5% for botox injections (from $424 to $409), by 24.7% for chemical peel (from $821 to $618), by 63% for laser hair removal (from $452 to $167) and by 47% for laser skin resurfacing (from $2,276 to $1,199). When a price in nominal, current dollars is lower in 2021 than in 1998, that means that the real prices of those procedures have decreased significantly. For example, the cost of laser hair removal in 1998 ($452) expressed in 2021 dollars ($753) means that the price last year of only $166 was 78% lower adjusted for inflation. Likewise, the real price of botox injections fell by 42.1% in inflation-adjusted dollars, laser skin resurfacing fell by 68.4%, and the price of chemical peel fell by 54.8%. The unweighted\\u00a0average price increase between 1998 and 2021 for the 16 aesthetic procedures displayed above was 31.3%, which is less than half of the 66.2% increase in consumer prices in general over the last 23 years. When the average procedure prices are weighted by the spending on each procedure last year, the average price increase since 1998 was 38.2%. And most importantly,\\u00a0none of the 16 aesthetic procedures in the table above have increased in price by anywhere close to the 132% increase in the price of medical care services or the 230% increase in hospital services since 1998.\\u00a0The largest aesthetic procedure price increases since 1998 is the 86.5% increase for facelifts, which is still way below the more than doubling of prices for medical services overall and the more than three-fold increase in the CPI for hospital services.The Aesthetic Society doesn\\u2019t provide a detailed breakdown of aesthetic procedures by gender, but it did provide the number of procedures for the top six most popular procedures for women (liposuction, breast augmentation, tummy tuck, breast lifts, breast implant removals, and eyelid surgery) that totaled just under 1.5 million and the top six procedures for men (liposuction, breast reduction, eyelid surgery, nose surgery, tummy tuck, and face lift) totaling 94,844. Based on those figures, women accounted for about 94% of aesthetic procedures and men only 6%, which is consistent with the gender breakdown in past years based on more comprehensive data (and also consistent with the gender shares highlighted in the report). \\nMP:\\u00a0The competitive market for aesthetic plastic surgery operates differently than the traditional market for health care in important and significant ways. Cosmetic procedures, unlike most medical services, are not usually covered by insurance. Patients typically paying 100% out-of-pocket for elective aesthetic procedures are cost-conscious and have strong incentives to shop around and compare prices at the dozens of competing providers in any large city. Providers operate in a very competitive market with transparent pricing and therefore have incentives to provide cosmetic procedures at competitive prices. Those providers are also less burdened and encumbered by the bureaucratic paperwork that is typically involved with the provision of most standard medical care with third-party payments. Because of the price transparency and market competition that characterizes the market for cosmetic procedures, the prices of most cosmetic procedures have fallen in real terms since 1998, and some non-surgical procedures have even fallen in nominal dollars before adjusting for inflation. In all cases, cosmetic procedures have increased in price by far less than the 132% increase in the price of medical care services between 1998 and 2021 and the 230% increase in prices for hospital services. In summary, the market for cosmetic surgery operates very much like other competitive markets with the same expected results: falling prices over time for most aesthetic plastic surgery procedures.\\nQuestion: If aesthetic plastic surgery procedures were covered by third-party payers like insurance companies, Medicare, and Medicaid, what would have happened to their prices over time? Basic economics tells us that those real prices would have risen over time, possibly somewhere close to the same 132% increase in the prices of medical services in general between 1998 and 2021. The main economic lesson here is that the greater the degree of market competition, price transparency, and out-of-pocket payments, the more constrained prices are, in health care or any other sector of the economy. Another important economic lesson is that the greater the degrees of government intervention, opaque prices, and third-party payments, the less constrained prices are, in health care or any other sector of the economy. Some important economic lessons to keep in mind as we consider various reforms for national health care, including proposals by Bolshevik Bernie Sanders for single-payer \\u201cMedicare for All\\u201d because \\u201chealth care is a human right, not a privilege.\\u201d\\nThe post What economic lessons about health care costs can we learn from the competitive market for aesthetic plastic surgery? appeared first on American Enterprise Institute - AEI.\",\n          \"It was a day of firsts.\\nHarvard President Claudine Gay welcomed the Class of 2027 and exhorted them to lean into the journey that brought them to the present moment and gear up for the transformations that await them in the next four years.\\n\\u201cLet your joy and your pride win out,\\u201d said Gay, Ph.D. \\u201998, who spoke at Tercentenary Theatre on Monday afternoon in the annual Convocation ceremony, officially marking the entry of first-year students into the Harvard community. \\u201cEach of you deserves it. Each of you has earned it. Each of you belongs here.\\n\\u201cEach of you will make Harvard stronger and better by being who you are, by sharing your perspective, and by contributing to our mission,\\u201d she said. \\u201cI know this because I have seen it myself. Year after year, as a faculty member, I witnessed extraordinary transformations in students, profound shifts in understanding and awareness across every dimension of being.\\u201d\\nYesterday was also an extra special Convocation for Gay, marking her first as president of Harvard. Gay succeeded Larry Bacow, who stepped down in June, after serving as Edgerley Family Dean of the Faculty of Arts and Sciences from 2018. Gay, who was also Wilbur A. Cowett Professor of Government and a professor of African and African-American studies, urged the students to be prepared to overcome feelings of self-doubt that may arise at times during their undergraduate years.\\nShe noted such insecurities are difficult to avoid, recounting an incident that took place when she was a child. At the age of 11 she began to feel painfully \\u201cinsufficient\\u201d because she lacked a middle name. She feared being thus incomplete might somehow preclude her from \\u201cthe possibility of reinvention.\\u201d When Gay turned to her parents for advice, they simply responded: \\u201cYour name is enough.\\u201d\\n\\u201cI turned those four words over in my mind, and they have stayed with me all these years, a powerful statement about my inheritance, my identity, and my capacity,\\u201d said Gay. \\u201cSometimes, even now, even as president, when I am pushing a pen across paper and signing my name, those four words surface in my mind.\\u201d\\n\\u201cAt some point between now and Commencement \\u2014 probably at several points between now and your Commencement \\u2014 you will feel insufficient. Despite knowing better, you will feel as if everyone around you knows exactly what is going on, as if everyone around you understands something you do not, sees something that you do not. When that happens, I hope you remember this story \\u2014 and my parents\\u2019 wisdom.\\u201d\\nIn closing Gay asked students to be willing to be transformed by Harvard by exploring who they are and who they want to become. \\u201cYou have been given a name, and that is all that you need, but from this day forward you will make a name for yourself,\\u201d she said.\\n\\u201cWho can you be? Who will you be?\\u2019 said Gay. \\u201cThese are the questions that you will consider alongside your classmates; in conversation with faculty, proctors, tutors, and deans; and in connection to your own learning and scholarship.\\n\\n\\n\\n\\n\\n \\n\\n\\n\\n \\n\\n\\n\\nRakesh Khurana, Danoff Dean of Harvard College, encourages students to make the best of their Harvard education by being \\u201copen to transformation\\u201d and \\u201ccommit to something beyond yourself.\\u201d John Cooke \\u201925 (left) and Shikoh Hirabayashi \\u201925 welcome the Class of 2027.\\n\\n\\n\\n\\n\\n\\n\\u201cTake notice of work and ideas that energize and fulfill you. Take notice of your joy and your satisfaction. Take nothing for granted. Be willing to reconsider assumptions for the sake of your present happiness, but also for future contentment.\\u201d\\nAlong with Gay, other University officials took part in the ceremony to salute the newest members of the Harvard community, including Thomas Dunne, dean of students at Harvard College; Amanda Claybaugh, Ph.D. \\u201901, dean of undergraduate education, Samuel Zemurray Jr. and Doris Zemurray Stone Radcliffe Professor of English. Representing students were Harvard Undergraduate Association co-presidents John Cooke \\u201925 and Shikoh Hirabayashi \\u201925.\\nRakesh Khurana, A.M. \\u201997, Ph.D.\\u201998, Martin Bower Professor of Leadership at the Harvard Business School, professor of sociology in the Faculty of Arts and Sciences, and Danoff Dean of Harvard College, encouraged students to make the best of their Harvard education by being \\u201copen to transformation\\u201d and \\u201ccommit[ting] to something beyond yourself.\\u201d\\n\\u201cCollege is not a stop on the way to the rest of your life,\\u201d he said. \\u201cThis is your life. And these four years of College are where the patterns for your lives will be set. If you spend these years taking no chances, reinforcing your beliefs, deferring any reflection on who you are and what you want, you will be doing the same thing in 20 years.\\n\\u201cIn embracing your own transformation, you will be embracing the best that a liberal arts education has to offer,\\u201d said Khurana. \\u201cTo embrace your own transformation may sound like a selfish pursuit when there is so much work to be done in our world. But it is the only way forward. We can only begin to change the world if we are open to changing ourselves.\\u201d\"\n        ],\n        \"semantic_type\": \"\",\n        \"description\": \"\"\n      }\n    },\n    {\n      \"column\": \"url\",\n      \"properties\": {\n        \"dtype\": \"string\",\n        \"num_unique_values\": 3275,\n        \"samples\": [\n          \"https://www.economist.com/culture/2022/04/16/radhika-khimji-and-the-art-of-freedom\",\n          \"https://sciencebasedmedicine.org/15-years-of-sbm/\",\n          \"https://reason.com/?p=8208392\"\n        ],\n        \"semantic_type\": \"\",\n        \"description\": \"\"\n      }\n    },\n    {\n      \"column\": \"categories\",\n      \"properties\": {\n        \"dtype\": \"category\",\n        \"num_unique_values\": 1,\n        \"samples\": [\n          \"['news']\"\n        ],\n        \"semantic_type\": \"\",\n        \"description\": \"\"\n      }\n    }\n  ]\n}"
            }
          },
          "metadata": {},
          "execution_count": 25
        }
      ],
      "source": [
        "df.head()"
      ]
    },
    {
      "cell_type": "code",
      "execution_count": null,
      "metadata": {
        "id": "QSOiVXVxekH_"
      },
      "outputs": [],
      "source": [
        "path= 'data/df_embed.csv'\n",
        "loader = CSVLoader(file_path=path,source_column=\"title\")\n",
        "\n",
        "data = loader.load()"
      ]
    },
    {
      "cell_type": "code",
      "execution_count": null,
      "metadata": {
        "id": "Q2dWBLgyEy_n",
        "colab": {
          "base_uri": "https://localhost:8080/"
        },
        "outputId": "d75e17c8-814a-4123-e1a8-e41217379f98"
      },
      "outputs": [
        {
          "output_type": "stream",
          "name": "stdout",
          "text": [
            "page_content='_id: 63927168098523fa9d5ef047\n",
            "title: Are The Democrats Screwed In The Senate After 2024?\n",
            "author: Nate Silver\n",
            "description: Are The Democrats Screwed In The Senate After 2024?\n",
            "No, but the party faces an uphill battlee\n",
            "\n",
            "\n",
            "I’m not that impressed by long-term projections of Democratic doom in the Senate. Mostly that’s because I’m not that impressed by long-term political projections in general. Political coalitions change; not many people would have had it on their bingo card that Democrats would obtain a Senate majority in 2020 by winning two runoffs in Georgia, and then would actually expand on that majority in 2022 following another runoff in Georgia despite their party controlling the White House.\n",
            "With that said, while I don’t think we can say very much about what politics will look like 10 or 20 years from now, a medium-term look-ahead is possible. Do Democrats have a reasonable hope of regaining a trifecta — control of the House, Senate and presidency — at any point in the near future (2024, 2026 or 2028)? And how long will they hold onto control of the Senate and the presidency, allowing them to appoint Supreme Court justices without Republican help?\n",
            "My colleague Geoffrey Skelley already took an initial look at the 2024 Senate map, which is bad for Democrats, but I wanted to dig slightly deeper and also consider 2026 and 2028. Like Geoffrey, I’ll be focused on the Senate, because that’s the weakest link in Democrats’ effort to win back the trifecta. Despite some disadvantages in the Electoral College, Democrats obviously have no trouble winning the presidency. And they nearly held onto the House this year despite losing the popular vote for the House. The current House map doesn’t have much — if any — of a Republican skew, and Democrats should be able to win back the House if the national political environment is reasonably good for them.\n",
            "So let’s look at the 2024, 2026 and 2028 Senate maps (yes, 2028 features the same map as the midterm we just finished; I just can’t let go, I guess). We’ll classify races into bronze, silver, gold and platinum “tiers” in terms of how feasible they are as pickup opportunities. I’m deliberately using this goofy metallurgical theme as opposed to the categories FiveThirtyEight typically uses (e.g., “toss-up,” “lean Republican”) so you’ll recognize these as being back-of-the-envelope suppositions rather than any sort of official race ratings. \n",
            "In general, these ratings lean heavily on looking at how close a race was the last time it was contested, with some subjective adjustments for candidate quality. I’m also considering how the electoral environment has shifted within the state — Florida has gotten redder since Rick Scott was elected in 2018, for instance — although it is definitely not always safe to assume a state will continue trending in the same direction.\n",
            "2024\n",
            "Republican pickup opportunities\n",
            "Platinum tier: West Virginia (Manchin), Montana (Tester), Ohio (Brown), \n",
            "Gold tier: Arizona (Sinema), Nevada (Rosen)\n",
            "Silver tier: Wisconsin (Baldwin), Michigan (Stabenow), Pennsylvania (Casey)\n",
            "Bronze tier: New Jersey (Menendez), Virginia (Kaine)\n",
            "As Geoffrey noted, the platinum-tier states listed here are the Democrats’ main problem. They have three senators up for reelection in states that Donald Trump carried by 8 (Ohio), 16 (Montana) and 39 (West Virginia!) percentage points in 2020. Each of those Democratic senators won reelection in 2018, of course, but that was a strong Democratic year, and there’s been further movement of white voters without college degrees — a key part of the electorate in these states — toward Republicans since then. \n",
            "I don’t want to focus too much on any one individual race, but it’s probably safe to assume that Joe Manchin has the toughest reelection campaign of all. Meanwhile, maybe Sherrod Brown can feel a bit more comfortable following Tim Ryan’s relatively good performance in Ohio this year, but Ryan did lose, and Brown may face a tougher opponent than Ryan did in J.D. Vance. Democrats also run the risk of retirements here; neither Manchin nor Jon Tester has officially yet announced they will seek reelection.\n",
            "Beyond the platinum tier, Democrats face some other risks. Kyrsten Sinema is likely to face a serious primary challenge. Democrats keep winning close races for Congress in Nevada but it’s a very purple state. Tammy Baldwin, Debbie Stabenow and Bob Casey won by fairly comfortable margins in 2018 and will likely be fine in the event of a decent-to-good Democratic year, but if 2024 turns into a good Republican year, they could be in trouble.\n",
            "Democratic pickup opportunities\n",
            "Platinum tier: None\n",
            "Gold tier: None\n",
            "Silver tier: Texas (Cruz), Florida (Scott)\n",
            "Bronze tier: None\n",
            "Conversely, it’s very slim pickings for Democrats. On paper, you’d think that Texas might be close — Ted Cruz won by less than 3 percentage points there in 2018 and Texas is more competitive than it once was — but the erosion of the Democratic vote in South Texas has prevented Texas from turning truly purple. And although Scott won by only 0.12 percentage points in 2018, Republicans did so well in Florida in 2020 and 2022 that I was tempted to demote his race all the way to the bronze tier. Plus, there’s a good chance that the GOP’s 2024 nominee will be either Florida Gov. Ron DeSantis or Florida resident Donald Trump, which could help drive Republican turnout.\n",
            "Beyond that, any other races look like an extreme stretch for Democrats. Maybe Josh Hawley in Missouri could be vulnerable in a 2018-type environment, but that’s less likely in a presidential year and Hawley’s approval rating isn’t that bad. Put him in the “honorable mention” tier, I guess.\n",
            "Given all this, I’d imagine the modal outcome from 2024 is something like Republicans picking up about three Senate seats. There’s uncertainty around that; it’s surely within the realm of possibility that Democrats hold the Senate, but it’s also possible that Republicans could wind up with 54 or 55 seats. And of course, all of these races are correlated. If the GOP is doing well enough to win the presidency in 2024, they should have no trouble also winning the Senate.9\n",
            "2026\n",
            "Republican pickup opportunities \n",
            "Platinum tier: None\n",
            "Gold tier: Georgia (Ossoff), Michigan (Peters)\n",
            "Silver tier: New Hampshire (Shaheen)\n",
            "Bronze tier: Minnesota (Smith), Virginia (Warner)\n",
            "The 2026 map is more balanced. Democrats undoubtedly feel pretty good about how they’ve performed in Georgia and Michigan in the past two cycles, but Jon Ossoff and Gary Peters won by extremely narrow margins in 2020 and it would be a mistake to assume they’re safe. It’s not a particularly deep set of pickup opportunities for Republicans, though if Democrats retain the presidency in 2024, you’d expect Republicans to have good midterms in 2026, and New Hampshire and perhaps even Minnesota and Virginia could potentially be in play. \n",
            "Democratic pickup opportunities \n",
            "Platinum tier: None\n",
            "Gold tier: Maine (Collins), North Carolina (Tillis)\n",
            "Silver tier: Alaska (Sullivan)\n",
            "Bronze tier: Texas (Cornyn), Iowa (Ernst)\n",
            "Meanwhile, Democrats will try again in the two states that were most disappointing to them in 2020: Maine and North Carolina. Given all the focus on Georgia, I wonder if North Carolina hasn’t become underrated as a place where Democrats could gain ground in the future; the states are fairly similar demographically and it wouldn’t take that much of a shift for Democrats to go from narrowly losing races in North Carolina to narrowly winning them. Susan Collins will be 74 years old in 2026, meanwhile, an age at which there’s typically some chance of retirement.\n",
            "Democrats also have a below-the-radar pickup opportunity in Alaska, where Mary Peltola was elected to a full term in the U.S. House10 last month by a 10-point margin after ranked-choice votes were tabulated. GOP incumbent Dan Sullivan has a mediocre approval rating and a Peltola-Sullivan race would potentially be competitive.\n",
            "Suppose, though, that Democrats win the presidency but lose the Senate in 2024. It’s really not as crazy as it sounds. If every state votes identically to how it did in the 2020 presidential election — and every Senate race follows the presidential vote — then Democrats would come out of 2024 with the presidency but only 48 Senate seats after losing West Virginia, Montana and Ohio. Could Democrats pick up two Senate seats from the GOP in the 2026 midterm while controlling the presidency? Unlikely — but then again, Democrats gaining Senate seats this year seemed unlikely and they did it.\n",
            "2028\n",
            "Republican pickup opportunities\n",
            "Platinum tier: None\n",
            "Gold tier: Nevada (Cortez Masto), Pennsylvania (Fetterman), Arizona (Kelly), Georgia (Warnock) \n",
            "Silver tier: New Hampshire (Hassan)\n",
            "Bronze tier: Oregon (Wyden)\n",
            "All right, now we’re literally coming full circle to consider the races that were just contested in last month’s midterm. So we’ll keep it pretty brief. Yes, Democrats have to feel pretty good about their wins in Nevada, Pennsylvania, Arizona and Georgia — especially given that the overall political environment wasn’t that great for Democrats this year. But they were narrow wins, and (with the possible exception of Nevada) they came against a mediocre set of GOP opponents. Maybe some of these races are toward the silver end of the gold tier, but more likely than not they’ll be competitive again.\n",
            "And since we’re projecting a full six years out, I’m going to be a little bit more creative about considering long-shot opportunities in the bronze tier. Although the Senate races in Washington and Colorado received attention this year (Republicans spent a lot of money on both, only to lose by double digits), they wound up coming just as close in Oregon with a QAnon candidate as part of a comparatively strong year for the GOP in the Beaver State. Could a more mainstream GOP nominee have made it a race? Oregon is quite white, it has fewer people with college degrees than the “Portlandia” stereotype might make you assume, and Democratic incumbent Ron Wyden will be 79 years old in 2028 …\n",
            "Democratic pickup opportunities\n",
            "Platinum tier: None\n",
            "Gold tier: Wisconsin (Johnson), North Carolina (Budd)\n",
            "Silver tier: Vance (Ohio)\n",
            "Bronze tier: Alaska (Murkowski), Florida (Rubio), Utah (Lee), Iowa (Grassley)\n",
            "Again, we’re mostly just rehashing this year’s map. Ron Johnson, who originally hadn’t planned on running in 2020, is another retirement threat in 2026 — and he barely won reelection anyway. In Ohio, Sherrod Brown could seek to return to the Senate if he loses in 2024 by challenging J.D. Vance. And 2028 is far enough from now that I wouldn’t want to rule out Democrats being competitive in states as far-flung as Utah, where independent Evan McMullin ran a fairly competitive race against Mike Lee this year.\n",
            "\n",
            "Even with an additional senator going into 2023, the 2024 map is still so bad for Democrats that keeping the Senate for years to come will be a fairly tough order. The party’s prospects might rest more upon limiting the damage in 2024 so that it has a chance to regain the Senate in 2026 or 2028. But a bad 2024 could make it very difficult for Democrats to regain the Senate before 2030 or 2032.\n",
            "That bleak picture may shape the next few years of political maneuvering. When Vox’s Dylan Matthews suggested on Twitter that liberal Justices Sonia Sotomayor (age 68) and Elena Kagan (age 62) should retire while Democrats have their Senate majority and be replaced by younger justices, it didn’t go over well. But it’s a perfectly rational suggestion if Democrats don’t feel like gambling with their judicial future. (Consider how consequential Ruth Bader Ginsburg’s decision not to retire has been for liberals.) Democrats have a narrow path to Senate control after 2024, but it’s narrow indeed, and one that might require the GOP continuing to nominate bad candidates — and a fair share of luck.\n",
            "publish_date: 1670515535000.0\n",
            "full_text: 2028 Election\n",
            "Are The Democrats Screwed In The Senate After 2024?\n",
            "No, but the party faces an uphill battle.\n",
            "\n",
            "\n",
            "\n",
            "By Nate Silver\n",
            "\n",
            "\n",
            "Dec. 8, 2022, at 11:05 AM\t\n",
            "\n",
            "\n",
            "\n",
            "\n",
            "\n",
            "\n",
            "\n",
            "\n",
            "\n",
            "\n",
            "\n",
            "\n",
            "\n",
            "\n",
            "\n",
            "\n",
            "\n",
            "Samuel Corum / Getty Images\n",
            "\n",
            "\n",
            "\n",
            "\n",
            "I’m not that impressed by long-term projections of Democratic doom in the Senate. Mostly that’s because I’m not that impressed by long-term political projections in general. Political coalitions change; not many people would have had it on their bingo card that Democrats would obtain a Senate majority in 2020 by winning two runoffs in Georgia, and then would actually expand on that majority in 2022 following another runoff in Georgia despite their party controlling the White House.\n",
            "With that said, while I don’t think we can say very much about what politics will look like 10 or 20 years from now, a medium-term look-ahead is possible. Do Democrats have a reasonable hope of regaining a trifecta — control of the House, Senate and presidency — at any point in the near future (2024, 2026 or 2028)? And how long will they hold onto control of the Senate and the presidency, allowing them to appoint Supreme Court justices without Republican help?\n",
            "My colleague Geoffrey Skelley already took an initial look at the 2024 Senate map, which is bad for Democrats, but I wanted to dig slightly deeper and also consider 2026 and 2028. Like Geoffrey, I’ll be focused on the Senate, because that’s the weakest link in Democrats’ effort to win back the trifecta. Despite some disadvantages in the Electoral College, Democrats obviously have no trouble winning the presidency. And they nearly held onto the House this year despite losing the popular vote for the House. The current House map doesn’t have much — if any — of a Republican skew, and Democrats should be able to win back the House if the national political environment is reasonably good for them.\n",
            "So let’s look at the 2024, 2026 and 2028 Senate maps (yes, 2028 features the same map as the midterm we just finished; I just can’t let go, I guess). We’ll classify races into bronze, silver, gold and platinum “tiers” in terms of how feasible they are as pickup opportunities. I’m deliberately using this goofy metallurgical theme as opposed to the categories FiveThirtyEight typically uses (e.g., “toss-up,” “lean Republican”) so you’ll recognize these as being back-of-the-envelope suppositions rather than any sort of official race ratings. \n",
            "In general, these ratings lean heavily on looking at how close a race was the last time it was contested, with some subjective adjustments for candidate quality. I’m also considering how the electoral environment has shifted within the state — Florida has gotten redder since Rick Scott was elected in 2018, for instance — although it is definitely not always safe to assume a state will continue trending in the same direction.\n",
            "2024\n",
            "Republican pickup opportunities\n",
            "Platinum tier: West Virginia (Manchin), Montana (Tester), Ohio (Brown), \n",
            "Gold tier: Arizona (Sinema), Nevada (Rosen)\n",
            "Silver tier: Wisconsin (Baldwin), Michigan (Stabenow), Pennsylvania (Casey)\n",
            "Bronze tier: New Jersey (Menendez), Virginia (Kaine)\n",
            "As Geoffrey noted, the platinum-tier states listed here are the Democrats’ main problem. They have three senators up for reelection in states that Donald Trump carried by 8 (Ohio), 16 (Montana) and 39 (West Virginia!) percentage points in 2020. Each of those Democratic senators won reelection in 2018, of course, but that was a strong Democratic year, and there’s been further movement of white voters without college degrees — a key part of the electorate in these states — toward Republicans since then. \n",
            "I don’t want to focus too much on any one individual race, but it’s probably safe to assume that Joe Manchin has the toughest reelection campaign of all. Meanwhile, maybe Sherrod Brown can feel a bit more comfortable following Tim Ryan’s relatively good performance in Ohio this year, but Ryan did lose, and Brown may face a tougher opponent than Ryan did in J.D. Vance. Democrats also run the risk of retirements here; neither Manchin nor Jon Tester has officially yet announced they will seek reelection.\n",
            "Beyond the platinum tier, Democrats face some other risks. Kyrsten Sinema is likely to face a serious primary challenge. Democrats keep winning close races for Congress in Nevada but it’s a very purple state. Tammy Baldwin, Debbie Stabenow and Bob Casey won by fairly comfortable margins in 2018 and will likely be fine in the event of a decent-to-good Democratic year, but if 2024 turns into a good Republican year, they could be in trouble.\n",
            "Democratic pickup opportunities\n",
            "Platinum tier: None\n",
            "Gold tier: None\n",
            "Silver tier: Texas (Cruz), Florida (Scott)\n",
            "Bronze tier: None\n",
            "Conversely, it’s very slim pickings for Democrats. On paper, you’d think that Texas might be close — Ted Cruz won by less than 3 percentage points there in 2018 and Texas is more competitive than it once was — but the erosion of the Democratic vote in South Texas has prevented Texas from turning truly purple. And although Scott won by only 0.12 percentage points in 2018, Republicans did so well in Florida in 2020 and 2022 that I was tempted to demote his race all the way to the bronze tier. Plus, there’s a good chance that the GOP’s 2024 nominee will be either Florida Gov. Ron DeSantis or Florida resident Donald Trump, which could help drive Republican turnout.\n",
            "Beyond that, any other races look like an extreme stretch for Democrats. Maybe Josh Hawley in Missouri could be vulnerable in a 2018-type environment, but that’s less likely in a presidential year and Hawley’s approval rating isn’t that bad. Put him in the “honorable mention” tier, I guess.\n",
            "Given all this, I’d imagine the modal outcome from 2024 is something like Republicans picking up about three Senate seats. There’s uncertainty around that; it’s surely within the realm of possibility that Democrats hold the Senate, but it’s also possible that Republicans could wind up with 54 or 55 seats. And of course, all of these races are correlated. If the GOP is doing well enough to win the presidency in 2024, they should have no trouble also winning the Senate.9\n",
            "2026\n",
            "Republican pickup opportunities \n",
            "Platinum tier: None\n",
            "Gold tier: Georgia (Ossoff), Michigan (Peters)\n",
            "Silver tier: New Hampshire (Shaheen)\n",
            "Bronze tier: Minnesota (Smith), Virginia (Warner)\n",
            "The 2026 map is more balanced. Democrats undoubtedly feel pretty good about how they’ve performed in Georgia and Michigan in the past two cycles, but Jon Ossoff and Gary Peters won by extremely narrow margins in 2020 and it would be a mistake to assume they’re safe. It’s not a particularly deep set of pickup opportunities for Republicans, though if Democrats retain the presidency in 2024, you’d expect Republicans to have good midterms in 2026, and New Hampshire and perhaps even Minnesota and Virginia could potentially be in play. \n",
            "Democratic pickup opportunities \n",
            "Platinum tier: None\n",
            "Gold tier: Maine (Collins), North Carolina (Tillis)\n",
            "Silver tier: Alaska (Sullivan)\n",
            "Bronze tier: Texas (Cornyn), Iowa (Ernst)\n",
            "Meanwhile, Democrats will try again in the two states that were most disappointing to them in 2020: Maine and North Carolina. Given all the focus on Georgia, I wonder if North Carolina hasn’t become underrated as a place where Democrats could gain ground in the future; the states are fairly similar demographically and it wouldn’t take that much of a shift for Democrats to go from narrowly losing races in North Carolina to narrowly winning them. Susan Collins will be 74 years old in 2026, meanwhile, an age at which there’s typically some chance of retirement.\n",
            "Democrats also have a below-the-radar pickup opportunity in Alaska, where Mary Peltola was elected to a full term in the U.S. House10 last month by a 10-point margin after ranked-choice votes were tabulated. GOP incumbent Dan Sullivan has a mediocre approval rating and a Peltola-Sullivan race would potentially be competitive.\n",
            "Suppose, though, that Democrats win the presidency but lose the Senate in 2024. It’s really not as crazy as it sounds. If every state votes identically to how it did in the 2020 presidential election — and every Senate race follows the presidential vote — then Democrats would come out of 2024 with the presidency but only 48 Senate seats after losing West Virginia, Montana and Ohio. Could Democrats pick up two Senate seats from the GOP in the 2026 midterm while controlling the presidency? Unlikely — but then again, Democrats gaining Senate seats this year seemed unlikely and they did it.\n",
            "2028\n",
            "Republican pickup opportunities\n",
            "Platinum tier: None\n",
            "Gold tier: Nevada (Cortez Masto), Pennsylvania (Fetterman), Arizona (Kelly), Georgia (Warnock) \n",
            "Silver tier: New Hampshire (Hassan)\n",
            "Bronze tier: Oregon (Wyden)\n",
            "All right, now we’re literally coming full circle to consider the races that were just contested in last month’s midterm. So we’ll keep it pretty brief. Yes, Democrats have to feel pretty good about their wins in Nevada, Pennsylvania, Arizona and Georgia — especially given that the overall political environment wasn’t that great for Democrats this year. But they were narrow wins, and (with the possible exception of Nevada) they came against a mediocre set of GOP opponents. Maybe some of these races are toward the silver end of the gold tier, but more likely than not they’ll be competitive again.\n",
            "And since we’re projecting a full six years out, I’m going to be a little bit more creative about considering long-shot opportunities in the bronze tier. Although the Senate races in Washington and Colorado received attention this year (Republicans spent a lot of money on both, only to lose by double digits), they wound up coming just as close in Oregon with a QAnon candidate as part of a comparatively strong year for the GOP in the Beaver State. Could a more mainstream GOP nominee have made it a race? Oregon is quite white, it has fewer people with college degrees than the “Portlandia” stereotype might make you assume, and Democratic incumbent Ron Wyden will be 79 years old in 2028 …\n",
            "Democratic pickup opportunities\n",
            "Platinum tier: None\n",
            "Gold tier: Wisconsin (Johnson), North Carolina (Budd)\n",
            "Silver tier: Vance (Ohio)\n",
            "Bronze tier: Alaska (Murkowski), Florida (Rubio), Utah (Lee), Iowa (Grassley)\n",
            "Again, we’re mostly just rehashing this year’s map. Ron Johnson, who originally hadn’t planned on running in 2020, is another retirement threat in 2026 — and he barely won reelection anyway. In Ohio, Sherrod Brown could seek to return to the Senate if he loses in 2024 by challenging J.D. Vance. And 2028 is far enough from now that I wouldn’t want to rule out Democrats being competitive in states as far-flung as Utah, where independent Evan McMullin ran a fairly competitive race against Mike Lee this year.\n",
            "\n",
            "Even with an additional senator going into 2023, the 2024 map is still so bad for Democrats that keeping the Senate for years to come will be a fairly tough order. The party’s prospects might rest more upon limiting the damage in 2024 so that it has a chance to regain the Senate in 2026 or 2028. But a bad 2024 could make it very difficult for Democrats to regain the Senate before 2030 or 2032.\n",
            "That bleak picture may shape the next few years of political maneuvering. When Vox’s Dylan Matthews suggested on Twitter that liberal Justices Sonia Sotomayor (age 68) and Elena Kagan (age 62) should retire while Democrats have their Senate majority and be replaced by younger justices, it didn’t go over well. But it’s a perfectly rational suggestion if Democrats don’t feel like gambling with their judicial future. (Consider how consequential Ruth Bader Ginsburg’s decision not to retire has been for liberals.) Democrats have a narrow path to Senate control after 2024, but it’s narrow indeed, and one that might require the GOP continuing to nominate bad candidates — and a fair share of luck.\n",
            "url: https://fivethirtyeight.com/features/democrats-senate-chances-2024-and-beyond/\n",
            "categories: ['news']' metadata={'source': 'Are The Democrats Screwed In The Senate After 2024?', 'row': 0}\n"
          ]
        }
      ],
      "source": [
        "print(data[0])"
      ]
    },
    {
      "cell_type": "code",
      "execution_count": null,
      "metadata": {
        "colab": {
          "base_uri": "https://localhost:8080/"
        },
        "id": "9OlS2Kx8FlVx",
        "outputId": "147a0d41-c0c6-404d-98ab-508193f336d3"
      },
      "outputs": [
        {
          "output_type": "stream",
          "name": "stdout",
          "text": [
            "You have 100 document(s) in your data\n",
            "There are 23887 words in your first document\n"
          ]
        }
      ],
      "source": [
        "print (f'You have {len(data)} document(s) in your data')\n",
        "print (f'There are {len(data[0].page_content)} words in your first document')"
      ]
    },
    {
      "cell_type": "markdown",
      "source": [
        "2. Breakdown data - Chunking Process"
      ],
      "metadata": {
        "id": "Vm0lO--f80NZ"
      }
    },
    {
      "cell_type": "code",
      "source": [
        "%pip install -qU langchain-text-splitters"
      ],
      "metadata": {
        "id": "5DFs6v5RdCef"
      },
      "execution_count": null,
      "outputs": []
    },
    {
      "cell_type": "code",
      "source": [
        "from langchain_text_splitters import RecursiveCharacterTextSplitter"
      ],
      "metadata": {
        "id": "VhROBDAldFcT"
      },
      "execution_count": null,
      "outputs": []
    },
    {
      "cell_type": "code",
      "execution_count": null,
      "metadata": {
        "id": "FOUcWZF3Gk8n"
      },
      "outputs": [],
      "source": [
        "text_splitter = RecursiveCharacterTextSplitter(chunk_size=1000, chunk_overlap=100)\n",
        "texts = text_splitter.split_documents(data)"
      ]
    },
    {
      "cell_type": "code",
      "execution_count": null,
      "metadata": {
        "colab": {
          "base_uri": "https://localhost:8080/"
        },
        "id": "xdJDpvcBGnp3",
        "outputId": "00a3e1cd-acb0-48a4-8a73-38a8d2b28ba4"
      },
      "outputs": [
        {
          "output_type": "execute_result",
          "data": {
            "text/plain": [
              "1192"
            ]
          },
          "metadata": {},
          "execution_count": 33
        }
      ],
      "source": [
        "len(texts)"
      ]
    },
    {
      "cell_type": "code",
      "execution_count": null,
      "metadata": {
        "colab": {
          "base_uri": "https://localhost:8080/"
        },
        "id": "jaRsK0qaZ9Fk",
        "outputId": "fef15608-a938-47cd-beb4-395050627169"
      },
      "outputs": [
        {
          "output_type": "stream",
          "name": "stdout",
          "text": [
            "You now have 1192 document(s) in your data\n",
            "There are 951 characters in your document\n"
          ]
        }
      ],
      "source": [
        "print (f'You now have {len(texts)} document(s) in your data')\n",
        "print (f'There are {len(texts[1].page_content)} characters in your document')"
      ]
    },
    {
      "cell_type": "code",
      "execution_count": null,
      "metadata": {
        "colab": {
          "base_uri": "https://localhost:8080/"
        },
        "id": "qaFGDzkjMRJG",
        "outputId": "48bd7487-c7c6-4644-e2c7-81804e406bfc"
      },
      "outputs": [
        {
          "output_type": "execute_result",
          "data": {
            "text/plain": [
              "Document(metadata={'source': 'Are The Democrats Screwed In The Senate After 2024?', 'row': 0}, page_content='_id: 63927168098523fa9d5ef047\\ntitle: Are The Democrats Screwed In The Senate After 2024?\\nauthor: Nate Silver\\ndescription: Are The Democrats Screwed In The Senate After 2024?\\nNo, but the party faces an uphill battlee')"
            ]
          },
          "metadata": {},
          "execution_count": 35
        }
      ],
      "source": [
        "texts[0]"
      ]
    },
    {
      "cell_type": "code",
      "source": [
        "from google.colab import drive\n",
        "drive.mount('/content/drive')"
      ],
      "metadata": {
        "colab": {
          "base_uri": "https://localhost:8080/"
        },
        "id": "OlS_1I-qmNwH",
        "outputId": "5b50ff30-4615-44d2-8e44-7a6a9ff9f317"
      },
      "execution_count": null,
      "outputs": [
        {
          "output_type": "stream",
          "name": "stdout",
          "text": [
            "Mounted at /content/drive\n"
          ]
        }
      ]
    },
    {
      "cell_type": "code",
      "execution_count": null,
      "metadata": {
        "id": "ZV4m9sie7WVV",
        "colab": {
          "base_uri": "https://localhost:8080/",
          "height": 321
        },
        "collapsed": true,
        "outputId": "ea318daa-1acf-4927-9595-8b8291f1ca51"
      },
      "outputs": [
        {
          "output_type": "error",
          "ename": "AuthenticationError",
          "evalue": "Error code: 401 - {'error': {'message': 'Incorrect API key provided: API KEY. You can find your API key at https://platform.openai.com/account/api-keys.', 'type': 'invalid_request_error', 'param': None, 'code': 'invalid_api_key'}}",
          "traceback": [
            "\u001b[0;31m---------------------------------------------------------------------------\u001b[0m",
            "\u001b[0;31mAuthenticationError\u001b[0m                       Traceback (most recent call last)",
            "\u001b[0;32m<ipython-input-42-39cce92edba0>\u001b[0m in \u001b[0;36m<cell line: 2>\u001b[0;34m()\u001b[0m\n\u001b[1;32m      1\u001b[0m \u001b[0membeddings\u001b[0m \u001b[0;34m=\u001b[0m \u001b[0mOpenAIEmbeddings\u001b[0m\u001b[0;34m(\u001b[0m\u001b[0;34m)\u001b[0m\u001b[0;34m\u001b[0m\u001b[0;34m\u001b[0m\u001b[0m\n\u001b[0;32m----> 2\u001b[0;31m \u001b[0mdb\u001b[0m \u001b[0;34m=\u001b[0m \u001b[0mFAISS\u001b[0m\u001b[0;34m.\u001b[0m\u001b[0mfrom_documents\u001b[0m\u001b[0;34m(\u001b[0m\u001b[0mtexts\u001b[0m\u001b[0;34m,\u001b[0m \u001b[0membeddings\u001b[0m\u001b[0;34m)\u001b[0m\u001b[0;34m\u001b[0m\u001b[0;34m\u001b[0m\u001b[0m\n\u001b[0m",
            "\u001b[0;32m/usr/local/lib/python3.10/dist-packages/langchain_core/vectorstores/base.py\u001b[0m in \u001b[0;36mfrom_documents\u001b[0;34m(cls, documents, embedding, **kwargs)\u001b[0m\n\u001b[1;32m   1056\u001b[0m         \u001b[0mtexts\u001b[0m \u001b[0;34m=\u001b[0m \u001b[0;34m[\u001b[0m\u001b[0md\u001b[0m\u001b[0;34m.\u001b[0m\u001b[0mpage_content\u001b[0m \u001b[0;32mfor\u001b[0m \u001b[0md\u001b[0m \u001b[0;32min\u001b[0m \u001b[0mdocuments\u001b[0m\u001b[0;34m]\u001b[0m\u001b[0;34m\u001b[0m\u001b[0;34m\u001b[0m\u001b[0m\n\u001b[1;32m   1057\u001b[0m         \u001b[0mmetadatas\u001b[0m \u001b[0;34m=\u001b[0m \u001b[0;34m[\u001b[0m\u001b[0md\u001b[0m\u001b[0;34m.\u001b[0m\u001b[0mmetadata\u001b[0m \u001b[0;32mfor\u001b[0m \u001b[0md\u001b[0m \u001b[0;32min\u001b[0m \u001b[0mdocuments\u001b[0m\u001b[0;34m]\u001b[0m\u001b[0;34m\u001b[0m\u001b[0;34m\u001b[0m\u001b[0m\n\u001b[0;32m-> 1058\u001b[0;31m         \u001b[0;32mreturn\u001b[0m \u001b[0mcls\u001b[0m\u001b[0;34m.\u001b[0m\u001b[0mfrom_texts\u001b[0m\u001b[0;34m(\u001b[0m\u001b[0mtexts\u001b[0m\u001b[0;34m,\u001b[0m \u001b[0membedding\u001b[0m\u001b[0;34m,\u001b[0m \u001b[0mmetadatas\u001b[0m\u001b[0;34m=\u001b[0m\u001b[0mmetadatas\u001b[0m\u001b[0;34m,\u001b[0m \u001b[0;34m**\u001b[0m\u001b[0mkwargs\u001b[0m\u001b[0;34m)\u001b[0m\u001b[0;34m\u001b[0m\u001b[0;34m\u001b[0m\u001b[0m\n\u001b[0m\u001b[1;32m   1059\u001b[0m \u001b[0;34m\u001b[0m\u001b[0m\n\u001b[1;32m   1060\u001b[0m     \u001b[0;34m@\u001b[0m\u001b[0mclassmethod\u001b[0m\u001b[0;34m\u001b[0m\u001b[0;34m\u001b[0m\u001b[0m\n",
            "\u001b[0;32m/usr/local/lib/python3.10/dist-packages/langchain_community/vectorstores/faiss.py\u001b[0m in \u001b[0;36mfrom_texts\u001b[0;34m(cls, texts, embedding, metadatas, ids, **kwargs)\u001b[0m\n\u001b[1;32m    928\u001b[0m                 \u001b[0mfaiss\u001b[0m \u001b[0;34m=\u001b[0m \u001b[0mFAISS\u001b[0m\u001b[0;34m.\u001b[0m\u001b[0mfrom_texts\u001b[0m\u001b[0;34m(\u001b[0m\u001b[0mtexts\u001b[0m\u001b[0;34m,\u001b[0m \u001b[0membeddings\u001b[0m\u001b[0;34m)\u001b[0m\u001b[0;34m\u001b[0m\u001b[0;34m\u001b[0m\u001b[0m\n\u001b[1;32m    929\u001b[0m         \"\"\"\n\u001b[0;32m--> 930\u001b[0;31m         \u001b[0membeddings\u001b[0m \u001b[0;34m=\u001b[0m \u001b[0membedding\u001b[0m\u001b[0;34m.\u001b[0m\u001b[0membed_documents\u001b[0m\u001b[0;34m(\u001b[0m\u001b[0mtexts\u001b[0m\u001b[0;34m)\u001b[0m\u001b[0;34m\u001b[0m\u001b[0;34m\u001b[0m\u001b[0m\n\u001b[0m\u001b[1;32m    931\u001b[0m         return cls.__from(\n\u001b[1;32m    932\u001b[0m             \u001b[0mtexts\u001b[0m\u001b[0;34m,\u001b[0m\u001b[0;34m\u001b[0m\u001b[0;34m\u001b[0m\u001b[0m\n",
            "\u001b[0;32m/usr/local/lib/python3.10/dist-packages/langchain_openai/embeddings/base.py\u001b[0m in \u001b[0;36membed_documents\u001b[0;34m(self, texts, chunk_size)\u001b[0m\n\u001b[1;32m    556\u001b[0m         \u001b[0;31m#       than the maximum context and use length-safe embedding function.\u001b[0m\u001b[0;34m\u001b[0m\u001b[0;34m\u001b[0m\u001b[0m\n\u001b[1;32m    557\u001b[0m         \u001b[0mengine\u001b[0m \u001b[0;34m=\u001b[0m \u001b[0mcast\u001b[0m\u001b[0;34m(\u001b[0m\u001b[0mstr\u001b[0m\u001b[0;34m,\u001b[0m \u001b[0mself\u001b[0m\u001b[0;34m.\u001b[0m\u001b[0mdeployment\u001b[0m\u001b[0;34m)\u001b[0m\u001b[0;34m\u001b[0m\u001b[0;34m\u001b[0m\u001b[0m\n\u001b[0;32m--> 558\u001b[0;31m         \u001b[0;32mreturn\u001b[0m \u001b[0mself\u001b[0m\u001b[0;34m.\u001b[0m\u001b[0m_get_len_safe_embeddings\u001b[0m\u001b[0;34m(\u001b[0m\u001b[0mtexts\u001b[0m\u001b[0;34m,\u001b[0m \u001b[0mengine\u001b[0m\u001b[0;34m=\u001b[0m\u001b[0mengine\u001b[0m\u001b[0;34m)\u001b[0m\u001b[0;34m\u001b[0m\u001b[0;34m\u001b[0m\u001b[0m\n\u001b[0m\u001b[1;32m    559\u001b[0m \u001b[0;34m\u001b[0m\u001b[0m\n\u001b[1;32m    560\u001b[0m     async def aembed_documents(\n",
            "\u001b[0;32m/usr/local/lib/python3.10/dist-packages/langchain_openai/embeddings/base.py\u001b[0m in \u001b[0;36m_get_len_safe_embeddings\u001b[0;34m(self, texts, engine, chunk_size)\u001b[0m\n\u001b[1;32m    454\u001b[0m         \u001b[0mbatched_embeddings\u001b[0m\u001b[0;34m:\u001b[0m \u001b[0mList\u001b[0m\u001b[0;34m[\u001b[0m\u001b[0mList\u001b[0m\u001b[0;34m[\u001b[0m\u001b[0mfloat\u001b[0m\u001b[0;34m]\u001b[0m\u001b[0;34m]\u001b[0m \u001b[0;34m=\u001b[0m \u001b[0;34m[\u001b[0m\u001b[0;34m]\u001b[0m\u001b[0;34m\u001b[0m\u001b[0;34m\u001b[0m\u001b[0m\n\u001b[1;32m    455\u001b[0m         \u001b[0;32mfor\u001b[0m \u001b[0mi\u001b[0m \u001b[0;32min\u001b[0m \u001b[0m_iter\u001b[0m\u001b[0;34m:\u001b[0m\u001b[0;34m\u001b[0m\u001b[0;34m\u001b[0m\u001b[0m\n\u001b[0;32m--> 456\u001b[0;31m             response = self.client.create(\n\u001b[0m\u001b[1;32m    457\u001b[0m                 \u001b[0minput\u001b[0m\u001b[0;34m=\u001b[0m\u001b[0mtokens\u001b[0m\u001b[0;34m[\u001b[0m\u001b[0mi\u001b[0m \u001b[0;34m:\u001b[0m \u001b[0mi\u001b[0m \u001b[0;34m+\u001b[0m \u001b[0m_chunk_size\u001b[0m\u001b[0;34m]\u001b[0m\u001b[0;34m,\u001b[0m \u001b[0;34m**\u001b[0m\u001b[0mself\u001b[0m\u001b[0;34m.\u001b[0m\u001b[0m_invocation_params\u001b[0m\u001b[0;34m\u001b[0m\u001b[0;34m\u001b[0m\u001b[0m\n\u001b[1;32m    458\u001b[0m             )\n",
            "\u001b[0;32m/usr/local/lib/python3.10/dist-packages/openai/resources/embeddings.py\u001b[0m in \u001b[0;36mcreate\u001b[0;34m(self, input, model, dimensions, encoding_format, user, extra_headers, extra_query, extra_body, timeout)\u001b[0m\n\u001b[1;32m    112\u001b[0m             \u001b[0;32mreturn\u001b[0m \u001b[0mobj\u001b[0m\u001b[0;34m\u001b[0m\u001b[0;34m\u001b[0m\u001b[0m\n\u001b[1;32m    113\u001b[0m \u001b[0;34m\u001b[0m\u001b[0m\n\u001b[0;32m--> 114\u001b[0;31m         return self._post(\n\u001b[0m\u001b[1;32m    115\u001b[0m             \u001b[0;34m\"/embeddings\"\u001b[0m\u001b[0;34m,\u001b[0m\u001b[0;34m\u001b[0m\u001b[0;34m\u001b[0m\u001b[0m\n\u001b[1;32m    116\u001b[0m             \u001b[0mbody\u001b[0m\u001b[0;34m=\u001b[0m\u001b[0mmaybe_transform\u001b[0m\u001b[0;34m(\u001b[0m\u001b[0mparams\u001b[0m\u001b[0;34m,\u001b[0m \u001b[0membedding_create_params\u001b[0m\u001b[0;34m.\u001b[0m\u001b[0mEmbeddingCreateParams\u001b[0m\u001b[0;34m)\u001b[0m\u001b[0;34m,\u001b[0m\u001b[0;34m\u001b[0m\u001b[0;34m\u001b[0m\u001b[0m\n",
            "\u001b[0;32m/usr/local/lib/python3.10/dist-packages/openai/_base_client.py\u001b[0m in \u001b[0;36mpost\u001b[0;34m(self, path, cast_to, body, options, files, stream, stream_cls)\u001b[0m\n\u001b[1;32m   1264\u001b[0m             \u001b[0mmethod\u001b[0m\u001b[0;34m=\u001b[0m\u001b[0;34m\"post\"\u001b[0m\u001b[0;34m,\u001b[0m \u001b[0murl\u001b[0m\u001b[0;34m=\u001b[0m\u001b[0mpath\u001b[0m\u001b[0;34m,\u001b[0m \u001b[0mjson_data\u001b[0m\u001b[0;34m=\u001b[0m\u001b[0mbody\u001b[0m\u001b[0;34m,\u001b[0m \u001b[0mfiles\u001b[0m\u001b[0;34m=\u001b[0m\u001b[0mto_httpx_files\u001b[0m\u001b[0;34m(\u001b[0m\u001b[0mfiles\u001b[0m\u001b[0;34m)\u001b[0m\u001b[0;34m,\u001b[0m \u001b[0;34m**\u001b[0m\u001b[0moptions\u001b[0m\u001b[0;34m\u001b[0m\u001b[0;34m\u001b[0m\u001b[0m\n\u001b[1;32m   1265\u001b[0m         )\n\u001b[0;32m-> 1266\u001b[0;31m         \u001b[0;32mreturn\u001b[0m \u001b[0mcast\u001b[0m\u001b[0;34m(\u001b[0m\u001b[0mResponseT\u001b[0m\u001b[0;34m,\u001b[0m \u001b[0mself\u001b[0m\u001b[0;34m.\u001b[0m\u001b[0mrequest\u001b[0m\u001b[0;34m(\u001b[0m\u001b[0mcast_to\u001b[0m\u001b[0;34m,\u001b[0m \u001b[0mopts\u001b[0m\u001b[0;34m,\u001b[0m \u001b[0mstream\u001b[0m\u001b[0;34m=\u001b[0m\u001b[0mstream\u001b[0m\u001b[0;34m,\u001b[0m \u001b[0mstream_cls\u001b[0m\u001b[0;34m=\u001b[0m\u001b[0mstream_cls\u001b[0m\u001b[0;34m)\u001b[0m\u001b[0;34m)\u001b[0m\u001b[0;34m\u001b[0m\u001b[0;34m\u001b[0m\u001b[0m\n\u001b[0m\u001b[1;32m   1267\u001b[0m \u001b[0;34m\u001b[0m\u001b[0m\n\u001b[1;32m   1268\u001b[0m     def patch(\n",
            "\u001b[0;32m/usr/local/lib/python3.10/dist-packages/openai/_base_client.py\u001b[0m in \u001b[0;36mrequest\u001b[0;34m(self, cast_to, options, remaining_retries, stream, stream_cls)\u001b[0m\n\u001b[1;32m    940\u001b[0m         \u001b[0mstream_cls\u001b[0m\u001b[0;34m:\u001b[0m \u001b[0mtype\u001b[0m\u001b[0;34m[\u001b[0m\u001b[0m_StreamT\u001b[0m\u001b[0;34m]\u001b[0m \u001b[0;34m|\u001b[0m \u001b[0;32mNone\u001b[0m \u001b[0;34m=\u001b[0m \u001b[0;32mNone\u001b[0m\u001b[0;34m,\u001b[0m\u001b[0;34m\u001b[0m\u001b[0;34m\u001b[0m\u001b[0m\n\u001b[1;32m    941\u001b[0m     ) -> ResponseT | _StreamT:\n\u001b[0;32m--> 942\u001b[0;31m         return self._request(\n\u001b[0m\u001b[1;32m    943\u001b[0m             \u001b[0mcast_to\u001b[0m\u001b[0;34m=\u001b[0m\u001b[0mcast_to\u001b[0m\u001b[0;34m,\u001b[0m\u001b[0;34m\u001b[0m\u001b[0;34m\u001b[0m\u001b[0m\n\u001b[1;32m    944\u001b[0m             \u001b[0moptions\u001b[0m\u001b[0;34m=\u001b[0m\u001b[0moptions\u001b[0m\u001b[0;34m,\u001b[0m\u001b[0;34m\u001b[0m\u001b[0;34m\u001b[0m\u001b[0m\n",
            "\u001b[0;32m/usr/local/lib/python3.10/dist-packages/openai/_base_client.py\u001b[0m in \u001b[0;36m_request\u001b[0;34m(self, cast_to, options, remaining_retries, stream, stream_cls)\u001b[0m\n\u001b[1;32m   1044\u001b[0m \u001b[0;34m\u001b[0m\u001b[0m\n\u001b[1;32m   1045\u001b[0m             \u001b[0mlog\u001b[0m\u001b[0;34m.\u001b[0m\u001b[0mdebug\u001b[0m\u001b[0;34m(\u001b[0m\u001b[0;34m\"Re-raising status error\"\u001b[0m\u001b[0;34m)\u001b[0m\u001b[0;34m\u001b[0m\u001b[0;34m\u001b[0m\u001b[0m\n\u001b[0;32m-> 1046\u001b[0;31m             \u001b[0;32mraise\u001b[0m \u001b[0mself\u001b[0m\u001b[0;34m.\u001b[0m\u001b[0m_make_status_error_from_response\u001b[0m\u001b[0;34m(\u001b[0m\u001b[0merr\u001b[0m\u001b[0;34m.\u001b[0m\u001b[0mresponse\u001b[0m\u001b[0;34m)\u001b[0m \u001b[0;32mfrom\u001b[0m \u001b[0;32mNone\u001b[0m\u001b[0;34m\u001b[0m\u001b[0;34m\u001b[0m\u001b[0m\n\u001b[0m\u001b[1;32m   1047\u001b[0m \u001b[0;34m\u001b[0m\u001b[0m\n\u001b[1;32m   1048\u001b[0m         return self._process_response(\n",
            "\u001b[0;31mAuthenticationError\u001b[0m: Error code: 401 - {'error': {'message': 'Incorrect API key provided: API KEY. You can find your API key at https://platform.openai.com/account/api-keys.', 'type': 'invalid_request_error', 'param': None, 'code': 'invalid_api_key'}}"
          ]
        }
      ],
      "source": [
        "embeddings = OpenAIEmbeddings()\n",
        "db = FAISS.from_documents(texts, embeddings)"
      ]
    },
    {
      "cell_type": "code",
      "source": [
        "db.save_local(\"faiss_index\")\n"
      ],
      "metadata": {
        "id": "dezKUIttCb0h"
      },
      "execution_count": null,
      "outputs": []
    },
    {
      "cell_type": "markdown",
      "source": [
        "#The new place to begin"
      ],
      "metadata": {
        "id": "g8Ni4Idscmcl"
      }
    },
    {
      "cell_type": "code",
      "source": [
        "db_loaded = FAISS.load_local(\"faiss_index\", embeddings,allow_dangerous_deserialization=True)"
      ],
      "metadata": {
        "id": "k7fz-NgvChtr"
      },
      "execution_count": null,
      "outputs": []
    },
    {
      "cell_type": "code",
      "execution_count": null,
      "metadata": {
        "id": "AMkkNB3U7WVV"
      },
      "outputs": [],
      "source": [
        "query = \"\"\"Why is it so bad for Democrats in Senate in 2024\"\"\""
      ]
    },
    {
      "cell_type": "code",
      "execution_count": null,
      "metadata": {
        "id": "tCaQyBkz7WVV"
      },
      "outputs": [],
      "source": [
        "def get_response_from_query(db, query, k=10):\n",
        "    \"\"\"\n",
        "\n",
        "    \"\"\"\n",
        "\n",
        "    docs = db.similarity_search(query, k=k) # extremely important\n",
        "\n",
        "    docs_page_content = \" \".join([d.page_content for d in docs])\n",
        "\n",
        "    # llm = BardLLM()\n",
        "    llm = ChatOpenAI(model_name=\"gpt-3.5-turbo-16k\",temperature=0)\n",
        "\n",
        "    prompt = PromptTemplate(\n",
        "        input_variables=[\"question\", \"docs\"],\n",
        "        template=\"\"\"\n",
        "        You are a bot that is open to discussions about different cultural, philosophical and political exchanges. I will use do different analysis to the articles provided to me. Stay truthful and if you weren't provided any resources give your oppinion only.\n",
        "        Answer the following question: {question}\n",
        "        By searching the following articles: {docs}\n",
        "\n",
        "        Only use the factual information from the documents. Make sure to mention key phrases from the articles.\n",
        "\n",
        "        If you feel like you don't have enough information to answer the question, say \"I don't know\".\n",
        "\n",
        "        \"\"\",\n",
        "    )\n",
        "\n",
        "    chain = LLMChain(llm=llm, prompt=prompt)\n",
        "    # chain = RetrievalQAWithSourcesChain.from_chain_type(llm=llm, prompt=prompt,\n",
        "    #                                                     chain_type=\"stuff\", retriever=db.as_retriever(), return_source_documents=True)\n",
        "\n",
        "    response = chain.run(question=query, docs=docs_page_content,return_source_documents=True)\n",
        "    r_text = str(response)\n",
        "\n",
        "    ##evaluation part\n",
        "\n",
        "    prompt_eval = PromptTemplate(\n",
        "        input_variables=[\"answer\", \"docs\"],\n",
        "        template=\"\"\"\n",
        "        You job is to evaluate if the response to a given context is faithful.\n",
        "\n",
        "        for the following: {answer}\n",
        "        By searching the following article: {docs}\n",
        "\n",
        "       Give a reason why they are similar or not, start with a Yes or a No.\n",
        "\n",
        "        \"\"\",\n",
        "    )\n",
        "\n",
        "    chain_part_2 = LLMChain(llm=llm, prompt=prompt_eval)\n",
        "\n",
        "    evals = chain_part_2.run(answer=r_text, docs=docs_page_content)\n",
        "\n",
        "\n",
        "    return response,docs,evals"
      ]
    },
    {
      "cell_type": "code",
      "execution_count": null,
      "metadata": {
        "id": "twZ_ILhJ7WVV"
      },
      "outputs": [],
      "source": [
        "answer,sources,evals=get_response_from_query(db_loaded,query,15)"
      ]
    },
    {
      "cell_type": "code",
      "execution_count": null,
      "metadata": {
        "id": "Xaa84xr109s5",
        "colab": {
          "base_uri": "https://localhost:8080/",
          "height": 141
        },
        "outputId": "fa1ccb8d-e7cb-424d-dede-c2786a5974bf"
      },
      "outputs": [
        {
          "output_type": "error",
          "ename": "NameError",
          "evalue": "name 'sources' is not defined",
          "traceback": [
            "\u001b[0;31m---------------------------------------------------------------------------\u001b[0m",
            "\u001b[0;31mNameError\u001b[0m                                 Traceback (most recent call last)",
            "\u001b[0;32m<ipython-input-41-e52c7ce5a4dd>\u001b[0m in \u001b[0;36m<cell line: 1>\u001b[0;34m()\u001b[0m\n\u001b[0;32m----> 1\u001b[0;31m \u001b[0msources\u001b[0m\u001b[0;34m\u001b[0m\u001b[0;34m\u001b[0m\u001b[0m\n\u001b[0m",
            "\u001b[0;31mNameError\u001b[0m: name 'sources' is not defined"
          ]
        }
      ],
      "source": [
        "sources"
      ]
    },
    {
      "cell_type": "code",
      "execution_count": null,
      "metadata": {
        "colab": {
          "base_uri": "https://localhost:8080/"
        },
        "id": "K7P30pL57WVV",
        "outputId": "ec300aa1-4d6c-4bbe-b27c-29c63e79bc18"
      },
      "outputs": [
        {
          "output_type": "stream",
          "name": "stdout",
          "text": [
            "\n",
            "\n",
            "> Question:\n",
            "'Why is it so bad for Democrats in Senate in 2024'\n",
            "\n",
            "> Answer:\n",
            "('Based on the articles provided, it is suggested that the 2024 Senate map is '\n",
            " 'unfavorable for Democrats, making it difficult for them to maintain control '\n",
            " 'of the Senate. Losing key states such as West Virginia, Montana, and Ohio '\n",
            " 'could result in Democrats having only 48 Senate seats. The articles also '\n",
            " 'mention that Democrats have a narrow path to Senate control after 2024 and '\n",
            " 'that it might require the GOP to nominate bad candidates and some luck for '\n",
            " 'Democrats to regain control. The articles also discuss the potential '\n",
            " 'retirement of liberal justices and the importance of Democrats limiting the '\n",
            " 'damage in 2024 to have a chance of regaining the Senate in 2026 or 2028. '\n",
            " 'Overall, the articles indicate that the 2024 Senate map poses challenges for '\n",
            " 'Democrats in maintaining and regaining control of the Senate.')\n",
            "\n",
            "> Eval:\n",
            "('Yes, the response is faithful to the given context. The response accurately '\n",
            " 'reflects the information provided in the articles about the challenges '\n",
            " 'Democrats face in maintaining and regaining control of the Senate in 2024 '\n",
            " 'and beyond.')\n",
            "----------------------------------SOURCE DOCUMENTS---------------------------\n",
            "\n",
            "> Are The Democrats Screwed In The Senate After 2024?\n",
            "('Even with an additional senator going into 2023, the 2024 map is still so '\n",
            " 'bad for Democrats that keeping the Senate for years to come will be a fairly '\n",
            " 'tough order. The party’s prospects might rest more upon limiting the damage '\n",
            " 'in 2024 so that it has a chance to regain the Senate in 2026 or 2028. But a '\n",
            " 'bad 2024 could make it very difficult for Democrats to regain the Senate '\n",
            " 'before 2030 or 2032.')\n",
            "\n",
            "> Are The Democrats Screwed In The Senate After 2024?\n",
            "('Even with an additional senator going into 2023, the 2024 map is still so '\n",
            " 'bad for Democrats that keeping the Senate for years to come will be a fairly '\n",
            " 'tough order. The party’s prospects might rest more upon limiting the damage '\n",
            " 'in 2024 so that it has a chance to regain the Senate in 2026 or 2028. But a '\n",
            " 'bad 2024 could make it very difficult for Democrats to regain the Senate '\n",
            " 'before 2030 or 2032.')\n",
            "\n",
            "> Are The Democrats Screwed In The Senate After 2024?\n",
            "('My colleague Geoffrey Skelley already took an initial look at the 2024 '\n",
            " 'Senate map, which is bad for Democrats, but I wanted to dig slightly deeper '\n",
            " 'and also consider 2026 and 2028. Like Geoffrey, I’ll be focused on the '\n",
            " 'Senate, because that’s the weakest link in Democrats’ effort to win back the '\n",
            " 'trifecta. Despite some disadvantages in the Electoral College, Democrats '\n",
            " 'obviously have no trouble winning the presidency. And they nearly held onto '\n",
            " 'the House this year despite losing the popular vote for the House. The '\n",
            " 'current House map doesn’t have much — if any — of a Republican skew, and '\n",
            " 'Democrats should be able to win back the House if the national political '\n",
            " 'environment is reasonably good for them.')\n",
            "\n",
            "> Are The Democrats Screwed In The Senate After 2024?\n",
            "('My colleague Geoffrey Skelley already took an initial look at the 2024 '\n",
            " 'Senate map, which is bad for Democrats, but I wanted to dig slightly deeper '\n",
            " 'and also consider 2026 and 2028. Like Geoffrey, I’ll be focused on the '\n",
            " 'Senate, because that’s the weakest link in Democrats’ effort to win back the '\n",
            " 'trifecta. Despite some disadvantages in the Electoral College, Democrats '\n",
            " 'obviously have no trouble winning the presidency. And they nearly held onto '\n",
            " 'the House this year despite losing the popular vote for the House. The '\n",
            " 'current House map doesn’t have much — if any — of a Republican skew, and '\n",
            " 'Democrats should be able to win back the House if the national political '\n",
            " 'environment is reasonably good for them.')\n",
            "\n",
            "> Are The Democrats Screwed In The Senate After 2024?\n",
            "('That bleak picture may shape the next few years of political maneuvering. '\n",
            " 'When Vox’s Dylan Matthews suggested on Twitter that liberal Justices Sonia '\n",
            " 'Sotomayor (age 68) and Elena Kagan (age 62) should retire while Democrats '\n",
            " 'have their Senate majority and be replaced by younger justices, it didn’t go '\n",
            " 'over well. But it’s a perfectly rational suggestion if Democrats don’t feel '\n",
            " 'like gambling with their judicial future. (Consider how consequential Ruth '\n",
            " 'Bader Ginsburg’s decision not to retire has been for liberals.) Democrats '\n",
            " 'have a narrow path to Senate control after 2024, but it’s narrow indeed, and '\n",
            " 'one that might require the GOP continuing to nominate bad candidates — and a '\n",
            " 'fair share of luck.\\n'\n",
            " 'publish_date: 1670515535000.0\\n'\n",
            " 'full_text: 2028 Election\\n'\n",
            " 'Are The Democrats Screwed In The Senate After 2024?\\n'\n",
            " 'No, but the party faces an uphill battle.')\n",
            "\n",
            "> Are The Democrats Screwed In The Senate After 2024?\n",
            "('Suppose, though, that Democrats win the presidency but lose the Senate in '\n",
            " '2024. It’s really not as crazy as it sounds. If every state votes '\n",
            " 'identically to how it did in the 2020 presidential election — and every '\n",
            " 'Senate race follows the presidential vote — then Democrats would come out of '\n",
            " '2024 with the presidency but only 48 Senate seats after losing West '\n",
            " 'Virginia, Montana and Ohio. Could Democrats pick up two Senate seats from '\n",
            " 'the GOP in the 2026 midterm while controlling the presidency? Unlikely — but '\n",
            " 'then again, Democrats gaining Senate seats this year seemed unlikely and '\n",
            " 'they did it.\\n'\n",
            " '2028\\n'\n",
            " 'Republican pickup opportunities\\n'\n",
            " 'Platinum tier: None\\n'\n",
            " 'Gold tier: Nevada (Cortez Masto), Pennsylvania (Fetterman), Arizona (Kelly), '\n",
            " 'Georgia (Warnock) \\n'\n",
            " 'Silver tier: New Hampshire (Hassan)\\n'\n",
            " 'Bronze tier: Oregon (Wyden)')\n",
            "\n",
            "> Are The Democrats Screwed In The Senate After 2024?\n",
            "('Suppose, though, that Democrats win the presidency but lose the Senate in '\n",
            " '2024. It’s really not as crazy as it sounds. If every state votes '\n",
            " 'identically to how it did in the 2020 presidential election — and every '\n",
            " 'Senate race follows the presidential vote — then Democrats would come out of '\n",
            " '2024 with the presidency but only 48 Senate seats after losing West '\n",
            " 'Virginia, Montana and Ohio. Could Democrats pick up two Senate seats from '\n",
            " 'the GOP in the 2026 midterm while controlling the presidency? Unlikely — but '\n",
            " 'then again, Democrats gaining Senate seats this year seemed unlikely and '\n",
            " 'they did it.\\n'\n",
            " '2028\\n'\n",
            " 'Republican pickup opportunities\\n'\n",
            " 'Platinum tier: None\\n'\n",
            " 'Gold tier: Nevada (Cortez Masto), Pennsylvania (Fetterman), Arizona (Kelly), '\n",
            " 'Georgia (Warnock) \\n'\n",
            " 'Silver tier: New Hampshire (Hassan)\\n'\n",
            " 'Bronze tier: Oregon (Wyden)')\n",
            "\n",
            "> Are The Democrats Screwed In The Senate After 2024?\n",
            "('Beyond that, any other races look like an extreme stretch for Democrats. '\n",
            " 'Maybe Josh Hawley in Missouri could be vulnerable in a 2018-type '\n",
            " 'environment, but that’s less likely in a presidential year and Hawley’s '\n",
            " 'approval rating isn’t that bad. Put him in the “honorable mention” tier, I '\n",
            " 'guess.\\n'\n",
            " 'Given all this, I’d imagine the modal outcome from 2024 is something like '\n",
            " 'Republicans picking up about three Senate seats. There’s uncertainty around '\n",
            " 'that; it’s surely within the realm of possibility that Democrats hold the '\n",
            " 'Senate, but it’s also possible that Republicans could wind up with 54 or 55 '\n",
            " 'seats. And of course, all of these races are correlated. If the GOP is doing '\n",
            " 'well enough to win the presidency in 2024, they should have no trouble also '\n",
            " 'winning the Senate.9\\n'\n",
            " '2026\\n'\n",
            " 'Republican pickup opportunities\\xa0\\n'\n",
            " 'Platinum tier: None\\n'\n",
            " 'Gold tier: Georgia (Ossoff), Michigan (Peters)\\n'\n",
            " 'Silver tier: New Hampshire (Shaheen)\\n'\n",
            " 'Bronze tier: Minnesota (Smith), Virginia (Warner)')\n",
            "\n",
            "> Are The Democrats Screwed In The Senate After 2024?\n",
            "('Beyond that, any other races look like an extreme stretch for Democrats. '\n",
            " 'Maybe Josh Hawley in Missouri could be vulnerable in a 2018-type '\n",
            " 'environment, but that’s less likely in a presidential year and Hawley’s '\n",
            " 'approval rating isn’t that bad. Put him in the “honorable mention” tier, I '\n",
            " 'guess.\\n'\n",
            " 'Given all this, I’d imagine the modal outcome from 2024 is something like '\n",
            " 'Republicans picking up about three Senate seats. There’s uncertainty around '\n",
            " 'that; it’s surely within the realm of possibility that Democrats hold the '\n",
            " 'Senate, but it’s also possible that Republicans could wind up with 54 or 55 '\n",
            " 'seats. And of course, all of these races are correlated. If the GOP is doing '\n",
            " 'well enough to win the presidency in 2024, they should have no trouble also '\n",
            " 'winning the Senate.9\\n'\n",
            " '2026\\n'\n",
            " 'Republican pickup opportunities\\xa0\\n'\n",
            " 'Platinum tier: None\\n'\n",
            " 'Gold tier: Georgia (Ossoff), Michigan (Peters)\\n'\n",
            " 'Silver tier: New Hampshire (Shaheen)\\n'\n",
            " 'Bronze tier: Minnesota (Smith), Virginia (Warner)')\n",
            "\n",
            "> Are The Democrats Screwed In The Senate After 2024?\n",
            "('I’m not that impressed by long-term projections of Democratic doom in the '\n",
            " 'Senate. Mostly that’s because I’m not that impressed by long-term political '\n",
            " 'projections in general. Political coalitions change; not many people would '\n",
            " 'have had it on their bingo card that Democrats would obtain a Senate '\n",
            " 'majority in 2020 by winning two runoffs in Georgia, and then would actually '\n",
            " 'expand on that majority in 2022 following another runoff in Georgia despite '\n",
            " 'their party controlling the White House.\\n'\n",
            " 'With that said, while I don’t think we can say very much about what politics '\n",
            " 'will look like 10 or 20 years from now, a medium-term look-ahead is '\n",
            " 'possible. Do Democrats have a reasonable hope of regaining a trifecta — '\n",
            " 'control of the House, Senate and presidency — at any point in the near '\n",
            " 'future (2024, 2026 or 2028)? And how long will they hold onto control of the '\n",
            " 'Senate and the presidency, allowing them to appoint Supreme Court justices '\n",
            " 'without Republican help?')\n",
            "\n",
            "> Are The Democrats Screwed In The Senate After 2024?\n",
            "('I’m not that impressed by long-term projections of Democratic doom in the '\n",
            " 'Senate. Mostly that’s because I’m not that impressed by long-term political '\n",
            " 'projections in general. Political coalitions change; not many people would '\n",
            " 'have had it on their bingo card that Democrats would obtain a Senate '\n",
            " 'majority in 2020 by winning two runoffs in Georgia, and then would actually '\n",
            " 'expand on that majority in 2022 following another runoff in Georgia despite '\n",
            " 'their party controlling the White House.\\n'\n",
            " 'With that said, while I don’t think we can say very much about what politics '\n",
            " 'will look like 10 or 20 years from now, a medium-term look-ahead is '\n",
            " 'possible. Do Democrats have a reasonable hope of regaining a trifecta — '\n",
            " 'control of the House, Senate and presidency — at any point in the near '\n",
            " 'future (2024, 2026 or 2028)? And how long will they hold onto control of the '\n",
            " 'Senate and the presidency, allowing them to appoint Supreme Court justices '\n",
            " 'without Republican help?')\n",
            "\n",
            "> Are The Democrats Screwed In The Senate After 2024?\n",
            "('That bleak picture may shape the next few years of political maneuvering. '\n",
            " 'When Vox’s Dylan Matthews suggested on Twitter that liberal Justices Sonia '\n",
            " 'Sotomayor (age 68) and Elena Kagan (age 62) should retire while Democrats '\n",
            " 'have their Senate majority and be replaced by younger justices, it didn’t go '\n",
            " 'over well. But it’s a perfectly rational suggestion if Democrats don’t feel '\n",
            " 'like gambling with their judicial future. (Consider how consequential Ruth '\n",
            " 'Bader Ginsburg’s decision not to retire has been for liberals.) Democrats '\n",
            " 'have a narrow path to Senate control after 2024, but it’s narrow indeed, and '\n",
            " 'one that might require the GOP continuing to nominate bad candidates — and a '\n",
            " 'fair share of luck.\\n'\n",
            " 'url: '\n",
            " 'https://fivethirtyeight.com/features/democrats-senate-chances-2024-and-beyond/\\n'\n",
            " \"categories: ['news']\")\n",
            "\n",
            "> Are The Democrats Screwed In The Senate After 2024?\n",
            "('_id: 63927168098523fa9d5ef047\\n'\n",
            " 'title: Are The Democrats Screwed In The Senate After 2024?\\n'\n",
            " 'author: Nate Silver\\n'\n",
            " 'description: Are The Democrats Screwed In The Senate After 2024?\\n'\n",
            " 'No, but the party faces an uphill battlee')\n",
            "\n",
            "> Are The Democrats Screwed In The Senate After 2024?\n",
            "('I don’t want to focus too much on any one individual race, but it’s probably '\n",
            " 'safe to assume that Joe Manchin has the toughest reelection campaign of all. '\n",
            " 'Meanwhile, maybe Sherrod Brown can feel a bit more comfortable following Tim '\n",
            " 'Ryan’s relatively good performance in Ohio this year, but Ryan did lose, and '\n",
            " 'Brown may face a tougher opponent than Ryan did in J.D. Vance. Democrats '\n",
            " 'also run the risk of retirements here; neither Manchin nor Jon Tester has '\n",
            " 'officially yet announced they will seek reelection.\\n'\n",
            " 'Beyond the platinum tier, Democrats face some other risks. Kyrsten Sinema is '\n",
            " 'likely to face a serious primary challenge. Democrats keep winning close '\n",
            " 'races for Congress in Nevada but it’s a very purple state. Tammy Baldwin, '\n",
            " 'Debbie Stabenow and Bob Casey won by fairly comfortable margins in 2018 and '\n",
            " 'will likely be fine in the event of a decent-to-good Democratic year, but if '\n",
            " '2024 turns into a good Republican year, they could be in trouble.\\n'\n",
            " 'Democratic pickup opportunities')\n",
            "\n",
            "> Are The Democrats Screwed In The Senate After 2024?\n",
            "('I don’t want to focus too much on any one individual race, but it’s probably '\n",
            " 'safe to assume that Joe Manchin has the toughest reelection campaign of all. '\n",
            " 'Meanwhile, maybe Sherrod Brown can feel a bit more comfortable following Tim '\n",
            " 'Ryan’s relatively good performance in Ohio this year, but Ryan did lose, and '\n",
            " 'Brown may face a tougher opponent than Ryan did in J.D. Vance. Democrats '\n",
            " 'also run the risk of retirements here; neither Manchin nor Jon Tester has '\n",
            " 'officially yet announced they will seek reelection.\\n'\n",
            " 'Beyond the platinum tier, Democrats face some other risks. Kyrsten Sinema is '\n",
            " 'likely to face a serious primary challenge. Democrats keep winning close '\n",
            " 'races for Congress in Nevada but it’s a very purple state. Tammy Baldwin, '\n",
            " 'Debbie Stabenow and Bob Casey won by fairly comfortable margins in 2018 and '\n",
            " 'will likely be fine in the event of a decent-to-good Democratic year, but if '\n",
            " '2024 turns into a good Republican year, they could be in trouble.\\n'\n",
            " 'Democratic pickup opportunities')\n",
            "----------------------------------SOURCE DOCUMENTS---------------------------\n"
          ]
        }
      ],
      "source": [
        "from pprint import pprint\n",
        "\n",
        "# Print question, answer, and evaluations\n",
        "print(\"\\n\\n> Question:\")\n",
        "pprint(query)\n",
        "print(\"\\n> Answer:\")\n",
        "pprint(answer)\n",
        "print(\"\\n> Eval:\")\n",
        "pprint(evals)\n",
        "\n",
        "# Print the relevant sources used for the answer\n",
        "print(\"----------------------------------SOURCE DOCUMENTS---------------------------\")\n",
        "for document in sources:\n",
        "    print(\"\\n> \" + document.metadata[\"source\"])\n",
        "    pprint(document.page_content[:1000])\n",
        "print(\"----------------------------------SOURCE DOCUMENTS---------------------------\")\n"
      ]
    },
    {
      "cell_type": "code",
      "execution_count": null,
      "metadata": {
        "id": "UV7_OQHg7WVW"
      },
      "outputs": [],
      "source": [
        "import gradio as gr"
      ]
    },
    {
      "cell_type": "code",
      "execution_count": null,
      "metadata": {
        "id": "n1wKmRl37WVW"
      },
      "outputs": [],
      "source": [
        "def get_response_from_query(db, query, k=3):\n",
        "\n",
        "\n",
        "    docs = db.similarity_search(query, k=k)\n",
        "\n",
        "    docs_page_content = \" \".join([d.page_content for d in docs])\n",
        "\n",
        "    # llm = BardLLM()\n",
        "    llm = ChatOpenAI(model_name=\"gpt-4o-mini\",temperature=0)\n",
        "\n",
        "    prompt = PromptTemplate(\n",
        "        input_variables=[\"question\", \"docs\"],\n",
        "        template=\"\"\"\n",
        "        A bot that is open to discussions about different cultural, philosophical and political exchanges. I will use do different analysis to the articles provided to me. Stay truthful and if you weren't provided any resources give your oppinion only.\n",
        "        Answer the following question: {question}\n",
        "        By searching the following articles: {docs}\n",
        "\n",
        "        Only use the factual information from the documents. Make sure to mention key phrases from the articles.\n",
        "\n",
        "        If you feel like you don't have enough information to answer the question, say \"I don't know\".\n",
        "\n",
        "        \"\"\",\n",
        "    )\n",
        "\n",
        "    chain = LLMChain(llm=llm, prompt=prompt)\n",
        "    # chain = RetrievalQAWithSourcesChain.from_chain_type(llm=llm, prompt=prompt,\n",
        "    #                                                     chain_type=\"stuff\", retriever=db.as_retriever(), return_source_documents=True)\n",
        "\n",
        "    response = chain.run(question=query, docs=docs_page_content,return_source_documents=True)\n",
        "    r_text = str(response)\n",
        "\n",
        "    ##evaluation part\n",
        "\n",
        "    prompt_eval = PromptTemplate(\n",
        "        input_variables=[\"answer\", \"docs\"],\n",
        "        template=\"\"\"\n",
        "       You job is to evaluate if the response to a given context is faithful.\n",
        "\n",
        "        for the following: {answer}\n",
        "        By searching the following article: {docs}\n",
        "\n",
        "       Give a reason why they are similar or not, start with a Yes or a No.\n",
        "        \"\"\",\n",
        "    )\n",
        "\n",
        "    chain_part_2 = LLMChain(llm=llm, prompt=prompt_eval)\n",
        "\n",
        "\n",
        "    evals = chain_part_2.run(answer=r_text, docs=docs_page_content)\n",
        "\n",
        "    return response,docs,evals"
      ]
    },
    {
      "cell_type": "code",
      "execution_count": null,
      "metadata": {
        "colab": {
          "base_uri": "https://localhost:8080/",
          "height": 612
        },
        "id": "YqMJNvrl7WVW",
        "outputId": "4f182ae6-51e4-4fd3-db2a-81073507a5a7"
      },
      "outputs": [
        {
          "output_type": "stream",
          "name": "stdout",
          "text": [
            "Colab notebook detected. To show errors in colab notebook, set debug=True in launch()\n",
            "Running on public URL: https://98c6e16a1d66c362d5.gradio.live\n",
            "\n",
            "This share link expires in 72 hours. For free permanent hosting and GPU upgrades, run `gradio deploy` from Terminal to deploy to Spaces (https://huggingface.co/spaces)\n"
          ]
        },
        {
          "output_type": "display_data",
          "data": {
            "text/plain": [
              "<IPython.core.display.HTML object>"
            ],
            "text/html": [
              "<div><iframe src=\"https://98c6e16a1d66c362d5.gradio.live\" width=\"100%\" height=\"500\" allow=\"autoplay; camera; microphone; clipboard-read; clipboard-write;\" frameborder=\"0\" allowfullscreen></iframe></div>"
            ]
          },
          "metadata": {}
        },
        {
          "output_type": "execute_result",
          "data": {
            "text/plain": []
          },
          "metadata": {},
          "execution_count": 53
        }
      ],
      "source": [
        "def greet(query):\n",
        "\n",
        "    answer,sources,evals = get_response_from_query(db,query,2)\n",
        "    return answer,sources,evals\n",
        "examples = [\n",
        "    [\"How to be happy\"],\n",
        "    [\"Climate Change Challenges in Europe\"],\n",
        "    [\"Philosophy in the world of Minimalism\"],\n",
        "    [\"Hate Speech  vs Freedom of Speech\"],\n",
        "    [\"Articles by Noam Chomsky on US Politics\"],\n",
        "    [\"The importance of values and reflection\"]\n",
        "    ]\n",
        "demo = gr.Interface(fn=greet, title=\"cicero-semantic-search\", inputs=\"text\",\n",
        "                    outputs=[gr.components.Textbox(lines=3, label=\"Response\"),\n",
        "                             gr.components.Textbox(lines=3, label=\"Source\"),\n",
        "                             gr.components.Textbox(lines=3, label=\"Evaluation\")],\n",
        "                   examples=examples)\n",
        "\n",
        "demo.launch(share=True)\n",
        "\n",
        "\n"
      ]
    },
    {
      "cell_type": "code",
      "execution_count": null,
      "metadata": {
        "id": "UnjSpVxc7WVW",
        "colab": {
          "base_uri": "https://localhost:8080/"
        },
        "outputId": "3e8b0fe4-de94-4cfb-d6f4-3d4f5b10ad41"
      },
      "outputs": [
        {
          "output_type": "stream",
          "name": "stdout",
          "text": [
            "Loaded as API: https://91a238021b8734d96f.gradio.live/ ✔\n",
            "(\"Based on the provided articles, the concerns of Democrats for the 2024 Senate seem to revolve around the challenging electoral map that they will face. The articles mention that even with an additional senator going into 2023, the 2024 map is still unfavorable for Democrats, making it difficult for them to keep the Senate for years to come. The party's prospects may rely on limiting the damage in 2024 to have a chance of regaining the Senate in 2026 or 2028. However, a bad outcome in 2024 could make it very difficult for Democrats to regain the Senate before 2030 or 2032.\\n\\nIn summary, the concerns of Democrats for the 2024 Senate primarily stem from the unfavorable electoral map and the potential long-term implications if they are unable to limit the damage in that election.\", \"[Document(page_content='Even with an additional senator going into 2023, the 2024 map is still so bad for Democrats that keeping the Senate for years to come will be a fairly tough order. The party’s prospects might rest more upon limiting the damage in 2024 so that it has a chance to regain the Senate in 2026 or 2028. But a bad 2024 could make it very difficult for Democrats to regain the Senate before 2030 or 2032.', metadata={'source': 'Are The Democrats Screwed In The Senate After 2024?', 'row': 0}), Document(page_content='Even with an additional senator going into 2023, the 2024 map is still so bad for Democrats that keeping the Senate for years to come will be a fairly tough order. The party’s prospects might rest more upon limiting the damage in 2024 so that it has a chance to regain the Senate in 2026 or 2028. But a bad 2024 could make it very difficult for Democrats to regain the Senate before 2030 or 2032.', metadata={'source': 'Are The Democrats Screwed In The Senate After 2024?', 'row': 0})]\", 'Yes, the response is faithful to the given context. The response accurately reflects the concerns of Democrats for the 2024 Senate, mentioning the unfavorable electoral map and the potential long-term implications if they are unable to limit the damage in that election. The response also includes similar language and structure as the provided articles.')\n"
          ]
        }
      ],
      "source": [
        "from gradio_client import Client\n",
        "\n",
        "client = Client(\"https://91a238021b8734d96f.gradio.live/\")\n",
        "result = client.predict(\n",
        "\t\t\"Can you tell me about the concerns of Democrats for 2024 Senate\",\t# str  in 'query' Textbox component\n",
        "\t\tapi_name=\"/predict\"\n",
        ")\n",
        "print(result)"
      ]
    },
    {
      "cell_type": "code",
      "source": [],
      "metadata": {
        "id": "KcuKWqwj_AgQ"
      },
      "execution_count": null,
      "outputs": []
    }
  ],
  "metadata": {
    "accelerator": "GPU",
    "colab": {
      "provenance": [],
      "include_colab_link": true
    },
    "environment": {
      "kernel": "python3",
      "name": "pytorch-gpu.1-13.m108",
      "type": "gcloud",
      "uri": "gcr.io/deeplearning-platform-release/pytorch-gpu.1-13:m108"
    },
    "gpuClass": "standard",
    "kernelspec": {
      "display_name": "Python 3",
      "language": "python",
      "name": "python3"
    },
    "language_info": {
      "codemirror_mode": {
        "name": "ipython",
        "version": 3
      },
      "file_extension": ".py",
      "mimetype": "text/x-python",
      "name": "python",
      "nbconvert_exporter": "python",
      "pygments_lexer": "ipython3",
      "version": "3.10.10"
    }
  },
  "nbformat": 4,
  "nbformat_minor": 0
}