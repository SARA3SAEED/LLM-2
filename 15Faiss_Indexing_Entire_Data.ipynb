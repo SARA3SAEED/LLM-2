{
  "cells": [
    {
      "cell_type": "markdown",
      "metadata": {
        "id": "view-in-github",
        "colab_type": "text"
      },
      "source": [
        "<a href=\"https://colab.research.google.com/github/SARA3SAEED/LLM-2/blob/main/15Faiss_Indexing_Entire_Data.ipynb\" target=\"_parent\"><img src=\"https://colab.research.google.com/assets/colab-badge.svg\" alt=\"Open In Colab\"/></a>"
      ]
    },
    {
      "cell_type": "code",
      "execution_count": null,
      "metadata": {
        "colab": {
          "background_save": true,
          "base_uri": "https://localhost:8080/",
          "height": 1000,
          "referenced_widgets": [
            "ebf4eae3824948d19311138bf14ce017",
            "6bba0fdffb8f4b46848a3131291e670d",
            "a188e58c4c24456a9c45bf81cefe5b51",
            "48a0a552682f473781aa73d48909fa50",
            "3287d36cdac44b9a9867b059a717054d",
            "481eae2d808e44f9a9ec62e135b90ad9",
            "acea4ed5394845608632545bef806a12",
            "d6b910151cb648ebaad5342e384b0299",
            "467f3ed2530a4b99a1bb8ec799771890",
            "bd92dd4eb42a4df2a18101920e18f77e",
            "cbb05a00134e4eddb3cfec5c115aab31",
            "2137835edb59438a8931a03e2f7be4cb",
            "4dbd3d593daa4dfc989712fb7e53fb44",
            "a13b5bf06c6044e6a0d50e53c224f938",
            "5087225bbd4a47b0b63e5c3233e39e63",
            "7867d77e50b84747a844c2045cf73baa",
            "66f79bcd0dd7443784d54459c2ec0938",
            "375ad59ca18e430c8ce5a5184c2a92bc"
          ]
        },
        "id": "-xk8lepF5Bt-",
        "outputId": "ef17fc65-8f83-4c87-fd05-e1f2c570c6b6"
      },
      "outputs": [
        {
          "name": "stdout",
          "output_type": "stream",
          "text": [
            "Collecting datasets\n",
            "  Downloading datasets-2.20.0-py3-none-any.whl.metadata (19 kB)\n",
            "Requirement already satisfied: nltk in /usr/local/lib/python3.10/dist-packages (3.8.1)\n",
            "Requirement already satisfied: filelock in /usr/local/lib/python3.10/dist-packages (from datasets) (3.15.4)\n",
            "Requirement already satisfied: numpy>=1.17 in /usr/local/lib/python3.10/dist-packages (from datasets) (1.26.4)\n",
            "Collecting pyarrow>=15.0.0 (from datasets)\n",
            "  Downloading pyarrow-17.0.0-cp310-cp310-manylinux_2_28_x86_64.whl.metadata (3.3 kB)\n",
            "Requirement already satisfied: pyarrow-hotfix in /usr/local/lib/python3.10/dist-packages (from datasets) (0.6)\n",
            "Collecting dill<0.3.9,>=0.3.0 (from datasets)\n",
            "  Downloading dill-0.3.8-py3-none-any.whl.metadata (10 kB)\n",
            "Requirement already satisfied: pandas in /usr/local/lib/python3.10/dist-packages (from datasets) (2.1.4)\n",
            "Collecting requests>=2.32.2 (from datasets)\n",
            "  Downloading requests-2.32.3-py3-none-any.whl.metadata (4.6 kB)\n",
            "Requirement already satisfied: tqdm>=4.66.3 in /usr/local/lib/python3.10/dist-packages (from datasets) (4.66.4)\n",
            "Collecting xxhash (from datasets)\n",
            "  Downloading xxhash-3.4.1-cp310-cp310-manylinux_2_17_x86_64.manylinux2014_x86_64.whl.metadata (12 kB)\n",
            "Collecting multiprocess (from datasets)\n",
            "  Downloading multiprocess-0.70.16-py310-none-any.whl.metadata (7.2 kB)\n",
            "Collecting fsspec<=2024.5.0,>=2023.1.0 (from fsspec[http]<=2024.5.0,>=2023.1.0->datasets)\n",
            "  Downloading fsspec-2024.5.0-py3-none-any.whl.metadata (11 kB)\n",
            "Requirement already satisfied: aiohttp in /usr/local/lib/python3.10/dist-packages (from datasets) (3.10.0)\n",
            "Requirement already satisfied: huggingface-hub>=0.21.2 in /usr/local/lib/python3.10/dist-packages (from datasets) (0.23.5)\n",
            "Requirement already satisfied: packaging in /usr/local/lib/python3.10/dist-packages (from datasets) (24.1)\n",
            "Requirement already satisfied: pyyaml>=5.1 in /usr/local/lib/python3.10/dist-packages (from datasets) (6.0.1)\n",
            "Requirement already satisfied: click in /usr/local/lib/python3.10/dist-packages (from nltk) (8.1.7)\n",
            "Requirement already satisfied: joblib in /usr/local/lib/python3.10/dist-packages (from nltk) (1.4.2)\n",
            "Requirement already satisfied: regex>=2021.8.3 in /usr/local/lib/python3.10/dist-packages (from nltk) (2024.5.15)\n",
            "Requirement already satisfied: aiohappyeyeballs>=2.3.0 in /usr/local/lib/python3.10/dist-packages (from aiohttp->datasets) (2.3.4)\n",
            "Requirement already satisfied: aiosignal>=1.1.2 in /usr/local/lib/python3.10/dist-packages (from aiohttp->datasets) (1.3.1)\n",
            "Requirement already satisfied: attrs>=17.3.0 in /usr/local/lib/python3.10/dist-packages (from aiohttp->datasets) (23.2.0)\n",
            "Requirement already satisfied: frozenlist>=1.1.1 in /usr/local/lib/python3.10/dist-packages (from aiohttp->datasets) (1.4.1)\n",
            "Requirement already satisfied: multidict<7.0,>=4.5 in /usr/local/lib/python3.10/dist-packages (from aiohttp->datasets) (6.0.5)\n",
            "Requirement already satisfied: yarl<2.0,>=1.0 in /usr/local/lib/python3.10/dist-packages (from aiohttp->datasets) (1.9.4)\n",
            "Requirement already satisfied: async-timeout<5.0,>=4.0 in /usr/local/lib/python3.10/dist-packages (from aiohttp->datasets) (4.0.3)\n",
            "Requirement already satisfied: typing-extensions>=3.7.4.3 in /usr/local/lib/python3.10/dist-packages (from huggingface-hub>=0.21.2->datasets) (4.12.2)\n",
            "Requirement already satisfied: charset-normalizer<4,>=2 in /usr/local/lib/python3.10/dist-packages (from requests>=2.32.2->datasets) (3.3.2)\n",
            "Requirement already satisfied: idna<4,>=2.5 in /usr/local/lib/python3.10/dist-packages (from requests>=2.32.2->datasets) (3.7)\n",
            "Requirement already satisfied: urllib3<3,>=1.21.1 in /usr/local/lib/python3.10/dist-packages (from requests>=2.32.2->datasets) (2.0.7)\n",
            "Requirement already satisfied: certifi>=2017.4.17 in /usr/local/lib/python3.10/dist-packages (from requests>=2.32.2->datasets) (2024.7.4)\n",
            "Requirement already satisfied: python-dateutil>=2.8.2 in /usr/local/lib/python3.10/dist-packages (from pandas->datasets) (2.8.2)\n",
            "Requirement already satisfied: pytz>=2020.1 in /usr/local/lib/python3.10/dist-packages (from pandas->datasets) (2024.1)\n",
            "Requirement already satisfied: tzdata>=2022.1 in /usr/local/lib/python3.10/dist-packages (from pandas->datasets) (2024.1)\n",
            "Requirement already satisfied: six>=1.5 in /usr/local/lib/python3.10/dist-packages (from python-dateutil>=2.8.2->pandas->datasets) (1.16.0)\n",
            "Downloading datasets-2.20.0-py3-none-any.whl (547 kB)\n",
            "\u001b[2K   \u001b[90m━━━━━━━━━━━━━━━━━━━━━━━━━━━━━━━━━━━━━━━━\u001b[0m \u001b[32m547.8/547.8 kB\u001b[0m \u001b[31m10.3 MB/s\u001b[0m eta \u001b[36m0:00:00\u001b[0m\n",
            "\u001b[?25hDownloading dill-0.3.8-py3-none-any.whl (116 kB)\n",
            "\u001b[2K   \u001b[90m━━━━━━━━━━━━━━━━━━━━━━━━━━━━━━━━━━━━━━━━\u001b[0m \u001b[32m116.3/116.3 kB\u001b[0m \u001b[31m4.8 MB/s\u001b[0m eta \u001b[36m0:00:00\u001b[0m\n",
            "\u001b[?25hDownloading fsspec-2024.5.0-py3-none-any.whl (316 kB)\n",
            "\u001b[2K   \u001b[90m━━━━━━━━━━━━━━━━━━━━━━━━━━━━━━━━━━━━━━━━\u001b[0m \u001b[32m316.1/316.1 kB\u001b[0m \u001b[31m18.1 MB/s\u001b[0m eta \u001b[36m0:00:00\u001b[0m\n",
            "\u001b[?25hDownloading pyarrow-17.0.0-cp310-cp310-manylinux_2_28_x86_64.whl (39.9 MB)\n",
            "\u001b[2K   \u001b[90m━━━━━━━━━━━━━━━━━━━━━━━━━━━━━━━━━━━━━━━━\u001b[0m \u001b[32m39.9/39.9 MB\u001b[0m \u001b[31m13.3 MB/s\u001b[0m eta \u001b[36m0:00:00\u001b[0m\n",
            "\u001b[?25hDownloading requests-2.32.3-py3-none-any.whl (64 kB)\n",
            "\u001b[2K   \u001b[90m━━━━━━━━━━━━━━━━━━━━━━━━━━━━━━━━━━━━━━━━\u001b[0m \u001b[32m64.9/64.9 kB\u001b[0m \u001b[31m1.4 MB/s\u001b[0m eta \u001b[36m0:00:00\u001b[0m\n",
            "\u001b[?25hDownloading multiprocess-0.70.16-py310-none-any.whl (134 kB)\n",
            "\u001b[2K   \u001b[90m━━━━━━━━━━━━━━━━━━━━━━━━━━━━━━━━━━━━━━━━\u001b[0m \u001b[32m134.8/134.8 kB\u001b[0m \u001b[31m4.6 MB/s\u001b[0m eta \u001b[36m0:00:00\u001b[0m\n",
            "\u001b[?25hDownloading xxhash-3.4.1-cp310-cp310-manylinux_2_17_x86_64.manylinux2014_x86_64.whl (194 kB)\n",
            "\u001b[2K   \u001b[90m━━━━━━━━━━━━━━━━━━━━━━━━━━━━━━━━━━━━━━━━\u001b[0m \u001b[32m194.1/194.1 kB\u001b[0m \u001b[31m9.2 MB/s\u001b[0m eta \u001b[36m0:00:00\u001b[0m\n",
            "\u001b[?25hInstalling collected packages: xxhash, requests, pyarrow, fsspec, dill, multiprocess, datasets\n",
            "  Attempting uninstall: requests\n",
            "    Found existing installation: requests 2.31.0\n",
            "    Uninstalling requests-2.31.0:\n",
            "      Successfully uninstalled requests-2.31.0\n",
            "  Attempting uninstall: pyarrow\n",
            "    Found existing installation: pyarrow 14.0.2\n",
            "    Uninstalling pyarrow-14.0.2:\n",
            "      Successfully uninstalled pyarrow-14.0.2\n",
            "  Attempting uninstall: fsspec\n",
            "    Found existing installation: fsspec 2024.6.1\n",
            "    Uninstalling fsspec-2024.6.1:\n",
            "      Successfully uninstalled fsspec-2024.6.1\n",
            "\u001b[31mERROR: pip's dependency resolver does not currently take into account all the packages that are installed. This behaviour is the source of the following dependency conflicts.\n",
            "torch 2.3.1+cu121 requires nvidia-cublas-cu12==12.1.3.1; platform_system == \"Linux\" and platform_machine == \"x86_64\", which is not installed.\n",
            "torch 2.3.1+cu121 requires nvidia-cuda-cupti-cu12==12.1.105; platform_system == \"Linux\" and platform_machine == \"x86_64\", which is not installed.\n",
            "torch 2.3.1+cu121 requires nvidia-cuda-nvrtc-cu12==12.1.105; platform_system == \"Linux\" and platform_machine == \"x86_64\", which is not installed.\n",
            "torch 2.3.1+cu121 requires nvidia-cuda-runtime-cu12==12.1.105; platform_system == \"Linux\" and platform_machine == \"x86_64\", which is not installed.\n",
            "torch 2.3.1+cu121 requires nvidia-cudnn-cu12==8.9.2.26; platform_system == \"Linux\" and platform_machine == \"x86_64\", which is not installed.\n",
            "torch 2.3.1+cu121 requires nvidia-cufft-cu12==11.0.2.54; platform_system == \"Linux\" and platform_machine == \"x86_64\", which is not installed.\n",
            "torch 2.3.1+cu121 requires nvidia-curand-cu12==10.3.2.106; platform_system == \"Linux\" and platform_machine == \"x86_64\", which is not installed.\n",
            "torch 2.3.1+cu121 requires nvidia-cusolver-cu12==11.4.5.107; platform_system == \"Linux\" and platform_machine == \"x86_64\", which is not installed.\n",
            "torch 2.3.1+cu121 requires nvidia-cusparse-cu12==12.1.0.106; platform_system == \"Linux\" and platform_machine == \"x86_64\", which is not installed.\n",
            "torch 2.3.1+cu121 requires nvidia-nccl-cu12==2.20.5; platform_system == \"Linux\" and platform_machine == \"x86_64\", which is not installed.\n",
            "torch 2.3.1+cu121 requires nvidia-nvtx-cu12==12.1.105; platform_system == \"Linux\" and platform_machine == \"x86_64\", which is not installed.\n",
            "cudf-cu12 24.4.1 requires pyarrow<15.0.0a0,>=14.0.1, but you have pyarrow 17.0.0 which is incompatible.\n",
            "gcsfs 2024.6.1 requires fsspec==2024.6.1, but you have fsspec 2024.5.0 which is incompatible.\n",
            "google-colab 1.0.0 requires requests==2.31.0, but you have requests 2.32.3 which is incompatible.\n",
            "ibis-framework 8.0.0 requires pyarrow<16,>=2, but you have pyarrow 17.0.0 which is incompatible.\u001b[0m\u001b[31m\n",
            "\u001b[0mSuccessfully installed datasets-2.20.0 dill-0.3.8 fsspec-2024.5.0 multiprocess-0.70.16 pyarrow-17.0.0 requests-2.32.3 xxhash-3.4.1\n"
          ]
        },
        {
          "name": "stderr",
          "output_type": "stream",
          "text": [
            "[nltk_data] Downloading package punkt to /root/nltk_data...\n",
            "[nltk_data]   Unzipping tokenizers/punkt.zip.\n",
            "/usr/local/lib/python3.10/dist-packages/huggingface_hub/utils/_token.py:89: UserWarning: \n",
            "The secret `HF_TOKEN` does not exist in your Colab secrets.\n",
            "To authenticate with the Hugging Face Hub, create a token in your settings tab (https://huggingface.co/settings/tokens), set it as secret in your Google Colab and restart your session.\n",
            "You will be able to reuse this secret in all of your notebooks.\n",
            "Please note that authentication is recommended but still optional to access public models or datasets.\n",
            "  warnings.warn(\n"
          ]
        },
        {
          "data": {
            "application/vnd.jupyter.widget-view+json": {
              "model_id": "ebf4eae3824948d19311138bf14ce017",
              "version_major": 2,
              "version_minor": 0
            },
            "text/plain": [
              "Downloading readme:   0%|          | 0.00/3.20k [00:00<?, ?B/s]"
            ]
          },
          "metadata": {},
          "output_type": "display_data"
        },
        {
          "data": {
            "application/vnd.jupyter.widget-view+json": {
              "model_id": "2137835edb59438a8931a03e2f7be4cb",
              "version_major": 2,
              "version_minor": 0
            },
            "text/plain": [
              "Downloading data:   0%|          | 0.00/392M [00:00<?, ?B/s]"
            ]
          },
          "metadata": {},
          "output_type": "display_data"
        },
        {
          "data": {
            "application/vnd.jupyter.widget-view+json": {
              "model_id": "4dbd3d593daa4dfc989712fb7e53fb44",
              "version_major": 2,
              "version_minor": 0
            },
            "text/plain": [
              "Downloading data:   0%|          | 0.00/177M [00:00<?, ?B/s]"
            ]
          },
          "metadata": {},
          "output_type": "display_data"
        },
        {
          "data": {
            "application/vnd.jupyter.widget-view+json": {
              "model_id": "a13b5bf06c6044e6a0d50e53c224f938",
              "version_major": 2,
              "version_minor": 0
            },
            "text/plain": [
              "Downloading data:   0%|          | 0.00/137M [00:00<?, ?B/s]"
            ]
          },
          "metadata": {},
          "output_type": "display_data"
        },
        {
          "data": {
            "application/vnd.jupyter.widget-view+json": {
              "model_id": "5087225bbd4a47b0b63e5c3233e39e63",
              "version_major": 2,
              "version_minor": 0
            },
            "text/plain": [
              "Downloading data:   0%|          | 0.00/70.0M [00:00<?, ?B/s]"
            ]
          },
          "metadata": {},
          "output_type": "display_data"
        },
        {
          "data": {
            "application/vnd.jupyter.widget-view+json": {
              "model_id": "7867d77e50b84747a844c2045cf73baa",
              "version_major": 2,
              "version_minor": 0
            },
            "text/plain": [
              "Downloading data:   0%|          | 0.00/80.1M [00:00<?, ?B/s]"
            ]
          },
          "metadata": {},
          "output_type": "display_data"
        },
        {
          "data": {
            "application/vnd.jupyter.widget-view+json": {
              "model_id": "66f79bcd0dd7443784d54459c2ec0938",
              "version_major": 2,
              "version_minor": 0
            },
            "text/plain": [
              "Downloading data:   0%|          | 0.00/251M [00:00<?, ?B/s]"
            ]
          },
          "metadata": {},
          "output_type": "display_data"
        },
        {
          "data": {
            "application/vnd.jupyter.widget-view+json": {
              "model_id": "375ad59ca18e430c8ce5a5184c2a92bc",
              "version_major": 2,
              "version_minor": 0
            },
            "text/plain": [
              "Generating train split:   0%|          | 0/1087947 [00:00<?, ? examples/s]"
            ]
          },
          "metadata": {},
          "output_type": "display_data"
        },
        {
          "name": "stdout",
          "output_type": "stream",
          "text": [
            "1000000\n",
            "text\n"
          ]
        }
      ],
      "source": [
        "!pip install datasets nltk\n",
        "from datasets import load_dataset\n",
        "import nltk\n",
        "nltk.download('punkt')\n",
        "from nltk.tokenize import sent_tokenize\n",
        "\n",
        "\n",
        "\n",
        "text_dataset =  load_dataset(\"SaiedAlshahrani/Arabic_Wikipedia_20230101_bots\")\n",
        "\n",
        "text = text_dataset['train']['text']\n",
        "\n",
        "sentences = []\n",
        "for item in text:\n",
        "    sentences.extend(sent_tokenize(item))\n",
        "\n",
        "documents = sentences[:1000000]\n",
        "print(len(documents))\n",
        "print(documents[0])"
      ]
    },
    {
      "cell_type": "code",
      "execution_count": null,
      "metadata": {
        "id": "Qb6jbZQw5Dfe"
      },
      "outputs": [],
      "source": [
        "len(set(documents))\n",
        "sentences = [word for word in list(set(documents)) if type(word) is str]\n"
      ]
    },
    {
      "cell_type": "code",
      "execution_count": null,
      "metadata": {
        "colab": {
          "base_uri": "https://localhost:8080/"
        },
        "id": "-_ZknWdj5bwx",
        "outputId": "00aa460b-f959-49cd-81f2-38221c633271"
      },
      "outputs": [
        {
          "data": {
            "text/plain": [
              "980245"
            ]
          },
          "execution_count": 4,
          "metadata": {},
          "output_type": "execute_result"
        }
      ],
      "source": [
        "len(sentences)"
      ]
    },
    {
      "cell_type": "code",
      "execution_count": null,
      "metadata": {
        "id": "Kuq5QcypoGIB"
      },
      "outputs": [],
      "source": [
        "sentences = sentences[:500000]\n"
      ]
    },
    {
      "cell_type": "code",
      "execution_count": null,
      "metadata": {
        "colab": {
          "base_uri": "https://localhost:8080/"
        },
        "id": "AQjFbBtjoI02",
        "outputId": "89d86b7a-1632-45e0-b91b-8b28d6e1772b"
      },
      "outputs": [
        {
          "data": {
            "text/plain": [
              "500000"
            ]
          },
          "execution_count": 6,
          "metadata": {},
          "output_type": "execute_result"
        }
      ],
      "source": [
        "len(sentences)"
      ]
    },
    {
      "cell_type": "code",
      "execution_count": null,
      "metadata": {
        "colab": {
          "base_uri": "https://localhost:8080/"
        },
        "id": "kmKTCeJx5cue",
        "outputId": "ddde2b55-adfb-4ce6-f328-df85ca12118a"
      },
      "outputs": [
        {
          "name": "stdout",
          "output_type": "stream",
          "text": [
            "Requirement already satisfied: faiss-gpu in /usr/local/lib/python3.10/dist-packages (1.7.2)\n"
          ]
        }
      ],
      "source": [
        "import numpy as np\n",
        "!pip install faiss-gpu"
      ]
    },
    {
      "cell_type": "code",
      "execution_count": null,
      "metadata": {
        "colab": {
          "base_uri": "https://localhost:8080/"
        },
        "id": "sAs-K73y5ewq",
        "outputId": "3dbd8a0e-fd0a-443d-8a5b-e41acbe0699d"
      },
      "outputs": [
        {
          "name": "stdout",
          "output_type": "stream",
          "text": [
            "Requirement already satisfied: sentence-transformers in /usr/local/lib/python3.10/dist-packages (3.0.1)\n",
            "Requirement already satisfied: transformers<5.0.0,>=4.34.0 in /usr/local/lib/python3.10/dist-packages (from sentence-transformers) (4.42.4)\n",
            "Requirement already satisfied: tqdm in /usr/local/lib/python3.10/dist-packages (from sentence-transformers) (4.66.4)\n",
            "Requirement already satisfied: torch>=1.11.0 in /usr/local/lib/python3.10/dist-packages (from sentence-transformers) (2.3.1+cu121)\n",
            "Requirement already satisfied: numpy in /usr/local/lib/python3.10/dist-packages (from sentence-transformers) (1.26.4)\n",
            "Requirement already satisfied: scikit-learn in /usr/local/lib/python3.10/dist-packages (from sentence-transformers) (1.3.2)\n",
            "Requirement already satisfied: scipy in /usr/local/lib/python3.10/dist-packages (from sentence-transformers) (1.13.1)\n",
            "Requirement already satisfied: huggingface-hub>=0.15.1 in /usr/local/lib/python3.10/dist-packages (from sentence-transformers) (0.23.5)\n",
            "Requirement already satisfied: Pillow in /usr/local/lib/python3.10/dist-packages (from sentence-transformers) (9.4.0)\n",
            "Requirement already satisfied: filelock in /usr/local/lib/python3.10/dist-packages (from huggingface-hub>=0.15.1->sentence-transformers) (3.15.4)\n",
            "Requirement already satisfied: fsspec>=2023.5.0 in /usr/local/lib/python3.10/dist-packages (from huggingface-hub>=0.15.1->sentence-transformers) (2024.5.0)\n",
            "Requirement already satisfied: packaging>=20.9 in /usr/local/lib/python3.10/dist-packages (from huggingface-hub>=0.15.1->sentence-transformers) (24.1)\n",
            "Requirement already satisfied: pyyaml>=5.1 in /usr/local/lib/python3.10/dist-packages (from huggingface-hub>=0.15.1->sentence-transformers) (6.0.1)\n",
            "Requirement already satisfied: requests in /usr/local/lib/python3.10/dist-packages (from huggingface-hub>=0.15.1->sentence-transformers) (2.32.3)\n",
            "Requirement already satisfied: typing-extensions>=3.7.4.3 in /usr/local/lib/python3.10/dist-packages (from huggingface-hub>=0.15.1->sentence-transformers) (4.12.2)\n",
            "Requirement already satisfied: sympy in /usr/local/lib/python3.10/dist-packages (from torch>=1.11.0->sentence-transformers) (1.13.1)\n",
            "Requirement already satisfied: networkx in /usr/local/lib/python3.10/dist-packages (from torch>=1.11.0->sentence-transformers) (3.3)\n",
            "Requirement already satisfied: jinja2 in /usr/local/lib/python3.10/dist-packages (from torch>=1.11.0->sentence-transformers) (3.1.4)\n",
            "Requirement already satisfied: nvidia-cuda-nvrtc-cu12==12.1.105 in /usr/local/lib/python3.10/dist-packages (from torch>=1.11.0->sentence-transformers) (12.1.105)\n",
            "Requirement already satisfied: nvidia-cuda-runtime-cu12==12.1.105 in /usr/local/lib/python3.10/dist-packages (from torch>=1.11.0->sentence-transformers) (12.1.105)\n",
            "Requirement already satisfied: nvidia-cuda-cupti-cu12==12.1.105 in /usr/local/lib/python3.10/dist-packages (from torch>=1.11.0->sentence-transformers) (12.1.105)\n",
            "Requirement already satisfied: nvidia-cudnn-cu12==8.9.2.26 in /usr/local/lib/python3.10/dist-packages (from torch>=1.11.0->sentence-transformers) (8.9.2.26)\n",
            "Requirement already satisfied: nvidia-cublas-cu12==12.1.3.1 in /usr/local/lib/python3.10/dist-packages (from torch>=1.11.0->sentence-transformers) (12.1.3.1)\n",
            "Requirement already satisfied: nvidia-cufft-cu12==11.0.2.54 in /usr/local/lib/python3.10/dist-packages (from torch>=1.11.0->sentence-transformers) (11.0.2.54)\n",
            "Requirement already satisfied: nvidia-curand-cu12==10.3.2.106 in /usr/local/lib/python3.10/dist-packages (from torch>=1.11.0->sentence-transformers) (10.3.2.106)\n",
            "Requirement already satisfied: nvidia-cusolver-cu12==11.4.5.107 in /usr/local/lib/python3.10/dist-packages (from torch>=1.11.0->sentence-transformers) (11.4.5.107)\n",
            "Requirement already satisfied: nvidia-cusparse-cu12==12.1.0.106 in /usr/local/lib/python3.10/dist-packages (from torch>=1.11.0->sentence-transformers) (12.1.0.106)\n",
            "Requirement already satisfied: nvidia-nccl-cu12==2.20.5 in /usr/local/lib/python3.10/dist-packages (from torch>=1.11.0->sentence-transformers) (2.20.5)\n",
            "Requirement already satisfied: nvidia-nvtx-cu12==12.1.105 in /usr/local/lib/python3.10/dist-packages (from torch>=1.11.0->sentence-transformers) (12.1.105)\n",
            "Requirement already satisfied: triton==2.3.1 in /usr/local/lib/python3.10/dist-packages (from torch>=1.11.0->sentence-transformers) (2.3.1)\n",
            "Requirement already satisfied: nvidia-nvjitlink-cu12 in /usr/local/lib/python3.10/dist-packages (from nvidia-cusolver-cu12==11.4.5.107->torch>=1.11.0->sentence-transformers) (12.6.20)\n",
            "Requirement already satisfied: regex!=2019.12.17 in /usr/local/lib/python3.10/dist-packages (from transformers<5.0.0,>=4.34.0->sentence-transformers) (2024.5.15)\n",
            "Requirement already satisfied: safetensors>=0.4.1 in /usr/local/lib/python3.10/dist-packages (from transformers<5.0.0,>=4.34.0->sentence-transformers) (0.4.3)\n",
            "Requirement already satisfied: tokenizers<0.20,>=0.19 in /usr/local/lib/python3.10/dist-packages (from transformers<5.0.0,>=4.34.0->sentence-transformers) (0.19.1)\n",
            "Requirement already satisfied: joblib>=1.1.1 in /usr/local/lib/python3.10/dist-packages (from scikit-learn->sentence-transformers) (1.4.2)\n",
            "Requirement already satisfied: threadpoolctl>=2.0.0 in /usr/local/lib/python3.10/dist-packages (from scikit-learn->sentence-transformers) (3.5.0)\n",
            "Requirement already satisfied: MarkupSafe>=2.0 in /usr/local/lib/python3.10/dist-packages (from jinja2->torch>=1.11.0->sentence-transformers) (2.1.5)\n",
            "Requirement already satisfied: charset-normalizer<4,>=2 in /usr/local/lib/python3.10/dist-packages (from requests->huggingface-hub>=0.15.1->sentence-transformers) (3.3.2)\n",
            "Requirement already satisfied: idna<4,>=2.5 in /usr/local/lib/python3.10/dist-packages (from requests->huggingface-hub>=0.15.1->sentence-transformers) (3.7)\n",
            "Requirement already satisfied: urllib3<3,>=1.21.1 in /usr/local/lib/python3.10/dist-packages (from requests->huggingface-hub>=0.15.1->sentence-transformers) (2.0.7)\n",
            "Requirement already satisfied: certifi>=2017.4.17 in /usr/local/lib/python3.10/dist-packages (from requests->huggingface-hub>=0.15.1->sentence-transformers) (2024.7.4)\n",
            "Requirement already satisfied: mpmath<1.4,>=1.1.0 in /usr/local/lib/python3.10/dist-packages (from sympy->torch>=1.11.0->sentence-transformers) (1.3.0)\n"
          ]
        }
      ],
      "source": [
        "!pip install -U sentence-transformers"
      ]
    },
    {
      "cell_type": "code",
      "execution_count": null,
      "metadata": {
        "id": "BlTRI7RT5nGd"
      },
      "outputs": [],
      "source": [
        "from sentence_transformers import SentenceTransformer\n",
        "model = SentenceTransformer(\"sentence-transformers/all-mpnet-base-v2\")"
      ]
    },
    {
      "cell_type": "code",
      "execution_count": null,
      "metadata": {
        "colab": {
          "base_uri": "https://localhost:8080/"
        },
        "id": "4NbUdnJp5pju",
        "outputId": "c819eef1-c1b9-40f7-9808-d7e022b92c6e"
      },
      "outputs": [
        {
          "name": "stdout",
          "output_type": "stream",
          "text": [
            "CPU times: user 3h 4min 39s, sys: 23.1 s, total: 3h 5min 2s\n",
            "Wall time: 2h 55min 43s\n"
          ]
        },
        {
          "data": {
            "text/plain": [
              "(500000, 768)"
            ]
          },
          "execution_count": 10,
          "metadata": {},
          "output_type": "execute_result"
        }
      ],
      "source": [
        "%%time\n",
        "sentence_embeddings = model.encode(sentences)\n",
        "sentence_embeddings.shape"
      ]
    },
    {
      "cell_type": "code",
      "execution_count": null,
      "metadata": {
        "id": "0xHvJou3C3Up"
      },
      "outputs": [],
      "source": []
    },
    {
      "cell_type": "code",
      "execution_count": null,
      "metadata": {
        "colab": {
          "base_uri": "https://localhost:8080/",
          "height": 87
        },
        "id": "V95wvsMW51tS",
        "outputId": "48ddbcb8-e3fc-41c9-8710-5123f2d16517"
      },
      "outputs": [
        {
          "data": {
            "application/vnd.google.colaboratory.intrinsic+json": {
              "type": "string"
            },
            "text/plain": [
              "'إيمي هيكرلينج هي كات بة وكاتبة سيناريو ومنتجة أفلام ومخرجة وممثلة أمريكية ولدت في مايو بذا برونكس في الولايات المتحدة أعمال أفلام فاست تايمز آت ريدجمونت مراجع وصلات خارجية تصنيف منتجات تلفزيون أمريكيات تصنيف أشخاص من البرونكس تصنيف خريجو مدرسة تيش العليا للفنون تصنيف خريجو معهد الكونسرفتوار تصنيف كاتبات تلفاز أمريكيات تصنيف كاتبات سيناريو أمريكيات تصنيف كتاب أمريكيون يهود تصنيف كتاب تلفاز أمريكيون تصنيف كتاب سيناريو من ولاية نيويورك تصنيف مخرجات أفلام أمريكيات تصنيف مخرجات تلفزيون تصنيف مخرجو أفلام كوميدية تصنيف مخرجو أفلام من مدينة نيويورك تصنيف مخرجو تلفزيون أمريكيون تصنيف منتجات أفلام أمريكيات تصنيف منتجات تلفزيون تصنيف منتجو أفلام أمريكيون تصنيف منتجو تلفزيون من مدينة نيويورك تصنيف مواليد تصنيف خريجو المدارس الثانوية في الفن وتصميم تصنيف مخرجات تلفزيون أمريكيات'"
            ]
          },
          "execution_count": 11,
          "metadata": {},
          "output_type": "execute_result"
        }
      ],
      "source": [
        "sentences[1]"
      ]
    },
    {
      "cell_type": "code",
      "execution_count": null,
      "metadata": {
        "colab": {
          "base_uri": "https://localhost:8080/"
        },
        "id": "x5WNmkNE6fjd",
        "outputId": "4f17df39-59db-4358-83bb-5392efd4ad45"
      },
      "outputs": [
        {
          "data": {
            "text/plain": [
              "array([ 9.76093020e-03,  5.80193065e-02, -9.09396261e-03,  1.32582849e-02,\n",
              "       -5.56323491e-02,  3.29734525e-03,  7.65440241e-02,  1.78928431e-02,\n",
              "        4.48819101e-02,  1.54563077e-02,  2.36134846e-02, -1.91186871e-02,\n",
              "        1.42873069e-02, -4.31122072e-02, -2.32334295e-03,  4.46159542e-02,\n",
              "       -2.64614401e-03,  1.29004624e-02, -2.15329062e-02,  5.20916991e-02,\n",
              "       -3.92509028e-02,  4.89964560e-02,  3.70187499e-03, -4.79738083e-04,\n",
              "        4.57577892e-02,  1.42234024e-02,  1.36258528e-02, -8.27547386e-02,\n",
              "        2.42147525e-03,  7.76941190e-03,  2.37005181e-03,  3.41797364e-03,\n",
              "       -3.80556695e-02, -3.71713229e-02,  2.90714615e-06, -3.15324031e-02,\n",
              "        1.35303633e-02,  8.62694718e-03, -1.37330657e-02,  5.94594553e-02,\n",
              "       -1.63851865e-02, -6.71755429e-03, -5.46265952e-03, -5.77758113e-03,\n",
              "       -4.73499484e-02,  1.81690883e-02, -3.09005603e-02,  4.78188172e-02,\n",
              "        5.56063056e-02, -4.02357392e-02, -8.76401737e-03,  4.43951339e-02,\n",
              "       -4.96436208e-02,  9.59890522e-03,  2.93002147e-02,  7.03936517e-02,\n",
              "       -1.22679146e-02, -1.02468049e-02, -8.92826691e-02,  3.47179584e-02,\n",
              "        1.14979483e-02,  4.70915809e-02, -3.75367813e-02, -6.26487751e-03,\n",
              "       -3.40442806e-02, -7.95954745e-03,  4.77545150e-03, -5.53721227e-02,\n",
              "        6.92875311e-02, -4.24807472e-03, -6.63406542e-03, -1.17813712e-02,\n",
              "       -2.49116711e-04,  2.99613010e-02, -5.98673224e-02, -1.12885041e-02,\n",
              "        9.72236448e-04, -1.59457922e-02, -5.57757057e-02,  2.13286597e-02,\n",
              "        1.70603499e-01,  4.47009839e-02, -2.26557963e-02, -6.13834895e-03,\n",
              "       -2.96126567e-02,  6.56211451e-02, -2.59941295e-02, -1.16469143e-02,\n",
              "       -5.28717898e-02, -2.69873310e-02, -2.89864969e-02, -7.72778615e-02,\n",
              "        1.09675284e-02,  1.63006540e-02,  1.92526355e-02, -5.98606188e-03,\n",
              "        4.40133065e-02, -5.22327088e-02,  4.76188958e-02, -8.93057361e-02,\n",
              "       -2.56390013e-02,  8.26243237e-02,  6.63377764e-03,  2.92985905e-02,\n",
              "       -2.56251264e-02, -1.63856782e-02, -7.26820435e-03, -1.86209058e-04,\n",
              "       -1.12007996e-02,  5.59867099e-02, -3.40080969e-02,  2.91845668e-02,\n",
              "        4.44374159e-02, -1.02394208e-01, -5.54759130e-02,  1.93895437e-02,\n",
              "       -2.24165190e-02, -2.20700487e-04, -3.59507278e-02,  4.53937612e-02,\n",
              "       -1.37430457e-02, -1.78356618e-02, -3.44752185e-02,  8.77088122e-03,\n",
              "       -3.20423464e-03,  7.66062587e-02, -6.72787568e-03, -7.02149235e-03,\n",
              "       -7.99718406e-03,  2.83464454e-02,  3.39265540e-02, -4.10488136e-02,\n",
              "       -8.13459326e-03,  1.13306968e-02,  1.21141439e-02,  1.86093077e-02,\n",
              "       -4.06602919e-02,  5.32199861e-03,  7.12084696e-02, -1.14296144e-02,\n",
              "       -2.14787256e-02,  7.02339225e-03,  6.66439757e-02,  2.42226087e-02,\n",
              "       -1.87230837e-02,  1.11494232e-02, -4.19512205e-02,  1.53625021e-02,\n",
              "       -6.23710174e-03, -6.17976161e-03,  1.45726791e-02, -2.49003097e-02,\n",
              "        3.65513898e-02,  1.65458228e-02,  2.62323394e-02,  4.42888066e-02,\n",
              "        4.63231280e-02, -1.86133049e-02,  6.40318841e-02, -2.46515125e-02,\n",
              "        2.98137078e-03, -2.45548226e-02, -3.30345482e-02, -4.49826047e-02,\n",
              "        8.76540609e-04,  5.95234782e-02,  3.30779050e-03, -2.66097635e-02,\n",
              "       -3.37582082e-02,  1.00035658e-02,  2.19908506e-02,  2.52598580e-02,\n",
              "       -5.41366376e-02, -1.02774343e-02, -1.54139958e-02, -4.91967192e-03,\n",
              "       -6.48353295e-03,  7.63016492e-02, -9.68379751e-02,  2.26151571e-03,\n",
              "        2.93144770e-02,  1.08980916e-01,  3.72645929e-02, -1.73490960e-02,\n",
              "        6.24515451e-02,  5.81887513e-02,  4.13706712e-02,  8.19668099e-02,\n",
              "       -4.94732056e-03,  4.69163235e-04,  6.25801459e-03,  2.63544079e-02,\n",
              "        4.67157550e-02, -2.52904277e-02,  2.25859322e-02,  3.85519452e-02,\n",
              "        4.60079387e-02, -3.45573016e-02,  3.45430411e-02, -1.69151034e-02,\n",
              "        2.74195652e-02, -3.52995247e-02, -1.81096140e-02, -4.64566536e-02,\n",
              "       -1.13558257e-02,  3.25178355e-03, -3.01295705e-02, -2.68634837e-02,\n",
              "        6.51235599e-03, -6.56641554e-03, -3.80687765e-03,  2.01999862e-02,\n",
              "        1.42607475e-02,  1.28573813e-02,  8.40933807e-03, -5.02754934e-03,\n",
              "        8.97323620e-03, -1.45646697e-03, -2.71081049e-02,  6.40501305e-02,\n",
              "       -9.54956468e-03,  5.78641370e-02,  1.12618543e-02,  7.42060831e-04,\n",
              "        3.89901064e-02, -2.53004450e-02, -2.49161180e-02, -3.81858461e-02,\n",
              "       -2.06201226e-02,  1.87349098e-04,  9.76860989e-03,  2.16669887e-02,\n",
              "       -1.79561786e-02, -3.20276543e-02, -3.18198986e-02,  3.28686275e-02,\n",
              "       -1.89538058e-02, -2.84689683e-02,  6.65443437e-03,  3.61731998e-03,\n",
              "       -1.61565188e-02, -4.29185815e-02, -2.46360321e-02, -3.09550995e-03,\n",
              "        1.33297611e-02,  5.52631095e-02,  6.67914599e-02,  2.19406020e-02,\n",
              "       -2.30820812e-02, -2.22568214e-03,  4.62924270e-03, -2.67188938e-04,\n",
              "       -8.96035209e-02,  9.20037739e-03,  7.63779040e-03, -6.80306405e-02,\n",
              "       -1.11620232e-01, -2.08638441e-02,  9.19159502e-03,  3.42791118e-02,\n",
              "       -2.90410034e-02,  2.86459643e-02, -1.14232060e-02, -1.61687024e-02,\n",
              "        9.29286182e-02, -3.82510573e-02,  5.46963476e-02, -8.25931504e-03,\n",
              "       -1.87784322e-02,  5.41068846e-03,  2.19417978e-02,  1.29038086e-02,\n",
              "        7.26628071e-03,  1.25764236e-02, -2.00846251e-02, -5.07612713e-02,\n",
              "       -3.49952057e-02,  7.87758678e-02,  2.20464841e-02,  3.20609547e-02,\n",
              "       -2.78742351e-02, -1.05899321e-02,  1.59115754e-02,  2.16964949e-02,\n",
              "       -1.92325599e-02,  7.43053854e-03,  4.41020168e-02, -1.46593209e-02,\n",
              "        3.38458084e-02, -5.08725420e-02, -9.22057964e-03,  9.67130717e-03,\n",
              "       -3.97269279e-02, -1.40867457e-02, -8.52577295e-03,  1.05186822e-02,\n",
              "       -2.94354223e-02,  3.70938443e-02,  7.50793051e-03,  6.06705695e-02,\n",
              "       -3.78824770e-02, -2.67086457e-02, -4.37016785e-03,  3.86396470e-03,\n",
              "       -3.37019823e-02, -4.97450121e-03,  2.86219064e-02, -6.91429898e-03,\n",
              "       -7.54788220e-02,  5.30445296e-03, -1.97966932e-03,  2.02986207e-02,\n",
              "        2.40554456e-02, -1.73149118e-03, -4.05933931e-02,  1.44842584e-02,\n",
              "       -2.62107421e-03, -2.70690434e-02,  4.14870214e-03,  8.94131362e-02,\n",
              "        3.32895778e-02,  1.95982903e-02, -5.11789620e-02,  1.11590158e-02,\n",
              "       -1.29153505e-02,  1.51992533e-02,  1.74207985e-02, -2.99816951e-02,\n",
              "       -2.86578294e-02, -2.46514771e-02,  3.53790587e-03,  2.72440072e-02,\n",
              "       -1.93356432e-03, -4.99180928e-02, -2.58955136e-02, -3.41210142e-02,\n",
              "       -4.22381563e-03, -5.57143502e-02, -1.21146964e-04, -2.27490552e-02,\n",
              "       -7.94189051e-03, -2.07367782e-02,  3.98726808e-03,  3.02080736e-02,\n",
              "        5.03080711e-02, -7.79179670e-03, -3.34751308e-02, -2.09945603e-03,\n",
              "        6.27590157e-03,  1.35432007e-02,  6.85592415e-03,  1.52686918e-02,\n",
              "       -1.28511281e-03,  1.14617115e-02, -1.33778118e-02, -3.80723886e-02,\n",
              "       -1.37378667e-02, -9.15503409e-03, -4.23966087e-02, -2.25956738e-02,\n",
              "       -2.46383529e-02,  2.19583400e-02, -2.81526241e-02, -1.05747581e-02,\n",
              "        3.04403603e-02,  6.46903664e-02,  1.59540698e-02,  1.52162509e-02,\n",
              "        1.40732445e-03, -6.08978905e-02, -1.23897837e-02, -9.71780065e-03,\n",
              "       -6.74118102e-02,  5.46881072e-02, -4.48892899e-02,  4.64446209e-02,\n",
              "        4.97844582e-03,  2.86732186e-02, -3.19051482e-02, -3.63148078e-02,\n",
              "        1.24265281e-02, -5.28820232e-02,  6.88833743e-02,  2.69704778e-02,\n",
              "       -5.25748357e-02, -1.33482823e-02,  3.08977440e-02, -6.29255502e-03,\n",
              "        7.19905496e-02,  5.78713324e-03,  1.20250564e-02, -6.45455047e-02,\n",
              "        6.19327743e-03, -2.11308021e-02,  2.97132647e-03,  3.90784368e-02,\n",
              "       -6.15475932e-03, -5.40481396e-02,  3.75180617e-02,  2.44204625e-02,\n",
              "       -3.67990360e-02, -3.90159972e-02,  6.95153279e-03,  3.10109332e-02,\n",
              "        1.85842458e-02, -3.08795460e-03, -6.41314499e-03,  1.53107075e-02,\n",
              "        6.11452647e-02, -8.67365897e-02,  2.08351761e-02, -6.05835672e-03,\n",
              "       -3.87454219e-02, -1.41879581e-02,  2.81323749e-03, -2.78718974e-02,\n",
              "       -3.96643281e-02, -4.16574515e-02, -2.99393814e-02, -5.57547510e-02,\n",
              "        2.84465402e-02,  5.16321920e-02,  1.41305737e-02, -3.97611316e-03,\n",
              "        1.39483493e-02,  2.53665112e-02,  1.20631391e-02, -1.22145116e-02,\n",
              "       -3.33553553e-02, -3.91560281e-03, -1.79095641e-02,  5.15926443e-02,\n",
              "       -2.49138735e-02, -1.06005953e-03, -1.16922893e-02,  3.32168825e-02,\n",
              "        1.97924823e-02,  1.62494946e-02, -1.60230007e-02, -1.14719616e-02,\n",
              "        2.66283192e-02, -4.91152480e-02,  1.00680813e-01,  2.76242103e-02,\n",
              "        2.69452110e-02,  2.12822407e-02, -8.08689091e-03,  7.12858364e-02,\n",
              "        1.97167043e-03,  6.32503943e-04, -3.28583866e-02, -4.87512443e-03,\n",
              "       -6.17219275e-03, -7.20211789e-02,  3.60692441e-02,  3.19947978e-03,\n",
              "       -1.33036435e-01, -7.26577640e-02,  1.82457194e-02,  6.79273158e-02,\n",
              "       -1.77523233e-02,  5.42348102e-02, -3.03929038e-02,  4.55899090e-02,\n",
              "        5.62353171e-02, -3.03107556e-02,  7.39211403e-03, -4.62956913e-02,\n",
              "       -8.68582539e-03, -2.50176750e-02,  5.57967648e-03,  6.33753557e-03,\n",
              "       -1.56975258e-02,  4.33359891e-02,  8.44279118e-03, -2.38038469e-02,\n",
              "       -5.97083569e-02, -2.16248017e-02, -9.35927182e-02, -1.95013825e-02,\n",
              "        1.06321461e-02,  1.10157141e-02, -1.85422134e-02, -3.52359228e-02,\n",
              "       -2.19759829e-02, -6.19178116e-02, -1.01395585e-02, -1.52845001e-02,\n",
              "       -1.96474530e-02, -1.29722795e-02, -3.76821868e-02,  4.59034145e-02,\n",
              "       -3.32938023e-02, -2.09371131e-02, -7.42836017e-03, -6.29264629e-03,\n",
              "       -5.40562123e-02,  4.58813794e-02, -5.16612735e-03,  3.79021419e-03,\n",
              "        4.63187210e-02,  6.29656529e-03,  1.21494345e-02, -2.30406020e-02,\n",
              "       -6.58800080e-03, -2.26220544e-02, -4.24451567e-03,  2.19195206e-02,\n",
              "        5.15546836e-03, -2.85906214e-02,  1.63244754e-02,  6.26943037e-02,\n",
              "       -5.15552014e-02, -8.63075629e-02, -1.80571284e-02, -7.97217246e-03,\n",
              "       -3.58998142e-02, -5.51357828e-02,  6.33848161e-02, -6.86622364e-03,\n",
              "        1.52473329e-02,  4.65483218e-03,  4.29836437e-02, -4.09438200e-02,\n",
              "       -1.97349060e-02, -3.08741964e-02, -8.70077033e-03, -2.53673410e-04,\n",
              "       -4.69278218e-03,  1.29822232e-02,  5.37747592e-02, -6.65957332e-02,\n",
              "       -4.55890447e-02, -4.07848088e-03, -1.70750879e-02, -3.81579064e-02,\n",
              "       -3.28535326e-02, -2.56321747e-02, -3.12004611e-02, -3.41090038e-02,\n",
              "        1.40678464e-03, -5.42974807e-02,  5.04498035e-02,  1.12035591e-02,\n",
              "       -2.87679452e-02,  1.07773552e-02, -2.17652116e-02, -3.64983939e-02,\n",
              "        1.62987411e-02, -2.58240942e-02,  3.93747212e-03,  3.78419235e-02,\n",
              "        1.93464030e-02,  1.74877718e-02,  1.75496992e-02, -6.71692533e-33,\n",
              "        1.88987218e-02,  2.59072650e-02,  3.07476129e-02,  1.09431311e-01,\n",
              "       -5.73216155e-02, -1.39763141e-02, -5.72810732e-02, -8.61713756e-03,\n",
              "       -4.86105233e-02, -2.60319579e-02, -1.62771232e-02, -7.80883431e-03,\n",
              "        1.58591326e-02,  2.38956418e-02,  3.08868922e-02, -6.40833080e-02,\n",
              "        6.77181408e-03,  6.16141129e-03,  2.59641907e-03, -2.76656132e-02,\n",
              "        3.82207334e-02, -4.82176691e-02,  1.16557339e-02,  3.50899957e-02,\n",
              "        3.77121419e-02, -2.16826461e-02, -9.17295634e-04, -3.92453410e-02,\n",
              "       -1.22322943e-02, -2.54644658e-02, -1.78244840e-02, -4.92279381e-02,\n",
              "        2.71468330e-02, -5.36174327e-02,  1.42546082e-02, -1.87918004e-02,\n",
              "       -1.10313511e-02, -1.62345693e-02, -6.85757548e-02,  2.87671685e-02,\n",
              "       -7.54991621e-02,  5.21411896e-02,  4.21579070e-02,  3.96830216e-02,\n",
              "        3.51656950e-03, -3.04316767e-02, -1.75995138e-02,  9.33424279e-04,\n",
              "       -4.43429779e-03,  3.57641582e-03, -5.54807968e-02, -2.54836096e-03,\n",
              "        5.14185941e-03,  9.00030881e-02, -4.06215107e-03,  1.48679959e-02,\n",
              "        2.78503858e-02, -3.81705761e-02, -4.00138870e-02, -3.43663692e-02,\n",
              "        4.75805774e-02, -2.64422614e-02,  3.94814014e-02,  1.75303109e-02,\n",
              "        2.30153631e-02, -5.45646362e-02, -6.29574955e-02,  7.85824843e-03,\n",
              "        3.68315652e-02,  4.27091718e-02,  3.00722905e-02, -6.27414137e-02,\n",
              "       -3.17814015e-02,  3.09176371e-02, -1.76490434e-02, -4.54537831e-02,\n",
              "       -5.46365827e-02,  2.90484801e-02, -2.43036188e-02,  7.84260333e-02,\n",
              "       -4.58136164e-02,  4.43541259e-02,  1.93427559e-02, -1.84664056e-02,\n",
              "       -1.90449376e-02,  2.23734677e-02, -2.12547127e-02,  1.18517071e-01,\n",
              "       -1.19292112e-02, -2.41273735e-02,  7.43672550e-02,  7.01566413e-02,\n",
              "       -2.55525727e-02,  6.22756630e-02,  2.36419905e-02,  7.13783829e-03,\n",
              "        3.07220668e-02, -2.21721400e-02,  2.67966930e-02, -2.71394327e-02,\n",
              "       -1.95071716e-02, -1.68481544e-02, -4.18518782e-02, -1.30151594e-02,\n",
              "        6.46550804e-02,  3.16262320e-02, -8.29400122e-03, -1.37677463e-02,\n",
              "       -5.45340404e-02, -1.68864895e-02, -3.26349400e-02, -3.86463199e-03,\n",
              "        6.55099079e-02, -3.83948274e-02, -1.11578321e-02,  2.59382604e-03,\n",
              "       -4.14417777e-03,  1.75800789e-02,  2.87290886e-02,  4.92169941e-03,\n",
              "       -9.62255243e-03,  2.46624127e-02, -1.59023535e-02, -7.77746039e-03,\n",
              "       -1.81212723e-02, -3.68616078e-03,  6.88555092e-02,  3.54396692e-03,\n",
              "       -2.95325052e-02, -6.40370473e-02,  3.24096642e-02, -3.67614366e-02,\n",
              "        3.45460677e-07, -1.95662640e-02, -8.11698195e-03, -2.33836826e-02,\n",
              "        6.08700281e-03,  1.28303114e-02,  6.58224300e-02, -2.55003087e-02,\n",
              "        2.33003534e-02,  6.22004531e-02,  2.33525112e-02,  5.54486271e-03,\n",
              "        6.91581657e-03,  1.00627542e-02,  3.16410661e-02,  4.00239900e-02,\n",
              "        7.42726028e-03,  7.05576539e-02,  1.90121066e-02,  2.36120094e-02,\n",
              "        2.98423711e-02,  3.39000821e-02, -1.19046177e-04,  8.43556318e-03,\n",
              "       -4.41642404e-02,  3.53893382e-03, -5.67705231e-03,  1.82503881e-03,\n",
              "       -4.58226167e-02, -9.86543298e-03, -2.01776214e-02,  2.69554295e-02,\n",
              "       -8.49919021e-03, -2.92722462e-03,  2.68884525e-02, -2.95496285e-02,\n",
              "       -6.57530203e-02, -1.84266234e-03, -2.31429860e-02,  4.31304798e-02,\n",
              "        4.34901267e-02, -3.99702005e-02, -8.55165944e-02,  2.24002954e-02,\n",
              "       -9.20831785e-02, -2.77854130e-03, -1.43507933e-02,  3.46790790e-03,\n",
              "       -2.05161870e-02, -1.81866530e-02,  3.90634760e-02,  6.52911440e-02,\n",
              "        5.93985580e-02, -3.34400241e-03,  1.85272042e-02, -2.63986061e-04,\n",
              "        2.60257479e-02,  2.82181203e-02,  2.53963601e-02,  2.25079190e-02,\n",
              "       -3.13012451e-02, -8.52274802e-03,  2.25458778e-02, -1.56156730e-03,\n",
              "        1.11773707e-01, -1.95981786e-02,  5.20923622e-02, -1.18555585e-02,\n",
              "        4.10913979e-34, -3.57803851e-02, -6.08579516e-02,  1.60869572e-03,\n",
              "       -3.20578441e-02,  6.55035395e-03, -4.36182483e-04, -2.34473739e-02,\n",
              "        2.15496179e-02,  2.62687379e-03,  2.48833187e-03, -3.33508141e-02],\n",
              "      dtype=float32)"
            ]
          },
          "execution_count": 12,
          "metadata": {},
          "output_type": "execute_result"
        }
      ],
      "source": [
        "sentence_embeddings[1]"
      ]
    },
    {
      "cell_type": "code",
      "execution_count": null,
      "metadata": {
        "id": "5ClAL59T6lyr"
      },
      "outputs": [],
      "source": [
        "import faiss"
      ]
    },
    {
      "cell_type": "code",
      "execution_count": null,
      "metadata": {
        "colab": {
          "base_uri": "https://localhost:8080/"
        },
        "id": "y0u2LlTR6nti",
        "outputId": "6e3a7f18-83cf-401c-d4d1-58d9e6996929"
      },
      "outputs": [
        {
          "data": {
            "text/plain": [
              "768"
            ]
          },
          "execution_count": 14,
          "metadata": {},
          "output_type": "execute_result"
        }
      ],
      "source": [
        "d = sentence_embeddings.shape[1]\n",
        "d"
      ]
    },
    {
      "cell_type": "code",
      "execution_count": null,
      "metadata": {
        "colab": {
          "base_uri": "https://localhost:8080/",
          "height": 172
        },
        "id": "quMiBFhG6vQU",
        "outputId": "e6e18557-d9c4-43d3-c435-fd10c27fb4f0"
      },
      "outputs": [
        {
          "data": {
            "text/html": [
              "<div style=\"max-width:800px; border: 1px solid var(--colab-border-color);\"><style>\n",
              "      pre.function-repr-contents {\n",
              "        overflow-x: auto;\n",
              "        padding: 8px 12px;\n",
              "        max-height: 500px;\n",
              "      }\n",
              "\n",
              "      pre.function-repr-contents.function-repr-contents-collapsed {\n",
              "        cursor: pointer;\n",
              "        max-height: 100px;\n",
              "      }\n",
              "    </style>\n",
              "    <pre style=\"white-space: initial; background:\n",
              "         var(--colab-secondary-surface-color); padding: 8px 12px;\n",
              "         border-bottom: 1px solid var(--colab-border-color);\"><b>faiss.swigfaiss.Index</b><br/>def __init__(*args, **kwargs)</pre><pre class=\"function-repr-contents function-repr-contents-collapsed\" style=\"\"><a class=\"filepath\" style=\"display:none\" href=\"#\">/usr/local/lib/python3.10/dist-packages/faiss/swigfaiss.py</a> Abstract structure for an index, supports adding vectors and searching them.\n",
              "\n",
              "All vectors provided at add or search time are 32-bit float arrays,\n",
              "although the internal representation may vary.</pre>\n",
              "      <script>\n",
              "      if (google.colab.kernel.accessAllowed && google.colab.files && google.colab.files.view) {\n",
              "        for (const element of document.querySelectorAll('.filepath')) {\n",
              "          element.style.display = 'block'\n",
              "          element.onclick = (event) => {\n",
              "            event.preventDefault();\n",
              "            event.stopPropagation();\n",
              "            google.colab.files.view(element.textContent, 1864);\n",
              "          };\n",
              "        }\n",
              "      }\n",
              "      for (const element of document.querySelectorAll('.function-repr-contents')) {\n",
              "        element.onclick = (event) => {\n",
              "          event.preventDefault();\n",
              "          event.stopPropagation();\n",
              "          element.classList.toggle('function-repr-contents-collapsed');\n",
              "        };\n",
              "      }\n",
              "      </script>\n",
              "      </div>"
            ],
            "text/plain": [
              "faiss.swigfaiss.Index"
            ]
          },
          "execution_count": 15,
          "metadata": {},
          "output_type": "execute_result"
        }
      ],
      "source": [
        "faiss.Index"
      ]
    },
    {
      "cell_type": "code",
      "execution_count": null,
      "metadata": {
        "id": "kKD_OmSM6v9H"
      },
      "outputs": [],
      "source": [
        "index = faiss.IndexFlatL2(d)"
      ]
    },
    {
      "cell_type": "code",
      "execution_count": null,
      "metadata": {
        "colab": {
          "base_uri": "https://localhost:8080/"
        },
        "id": "F6pcIVmr68vK",
        "outputId": "c824e201-9ab4-4225-a3b1-8fd05e6a5c57"
      },
      "outputs": [
        {
          "data": {
            "text/plain": [
              "True"
            ]
          },
          "execution_count": 17,
          "metadata": {},
          "output_type": "execute_result"
        }
      ],
      "source": [
        "index.is_trained"
      ]
    },
    {
      "cell_type": "code",
      "execution_count": null,
      "metadata": {
        "id": "oJPwftIS692q"
      },
      "outputs": [],
      "source": [
        "index.add(sentence_embeddings)"
      ]
    },
    {
      "cell_type": "code",
      "execution_count": null,
      "metadata": {
        "colab": {
          "base_uri": "https://localhost:8080/"
        },
        "id": "cZs-o2jJ7BPu",
        "outputId": "5688ce5e-59d1-4c52-d33c-95ef291d1ab7"
      },
      "outputs": [
        {
          "data": {
            "text/plain": [
              "500000"
            ]
          },
          "execution_count": 19,
          "metadata": {},
          "output_type": "execute_result"
        }
      ],
      "source": [
        "index.ntotal"
      ]
    },
    {
      "cell_type": "code",
      "execution_count": null,
      "metadata": {
        "id": "97xSM9cx7DX0"
      },
      "outputs": [],
      "source": [
        "k = 10\n",
        "xq = model.encode([\"الولايات المتحدة\"])"
      ]
    },
    {
      "cell_type": "code",
      "execution_count": null,
      "metadata": {
        "colab": {
          "base_uri": "https://localhost:8080/"
        },
        "id": "GSVPINhl7VHm",
        "outputId": "521fba6e-a9f8-4799-c7ef-2c3dc86e9e92"
      },
      "outputs": [
        {
          "name": "stdout",
          "output_type": "stream",
          "text": [
            "[[242796 483829 151213  45499 332406 448423 292629 220081 357742 497713]]\n",
            "CPU times: user 531 ms, sys: 5 µs, total: 531 ms\n",
            "Wall time: 739 ms\n"
          ]
        }
      ],
      "source": [
        "%%time\n",
        "D, I = index.search(xq, k)\n",
        "print(I)"
      ]
    },
    {
      "cell_type": "code",
      "execution_count": null,
      "metadata": {
        "colab": {
          "base_uri": "https://localhost:8080/"
        },
        "id": "M11at3U-7YhP",
        "outputId": "97445ef0-6848-424a-f9ce-1712d4c0dc53"
      },
      "outputs": [
        {
          "data": {
            "text/plain": [
              "['242796:                                                                                                                                                                                                                               لغة ايبيرية                                                                                                                                                                                                                                                                                                                                                                                                                                                                                                                                                                                                          تصنيف أيزو',\n",
              " '483829: إيان كاري هو ودي جيه أمريكي ولد في سبتمبر في بالتيمور في الولايات المتحدة',\n",
              " '151213:                        لاهندا                                                                                                           لغة الإشارة الليبية                                                                   لغة لادان                                                                                                                                                                                                                                                            لغة لكي                                                                                                                                                                                                                                                                                                                                                                                                                                                                                                                           تصنيف أيزو',\n",
              " '45499:                                                                                                                                             لغة بيكسي                                                                                                                                                                                                                                                                                                                                                                                 صينية يوي                                                                                                                      تصنيف أيزو',\n",
              " '332406: يح الاسم العلمي  جنس حشرات من العث وتنتمي إلى فصيلة الليليات الأنواع                                                      المراجع          تصنيف ليليات',\n",
              " '448423: حسن أباد هي     تقع في فارس في إيران انظر أيضا قائمة مدن إيران مراجع تصنيف أماكن مأهولة في مقاطعة فيروز آباد',\n",
              " '292629: إرنست ديفيد هو ألماني ولد في مارس وتوفي في معرض صور              مراجع تصنيف مواليد تصنيف وفيات',\n",
              " '220081: وب جنس حشرات عثية من فصيلة الزخلوبيات أنواع مختارة             زخلوب العفص                              المراجع    تصنيف زخلوبيات',\n",
              " '357742: شريان كبدي مخصوص وهو فرع من شريان كبدي أصلي معرض صور                 مراجع',\n",
              " '497713:                                                                                                اليونانية الحديثة                                          اللغة المانينكية                                                                                                                                                                                                    لغة إتروية                                           إكستريمادوران              تصنيف أيزو']"
            ]
          },
          "execution_count": 22,
          "metadata": {},
          "output_type": "execute_result"
        }
      ],
      "source": [
        "[f'{i}: {sentences[i]}' for i in I[0]]"
      ]
    },
    {
      "cell_type": "code",
      "execution_count": null,
      "metadata": {
        "id": "3bFuraDy7dpd"
      },
      "outputs": [],
      "source": [
        "nlist = 100\n",
        "quantizer = faiss.IndexFlatL2(d)\n",
        "index = faiss.IndexIVFFlat(quantizer, d, nlist)"
      ]
    },
    {
      "cell_type": "code",
      "execution_count": null,
      "metadata": {
        "colab": {
          "base_uri": "https://localhost:8080/"
        },
        "id": "TODizHOs7oiy",
        "outputId": "9a2d3cc0-ce71-40c6-bd99-52c714344fff"
      },
      "outputs": [
        {
          "data": {
            "text/plain": [
              "False"
            ]
          },
          "execution_count": 24,
          "metadata": {},
          "output_type": "execute_result"
        }
      ],
      "source": [
        "index.is_trained"
      ]
    },
    {
      "cell_type": "code",
      "execution_count": null,
      "metadata": {
        "colab": {
          "base_uri": "https://localhost:8080/"
        },
        "id": "crORPTjm7p42",
        "outputId": "a74a5f09-012f-4694-fd5a-c2c12b87c51c"
      },
      "outputs": [
        {
          "data": {
            "text/plain": [
              "True"
            ]
          },
          "execution_count": 25,
          "metadata": {},
          "output_type": "execute_result"
        }
      ],
      "source": [
        "index.train(sentence_embeddings)\n",
        "index.is_trained"
      ]
    },
    {
      "cell_type": "code",
      "execution_count": null,
      "metadata": {
        "colab": {
          "base_uri": "https://localhost:8080/"
        },
        "id": "w6o-5JFs7vZO",
        "outputId": "d85c939c-92ad-40d6-aa42-08b1a005cc8d"
      },
      "outputs": [
        {
          "data": {
            "text/plain": [
              "500000"
            ]
          },
          "execution_count": 26,
          "metadata": {},
          "output_type": "execute_result"
        }
      ],
      "source": [
        "index.add(sentence_embeddings)\n",
        "index.ntotal"
      ]
    },
    {
      "cell_type": "code",
      "execution_count": null,
      "metadata": {
        "colab": {
          "base_uri": "https://localhost:8080/"
        },
        "id": "Ss8hwCT070gz",
        "outputId": "3a2bb286-28cf-4d8c-ee3c-261e46b25858"
      },
      "outputs": [
        {
          "name": "stdout",
          "output_type": "stream",
          "text": [
            "[[483829 332406 448423 292629 220081 331482 155072 201987 204767 416352]]\n",
            "CPU times: user 6 ms, sys: 3 µs, total: 6 ms\n",
            "Wall time: 5.63 ms\n"
          ]
        }
      ],
      "source": [
        "%%time\n",
        "D, I = index.search(xq, k)\n",
        "print(I)"
      ]
    },
    {
      "cell_type": "code",
      "execution_count": null,
      "metadata": {
        "colab": {
          "base_uri": "https://localhost:8080/"
        },
        "id": "SbQMLckDgcLW",
        "outputId": "3fecbacd-7853-4de5-ef92-da003d8f5632"
      },
      "outputs": [
        {
          "data": {
            "text/plain": [
              "['483829: إيان كاري هو ودي جيه أمريكي ولد في سبتمبر في بالتيمور في الولايات المتحدة',\n",
              " '332406: يح الاسم العلمي  جنس حشرات من العث وتنتمي إلى فصيلة الليليات الأنواع                                                      المراجع          تصنيف ليليات',\n",
              " '448423: حسن أباد هي     تقع في فارس في إيران انظر أيضا قائمة مدن إيران مراجع تصنيف أماكن مأهولة في مقاطعة فيروز آباد',\n",
              " '292629: إرنست ديفيد هو ألماني ولد في مارس وتوفي في معرض صور              مراجع تصنيف مواليد تصنيف وفيات',\n",
              " '220081: وب جنس حشرات عثية من فصيلة الزخلوبيات أنواع مختارة             زخلوب العفص                              المراجع    تصنيف زخلوبيات',\n",
              " '331482: جنس فطريات من فصيلة الدشيات أنواعه نحو الأنواع                                           المراجع تصنيف دشيات',\n",
              " '155072: جنس دويبات مائية من القشريات وفصيلة الدوبريات أنواعه كتالي                                                         المراجع تصنيف أجناس متساويات الأقدام',\n",
              " '201987: كيراموتي هي مدينة في كافالا في مقاطعة فوريا إلادا في اليونان معرض صور              مراجع تصنيف مدن اليونان',\n",
              " '204767: حميد فارس ممثل إماراتي إشتهر بشخصية فهد في مسلسل القياضة أعماله المسلسلات التلفزيونية القياضة الجزء الثاني القياضة الجزء الأول متعب القلب الجيران تصنيف ممثلون إماراتيون',\n",
              " '416352: ور جنس حشرات خنفسية من فصيلة الخنافس الأرضية تحتوي على الأنواع التالية                                                                                                                                                                                                                   المراجع تصنيف خنافس وصفت في تصنيف سفجورية']"
            ]
          },
          "execution_count": 28,
          "metadata": {},
          "output_type": "execute_result"
        }
      ],
      "source": [
        "[f'{i}: {sentences[i]}' for i in I[0]]"
      ]
    },
    {
      "cell_type": "code",
      "execution_count": null,
      "metadata": {
        "colab": {
          "base_uri": "https://localhost:8080/"
        },
        "id": "euOS2mIN75Pu",
        "outputId": "0eb39b83-d634-43f3-8b8a-8290d20822e3"
      },
      "outputs": [
        {
          "data": {
            "text/plain": [
              "False"
            ]
          },
          "execution_count": 29,
          "metadata": {},
          "output_type": "execute_result"
        }
      ],
      "source": [
        "index = faiss.index_factory(d, \"IVF100,Flat\")\n",
        "index.nprobe = 10\n",
        "index.is_trained"
      ]
    },
    {
      "cell_type": "code",
      "execution_count": null,
      "metadata": {
        "colab": {
          "base_uri": "https://localhost:8080/"
        },
        "id": "tA0uC6EJ8KNI",
        "outputId": "60f2b063-8e43-45ba-c919-43a7f470cb77"
      },
      "outputs": [
        {
          "data": {
            "text/plain": [
              "True"
            ]
          },
          "execution_count": 30,
          "metadata": {},
          "output_type": "execute_result"
        }
      ],
      "source": [
        "index.train(sentence_embeddings)\n",
        "index.is_trained"
      ]
    },
    {
      "cell_type": "code",
      "execution_count": null,
      "metadata": {
        "colab": {
          "base_uri": "https://localhost:8080/"
        },
        "id": "mzbKBpLA8L2y",
        "outputId": "ed32762c-e4d8-40a9-c9bf-d8ab040190f9"
      },
      "outputs": [
        {
          "data": {
            "text/plain": [
              "500000"
            ]
          },
          "execution_count": 31,
          "metadata": {},
          "output_type": "execute_result"
        }
      ],
      "source": [
        "index.add(sentence_embeddings)\n",
        "index.ntotal"
      ]
    },
    {
      "cell_type": "code",
      "execution_count": null,
      "metadata": {
        "colab": {
          "base_uri": "https://localhost:8080/"
        },
        "id": "Ebb1OfHs8QDA",
        "outputId": "88135f82-5b48-4f3a-853e-81f2479ff5f1"
      },
      "outputs": [
        {
          "name": "stdout",
          "output_type": "stream",
          "text": [
            "[[242796 483829 151213 332406 448423 292629 220081 497713 168194 331482]]\n",
            "CPU times: user 41.2 ms, sys: 1 µs, total: 41.2 ms\n",
            "Wall time: 41.1 ms\n"
          ]
        }
      ],
      "source": [
        "%%time\n",
        "D, I = index.search(xq, k)\n",
        "print(I)"
      ]
    },
    {
      "cell_type": "code",
      "execution_count": null,
      "metadata": {
        "colab": {
          "base_uri": "https://localhost:8080/"
        },
        "id": "GGhQJfcggod6",
        "outputId": "7def2e75-0e9c-4817-b807-ecf8b3e2b249"
      },
      "outputs": [
        {
          "data": {
            "text/plain": [
              "['242796:                                                                                                                                                                                                                               لغة ايبيرية                                                                                                                                                                                                                                                                                                                                                                                                                                                                                                                                                                                                          تصنيف أيزو',\n",
              " '483829: إيان كاري هو ودي جيه أمريكي ولد في سبتمبر في بالتيمور في الولايات المتحدة',\n",
              " '151213:                        لاهندا                                                                                                           لغة الإشارة الليبية                                                                   لغة لادان                                                                                                                                                                                                                                                            لغة لكي                                                                                                                                                                                                                                                                                                                                                                                                                                                                                                                           تصنيف أيزو',\n",
              " '332406: يح الاسم العلمي  جنس حشرات من العث وتنتمي إلى فصيلة الليليات الأنواع                                                      المراجع          تصنيف ليليات',\n",
              " '448423: حسن أباد هي     تقع في فارس في إيران انظر أيضا قائمة مدن إيران مراجع تصنيف أماكن مأهولة في مقاطعة فيروز آباد',\n",
              " '292629: إرنست ديفيد هو ألماني ولد في مارس وتوفي في معرض صور              مراجع تصنيف مواليد تصنيف وفيات',\n",
              " '220081: وب جنس حشرات عثية من فصيلة الزخلوبيات أنواع مختارة             زخلوب العفص                              المراجع    تصنيف زخلوبيات',\n",
              " '497713:                                                                                                اليونانية الحديثة                                          اللغة المانينكية                                                                                                                                                                                                    لغة إتروية                                           إكستريمادوران              تصنيف أيزو',\n",
              " '168194:                                       لغة ناما                   نافاهو                                            لغة نديبلي جنوبية                                                                                                                                                                                                                                                                                                                                                                                                                                                                                                                                                                                                                                                                                                                                                                                                                                                                                                                                                                                   لغة نورن                                                     لغة سوثو شمالية                                                                                                                                                                                                                                                                                                                                    تصنيف أيزو',\n",
              " '331482: جنس فطريات من فصيلة الدشيات أنواعه نحو الأنواع                                           المراجع تصنيف دشيات']"
            ]
          },
          "execution_count": 33,
          "metadata": {},
          "output_type": "execute_result"
        }
      ],
      "source": [
        "[f'{i}: {sentences[i]}' for i in I[0]]"
      ]
    },
    {
      "cell_type": "code",
      "execution_count": null,
      "metadata": {
        "colab": {
          "base_uri": "https://localhost:8080/"
        },
        "id": "h9WAUHCP8T2J",
        "outputId": "72d86ce8-02f0-4d90-ef07-e6c0a1fa18f9"
      },
      "outputs": [
        {
          "data": {
            "text/plain": [
              "True"
            ]
          },
          "execution_count": 34,
          "metadata": {},
          "output_type": "execute_result"
        }
      ],
      "source": [
        "index = faiss.index_factory(d, \"HNSW3,Flat\")\n",
        "index.is_trained"
      ]
    },
    {
      "cell_type": "code",
      "execution_count": null,
      "metadata": {
        "colab": {
          "base_uri": "https://localhost:8080/"
        },
        "id": "3FgcMsPE-7y7",
        "outputId": "a278ec94-fc2d-4bfb-ebb6-11734a0dcf9b"
      },
      "outputs": [
        {
          "data": {
            "text/plain": [
              "500000"
            ]
          },
          "execution_count": 35,
          "metadata": {},
          "output_type": "execute_result"
        }
      ],
      "source": [
        "index.add(sentence_embeddings)\n",
        "index.ntotal"
      ]
    },
    {
      "cell_type": "code",
      "execution_count": null,
      "metadata": {
        "colab": {
          "base_uri": "https://localhost:8080/"
        },
        "id": "TaJtiu3w8ix7",
        "outputId": "ef950b12-30aa-49cd-cbc8-585ad1449c9c"
      },
      "outputs": [
        {
          "name": "stdout",
          "output_type": "stream",
          "text": [
            "[[117364 148618  21507 495796 409244 477534 457395 389428 131214 114478]]\n",
            "CPU times: user 2.69 ms, sys: 997 µs, total: 3.69 ms\n",
            "Wall time: 5.09 ms\n"
          ]
        }
      ],
      "source": [
        "%%time\n",
        "D, I = index.search(xq, k)\n",
        "print(I)"
      ]
    },
    {
      "cell_type": "code",
      "execution_count": null,
      "metadata": {
        "colab": {
          "base_uri": "https://localhost:8080/"
        },
        "id": "-thlL1n2h549",
        "outputId": "24e6c651-c6f7-47fb-fd0a-0141cbe8abfa"
      },
      "outputs": [
        {
          "data": {
            "text/plain": [
              "['117364: ريتشارد وارتون هو ممثل أمريكي ولد في أعمال أفلام المختلين السبعة العالم المظلم مراجع وصلات خارجية تصنيف ممثلو أفلام أمريكيون تصنيف ممثلو تلفزيون أمريكيون تصنيف ممثلو مسرح أمريكيون تصنيف مواليد',\n",
              " '148618: روي تومسون هو فلاح وسياسي بريطاني ولد في في انتخب وقد انضم خلال للكتلة البرلمانية الحزب الديمقراطي الاتحادي مراجع تصنيف فلاحون من أيرلندا الشمالية تصنيف مواليد',\n",
              " '21507: ريتشارد ألبرت هو نحات أمريكي ولد في أبريل في في الولايات المتحدة مراجع وصلات خارجية تصنيف فنانون أدائيون أمريكيون تصنيف مواليد تصنيف نحاتون ونحاتات أمريكيون',\n",
              " '495796: مات ريتش هو مجدف أمريكي ولد في أبريل مراجع وصلات خارجية تصنيف مجدفون أمريكيون تصنيف مواليد تصنيف فائزون بميداليات بطولة العالم للتجديف في الولايات المتحدة',\n",
              " '409244: آنا كيمبرلي هي لاعبة الاسكواش بريطانية ولدت في مارس في إبسوتش في المملكة المتحدة مراجع وصلات خارجية تصنيف رياضيون من إبسوتش تصنيف لاعبات اسكواش إنجليزيات تصنيف مواليد',\n",
              " '477534: ريتشارد ترافز هو ممثل أمريكي ولد في أبريل في الولايات المتحدة وتوفي في يوليو مراجع وصلات خارجية تصنيف ممثلو أفلام أمريكيون تصنيف ممثلون أمريكيون في القرن تصنيف مواليد تصنيف وفيات',\n",
              " '457395: روبرت بوث هو مجدف أسترالي ولد في مارس مراجع وصلات خارجية تصنيف مجدفون أستراليون تصنيف مجدفون أولمبيون من أستراليا تصنيف مجدفون في الألعاب الأولمبية الصيفية تصنيف مواليد',\n",
              " '389428: روبرت كونولي هو مخرج أسترالي ولد في في سيدني في أستراليا مراجع وصلات خارجية تصنيف مخرجو أفلام أستراليون تصنيف مواليد تصنيف حاصلون على ميدالية الذكرى المئوية',\n",
              " '131214: تيموثي روز هو ممثل أمريكي ولد في يوليو في الولايات المتحدة أعمال أفلام عودة الجيداي القوة تنهض مراجع وصلات خارجية تصنيف أشخاص من بيتسفيلد تصنيف ممثلون أمريكيون تصنيف مواليد',\n",
              " '114478: ريتشارد إس تايلور هو عالم عقيدة أمريكي ولد في مارس وتوفي في يونيو مراجع وصلات خارجية تصنيف لاهوتيون أمريكيون تصنيف مواليد تصنيف وفيات تصنيف أشخاص من كورنيليوس أوريغن']"
            ]
          },
          "execution_count": 37,
          "metadata": {},
          "output_type": "execute_result"
        }
      ],
      "source": [
        "[f'{i}: {sentences[i]}' for i in I[0]]"
      ]
    },
    {
      "cell_type": "code",
      "execution_count": null,
      "metadata": {
        "id": "BtOoumskBHzy"
      },
      "outputs": [],
      "source": [
        "from sentence_transformers import SentenceTransformer, util\n",
        "import numpy as np\n",
        "import torch\n"
      ]
    },
    {
      "cell_type": "code",
      "execution_count": null,
      "metadata": {
        "id": "tC582w5qBqxF"
      },
      "outputs": [],
      "source": [
        "%%time\n",
        "def semantic_search(query, top_k=3):\n",
        "\n",
        "    query_embedding = model.encode(query, convert_to_tensor=True)\n",
        "\n",
        "\n",
        "    query_embedding = query_embedding.cuda()\n",
        "    sentence_embeddings_gpu = torch.tensor(sentence_embeddings).cuda()\n",
        "\n",
        "    cosine_scores = util.pytorch_cos_sim(query_embedding, sentence_embeddings_gpu)[0]\n",
        "\n",
        "\n",
        "    top_results = np.argpartition(-cosine_scores.cpu().numpy(), range(top_k))[:top_k]\n",
        "    print(f\"Query: {query}\\nTop {top_k} most similar documents:\")\n",
        "    for idx in top_results:\n",
        "        print(f\"Document: {sentences[idx]}, Score: {cosine_scores[idx]:.4f}\")\n",
        "\n",
        "semantic_search(\"إيران\")\n"
      ]
    }
  ],
  "metadata": {
    "accelerator": "GPU",
    "colab": {
      "gpuType": "T4",
      "provenance": [],
      "include_colab_link": true
    },
    "kernelspec": {
      "display_name": "Python 3",
      "name": "python3"
    },
    "language_info": {
      "name": "python"
    },
    "widgets": {
      "application/vnd.jupyter.widget-state+json": {
        "3287d36cdac44b9a9867b059a717054d": {
          "model_module": "@jupyter-widgets/base",
          "model_module_version": "1.2.0",
          "model_name": "LayoutModel",
          "state": {
            "_model_module": "@jupyter-widgets/base",
            "_model_module_version": "1.2.0",
            "_model_name": "LayoutModel",
            "_view_count": null,
            "_view_module": "@jupyter-widgets/base",
            "_view_module_version": "1.2.0",
            "_view_name": "LayoutView",
            "align_content": null,
            "align_items": null,
            "align_self": null,
            "border": null,
            "bottom": null,
            "display": null,
            "flex": null,
            "flex_flow": null,
            "grid_area": null,
            "grid_auto_columns": null,
            "grid_auto_flow": null,
            "grid_auto_rows": null,
            "grid_column": null,
            "grid_gap": null,
            "grid_row": null,
            "grid_template_areas": null,
            "grid_template_columns": null,
            "grid_template_rows": null,
            "height": null,
            "justify_content": null,
            "justify_items": null,
            "left": null,
            "margin": null,
            "max_height": null,
            "max_width": null,
            "min_height": null,
            "min_width": null,
            "object_fit": null,
            "object_position": null,
            "order": null,
            "overflow": null,
            "overflow_x": null,
            "overflow_y": null,
            "padding": null,
            "right": null,
            "top": null,
            "visibility": null,
            "width": null
          }
        },
        "467f3ed2530a4b99a1bb8ec799771890": {
          "model_module": "@jupyter-widgets/controls",
          "model_module_version": "1.5.0",
          "model_name": "ProgressStyleModel",
          "state": {
            "_model_module": "@jupyter-widgets/controls",
            "_model_module_version": "1.5.0",
            "_model_name": "ProgressStyleModel",
            "_view_count": null,
            "_view_module": "@jupyter-widgets/base",
            "_view_module_version": "1.2.0",
            "_view_name": "StyleView",
            "bar_color": null,
            "description_width": ""
          }
        },
        "481eae2d808e44f9a9ec62e135b90ad9": {
          "model_module": "@jupyter-widgets/base",
          "model_module_version": "1.2.0",
          "model_name": "LayoutModel",
          "state": {
            "_model_module": "@jupyter-widgets/base",
            "_model_module_version": "1.2.0",
            "_model_name": "LayoutModel",
            "_view_count": null,
            "_view_module": "@jupyter-widgets/base",
            "_view_module_version": "1.2.0",
            "_view_name": "LayoutView",
            "align_content": null,
            "align_items": null,
            "align_self": null,
            "border": null,
            "bottom": null,
            "display": null,
            "flex": null,
            "flex_flow": null,
            "grid_area": null,
            "grid_auto_columns": null,
            "grid_auto_flow": null,
            "grid_auto_rows": null,
            "grid_column": null,
            "grid_gap": null,
            "grid_row": null,
            "grid_template_areas": null,
            "grid_template_columns": null,
            "grid_template_rows": null,
            "height": null,
            "justify_content": null,
            "justify_items": null,
            "left": null,
            "margin": null,
            "max_height": null,
            "max_width": null,
            "min_height": null,
            "min_width": null,
            "object_fit": null,
            "object_position": null,
            "order": null,
            "overflow": null,
            "overflow_x": null,
            "overflow_y": null,
            "padding": null,
            "right": null,
            "top": null,
            "visibility": null,
            "width": null
          }
        },
        "48a0a552682f473781aa73d48909fa50": {
          "model_module": "@jupyter-widgets/controls",
          "model_module_version": "1.5.0",
          "model_name": "HTMLModel",
          "state": {
            "_dom_classes": [],
            "_model_module": "@jupyter-widgets/controls",
            "_model_module_version": "1.5.0",
            "_model_name": "HTMLModel",
            "_view_count": null,
            "_view_module": "@jupyter-widgets/controls",
            "_view_module_version": "1.5.0",
            "_view_name": "HTMLView",
            "description": "",
            "description_tooltip": null,
            "layout": "IPY_MODEL_bd92dd4eb42a4df2a18101920e18f77e",
            "placeholder": "​",
            "style": "IPY_MODEL_cbb05a00134e4eddb3cfec5c115aab31",
            "value": " 3.20k/3.20k [00:00&lt;00:00, 139kB/s]"
          }
        },
        "6bba0fdffb8f4b46848a3131291e670d": {
          "model_module": "@jupyter-widgets/controls",
          "model_module_version": "1.5.0",
          "model_name": "HTMLModel",
          "state": {
            "_dom_classes": [],
            "_model_module": "@jupyter-widgets/controls",
            "_model_module_version": "1.5.0",
            "_model_name": "HTMLModel",
            "_view_count": null,
            "_view_module": "@jupyter-widgets/controls",
            "_view_module_version": "1.5.0",
            "_view_name": "HTMLView",
            "description": "",
            "description_tooltip": null,
            "layout": "IPY_MODEL_481eae2d808e44f9a9ec62e135b90ad9",
            "placeholder": "​",
            "style": "IPY_MODEL_acea4ed5394845608632545bef806a12",
            "value": "Downloading readme: 100%"
          }
        },
        "a188e58c4c24456a9c45bf81cefe5b51": {
          "model_module": "@jupyter-widgets/controls",
          "model_module_version": "1.5.0",
          "model_name": "FloatProgressModel",
          "state": {
            "_dom_classes": [],
            "_model_module": "@jupyter-widgets/controls",
            "_model_module_version": "1.5.0",
            "_model_name": "FloatProgressModel",
            "_view_count": null,
            "_view_module": "@jupyter-widgets/controls",
            "_view_module_version": "1.5.0",
            "_view_name": "ProgressView",
            "bar_style": "success",
            "description": "",
            "description_tooltip": null,
            "layout": "IPY_MODEL_d6b910151cb648ebaad5342e384b0299",
            "max": 3199,
            "min": 0,
            "orientation": "horizontal",
            "style": "IPY_MODEL_467f3ed2530a4b99a1bb8ec799771890",
            "value": 3199
          }
        },
        "acea4ed5394845608632545bef806a12": {
          "model_module": "@jupyter-widgets/controls",
          "model_module_version": "1.5.0",
          "model_name": "DescriptionStyleModel",
          "state": {
            "_model_module": "@jupyter-widgets/controls",
            "_model_module_version": "1.5.0",
            "_model_name": "DescriptionStyleModel",
            "_view_count": null,
            "_view_module": "@jupyter-widgets/base",
            "_view_module_version": "1.2.0",
            "_view_name": "StyleView",
            "description_width": ""
          }
        },
        "bd92dd4eb42a4df2a18101920e18f77e": {
          "model_module": "@jupyter-widgets/base",
          "model_module_version": "1.2.0",
          "model_name": "LayoutModel",
          "state": {
            "_model_module": "@jupyter-widgets/base",
            "_model_module_version": "1.2.0",
            "_model_name": "LayoutModel",
            "_view_count": null,
            "_view_module": "@jupyter-widgets/base",
            "_view_module_version": "1.2.0",
            "_view_name": "LayoutView",
            "align_content": null,
            "align_items": null,
            "align_self": null,
            "border": null,
            "bottom": null,
            "display": null,
            "flex": null,
            "flex_flow": null,
            "grid_area": null,
            "grid_auto_columns": null,
            "grid_auto_flow": null,
            "grid_auto_rows": null,
            "grid_column": null,
            "grid_gap": null,
            "grid_row": null,
            "grid_template_areas": null,
            "grid_template_columns": null,
            "grid_template_rows": null,
            "height": null,
            "justify_content": null,
            "justify_items": null,
            "left": null,
            "margin": null,
            "max_height": null,
            "max_width": null,
            "min_height": null,
            "min_width": null,
            "object_fit": null,
            "object_position": null,
            "order": null,
            "overflow": null,
            "overflow_x": null,
            "overflow_y": null,
            "padding": null,
            "right": null,
            "top": null,
            "visibility": null,
            "width": null
          }
        },
        "cbb05a00134e4eddb3cfec5c115aab31": {
          "model_module": "@jupyter-widgets/controls",
          "model_module_version": "1.5.0",
          "model_name": "DescriptionStyleModel",
          "state": {
            "_model_module": "@jupyter-widgets/controls",
            "_model_module_version": "1.5.0",
            "_model_name": "DescriptionStyleModel",
            "_view_count": null,
            "_view_module": "@jupyter-widgets/base",
            "_view_module_version": "1.2.0",
            "_view_name": "StyleView",
            "description_width": ""
          }
        },
        "d6b910151cb648ebaad5342e384b0299": {
          "model_module": "@jupyter-widgets/base",
          "model_module_version": "1.2.0",
          "model_name": "LayoutModel",
          "state": {
            "_model_module": "@jupyter-widgets/base",
            "_model_module_version": "1.2.0",
            "_model_name": "LayoutModel",
            "_view_count": null,
            "_view_module": "@jupyter-widgets/base",
            "_view_module_version": "1.2.0",
            "_view_name": "LayoutView",
            "align_content": null,
            "align_items": null,
            "align_self": null,
            "border": null,
            "bottom": null,
            "display": null,
            "flex": null,
            "flex_flow": null,
            "grid_area": null,
            "grid_auto_columns": null,
            "grid_auto_flow": null,
            "grid_auto_rows": null,
            "grid_column": null,
            "grid_gap": null,
            "grid_row": null,
            "grid_template_areas": null,
            "grid_template_columns": null,
            "grid_template_rows": null,
            "height": null,
            "justify_content": null,
            "justify_items": null,
            "left": null,
            "margin": null,
            "max_height": null,
            "max_width": null,
            "min_height": null,
            "min_width": null,
            "object_fit": null,
            "object_position": null,
            "order": null,
            "overflow": null,
            "overflow_x": null,
            "overflow_y": null,
            "padding": null,
            "right": null,
            "top": null,
            "visibility": null,
            "width": null
          }
        },
        "ebf4eae3824948d19311138bf14ce017": {
          "model_module": "@jupyter-widgets/controls",
          "model_module_version": "1.5.0",
          "model_name": "HBoxModel",
          "state": {
            "_dom_classes": [],
            "_model_module": "@jupyter-widgets/controls",
            "_model_module_version": "1.5.0",
            "_model_name": "HBoxModel",
            "_view_count": null,
            "_view_module": "@jupyter-widgets/controls",
            "_view_module_version": "1.5.0",
            "_view_name": "HBoxView",
            "box_style": "",
            "children": [
              "IPY_MODEL_6bba0fdffb8f4b46848a3131291e670d",
              "IPY_MODEL_a188e58c4c24456a9c45bf81cefe5b51",
              "IPY_MODEL_48a0a552682f473781aa73d48909fa50"
            ],
            "layout": "IPY_MODEL_3287d36cdac44b9a9867b059a717054d"
          }
        }
      }
    }
  },
  "nbformat": 4,
  "nbformat_minor": 0
}